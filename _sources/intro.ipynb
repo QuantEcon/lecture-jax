{
 "cells": [
  {
   "cell_type": "markdown",
   "id": "3d574c24",
   "metadata": {},
   "source": [
    "# Quantitative Economics with Python (JAX)\n",
    "\n",
    "This website presents a set of lectures on quantitative economic modeling, designed and written by\n",
    "[Thomas J. Sargent](http://www.tomsargent.com/) and [John Stachurski](https://johnstachurski.net/)\n",
    "specifically using [JAX](https://jax.readthedocs.io) and accelerating using the `GPU`.\n",
    "\n",
    "For an overview of the series, see [this page](https://quantecon.org/python-lectures/)\n",
    "\n",
    "```{tableofcontents}\n",
    "```"
   ]
  }
 ],
 "metadata": {
  "jupytext": {
   "text_representation": {
    "extension": ".md",
    "format_name": "myst"
   }
  },
  "kernelspec": {
   "display_name": "Python 3",
   "language": "python",
   "name": "python3"
  },
  "source_map": [
   10
  ]
 },
 "nbformat": 4,
 "nbformat_minor": 5
}