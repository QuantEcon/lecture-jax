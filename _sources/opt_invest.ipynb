{
 "cells": [
  {
   "cell_type": "markdown",
   "id": "b960f4ab",
   "metadata": {},
   "source": [
    "# Optimal Investment\n",
    "\n",
    "```{include} _admonition/gpu.md\n",
    "```\n",
    "\n",
    "We require the following library to be installed."
   ]
  },
  {
   "cell_type": "code",
   "execution_count": 1,
   "id": "f40c5de5",
   "metadata": {
    "tags": [
     "hide-output"
    ]
   },
   "outputs": [
    {
     "name": "stdout",
     "output_type": "stream",
     "text": [
      "Requirement already satisfied: quantecon in /opt/conda/envs/quantecon/lib/python3.10/site-packages (0.7.0)\r\n"
     ]
    },
    {
     "name": "stdout",
     "output_type": "stream",
     "text": [
      "Requirement already satisfied: numba>=0.49.0 in /opt/conda/envs/quantecon/lib/python3.10/site-packages (from quantecon) (0.56.4)\r\n",
      "Requirement already satisfied: numpy>=1.17.0 in /opt/conda/envs/quantecon/lib/python3.10/site-packages (from quantecon) (1.23.5)\r\n",
      "Requirement already satisfied: requests in /opt/conda/envs/quantecon/lib/python3.10/site-packages (from quantecon) (2.28.1)\r\n",
      "Requirement already satisfied: sympy in /opt/conda/envs/quantecon/lib/python3.10/site-packages (from quantecon) (1.11.1)\r\n",
      "Requirement already satisfied: scipy>=1.5.0 in /opt/conda/envs/quantecon/lib/python3.10/site-packages (from quantecon) (1.10.0)\r\n",
      "Requirement already satisfied: llvmlite<0.40,>=0.39.0dev0 in /opt/conda/envs/quantecon/lib/python3.10/site-packages (from numba>=0.49.0->quantecon) (0.39.1)\r\n",
      "Requirement already satisfied: setuptools in /opt/conda/envs/quantecon/lib/python3.10/site-packages (from numba>=0.49.0->quantecon) (65.6.3)\r\n"
     ]
    },
    {
     "name": "stdout",
     "output_type": "stream",
     "text": [
      "Requirement already satisfied: charset-normalizer<3,>=2 in /opt/conda/envs/quantecon/lib/python3.10/site-packages (from requests->quantecon) (2.0.4)\r\n",
      "Requirement already satisfied: certifi>=2017.4.17 in /opt/conda/envs/quantecon/lib/python3.10/site-packages (from requests->quantecon) (2022.12.7)\r\n",
      "Requirement already satisfied: urllib3<1.27,>=1.21.1 in /opt/conda/envs/quantecon/lib/python3.10/site-packages (from requests->quantecon) (1.26.14)\r\n",
      "Requirement already satisfied: idna<4,>=2.5 in /opt/conda/envs/quantecon/lib/python3.10/site-packages (from requests->quantecon) (3.4)\r\n",
      "Requirement already satisfied: mpmath>=0.19 in /opt/conda/envs/quantecon/lib/python3.10/site-packages/mpmath-1.2.1-py3.10.egg (from sympy->quantecon) (1.2.1)\r\n"
     ]
    },
    {
     "name": "stdout",
     "output_type": "stream",
     "text": [
      "\u001b[33mWARNING: Running pip as the 'root' user can result in broken permissions and conflicting behaviour with the system package manager. It is recommended to use a virtual environment instead: https://pip.pypa.io/warnings/venv\u001b[0m\u001b[33m\r\n",
      "\u001b[0m"
     ]
    }
   ],
   "source": [
    "!pip install --upgrade quantecon"
   ]
  },
  {
   "cell_type": "markdown",
   "id": "b57dbe64",
   "metadata": {},
   "source": [
    "A monopolist faces inverse demand\n",
    "curve\n",
    "\n",
    "$$\n",
    "P_t = a_0 - a_1 Y_t + Z_t,\n",
    "$$\n",
    "\n",
    "where\n",
    "\n",
    "* $P_t$ is price,\n",
    "* $Y_t$ is output and\n",
    "* $Z_t$ is a demand shock.\n",
    "\n",
    "We assume that $Z_t$ is a discretized AR(1) process.\n",
    "\n",
    "Current profits are\n",
    "\n",
    "$$ P_t Y_t - c Y_t - \\gamma (Y_{t+1} - Y_t)^2 $$\n",
    "\n",
    "Combining with the demand curve and writing $y, y'$ for $Y_t, Y_{t+1}$, this becomes\n",
    "\n",
    "$$    r(y, z, y′) := (a_0 - a_1  y + z - c) y - γ  (y′ - y)^2 $$\n",
    "\n",
    "The firm maximizes present value of expected discounted profits.  The Bellman equation is\n",
    "\n",
    "$$   v(y, z) = \\max_{y'} \\left\\{ r(y, z, y′) + β \\sum_{z′} v(y′, z′) Q(z, z′) \\right\\}. $$\n",
    "\n",
    "We discretize $y$ to a finite grid `y_grid`.\n",
    "\n",
    "In essence, the firm tries to choose output close to the monopolist profit maximizer, given $Z_t$, but is constrained by adjustment costs.\n",
    "\n",
    "Let's begin with the following imports"
   ]
  },
  {
   "cell_type": "code",
   "execution_count": 2,
   "id": "9850d327",
   "metadata": {},
   "outputs": [],
   "source": [
    "import quantecon as qe\n",
    "import jax\n",
    "import jax.numpy as jnp\n",
    "import matplotlib.pyplot as plt"
   ]
  },
  {
   "cell_type": "markdown",
   "id": "d176fdb3",
   "metadata": {},
   "source": [
    "Let's check the GPU we are running"
   ]
  },
  {
   "cell_type": "code",
   "execution_count": 3,
   "id": "821e1a3e",
   "metadata": {},
   "outputs": [
    {
     "name": "stdout",
     "output_type": "stream",
     "text": [
      "Tue May 16 11:19:06 2023       \r\n",
      "+-----------------------------------------------------------------------------+\r\n",
      "| NVIDIA-SMI 470.182.03   Driver Version: 470.182.03   CUDA Version: 12.1     |\r\n",
      "|-------------------------------+----------------------+----------------------+\r\n",
      "| GPU  Name        Persistence-M| Bus-Id        Disp.A | Volatile Uncorr. ECC |\r\n",
      "| Fan  Temp  Perf  Pwr:Usage/Cap|         Memory-Usage | GPU-Util  Compute M. |\r\n",
      "|                               |                      |               MIG M. |\r\n",
      "|===============================+======================+======================|\r\n"
     ]
    },
    {
     "name": "stdout",
     "output_type": "stream",
     "text": [
      "|   0  Tesla V100-SXM2...  Off  | 00000000:00:1E.0 Off |                    0 |\r\n",
      "| N/A   30C    P0    38W / 300W |      0MiB / 16160MiB |      2%      Default |\r\n",
      "|                               |                      |                  N/A |\r\n",
      "+-------------------------------+----------------------+----------------------+\r\n",
      "                                                                               \r\n",
      "+-----------------------------------------------------------------------------+\r\n",
      "| Processes:                                                                  |\r\n",
      "|  GPU   GI   CI        PID   Type   Process name                  GPU Memory |\r\n",
      "|        ID   ID                                                   Usage      |\r\n",
      "|=============================================================================|\r\n",
      "|  No running processes found                                                 |\r\n",
      "+-----------------------------------------------------------------------------+\r\n"
     ]
    }
   ],
   "source": [
    "!nvidia-smi"
   ]
  },
  {
   "cell_type": "markdown",
   "id": "16f0453f",
   "metadata": {},
   "source": [
    "We will use 64 bit floats with JAX in order to increase the precision."
   ]
  },
  {
   "cell_type": "code",
   "execution_count": 4,
   "id": "9af607ca",
   "metadata": {},
   "outputs": [],
   "source": [
    "jax.config.update(\"jax_enable_x64\", True)"
   ]
  },
  {
   "cell_type": "markdown",
   "id": "a1440a48",
   "metadata": {},
   "source": [
    "We need the following successive approximation function."
   ]
  },
  {
   "cell_type": "code",
   "execution_count": 5,
   "id": "8f6bc8c3",
   "metadata": {},
   "outputs": [],
   "source": [
    "def successive_approx(T,                     # Operator (callable)\n",
    "                      x_0,                   # Initial condition\n",
    "                      tolerance=1e-6,        # Error tolerance\n",
    "                      max_iter=10_000,       # Max iteration bound\n",
    "                      print_step=25,         # Print at multiples\n",
    "                      verbose=False):\n",
    "    x = x_0\n",
    "    error = tolerance + 1\n",
    "    k = 1\n",
    "    while error > tolerance and k <= max_iter:\n",
    "        x_new = T(x)\n",
    "        error = jnp.max(jnp.abs(x_new - x))\n",
    "        if verbose and k % print_step == 0:\n",
    "            print(f\"Completed iteration {k} with error {error}.\")\n",
    "        x = x_new\n",
    "        k += 1\n",
    "    if error > tolerance:\n",
    "        print(f\"Warning: Iteration hit upper bound {max_iter}.\")\n",
    "    elif verbose:\n",
    "        print(f\"Terminated successfully in {k} iterations.\")\n",
    "    return x"
   ]
  },
  {
   "cell_type": "markdown",
   "id": "b7688150",
   "metadata": {},
   "source": [
    "Let's define a function to create an investment model using the given parameters."
   ]
  },
  {
   "cell_type": "code",
   "execution_count": 6,
   "id": "6dde31a3",
   "metadata": {},
   "outputs": [],
   "source": [
    "def create_investment_model(\n",
    "        r=0.01,                              # Interest rate\n",
    "        a_0=10.0, a_1=1.0,                   # Demand parameters\n",
    "        γ=25.0, c=1.0,                       # Adjustment and unit cost\n",
    "        y_min=0.0, y_max=20.0, y_size=100,   # Grid for output\n",
    "        ρ=0.9, ν=1.0,                        # AR(1) parameters\n",
    "        z_size=150):                         # Grid size for shock\n",
    "    \"\"\"\n",
    "    A function that takes in parameters and returns an instance of Model that\n",
    "    contains data for the investment problem.\n",
    "    \"\"\"\n",
    "    β = 1 / (1 + r)\n",
    "    y_grid = jnp.linspace(y_min, y_max, y_size)\n",
    "    mc = qe.tauchen(z_size, ρ, ν)\n",
    "    z_grid, Q = mc.state_values, mc.P\n",
    "\n",
    "    # Break up parameters into static and nonstatic components\n",
    "    constants = β, a_0, a_1, γ, c\n",
    "    sizes = y_size, z_size\n",
    "    arrays = y_grid, z_grid, Q\n",
    "\n",
    "    # Shift arrays to the device (e.g., GPU)\n",
    "    arrays = tuple(map(jax.device_put, arrays))\n",
    "    return constants, sizes, arrays"
   ]
  },
  {
   "cell_type": "markdown",
   "id": "dc615849",
   "metadata": {},
   "source": [
    "Let's re-write the vectorized version of the right-hand side of the\n",
    "Bellman equation (before maximization), which is a 3D array representing:\n",
    "\n",
    "$$\n",
    "  B(y, z, y') = r(y, z, y') + \\beta \\sum_{z'} v(y', z') Q(z, z')\n",
    "$$\n",
    "\n",
    "for all $(y, z, y')$."
   ]
  },
  {
   "cell_type": "code",
   "execution_count": 7,
   "id": "cc6a145c",
   "metadata": {},
   "outputs": [],
   "source": [
    "def B(v, constants, sizes, arrays):\n",
    "    \"\"\"\n",
    "    A vectorized version of the right-hand side of the Bellman equation\n",
    "    (before maximization)\n",
    "    \"\"\"\n",
    "\n",
    "    # Unpack\n",
    "    β, a_0, a_1, γ, c = constants\n",
    "    y_size, z_size = sizes\n",
    "    y_grid, z_grid, Q = arrays\n",
    "\n",
    "    # Compute current rewards r(y, z, yp) as array r[i, j, ip]\n",
    "    y  = jnp.reshape(y_grid, (y_size, 1, 1))    # y[i]   ->  y[i, j, ip]\n",
    "    z  = jnp.reshape(z_grid, (1, z_size, 1))    # z[j]   ->  z[i, j, ip]\n",
    "    yp = jnp.reshape(y_grid, (1, 1, y_size))    # yp[ip] -> yp[i, j, ip]\n",
    "    r = (a_0 - a_1 * y + z - c) * y - γ * (yp - y)**2\n",
    "\n",
    "    # Calculate continuation rewards at all combinations of (y, z, yp)\n",
    "    v = jnp.reshape(v, (1, 1, y_size, z_size))  # v[ip, jp] -> v[i, j, ip, jp]\n",
    "    Q = jnp.reshape(Q, (1, z_size, 1, z_size))  # Q[j, jp]  -> Q[i, j, ip, jp]\n",
    "    EV = jnp.sum(v * Q, axis=3)                 # sum over last index jp\n",
    "\n",
    "    # Compute the right-hand side of the Bellman equation\n",
    "    return r + β * EV\n",
    "\n",
    "# Create a jitted function\n",
    "B = jax.jit(B, static_argnums=(2,))"
   ]
  },
  {
   "cell_type": "markdown",
   "id": "bcf9b5cf",
   "metadata": {},
   "source": [
    "Define a function to compute the current rewards given policy $\\sigma$."
   ]
  },
  {
   "cell_type": "code",
   "execution_count": 8,
   "id": "403d57e3",
   "metadata": {},
   "outputs": [],
   "source": [
    "def compute_r_σ(σ, constants, sizes, arrays):\n",
    "    \"\"\"\n",
    "    Compute the array r_σ[i, j] = r[i, j, σ[i, j]], which gives current\n",
    "    rewards given policy σ.\n",
    "    \"\"\"\n",
    "\n",
    "    # Unpack model\n",
    "    β, a_0, a_1, γ, c = constants\n",
    "    y_size, z_size = sizes\n",
    "    y_grid, z_grid, Q = arrays\n",
    "\n",
    "    # Compute r_σ[i, j]\n",
    "    y = jnp.reshape(y_grid, (y_size, 1))\n",
    "    z = jnp.reshape(z_grid, (1, z_size))\n",
    "    yp = y_grid[σ]\n",
    "    r_σ = (a_0 - a_1 * y + z - c) * y - γ * (yp - y)**2\n",
    "\n",
    "    return r_σ\n",
    "\n",
    "\n",
    "# Create the jitted function\n",
    "compute_r_σ = jax.jit(compute_r_σ, static_argnums=(2,))"
   ]
  },
  {
   "cell_type": "markdown",
   "id": "ffc3cb9f",
   "metadata": {},
   "source": [
    "Define the Bellman operator."
   ]
  },
  {
   "cell_type": "code",
   "execution_count": 9,
   "id": "a61a12b7",
   "metadata": {},
   "outputs": [],
   "source": [
    "def T(v, constants, sizes, arrays):\n",
    "    \"\"\"The Bellman operator.\"\"\"\n",
    "    return jnp.max(B(v, constants, sizes, arrays), axis=2)\n",
    "\n",
    "T = jax.jit(T, static_argnums=(2,))"
   ]
  },
  {
   "cell_type": "markdown",
   "id": "f4fa6065",
   "metadata": {},
   "source": [
    "The following function computes a v-greedy policy."
   ]
  },
  {
   "cell_type": "code",
   "execution_count": 10,
   "id": "bb4e98cb",
   "metadata": {},
   "outputs": [],
   "source": [
    "def get_greedy(v, constants, sizes, arrays):\n",
    "    \"Computes a v-greedy policy, returned as a set of indices.\"\n",
    "    return jnp.argmax(B(v, constants, sizes, arrays), axis=2)\n",
    "\n",
    "get_greedy = jax.jit(get_greedy, static_argnums=(2,))"
   ]
  },
  {
   "cell_type": "markdown",
   "id": "fbf5b03d",
   "metadata": {},
   "source": [
    "Define the $\\sigma$-policy operator."
   ]
  },
  {
   "cell_type": "code",
   "execution_count": 11,
   "id": "a5044320",
   "metadata": {},
   "outputs": [],
   "source": [
    "def T_σ(v, σ, constants, sizes, arrays):\n",
    "    \"\"\"The σ-policy operator.\"\"\"\n",
    "\n",
    "    # Unpack model\n",
    "    β, a_0, a_1, γ, c = constants\n",
    "    y_size, z_size = sizes\n",
    "    y_grid, z_grid, Q = arrays\n",
    "\n",
    "    r_σ = compute_r_σ(σ, constants, sizes, arrays)\n",
    "\n",
    "    # Compute the array v[σ[i, j], jp]\n",
    "    zp_idx = jnp.arange(z_size)\n",
    "    zp_idx = jnp.reshape(zp_idx, (1, 1, z_size))\n",
    "    σ = jnp.reshape(σ, (y_size, z_size, 1))\n",
    "    V = v[σ, zp_idx]\n",
    "\n",
    "    # Convert Q[j, jp] to Q[i, j, jp]\n",
    "    Q = jnp.reshape(Q, (1, z_size, z_size))\n",
    "\n",
    "    # Calculate the expected sum Σ_jp v[σ[i, j], jp] * Q[i, j, jp]\n",
    "    Ev = jnp.sum(V * Q, axis=2)\n",
    "\n",
    "    return r_σ + β * jnp.sum(V * Q, axis=2)\n",
    "\n",
    "T_σ = jax.jit(T_σ, static_argnums=(3,))"
   ]
  },
  {
   "cell_type": "markdown",
   "id": "09dd9628",
   "metadata": {},
   "source": [
    "Next, we want to computes the lifetime value of following policy $\\sigma$.\n",
    "\n",
    "The basic problem is to solve the linear system\n",
    "\n",
    "$$ v(y, z) = r(y, z, \\sigma(y, z)) + \\beta \\sum_{z'} v(\\sigma(y, z), z') Q(z, z) $$\n",
    "\n",
    "for $v$.\n",
    "\n",
    "It turns out to be helpful to rewrite this as\n",
    "\n",
    "$$ v(y, z) = r(y, z, \\sigma(y, z)) + \\beta \\sum_{y', z'} v(y', z') P_\\sigma(y, z, y', z') $$\n",
    "\n",
    "where $P_\\sigma(y, z, y', z') = 1\\{y' = \\sigma(y, z)\\} Q(z, z')$.\n",
    "\n",
    "We want to write this as $v = r_\\sigma + \\beta P_\\sigma v$ and then solve for $v$\n",
    "\n",
    "Note, however, that $v$ is a multi-index array, rather than a vector.\n",
    "\n",
    "\n",
    "The value $v_{\\sigma}$ of a policy $\\sigma$ is defined as\n",
    "\n",
    "$$\n",
    "        v_{\\sigma} = (I - \\beta P_{\\sigma})^{-1} r_{\\sigma}\n",
    "$$\n",
    "\n",
    "Here we set up the linear map $v \\mapsto R_{\\sigma} v$,\n",
    "\n",
    "where $R_{\\sigma} := I - \\beta P_{\\sigma}$\n",
    "\n",
    "In the investment problem, this map can be expressed as\n",
    "\n",
    "$$\n",
    "    (R_{\\sigma} v)(y, z) = v(y, z) - \\beta \\sum_{z'} v(\\sigma(y, z), z') Q(z, z')\n",
    "$$\n",
    "\n",
    "Defining the map as above works in a more intuitive multi-index setting\n",
    "(e.g. working with $v[i, j]$ rather than flattening v to a one-dimensional\n",
    "array) and avoids instantiating the large matrix $P_{\\sigma}$.\n",
    "\n",
    "Let's define the function $R_{\\sigma}$."
   ]
  },
  {
   "cell_type": "code",
   "execution_count": 12,
   "id": "ecce7fee",
   "metadata": {},
   "outputs": [],
   "source": [
    "def R_σ(v, σ, constants, sizes, arrays):\n",
    "\n",
    "    β, a_0, a_1, γ, c = constants\n",
    "    y_size, z_size = sizes\n",
    "    y_grid, z_grid, Q = arrays\n",
    "\n",
    "    # Set up the array v[σ[i, j], jp]\n",
    "    zp_idx = jnp.arange(z_size)\n",
    "    zp_idx = jnp.reshape(zp_idx, (1, 1, z_size))\n",
    "    σ = jnp.reshape(σ, (y_size, z_size, 1))\n",
    "    V = v[σ, zp_idx]\n",
    "\n",
    "    # Expand Q[j, jp] to Q[i, j, jp]\n",
    "    Q = jnp.reshape(Q, (1, z_size, z_size))\n",
    "\n",
    "    # Compute and return v[i, j] - β Σ_jp v[σ[i, j], jp] * Q[j, jp]\n",
    "    return v - β * jnp.sum(V * Q, axis=2)\n",
    "\n",
    "R_σ = jax.jit(R_σ, static_argnums=(3,))"
   ]
  },
  {
   "cell_type": "markdown",
   "id": "992a7da9",
   "metadata": {},
   "source": [
    "Define a function to get the value $v_{\\sigma}$ of policy\n",
    "$\\sigma$ by inverting the linear map $R_{\\sigma}$."
   ]
  },
  {
   "cell_type": "code",
   "execution_count": 13,
   "id": "6dd3d013",
   "metadata": {},
   "outputs": [],
   "source": [
    "def get_value(σ, constants, sizes, arrays):\n",
    "\n",
    "    # Unpack\n",
    "    β, a_0, a_1, γ, c = constants\n",
    "    y_size, z_size = sizes\n",
    "    y_grid, z_grid, Q = arrays\n",
    "\n",
    "    r_σ = compute_r_σ(σ, constants, sizes, arrays)\n",
    "\n",
    "    # Reduce R_σ to a function in v\n",
    "    partial_R_σ = lambda v: R_σ(v, σ, constants, sizes, arrays)\n",
    "\n",
    "    return jax.scipy.sparse.linalg.bicgstab(partial_R_σ, r_σ)[0]\n",
    "\n",
    "get_value = jax.jit(get_value, static_argnums=(2,))"
   ]
  },
  {
   "cell_type": "markdown",
   "id": "40b4263d",
   "metadata": {},
   "source": [
    "Now we define the solvers, which implement VFI, HPI and OPI."
   ]
  },
  {
   "cell_type": "code",
   "execution_count": 14,
   "id": "a06f6164",
   "metadata": {},
   "outputs": [],
   "source": [
    "# Implements VFI-Value Function iteration\n",
    "\n",
    "def value_iteration(model, tol=1e-5):\n",
    "    constants, sizes, arrays = model\n",
    "    _T = lambda v: T(v, constants, sizes, arrays)\n",
    "    vz = jnp.zeros(sizes)\n",
    "\n",
    "    v_star = successive_approx(_T, vz, tolerance=tol)\n",
    "    return get_greedy(v_star, constants, sizes, arrays)"
   ]
  },
  {
   "cell_type": "code",
   "execution_count": 15,
   "id": "98d22207",
   "metadata": {},
   "outputs": [],
   "source": [
    "# Implements HPI-Howard policy iteration routine\n",
    "\n",
    "def policy_iteration(model, maxiter=250):\n",
    "    constants, sizes, arrays = model\n",
    "    vz = jnp.zeros(sizes)\n",
    "    σ = jnp.zeros(sizes, dtype=int)\n",
    "    i, error = 0, 1.0\n",
    "    while error > 0 and i < maxiter:\n",
    "        v_σ = get_value(σ, constants, sizes, arrays)\n",
    "        σ_new = get_greedy(v_σ, constants, sizes, arrays)\n",
    "        error = jnp.max(jnp.abs(σ_new - σ))\n",
    "        σ = σ_new\n",
    "        i = i + 1\n",
    "        print(f\"Concluded loop {i} with error {error}.\")\n",
    "    return σ"
   ]
  },
  {
   "cell_type": "code",
   "execution_count": 16,
   "id": "8ad79f78",
   "metadata": {},
   "outputs": [],
   "source": [
    "# Implements the OPI-Optimal policy Iteration routine\n",
    "\n",
    "def optimistic_policy_iteration(model, tol=1e-5, m=10):\n",
    "    constants, sizes, arrays = model\n",
    "    v = jnp.zeros(sizes)\n",
    "    error = tol + 1\n",
    "    while error > tol:\n",
    "        last_v = v\n",
    "        σ = get_greedy(v, constants, sizes, arrays)\n",
    "        for _ in range(m):\n",
    "            v = T_σ(v, σ, constants, sizes, arrays)\n",
    "        error = jnp.max(jnp.abs(v - last_v))\n",
    "    return get_greedy(v, constants, sizes, arrays)"
   ]
  },
  {
   "cell_type": "code",
   "execution_count": 17,
   "id": "2d19eaee",
   "metadata": {
    "tags": [
     "hide-output"
    ]
   },
   "outputs": [
    {
     "name": "stdout",
     "output_type": "stream",
     "text": [
      "Starting HPI.\n"
     ]
    },
    {
     "name": "stdout",
     "output_type": "stream",
     "text": [
      "Concluded loop 1 with error 50.\n",
      "Concluded loop 2 with error 26.\n",
      "Concluded loop 3 with error 17.\n",
      "Concluded loop 4 with error 10.\n",
      "Concluded loop 5 with error 7.\n",
      "Concluded loop 6 with error 4.\n",
      "Concluded loop 7 with error 3.\n",
      "Concluded loop 8 with error 1.\n",
      "Concluded loop 9 with error 1.\n",
      "Concluded loop 10 with error 1.\n",
      "Concluded loop 11 with error 1.\n",
      "Concluded loop 12 with error 0.\n",
      "TOC: Elapsed: 0:00:1.29\n",
      "[[ 2  2  2 ...  6  6  6]\n",
      " [ 3  3  3 ...  7  7  7]\n",
      " [ 4  4  4 ...  7  7  7]\n",
      " ...\n",
      " [82 82 82 ... 86 86 86]\n",
      " [83 83 83 ... 86 86 86]\n",
      " [84 84 84 ... 87 87 87]]\n",
      "HPI completed in 1.2960374355316162 seconds.\n"
     ]
    }
   ],
   "source": [
    "model = create_investment_model()\n",
    "print(\"Starting HPI.\")\n",
    "qe.tic()\n",
    "out = policy_iteration(model)\n",
    "elapsed = qe.toc()\n",
    "print(out)\n",
    "print(f\"HPI completed in {elapsed} seconds.\")"
   ]
  },
  {
   "cell_type": "code",
   "execution_count": 18,
   "id": "f248b87f",
   "metadata": {
    "tags": [
     "hide-output"
    ]
   },
   "outputs": [
    {
     "name": "stdout",
     "output_type": "stream",
     "text": [
      "Starting VFI.\n"
     ]
    },
    {
     "name": "stdout",
     "output_type": "stream",
     "text": [
      "TOC: Elapsed: 0:00:1.76\n",
      "[[ 2  2  2 ...  6  6  6]\n",
      " [ 3  3  3 ...  7  7  7]\n",
      " [ 4  4  4 ...  7  7  7]\n",
      " ...\n",
      " [82 82 82 ... 86 86 86]\n",
      " [83 83 83 ... 86 86 86]\n",
      " [84 84 84 ... 87 87 87]]\n",
      "VFI completed in 1.7647931575775146 seconds.\n"
     ]
    }
   ],
   "source": [
    "print(\"Starting VFI.\")\n",
    "qe.tic()\n",
    "out = value_iteration(model)\n",
    "elapsed = qe.toc()\n",
    "print(out)\n",
    "print(f\"VFI completed in {elapsed} seconds.\")"
   ]
  },
  {
   "cell_type": "code",
   "execution_count": 19,
   "id": "d8ee4504",
   "metadata": {
    "tags": [
     "hide-output"
    ]
   },
   "outputs": [
    {
     "name": "stdout",
     "output_type": "stream",
     "text": [
      "Starting OPI.\n"
     ]
    },
    {
     "name": "stdout",
     "output_type": "stream",
     "text": [
      "TOC: Elapsed: 0:00:0.85\n",
      "[[ 2  2  2 ...  6  6  6]\n",
      " [ 3  3  3 ...  7  7  7]\n",
      " [ 4  4  4 ...  7  7  7]\n",
      " ...\n",
      " [82 82 82 ... 86 86 86]\n",
      " [83 83 83 ... 86 86 86]\n",
      " [84 84 84 ... 87 87 87]]\n",
      "OPI completed in 0.8520045280456543 seconds.\n"
     ]
    }
   ],
   "source": [
    "print(\"Starting OPI.\")\n",
    "qe.tic()\n",
    "out = optimistic_policy_iteration(model, m=100)\n",
    "elapsed = qe.toc()\n",
    "print(out)\n",
    "print(f\"OPI completed in {elapsed} seconds.\")"
   ]
  },
  {
   "cell_type": "markdown",
   "id": "3e5a293d",
   "metadata": {},
   "source": [
    "Here's the plot of the Howard policy, as a function of $y$ at the highest and lowest values of $z$."
   ]
  },
  {
   "cell_type": "code",
   "execution_count": 20,
   "id": "57760bf6",
   "metadata": {},
   "outputs": [],
   "source": [
    "model = create_investment_model()\n",
    "constants, sizes, arrays = model\n",
    "β, a_0, a_1, γ, c = constants\n",
    "y_size, z_size = sizes\n",
    "y_grid, z_grid, Q = arrays"
   ]
  },
  {
   "cell_type": "code",
   "execution_count": 21,
   "id": "fefe42ea",
   "metadata": {},
   "outputs": [
    {
     "name": "stdout",
     "output_type": "stream",
     "text": [
      "Concluded loop 1 with error 50.\n",
      "Concluded loop 2 with error 26.\n",
      "Concluded loop 3 with error 17.\n",
      "Concluded loop 4 with error 10.\n",
      "Concluded loop 5 with error 7.\n",
      "Concluded loop 6 with error 4.\n",
      "Concluded loop 7 with error 3.\n",
      "Concluded loop 8 with error 1.\n",
      "Concluded loop 9 with error 1.\n",
      "Concluded loop 10 with error 1.\n",
      "Concluded loop 11 with error 1.\n",
      "Concluded loop 12 with error 0.\n"
     ]
    },
    {
     "data": {
      "image/png": "[encoded data removed]",
      "text/plain": [
       "<Figure size 900x500 with 1 Axes>"
      ]
     },
     "metadata": {},
     "output_type": "display_data"
    }
   ],
   "source": [
    "σ_star = policy_iteration(model)\n",
    "\n",
    "fig, ax = plt.subplots(figsize=(9, 5))\n",
    "ax.plot(y_grid, y_grid, \"k--\", label=\"45\")\n",
    "ax.plot(y_grid, y_grid[σ_star[:, 1]], label=\"$\\\\sigma^*(\\cdot, z_1)$\")\n",
    "ax.plot(y_grid, y_grid[σ_star[:, -1]], label=\"$\\\\sigma^*(\\cdot, z_N)$\")\n",
    "ax.legend(fontsize=12)\n",
    "plt.show()"
   ]
  },
  {
   "cell_type": "markdown",
   "id": "2eda16e7",
   "metadata": {},
   "source": [
    "Let's plot the time taken by each of the solvers and compare them."
   ]
  },
  {
   "cell_type": "code",
   "execution_count": 22,
   "id": "754c4290",
   "metadata": {},
   "outputs": [],
   "source": [
    "m_vals = range(5, 3000, 100)"
   ]
  },
  {
   "cell_type": "code",
   "execution_count": 23,
   "id": "bf18efdf",
   "metadata": {},
   "outputs": [
    {
     "name": "stdout",
     "output_type": "stream",
     "text": [
      "Running Howard policy iteration.\n",
      "Concluded loop 1 with error 50.\n",
      "Concluded loop 2 with error 26.\n",
      "Concluded loop 3 with error 17.\n",
      "Concluded loop 4 with error 10.\n",
      "Concluded loop 5 with error 7.\n",
      "Concluded loop 6 with error 4.\n",
      "Concluded loop 7 with error 3.\n",
      "Concluded loop 8 with error 1.\n",
      "Concluded loop 9 with error 1.\n",
      "Concluded loop 10 with error 1.\n",
      "Concluded loop 11 with error 1.\n",
      "Concluded loop 12 with error 0.\n",
      "TOC: Elapsed: 0:00:0.05\n"
     ]
    }
   ],
   "source": [
    "model = create_investment_model()\n",
    "print(\"Running Howard policy iteration.\")\n",
    "qe.tic()\n",
    "σ_pi = policy_iteration(model)\n",
    "pi_time = qe.toc()"
   ]
  },
  {
   "cell_type": "code",
   "execution_count": 24,
   "id": "9a39b9fd",
   "metadata": {},
   "outputs": [
    {
     "name": "stdout",
     "output_type": "stream",
     "text": [
      "PI completed in 0.0528411865234375 seconds.\n",
      "Running value function iteration.\n"
     ]
    },
    {
     "name": "stdout",
     "output_type": "stream",
     "text": [
      "TOC: Elapsed: 0:00:1.35\n",
      "VFI completed in 1.3514623641967773 seconds.\n"
     ]
    }
   ],
   "source": [
    "print(f\"PI completed in {pi_time} seconds.\")\n",
    "print(\"Running value function iteration.\")\n",
    "qe.tic()\n",
    "σ_vfi = value_iteration(model, tol=1e-5)\n",
    "vfi_time = qe.toc()\n",
    "print(f\"VFI completed in {vfi_time} seconds.\")"
   ]
  },
  {
   "cell_type": "code",
   "execution_count": 25,
   "id": "7992bb73",
   "metadata": {
    "tags": [
     "hide-output"
    ]
   },
   "outputs": [
    {
     "name": "stdout",
     "output_type": "stream",
     "text": [
      "Running optimistic policy iteration with m=5.\n"
     ]
    },
    {
     "name": "stdout",
     "output_type": "stream",
     "text": [
      "TOC: Elapsed: 0:00:0.86\n",
      "OPI with m=5 completed in 0.8634014129638672 seconds.\n",
      "Running optimistic policy iteration with m=105.\n"
     ]
    },
    {
     "name": "stdout",
     "output_type": "stream",
     "text": [
      "TOC: Elapsed: 0:00:0.73\n",
      "OPI with m=105 completed in 0.7309751510620117 seconds.\n",
      "Running optimistic policy iteration with m=205.\n"
     ]
    },
    {
     "name": "stdout",
     "output_type": "stream",
     "text": [
      "TOC: Elapsed: 0:00:0.88\n",
      "OPI with m=205 completed in 0.8840572834014893 seconds.\n",
      "Running optimistic policy iteration with m=305.\n"
     ]
    },
    {
     "name": "stdout",
     "output_type": "stream",
     "text": [
      "TOC: Elapsed: 0:00:1.12\n",
      "OPI with m=305 completed in 1.1269941329956055 seconds.\n",
      "Running optimistic policy iteration with m=405.\n"
     ]
    },
    {
     "name": "stdout",
     "output_type": "stream",
     "text": [
      "TOC: Elapsed: 0:00:1.49\n",
      "OPI with m=405 completed in 1.4943037033081055 seconds.\n",
      "Running optimistic policy iteration with m=505.\n"
     ]
    },
    {
     "name": "stdout",
     "output_type": "stream",
     "text": [
      "TOC: Elapsed: 0:00:1.85\n",
      "OPI with m=505 completed in 1.850281000137329 seconds.\n",
      "Running optimistic policy iteration with m=605.\n"
     ]
    },
    {
     "name": "stdout",
     "output_type": "stream",
     "text": [
      "TOC: Elapsed: 0:00:2.17\n",
      "OPI with m=605 completed in 2.1740496158599854 seconds.\n",
      "Running optimistic policy iteration with m=705.\n"
     ]
    },
    {
     "name": "stdout",
     "output_type": "stream",
     "text": [
      "TOC: Elapsed: 0:00:2.60\n",
      "OPI with m=705 completed in 2.601797103881836 seconds.\n",
      "Running optimistic policy iteration with m=805.\n"
     ]
    },
    {
     "name": "stdout",
     "output_type": "stream",
     "text": [
      "TOC: Elapsed: 0:00:2.92\n",
      "OPI with m=805 completed in 2.924452543258667 seconds.\n",
      "Running optimistic policy iteration with m=905.\n"
     ]
    },
    {
     "name": "stdout",
     "output_type": "stream",
     "text": [
      "TOC: Elapsed: 0:00:3.31\n",
      "OPI with m=905 completed in 3.3116061687469482 seconds.\n",
      "Running optimistic policy iteration with m=1005.\n"
     ]
    },
    {
     "name": "stdout",
     "output_type": "stream",
     "text": [
      "TOC: Elapsed: 0:00:3.59\n",
      "OPI with m=1005 completed in 3.594308614730835 seconds.\n",
      "Running optimistic policy iteration with m=1105.\n"
     ]
    },
    {
     "name": "stdout",
     "output_type": "stream",
     "text": [
      "TOC: Elapsed: 0:00:3.96\n",
      "OPI with m=1105 completed in 3.9643759727478027 seconds.\n",
      "Running optimistic policy iteration with m=1205.\n"
     ]
    },
    {
     "name": "stdout",
     "output_type": "stream",
     "text": [
      "TOC: Elapsed: 0:00:4.35\n",
      "OPI with m=1205 completed in 4.35634183883667 seconds.\n",
      "Running optimistic policy iteration with m=1305.\n"
     ]
    },
    {
     "name": "stdout",
     "output_type": "stream",
     "text": [
      "TOC: Elapsed: 0:00:4.75\n",
      "OPI with m=1305 completed in 4.750000953674316 seconds.\n",
      "Running optimistic policy iteration with m=1405.\n"
     ]
    },
    {
     "name": "stdout",
     "output_type": "stream",
     "text": [
      "TOC: Elapsed: 0:00:5.10\n",
      "OPI with m=1405 completed in 5.107147216796875 seconds.\n",
      "Running optimistic policy iteration with m=1505.\n"
     ]
    },
    {
     "name": "stdout",
     "output_type": "stream",
     "text": [
      "TOC: Elapsed: 0:00:5.43\n",
      "OPI with m=1505 completed in 5.437077283859253 seconds.\n",
      "Running optimistic policy iteration with m=1605.\n"
     ]
    },
    {
     "name": "stdout",
     "output_type": "stream",
     "text": [
      "TOC: Elapsed: 0:00:5.86\n",
      "OPI with m=1605 completed in 5.867721796035767 seconds.\n",
      "Running optimistic policy iteration with m=1705.\n"
     ]
    },
    {
     "name": "stdout",
     "output_type": "stream",
     "text": [
      "TOC: Elapsed: 0:00:6.13\n",
      "OPI with m=1705 completed in 6.134829759597778 seconds.\n",
      "Running optimistic policy iteration with m=1805.\n"
     ]
    },
    {
     "name": "stdout",
     "output_type": "stream",
     "text": [
      "TOC: Elapsed: 0:00:6.49\n",
      "OPI with m=1805 completed in 6.491318941116333 seconds.\n",
      "Running optimistic policy iteration with m=1905.\n"
     ]
    },
    {
     "name": "stdout",
     "output_type": "stream",
     "text": [
      "TOC: Elapsed: 0:00:6.88\n",
      "OPI with m=1905 completed in 6.883513450622559 seconds.\n",
      "Running optimistic policy iteration with m=2005.\n"
     ]
    },
    {
     "name": "stdout",
     "output_type": "stream",
     "text": [
      "TOC: Elapsed: 0:00:7.19\n",
      "OPI with m=2005 completed in 7.19117283821106 seconds.\n",
      "Running optimistic policy iteration with m=2105.\n"
     ]
    },
    {
     "name": "stdout",
     "output_type": "stream",
     "text": [
      "TOC: Elapsed: 0:00:7.55\n",
      "OPI with m=2105 completed in 7.558959722518921 seconds.\n",
      "Running optimistic policy iteration with m=2205.\n"
     ]
    },
    {
     "name": "stdout",
     "output_type": "stream",
     "text": [
      "TOC: Elapsed: 0:00:7.89\n",
      "OPI with m=2205 completed in 7.899991273880005 seconds.\n",
      "Running optimistic policy iteration with m=2305.\n"
     ]
    },
    {
     "name": "stdout",
     "output_type": "stream",
     "text": [
      "TOC: Elapsed: 0:00:8.32\n",
      "OPI with m=2305 completed in 8.329355239868164 seconds.\n",
      "Running optimistic policy iteration with m=2405.\n"
     ]
    },
    {
     "name": "stdout",
     "output_type": "stream",
     "text": [
      "TOC: Elapsed: 0:00:8.68\n",
      "OPI with m=2405 completed in 8.682276964187622 seconds.\n",
      "Running optimistic policy iteration with m=2505.\n"
     ]
    },
    {
     "name": "stdout",
     "output_type": "stream",
     "text": [
      "TOC: Elapsed: 0:00:9.06\n",
      "OPI with m=2505 completed in 9.065165519714355 seconds.\n",
      "Running optimistic policy iteration with m=2605.\n"
     ]
    },
    {
     "name": "stdout",
     "output_type": "stream",
     "text": [
      "TOC: Elapsed: 0:00:9.35\n",
      "OPI with m=2605 completed in 9.351022720336914 seconds.\n",
      "Running optimistic policy iteration with m=2705.\n"
     ]
    },
    {
     "name": "stdout",
     "output_type": "stream",
     "text": [
      "TOC: Elapsed: 0:00:9.75\n",
      "OPI with m=2705 completed in 9.75821042060852 seconds.\n",
      "Running optimistic policy iteration with m=2805.\n"
     ]
    },
    {
     "name": "stdout",
     "output_type": "stream",
     "text": [
      "TOC: Elapsed: 0:00:10.16\n",
      "OPI with m=2805 completed in 10.165598154067993 seconds.\n",
      "Running optimistic policy iteration with m=2905.\n"
     ]
    },
    {
     "name": "stdout",
     "output_type": "stream",
     "text": [
      "TOC: Elapsed: 0:00:10.46\n",
      "OPI with m=2905 completed in 10.467242002487183 seconds.\n"
     ]
    }
   ],
   "source": [
    "opi_times = []\n",
    "for m in m_vals:\n",
    "    print(f\"Running optimistic policy iteration with m={m}.\")\n",
    "    qe.tic()\n",
    "    σ_opi = optimistic_policy_iteration(model, m=m, tol=1e-5)\n",
    "    opi_time = qe.toc()\n",
    "    print(f\"OPI with m={m} completed in {opi_time} seconds.\")\n",
    "    opi_times.append(opi_time)"
   ]
  },
  {
   "cell_type": "code",
   "execution_count": 26,
   "id": "3a599654",
   "metadata": {},
   "outputs": [
    {
     "data": {
      "image/png": "[encoded data removed]",
      "text/plain": [
       "<Figure size 900x500 with 1 Axes>"
      ]
     },
     "metadata": {},
     "output_type": "display_data"
    }
   ],
   "source": [
    "fig, ax = plt.subplots(figsize=(9, 5))\n",
    "ax.plot(m_vals, jnp.full(len(m_vals), pi_time),\n",
    "        lw=2, label=\"Howard policy iteration\")\n",
    "ax.plot(m_vals, jnp.full(len(m_vals), vfi_time),\n",
    "        lw=2, label=\"value function iteration\")\n",
    "ax.plot(m_vals, opi_times, lw=2, label=\"optimistic policy iteration\")\n",
    "ax.legend(fontsize=12, frameon=False)\n",
    "ax.set_xlabel(\"$m$\", fontsize=12)\n",
    "ax.set_ylabel(\"time(s)\", fontsize=12)\n",
    "plt.show()"
   ]
  }
 ],
 "metadata": {
  "jupytext": {
   "text_representation": {
    "extension": ".md",
    "format_name": "myst",
    "format_version": 0.13,
    "jupytext_version": "1.14.5"
   }
  },
  "kernelspec": {
   "display_name": "Python 3 (ipykernel)",
   "language": "python",
   "name": "python3"
  },
  "language_info": {
   "codemirror_mode": {
    "name": "ipython",
    "version": 3
   },
   "file_extension": ".py",
   "mimetype": "text/x-python",
   "name": "python",
   "nbconvert_exporter": "python",
   "pygments_lexer": "ipython3",
   "version": "3.10.9"
  },
  "source_map": [
   12,
   22,
   26,
   61,
   66,
   70,
   72,
   76,
   78,
   83,
   105,
   110,
   135,
   147,
   175,
   180,
   203,
   208,
   214,
   219,
   225,
   230,
   256,
   300,
   320,
   326,
   342,
   347,
   359,
   377,
   393,
   405,
   416,
   425,
   430,
   438,
   447,
   452,
   456,
   464,
   473,
   485
  ]
 },
 "nbformat": 4,
 "nbformat_minor": 5
}