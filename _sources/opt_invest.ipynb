{
 "cells": [
  {
   "cell_type": "markdown",
   "id": "016874d8",
   "metadata": {},
   "source": [
    "# Optimal Investment\n",
    "\n",
    "```{include} _admonition/gpu.md\n",
    "```\n",
    "\n",
    "We require the following library to be installed."
   ]
  },
  {
   "cell_type": "code",
   "execution_count": 1,
   "id": "5d957369",
   "metadata": {
    "tags": [
     "hide-output"
    ]
   },
   "outputs": [
    {
     "name": "stdout",
     "output_type": "stream",
     "text": [
      "Requirement already satisfied: quantecon in /opt/conda/envs/quantecon/lib/python3.11/site-packages (0.7.1)\r\n"
     ]
    },
    {
     "name": "stdout",
     "output_type": "stream",
     "text": [
      "Requirement already satisfied: numba>=0.49.0 in /opt/conda/envs/quantecon/lib/python3.11/site-packages (from quantecon) (0.57.1)\r\n",
      "Requirement already satisfied: numpy>=1.17.0 in /opt/conda/envs/quantecon/lib/python3.11/site-packages (from quantecon) (1.24.3)\r\n",
      "Requirement already satisfied: requests in /opt/conda/envs/quantecon/lib/python3.11/site-packages (from quantecon) (2.31.0)\r\n",
      "Requirement already satisfied: scipy>=1.5.0 in /opt/conda/envs/quantecon/lib/python3.11/site-packages (from quantecon) (1.11.1)\r\n",
      "Requirement already satisfied: sympy in /opt/conda/envs/quantecon/lib/python3.11/site-packages (from quantecon) (1.11.1)\r\n",
      "Requirement already satisfied: llvmlite<0.41,>=0.40.0dev0 in /opt/conda/envs/quantecon/lib/python3.11/site-packages (from numba>=0.49.0->quantecon) (0.40.0)\r\n",
      "Requirement already satisfied: charset-normalizer<4,>=2 in /opt/conda/envs/quantecon/lib/python3.11/site-packages (from requests->quantecon) (2.0.4)\r\n"
     ]
    },
    {
     "name": "stdout",
     "output_type": "stream",
     "text": [
      "Requirement already satisfied: idna<4,>=2.5 in /opt/conda/envs/quantecon/lib/python3.11/site-packages (from requests->quantecon) (3.4)\r\n",
      "Requirement already satisfied: urllib3<3,>=1.21.1 in /opt/conda/envs/quantecon/lib/python3.11/site-packages (from requests->quantecon) (1.26.16)\r\n",
      "Requirement already satisfied: certifi>=2017.4.17 in /opt/conda/envs/quantecon/lib/python3.11/site-packages (from requests->quantecon) (2023.7.22)\r\n",
      "Requirement already satisfied: mpmath>=0.19 in /opt/conda/envs/quantecon/lib/python3.11/site-packages (from sympy->quantecon) (1.3.0)\r\n"
     ]
    },
    {
     "name": "stdout",
     "output_type": "stream",
     "text": [
      "\u001b[33mWARNING: Running pip as the 'root' user can result in broken permissions and conflicting behaviour with the system package manager. It is recommended to use a virtual environment instead: https://pip.pypa.io/warnings/venv\u001b[0m\u001b[33m\r\n",
      "\u001b[0m"
     ]
    }
   ],
   "source": [
    "!pip install --upgrade quantecon"
   ]
  },
  {
   "cell_type": "markdown",
   "id": "8623a570",
   "metadata": {},
   "source": [
    "We study a monopolist who faces inverse demand curve\n",
    "\n",
    "$$\n",
    "P_t = a_0 - a_1 Y_t + Z_t,\n",
    "$$\n",
    "\n",
    "where\n",
    "\n",
    "* $P_t$ is price,\n",
    "* $Y_t$ is output and\n",
    "* $Z_t$ is a demand shock.\n",
    "\n",
    "We assume that $Z_t$ is a discretized AR(1) process, specified below.\n",
    "\n",
    "Current profits are\n",
    "\n",
    "$$ P_t Y_t - c Y_t - \\gamma (Y_{t+1} - Y_t)^2 $$\n",
    "\n",
    "Combining with the demand curve and writing $y, y'$ for $Y_t, Y_{t+1}$, this becomes\n",
    "\n",
    "$$    r(y, z, y') := (a_0 - a_1  y + z - c) y - γ  (y' - y)^2 $$\n",
    "\n",
    "The firm maximizes present value of expected discounted profits.  The Bellman equation is\n",
    "\n",
    "$$   v(y, z) = \\max_{y'} \\left\\{ r(y, z, y') + β \\sum_{z'} v(y', z') Q(z, z') \\right\\}. $$\n",
    "\n",
    "We discretize $y$ to a finite grid `y_grid`.\n",
    "\n",
    "In essence, the firm tries to choose output close to the monopolist profit maximizer, given $Z_t$, but is constrained by adjustment costs.\n",
    "\n",
    "Let's begin with the following imports"
   ]
  },
  {
   "cell_type": "code",
   "execution_count": 2,
   "id": "f662ab2c",
   "metadata": {},
   "outputs": [],
   "source": [
    "import quantecon as qe\n",
    "import jax\n",
    "import jax.numpy as jnp\n",
    "import matplotlib.pyplot as plt"
   ]
  },
  {
   "cell_type": "markdown",
   "id": "d4b608b2",
   "metadata": {},
   "source": [
    "Let's check the GPU we are running"
   ]
  },
  {
   "cell_type": "code",
   "execution_count": 3,
   "id": "33665028",
   "metadata": {},
   "outputs": [
    {
     "name": "stdout",
     "output_type": "stream",
     "text": [
      "Fri Mar  1 22:33:19 2024       \r\n",
      "+-----------------------------------------------------------------------------+\r\n",
      "| NVIDIA-SMI 470.182.03   Driver Version: 470.182.03   CUDA Version: 12.1     |\r\n",
      "|-------------------------------+----------------------+----------------------+\r\n",
      "| GPU  Name        Persistence-M| Bus-Id        Disp.A | Volatile Uncorr. ECC |\r\n",
      "| Fan  Temp  Perf  Pwr:Usage/Cap|         Memory-Usage | GPU-Util  Compute M. |\r\n",
      "|                               |                      |               MIG M. |\r\n",
      "|===============================+======================+======================|\r\n"
     ]
    },
    {
     "name": "stdout",
     "output_type": "stream",
     "text": [
      "|   0  Tesla V100-SXM2...  Off  | 00000000:00:1E.0 Off |                    0 |\r\n",
      "| N/A   29C    P0    37W / 300W |      0MiB / 16160MiB |      2%      Default |\r\n",
      "|                               |                      |                  N/A |\r\n",
      "+-------------------------------+----------------------+----------------------+\r\n",
      "                                                                               \r\n",
      "+-----------------------------------------------------------------------------+\r\n",
      "| Processes:                                                                  |\r\n",
      "|  GPU   GI   CI        PID   Type   Process name                  GPU Memory |\r\n",
      "|        ID   ID                                                   Usage      |\r\n",
      "|=============================================================================|\r\n",
      "|  No running processes found                                                 |\r\n",
      "+-----------------------------------------------------------------------------+\r\n"
     ]
    }
   ],
   "source": [
    "!nvidia-smi"
   ]
  },
  {
   "cell_type": "markdown",
   "id": "454592fd",
   "metadata": {},
   "source": [
    "We will use 64 bit floats with JAX in order to increase the precision."
   ]
  },
  {
   "cell_type": "code",
   "execution_count": 4,
   "id": "8cc1cd47",
   "metadata": {},
   "outputs": [],
   "source": [
    "jax.config.update(\"jax_enable_x64\", True)"
   ]
  },
  {
   "cell_type": "markdown",
   "id": "7a11a098",
   "metadata": {},
   "source": [
    "Let's define a function to create an investment model using the given parameters."
   ]
  },
  {
   "cell_type": "code",
   "execution_count": 5,
   "id": "871350a1",
   "metadata": {},
   "outputs": [],
   "source": [
    "def create_investment_model(\n",
    "        r=0.01,                              # Interest rate\n",
    "        a_0=10.0, a_1=1.0,                   # Demand parameters\n",
    "        γ=25.0, c=1.0,                       # Adjustment and unit cost\n",
    "        y_min=0.0, y_max=20.0, y_size=100,   # Grid for output\n",
    "        ρ=0.9, ν=1.0,                        # AR(1) parameters\n",
    "        z_size=150):                         # Grid size for shock\n",
    "    \"\"\"\n",
    "    A function that takes in parameters and returns an instance of Model that\n",
    "    contains data for the investment problem.\n",
    "    \"\"\"\n",
    "    β = 1 / (1 + r)\n",
    "    y_grid = jnp.linspace(y_min, y_max, y_size)\n",
    "    mc = qe.tauchen(z_size, ρ, ν)\n",
    "    z_grid, Q = mc.state_values, mc.P\n",
    "\n",
    "    # Break up parameters into static and nonstatic components\n",
    "    constants = β, a_0, a_1, γ, c\n",
    "    sizes = y_size, z_size\n",
    "    arrays = y_grid, z_grid, Q\n",
    "\n",
    "    # Shift arrays to the device (e.g., GPU)\n",
    "    arrays = tuple(map(jax.device_put, arrays))\n",
    "    return constants, sizes, arrays"
   ]
  },
  {
   "cell_type": "markdown",
   "id": "7d981194",
   "metadata": {},
   "source": [
    "Let's re-write the vectorized version of the right-hand side of the\n",
    "Bellman equation (before maximization), which is a 3D array representing\n",
    "\n",
    "$$\n",
    "    B(y, z, y') = r(y, z, y') + \\beta \\sum_{z'} v(y', z') Q(z, z')\n",
    "$$\n",
    "\n",
    "for all $(y, z, y')$."
   ]
  },
  {
   "cell_type": "code",
   "execution_count": 6,
   "id": "ec17df2c",
   "metadata": {},
   "outputs": [],
   "source": [
    "def B(v, constants, sizes, arrays):\n",
    "    \"\"\"\n",
    "    A vectorized version of the right-hand side of the Bellman equation\n",
    "    (before maximization)\n",
    "    \"\"\"\n",
    "\n",
    "    # Unpack\n",
    "    β, a_0, a_1, γ, c = constants\n",
    "    y_size, z_size = sizes\n",
    "    y_grid, z_grid, Q = arrays\n",
    "\n",
    "    # Compute current rewards r(y, z, yp) as array r[i, j, ip]\n",
    "    y  = jnp.reshape(y_grid, (y_size, 1, 1))    # y[i]   ->  y[i, j, ip]\n",
    "    z  = jnp.reshape(z_grid, (1, z_size, 1))    # z[j]   ->  z[i, j, ip]\n",
    "    yp = jnp.reshape(y_grid, (1, 1, y_size))    # yp[ip] -> yp[i, j, ip]\n",
    "    r = (a_0 - a_1 * y + z - c) * y - γ * (yp - y)**2\n",
    "\n",
    "    # Calculate continuation rewards at all combinations of (y, z, yp)\n",
    "    v = jnp.reshape(v, (1, 1, y_size, z_size))  # v[ip, jp] -> v[i, j, ip, jp]\n",
    "    Q = jnp.reshape(Q, (1, z_size, 1, z_size))  # Q[j, jp]  -> Q[i, j, ip, jp]\n",
    "    EV = jnp.sum(v * Q, axis=3)                 # sum over last index jp\n",
    "\n",
    "    # Compute the right-hand side of the Bellman equation\n",
    "    return r + β * EV\n",
    "\n",
    "# Create a jitted function\n",
    "B = jax.jit(B, static_argnums=(2,))"
   ]
  },
  {
   "cell_type": "markdown",
   "id": "db6626f0",
   "metadata": {},
   "source": [
    "We define a function to compute the current rewards $r_\\sigma$ given policy $\\sigma$,\n",
    "which is defined as the vector\n",
    "\n",
    "$$ r_\\sigma(y, z) := r(y, z, \\sigma(y, z)) $$"
   ]
  },
  {
   "cell_type": "code",
   "execution_count": 7,
   "id": "864f2b43",
   "metadata": {},
   "outputs": [],
   "source": [
    "def compute_r_σ(σ, constants, sizes, arrays):\n",
    "    \"\"\"\n",
    "    Compute the array r_σ[i, j] = r[i, j, σ[i, j]], which gives current\n",
    "    rewards given policy σ.\n",
    "    \"\"\"\n",
    "\n",
    "    # Unpack model\n",
    "    β, a_0, a_1, γ, c = constants\n",
    "    y_size, z_size = sizes\n",
    "    y_grid, z_grid, Q = arrays\n",
    "\n",
    "    # Compute r_σ[i, j]\n",
    "    y = jnp.reshape(y_grid, (y_size, 1))\n",
    "    z = jnp.reshape(z_grid, (1, z_size))\n",
    "    yp = y_grid[σ]\n",
    "    r_σ = (a_0 - a_1 * y + z - c) * y - γ * (yp - y)**2\n",
    "\n",
    "    return r_σ\n",
    "\n",
    "\n",
    "# Create the jitted function\n",
    "compute_r_σ = jax.jit(compute_r_σ, static_argnums=(2,))"
   ]
  },
  {
   "cell_type": "markdown",
   "id": "31f05eaf",
   "metadata": {},
   "source": [
    "Define the Bellman operator."
   ]
  },
  {
   "cell_type": "code",
   "execution_count": 8,
   "id": "0a65dbce",
   "metadata": {},
   "outputs": [],
   "source": [
    "def T(v, constants, sizes, arrays):\n",
    "    \"\"\"The Bellman operator.\"\"\"\n",
    "    return jnp.max(B(v, constants, sizes, arrays), axis=2)\n",
    "\n",
    "T = jax.jit(T, static_argnums=(2,))"
   ]
  },
  {
   "cell_type": "markdown",
   "id": "82d6f49c",
   "metadata": {},
   "source": [
    "The following function computes a v-greedy policy."
   ]
  },
  {
   "cell_type": "code",
   "execution_count": 9,
   "id": "4cef9eea",
   "metadata": {},
   "outputs": [],
   "source": [
    "def get_greedy(v, constants, sizes, arrays):\n",
    "    \"Computes a v-greedy policy, returned as a set of indices.\"\n",
    "    return jnp.argmax(B(v, constants, sizes, arrays), axis=2)\n",
    "\n",
    "get_greedy = jax.jit(get_greedy, static_argnums=(2,))"
   ]
  },
  {
   "cell_type": "markdown",
   "id": "f8006644",
   "metadata": {},
   "source": [
    "Define the $\\sigma$-policy operator."
   ]
  },
  {
   "cell_type": "code",
   "execution_count": 10,
   "id": "7677259c",
   "metadata": {},
   "outputs": [],
   "source": [
    "def T_σ(v, σ, constants, sizes, arrays):\n",
    "    \"\"\"The σ-policy operator.\"\"\"\n",
    "\n",
    "    # Unpack model\n",
    "    β, a_0, a_1, γ, c = constants\n",
    "    y_size, z_size = sizes\n",
    "    y_grid, z_grid, Q = arrays\n",
    "\n",
    "    r_σ = compute_r_σ(σ, constants, sizes, arrays)\n",
    "\n",
    "    # Compute the array v[σ[i, j], jp]\n",
    "    zp_idx = jnp.arange(z_size)\n",
    "    zp_idx = jnp.reshape(zp_idx, (1, 1, z_size))\n",
    "    σ = jnp.reshape(σ, (y_size, z_size, 1))\n",
    "    V = v[σ, zp_idx]\n",
    "\n",
    "    # Convert Q[j, jp] to Q[i, j, jp]\n",
    "    Q = jnp.reshape(Q, (1, z_size, z_size))\n",
    "\n",
    "    # Calculate the expected sum Σ_jp v[σ[i, j], jp] * Q[i, j, jp]\n",
    "    Ev = jnp.sum(V * Q, axis=2)\n",
    "\n",
    "    return r_σ + β * Ev\n",
    "\n",
    "T_σ = jax.jit(T_σ, static_argnums=(3,))"
   ]
  },
  {
   "cell_type": "markdown",
   "id": "5bd015ea",
   "metadata": {},
   "source": [
    "Next, we want to computes the lifetime value of following policy $\\sigma$.\n",
    "\n",
    "This lifetime value is a function $v_\\sigma$ that satisfies\n",
    "\n",
    "$$ v_\\sigma(y, z) = r_\\sigma(y, z) + \\beta \\sum_{z'} v_\\sigma(\\sigma(y, z), z') Q(z, z') $$\n",
    "\n",
    "We wish to solve this equation for $v_\\sigma$.\n",
    "\n",
    "Suppose we define the linear operator $L_\\sigma$ by\n",
    "\n",
    "$$ (L_\\sigma v)(y, z) = v(y, z) - \\beta \\sum_{z'} v(\\sigma(y, z), z') Q(z, z') $$\n",
    "\n",
    "With this notation, the problem is to solve for $v$ via\n",
    "\n",
    "$$\n",
    "    (L_{\\sigma} v)(y, z) = r_\\sigma(y, z)\n",
    "$$\n",
    "\n",
    "In vector for this is $L_\\sigma v = r_\\sigma$, which tells us that the function\n",
    "we seek is\n",
    "\n",
    "$$ v_\\sigma = L_\\sigma^{-1} r_\\sigma $$\n",
    "\n",
    "JAX allows us to solve linear systems defined in terms of operators; the first\n",
    "step is to define the function $L_{\\sigma}$."
   ]
  },
  {
   "cell_type": "code",
   "execution_count": 11,
   "id": "2550d98f",
   "metadata": {},
   "outputs": [],
   "source": [
    "def L_σ(v, σ, constants, sizes, arrays):\n",
    "\n",
    "    β, a_0, a_1, γ, c = constants\n",
    "    y_size, z_size = sizes\n",
    "    y_grid, z_grid, Q = arrays\n",
    "\n",
    "    # Set up the array v[σ[i, j], jp]\n",
    "    zp_idx = jnp.arange(z_size)\n",
    "    zp_idx = jnp.reshape(zp_idx, (1, 1, z_size))\n",
    "    σ = jnp.reshape(σ, (y_size, z_size, 1))\n",
    "    V = v[σ, zp_idx]\n",
    "\n",
    "    # Expand Q[j, jp] to Q[i, j, jp]\n",
    "    Q = jnp.reshape(Q, (1, z_size, z_size))\n",
    "\n",
    "    # Compute and return v[i, j] - β Σ_jp v[σ[i, j], jp] * Q[j, jp]\n",
    "    return v - β * jnp.sum(V * Q, axis=2)\n",
    "\n",
    "L_σ = jax.jit(L_σ, static_argnums=(3,))"
   ]
  },
  {
   "cell_type": "markdown",
   "id": "a6dbae41",
   "metadata": {},
   "source": [
    "Now we can define a function to compute $v_{\\sigma}$"
   ]
  },
  {
   "cell_type": "code",
   "execution_count": 12,
   "id": "94ea97d1",
   "metadata": {},
   "outputs": [],
   "source": [
    "def get_value(σ, constants, sizes, arrays):\n",
    "\n",
    "    # Unpack\n",
    "    β, a_0, a_1, γ, c = constants\n",
    "    y_size, z_size = sizes\n",
    "    y_grid, z_grid, Q = arrays\n",
    "\n",
    "    r_σ = compute_r_σ(σ, constants, sizes, arrays)\n",
    "\n",
    "    # Reduce L_σ to a function in v\n",
    "    partial_L_σ = lambda v: L_σ(v, σ, constants, sizes, arrays)\n",
    "\n",
    "    return jax.scipy.sparse.linalg.bicgstab(partial_L_σ, r_σ)[0]\n",
    "\n",
    "get_value = jax.jit(get_value, static_argnums=(2,))"
   ]
  },
  {
   "cell_type": "markdown",
   "id": "8a63e82d",
   "metadata": {},
   "source": [
    "We use successive approximation for VFI."
   ]
  },
  {
   "cell_type": "code",
   "execution_count": 13,
   "id": "9cdffed2",
   "metadata": {
    "load": "_static/lecture_specific/successive_approx.py"
   },
   "outputs": [],
   "source": [
    "def successive_approx_jax(x_0,                   # Initial condition\n",
    "                          constants,\n",
    "                          sizes,\n",
    "                          arrays,                 \n",
    "                          tolerance=1e-6,        # Error tolerance\n",
    "                          max_iter=10_000):      # Max iteration bound\n",
    "\n",
    "    def body_fun(k_x_err):\n",
    "        k, x, error = k_x_err\n",
    "        x_new = T(x, constants, sizes, arrays)\n",
    "        error = jnp.max(jnp.abs(x_new - x))\n",
    "        return k + 1, x_new, error\n",
    "\n",
    "    def cond_fun(k_x_err):\n",
    "        k, x, error = k_x_err\n",
    "        return jnp.logical_and(error > tolerance, k < max_iter)\n",
    "\n",
    "    k, x, error = jax.lax.while_loop(cond_fun, body_fun, (1, x_0, tolerance + 1))\n",
    "    return x\n",
    "\n",
    "successive_approx_jax = jax.jit(successive_approx_jax, static_argnums=(2,))\n"
   ]
  },
  {
   "cell_type": "markdown",
   "id": "b8ad4fdc",
   "metadata": {},
   "source": [
    "Finally, we introduce the solvers that implement VFI, HPI and OPI."
   ]
  },
  {
   "cell_type": "code",
   "execution_count": 14,
   "id": "97eb8ae5",
   "metadata": {
    "load": "_static/lecture_specific/vfi.py"
   },
   "outputs": [],
   "source": [
    "# Implements VFI-Value Function iteration\n",
    "\n",
    "def value_iteration(model, tol=1e-5):\n",
    "    constants, sizes, arrays = model\n",
    "    vz = jnp.zeros(sizes)\n",
    "\n",
    "    v_star = successive_approx_jax(vz, constants, sizes, arrays, tolerance=tol)\n",
    "    return get_greedy(v_star, constants, sizes, arrays)\n"
   ]
  },
  {
   "cell_type": "code",
   "execution_count": 15,
   "id": "945ac25d",
   "metadata": {
    "load": "_static/lecture_specific/hpi.py"
   },
   "outputs": [],
   "source": [
    "# Implements HPI-Howard policy iteration routine\n",
    "\n",
    "def policy_iteration(model, maxiter=250):\n",
    "    constants, sizes, arrays = model\n",
    "    σ = jnp.zeros(sizes, dtype=int)\n",
    "    i, error = 0, 1.0\n",
    "    while error > 0 and i < maxiter:\n",
    "        v_σ = get_value(σ, constants, sizes, arrays)\n",
    "        σ_new = get_greedy(v_σ, constants, sizes, arrays)\n",
    "        error = jnp.max(jnp.abs(σ_new - σ))\n",
    "        σ = σ_new\n",
    "        i = i + 1\n",
    "        print(f\"Concluded loop {i} with error {error}.\")\n",
    "    return σ\n"
   ]
  },
  {
   "cell_type": "code",
   "execution_count": 16,
   "id": "2cdd4552",
   "metadata": {
    "load": "_static/lecture_specific/opi.py"
   },
   "outputs": [],
   "source": [
    "# Implements the OPI-Optimal policy Iteration routine\n",
    "\n",
    "def optimistic_policy_iteration(model, tol=1e-5, m=10):\n",
    "    constants, sizes, arrays = model\n",
    "    v = jnp.zeros(sizes)\n",
    "    error = tol + 1\n",
    "    while error > tol:\n",
    "        last_v = v\n",
    "        σ = get_greedy(v, constants, sizes, arrays)\n",
    "        for _ in range(m):\n",
    "            v = T_σ(v, σ, constants, sizes, arrays)\n",
    "        error = jnp.max(jnp.abs(v - last_v))\n",
    "    return get_greedy(v, constants, sizes, arrays)\n"
   ]
  },
  {
   "cell_type": "code",
   "execution_count": 17,
   "id": "c6fb7fc5",
   "metadata": {
    "tags": [
     "hide-output"
    ]
   },
   "outputs": [
    {
     "name": "stdout",
     "output_type": "stream",
     "text": [
      "Starting HPI.\n"
     ]
    },
    {
     "name": "stdout",
     "output_type": "stream",
     "text": [
      "Concluded loop 1 with error 50.\n",
      "Concluded loop 2 with error 26.\n",
      "Concluded loop 3 with error 17.\n",
      "Concluded loop 4 with error 10.\n",
      "Concluded loop 5 with error 7.\n",
      "Concluded loop 6 with error 4.\n",
      "Concluded loop 7 with error 3.\n",
      "Concluded loop 8 with error 1.\n",
      "Concluded loop 9 with error 1.\n",
      "Concluded loop 10 with error 1.\n",
      "Concluded loop 11 with error 1.\n",
      "Concluded loop 12 with error 0.\n",
      "TOC: Elapsed: 0:00:1.36\n",
      "[[ 2  2  2 ...  6  6  6]\n",
      " [ 3  3  3 ...  7  7  7]\n",
      " [ 4  4  4 ...  7  7  7]\n",
      " ...\n",
      " [82 82 82 ... 86 86 86]\n",
      " [83 83 83 ... 86 86 86]\n",
      " [84 84 84 ... 87 87 87]]\n",
      "HPI completed in 1.3695476055145264 seconds.\n"
     ]
    }
   ],
   "source": [
    "model = create_investment_model()\n",
    "print(\"Starting HPI.\")\n",
    "qe.tic()\n",
    "out = policy_iteration(model)\n",
    "elapsed = qe.toc()\n",
    "print(out)\n",
    "print(f\"HPI completed in {elapsed} seconds.\")"
   ]
  },
  {
   "cell_type": "code",
   "execution_count": 18,
   "id": "81920adb",
   "metadata": {
    "tags": [
     "hide-output"
    ]
   },
   "outputs": [
    {
     "name": "stdout",
     "output_type": "stream",
     "text": [
      "Starting VFI.\n"
     ]
    },
    {
     "name": "stdout",
     "output_type": "stream",
     "text": [
      "TOC: Elapsed: 0:00:0.48\n",
      "[[ 2  2  2 ...  6  6  6]\n",
      " [ 3  3  3 ...  7  7  7]\n",
      " [ 4  4  4 ...  7  7  7]\n",
      " ...\n",
      " [82 82 82 ... 86 86 86]\n",
      " [83 83 83 ... 86 86 86]\n",
      " [84 84 84 ... 87 87 87]]\n",
      "VFI completed in 0.48784327507019043 seconds.\n"
     ]
    }
   ],
   "source": [
    "print(\"Starting VFI.\")\n",
    "qe.tic()\n",
    "out = value_iteration(model)\n",
    "elapsed = qe.toc()\n",
    "print(out)\n",
    "print(f\"VFI completed in {elapsed} seconds.\")"
   ]
  },
  {
   "cell_type": "code",
   "execution_count": 19,
   "id": "02249374",
   "metadata": {
    "tags": [
     "hide-output"
    ]
   },
   "outputs": [
    {
     "name": "stdout",
     "output_type": "stream",
     "text": [
      "Starting OPI.\n"
     ]
    },
    {
     "name": "stdout",
     "output_type": "stream",
     "text": [
      "TOC: Elapsed: 0:00:1.25\n",
      "[[ 2  2  2 ...  6  6  6]\n",
      " [ 3  3  3 ...  7  7  7]\n",
      " [ 4  4  4 ...  7  7  7]\n",
      " ...\n",
      " [82 82 82 ... 86 86 86]\n",
      " [83 83 83 ... 86 86 86]\n",
      " [84 84 84 ... 87 87 87]]\n",
      "OPI completed in 1.2522227764129639 seconds.\n"
     ]
    }
   ],
   "source": [
    "print(\"Starting OPI.\")\n",
    "qe.tic()\n",
    "out = optimistic_policy_iteration(model, m=100)\n",
    "elapsed = qe.toc()\n",
    "print(out)\n",
    "print(f\"OPI completed in {elapsed} seconds.\")"
   ]
  },
  {
   "cell_type": "markdown",
   "id": "4b30f784",
   "metadata": {},
   "source": [
    "Here's the plot of the Howard policy, as a function of $y$ at the highest and lowest values of $z$."
   ]
  },
  {
   "cell_type": "code",
   "execution_count": 20,
   "id": "f1555185",
   "metadata": {},
   "outputs": [],
   "source": [
    "model = create_investment_model()\n",
    "constants, sizes, arrays = model\n",
    "β, a_0, a_1, γ, c = constants\n",
    "y_size, z_size = sizes\n",
    "y_grid, z_grid, Q = arrays"
   ]
  },
  {
   "cell_type": "code",
   "execution_count": 21,
   "id": "fd3d2f0e",
   "metadata": {},
   "outputs": [
    {
     "name": "stdout",
     "output_type": "stream",
     "text": [
      "Concluded loop 1 with error 50.\n",
      "Concluded loop 2 with error 26.\n",
      "Concluded loop 3 with error 17.\n",
      "Concluded loop 4 with error 10.\n",
      "Concluded loop 5 with error 7.\n",
      "Concluded loop 6 with error 4.\n",
      "Concluded loop 7 with error 3.\n",
      "Concluded loop 8 with error 1.\n",
      "Concluded loop 9 with error 1.\n",
      "Concluded loop 10 with error 1.\n",
      "Concluded loop 11 with error 1.\n",
      "Concluded loop 12 with error 0.\n"
     ]
    },
    {
     "data": {
      "image/png": "[encoded data removed]",
      "text/plain": [
       "<Figure size 900x500 with 1 Axes>"
      ]
     },
     "metadata": {},
     "output_type": "display_data"
    }
   ],
   "source": [
    "σ_star = policy_iteration(model)\n",
    "\n",
    "fig, ax = plt.subplots(figsize=(9, 5))\n",
    "ax.plot(y_grid, y_grid, \"k--\", label=\"45\")\n",
    "ax.plot(y_grid, y_grid[σ_star[:, 1]], label=\"$\\\\sigma^*(\\cdot, z_1)$\")\n",
    "ax.plot(y_grid, y_grid[σ_star[:, -1]], label=\"$\\\\sigma^*(\\cdot, z_N)$\")\n",
    "ax.legend(fontsize=12)\n",
    "plt.show()"
   ]
  },
  {
   "cell_type": "markdown",
   "id": "415808e0",
   "metadata": {},
   "source": [
    "Let's plot the time taken by each of the solvers and compare them."
   ]
  },
  {
   "cell_type": "code",
   "execution_count": 22,
   "id": "0a6410b8",
   "metadata": {},
   "outputs": [],
   "source": [
    "m_vals = range(5, 600, 40)"
   ]
  },
  {
   "cell_type": "code",
   "execution_count": 23,
   "id": "24508196",
   "metadata": {},
   "outputs": [
    {
     "name": "stdout",
     "output_type": "stream",
     "text": [
      "Running Howard policy iteration.\n",
      "Concluded loop 1 with error 50.\n",
      "Concluded loop 2 with error 26.\n",
      "Concluded loop 3 with error 17.\n",
      "Concluded loop 4 with error 10.\n",
      "Concluded loop 5 with error 7.\n",
      "Concluded loop 6 with error 4.\n",
      "Concluded loop 7 with error 3.\n",
      "Concluded loop 8 with error 1.\n",
      "Concluded loop 9 with error 1.\n",
      "Concluded loop 10 with error 1.\n",
      "Concluded loop 11 with error 1.\n",
      "Concluded loop 12 with error 0.\n",
      "TOC: Elapsed: 0:00:0.04\n"
     ]
    }
   ],
   "source": [
    "model = create_investment_model()\n",
    "print(\"Running Howard policy iteration.\")\n",
    "qe.tic()\n",
    "σ_pi = policy_iteration(model)\n",
    "pi_time = qe.toc()"
   ]
  },
  {
   "cell_type": "code",
   "execution_count": 24,
   "id": "c627f490",
   "metadata": {},
   "outputs": [
    {
     "name": "stdout",
     "output_type": "stream",
     "text": [
      "PI completed in 0.04635930061340332 seconds.\n",
      "Running value function iteration.\n",
      "TOC: Elapsed: 0:00:0.09\n",
      "VFI completed in 0.09667754173278809 seconds.\n"
     ]
    }
   ],
   "source": [
    "print(f\"PI completed in {pi_time} seconds.\")\n",
    "print(\"Running value function iteration.\")\n",
    "qe.tic()\n",
    "σ_vfi = value_iteration(model, tol=1e-5)\n",
    "vfi_time = qe.toc()\n",
    "print(f\"VFI completed in {vfi_time} seconds.\")"
   ]
  },
  {
   "cell_type": "code",
   "execution_count": 25,
   "id": "f683ca1b",
   "metadata": {
    "tags": [
     "hide-output"
    ]
   },
   "outputs": [
    {
     "name": "stdout",
     "output_type": "stream",
     "text": [
      "Running optimistic policy iteration with m=5.\n"
     ]
    },
    {
     "name": "stdout",
     "output_type": "stream",
     "text": [
      "TOC: Elapsed: 0:00:0.89\n",
      "OPI with m=5 completed in 0.8921821117401123 seconds.\n",
      "Running optimistic policy iteration with m=45.\n"
     ]
    },
    {
     "name": "stdout",
     "output_type": "stream",
     "text": [
      "TOC: Elapsed: 0:00:0.67\n",
      "OPI with m=45 completed in 0.6748077869415283 seconds.\n",
      "Running optimistic policy iteration with m=85.\n"
     ]
    },
    {
     "name": "stdout",
     "output_type": "stream",
     "text": [
      "TOC: Elapsed: 0:00:0.70\n",
      "OPI with m=85 completed in 0.702730655670166 seconds.\n",
      "Running optimistic policy iteration with m=125.\n"
     ]
    },
    {
     "name": "stdout",
     "output_type": "stream",
     "text": [
      "TOC: Elapsed: 0:00:0.71\n",
      "OPI with m=125 completed in 0.7186985015869141 seconds.\n",
      "Running optimistic policy iteration with m=165.\n"
     ]
    },
    {
     "name": "stdout",
     "output_type": "stream",
     "text": [
      "TOC: Elapsed: 0:00:0.78\n",
      "OPI with m=165 completed in 0.7884385585784912 seconds.\n",
      "Running optimistic policy iteration with m=205.\n"
     ]
    },
    {
     "name": "stdout",
     "output_type": "stream",
     "text": [
      "TOC: Elapsed: 0:00:0.90\n",
      "OPI with m=205 completed in 0.9016647338867188 seconds.\n",
      "Running optimistic policy iteration with m=245.\n"
     ]
    },
    {
     "name": "stdout",
     "output_type": "stream",
     "text": [
      "TOC: Elapsed: 0:00:0.98\n",
      "OPI with m=245 completed in 0.9810824394226074 seconds.\n",
      "Running optimistic policy iteration with m=285.\n"
     ]
    },
    {
     "name": "stdout",
     "output_type": "stream",
     "text": [
      "TOC: Elapsed: 0:00:1.06\n",
      "OPI with m=285 completed in 1.060594081878662 seconds.\n",
      "Running optimistic policy iteration with m=325.\n"
     ]
    },
    {
     "name": "stdout",
     "output_type": "stream",
     "text": [
      "TOC: Elapsed: 0:00:1.21\n",
      "OPI with m=325 completed in 1.2161359786987305 seconds.\n",
      "Running optimistic policy iteration with m=365.\n"
     ]
    },
    {
     "name": "stdout",
     "output_type": "stream",
     "text": [
      "TOC: Elapsed: 0:00:1.35\n",
      "OPI with m=365 completed in 1.3567640781402588 seconds.\n",
      "Running optimistic policy iteration with m=405.\n"
     ]
    },
    {
     "name": "stdout",
     "output_type": "stream",
     "text": [
      "TOC: Elapsed: 0:00:1.48\n",
      "OPI with m=405 completed in 1.486661672592163 seconds.\n",
      "Running optimistic policy iteration with m=445.\n"
     ]
    },
    {
     "name": "stdout",
     "output_type": "stream",
     "text": [
      "TOC: Elapsed: 0:00:1.66\n",
      "OPI with m=445 completed in 1.664196491241455 seconds.\n",
      "Running optimistic policy iteration with m=485.\n"
     ]
    },
    {
     "name": "stdout",
     "output_type": "stream",
     "text": [
      "TOC: Elapsed: 0:00:1.78\n",
      "OPI with m=485 completed in 1.7889108657836914 seconds.\n",
      "Running optimistic policy iteration with m=525.\n"
     ]
    },
    {
     "name": "stdout",
     "output_type": "stream",
     "text": [
      "TOC: Elapsed: 0:00:1.94\n",
      "OPI with m=525 completed in 1.9443671703338623 seconds.\n",
      "Running optimistic policy iteration with m=565.\n"
     ]
    },
    {
     "name": "stdout",
     "output_type": "stream",
     "text": [
      "TOC: Elapsed: 0:00:2.05\n",
      "OPI with m=565 completed in 2.0563035011291504 seconds.\n"
     ]
    }
   ],
   "source": [
    "opi_times = []\n",
    "for m in m_vals:\n",
    "    print(f\"Running optimistic policy iteration with m={m}.\")\n",
    "    qe.tic()\n",
    "    σ_opi = optimistic_policy_iteration(model, m=m, tol=1e-5)\n",
    "    opi_time = qe.toc()\n",
    "    print(f\"OPI with m={m} completed in {opi_time} seconds.\")\n",
    "    opi_times.append(opi_time)"
   ]
  },
  {
   "cell_type": "code",
   "execution_count": 26,
   "id": "d5b6b4d9",
   "metadata": {},
   "outputs": [
    {
     "data": {
      "image/png": "[encoded data removed]",
      "text/plain": [
       "<Figure size 900x500 with 1 Axes>"
      ]
     },
     "metadata": {},
     "output_type": "display_data"
    }
   ],
   "source": [
    "fig, ax = plt.subplots(figsize=(9, 5))\n",
    "ax.plot(m_vals, jnp.full(len(m_vals), pi_time),\n",
    "        lw=2, label=\"Howard policy iteration\")\n",
    "ax.plot(m_vals, jnp.full(len(m_vals), vfi_time),\n",
    "        lw=2, label=\"value function iteration\")\n",
    "ax.plot(m_vals, opi_times, lw=2, label=\"optimistic policy iteration\")\n",
    "ax.legend(fontsize=12, frameon=False)\n",
    "ax.set_xlabel(\"$m$\", fontsize=12)\n",
    "ax.set_ylabel(\"time(s)\", fontsize=12)\n",
    "plt.show()"
   ]
  }
 ],
 "metadata": {
  "jupytext": {
   "text_representation": {
    "extension": ".md",
    "format_name": "myst",
    "format_version": 0.13,
    "jupytext_version": "1.16.1"
   }
  },
  "kernelspec": {
   "display_name": "Python 3 (ipykernel)",
   "language": "python",
   "name": "python3"
  },
  "language_info": {
   "codemirror_mode": {
    "name": "ipython",
    "version": 3
   },
   "file_extension": ".py",
   "mimetype": "text/x-python",
   "name": "python",
   "nbconvert_exporter": "python",
   "pygments_lexer": "ipython3",
   "version": "3.11.5"
  },
  "source_map": [
   12,
   21,
   25,
   59,
   64,
   68,
   70,
   74,
   76,
   80,
   105,
   116,
   144,
   151,
   174,
   178,
   184,
   188,
   194,
   198,
   224,
   252,
   272,
   276,
   292,
   296,
   298,
   302,
   306,
   310,
   314,
   326,
   337,
   346,
   350,
   358,
   367,
   371,
   375,
   383,
   392,
   405
  ]
 },
 "nbformat": 4,
 "nbformat_minor": 5
}