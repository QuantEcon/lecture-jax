{
 "cells": [
  {
   "cell_type": "markdown",
   "id": "35151df8",
   "metadata": {},
   "source": [
    "# Newton’s Method via JAX\n",
    "\n",
    "```{include} _admonition/gpu.md\n",
    "```\n",
    "\n",
    "## Overview\n",
    "\n",
    "One of the key features of JAX is automatic differentiation.\n",
    "\n",
    "While other software packages also offer this feature, the JAX version is\n",
    "particularly powerful because it integrates so closely with other core\n",
    "components of JAX, such as accelerated linear algebra, JIT compilation and\n",
    "parallelization.\n",
    "\n",
    "The application of automatic differentiation we consider is computing economic equilibria via Newton's method.\n",
    "\n",
    "Newton's method is a relatively simple root and fixed point solution algorithm, which we discussed \n",
    "in [a more elementary QuantEcon lecture](https://python.quantecon.org/newton_method.html).\n",
    "\n",
    "JAX is almost ideally suited to implementing Newton's method efficiently, even\n",
    "in high dimensions.\n",
    "\n",
    "We use the following imports in this lecture"
   ]
  },
  {
   "cell_type": "code",
   "execution_count": 1,
   "id": "3ca24033",
   "metadata": {},
   "outputs": [],
   "source": [
    "import jax\n",
    "import jax.numpy as jnp\n",
    "from scipy.optimize import root\n",
    "import matplotlib.pyplot as plt"
   ]
  },
  {
   "cell_type": "markdown",
   "id": "df3fcf3a",
   "metadata": {},
   "source": [
    "Let's check the GPU we are running"
   ]
  },
  {
   "cell_type": "code",
   "execution_count": 2,
   "id": "596abec0",
   "metadata": {},
   "outputs": [
    {
     "name": "stdout",
     "output_type": "stream",
     "text": [
      "Fri Mar  1 22:30:24 2024       \r\n",
      "+-----------------------------------------------------------------------------+\r\n",
      "| NVIDIA-SMI 470.182.03   Driver Version: 470.182.03   CUDA Version: 12.1     |\r\n",
      "|-------------------------------+----------------------+----------------------+\r\n",
      "| GPU  Name        Persistence-M| Bus-Id        Disp.A | Volatile Uncorr. ECC |\r\n",
      "| Fan  Temp  Perf  Pwr:Usage/Cap|         Memory-Usage | GPU-Util  Compute M. |\r\n",
      "|                               |                      |               MIG M. |\r\n",
      "|===============================+======================+======================|\r\n"
     ]
    },
    {
     "name": "stdout",
     "output_type": "stream",
     "text": [
      "|   0  Tesla V100-SXM2...  Off  | 00000000:00:1E.0 Off |                    0 |\r\n",
      "| N/A   29C    P0    37W / 300W |      0MiB / 16160MiB |      2%      Default |\r\n",
      "|                               |                      |                  N/A |\r\n",
      "+-------------------------------+----------------------+----------------------+\r\n",
      "                                                                               \r\n",
      "+-----------------------------------------------------------------------------+\r\n",
      "| Processes:                                                                  |\r\n",
      "|  GPU   GI   CI        PID   Type   Process name                  GPU Memory |\r\n",
      "|        ID   ID                                                   Usage      |\r\n",
      "|=============================================================================|\r\n",
      "|  No running processes found                                                 |\r\n",
      "+-----------------------------------------------------------------------------+\r\n"
     ]
    }
   ],
   "source": [
    "!nvidia-smi\n"
   ]
  },
  {
   "cell_type": "markdown",
   "id": "62e414f5",
   "metadata": {},
   "source": [
    "## Newton in one dimension\n",
    "\n",
    "As a warm up, let's implement Newton's method in JAX for a simple\n",
    "one-dimensional root-finding problem.\n",
    "\n",
    "Let $f$ be a function from $\\mathbb R$ to itself.\n",
    "\n",
    "A **root** of $f$ is an $x \\in \\mathbb R$ such that $f(x)=0$.\n",
    "\n",
    "[Recall](https://python.quantecon.org/newton_method.html) that Newton's method for solving for the root of $f$ involves iterating with the map $q$ defined by\n",
    "\n",
    "$$ \n",
    "    q(x) = x - \\frac{f(x)}{f'(x)} \n",
    "$$\n",
    "\n",
    "\n",
    "Here is a function called `newton` that takes a function $f$ plus a scalar value $x_0$,\n",
    "iterates with $q$ starting from $x_0$, and returns an approximate fixed point."
   ]
  },
  {
   "cell_type": "code",
   "execution_count": 3,
   "id": "1d21b437",
   "metadata": {},
   "outputs": [],
   "source": [
    "def newton(f, x_0, tol=1e-5):\n",
    "    f_prime = jax.grad(f)\n",
    "    def q(x):\n",
    "        return x - f(x) / f_prime(x)\n",
    "\n",
    "    error = tol + 1\n",
    "    x = x_0\n",
    "    while error > tol:\n",
    "        y = q(x)\n",
    "        error = abs(x - y)\n",
    "        x = y\n",
    "        \n",
    "    return x"
   ]
  },
  {
   "cell_type": "markdown",
   "id": "a496ec93",
   "metadata": {},
   "source": [
    "The code above uses automatic differentiation to calculate $f'$ via the call to `jax.grad`.\n",
    "\n",
    "Let's test our `newton` routine on the function shown below."
   ]
  },
  {
   "cell_type": "code",
   "execution_count": 4,
   "id": "51c8b4cb",
   "metadata": {},
   "outputs": [
    {
     "data": {
      "image/png": "[encoded data removed]",
      "text/plain": [
       "<Figure size 640x480 with 1 Axes>"
      ]
     },
     "metadata": {},
     "output_type": "display_data"
    }
   ],
   "source": [
    "f = lambda x: jnp.sin(4 * (x - 1/4)) + x + x**20 - 1\n",
    "x = jnp.linspace(0, 1, 100)\n",
    "\n",
    "fig, ax = plt.subplots()\n",
    "ax.plot(x, f(x), label='$f(x)$')\n",
    "ax.axhline(ls='--', c='k')\n",
    "ax.set_xlabel('$x$', fontsize=12)\n",
    "ax.set_ylabel('$f(x)$', fontsize=12)\n",
    "ax.legend(fontsize=12)\n",
    "plt.show()"
   ]
  },
  {
   "cell_type": "markdown",
   "id": "f4b150d4",
   "metadata": {},
   "source": [
    "Here we go"
   ]
  },
  {
   "cell_type": "code",
   "execution_count": 5,
   "id": "6f445ae1",
   "metadata": {},
   "outputs": [
    {
     "data": {
      "text/plain": [
       "Array(0.4082935, dtype=float32, weak_type=True)"
      ]
     },
     "execution_count": 5,
     "metadata": {},
     "output_type": "execute_result"
    }
   ],
   "source": [
    "newton(f, 0.2)"
   ]
  },
  {
   "cell_type": "markdown",
   "id": "158c0670",
   "metadata": {},
   "source": [
    "This number looks to be close to the root, given the figure.\n",
    "\n",
    "\n",
    "\n",
    "## An Equilibrium Problem\n",
    "\n",
    "Now let's move up to higher dimensions.\n",
    "\n",
    "First we describe a market equilibrium problem we will solve with JAX via root-finding.\n",
    "\n",
    "The market is for $n$ goods.\n",
    "\n",
    "(We are extending a two-good version of the market from [an earlier lecture](https://python.quantecon.org/newton_method.html).)\n",
    "\n",
    "The supply function for the $i$-th good is\n",
    "\n",
    "$$\n",
    "    q^s_i (p) = b_i \\sqrt{p_i}\n",
    "$$\n",
    "\n",
    "which we write in vector form as\n",
    "\n",
    "$$\n",
    "    q^s (p) =b \\sqrt{p}\n",
    "$$\n",
    "\n",
    "(Here $\\sqrt{p}$ is the square root of each $p_i$ and $b \\sqrt{p}$ is the vector\n",
    "formed by taking the pointwise product $b_i \\sqrt{p_i}$ at each $i$.)\n",
    "\n",
    "The demand function is\n",
    "\n",
    "$$\n",
    "    q^d (p) = \\exp(- A p) + c\n",
    "$$\n",
    "\n",
    "(Here $A$ is an $n \\times n$ matrix containing parameters, $c$ is an $n \\times\n",
    "1$ vector and the $\\exp$ function acts pointwise (element-by-element) on the\n",
    "vector $- A p$.)\n",
    "\n",
    "The excess demand function is\n",
    "\n",
    "$$\n",
    "    e(p) = \\exp(- A p) + c - b \\sqrt{p}\n",
    "$$\n",
    "\n",
    "An **equilibrium price** vector is an $n$-vector $p$ such that $e(p) = 0$.\n",
    "\n",
    "The function below calculates the excess demand for given parameters"
   ]
  },
  {
   "cell_type": "code",
   "execution_count": 6,
   "id": "ab7b91d2",
   "metadata": {},
   "outputs": [],
   "source": [
    "def e(p, A, b, c):\n",
    "    return jnp.exp(- A @ p) + c - b * jnp.sqrt(p)"
   ]
  },
  {
   "cell_type": "markdown",
   "id": "5a00f4a8",
   "metadata": {},
   "source": [
    "## Computation\n",
    "\n",
    "In this section we describe and then implement the solution method.\n",
    "\n",
    "\n",
    "### Newton's Method\n",
    "\n",
    "We use a multivariate version of Newton's method to compute the equilibrium price.\n",
    "\n",
    "The rule for updating a guess $p_n$ of the equilibrium price vector is\n",
    "\n",
    "```{math}\n",
    ":label: multi-newton\n",
    "p_{n+1} = p_n - J_e(p_n)^{-1} e(p_n)\n",
    "```\n",
    "\n",
    "Here $J_e(p_n)$ is the Jacobian of $e$ evaluated at $p_n$.\n",
    "\n",
    "Iteration starts from initial guess $p_0$.\n",
    "\n",
    "Instead of coding the Jacobian by hand, we use automatic differentiation via `jax.jacobian()`."
   ]
  },
  {
   "cell_type": "code",
   "execution_count": 7,
   "id": "eb5498d2",
   "metadata": {},
   "outputs": [],
   "source": [
    "def newton(f, x_0, tol=1e-5, max_iter=15):\n",
    "    \"\"\"\n",
    "    A multivariate Newton root-finding routine.\n",
    "\n",
    "    \"\"\"\n",
    "    x = x_0\n",
    "    f_jac = jax.jacobian(f)\n",
    "    @jax.jit\n",
    "    def q(x):\n",
    "        \" Updates the current guess. \"\n",
    "        return x - jnp.linalg.solve(f_jac(x), f(x))\n",
    "    error = tol + 1\n",
    "    n = 0\n",
    "    while error > tol:\n",
    "        n += 1\n",
    "        if(n > max_iter):\n",
    "            raise Exception('Max iteration reached without convergence')\n",
    "        y = q(x)\n",
    "        error = jnp.linalg.norm(x - y)\n",
    "        x = y\n",
    "        print(f'iteration {n}, error = {error}')\n",
    "    return x"
   ]
  },
  {
   "cell_type": "markdown",
   "id": "df7878a0",
   "metadata": {},
   "source": [
    "### Application\n",
    "\n",
    "Let's now apply the method just described to investigate a large market with 5,000 goods.\n",
    "\n",
    "We randomly generate the matrix $A$ and set the parameter vectors $b, c$ to $1$."
   ]
  },
  {
   "cell_type": "code",
   "execution_count": 8,
   "id": "23cae2ba",
   "metadata": {},
   "outputs": [],
   "source": [
    "dim = 5_000\n",
    "seed = 32\n",
    "\n",
    "# Create a random matrix A and normalize the rows to sum to one\n",
    "key = jax.random.PRNGKey(seed)\n",
    "A = jax.random.uniform(key, [dim, dim])\n",
    "s = jnp.sum(A, axis=0)\n",
    "A = A / s\n",
    "\n",
    "# Set up b and c\n",
    "b = jnp.ones(dim)\n",
    "c = jnp.ones(dim)"
   ]
  },
  {
   "cell_type": "markdown",
   "id": "2b023849",
   "metadata": {},
   "source": [
    "Here's our initial condition $p_0$"
   ]
  },
  {
   "cell_type": "code",
   "execution_count": 9,
   "id": "535dc04a",
   "metadata": {},
   "outputs": [],
   "source": [
    "init_p = jnp.ones(dim)"
   ]
  },
  {
   "cell_type": "markdown",
   "id": "fed7ce09",
   "metadata": {},
   "source": [
    "By combining the power of Newton's method, JAX accelerated linear algebra,\n",
    "automatic differentiation, and a GPU, we obtain a relatively small error for\n",
    "this high-dimensional problem in just a few seconds:"
   ]
  },
  {
   "cell_type": "code",
   "execution_count": 10,
   "id": "69c890ef",
   "metadata": {},
   "outputs": [
    {
     "name": "stdout",
     "output_type": "stream",
     "text": [
      "iteration 1, error = 29.97745704650879\n",
      "iteration 2, error = 5.092828750610352\n",
      "iteration 3, error = 0.10971635580062866\n",
      "iteration 4, error = 5.19721070304513e-05\n",
      "iteration 5, error = 1.2384003639454022e-05\n"
     ]
    },
    {
     "name": "stdout",
     "output_type": "stream",
     "text": [
      "iteration 6, error = 4.883217570750276e-06\n",
      "CPU times: user 4.91 s, sys: 1.35 s, total: 6.26 s\n",
      "Wall time: 4.41 s\n"
     ]
    }
   ],
   "source": [
    "%%time\n",
    "\n",
    "p = newton(lambda p: e(p, A, b, c), init_p).block_until_ready()"
   ]
  },
  {
   "cell_type": "markdown",
   "id": "38425d6e",
   "metadata": {},
   "source": [
    "Here's the size of the error:"
   ]
  },
  {
   "cell_type": "code",
   "execution_count": 11,
   "id": "a5dd424f",
   "metadata": {},
   "outputs": [
    {
     "data": {
      "text/plain": [
       "Array(1.1920929e-07, dtype=float32)"
      ]
     },
     "execution_count": 11,
     "metadata": {},
     "output_type": "execute_result"
    }
   ],
   "source": [
    "jnp.max(jnp.abs(e(p, A, b, c)))"
   ]
  },
  {
   "cell_type": "markdown",
   "id": "438aaac9",
   "metadata": {},
   "source": [
    "With the same tolerance, SciPy's `root` function takes much longer to run,\n",
    "even with the Jacobian supplied."
   ]
  },
  {
   "cell_type": "code",
   "execution_count": 12,
   "id": "b1510561",
   "metadata": {},
   "outputs": [
    {
     "name": "stdout",
     "output_type": "stream",
     "text": [
      "CPU times: user 2min 27s, sys: 434 ms, total: 2min 28s\n",
      "Wall time: 2min 27s\n"
     ]
    }
   ],
   "source": [
    "%%time\n",
    "\n",
    "solution = root(lambda p: e(p, A, b, c),\n",
    "                init_p,\n",
    "                jac=lambda p: jax.jacobian(e)(p, A, b, c),\n",
    "                method='hybr',\n",
    "                tol=1e-5)"
   ]
  },
  {
   "cell_type": "markdown",
   "id": "8aae5720",
   "metadata": {},
   "source": [
    "The result is also slightly less accurate:"
   ]
  },
  {
   "cell_type": "code",
   "execution_count": 13,
   "id": "a0825367",
   "metadata": {},
   "outputs": [
    {
     "data": {
      "text/plain": [
       "Array(7.1525574e-07, dtype=float32)"
      ]
     },
     "execution_count": 13,
     "metadata": {},
     "output_type": "execute_result"
    }
   ],
   "source": [
    "p = solution.x\n",
    "jnp.max(jnp.abs(e(p, A, b, c)))"
   ]
  },
  {
   "cell_type": "markdown",
   "id": "6dd3895e",
   "metadata": {},
   "source": [
    "## Exercises\n",
    "\n",
    "```{exercise-start}\n",
    ":label: newton_ex1\n",
    "```\n",
    "\n",
    "Consider a three-dimensional extension of [the Solow fixed point\n",
    "problem](https://python.quantecon.org/newton_method.html#the-solow-model) with\n",
    "\n",
    "$$\n",
    "A = \\begin{pmatrix}\n",
    "            2 & 3 & 3 \\\\\n",
    "            2 & 4 & 2 \\\\\n",
    "            1 & 5 & 1 \\\\\n",
    "        \\end{pmatrix},\n",
    "            \\quad\n",
    "s = 0.2, \\quad α = 0.5, \\quad δ = 0.8\n",
    "$$\n",
    "\n",
    "As before the law of motion is\n",
    "\n",
    "```{math}\n",
    "    k_{t+1} = g(k_t) \\quad \\text{where} \\quad\n",
    "    g(k) := sAk^\\alpha + (1-\\delta) k\n",
    "```\n",
    "\n",
    "However $k_t$ is now a $3 \\times 1$ vector.\n",
    "\n",
    "Solve for the fixed point using Newton's method with the following initial values:\n",
    "\n",
    "$$\n",
    "\\begin{aligned}\n",
    "    k1_{0} &= (1, 1, 1) \\\\\n",
    "    k2_{0} &= (3, 5, 5) \\\\\n",
    "    k3_{0} &= (50, 50, 50)\n",
    "\\end{aligned}\n",
    "$$\n",
    "\n",
    "````{hint}\n",
    ":class: dropdown\n",
    "- The computation of the fixed point is equivalent to computing $k^*$ such that $f(k^*) - k^* = 0$.\n",
    "- If you are unsure about your solution, you can start with the solved example:\n",
    "```{math}\n",
    "A = \\begin{pmatrix}\n",
    "            2 & 0 & 0 \\\\\n",
    "            0 & 2 & 0 \\\\\n",
    "            0 & 0 & 2 \\\\\n",
    "        \\end{pmatrix}\n",
    "```\n",
    "with $s = 0.3$, $α = 0.3$, and $δ = 0.4$ and starting value:\n",
    "```{math}\n",
    "k_0 = (1, 1, 1)\n",
    "```\n",
    "The result should converge to the [analytical solution](https://python.quantecon.org/newton_method.html#solved-k).\n",
    "````\n",
    "\n",
    "```{exercise-end}\n",
    "```\n",
    "\n",
    "\n",
    "```{solution-start} newton_ex1\n",
    ":class: dropdown\n",
    "```\n",
    "\n",
    "Let's first define the parameters for this problem"
   ]
  },
  {
   "cell_type": "code",
   "execution_count": 14,
   "id": "166c5cf8",
   "metadata": {},
   "outputs": [],
   "source": [
    "A = jnp.array([[2.0, 3.0, 3.0],\n",
    "               [2.0, 4.0, 2.0],\n",
    "               [1.0, 5.0, 1.0]])\n",
    "s = 0.2\n",
    "α = 0.5\n",
    "δ = 0.8\n",
    "initLs = [jnp.ones(3),\n",
    "          jnp.array([3.0, 5.0, 5.0]),\n",
    "          jnp.repeat(50.0, 3)]"
   ]
  },
  {
   "cell_type": "markdown",
   "id": "af02bf4f",
   "metadata": {},
   "source": [
    "Then we define the multivariate version of the formula for the [law of motion of capital](https://python.quantecon.org/newton_method.html#solow)"
   ]
  },
  {
   "cell_type": "code",
   "execution_count": 15,
   "id": "63312905",
   "metadata": {},
   "outputs": [],
   "source": [
    "def multivariate_solow(k, A=A, s=s, α=α, δ=δ):\n",
    "    return s * jnp.dot(A, k**α) + (1 - δ) * k"
   ]
  },
  {
   "cell_type": "markdown",
   "id": "45f4bd8d",
   "metadata": {},
   "source": [
    "Let's run through each starting value and see the output"
   ]
  },
  {
   "cell_type": "code",
   "execution_count": 16,
   "id": "2ad434d4",
   "metadata": {},
   "outputs": [
    {
     "name": "stdout",
     "output_type": "stream",
     "text": [
      "Attempt 1: Starting value is [1. 1. 1.] \n",
      "\n"
     ]
    },
    {
     "name": "stdout",
     "output_type": "stream",
     "text": [
      "iteration 1, error = 50.496315002441406\n",
      "iteration 2, error = 41.1093864440918\n",
      "iteration 3, error = 4.294127464294434\n",
      "iteration 4, error = 0.3854290544986725\n",
      "iteration 5, error = 0.0054382034577429295\n",
      "iteration 6, error = 8.92080606718082e-07\n",
      "CPU times: user 319 ms, sys: 4.34 ms, total: 324 ms\n",
      "Wall time: 410 ms\n",
      "----------------------------------------------------------------\n",
      "Attempt 2: Starting value is [3. 5. 5.] \n",
      "\n",
      "iteration 1, error = 2.0701100826263428\n",
      "iteration 2, error = 0.12642373144626617\n",
      "iteration 3, error = 0.0006017307168804109\n",
      "iteration 4, error = 3.3717478231665154e-07\n",
      "CPU times: user 189 ms, sys: 0 ns, total: 189 ms\n",
      "Wall time: 135 ms\n",
      "----------------------------------------------------------------\n",
      "Attempt 3: Starting value is [50. 50. 50.] \n",
      "\n"
     ]
    },
    {
     "name": "stdout",
     "output_type": "stream",
     "text": [
      "iteration 1, error = 73.00942993164062\n",
      "iteration 2, error = 6.493789196014404\n",
      "iteration 3, error = 0.6806989312171936\n",
      "iteration 4, error = 0.016202213242650032\n",
      "iteration 5, error = 1.0600916539260652e-05\n",
      "iteration 6, error = 9.830249609876773e-07\n",
      "CPU times: user 415 ms, sys: 3.87 ms, total: 418 ms\n",
      "Wall time: 312 ms\n",
      "----------------------------------------------------------------\n"
     ]
    }
   ],
   "source": [
    "attempt = 1\n",
    "for init in initLs:\n",
    "    print(f'Attempt {attempt}: Starting value is {init} \\n')\n",
    "    %time k = newton(lambda k: multivariate_solow(k) - k, \\\n",
    "                     init).block_until_ready()\n",
    "    print('-'*64)\n",
    "    attempt += 1"
   ]
  },
  {
   "cell_type": "markdown",
   "id": "e3df37cc",
   "metadata": {},
   "source": [
    "We find that the results are invariant to the starting values.\n",
    "\n",
    "But the number of iterations it takes to converge is dependent on the starting values.\n",
    "\n",
    "Let substitute the output back into the formulate to check our last result"
   ]
  },
  {
   "cell_type": "code",
   "execution_count": 17,
   "id": "4f70207a",
   "metadata": {},
   "outputs": [
    {
     "data": {
      "text/plain": [
       "Array([ 4.7683716e-07,  0.0000000e+00, -2.3841858e-07], dtype=float32)"
      ]
     },
     "execution_count": 17,
     "metadata": {},
     "output_type": "execute_result"
    }
   ],
   "source": [
    "multivariate_solow(k) - k"
   ]
  },
  {
   "cell_type": "markdown",
   "id": "77dca0c3",
   "metadata": {},
   "source": [
    "Note the error is very small.\n",
    "\n",
    "We can also test our results on the known solution"
   ]
  },
  {
   "cell_type": "code",
   "execution_count": 18,
   "id": "d47d5208",
   "metadata": {},
   "outputs": [
    {
     "name": "stdout",
     "output_type": "stream",
     "text": [
      "iteration 1, error = 1.5745922327041626\n",
      "iteration 2, error = 0.21344946324825287\n",
      "iteration 3, error = 0.002045975998044014\n",
      "iteration 4, error = 8.259061701210157e-07\n",
      "CPU times: user 370 ms, sys: 4.21 ms, total: 375 ms\n",
      "Wall time: 317 ms\n"
     ]
    }
   ],
   "source": [
    "A = jnp.array([[2.0, 0.0, 0.0],\n",
    "               [0.0, 2.0, 0.0],\n",
    "               [0.0, 0.0, 2.0]])\n",
    "s = 0.3\n",
    "α = 0.3\n",
    "δ = 0.4\n",
    "init = jnp.repeat(1.0, 3)\n",
    "%time k = newton(lambda k: multivariate_solow(k, A=A, s=s, α=α, δ=δ) - k, \\\n",
    "                 init).block_until_ready()"
   ]
  },
  {
   "cell_type": "markdown",
   "id": "12676e8a",
   "metadata": {},
   "source": [
    "The result is very close to the true solution but still slightly different.\n",
    "\n",
    "We can increase the precision of the floating point numbers and restrict the tolerance to obtain a more accurate approximation (see detailed discussion in the [lecture on JAX](https://python-programming.quantecon.org/jax_intro.html#differences))"
   ]
  },
  {
   "cell_type": "code",
   "execution_count": 19,
   "id": "03fccc50",
   "metadata": {},
   "outputs": [
    {
     "name": "stdout",
     "output_type": "stream",
     "text": [
      "iteration 1, error = 1.5745916432444333\n",
      "iteration 2, error = 0.21344933091258958\n",
      "iteration 3, error = 0.0020465547718452695\n",
      "iteration 4, error = 2.0309190076799282e-07\n",
      "iteration 5, error = 1.538370149106851e-15\n",
      "CPU times: user 368 ms, sys: 8.26 ms, total: 376 ms\n",
      "Wall time: 485 ms\n"
     ]
    }
   ],
   "source": [
    "# We will use 64 bit floats with JAX in order to increase the precision.\n",
    "jax.config.update(\"jax_enable_x64\", True)\n",
    "init = init.astype('float64')\n",
    "\n",
    "%time k = newton(lambda k: multivariate_solow(k, A=A, s=s, α=α, δ=δ) - k,\\\n",
    "                 init,\\\n",
    "                 tol=1e-7).block_until_ready()"
   ]
  },
  {
   "cell_type": "markdown",
   "id": "61c77ec2",
   "metadata": {},
   "source": [
    "We can see it steps towards a more accurate solution.\n",
    "\n",
    "```{solution-end}\n",
    "```\n",
    "\n",
    "\n",
    "```{exercise-start}\n",
    ":label: newton_ex2\n",
    "```\n",
    "\n",
    "In this exercise, let's try different initial values and check how Newton's method responds to different starting points.\n",
    "\n",
    "Let's define a three-good problem with the following default values:\n",
    "\n",
    "$$\n",
    "A = \\begin{pmatrix}\n",
    "            0.2 & 0.1 & 0.7 \\\\\n",
    "            0.3 & 0.2 & 0.5 \\\\\n",
    "            0.1 & 0.8 & 0.1 \\\\\n",
    "        \\end{pmatrix},\n",
    "            \\qquad\n",
    "b = \\begin{pmatrix}\n",
    "            1 \\\\\n",
    "            1 \\\\\n",
    "            1\n",
    "        \\end{pmatrix}\n",
    "    \\qquad \\text{and} \\qquad\n",
    "c = \\begin{pmatrix}\n",
    "            1 \\\\\n",
    "            1 \\\\\n",
    "            1\n",
    "        \\end{pmatrix}\n",
    "$$\n",
    "\n",
    "For this exercise, use the following extreme price vectors as initial values:\n",
    "\n",
    "$$\n",
    "\n",
    "\\begin{aligned}\n",
    "    p1_{0} &= (5, 5, 5) \\\\\n",
    "    p2_{0} &= (1, 1, 1) \\\\\n",
    "    p3_{0} &= (4.5, 0.1, 4)\n",
    "\\end{aligned}\n",
    "$$\n",
    "\n",
    "Set the tolerance to $10^{-15}$ for more accurate output.\n",
    "\n",
    "\n",
    "```{hint}\n",
    ":class: dropdown\n",
    "Similar to [exercise 1](newton_ex1), enabling `float64` for JAX can improve the precision of our results.\n",
    "```\n",
    "\n",
    "\n",
    "```{exercise-end}\n",
    "```\n",
    "\n",
    "```{solution-start} newton_ex2\n",
    ":class: dropdown\n",
    "```\n",
    "\n",
    "Define parameters and initial values"
   ]
  },
  {
   "cell_type": "code",
   "execution_count": 20,
   "id": "c18c9eea",
   "metadata": {},
   "outputs": [],
   "source": [
    "A = jnp.array([\n",
    "    [0.2, 0.1, 0.7],\n",
    "    [0.3, 0.2, 0.5],\n",
    "    [0.1, 0.8, 0.1]\n",
    "])\n",
    "b = jnp.array([1.0, 1.0, 1.0])\n",
    "c = jnp.array([1.0, 1.0, 1.0])\n",
    "initLs = [jnp.repeat(5.0, 3),\n",
    "          jnp.array([4.5, 0.1, 4.0])]"
   ]
  },
  {
   "cell_type": "markdown",
   "id": "c32f2a34",
   "metadata": {},
   "source": [
    "Let’s run through each initial guess and check the output"
   ]
  },
  {
   "cell_type": "code",
   "execution_count": 21,
   "id": "e34df03f",
   "metadata": {},
   "outputs": [
    {
     "name": "stdout",
     "output_type": "stream",
     "text": [
      "Attempt 1: Starting value is [5. 5. 5.] \n",
      "\n"
     ]
    },
    {
     "name": "stdout",
     "output_type": "stream",
     "text": [
      "iteration 1, error = 9.243805733085065\n",
      "iteration 2, error = nan\n",
      "CPU times: user 222 ms, sys: 3.75 ms, total: 226 ms\n",
      "Wall time: 232 ms\n",
      "----------------------------------------------------------------\n",
      "Attempt 2: Starting value is [4.5 0.1 4. ] \n",
      "\n",
      "iteration 1, error = 4.892018895185869\n",
      "iteration 2, error = 1.2120550201694784\n",
      "iteration 3, error = 0.6942087122866175\n",
      "iteration 4, error = 0.168951089180319\n",
      "iteration 5, error = 0.005209730313222213\n",
      "iteration 6, error = 4.3632751705775364e-06\n",
      "iteration 7, error = 3.0460818773540415e-12\n",
      "iteration 8, error = 0.0\n",
      "CPU times: user 193 ms, sys: 4.29 ms, total: 197 ms\n",
      "Wall time: 134 ms\n",
      "----------------------------------------------------------------\n"
     ]
    }
   ],
   "source": [
    "attempt = 1\n",
    "for init in initLs:\n",
    "    print(f'Attempt {attempt}: Starting value is {init} \\n')\n",
    "    init = init.astype('float64')\n",
    "    %time p = newton(lambda p: e(p, A, b, c), \\\n",
    "                 init, \\\n",
    "                 tol=1e-15, max_iter=15).block_until_ready()\n",
    "    print('-'*64)\n",
    "    attempt +=1"
   ]
  },
  {
   "cell_type": "markdown",
   "id": "49df35f6",
   "metadata": {},
   "source": [
    "We can find that Newton's method may fail for some starting values.\n",
    "\n",
    "Sometimes it may take a few initial guesses to achieve convergence.\n",
    "\n",
    "Substitute the result back to the formula to check our result"
   ]
  },
  {
   "cell_type": "code",
   "execution_count": 22,
   "id": "9323a7c1",
   "metadata": {},
   "outputs": [
    {
     "data": {
      "text/plain": [
       "Array([0., 0., 0.], dtype=float64)"
      ]
     },
     "execution_count": 22,
     "metadata": {},
     "output_type": "execute_result"
    }
   ],
   "source": [
    "e(p, A, b, c)"
   ]
  },
  {
   "cell_type": "markdown",
   "id": "dcd8b9ae",
   "metadata": {},
   "source": [
    "We can see the result is very accurate.\n",
    "\n",
    "```{solution-end}\n",
    "```"
   ]
  }
 ],
 "metadata": {
  "jupytext": {
   "text_representation": {
    "extension": ".md",
    "format_name": "myst",
    "format_version": 0.13,
    "jupytext_version": "1.14.5"
   }
  },
  "kernelspec": {
   "display_name": "Python 3 (ipykernel)",
   "language": "python",
   "name": "python3"
  },
  "language_info": {
   "codemirror_mode": {
    "name": "ipython",
    "version": 3
   },
   "file_extension": ".py",
   "mimetype": "text/x-python",
   "name": "python",
   "nbconvert_exporter": "python",
   "pygments_lexer": "ipython3",
   "version": "3.11.5"
  },
  "source_map": [
   12,
   39,
   44,
   48,
   51,
   74,
   88,
   94,
   105,
   109,
   111,
   162,
   165,
   191,
   214,
   223,
   236,
   241,
   243,
   249,
   253,
   257,
   259,
   264,
   272,
   276,
   279,
   351,
   361,
   366,
   369,
   374,
   382,
   391,
   393,
   399,
   409,
   415,
   423,
   489,
   499,
   504,
   514,
   523,
   525
  ]
 },
 "nbformat": 4,
 "nbformat_minor": 5
}