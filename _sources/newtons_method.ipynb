{
 "cells": [
  {
   "cell_type": "markdown",
   "id": "571f89cd",
   "metadata": {},
   "source": [
    "# Newton’s Method via JAX\n",
    "\n",
    "## Overview\n",
    "\n",
    "Continuing from the [Newton's Method lecture](https://python.quantecon.org/newton_method.html), we are going to solve the multidimensional problem with `JAX`.\n",
    "\n",
    "More information about JAX can be found [here](https://python-programming.quantecon.org/jax_intro.html).\n",
    "\n",
    "We use the following imports in this lecture"
   ]
  },
  {
   "cell_type": "code",
   "execution_count": null,
   "id": "d8eaad30",
   "metadata": {},
   "outputs": [],
   "source": [
    "import jax\n",
    "import jax.numpy as jnp\n",
    "from scipy.optimize import root"
   ]
  },
  {
   "cell_type": "markdown",
   "id": "03c4affd",
   "metadata": {},
   "source": [
    "Let’s check the backend used by JAX and the devices available."
   ]
  },
  {
   "cell_type": "code",
   "execution_count": null,
   "id": "6fbbce4e",
   "metadata": {},
   "outputs": [],
   "source": [
    "# Check if JAX is using GPU\n",
    "print(f\"JAX backend: {jax.devices()[0].platform}\")\n",
    "\n",
    "# Check the devices available for JAX\n",
    "print(jax.devices())"
   ]
  },
  {
   "cell_type": "markdown",
   "id": "612fe63f",
   "metadata": {},
   "source": [
    "## The Two Goods Market Equilibrium\n",
    "\n",
    "Let's have a quick recap of this problem -- a more detailed explanation and derivation can be found at [A Two Goods Market Equilibrium](https://python.quantecon.org/newton_method.html#two-goods-market).\n",
    "\n",
    "Assume we have a market for two complementary goods where demand depends on the price of both components.\n",
    "\n",
    "We label them good 0 and good 1, with price vector $p = (p_0, p_1)$.\n",
    "\n",
    "Then the supply of good $i$ at price $p$ is,\n",
    "\n",
    "$$\n",
    "q^s_i (p) = b_i \\sqrt{p_i}\n",
    "$$\n",
    "\n",
    "and the demand of good $i$ at price $p$ is,\n",
    "\n",
    "$$\n",
    "q^d_i (p) = \\text{exp}(-(a_{i0} p_0 + a_{i1} p_1)) + c_i\n",
    "$$\n",
    "\n",
    "Here $a_{ij}$, $b_i$ and $c_i$ are parameters for $n \\times n$ square matrix $A$ and $n \\times 1$ parameter vectors $b$ and $c$.\n",
    "\n",
    "The excess demand function is,\n",
    "\n",
    "$$\n",
    "e_i(p) = q_i^d(p) - q_i^s(p), \\quad i = 0, 1\n",
    "$$\n",
    "\n",
    "An equilibrium price vector $p^*$ satisfies $e_i(p^*) = 0$.\n",
    "\n",
    "We set\n",
    "\n",
    "$$\n",
    "A = \\begin{pmatrix}\n",
    "            a_{00} & a_{01} \\\\\n",
    "            a_{10} & a_{11}\n",
    "        \\end{pmatrix},\n",
    "            \\qquad\n",
    "    b = \\begin{pmatrix}\n",
    "            b_0 \\\\\n",
    "            b_1\n",
    "        \\end{pmatrix}\n",
    "    \\qquad \\text{and} \\qquad\n",
    "    c = \\begin{pmatrix}\n",
    "            c_0 \\\\\n",
    "            c_1\n",
    "        \\end{pmatrix}\n",
    "$$\n",
    "\n",
    "for this particular question.\n",
    "\n",
    "\n",
    "### The Multivariable Market Equilibrium\n",
    "\n",
    "We can now easily get the multivariable version of the problem above.\n",
    "\n",
    "The supply function remains unchanged,\n",
    "\n",
    "$$\n",
    "q^s (p) =b \\sqrt{p}\n",
    "$$\n",
    "\n",
    "The demand function is,\n",
    "\n",
    "$$\n",
    "q^d (p) = \\text{exp}(- A \\cdot p) + c\n",
    "$$\n",
    "\n",
    "Our new excess demand function is,\n",
    "\n",
    "$$\n",
    "e(p) = \\text{exp}(- A \\cdot p) + c - b \\sqrt{p}\n",
    "$$\n",
    "\n",
    "The function below calculates the excess demand for the given parameters"
   ]
  },
  {
   "cell_type": "code",
   "execution_count": null,
   "id": "35c41492",
   "metadata": {},
   "outputs": [],
   "source": [
    "def e(p, A, b, c):\n",
    "    return jnp.exp(- A @ p) + c - b * jnp.sqrt(p)"
   ]
  },
  {
   "cell_type": "markdown",
   "id": "e133ae0c",
   "metadata": {},
   "source": [
    "## Using Newton's Method\n",
    "\n",
    "Now let's use the multivariate version of Newton's method to compute the equilibrium price\n",
    "\n",
    "```{math}\n",
    ":label: multi-newton\n",
    "p_{n+1} = p_n - J_e(p_n)^{-1} e(p_n)\n",
    "```\n",
    "\n",
    "Here $J_e(p_n)$ is the Jacobian of $e$ evaluated at $p_n$.\n",
    "\n",
    "The iteration starts from some initial guess of the price vector $p_0$.\n",
    "\n",
    "Here, instead of coding Jacobian by hand, We use the `jax.jacobian()` function to auto-differentiate and calculate the Jacobian.\n",
    "\n",
    "With only slight modification, we can generalize [our previous attempt](https://python.quantecon.org/newton_method.html#first-newton-attempt) to multi-dimensional problems"
   ]
  },
  {
   "cell_type": "code",
   "execution_count": null,
   "id": "2ae95688",
   "metadata": {},
   "outputs": [],
   "source": [
    "def newton(f, x_0, tol=1e-5, max_iter=15):\n",
    "    x = x_0\n",
    "    f_jac = jax.jacobian(f)\n",
    "    q = jax.jit(lambda x: x - jnp.linalg.solve(f_jac(x), f(x)))\n",
    "    error = tol + 1\n",
    "    n = 0\n",
    "    while error > tol:\n",
    "        n += 1\n",
    "        if(n > max_iter):\n",
    "            raise Exception('Max iteration reached without convergence')\n",
    "        y = q(x)\n",
    "        if jnp.any(jnp.isnan(y)):\n",
    "            raise Exception('Solution not found with NaN generated')\n",
    "        error = jnp.linalg.norm(x - y)\n",
    "        x = y\n",
    "        print(f'iteration {n}, error = {error}')\n",
    "    print('\\n' + f'Result = {x} \\n')\n",
    "    return x"
   ]
  },
  {
   "cell_type": "markdown",
   "id": "c8c369d1",
   "metadata": {},
   "source": [
    "### A High-Dimensional Problem\n",
    "\n",
    "We now apply the multivariate Newton's Method to  investigate a large market with 5,000 goods.\n",
    "\n",
    "We randomly generate the matrix $A$ and set the parameter vectors $b \\text{ and } c$ to $1$."
   ]
  },
  {
   "cell_type": "code",
   "execution_count": null,
   "id": "50c015d1",
   "metadata": {},
   "outputs": [],
   "source": [
    "dim = 5_000\n",
    "seed = 32\n",
    "\n",
    "# Create a random matrix A and normalize the rows to sum to one\n",
    "key = jax.random.PRNGKey(seed)\n",
    "\n",
    "A = jax.random.uniform(key, [dim, dim])\n",
    "\n",
    "s = jnp.sum(A, axis=0)\n",
    "A = A / s\n",
    "\n",
    "# Set up b and c\n",
    "b = jnp.ones(dim)\n",
    "c = jnp.ones(dim)"
   ]
  },
  {
   "cell_type": "markdown",
   "id": "1813598e",
   "metadata": {},
   "source": [
    "Here's our initial condition $p_0$"
   ]
  },
  {
   "cell_type": "code",
   "execution_count": null,
   "id": "c008ac75",
   "metadata": {},
   "outputs": [],
   "source": [
    "init_p = jnp.ones(dim)"
   ]
  },
  {
   "cell_type": "markdown",
   "id": "340e9ff6",
   "metadata": {},
   "source": [
    "By leveraging the power of Newton's method, JAX accelerated linear algebra,\n",
    "automatic differentiation, and a GPU, we obtain a relatively small error for\n",
    "this very large problem in just a few seconds:"
   ]
  },
  {
   "cell_type": "code",
   "execution_count": null,
   "id": "d741cebf",
   "metadata": {},
   "outputs": [],
   "source": [
    "%%time\n",
    "\n",
    "p = newton(lambda p: e(p, A, b, c), init_p).block_until_ready()"
   ]
  },
  {
   "cell_type": "code",
   "execution_count": null,
   "id": "b27fa931",
   "metadata": {},
   "outputs": [],
   "source": [
    "jnp.max(jnp.abs(e(p, A, b, c)))"
   ]
  },
  {
   "cell_type": "markdown",
   "id": "7e6cda1b",
   "metadata": {},
   "source": [
    "With the same tolerance, SciPy's `root` function takes much longer to run,\n",
    "even with the Jacobian supplied."
   ]
  },
  {
   "cell_type": "code",
   "execution_count": null,
   "id": "f8239bfa",
   "metadata": {},
   "outputs": [],
   "source": [
    "%%time\n",
    "\n",
    "solution = root(lambda p: e(p, A, b, c),\n",
    "                init_p,\n",
    "                jac=lambda p: jax.jacobian(e)(p, A, b, c),\n",
    "                method='hybr',\n",
    "                tol=1e-5)"
   ]
  },
  {
   "cell_type": "code",
   "execution_count": null,
   "id": "dc8c93ac",
   "metadata": {},
   "outputs": [],
   "source": [
    "p = solution.x\n",
    "jnp.max(jnp.abs(e(p, A, b, c)))"
   ]
  },
  {
   "cell_type": "markdown",
   "id": "7303f0cc",
   "metadata": {},
   "source": [
    "The result is also less accurate.\n",
    "\n",
    "\n",
    "\n",
    "## Exercises\n",
    "\n",
    "```{exercise-start}\n",
    ":label: newton_ex1\n",
    "```\n",
    "\n",
    "Consider a three-dimensional extension of the Solow fixed point problem with\n",
    "\n",
    "$$\n",
    "A = \\begin{pmatrix}\n",
    "            2 & 3 & 3 \\\\\n",
    "            2 & 4 & 2 \\\\\n",
    "            1 & 5 & 1 \\\\\n",
    "        \\end{pmatrix},\n",
    "            \\quad\n",
    "s = 0.2, \\quad α = 0.5, \\quad δ = 0.8\n",
    "$$\n",
    "\n",
    "As before the law of motion is\n",
    "\n",
    "```{math}\n",
    "    k_{t+1} = g(k_t) \\quad \\text{where} \\quad\n",
    "    g(k) := sAk^\\alpha + (1-\\delta) k\n",
    "```\n",
    "\n",
    "However $k_t$ is now a $3 \\times 1$ vector.\n",
    "\n",
    "Solve for the fixed point using Newton's method with the following initial values:\n",
    "\n",
    "$$\n",
    "\\begin{aligned}\n",
    "    k1_{0} &= (1, 1, 1) \\\\\n",
    "    k2_{0} &= (3, 5, 5) \\\\\n",
    "    k3_{0} &= (50, 50, 50)\n",
    "\\end{aligned}\n",
    "$$\n",
    "\n",
    "````{hint}\n",
    ":class: dropdown\n",
    "- The computation of the fixed point is equivalent to computing $k^*$ such that $f(k^*) - k^* = 0$.\n",
    "- If you are unsure about your solution, you can start with the solved example:\n",
    "```{math}\n",
    "A = \\begin{pmatrix}\n",
    "            2 & 0 & 0 \\\\\n",
    "            0 & 2 & 0 \\\\\n",
    "            0 & 0 & 2 \\\\\n",
    "        \\end{pmatrix}\n",
    "```\n",
    "with $s = 0.3$, $α = 0.3$, and $δ = 0.4$ and starting value:\n",
    "```{math}\n",
    "k_0 = (1, 1, 1)\n",
    "```\n",
    "The result should converge to the [analytical solution](https://python.quantecon.org/newton_method.html#solved-k).\n",
    "````\n",
    "\n",
    "```{exercise-end}\n",
    "```\n",
    "\n",
    "\n",
    "```{solution-start} newton_ex1\n",
    ":class: dropdown\n",
    "```\n",
    "\n",
    "Let's first define the parameters for this problem"
   ]
  },
  {
   "cell_type": "code",
   "execution_count": null,
   "id": "95206cff",
   "metadata": {},
   "outputs": [],
   "source": [
    "A = jnp.array([[2.0, 3.0, 3.0],\n",
    "               [2.0, 4.0, 2.0],\n",
    "               [1.0, 5.0, 1.0]])\n",
    "s = 0.2\n",
    "α = 0.5\n",
    "δ = 0.8\n",
    "initLs = [jnp.ones(3),\n",
    "          jnp.array([3.0, 5.0, 5.0]),\n",
    "          jnp.repeat(50.0, 3)]"
   ]
  },
  {
   "cell_type": "markdown",
   "id": "c9eeb885",
   "metadata": {},
   "source": [
    "Then define the multivariate version of the formula for the [law of motion of captial](https://python.quantecon.org/newton_method.html#solow)"
   ]
  },
  {
   "cell_type": "code",
   "execution_count": null,
   "id": "c435f1fd",
   "metadata": {},
   "outputs": [],
   "source": [
    "def multivariate_solow(k, A=A, s=s, α=α, δ=δ):\n",
    "    return s * jnp.dot(A, k**α) + (1 - δ) * k"
   ]
  },
  {
   "cell_type": "markdown",
   "id": "7b353416",
   "metadata": {},
   "source": [
    "Let's run through each starting value and see the output"
   ]
  },
  {
   "cell_type": "code",
   "execution_count": null,
   "id": "b22f5703",
   "metadata": {},
   "outputs": [],
   "source": [
    "attempt = 1\n",
    "for init in initLs:\n",
    "    print(f'Attempt {attempt}: Starting value is {init} \\n')\n",
    "    %time k = newton(lambda k: multivariate_solow(k) - k, \\\n",
    "                     init).block_until_ready()\n",
    "    print('-'*64)\n",
    "    attempt += 1"
   ]
  },
  {
   "cell_type": "markdown",
   "id": "02903645",
   "metadata": {},
   "source": [
    "We find that the results are invariant to the starting values given the well-defined property of this question.\n",
    "\n",
    "But the number of iterations it takes to converge is dependent on the starting values.\n",
    "\n",
    "Let substitute the output back to the formulate to check our last result"
   ]
  },
  {
   "cell_type": "code",
   "execution_count": null,
   "id": "fab4824e",
   "metadata": {},
   "outputs": [],
   "source": [
    "multivariate_solow(k) - k"
   ]
  },
  {
   "cell_type": "markdown",
   "id": "036e3753",
   "metadata": {},
   "source": [
    "Note the error is very small.\n",
    "\n",
    "We can also test our results on the known solution"
   ]
  },
  {
   "cell_type": "code",
   "execution_count": null,
   "id": "52491e9d",
   "metadata": {},
   "outputs": [],
   "source": [
    "A = jnp.array([[2.0, 0.0, 0.0],\n",
    "               [0.0, 2.0, 0.0],\n",
    "               [0.0, 0.0, 2.0]])\n",
    "s = 0.3\n",
    "α = 0.3\n",
    "δ = 0.4\n",
    "init = jnp.repeat(1.0, 3)\n",
    "%time k = newton(lambda k: multivariate_solow(k, A=A, s=s, α=α, δ=δ) - k, \\\n",
    "                 init).block_until_ready()"
   ]
  },
  {
   "cell_type": "markdown",
   "id": "e5f7def7",
   "metadata": {},
   "source": [
    "The result is very close to the ground truth but still slightly different.\n",
    "\n",
    "We can increase the precision of the floating point numbers and restrict the tolerance to obtain a more accurate approximation (see detailed discussion in the [lecture on JAX](https://python-programming.quantecon.org/jax_intro.html#differences))"
   ]
  },
  {
   "cell_type": "code",
   "execution_count": null,
   "id": "33048389",
   "metadata": {},
   "outputs": [],
   "source": [
    "# We will use 64 bit floats with JAX in order to increase the precision.\n",
    "jax.config.update(\"jax_enable_x64\", True)\n",
    "init = init.astype('float64')\n",
    "\n",
    "%time k = newton(lambda k: multivariate_solow(k, A=A, s=s, α=α, δ=δ) - k,\\\n",
    "                 init,\\\n",
    "                 tol=1e-7).block_until_ready()"
   ]
  },
  {
   "cell_type": "markdown",
   "id": "6191d934",
   "metadata": {},
   "source": [
    "We can see it steps towards a more accurate solution.\n",
    "\n",
    "```{solution-end}\n",
    "```\n",
    "\n",
    "\n",
    "```{exercise-start}\n",
    ":label: newton_ex2\n",
    "```\n",
    "\n",
    "In this exercise, let's try different initial values and check how Newton's method responds to different starting points.\n",
    "\n",
    "Let's define a three-good problem with the following default values:\n",
    "\n",
    "$$\n",
    "A = \\begin{pmatrix}\n",
    "            0.2 & 0.1 & 0.7 \\\\\n",
    "            0.3 & 0.2 & 0.5 \\\\\n",
    "            0.1 & 0.8 & 0.1 \\\\\n",
    "        \\end{pmatrix},\n",
    "            \\qquad\n",
    "b = \\begin{pmatrix}\n",
    "            1 \\\\\n",
    "            1 \\\\\n",
    "            1\n",
    "        \\end{pmatrix}\n",
    "    \\qquad \\text{and} \\qquad\n",
    "c = \\begin{pmatrix}\n",
    "            1 \\\\\n",
    "            1 \\\\\n",
    "            1\n",
    "        \\end{pmatrix}\n",
    "$$\n",
    "\n",
    "For this exercise, use the following extreme price vectors as initial values:\n",
    "\n",
    "$$\n",
    "\n",
    "\\begin{aligned}\n",
    "    p1_{0} &= (5, 5, 5) \\\\\n",
    "    p2_{0} &= (1, 1, 1) \\\\\n",
    "    p3_{0} &= (4.5, 0.1, 4)\n",
    "\\end{aligned}\n",
    "$$\n",
    "\n",
    "Set the tolerance to $10^{-15}$ for more accurate output.\n",
    "\n",
    "\n",
    "```{hint}\n",
    ":class: dropdown\n",
    "Similar to [exercise 1](newton_ex1), enabling `float64` for JAX can improve the precision of our results.\n",
    "```\n",
    "\n",
    "\n",
    "```{exercise-end}\n",
    "```\n",
    "\n",
    "```{solution-start} newton_ex2\n",
    ":class: dropdown\n",
    "```\n",
    "\n",
    "Define parameters and initial values"
   ]
  },
  {
   "cell_type": "code",
   "execution_count": null,
   "id": "b928cc8a",
   "metadata": {},
   "outputs": [],
   "source": [
    "A = jnp.array([\n",
    "    [0.2, 0.1, 0.7],\n",
    "    [0.3, 0.2, 0.5],\n",
    "    [0.1, 0.8, 0.1]\n",
    "])\n",
    "b = jnp.array([1.0, 1.0, 1.0])\n",
    "c = jnp.array([1.0, 1.0, 1.0])\n",
    "initLs = [jnp.repeat(5.0, 3),\n",
    "          jnp.array([4.5, 0.1, 4.0])]"
   ]
  },
  {
   "cell_type": "markdown",
   "id": "49d46858",
   "metadata": {},
   "source": [
    "Let’s run through each initial guess and check the output"
   ]
  },
  {
   "cell_type": "code",
   "execution_count": null,
   "id": "2909ceb0",
   "metadata": {},
   "outputs": [],
   "source": [
    "attempt = 1\n",
    "for init in initLs:\n",
    "    print(f'Attempt {attempt}: Starting value is {init} \\n')\n",
    "    init = init.astype('float64')\n",
    "    %time p = newton(lambda p: e(p, A, b, c), \\\n",
    "                 init, \\\n",
    "                 tol=1e-15, max_iter=15).block_until_ready()\n",
    "    print('-'*64)\n",
    "    attempt +=1"
   ]
  },
  {
   "cell_type": "markdown",
   "id": "fbb724b8",
   "metadata": {},
   "source": [
    "We can find that Newton's method may fail for some starting values.\n",
    "\n",
    "Sometimes it may take a few initial guesses to achieve convergence.\n",
    "\n",
    "Substitute the result back to the formula to check our result"
   ]
  },
  {
   "cell_type": "code",
   "execution_count": null,
   "id": "633a7337",
   "metadata": {},
   "outputs": [],
   "source": [
    "e(p, A, b, c)"
   ]
  },
  {
   "cell_type": "markdown",
   "id": "6677d17b",
   "metadata": {},
   "source": [
    "We can see the result is very accurate.\n",
    "\n",
    "```{solution-end}\n",
    "```"
   ]
  }
 ],
 "metadata": {
  "jupytext": {
   "text_representation": {
    "extension": ".md",
    "format_name": "myst",
    "format_version": 0.13,
    "jupytext_version": "1.14.5"
   }
  },
  "kernelspec": {
   "display_name": "Python 3 (ipykernel)",
   "language": "python",
   "name": "python3"
  },
  "source_map": [
   12,
   25,
   29,
   33,
   39,
   117,
   120,
   140,
   159,
   168,
   183,
   188,
   190,
   197,
   203,
   205,
   210,
   220,
   223,
   295,
   305,
   310,
   313,
   318,
   326,
   335,
   337,
   344,
   354,
   361,
   369,
   435,
   445,
   450,
   460,
   469,
   471
  ]
 },
 "nbformat": 4,
 "nbformat_minor": 5
}