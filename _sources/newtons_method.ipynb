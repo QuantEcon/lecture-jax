{
 "cells": [
  {
   "cell_type": "markdown",
   "id": "738aa912",
   "metadata": {},
   "source": [
    "# Newton’s Method via JAX\n",
    "\n",
    "```{include} _admonition/gpu.md\n",
    "```\n",
    "\n",
    "## Overview\n",
    "\n",
    "In this lecture we highlight some of the capabilities of JAX, including JIT\n",
    "compilation and automatic differentiation.\n",
    "\n",
    "The application is computing equilibria via Newton's method, which we discussed \n",
    "in [a more elementary QuantEcon lecture](https://python.quantecon.org/newton_method.html)\n",
    "\n",
    "Here our focus is on how to apply JAX to this problem.\n",
    "\n",
    "We use the following imports in this lecture"
   ]
  },
  {
   "cell_type": "code",
   "execution_count": 1,
   "id": "d1845401",
   "metadata": {},
   "outputs": [],
   "source": [
    "import jax\n",
    "import jax.numpy as jnp\n",
    "from scipy.optimize import root"
   ]
  },
  {
   "cell_type": "markdown",
   "id": "56ecdb20",
   "metadata": {},
   "source": [
    "Let's check the GPU we are running"
   ]
  },
  {
   "cell_type": "code",
   "execution_count": 2,
   "id": "c42c0a57",
   "metadata": {},
   "outputs": [
    {
     "name": "stdout",
     "output_type": "stream",
     "text": [
      "Tue May 16 11:16:15 2023       \r\n",
      "+-----------------------------------------------------------------------------+\r\n",
      "| NVIDIA-SMI 470.182.03   Driver Version: 470.182.03   CUDA Version: 12.1     |\r\n",
      "|-------------------------------+----------------------+----------------------+\r\n",
      "| GPU  Name        Persistence-M| Bus-Id        Disp.A | Volatile Uncorr. ECC |\r\n",
      "| Fan  Temp  Perf  Pwr:Usage/Cap|         Memory-Usage | GPU-Util  Compute M. |\r\n",
      "|                               |                      |               MIG M. |\r\n",
      "|===============================+======================+======================|\r\n"
     ]
    },
    {
     "name": "stdout",
     "output_type": "stream",
     "text": [
      "|   0  Tesla V100-SXM2...  Off  | 00000000:00:1E.0 Off |                    0 |\r\n",
      "| N/A   30C    P0    38W / 300W |      0MiB / 16160MiB |      2%      Default |\r\n",
      "|                               |                      |                  N/A |\r\n",
      "+-------------------------------+----------------------+----------------------+\r\n",
      "                                                                               \r\n",
      "+-----------------------------------------------------------------------------+\r\n",
      "| Processes:                                                                  |\r\n",
      "|  GPU   GI   CI        PID   Type   Process name                  GPU Memory |\r\n",
      "|        ID   ID                                                   Usage      |\r\n",
      "|=============================================================================|\r\n",
      "|  No running processes found                                                 |\r\n",
      "+-----------------------------------------------------------------------------+\r\n"
     ]
    }
   ],
   "source": [
    "!nvidia-smi"
   ]
  },
  {
   "cell_type": "markdown",
   "id": "01a4b508",
   "metadata": {},
   "source": [
    "## The Equilibrium Problem\n",
    "\n",
    "In this section we describe the market equilibrium problem we will solve with\n",
    "JAX.\n",
    "\n",
    "We begin with a two good case, \n",
    "which is borrowed from [an earlier lecture](https://python.quantecon.org/newton_method.html).\n",
    "\n",
    "Then we shift to higher dimensions.\n",
    "\n",
    "\n",
    "### The Two Goods Market Equilibrium\n",
    "\n",
    "Assume we have a market for two complementary goods where demand depends on the\n",
    "price of both components.\n",
    "\n",
    "We label them good 0 and good 1, with price vector $p = (p_0, p_1)$.\n",
    "\n",
    "Then the supply of good $i$ at price $p$ is,\n",
    "\n",
    "$$\n",
    "q^s_i (p) = b_i \\sqrt{p_i}\n",
    "$$\n",
    "\n",
    "and the demand of good $i$ at price $p$ is,\n",
    "\n",
    "$$\n",
    "q^d_i (p) = \\text{exp}(-(a_{i0} p_0 + a_{i1} p_1)) + c_i\n",
    "$$\n",
    "\n",
    "Here $a_{ij}$, $b_i$ and $c_i$ are parameters for $n \\times n$ square matrix $A$ and $n \\times 1$ parameter vectors $b$ and $c$.\n",
    "\n",
    "The excess demand function is,\n",
    "\n",
    "$$\n",
    "e_i(p) = q_i^d(p) - q_i^s(p), \\quad i = 0, 1\n",
    "$$\n",
    "\n",
    "An equilibrium price vector $p^*$ satisfies $e_i(p^*) = 0$.\n",
    "\n",
    "We set\n",
    "\n",
    "$$\n",
    "A = \\begin{pmatrix}\n",
    "            a_{00} & a_{01} \\\\\n",
    "            a_{10} & a_{11}\n",
    "        \\end{pmatrix},\n",
    "            \\qquad\n",
    "    b = \\begin{pmatrix}\n",
    "            b_0 \\\\\n",
    "            b_1\n",
    "        \\end{pmatrix}\n",
    "    \\qquad \\text{and} \\qquad\n",
    "    c = \\begin{pmatrix}\n",
    "            c_0 \\\\\n",
    "            c_1\n",
    "        \\end{pmatrix}\n",
    "$$\n",
    "\n",
    "for this particular question.\n",
    "\n",
    "\n",
    "### A High-Dimensional Version\n",
    "\n",
    "Let's now shift to a linear algebra formulation, which alllows us to handle\n",
    "arbitrarily many goods.\n",
    "\n",
    "The supply function remains unchanged,\n",
    "\n",
    "$$\n",
    "    q^s (p) =b \\sqrt{p}\n",
    "$$\n",
    "\n",
    "The demand function becomes\n",
    "\n",
    "$$\n",
    "    q^d (p) = \\text{exp}(- A \\cdot p) + c\n",
    "$$\n",
    "\n",
    "Our new excess demand function is\n",
    "\n",
    "$$\n",
    "e(p) = \\text{exp}(- A \\cdot p) + c - b \\sqrt{p}\n",
    "$$\n",
    "\n",
    "The function below calculates the excess demand for the given parameters"
   ]
  },
  {
   "cell_type": "code",
   "execution_count": 3,
   "id": "12782d33",
   "metadata": {},
   "outputs": [],
   "source": [
    "def e(p, A, b, c):\n",
    "    return jnp.exp(- A @ p) + c - b * jnp.sqrt(p)"
   ]
  },
  {
   "cell_type": "markdown",
   "id": "81ffa80d",
   "metadata": {},
   "source": [
    "## Computation\n",
    "\n",
    "In this section we describe and then implement the solution method.\n",
    "\n",
    "\n",
    "### Newton's Method\n",
    "\n",
    "We use a multivariate version of Newton's method to compute the equilibrium price.\n",
    "\n",
    "The rule for updating a guess $p_n$ of the price vector is\n",
    "\n",
    "```{math}\n",
    ":label: multi-newton\n",
    "p_{n+1} = p_n - J_e(p_n)^{-1} e(p_n)\n",
    "```\n",
    "\n",
    "Here $J_e(p_n)$ is the Jacobian of $e$ evaluated at $p_n$.\n",
    "\n",
    "Iteration starts from initial guess $p_0$.\n",
    "\n",
    "Instead of coding the Jacobian by hand, we use `jax.jacobian()`."
   ]
  },
  {
   "cell_type": "code",
   "execution_count": 4,
   "id": "4506fdfb",
   "metadata": {},
   "outputs": [],
   "source": [
    "def newton(f, x_0, tol=1e-5, max_iter=15):\n",
    "    x = x_0\n",
    "    f_jac = jax.jacobian(f)\n",
    "    q = jax.jit(lambda x: x - jnp.linalg.solve(f_jac(x), f(x)))\n",
    "    error = tol + 1\n",
    "    n = 0\n",
    "    while error > tol:\n",
    "        n += 1\n",
    "        if(n > max_iter):\n",
    "            raise Exception('Max iteration reached without convergence')\n",
    "        y = q(x)\n",
    "        if jnp.any(jnp.isnan(y)):\n",
    "            raise Exception('Solution not found with NaN generated')\n",
    "        error = jnp.linalg.norm(x - y)\n",
    "        x = y\n",
    "        print(f'iteration {n}, error = {error}')\n",
    "    print('\\n' + f'Result = {x} \\n')\n",
    "    return x"
   ]
  },
  {
   "cell_type": "markdown",
   "id": "1cc92b81",
   "metadata": {},
   "source": [
    "### Application\n",
    "\n",
    "Let's now apply the method just described to investigate a large market with 5,000 goods.\n",
    "\n",
    "We randomly generate the matrix $A$ and set the parameter vectors $b \\text{ and } c$ to $1$."
   ]
  },
  {
   "cell_type": "code",
   "execution_count": 5,
   "id": "4c8bdf1d",
   "metadata": {},
   "outputs": [],
   "source": [
    "dim = 5_000\n",
    "seed = 32\n",
    "\n",
    "# Create a random matrix A and normalize the rows to sum to one\n",
    "key = jax.random.PRNGKey(seed)\n",
    "\n",
    "A = jax.random.uniform(key, [dim, dim])\n",
    "\n",
    "s = jnp.sum(A, axis=0)\n",
    "A = A / s\n",
    "\n",
    "# Set up b and c\n",
    "b = jnp.ones(dim)\n",
    "c = jnp.ones(dim)"
   ]
  },
  {
   "cell_type": "markdown",
   "id": "729f62ab",
   "metadata": {},
   "source": [
    "Here's our initial condition $p_0$"
   ]
  },
  {
   "cell_type": "code",
   "execution_count": 6,
   "id": "5bf3053f",
   "metadata": {},
   "outputs": [],
   "source": [
    "init_p = jnp.ones(dim)"
   ]
  },
  {
   "cell_type": "markdown",
   "id": "ab1a122c",
   "metadata": {},
   "source": [
    "By leveraging the power of Newton's method, JAX accelerated linear algebra,\n",
    "automatic differentiation, and a GPU, we obtain a relatively small error for\n",
    "this very large problem in just a few seconds:"
   ]
  },
  {
   "cell_type": "code",
   "execution_count": 7,
   "id": "275855e0",
   "metadata": {},
   "outputs": [
    {
     "name": "stdout",
     "output_type": "stream",
     "text": [
      "iteration 1, error = 29.97745704650879\n",
      "iteration 2, error = 5.092828750610352\n",
      "iteration 3, error = 0.10971643775701523\n",
      "iteration 4, error = 5.197196878725663e-05\n"
     ]
    },
    {
     "name": "stdout",
     "output_type": "stream",
     "text": [
      "iteration 5, error = 1.2309188605286181e-05\n",
      "iteration 6, error = 4.6261807256087195e-06\n",
      "\n",
      "Result = [1.4999796 1.503175  1.4918782 ... 1.4914232 1.4956646 1.4976945] \n",
      "\n",
      "CPU times: user 4.76 s, sys: 1.44 s, total: 6.21 s\n",
      "Wall time: 4.26 s\n"
     ]
    }
   ],
   "source": [
    "%%time\n",
    "\n",
    "p = newton(lambda p: e(p, A, b, c), init_p).block_until_ready()"
   ]
  },
  {
   "cell_type": "code",
   "execution_count": 8,
   "id": "9fe360c7",
   "metadata": {},
   "outputs": [
    {
     "data": {
      "text/plain": [
       "Array(1.1920929e-07, dtype=float32)"
      ]
     },
     "execution_count": 8,
     "metadata": {},
     "output_type": "execute_result"
    }
   ],
   "source": [
    "jnp.max(jnp.abs(e(p, A, b, c)))"
   ]
  },
  {
   "cell_type": "markdown",
   "id": "d15f6493",
   "metadata": {},
   "source": [
    "With the same tolerance, SciPy's `root` function takes much longer to run,\n",
    "even with the Jacobian supplied."
   ]
  },
  {
   "cell_type": "code",
   "execution_count": 9,
   "id": "5e9a76d7",
   "metadata": {},
   "outputs": [
    {
     "name": "stdout",
     "output_type": "stream",
     "text": [
      "CPU times: user 2min 25s, sys: 381 ms, total: 2min 26s\n",
      "Wall time: 2min 26s\n"
     ]
    }
   ],
   "source": [
    "%%time\n",
    "\n",
    "solution = root(lambda p: e(p, A, b, c),\n",
    "                init_p,\n",
    "                jac=lambda p: jax.jacobian(e)(p, A, b, c),\n",
    "                method='hybr',\n",
    "                tol=1e-5)"
   ]
  },
  {
   "cell_type": "code",
   "execution_count": 10,
   "id": "00be4c7b",
   "metadata": {},
   "outputs": [
    {
     "data": {
      "text/plain": [
       "Array(7.1525574e-07, dtype=float32)"
      ]
     },
     "execution_count": 10,
     "metadata": {},
     "output_type": "execute_result"
    }
   ],
   "source": [
    "p = solution.x\n",
    "jnp.max(jnp.abs(e(p, A, b, c)))"
   ]
  },
  {
   "cell_type": "markdown",
   "id": "5e278dda",
   "metadata": {},
   "source": [
    "The result is also less accurate.\n",
    "\n",
    "\n",
    "\n",
    "## Exercises\n",
    "\n",
    "```{exercise-start}\n",
    ":label: newton_ex1\n",
    "```\n",
    "\n",
    "Consider a three-dimensional extension of [the Solow fixed point\n",
    "problem](https://python.quantecon.org/newton_method.html#the-solow-model) with\n",
    "\n",
    "$$\n",
    "A = \\begin{pmatrix}\n",
    "            2 & 3 & 3 \\\\\n",
    "            2 & 4 & 2 \\\\\n",
    "            1 & 5 & 1 \\\\\n",
    "        \\end{pmatrix},\n",
    "            \\quad\n",
    "s = 0.2, \\quad α = 0.5, \\quad δ = 0.8\n",
    "$$\n",
    "\n",
    "As before the law of motion is\n",
    "\n",
    "```{math}\n",
    "    k_{t+1} = g(k_t) \\quad \\text{where} \\quad\n",
    "    g(k) := sAk^\\alpha + (1-\\delta) k\n",
    "```\n",
    "\n",
    "However $k_t$ is now a $3 \\times 1$ vector.\n",
    "\n",
    "Solve for the fixed point using Newton's method with the following initial values:\n",
    "\n",
    "$$\n",
    "\\begin{aligned}\n",
    "    k1_{0} &= (1, 1, 1) \\\\\n",
    "    k2_{0} &= (3, 5, 5) \\\\\n",
    "    k3_{0} &= (50, 50, 50)\n",
    "\\end{aligned}\n",
    "$$\n",
    "\n",
    "````{hint}\n",
    ":class: dropdown\n",
    "- The computation of the fixed point is equivalent to computing $k^*$ such that $f(k^*) - k^* = 0$.\n",
    "- If you are unsure about your solution, you can start with the solved example:\n",
    "```{math}\n",
    "A = \\begin{pmatrix}\n",
    "            2 & 0 & 0 \\\\\n",
    "            0 & 2 & 0 \\\\\n",
    "            0 & 0 & 2 \\\\\n",
    "        \\end{pmatrix}\n",
    "```\n",
    "with $s = 0.3$, $α = 0.3$, and $δ = 0.4$ and starting value:\n",
    "```{math}\n",
    "k_0 = (1, 1, 1)\n",
    "```\n",
    "The result should converge to the [analytical solution](https://python.quantecon.org/newton_method.html#solved-k).\n",
    "````\n",
    "\n",
    "```{exercise-end}\n",
    "```\n",
    "\n",
    "\n",
    "```{solution-start} newton_ex1\n",
    ":class: dropdown\n",
    "```\n",
    "\n",
    "Let's first define the parameters for this problem"
   ]
  },
  {
   "cell_type": "code",
   "execution_count": 11,
   "id": "88c614c9",
   "metadata": {},
   "outputs": [],
   "source": [
    "A = jnp.array([[2.0, 3.0, 3.0],\n",
    "               [2.0, 4.0, 2.0],\n",
    "               [1.0, 5.0, 1.0]])\n",
    "s = 0.2\n",
    "α = 0.5\n",
    "δ = 0.8\n",
    "initLs = [jnp.ones(3),\n",
    "          jnp.array([3.0, 5.0, 5.0]),\n",
    "          jnp.repeat(50.0, 3)]"
   ]
  },
  {
   "cell_type": "markdown",
   "id": "096f04a6",
   "metadata": {},
   "source": [
    "Then define the multivariate version of the formula for the [law of motion of captial](https://python.quantecon.org/newton_method.html#solow)"
   ]
  },
  {
   "cell_type": "code",
   "execution_count": 12,
   "id": "cc36e61f",
   "metadata": {},
   "outputs": [],
   "source": [
    "def multivariate_solow(k, A=A, s=s, α=α, δ=δ):\n",
    "    return s * jnp.dot(A, k**α) + (1 - δ) * k"
   ]
  },
  {
   "cell_type": "markdown",
   "id": "e7b14079",
   "metadata": {},
   "source": [
    "Let's run through each starting value and see the output"
   ]
  },
  {
   "cell_type": "code",
   "execution_count": 13,
   "id": "fb26e318",
   "metadata": {},
   "outputs": [
    {
     "name": "stdout",
     "output_type": "stream",
     "text": [
      "Attempt 1: Starting value is [1. 1. 1.] \n",
      "\n"
     ]
    },
    {
     "name": "stdout",
     "output_type": "stream",
     "text": [
      "iteration 1, error = 50.496315002441406\n",
      "iteration 2, error = 41.1093864440918\n",
      "iteration 3, error = 4.294127464294434\n",
      "iteration 4, error = 0.3854290544986725\n",
      "iteration 5, error = 0.0054382034577429295\n",
      "iteration 6, error = 8.92080606718082e-07\n",
      "\n",
      "Result = [3.8405814 3.870718  3.4109194] \n",
      "\n",
      "CPU times: user 805 ms, sys: 25.2 ms, total: 830 ms\n",
      "Wall time: 678 ms\n",
      "----------------------------------------------------------------\n",
      "Attempt 2: Starting value is [3. 5. 5.] \n",
      "\n"
     ]
    },
    {
     "name": "stdout",
     "output_type": "stream",
     "text": [
      "iteration 1, error = 2.0701100826263428\n",
      "iteration 2, error = 0.12642373144626617\n",
      "iteration 3, error = 0.0006017307168804109\n",
      "iteration 4, error = 3.3717478231665154e-07\n",
      "\n",
      "Result = [3.8405814 3.8707182 3.4109197] \n",
      "\n",
      "CPU times: user 588 ms, sys: 4.07 ms, total: 592 ms\n",
      "Wall time: 220 ms\n",
      "----------------------------------------------------------------\n",
      "Attempt 3: Starting value is [50. 50. 50.] \n",
      "\n"
     ]
    },
    {
     "name": "stdout",
     "output_type": "stream",
     "text": [
      "iteration 1, error = 73.00942993164062\n"
     ]
    },
    {
     "name": "stdout",
     "output_type": "stream",
     "text": [
      "iteration 2, error = 6.493789196014404\n",
      "iteration 3, error = 0.6806989312171936\n",
      "iteration 4, error = 0.016202213242650032\n",
      "iteration 5, error = 1.0600916539260652e-05\n",
      "iteration 6, error = 9.830249609876773e-07\n",
      "\n",
      "Result = [3.840581  3.8707182 3.41092  ] \n",
      "\n",
      "CPU times: user 1.23 s, sys: 3.97 ms, total: 1.23 s\n",
      "Wall time: 508 ms\n",
      "----------------------------------------------------------------\n"
     ]
    }
   ],
   "source": [
    "attempt = 1\n",
    "for init in initLs:\n",
    "    print(f'Attempt {attempt}: Starting value is {init} \\n')\n",
    "    %time k = newton(lambda k: multivariate_solow(k) - k, \\\n",
    "                     init).block_until_ready()\n",
    "    print('-'*64)\n",
    "    attempt += 1"
   ]
  },
  {
   "cell_type": "markdown",
   "id": "bc3ca45a",
   "metadata": {},
   "source": [
    "We find that the results are invariant to the starting values given the well-defined property of this question.\n",
    "\n",
    "But the number of iterations it takes to converge is dependent on the starting values.\n",
    "\n",
    "Let substitute the output back to the formulate to check our last result"
   ]
  },
  {
   "cell_type": "code",
   "execution_count": 14,
   "id": "03a81b06",
   "metadata": {},
   "outputs": [
    {
     "data": {
      "text/plain": [
       "Array([ 4.7683716e-07,  0.0000000e+00, -2.3841858e-07], dtype=float32)"
      ]
     },
     "execution_count": 14,
     "metadata": {},
     "output_type": "execute_result"
    }
   ],
   "source": [
    "multivariate_solow(k) - k"
   ]
  },
  {
   "cell_type": "markdown",
   "id": "7980b86e",
   "metadata": {},
   "source": [
    "Note the error is very small.\n",
    "\n",
    "We can also test our results on the known solution"
   ]
  },
  {
   "cell_type": "code",
   "execution_count": 15,
   "id": "3744257e",
   "metadata": {},
   "outputs": [
    {
     "name": "stdout",
     "output_type": "stream",
     "text": [
      "iteration 1, error = 1.5745922327041626\n"
     ]
    },
    {
     "name": "stdout",
     "output_type": "stream",
     "text": [
      "iteration 2, error = 0.21344946324825287\n",
      "iteration 3, error = 0.002045975998044014\n",
      "iteration 4, error = 8.259061701210157e-07\n",
      "\n",
      "Result = [1.7846744 1.7846744 1.7846744] \n",
      "\n",
      "CPU times: user 1.16 s, sys: 16.2 ms, total: 1.17 s\n",
      "Wall time: 507 ms\n"
     ]
    }
   ],
   "source": [
    "A = jnp.array([[2.0, 0.0, 0.0],\n",
    "               [0.0, 2.0, 0.0],\n",
    "               [0.0, 0.0, 2.0]])\n",
    "s = 0.3\n",
    "α = 0.3\n",
    "δ = 0.4\n",
    "init = jnp.repeat(1.0, 3)\n",
    "%time k = newton(lambda k: multivariate_solow(k, A=A, s=s, α=α, δ=δ) - k, \\\n",
    "                 init).block_until_ready()"
   ]
  },
  {
   "cell_type": "markdown",
   "id": "96673235",
   "metadata": {},
   "source": [
    "The result is very close to the ground truth but still slightly different.\n",
    "\n",
    "We can increase the precision of the floating point numbers and restrict the tolerance to obtain a more accurate approximation (see detailed discussion in the [lecture on JAX](https://python-programming.quantecon.org/jax_intro.html#differences))"
   ]
  },
  {
   "cell_type": "code",
   "execution_count": 16,
   "id": "ae34432b",
   "metadata": {},
   "outputs": [
    {
     "name": "stdout",
     "output_type": "stream",
     "text": [
      "iteration 1, error = 1.5745916432444333\n",
      "iteration 2, error = 0.21344933091258958\n",
      "iteration 3, error = 0.0020465547718452695\n",
      "iteration 4, error = 2.0309190076799282e-07\n",
      "iteration 5, error = 1.538370149106851e-15\n",
      "\n",
      "Result = [1.78467418 1.78467418 1.78467418] \n",
      "\n",
      "CPU times: user 848 ms, sys: 16.4 ms, total: 865 ms\n",
      "Wall time: 697 ms\n"
     ]
    }
   ],
   "source": [
    "# We will use 64 bit floats with JAX in order to increase the precision.\n",
    "jax.config.update(\"jax_enable_x64\", True)\n",
    "init = init.astype('float64')\n",
    "\n",
    "%time k = newton(lambda k: multivariate_solow(k, A=A, s=s, α=α, δ=δ) - k,\\\n",
    "                 init,\\\n",
    "                 tol=1e-7).block_until_ready()"
   ]
  },
  {
   "cell_type": "markdown",
   "id": "9da19cf0",
   "metadata": {},
   "source": [
    "We can see it steps towards a more accurate solution.\n",
    "\n",
    "```{solution-end}\n",
    "```\n",
    "\n",
    "\n",
    "```{exercise-start}\n",
    ":label: newton_ex2\n",
    "```\n",
    "\n",
    "In this exercise, let's try different initial values and check how Newton's method responds to different starting points.\n",
    "\n",
    "Let's define a three-good problem with the following default values:\n",
    "\n",
    "$$\n",
    "A = \\begin{pmatrix}\n",
    "            0.2 & 0.1 & 0.7 \\\\\n",
    "            0.3 & 0.2 & 0.5 \\\\\n",
    "            0.1 & 0.8 & 0.1 \\\\\n",
    "        \\end{pmatrix},\n",
    "            \\qquad\n",
    "b = \\begin{pmatrix}\n",
    "            1 \\\\\n",
    "            1 \\\\\n",
    "            1\n",
    "        \\end{pmatrix}\n",
    "    \\qquad \\text{and} \\qquad\n",
    "c = \\begin{pmatrix}\n",
    "            1 \\\\\n",
    "            1 \\\\\n",
    "            1\n",
    "        \\end{pmatrix}\n",
    "$$\n",
    "\n",
    "For this exercise, use the following extreme price vectors as initial values:\n",
    "\n",
    "$$\n",
    "\n",
    "\\begin{aligned}\n",
    "    p1_{0} &= (5, 5, 5) \\\\\n",
    "    p2_{0} &= (1, 1, 1) \\\\\n",
    "    p3_{0} &= (4.5, 0.1, 4)\n",
    "\\end{aligned}\n",
    "$$\n",
    "\n",
    "Set the tolerance to $10^{-15}$ for more accurate output.\n",
    "\n",
    "\n",
    "```{hint}\n",
    ":class: dropdown\n",
    "Similar to [exercise 1](newton_ex1), enabling `float64` for JAX can improve the precision of our results.\n",
    "```\n",
    "\n",
    "\n",
    "```{exercise-end}\n",
    "```\n",
    "\n",
    "```{solution-start} newton_ex2\n",
    ":class: dropdown\n",
    "```\n",
    "\n",
    "Define parameters and initial values"
   ]
  },
  {
   "cell_type": "code",
   "execution_count": 17,
   "id": "e72bf874",
   "metadata": {},
   "outputs": [],
   "source": [
    "A = jnp.array([\n",
    "    [0.2, 0.1, 0.7],\n",
    "    [0.3, 0.2, 0.5],\n",
    "    [0.1, 0.8, 0.1]\n",
    "])\n",
    "b = jnp.array([1.0, 1.0, 1.0])\n",
    "c = jnp.array([1.0, 1.0, 1.0])\n",
    "initLs = [jnp.repeat(5.0, 3),\n",
    "          jnp.array([4.5, 0.1, 4.0])]"
   ]
  },
  {
   "cell_type": "markdown",
   "id": "d9e46524",
   "metadata": {},
   "source": [
    "Let’s run through each initial guess and check the output"
   ]
  },
  {
   "cell_type": "code",
   "execution_count": 18,
   "id": "c8634766",
   "metadata": {},
   "outputs": [
    {
     "name": "stdout",
     "output_type": "stream",
     "text": [
      "Attempt 1: Starting value is [5. 5. 5.] \n",
      "\n"
     ]
    },
    {
     "name": "stdout",
     "output_type": "stream",
     "text": [
      "iteration 1, error = 9.243805733085065\n"
     ]
    },
    {
     "ename": "Exception",
     "evalue": "Solution not found with NaN generated",
     "output_type": "error",
     "traceback": [
      "\u001b[0;31m---------------------------------------------------------------------------\u001b[0m",
      "\u001b[0;31mException\u001b[0m                                 Traceback (most recent call last)",
      "File \u001b[0;32m<timed exec>:1\u001b[0m\n",
      "Cell \u001b[0;32mIn[4], line 13\u001b[0m, in \u001b[0;36mnewton\u001b[0;34m(f, x_0, tol, max_iter)\u001b[0m\n\u001b[1;32m     11\u001b[0m y \u001b[38;5;241m=\u001b[39m q(x)\n\u001b[1;32m     12\u001b[0m \u001b[38;5;28;01mif\u001b[39;00m jnp\u001b[38;5;241m.\u001b[39many(jnp\u001b[38;5;241m.\u001b[39misnan(y)):\n\u001b[0;32m---> 13\u001b[0m     \u001b[38;5;28;01mraise\u001b[39;00m \u001b[38;5;167;01mException\u001b[39;00m(\u001b[38;5;124m'\u001b[39m\u001b[38;5;124mSolution not found with NaN generated\u001b[39m\u001b[38;5;124m'\u001b[39m)\n\u001b[1;32m     14\u001b[0m error \u001b[38;5;241m=\u001b[39m jnp\u001b[38;5;241m.\u001b[39mlinalg\u001b[38;5;241m.\u001b[39mnorm(x \u001b[38;5;241m-\u001b[39m y)\n\u001b[1;32m     15\u001b[0m x \u001b[38;5;241m=\u001b[39m y\n",
      "\u001b[0;31mException\u001b[0m: Solution not found with NaN generated"
     ]
    },
    {
     "name": "stdout",
     "output_type": "stream",
     "text": [
      "----------------------------------------------------------------\n",
      "Attempt 2: Starting value is [4.5 0.1 4. ] \n",
      "\n",
      "iteration 1, error = 4.892018895185869\n",
      "iteration 2, error = 1.2120550201694784\n"
     ]
    },
    {
     "name": "stdout",
     "output_type": "stream",
     "text": [
      "iteration 3, error = 0.6942087122866175\n",
      "iteration 4, error = 0.168951089180319\n",
      "iteration 5, error = 0.005209730313222213\n",
      "iteration 6, error = 4.3632751705775364e-06\n",
      "iteration 7, error = 3.0460818773540415e-12\n",
      "iteration 8, error = 0.0\n",
      "\n",
      "Result = [1.49744442 1.49744442 1.49744442] \n",
      "\n",
      "CPU times: user 839 ms, sys: 8.37 ms, total: 848 ms\n",
      "Wall time: 235 ms\n",
      "----------------------------------------------------------------\n"
     ]
    }
   ],
   "source": [
    "attempt = 1\n",
    "for init in initLs:\n",
    "    print(f'Attempt {attempt}: Starting value is {init} \\n')\n",
    "    init = init.astype('float64')\n",
    "    %time p = newton(lambda p: e(p, A, b, c), \\\n",
    "                 init, \\\n",
    "                 tol=1e-15, max_iter=15).block_until_ready()\n",
    "    print('-'*64)\n",
    "    attempt +=1"
   ]
  },
  {
   "cell_type": "markdown",
   "id": "0051cf46",
   "metadata": {},
   "source": [
    "We can find that Newton's method may fail for some starting values.\n",
    "\n",
    "Sometimes it may take a few initial guesses to achieve convergence.\n",
    "\n",
    "Substitute the result back to the formula to check our result"
   ]
  },
  {
   "cell_type": "code",
   "execution_count": 19,
   "id": "9a6a1cd8",
   "metadata": {},
   "outputs": [
    {
     "data": {
      "text/plain": [
       "Array([0., 0., 0.], dtype=float64)"
      ]
     },
     "execution_count": 19,
     "metadata": {},
     "output_type": "execute_result"
    }
   ],
   "source": [
    "e(p, A, b, c)"
   ]
  },
  {
   "cell_type": "markdown",
   "id": "b219906d",
   "metadata": {},
   "source": [
    "We can see the result is very accurate.\n",
    "\n",
    "```{solution-end}\n",
    "```"
   ]
  }
 ],
 "metadata": {
  "jupytext": {
   "text_representation": {
    "extension": ".md",
    "format_name": "myst",
    "format_version": 0.13,
    "jupytext_version": "1.14.5"
   }
  },
  "kernelspec": {
   "display_name": "Python 3 (ipykernel)",
   "language": "python",
   "name": "python3"
  },
  "language_info": {
   "codemirror_mode": {
    "name": "ipython",
    "version": 3
   },
   "file_extension": ".py",
   "mimetype": "text/x-python",
   "name": "python",
   "nbconvert_exporter": "python",
   "pygments_lexer": "ipython3",
   "version": "3.10.9"
  },
  "source_map": [
   12,
   32,
   36,
   40,
   42,
   131,
   134,
   160,
   179,
   188,
   203,
   208,
   210,
   216,
   222,
   224,
   229,
   239,
   242,
   315,
   325,
   330,
   333,
   338,
   346,
   355,
   357,
   364,
   374,
   381,
   389,
   455,
   465,
   470,
   480,
   489,
   491
  ]
 },
 "nbformat": 4,
 "nbformat_minor": 5
}