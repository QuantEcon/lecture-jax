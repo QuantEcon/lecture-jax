{
 "cells": [
  {
   "cell_type": "markdown",
   "id": "b455b613",
   "metadata": {},
   "source": [
    "# Cake Eating: Numerical Methods\n",
    "\n",
    "```{include} _admonition/gpu.md\n",
    "```\n",
    "\n",
    "This lecture is the extended JAX implementation of [this lecture](https://python.quantecon.org/cake_eating_numerical.html).\n",
    "\n",
    "Please refer that lecture for all background and notation.\n",
    "\n",
    "In addition to what's in Anaconda, this lecture will need the following libraries:"
   ]
  },
  {
   "cell_type": "code",
   "execution_count": 1,
   "id": "8e570792",
   "metadata": {
    "tags": [
     "hide-output"
    ]
   },
   "outputs": [
    {
     "name": "stdout",
     "output_type": "stream",
     "text": [
      "Requirement already satisfied: quantecon in /opt/conda/envs/quantecon/lib/python3.11/site-packages (0.7.1)\r\n",
      "Requirement already satisfied: numba>=0.49.0 in /opt/conda/envs/quantecon/lib/python3.11/site-packages (from quantecon) (0.59.0)\r\n",
      "Requirement already satisfied: numpy>=1.17.0 in /opt/conda/envs/quantecon/lib/python3.11/site-packages (from quantecon) (1.26.4)\r\n",
      "Requirement already satisfied: requests in /opt/conda/envs/quantecon/lib/python3.11/site-packages (from quantecon) (2.31.0)\r\n",
      "Requirement already satisfied: scipy>=1.5.0 in /opt/conda/envs/quantecon/lib/python3.11/site-packages (from quantecon) (1.11.4)\r\n",
      "Requirement already satisfied: sympy in /opt/conda/envs/quantecon/lib/python3.11/site-packages (from quantecon) (1.12)\r\n",
      "Requirement already satisfied: llvmlite<0.43,>=0.42.0dev0 in /opt/conda/envs/quantecon/lib/python3.11/site-packages (from numba>=0.49.0->quantecon) (0.42.0)\r\n"
     ]
    },
    {
     "name": "stdout",
     "output_type": "stream",
     "text": [
      "Requirement already satisfied: charset-normalizer<4,>=2 in /opt/conda/envs/quantecon/lib/python3.11/site-packages (from requests->quantecon) (2.0.4)\r\n",
      "Requirement already satisfied: idna<4,>=2.5 in /opt/conda/envs/quantecon/lib/python3.11/site-packages (from requests->quantecon) (3.4)\r\n",
      "Requirement already satisfied: urllib3<3,>=1.21.1 in /opt/conda/envs/quantecon/lib/python3.11/site-packages (from requests->quantecon) (2.0.7)\r\n",
      "Requirement already satisfied: certifi>=2017.4.17 in /opt/conda/envs/quantecon/lib/python3.11/site-packages (from requests->quantecon) (2024.2.2)\r\n",
      "Requirement already satisfied: mpmath>=0.19 in /opt/conda/envs/quantecon/lib/python3.11/site-packages (from sympy->quantecon) (1.3.0)\r\n"
     ]
    },
    {
     "name": "stdout",
     "output_type": "stream",
     "text": [
      "\u001b[33mWARNING: Running pip as the 'root' user can result in broken permissions and conflicting behaviour with the system package manager. It is recommended to use a virtual environment instead: https://pip.pypa.io/warnings/venv\u001b[0m\u001b[33m\r\n",
      "\u001b[0m"
     ]
    }
   ],
   "source": [
    "!pip install quantecon"
   ]
  },
  {
   "cell_type": "markdown",
   "id": "8b5fbc59",
   "metadata": {},
   "source": [
    "We will use the following imports."
   ]
  },
  {
   "cell_type": "code",
   "execution_count": 2,
   "id": "63d4c58b",
   "metadata": {},
   "outputs": [],
   "source": [
    "import jax\n",
    "import jax.numpy as jnp\n",
    "import matplotlib.pyplot as plt\n",
    "from collections import namedtuple\n",
    "import time"
   ]
  },
  {
   "cell_type": "markdown",
   "id": "7a04ae6b",
   "metadata": {},
   "source": [
    "Let's check the GPU we are running"
   ]
  },
  {
   "cell_type": "code",
   "execution_count": 3,
   "id": "5b1e5e31",
   "metadata": {},
   "outputs": [
    {
     "name": "stderr",
     "output_type": "stream",
     "text": [
      "/opt/conda/envs/quantecon/lib/python3.11/pty.py:89: RuntimeWarning: os.fork() was called. os.fork() is incompatible with multithreaded code, and JAX is multithreaded, so this will likely lead to a deadlock.\n",
      "  pid, fd = os.forkpty()\n"
     ]
    },
    {
     "name": "stdout",
     "output_type": "stream",
     "text": [
      "Thu Mar  7 01:45:18 2024       \r\n",
      "+-----------------------------------------------------------------------------+\r\n",
      "| NVIDIA-SMI 470.182.03   Driver Version: 470.182.03   CUDA Version: 12.3     |\r\n",
      "|-------------------------------+----------------------+----------------------+\r\n",
      "| GPU  Name        Persistence-M| Bus-Id        Disp.A | Volatile Uncorr. ECC |\r\n",
      "| Fan  Temp  Perf  Pwr:Usage/Cap|         Memory-Usage | GPU-Util  Compute M. |\r\n",
      "|                               |                      |               MIG M. |\r\n",
      "|===============================+======================+======================|\r\n"
     ]
    },
    {
     "name": "stdout",
     "output_type": "stream",
     "text": [
      "|   0  Tesla V100-SXM2...  Off  | 00000000:00:1E.0 Off |                    0 |\r\n",
      "| N/A   33C    P0    38W / 300W |      0MiB / 16160MiB |      2%      Default |\r\n",
      "|                               |                      |                  N/A |\r\n",
      "+-------------------------------+----------------------+----------------------+\r\n",
      "                                                                               \r\n",
      "+-----------------------------------------------------------------------------+\r\n",
      "| Processes:                                                                  |\r\n",
      "|  GPU   GI   CI        PID   Type   Process name                  GPU Memory |\r\n",
      "|        ID   ID                                                   Usage      |\r\n",
      "|=============================================================================|\r\n",
      "|  No running processes found                                                 |\r\n",
      "+-----------------------------------------------------------------------------+\r\n"
     ]
    }
   ],
   "source": [
    "!nvidia-smi"
   ]
  },
  {
   "cell_type": "markdown",
   "id": "45d247c8",
   "metadata": {},
   "source": [
    "## Reviewing the Model\n",
    "\n",
    "Recall in particular that the Bellman equation is\n",
    "\n",
    "```{math}\n",
    ":label: bellman-cen\n",
    "\n",
    "v(x) = \\max_{0\\leq c \\leq x} \\{u(c) + \\beta v(x-c)\\}\n",
    "\\quad \\text{for all } x \\geq 0.\n",
    "```\n",
    "\n",
    "where $u$ is the CRRA utility function.\n",
    "\n",
    "\n",
    "## Implementation using JAX\n",
    "\n",
    "\n",
    "The analytical solutions for the value function and optimal policy were found\n",
    "to be as follows."
   ]
  },
  {
   "cell_type": "code",
   "execution_count": 4,
   "id": "233476cb",
   "metadata": {},
   "outputs": [],
   "source": [
    "@jax.jit\n",
    "def c_star(x, β, γ):\n",
    "    return (1 - β ** (1/γ)) * x\n",
    "\n",
    "@jax.jit\n",
    "def v_star(x, β, γ):\n",
    "    return (1 - β**(1 / γ))**(-γ) * (x**(1-γ) / (1-γ))"
   ]
  },
  {
   "cell_type": "markdown",
   "id": "34e02229",
   "metadata": {},
   "source": [
    "Let's define a model to represent the Cake Eating Problem."
   ]
  },
  {
   "cell_type": "code",
   "execution_count": 5,
   "id": "9bba9297",
   "metadata": {},
   "outputs": [],
   "source": [
    "CEM = namedtuple('CakeEatingModel',\n",
    "                    ('β', 'γ', 'x_grid', 'c_grid'))"
   ]
  },
  {
   "cell_type": "code",
   "execution_count": 6,
   "id": "b29eec6e",
   "metadata": {},
   "outputs": [],
   "source": [
    "def create_cake_eating_model(β=0.96,           # discount factor\n",
    "                             γ=1.5,            # degree of relative risk aversion\n",
    "                             x_grid_min=1e-3,  # exclude zero for numerical stability\n",
    "                             x_grid_max=2.5,   # size of cake\n",
    "                             x_grid_size=200):\n",
    "    x_grid = jnp.linspace(x_grid_min, x_grid_max, x_grid_size)\n",
    "\n",
    "    # c_grid used for finding maximize function values using brute force\n",
    "    c_grid = jnp.linspace(x_grid_min, x_grid_max, 100*x_grid_size)\n",
    "    return CEM(β=β, γ=γ, x_grid=x_grid, c_grid=c_grid)"
   ]
  },
  {
   "cell_type": "markdown",
   "id": "865c3bb1",
   "metadata": {},
   "source": [
    "Now let's define the CRRA utility function."
   ]
  },
  {
   "cell_type": "code",
   "execution_count": 7,
   "id": "6458f17a",
   "metadata": {},
   "outputs": [],
   "source": [
    "# Utility function\n",
    "@jax.jit\n",
    "def u(c, cem):\n",
    "    return (c ** (1 - cem.γ)) / (1 - cem.γ)"
   ]
  },
  {
   "cell_type": "markdown",
   "id": "b81c9e21",
   "metadata": {},
   "source": [
    "### The Bellman Operator\n",
    "\n",
    "We introduce the **Bellman operator** $T$ that takes a function v as an\n",
    "argument and returns a new function $Tv$ defined by\n",
    "\n",
    "$$\n",
    "Tv(x) = \\max_{0 \\leq c \\leq x} \\{u(c) + \\beta v(x - c)\\}\n",
    "$$\n",
    "\n",
    "From $v$ we get $Tv$, and applying $T$ to this yields\n",
    "$T^2 v := T (Tv)$ and so on.\n",
    "\n",
    "This is called **iterating with the Bellman operator** from initial guess\n",
    "$v$."
   ]
  },
  {
   "cell_type": "code",
   "execution_count": 8,
   "id": "e97ef246",
   "metadata": {},
   "outputs": [],
   "source": [
    "@jax.jit\n",
    "def state_action_value(x, c, v_array, ce):\n",
    "    \"\"\"\n",
    "    Right hand side of the Bellman equation given x and c.\n",
    "    * x: scalar element `x`\n",
    "    * c: c_grid, 1-D array\n",
    "    * v_array: value function array guess, 1-D array\n",
    "    * ce: Cake Eating Model instance\n",
    "    \"\"\"\n",
    "\n",
    "    return jnp.where(c <= x,\n",
    "                     u(c, ce) + ce.β * jnp.interp(x - c, ce.x_grid, v_array),\n",
    "                     -jnp.inf)"
   ]
  },
  {
   "cell_type": "markdown",
   "id": "f25448a9",
   "metadata": {},
   "source": [
    "In order to create a vectorized function using `state_action_value`, we use [jax.vmap](https://jax.readthedocs.io/en/latest/_autosummary/jax.vmap.html).\n",
    "This function returns a new vectorized version of the above function which is vectorized on the argument `x`."
   ]
  },
  {
   "cell_type": "code",
   "execution_count": 9,
   "id": "88497829",
   "metadata": {},
   "outputs": [],
   "source": [
    "state_action_value_vec = jax.vmap(state_action_value, (0, None, None, None))"
   ]
  },
  {
   "cell_type": "code",
   "execution_count": 10,
   "id": "be7c5f92",
   "metadata": {},
   "outputs": [],
   "source": [
    "@jax.jit\n",
    "def T(v, ce):\n",
    "    \"\"\"\n",
    "    The Bellman operator. Updates the guess of the value function.\n",
    "\n",
    "    * ce: Cake Eating Model instance\n",
    "    * v: value function array guess, 1-D array\n",
    "\n",
    "    \"\"\"\n",
    "    return jnp.max(state_action_value_vec(ce.x_grid, ce.c_grid, v, ce), axis=1)"
   ]
  },
  {
   "cell_type": "markdown",
   "id": "8f850949",
   "metadata": {},
   "source": [
    "Let’s start by creating a Cake Eating Model instance using the default parameterization."
   ]
  },
  {
   "cell_type": "code",
   "execution_count": 11,
   "id": "bc071a61",
   "metadata": {},
   "outputs": [],
   "source": [
    "ce = create_cake_eating_model()"
   ]
  },
  {
   "cell_type": "markdown",
   "id": "62c84896",
   "metadata": {},
   "source": [
    "Now let's see the iteration of the value function in action.\n",
    "\n",
    "We start from guess $v$ given by $v(x) = u(x)$ for every\n",
    "$x$ grid point."
   ]
  },
  {
   "cell_type": "code",
   "execution_count": 12,
   "id": "ad96f30a",
   "metadata": {},
   "outputs": [
    {
     "data": {
      "image/png": "[encoded data removed]",
      "text/plain": [
       "<Figure size 640x480 with 1 Axes>"
      ]
     },
     "metadata": {},
     "output_type": "display_data"
    }
   ],
   "source": [
    "x_grid = ce.x_grid\n",
    "v = u(x_grid, ce)       # Initial guess\n",
    "n = 12                 # Number of iterations\n",
    "\n",
    "fig, ax = plt.subplots()\n",
    "\n",
    "ax.plot(x_grid, v, color=plt.cm.jet(0),\n",
    "        lw=2, alpha=0.6, label='Initial guess')\n",
    "\n",
    "for i in range(n):\n",
    "    v = T(v, ce)  # Apply the Bellman operator\n",
    "    ax.plot(x_grid, v, color=plt.cm.jet(i / n), lw=2, alpha=0.6)\n",
    "\n",
    "ax.legend()\n",
    "ax.set_ylabel('value', fontsize=12)\n",
    "ax.set_xlabel('cake size $x$', fontsize=12)\n",
    "ax.set_title('Value function iterations')\n",
    "\n",
    "plt.show()"
   ]
  },
  {
   "cell_type": "markdown",
   "id": "857e005a",
   "metadata": {},
   "source": [
    "Let's introduce a wrapper function called `compute_value_function`\n",
    "that iterates until some convergence conditions are satisfied."
   ]
  },
  {
   "cell_type": "code",
   "execution_count": 13,
   "id": "e67a4ebd",
   "metadata": {},
   "outputs": [],
   "source": [
    "def compute_value_function(ce,\n",
    "                           tol=1e-4,\n",
    "                           max_iter=1000,\n",
    "                           verbose=True,\n",
    "                           print_skip=25):\n",
    "\n",
    "    # Set up loop\n",
    "    v = jnp.zeros(len(ce.x_grid)) # Initial guess\n",
    "    i = 0\n",
    "    error = tol + 1\n",
    "\n",
    "    while i < max_iter and error > tol:\n",
    "        v_new = T(v, ce)\n",
    "\n",
    "        error = jnp.max(jnp.abs(v - v_new))\n",
    "        i += 1\n",
    "\n",
    "        if verbose and i % print_skip == 0:\n",
    "            print(f\"Error at iteration {i} is {error}.\")\n",
    "\n",
    "        v = v_new\n",
    "\n",
    "    if error > tol:\n",
    "        print(\"Failed to converge!\")\n",
    "    elif verbose:\n",
    "        print(f\"\\nConverged in {i} iterations.\")\n",
    "\n",
    "    return v_new"
   ]
  },
  {
   "cell_type": "code",
   "execution_count": 14,
   "id": "734453d5",
   "metadata": {},
   "outputs": [
    {
     "name": "stdout",
     "output_type": "stream",
     "text": [
      "Error at iteration 25 is 23.74322509765625.\n",
      "Error at iteration 50 is 8.5570068359375.\n",
      "Error at iteration 75 is 3.083984375.\n"
     ]
    },
    {
     "name": "stdout",
     "output_type": "stream",
     "text": [
      "Error at iteration 100 is 1.11151123046875.\n",
      "Error at iteration 125 is 0.40069580078125.\n",
      "Error at iteration 150 is 0.14447021484375.\n"
     ]
    },
    {
     "name": "stdout",
     "output_type": "stream",
     "text": [
      "Error at iteration 175 is 0.0521240234375.\n",
      "Error at iteration 200 is 0.01885986328125.\n",
      "Error at iteration 225 is 0.006866455078125.\n"
     ]
    },
    {
     "name": "stdout",
     "output_type": "stream",
     "text": [
      "Error at iteration 250 is 0.0025634765625.\n",
      "Error at iteration 275 is 0.0009765625.\n",
      "Error at iteration 300 is 0.00048828125.\n"
     ]
    },
    {
     "name": "stdout",
     "output_type": "stream",
     "text": [
      "Error at iteration 325 is 0.000244140625.\n",
      "Error at iteration 350 is 0.0001220703125.\n",
      "\n",
      "Converged in 351 iterations.\n"
     ]
    }
   ],
   "source": [
    "in_time = time.time()\n",
    "v_jax = compute_value_function(ce)\n",
    "jax_time = time.time() - in_time"
   ]
  },
  {
   "cell_type": "code",
   "execution_count": 15,
   "id": "f56feb30",
   "metadata": {},
   "outputs": [
    {
     "data": {
      "image/png": "[encoded data removed]",
      "text/plain": [
       "<Figure size 640x480 with 1 Axes>"
      ]
     },
     "metadata": {},
     "output_type": "display_data"
    }
   ],
   "source": [
    "fig, ax = plt.subplots()\n",
    "\n",
    "ax.plot(x_grid, v_jax, label='Approximate value function')\n",
    "ax.set_ylabel('$V(x)$', fontsize=12)\n",
    "ax.set_xlabel('$x$', fontsize=12)\n",
    "ax.set_title('Value function')\n",
    "ax.legend()\n",
    "plt.show()"
   ]
  },
  {
   "cell_type": "markdown",
   "id": "c77963f8",
   "metadata": {},
   "source": [
    "Next let’s compare it to the analytical solution."
   ]
  },
  {
   "cell_type": "code",
   "execution_count": 16,
   "id": "3273c334",
   "metadata": {},
   "outputs": [],
   "source": [
    "v_analytical = v_star(ce.x_grid, ce.β, ce.γ)"
   ]
  },
  {
   "cell_type": "code",
   "execution_count": 17,
   "id": "b95b6a89",
   "metadata": {},
   "outputs": [
    {
     "data": {
      "image/png": "[encoded data removed]",
      "text/plain": [
       "<Figure size 640x480 with 1 Axes>"
      ]
     },
     "metadata": {},
     "output_type": "display_data"
    }
   ],
   "source": [
    "fig, ax = plt.subplots()\n",
    "\n",
    "ax.plot(x_grid, v_analytical, label='analytical solution')\n",
    "ax.plot(x_grid, v_jax, label='numerical solution')\n",
    "ax.set_ylabel('$V(x)$', fontsize=12)\n",
    "ax.set_xlabel('$x$', fontsize=12)\n",
    "ax.legend()\n",
    "ax.set_title('Comparison between analytical and numerical value functions')\n",
    "plt.show()"
   ]
  },
  {
   "cell_type": "markdown",
   "id": "98a642d6",
   "metadata": {},
   "source": [
    "### Policy Function\n",
    "\n",
    "Recall that the optimal consumption policy was shown to be\n",
    "\n",
    "$$\n",
    "\\sigma^*(x) = \\left(1-\\beta^{1/\\gamma} \\right) x\n",
    "$$\n",
    "\n",
    "Let's see if our numerical results lead to something similar.\n",
    "\n",
    "Our numerical strategy will be to compute\n",
    "\n",
    "$$\n",
    "\\sigma(x) = \\arg \\max_{0 \\leq c \\leq x} \\{u(c) + \\beta v(x - c)\\}\n",
    "$$\n",
    "\n",
    "on a grid of $x$ points and then interpolate.\n",
    "\n",
    "For $v$ we will use the approximation of the value function we obtained\n",
    "above.\n",
    "\n",
    "Here's the function:"
   ]
  },
  {
   "cell_type": "code",
   "execution_count": 18,
   "id": "37ff2522",
   "metadata": {},
   "outputs": [],
   "source": [
    "@jax.jit\n",
    "def σ(ce, v):\n",
    "    \"\"\"\n",
    "    The optimal policy function. Given the value function,\n",
    "    it finds optimal consumption in each state.\n",
    "\n",
    "    * ce: Cake Eating Model instance\n",
    "    * v: value function array guess, 1-D array\n",
    "\n",
    "    \"\"\"\n",
    "    i_cs =  jnp.argmax(state_action_value_vec(ce.x_grid, ce.c_grid, v, ce), axis=1)\n",
    "    return ce.c_grid[i_cs]"
   ]
  },
  {
   "cell_type": "markdown",
   "id": "67f3de59",
   "metadata": {},
   "source": [
    "Now let’s pass the approximate value function and compute optimal consumption:"
   ]
  },
  {
   "cell_type": "code",
   "execution_count": 19,
   "id": "2dde1989",
   "metadata": {},
   "outputs": [],
   "source": [
    "c = σ(ce, v_jax)"
   ]
  },
  {
   "cell_type": "markdown",
   "id": "ded375ce",
   "metadata": {},
   "source": [
    "Let’s plot this next to the true analytical solution"
   ]
  },
  {
   "cell_type": "code",
   "execution_count": 20,
   "id": "15481e46",
   "metadata": {},
   "outputs": [
    {
     "data": {
      "image/png": "[encoded data removed]",
      "text/plain": [
       "<Figure size 640x480 with 1 Axes>"
      ]
     },
     "metadata": {},
     "output_type": "display_data"
    }
   ],
   "source": [
    "c_analytical = c_star(ce.x_grid, ce.β, ce.γ)\n",
    "\n",
    "fig, ax = plt.subplots()\n",
    "\n",
    "ax.plot(ce.x_grid, c_analytical, label='analytical')\n",
    "ax.plot(ce.x_grid, c, label='numerical')\n",
    "ax.set_ylabel(r'$\\sigma(x)$')\n",
    "ax.set_xlabel('$x$')\n",
    "ax.legend()\n",
    "\n",
    "plt.show()"
   ]
  },
  {
   "cell_type": "markdown",
   "id": "2585079f",
   "metadata": {},
   "source": [
    "## Numba implementation\n",
    "\n",
    "This section of the lecture is directly adapted from [this lecture](https://python.quantecon.org/cake_eating_numerical.html)\n",
    "for the purpose of comparing the results of JAX implementation."
   ]
  },
  {
   "cell_type": "code",
   "execution_count": 21,
   "id": "5e8db790",
   "metadata": {},
   "outputs": [],
   "source": [
    "import numpy as np\n",
    "from numba import prange, njit\n",
    "from quantecon.optimize import brent_max"
   ]
  },
  {
   "cell_type": "code",
   "execution_count": 22,
   "id": "2ddbe12b",
   "metadata": {},
   "outputs": [],
   "source": [
    "CEMN = namedtuple('CakeEatingModelNumba',\n",
    "                    ('β', 'γ', 'x_grid'))"
   ]
  },
  {
   "cell_type": "code",
   "execution_count": 23,
   "id": "920a0e42",
   "metadata": {},
   "outputs": [],
   "source": [
    "def create_cake_eating_model_numba(β=0.96,           # discount factor\n",
    "                                   γ=1.5,            # degree of relative risk aversion\n",
    "                                   x_grid_min=1e-3,  # exclude zero for numerical stability\n",
    "                                   x_grid_max=2.5,   # size of cake\n",
    "                                   x_grid_size=200):\n",
    "    x_grid = np.linspace(x_grid_min, x_grid_max, x_grid_size)\n",
    "    return CEMN(β=β, γ=γ, x_grid=x_grid)"
   ]
  },
  {
   "cell_type": "code",
   "execution_count": 24,
   "id": "b85ef4bf",
   "metadata": {},
   "outputs": [],
   "source": [
    "# Utility function\n",
    "@njit\n",
    "def u_numba(c, cem):\n",
    "    return (c ** (1 - cem.γ)) / (1 - cem.γ)"
   ]
  },
  {
   "cell_type": "code",
   "execution_count": 25,
   "id": "c8b91a1e",
   "metadata": {},
   "outputs": [],
   "source": [
    "@njit\n",
    "def state_action_value_numba(c, x, v_array, cem):\n",
    "    \"\"\"\n",
    "    Right hand side of the Bellman equation given x and c.\n",
    "    * x: scalar element `x`\n",
    "    * c: consumption\n",
    "    * v_array: value function array guess, 1-D array\n",
    "    * cem: Cake Eating Numba Model instance\n",
    "    \"\"\"\n",
    "    return u_numba(c, cem) + cem.β * np.interp(x - c, cem.x_grid, v_array)"
   ]
  },
  {
   "cell_type": "code",
   "execution_count": 26,
   "id": "231a66b7",
   "metadata": {},
   "outputs": [],
   "source": [
    "@njit\n",
    "def T_numba(v, ce):\n",
    "    \"\"\"\n",
    "    The Bellman operator.  Updates the guess of the value function.\n",
    "\n",
    "    * ce is an instance of CakeEatingNumba Model\n",
    "    * v is an array representing a guess of the value function\n",
    "\n",
    "    \"\"\"\n",
    "    v_new = np.empty_like(v)\n",
    "\n",
    "    for i in prange(len(ce.x_grid)):\n",
    "        # Maximize RHS of Bellman equation at state x\n",
    "        v_new[i] = brent_max(state_action_value_numba, 1e-10, ce.x_grid[i],\n",
    "                             args=(ce.x_grid[i], v, ce))[1]\n",
    "    return v_new"
   ]
  },
  {
   "cell_type": "code",
   "execution_count": 27,
   "id": "a59f3906",
   "metadata": {},
   "outputs": [],
   "source": [
    "def compute_value_function_numba(ce,\n",
    "                           tol=1e-4,\n",
    "                           max_iter=1000,\n",
    "                           verbose=True,\n",
    "                           print_skip=25):\n",
    "\n",
    "    # Set up loop\n",
    "    v = np.zeros(len(ce.x_grid)) # Initial guess\n",
    "    i = 0\n",
    "    error = tol + 1\n",
    "\n",
    "    while i < max_iter and error > tol:\n",
    "        v_new = T_numba(v, ce)\n",
    "\n",
    "        error = np.max(np.abs(v - v_new))\n",
    "        i += 1\n",
    "\n",
    "        if verbose and i % print_skip == 0:\n",
    "            print(f\"Error at iteration {i} is {error}.\")\n",
    "\n",
    "        v = v_new\n",
    "\n",
    "    if error > tol:\n",
    "        print(\"Failed to converge!\")\n",
    "    elif verbose:\n",
    "        print(f\"\\nConverged in {i} iterations.\")\n",
    "\n",
    "    return v_new"
   ]
  },
  {
   "cell_type": "code",
   "execution_count": 28,
   "id": "3813e794",
   "metadata": {},
   "outputs": [],
   "source": [
    "cen = create_cake_eating_model_numba()"
   ]
  },
  {
   "cell_type": "code",
   "execution_count": 29,
   "id": "8a6ae0e9",
   "metadata": {},
   "outputs": [
    {
     "name": "stdout",
     "output_type": "stream",
     "text": [
      "Error at iteration 25 is 23.8003755134813.\n",
      "Error at iteration 50 is 8.577577195046615.\n",
      "Error at iteration 75 is 3.091330659691039.\n",
      "Error at iteration 100 is 1.1141054204751981.\n",
      "Error at iteration 125 is 0.4015199357729671.\n",
      "Error at iteration 150 is 0.14470646660583952.\n",
      "Error at iteration 175 is 0.05215173547298946.\n",
      "Error at iteration 200 is 0.018795314243106986.\n"
     ]
    },
    {
     "name": "stdout",
     "output_type": "stream",
     "text": [
      "Error at iteration 225 is 0.006773769545986852.\n",
      "Error at iteration 250 is 0.002441244305884993.\n",
      "Error at iteration 275 is 0.0008798164334962166.\n",
      "Error at iteration 300 is 0.00031708295477983484.\n",
      "Error at iteration 325 is 0.00011427565664234862.\n",
      "\n",
      "Converged in 329 iterations.\n"
     ]
    }
   ],
   "source": [
    "in_time = time.time()\n",
    "v_np = compute_value_function_numba(cen)\n",
    "numba_time = time.time() - in_time"
   ]
  },
  {
   "cell_type": "code",
   "execution_count": 30,
   "id": "45331598",
   "metadata": {},
   "outputs": [
    {
     "name": "stdout",
     "output_type": "stream",
     "text": [
      "JAX implementation is 2.587911676343642 times faster than NumPy.\n",
      "JAX time: 1.177682876586914\n",
      "Numba time: 3.047739267349243\n"
     ]
    }
   ],
   "source": [
    "ratio = numba_time/jax_time\n",
    "print(f\"JAX implementation is {ratio} times faster than NumPy.\")\n",
    "print(f\"JAX time: {jax_time}\")\n",
    "print(f\"Numba time: {numba_time}\")"
   ]
  }
 ],
 "metadata": {
  "jupytext": {
   "text_representation": {
    "extension": ".md",
    "format_name": "myst",
    "format_version": 0.13,
    "jupytext_version": "1.14.5"
   }
  },
  "kernelspec": {
   "display_name": "Python 3 (ipykernel)",
   "language": "python",
   "name": "python3"
  },
  "language_info": {
   "codemirror_mode": {
    "name": "ipython",
    "version": 3
   },
   "file_extension": ".py",
   "mimetype": "text/x-python",
   "name": "python",
   "nbconvert_exporter": "python",
   "pygments_lexer": "ipython3",
   "version": "3.11.7"
  },
  "source_map": [
   12,
   25,
   29,
   33,
   39,
   43,
   45,
   67,
   75,
   79,
   84,
   95,
   99,
   104,
   121,
   135,
   140,
   144,
   155,
   159,
   161,
   168,
   188,
   193,
   224,
   230,
   239,
   243,
   247,
   257,
   282,
   295,
   299,
   301,
   305,
   317,
   324,
   330,
   335,
   345,
   352,
   365,
   384,
   415,
   419,
   425
  ]
 },
 "nbformat": 4,
 "nbformat_minor": 5
}