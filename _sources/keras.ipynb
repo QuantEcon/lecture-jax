{
 "cells": [
  {
   "cell_type": "markdown",
   "id": "716cf6b1",
   "metadata": {},
   "source": [
    "# Simple Neural Network Regression with Keras and JAX\n",
    "\n",
    "```{include} _admonition/gpu.md\n",
    "```\n",
    "\n",
    "In this lecture we show how to implement one-dimensional nonlinear regression\n",
    "using a neural network.\n",
    "\n",
    "We will use the popular deep learning library [Keras](https://keras.io/), which\n",
    "provides a simple and elegant interface to deep learning.\n",
    "\n",
    "The emphasis in Keras is on providing an intuitive API, while the heavy lifting is\n",
    "done by another library.\n",
    "\n",
    "Currently the backend library can be Tensorflow, PyTorch, or JAX.\n",
    "\n",
    "In this lecture we will use JAX.\n",
    "\n",
    "The objective of this lecture is to provide a very simple introduction to deep\n",
    "learning in a regression setting.\n",
    "\n",
    "We begin with some standard imports."
   ]
  },
  {
   "cell_type": "code",
   "execution_count": null,
   "id": "3ae3bf79",
   "metadata": {},
   "outputs": [],
   "source": [
    "import numpy as np\n",
    "import matplotlib.pyplot as plt"
   ]
  },
  {
   "cell_type": "markdown",
   "id": "7a8c5ad6",
   "metadata": {},
   "source": [
    "Let's install Keras."
   ]
  },
  {
   "cell_type": "code",
   "execution_count": null,
   "id": "560666fc",
   "metadata": {
    "tags": [
     "hide-output"
    ]
   },
   "outputs": [],
   "source": [
    "!pip install keras"
   ]
  },
  {
   "cell_type": "markdown",
   "id": "16f8fed7",
   "metadata": {},
   "source": [
    "Now we specify that the desired backend is JAX."
   ]
  },
  {
   "cell_type": "code",
   "execution_count": null,
   "id": "357abaf1",
   "metadata": {},
   "outputs": [],
   "source": [
    "import os\n",
    "os.environ['KERAS_BACKEND'] = 'jax'"
   ]
  },
  {
   "cell_type": "markdown",
   "id": "b839a788",
   "metadata": {},
   "source": [
    "Next we import some tools from Keras."
   ]
  },
  {
   "cell_type": "code",
   "execution_count": null,
   "id": "12cc265f",
   "metadata": {},
   "outputs": [],
   "source": [
    "import keras\n",
    "from keras.models import Sequential\n",
    "from keras.layers import Dense"
   ]
  },
  {
   "cell_type": "markdown",
   "id": "4d3ff698",
   "metadata": {},
   "source": [
    "## Data\n",
    "\n",
    "First let's write a function to generate some data.\n",
    "\n",
    "The data has the form\n",
    "\n",
    "$$\n",
    "    y_i = f(x_i) + \\epsilon_i,\n",
    "    \\qquad i=1, \\ldots, n\n",
    "$$\n",
    "\n",
    "The map $f$ is specified inside the function and $\\epsilon_i$ is an independent\n",
    "draw from a fixed normal distribution.\n",
    "\n",
    "Here's the function that creates vectors `x` and `y` according to the rule\n",
    "above."
   ]
  },
  {
   "cell_type": "code",
   "execution_count": null,
   "id": "60afda8d",
   "metadata": {},
   "outputs": [],
   "source": [
    "def generate_data(x_min=0, x_max=5, data_size=400):\n",
    "    x = np.linspace(x_min, x_max, num=data_size)\n",
    "    x = x.reshape(data_size, 1)\n",
    "    ϵ = 0.2 * np.random.randn(*x.shape)\n",
    "    y = x**0.5 + np.sin(x) + ϵ\n",
    "    x, y = [z.astype('float32') for z in (x, y)]\n",
    "    return x, y"
   ]
  },
  {
   "cell_type": "markdown",
   "id": "1811bd8e",
   "metadata": {},
   "source": [
    "Now we generate some data to train the model."
   ]
  },
  {
   "cell_type": "code",
   "execution_count": null,
   "id": "2660e5c3",
   "metadata": {},
   "outputs": [],
   "source": [
    "x, y = generate_data()"
   ]
  },
  {
   "cell_type": "markdown",
   "id": "f218703c",
   "metadata": {},
   "source": [
    "Here's a plot of the training data."
   ]
  },
  {
   "cell_type": "code",
   "execution_count": null,
   "id": "a659f5c6",
   "metadata": {},
   "outputs": [],
   "source": [
    "fig, ax = plt.subplots()\n",
    "ax.scatter(x, y)\n",
    "ax.set_xlabel('x')\n",
    "ax.set_ylabel('y')\n",
    "plt.show()"
   ]
  },
  {
   "cell_type": "markdown",
   "id": "178f5941",
   "metadata": {},
   "source": [
    "We'll also use data from the same process for cross-validation."
   ]
  },
  {
   "cell_type": "code",
   "execution_count": null,
   "id": "ba2c235d",
   "metadata": {},
   "outputs": [],
   "source": [
    "x_validate, y_validate = generate_data()"
   ]
  },
  {
   "cell_type": "markdown",
   "id": "476fb9b5",
   "metadata": {},
   "source": [
    "## Models\n",
    "\n",
    "We supply functions to build two types of models.\n",
    "\n",
    "The first implements linear regression.\n",
    "\n",
    "This is achieved by constructing a neural network with just one layer, that maps\n",
    "to a single dimension (since the prediction is real-valued).\n",
    "\n",
    "The input `model` will be an instance of `keras.Sequential`, which is used to\n",
    "group a stack of layers into a single prediction model."
   ]
  },
  {
   "cell_type": "code",
   "execution_count": null,
   "id": "e8453b1a",
   "metadata": {},
   "outputs": [],
   "source": [
    "def build_regression_model(model):\n",
    "    model.add(Dense(units=1))\n",
    "    model.compile(optimizer=keras.optimizers.SGD(), \n",
    "                  loss='mean_squared_error')\n",
    "    return model"
   ]
  },
  {
   "cell_type": "markdown",
   "id": "e79172c5",
   "metadata": {},
   "source": [
    "In the function above you can see that we use stochastic gradient descent to\n",
    "train the model, and that the loss is mean squared error (MSE).\n",
    "\n",
    "MSE is the standard loss function for ordinary least squares regression.\n",
    "\n",
    "The second function creates a dense (i.e., fully connected) neural network with\n",
    "3 hidden layers, where each hidden layer maps to a k-dimensional output space."
   ]
  },
  {
   "cell_type": "code",
   "execution_count": null,
   "id": "640709ce",
   "metadata": {},
   "outputs": [],
   "source": [
    "def build_nn_model(model, k=10, activation_function='tanh'):\n",
    "    # Construct network\n",
    "    model.add(Dense(units=k, activation=activation_function))\n",
    "    model.add(Dense(units=k, activation=activation_function))\n",
    "    model.add(Dense(units=k, activation=activation_function))\n",
    "    model.add(Dense(1))\n",
    "    # Embed training configurations\n",
    "    model.compile(optimizer=keras.optimizers.SGD(), \n",
    "                  loss='mean_squared_error')\n",
    "    return model"
   ]
  },
  {
   "cell_type": "markdown",
   "id": "1f6e172e",
   "metadata": {},
   "source": [
    "The following function will be used to plot the MSE of the model during the\n",
    "training process.\n",
    "\n",
    "Initially the MSE will be relatively high, but it should fall at each iteration,\n",
    "as the parameters are adjusted to better fit the data."
   ]
  },
  {
   "cell_type": "code",
   "execution_count": null,
   "id": "87b4b083",
   "metadata": {},
   "outputs": [],
   "source": [
    "def plot_loss_history(training_history, ax):\n",
    "    ax.plot(training_history.epoch, \n",
    "            np.array(training_history.history['loss']), \n",
    "            label='training loss')\n",
    "    ax.plot(training_history.epoch, \n",
    "            np.array(training_history.history['val_loss']),\n",
    "            label='validation loss')\n",
    "    ax.set_xlabel('Epoch')\n",
    "    ax.set_ylabel('Loss (Mean squared error)')\n",
    "    ax.legend()"
   ]
  },
  {
   "cell_type": "markdown",
   "id": "7795070f",
   "metadata": {},
   "source": [
    "## Training\n",
    "\n",
    "Now let's go ahead and train our  models.\n",
    "\n",
    "\n",
    "### Linear regression\n",
    "\n",
    "We'll start with linear regression.\n",
    "\n",
    "First we create a `Model` instance using `Sequential()`."
   ]
  },
  {
   "cell_type": "code",
   "execution_count": null,
   "id": "a9555408",
   "metadata": {},
   "outputs": [],
   "source": [
    "model = Sequential()\n",
    "regression_model = build_regression_model(model)"
   ]
  },
  {
   "cell_type": "markdown",
   "id": "72f9a857",
   "metadata": {},
   "source": [
    "Now we train the model using the training data."
   ]
  },
  {
   "cell_type": "code",
   "execution_count": null,
   "id": "868270e3",
   "metadata": {},
   "outputs": [],
   "source": [
    "training_history = regression_model.fit(\n",
    "    x, y, batch_size=x.shape[0], verbose=0,\n",
    "    epochs=4000, validation_data=(x_validate, y_validate))"
   ]
  },
  {
   "cell_type": "markdown",
   "id": "496d527d",
   "metadata": {},
   "source": [
    "Let's have a look at the evolution of MSE as the model is trained."
   ]
  },
  {
   "cell_type": "code",
   "execution_count": null,
   "id": "58ccef69",
   "metadata": {},
   "outputs": [],
   "source": [
    "fig, ax = plt.subplots()\n",
    "plot_loss_history(training_history, ax)\n",
    "plt.show()"
   ]
  },
  {
   "cell_type": "markdown",
   "id": "62d8485d",
   "metadata": {},
   "source": [
    "Let's print the final MSE on the cross-validation data."
   ]
  },
  {
   "cell_type": "code",
   "execution_count": null,
   "id": "b381150e",
   "metadata": {},
   "outputs": [],
   "source": [
    "print(\"Testing loss on the validation set.\")\n",
    "regression_model.evaluate(x_validate, y_validate, verbose=2)"
   ]
  },
  {
   "cell_type": "markdown",
   "id": "526f36e3",
   "metadata": {},
   "source": [
    "Here's our output predictions on the cross-validation data."
   ]
  },
  {
   "cell_type": "code",
   "execution_count": null,
   "id": "0715f6cc",
   "metadata": {},
   "outputs": [],
   "source": [
    "y_predict = regression_model.predict(x_validate, verbose=2)"
   ]
  },
  {
   "cell_type": "markdown",
   "id": "6e47099f",
   "metadata": {},
   "source": [
    "We use the following function to plot our predictions along with the data."
   ]
  },
  {
   "cell_type": "code",
   "execution_count": null,
   "id": "8049d880",
   "metadata": {},
   "outputs": [],
   "source": [
    "def plot_results(x, y, y_predict, ax):\n",
    "    ax.scatter(x, y)\n",
    "    ax.plot(x, y_predict, label=\"fitted model\", color='black')\n",
    "    ax.set_xlabel('x')\n",
    "    ax.set_ylabel('y')"
   ]
  },
  {
   "cell_type": "markdown",
   "id": "b8fe481e",
   "metadata": {},
   "source": [
    "Let's now call the function on the cross-validation data."
   ]
  },
  {
   "cell_type": "code",
   "execution_count": null,
   "id": "b732044b",
   "metadata": {},
   "outputs": [],
   "source": [
    "fig, ax = plt.subplots()\n",
    "plot_results(x_validate, y_validate, y_predict, ax)\n",
    "plt.show()"
   ]
  },
  {
   "cell_type": "markdown",
   "id": "b3cf06a8",
   "metadata": {},
   "source": [
    "### Deep learning\n",
    "\n",
    "Now let's switch to a neural network with multiple layers.\n",
    "\n",
    "We implement the same steps as before."
   ]
  },
  {
   "cell_type": "code",
   "execution_count": null,
   "id": "4d394e37",
   "metadata": {},
   "outputs": [],
   "source": [
    "model = Sequential()\n",
    "nn_model = build_nn_model(model)"
   ]
  },
  {
   "cell_type": "code",
   "execution_count": null,
   "id": "21830f5f",
   "metadata": {},
   "outputs": [],
   "source": [
    "training_history = nn_model.fit(\n",
    "    x, y, batch_size=x.shape[0], verbose=0,\n",
    "    epochs=4000, validation_data=(x_validate, y_validate))"
   ]
  },
  {
   "cell_type": "code",
   "execution_count": null,
   "id": "5c0524b7",
   "metadata": {},
   "outputs": [],
   "source": [
    "fig, ax = plt.subplots()\n",
    "plot_loss_history(training_history, ax)\n",
    "plt.show()"
   ]
  },
  {
   "cell_type": "markdown",
   "id": "afd52553",
   "metadata": {},
   "source": [
    "Here's the final MSE for the deep learning model."
   ]
  },
  {
   "cell_type": "code",
   "execution_count": null,
   "id": "9f2b00c5",
   "metadata": {},
   "outputs": [],
   "source": [
    "print(\"Testing loss on the validation set.\")\n",
    "nn_model.evaluate(x_validate, y_validate, verbose=2)"
   ]
  },
  {
   "cell_type": "markdown",
   "id": "ede491f9",
   "metadata": {},
   "source": [
    "You will notice that this loss is much lower than the one we achieved with\n",
    "linear regression, suggesting a better fit.\n",
    "\n",
    "To confirm this, let's look at the fitted function."
   ]
  },
  {
   "cell_type": "code",
   "execution_count": null,
   "id": "f8ac0c46",
   "metadata": {},
   "outputs": [],
   "source": [
    "y_predict = nn_model.predict(x_validate, verbose=2)"
   ]
  },
  {
   "cell_type": "code",
   "execution_count": null,
   "id": "b0024bb4",
   "metadata": {},
   "outputs": [],
   "source": [
    "def plot_results(x, y, y_predict, ax):\n",
    "    ax.scatter(x, y)\n",
    "    ax.plot(x, y_predict, label=\"fitted model\", color='black')\n",
    "    ax.set_xlabel('x')\n",
    "    ax.set_ylabel('y')"
   ]
  },
  {
   "cell_type": "code",
   "execution_count": null,
   "id": "74d48087",
   "metadata": {},
   "outputs": [],
   "source": [
    "fig, ax = plt.subplots()\n",
    "plot_results(x_validate, y_validate, y_predict, ax)\n",
    "plt.show()"
   ]
  }
 ],
 "metadata": {
  "jupytext": {
   "text_representation": {
    "extension": ".md",
    "format_name": "myst",
    "format_version": 0.13,
    "jupytext_version": "1.16.4"
   }
  },
  "kernelspec": {
   "display_name": "Python 3 (ipykernel)",
   "language": "python",
   "name": "python3"
  },
  "source_map": [
   12,
   37,
   40,
   44,
   48,
   52,
   55,
   59,
   63,
   82,
   90,
   94,
   96,
   100,
   106,
   110,
   112,
   126,
   132,
   142,
   153,
   161,
   172,
   185,
   188,
   192,
   196,
   200,
   204,
   208,
   211,
   215,
   217,
   221,
   227,
   231,
   235,
   243,
   248,
   254,
   258,
   262,
   265,
   272,
   276,
   284
  ]
 },
 "nbformat": 4,
 "nbformat_minor": 5
}