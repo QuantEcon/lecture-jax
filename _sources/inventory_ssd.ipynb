{
 "cells": [
  {
   "cell_type": "markdown",
   "id": "05855a04",
   "metadata": {},
   "source": [
    "# Inventory Management Model\n",
    "\n",
    "```{include} _admonition/gpu.md\n",
    "```\n",
    "\n",
    "\n",
    "This lecture provides a JAX implementation of a model in [Dynamic Programming](https://dp.quantecon.org/).\n",
    "\n",
    "We require the following library to be installed."
   ]
  },
  {
   "cell_type": "code",
   "execution_count": 1,
   "id": "4a74145d",
   "metadata": {
    "tags": [
     "hide-output"
    ]
   },
   "outputs": [
    {
     "name": "stdout",
     "output_type": "stream",
     "text": [
      "Requirement already satisfied: quantecon in /opt/conda/envs/quantecon/lib/python3.11/site-packages (0.7.1)\r\n"
     ]
    },
    {
     "name": "stdout",
     "output_type": "stream",
     "text": [
      "Requirement already satisfied: numba>=0.49.0 in /opt/conda/envs/quantecon/lib/python3.11/site-packages (from quantecon) (0.59.0)\r\n",
      "Requirement already satisfied: numpy>=1.17.0 in /opt/conda/envs/quantecon/lib/python3.11/site-packages (from quantecon) (1.26.4)\r\n",
      "Requirement already satisfied: requests in /opt/conda/envs/quantecon/lib/python3.11/site-packages (from quantecon) (2.31.0)\r\n",
      "Requirement already satisfied: scipy>=1.5.0 in /opt/conda/envs/quantecon/lib/python3.11/site-packages (from quantecon) (1.11.4)\r\n",
      "Requirement already satisfied: sympy in /opt/conda/envs/quantecon/lib/python3.11/site-packages (from quantecon) (1.12)\r\n",
      "Requirement already satisfied: llvmlite<0.43,>=0.42.0dev0 in /opt/conda/envs/quantecon/lib/python3.11/site-packages (from numba>=0.49.0->quantecon) (0.42.0)\r\n"
     ]
    },
    {
     "name": "stdout",
     "output_type": "stream",
     "text": [
      "Requirement already satisfied: charset-normalizer<4,>=2 in /opt/conda/envs/quantecon/lib/python3.11/site-packages (from requests->quantecon) (2.0.4)\r\n",
      "Requirement already satisfied: idna<4,>=2.5 in /opt/conda/envs/quantecon/lib/python3.11/site-packages (from requests->quantecon) (3.4)\r\n",
      "Requirement already satisfied: urllib3<3,>=1.21.1 in /opt/conda/envs/quantecon/lib/python3.11/site-packages (from requests->quantecon) (2.0.7)\r\n",
      "Requirement already satisfied: certifi>=2017.4.17 in /opt/conda/envs/quantecon/lib/python3.11/site-packages (from requests->quantecon) (2024.2.2)\r\n",
      "Requirement already satisfied: mpmath>=0.19 in /opt/conda/envs/quantecon/lib/python3.11/site-packages (from sympy->quantecon) (1.3.0)\r\n"
     ]
    },
    {
     "name": "stdout",
     "output_type": "stream",
     "text": [
      "\u001b[33mWARNING: Running pip as the 'root' user can result in broken permissions and conflicting behaviour with the system package manager. It is recommended to use a virtual environment instead: https://pip.pypa.io/warnings/venv\u001b[0m\u001b[33m\r\n",
      "\u001b[0m"
     ]
    }
   ],
   "source": [
    "!pip install --upgrade quantecon"
   ]
  },
  {
   "cell_type": "markdown",
   "id": "a05139ca",
   "metadata": {},
   "source": [
    "## A model with constant discounting\n",
    "\n",
    "\n",
    "We study a firm where a manager tries to maximize shareholder value.\n",
    "\n",
    "To simplify the problem, we  assume that the firm only sells one product.\n",
    "\n",
    "Letting $\\pi_t$ be profits at time $t$ and $r > 0$ be the interest rate, the value of the firm is\n",
    "\n",
    "$$\n",
    "    V_0 = \\sum_{t \\geq 0} \\beta^t \\pi_t\n",
    "    \\qquad\n",
    "    \\text{ where }\n",
    "    \\quad \\beta := \\frac{1}{1+r}.\n",
    "$$\n",
    "\n",
    "Suppose the firm faces exogenous demand process $(D_t)_{t \\geq 0}$.\n",
    "\n",
    "We assume $(D_t)_{t \\geq 0}$ is IID with common distribution $\\phi \\in (Z_+)$.\n",
    "\n",
    "Inventory $(X_t)_{t \\geq 0}$ of the product obeys\n",
    "\n",
    "$$\n",
    "    X_{t+1} = f(X_t, D_{t+1}, A_t)\n",
    "    \\qquad\n",
    "    \\text{where}\n",
    "    \\quad\n",
    "    f(x,a,d) := (x - d)\\vee 0 + a.\n",
    "$$\n",
    "\n",
    "The term $A_t$ is units of stock ordered this period, which take one period to\n",
    "arrive.\n",
    "\n",
    "We assume that the firm can store at most $K$ items at one time.\n",
    "\n",
    "Profits are given by\n",
    "\n",
    "$$\n",
    "    \\pi_t := X_t \\wedge D_{t+1} - c A_t - \\kappa 1\\{A_t > 0\\}.\n",
    "$$\n",
    "\n",
    "We take the minimum of current stock and demand because orders in excess of\n",
    "inventory are assumed to be lost rather than back-filled.\n",
    "\n",
    "Here $c$ is unit product cost and $\\kappa$ is a fixed cost of ordering inventory.\n",
    "\n",
    "\n",
    "We can map our inventory problem into a dynamic program with state space\n",
    "$X := \\{0, \\ldots, K\\}$ and action space $A := X$.\n",
    "\n",
    "The feasible correspondence $\\Gamma$ is\n",
    "\n",
    "$$\n",
    "\\Gamma(x) := \\{0, \\ldots, K - x\\},\n",
    "$$\n",
    "\n",
    "which represents the set of feasible orders when the current inventory\n",
    "state is $x$.\n",
    "\n",
    "The reward function is expected current profits, or\n",
    "\n",
    "$$\n",
    "    r(x, a)  := \\sum_{d \\geq 0} (x \\wedge d) \\phi(d)\n",
    "        - c a - \\kappa 1\\{a > 0\\}.\n",
    "$$\n",
    "\n",
    "The stochastic kernel (i.e., state-transition probabilities) from the set of feasible state-action pairs is\n",
    "\n",
    "$$\n",
    "    P(x, a, x') := P\\{ f(x, a, D) = x' \\}\n",
    "    \\qquad \\text{when} \\quad\n",
    "    D \\sim \\phi.\n",
    "$$\n",
    "\n",
    "When discounting is constant, the Bellman equation takes the form\n",
    "\n",
    "```{math}\n",
    ":label: inventory_ssd_v1\n",
    "    v(x)\n",
    "    = \\max_{a \\in \\Gamma(x)} \\left\\{\n",
    "        r(x, a)\n",
    "        + \\beta\n",
    "        \\sum_{d \\geq 0} v(f(x, a, d)) \\phi(d)\n",
    "    \\right\\}\n",
    "```\n",
    "\n",
    "## Time varing discount rates\n",
    "\n",
    "We wish to consider a more sophisticated model with time-varying discounting.\n",
    "\n",
    "This time variation accommodates non-constant interest rates.\n",
    "\n",
    "To this end, we replace the constant $\\beta$ in\n",
    "{eq}`inventory_ssd_v1` with a stochastic process $(\\beta_t)$ where\n",
    "\n",
    "* $\\beta_t = 1/(1+r_t)$ and\n",
    "* $r_t$ is the interest rate at time $t$\n",
    "\n",
    "We suppose that the dynamics can be expressed as $\\beta_t = \\beta(Z_t)$, where the exogenous process $(Z_t)_{t \\geq 0}$ is a Markov chain\n",
    "on $Z$ with Markov matrix $Q$.\n",
    "\n",
    "After relabeling inventory $X_t$ as $Y_t$ and $x$ as $y$, the Bellman equation becomes\n",
    "\n",
    "$$\n",
    "    v(y, z) = \\max_{a \\in \\Gamma(x)} B((y, z), a, v)\n",
    "$$\n",
    "\n",
    "where\n",
    "\n",
    "```{math}\n",
    ":label: inventory_ssd_b1\n",
    "    B((y, z), a, v)\n",
    "    =\n",
    "        r(y, a)\n",
    "        + \\beta(z)\n",
    "        \\sum_{d, \\, z'} v(f(y, a, d), z') \\phi(d) Q(z, z').\n",
    "```\n",
    "\n",
    "We set\n",
    "\n",
    "$$\n",
    "    R(y, a, y')\n",
    "        := P\\{f(y, a, d) = y'\\} \\quad \\text{when} \\quad D \\sim \\phi,\n",
    "$$\n",
    "\n",
    "Now $R(y, a, y')$ is the probability of realizing next period inventory level\n",
    "$y'$ when the current level is $y$ and the action is $a$.\n",
    "\n",
    "Hence we can rewrite {eq}`inventory_ssd_b1` as\n",
    "\n",
    "$$\n",
    "    B((y, z), a, v)\n",
    "    =  r(y, a)\n",
    "        + \\beta(z)\n",
    "        \\sum_{y', z'} v(y', z') Q(z, z') R(y, a, y') .\n",
    "$$\n",
    "\n",
    "Let's begin with the following imports"
   ]
  },
  {
   "cell_type": "code",
   "execution_count": 2,
   "id": "e70d5308",
   "metadata": {},
   "outputs": [],
   "source": [
    "import quantecon as qe\n",
    "import jax\n",
    "import jax.numpy as jnp\n",
    "import numpy as np\n",
    "import matplotlib.pyplot as plt\n",
    "from collections import namedtuple\n",
    "import time\n",
    "from numba import njit, prange"
   ]
  },
  {
   "cell_type": "markdown",
   "id": "ae060a36",
   "metadata": {},
   "source": [
    "Let's check the GPU we are running"
   ]
  },
  {
   "cell_type": "code",
   "execution_count": 3,
   "id": "50160362",
   "metadata": {},
   "outputs": [
    {
     "name": "stderr",
     "output_type": "stream",
     "text": [
      "/opt/conda/envs/quantecon/lib/python3.11/pty.py:89: RuntimeWarning: os.fork() was called. os.fork() is incompatible with multithreaded code, and JAX is multithreaded, so this will likely lead to a deadlock.\n",
      "  pid, fd = os.forkpty()\n"
     ]
    },
    {
     "name": "stdout",
     "output_type": "stream",
     "text": [
      "Thu Mar 14 01:46:13 2024       \r\n",
      "+-----------------------------------------------------------------------------+\r\n",
      "| NVIDIA-SMI 470.182.03   Driver Version: 470.182.03   CUDA Version: 12.3     |\r\n",
      "|-------------------------------+----------------------+----------------------+\r\n",
      "| GPU  Name        Persistence-M| Bus-Id        Disp.A | Volatile Uncorr. ECC |\r\n",
      "| Fan  Temp  Perf  Pwr:Usage/Cap|         Memory-Usage | GPU-Util  Compute M. |\r\n",
      "|                               |                      |               MIG M. |\r\n",
      "|===============================+======================+======================|\r\n"
     ]
    },
    {
     "name": "stdout",
     "output_type": "stream",
     "text": [
      "|   0  Tesla V100-SXM2...  Off  | 00000000:00:1E.0 Off |                    0 |\r\n",
      "| N/A   28C    P0    37W / 300W |      0MiB / 16160MiB |      2%      Default |\r\n",
      "|                               |                      |                  N/A |\r\n",
      "+-------------------------------+----------------------+----------------------+\r\n",
      "                                                                               \r\n",
      "+-----------------------------------------------------------------------------+\r\n",
      "| Processes:                                                                  |\r\n",
      "|  GPU   GI   CI        PID   Type   Process name                  GPU Memory |\r\n",
      "|        ID   ID                                                   Usage      |\r\n",
      "|=============================================================================|\r\n",
      "|  No running processes found                                                 |\r\n",
      "+-----------------------------------------------------------------------------+\r\n"
     ]
    }
   ],
   "source": [
    "!nvidia-smi"
   ]
  },
  {
   "cell_type": "markdown",
   "id": "c44d8849",
   "metadata": {},
   "source": [
    "We will use 64 bit floats with JAX in order to increase the precision."
   ]
  },
  {
   "cell_type": "code",
   "execution_count": 4,
   "id": "149acbdd",
   "metadata": {},
   "outputs": [],
   "source": [
    "jax.config.update(\"jax_enable_x64\", True)"
   ]
  },
  {
   "cell_type": "markdown",
   "id": "7193623b",
   "metadata": {},
   "source": [
    "Let's define a model to represent the inventory management."
   ]
  },
  {
   "cell_type": "code",
   "execution_count": 5,
   "id": "9454bf63",
   "metadata": {},
   "outputs": [],
   "source": [
    "# NamedTuple Model\n",
    "Model = namedtuple(\"Model\", (\"c\", \"κ\", \"p\", \"z_vals\", \"Q\"))"
   ]
  },
  {
   "cell_type": "markdown",
   "id": "89b7735c",
   "metadata": {},
   "source": [
    "We need the following successive approximation function."
   ]
  },
  {
   "cell_type": "code",
   "execution_count": 6,
   "id": "a45fb176",
   "metadata": {},
   "outputs": [],
   "source": [
    "def successive_approx(T,                     # Operator (callable)\n",
    "                      x_0,                   # Initial condition\n",
    "                      tolerance=1e-6,        # Error tolerance\n",
    "                      max_iter=10_000,       # Max iteration bound\n",
    "                      print_step=25,         # Print at multiples\n",
    "                      verbose=False):\n",
    "    x = x_0\n",
    "    error = tolerance + 1\n",
    "    k = 1\n",
    "    while error > tolerance and k <= max_iter:\n",
    "        x_new = T(x)\n",
    "        error = jnp.max(jnp.abs(x_new - x))\n",
    "        if verbose and k % print_step == 0:\n",
    "            print(f\"Completed iteration {k} with error {error}.\")\n",
    "        x = x_new\n",
    "        k += 1\n",
    "    if error > tolerance:\n",
    "        print(f\"Warning: Iteration hit upper bound {max_iter}.\")\n",
    "    elif verbose:\n",
    "        print(f\"Terminated successfully in {k} iterations.\")\n",
    "    return x"
   ]
  },
  {
   "cell_type": "code",
   "execution_count": 7,
   "id": "c7d207cd",
   "metadata": {},
   "outputs": [],
   "source": [
    "@jax.jit\n",
    "def demand_pdf(p, d):\n",
    "    return (1 - p)**d * p"
   ]
  },
  {
   "cell_type": "code",
   "execution_count": 8,
   "id": "519257c0",
   "metadata": {},
   "outputs": [],
   "source": [
    "K = 100\n",
    "D_MAX = 101"
   ]
  },
  {
   "cell_type": "markdown",
   "id": "25cea2ca",
   "metadata": {},
   "source": [
    "Let's define a function to create an inventory model using the given parameters."
   ]
  },
  {
   "cell_type": "code",
   "execution_count": 9,
   "id": "4d9ea72a",
   "metadata": {},
   "outputs": [],
   "source": [
    "def create_sdd_inventory_model(\n",
    "        ρ=0.98, ν=0.002, n_z=100, b=0.97,          # Z state parameters\n",
    "        c=0.2, κ=0.8, p=0.6,                       # firm and demand parameters\n",
    "        use_jax=True):\n",
    "    mc = qe.tauchen(n_z, ρ, ν)\n",
    "    z_vals, Q = mc.state_values + b, mc.P\n",
    "    if use_jax:\n",
    "        z_vals, Q = map(jnp.array, (z_vals, Q))\n",
    "    return Model(c=c, κ=κ, p=p, z_vals=z_vals, Q=Q)"
   ]
  },
  {
   "cell_type": "markdown",
   "id": "57ea41cf",
   "metadata": {},
   "source": [
    "Here's the function `B` on the right-hand side of the Bellman equation."
   ]
  },
  {
   "cell_type": "code",
   "execution_count": 10,
   "id": "13fd20bf",
   "metadata": {},
   "outputs": [],
   "source": [
    "@jax.jit\n",
    "def B(x, i_z, a, v, model):\n",
    "    \"\"\"\n",
    "    The function B(x, z, a, v) = r(x, a) + β(z) Σ_x′ v(x′) P(x, a, x′).\n",
    "    \"\"\"\n",
    "    c, κ, p, z_vals, Q = model\n",
    "    z = z_vals[i_z]\n",
    "    d_vals = jnp.arange(D_MAX)\n",
    "    ϕ_vals = demand_pdf(p, d_vals)\n",
    "    revenue = jnp.sum(jnp.minimum(x, d_vals)*ϕ_vals)\n",
    "    profit = revenue - c * a - κ * (a > 0)\n",
    "    v_R = jnp.sum(v[jnp.maximum(x - d_vals, 0) + a].T * ϕ_vals, axis=1)\n",
    "    cv = jnp.sum(v_R*Q[i_z])\n",
    "    return profit + z * cv"
   ]
  },
  {
   "cell_type": "markdown",
   "id": "ed1d1cbb",
   "metadata": {},
   "source": [
    "We need to vectorize this function so that we can use it efficiently in JAX.\n",
    "\n",
    "We apply a sequence of `vmap` operations to vectorize appropriately in each\n",
    "argument."
   ]
  },
  {
   "cell_type": "code",
   "execution_count": 11,
   "id": "20601cb1",
   "metadata": {},
   "outputs": [],
   "source": [
    "B_vec_a = jax.vmap(B, in_axes=(None, None, 0, None, None))"
   ]
  },
  {
   "cell_type": "code",
   "execution_count": 12,
   "id": "ac7c4ba3",
   "metadata": {},
   "outputs": [],
   "source": [
    "@jax.jit\n",
    "def B2(x, i_z, v, model):\n",
    "    \"\"\"\n",
    "    The function B(x, z, a, v) = r(x, a) + β(z) Σ_x′ v(x′) P(x, a, x′).\n",
    "    \"\"\"\n",
    "    c, κ, p, z_vals, Q = model\n",
    "    a_vals = jnp.arange(K)\n",
    "    res = B_vec_a(x, i_z, a_vals, v, model)\n",
    "    return jnp.where(a_vals < K - x + 1, res, -jnp.inf)"
   ]
  },
  {
   "cell_type": "code",
   "execution_count": 13,
   "id": "d739f9f4",
   "metadata": {},
   "outputs": [],
   "source": [
    "B2_vec_z = jax.vmap(B2, in_axes=(None, 0, None, None))\n",
    "B2_vec_z_x = jax.vmap(B2_vec_z, in_axes=(0, None, None, None))"
   ]
  },
  {
   "cell_type": "markdown",
   "id": "55e424ae",
   "metadata": {},
   "source": [
    "Next we define the Bellman operator."
   ]
  },
  {
   "cell_type": "code",
   "execution_count": 14,
   "id": "140280b1",
   "metadata": {},
   "outputs": [],
   "source": [
    "@jax.jit\n",
    "def T(v, model):\n",
    "    \"\"\"The Bellman operator.\"\"\"\n",
    "    c, κ, p, z_vals, Q = model\n",
    "    i_z_range = jnp.arange(len(z_vals))\n",
    "    x_range = jnp.arange(K + 1)\n",
    "    res = B2_vec_z_x(x_range, i_z_range, v, model)\n",
    "    return jnp.max(res, axis=2)"
   ]
  },
  {
   "cell_type": "markdown",
   "id": "d310d5d8",
   "metadata": {},
   "source": [
    "The following function computes a v-greedy policy."
   ]
  },
  {
   "cell_type": "code",
   "execution_count": 15,
   "id": "3b1b3d0e",
   "metadata": {},
   "outputs": [],
   "source": [
    "@jax.jit\n",
    "def get_greedy(v, model):\n",
    "    \"\"\"Get a v-greedy policy.  Returns a zero-based array.\"\"\"\n",
    "    c, κ, p, z_vals, Q  = model\n",
    "    i_z_range = jnp.arange(len(z_vals))\n",
    "    x_range = jnp.arange(K + 1)\n",
    "    res = B2_vec_z_x(x_range, i_z_range, v, model)\n",
    "    return jnp.argmax(res, axis=2)"
   ]
  },
  {
   "cell_type": "markdown",
   "id": "0a0990ba",
   "metadata": {},
   "source": [
    "Here's code to solve the model using value function iteration."
   ]
  },
  {
   "cell_type": "code",
   "execution_count": 16,
   "id": "bec387bf",
   "metadata": {},
   "outputs": [],
   "source": [
    "def solve_inventory_model(v_init, model):\n",
    "    \"\"\"Use successive_approx to get v_star and then compute greedy.\"\"\"\n",
    "    v_star = successive_approx(lambda v: T(v, model), v_init, verbose=True)\n",
    "    σ_star = get_greedy(v_star, model)\n",
    "    return v_star, σ_star"
   ]
  },
  {
   "cell_type": "markdown",
   "id": "01700ded",
   "metadata": {},
   "source": [
    "Now let's create an instance and solve it."
   ]
  },
  {
   "cell_type": "code",
   "execution_count": 17,
   "id": "5561e85f",
   "metadata": {},
   "outputs": [],
   "source": [
    "model = create_sdd_inventory_model()\n",
    "c, κ, p, z_vals, Q = model\n",
    "n_z = len(z_vals)\n",
    "v_init = jnp.zeros((K + 1, n_z), dtype=float)"
   ]
  },
  {
   "cell_type": "code",
   "execution_count": 18,
   "id": "078a5639",
   "metadata": {},
   "outputs": [
    {
     "name": "stdout",
     "output_type": "stream",
     "text": [
      "Completed iteration 25 with error 0.5613828428334706.\n",
      "Completed iteration 50 with error 0.3776464347688062.\n",
      "Completed iteration 75 with error 0.2272706235969011.\n",
      "Completed iteration 100 with error 0.12872204940708798.\n",
      "Completed iteration 125 with error 0.06744149371262154.\n"
     ]
    },
    {
     "name": "stdout",
     "output_type": "stream",
     "text": [
      "Completed iteration 150 with error 0.030374639547666504.\n",
      "Completed iteration 175 with error 0.01423099032950148.\n",
      "Completed iteration 200 with error 0.007396776219316337.\n",
      "Completed iteration 225 with error 0.003912238304586424.\n",
      "Completed iteration 250 with error 0.0020680914166604225.\n"
     ]
    },
    {
     "name": "stdout",
     "output_type": "stream",
     "text": [
      "Completed iteration 275 with error 0.001092307533355097.\n",
      "Completed iteration 300 with error 0.0005766427105982075.\n",
      "Completed iteration 325 with error 0.0003043321707139057.\n",
      "Completed iteration 350 with error 0.0001605907367547843.\n",
      "Completed iteration 375 with error 8.473334524694565e-05.\n"
     ]
    },
    {
     "name": "stdout",
     "output_type": "stream",
     "text": [
      "Completed iteration 400 with error 4.4706045166265085e-05.\n",
      "Completed iteration 425 with error 2.3586619946058818e-05.\n",
      "Completed iteration 450 with error 1.2443945941242873e-05.\n",
      "Completed iteration 475 with error 6.565178331641164e-06.\n",
      "Completed iteration 500 with error 3.463639430378862e-06.\n"
     ]
    },
    {
     "name": "stdout",
     "output_type": "stream",
     "text": [
      "Completed iteration 525 with error 1.827332347659194e-06.\n",
      "Terminated successfully in 550 iterations.\n"
     ]
    }
   ],
   "source": [
    "in_time = time.time()\n",
    "v_star, σ_star = solve_inventory_model(v_init, model)\n",
    "jax_time = time.time() - in_time"
   ]
  },
  {
   "cell_type": "code",
   "execution_count": 19,
   "id": "e9e4383a",
   "metadata": {},
   "outputs": [],
   "source": [
    "z_mc = qe.MarkovChain(Q, z_vals)"
   ]
  },
  {
   "cell_type": "code",
   "execution_count": 20,
   "id": "095022d5",
   "metadata": {},
   "outputs": [],
   "source": [
    "def sim_inventories(ts_length, X_init=0):\n",
    "    \"\"\"Simulate given the optimal policy.\"\"\"\n",
    "    global p, z_mc\n",
    "    i_z = z_mc.simulate_indices(ts_length, init=1)\n",
    "    X = np.zeros(ts_length, dtype=np.int32)\n",
    "    X[0] = X_init\n",
    "    rand = np.random.default_rng().geometric(p=p, size=ts_length-1) - 1\n",
    "    for t in range(ts_length-1):\n",
    "        X[t+1] = np.maximum(X[t] - rand[t], 0) + σ_star[X[t], i_z[t]]\n",
    "    return X, z_vals[i_z]"
   ]
  },
  {
   "cell_type": "code",
   "execution_count": 21,
   "id": "60b21fed",
   "metadata": {},
   "outputs": [],
   "source": [
    "def plot_ts(ts_length=400, fontsize=10):\n",
    "    X, Z = sim_inventories(ts_length)\n",
    "    fig, axes = plt.subplots(2, 1, figsize=(9, 5.5))\n",
    "\n",
    "    ax = axes[0]\n",
    "    ax.plot(X, label=r\"$X_t$\", alpha=0.7)\n",
    "    ax.set_xlabel(r\"$t$\", fontsize=fontsize)\n",
    "    ax.set_ylabel(\"inventory\", fontsize=fontsize)\n",
    "    ax.legend(fontsize=fontsize, frameon=False)\n",
    "    ax.set_ylim(0, np.max(X)+3)\n",
    "\n",
    "    # calculate interest rate from discount factors\n",
    "    r = (1 / Z) - 1\n",
    "\n",
    "    ax = axes[1]\n",
    "    ax.plot(r, label=r\"$r_t$\", alpha=0.7)\n",
    "    ax.set_xlabel(r\"$t$\", fontsize=fontsize)\n",
    "    ax.set_ylabel(\"interest rate\", fontsize=fontsize)\n",
    "    ax.legend(fontsize=fontsize, frameon=False)\n",
    "\n",
    "    plt.tight_layout()\n",
    "    plt.show()"
   ]
  },
  {
   "cell_type": "code",
   "execution_count": 22,
   "id": "bd0f1e32",
   "metadata": {},
   "outputs": [
    {
     "data": {
      "image/png": "[encoded data removed]",
      "text/plain": [
       "<Figure size 900x550 with 2 Axes>"
      ]
     },
     "metadata": {},
     "output_type": "display_data"
    }
   ],
   "source": [
    "plot_ts()"
   ]
  },
  {
   "cell_type": "markdown",
   "id": "ebc17836",
   "metadata": {},
   "source": [
    "## Numba implementation\n",
    "\n",
    "\n",
    "Let's try the same operations in Numba in order to compare the speed."
   ]
  },
  {
   "cell_type": "code",
   "execution_count": 23,
   "id": "571de9a8",
   "metadata": {},
   "outputs": [],
   "source": [
    "@njit\n",
    "def demand_pdf_numba(p, d):\n",
    "    return (1 - p)**d * p\n",
    "\n",
    "@njit\n",
    "def B_numba(x, i_z, a, v, model):\n",
    "    \"\"\"\n",
    "    The function B(x, z, a, v) = r(x, a) + β(z) Σ_x′ v(x′) P(x, a, x′).\n",
    "    \"\"\"\n",
    "    c, κ, p, z_vals, Q = model\n",
    "    z = z_vals[i_z]\n",
    "    d_vals = np.arange(D_MAX)\n",
    "    ϕ_vals = demand_pdf_numba(p, d_vals)\n",
    "    revenue = np.sum(np.minimum(x, d_vals)*ϕ_vals)\n",
    "    profit = revenue - c * a - κ * (a > 0)\n",
    "    v_R = np.sum(v[np.maximum(x - d_vals, 0) + a].T * ϕ_vals, axis=1)\n",
    "    cv = np.sum(v_R*Q[i_z])\n",
    "    return profit + z * cv\n",
    "\n",
    "\n",
    "@njit(parallel=True)\n",
    "def T_numba(v, model):\n",
    "    \"\"\"The Bellman operator.\"\"\"\n",
    "    c, κ, p, z_vals, Q = model\n",
    "    new_v = np.empty_like(v)\n",
    "    for i_z in prange(len(z_vals)):\n",
    "        for x in prange(K+1):\n",
    "            v_1 = np.array([B_numba(x, i_z, a, v, model)\n",
    "                             for a in range(K-x+1)])\n",
    "            new_v[x, i_z] = np.max(v_1)\n",
    "    return new_v\n",
    "\n",
    "\n",
    "@njit(parallel=True)\n",
    "def get_greedy_numba(v, model):\n",
    "    \"\"\"Get a v-greedy policy.  Returns a zero-based array.\"\"\"\n",
    "    c, κ, p, z_vals, Q = model\n",
    "    n_z = len(z_vals)\n",
    "    σ_star = np.zeros((K+1, n_z), dtype=np.int32)\n",
    "    for i_z in prange(n_z):\n",
    "        for x in range(K+1):\n",
    "            v_1 = np.array([B_numba(x, i_z, a, v, model)\n",
    "                             for a in range(K-x+1)])\n",
    "            σ_star[x, i_z] = np.argmax(v_1)\n",
    "    return σ_star\n",
    "\n",
    "\n",
    "\n",
    "def solve_inventory_model_numba(v_init, model):\n",
    "    \"\"\"Use successive_approx to get v_star and then compute greedy.\"\"\"\n",
    "    v_star = successive_approx(lambda v: T_numba(v, model), v_init, verbose=True)\n",
    "    σ_star = get_greedy_numba(v_star, model)\n",
    "    return v_star, σ_star"
   ]
  },
  {
   "cell_type": "code",
   "execution_count": 24,
   "id": "f6766f87",
   "metadata": {},
   "outputs": [],
   "source": [
    "model = create_sdd_inventory_model(use_jax=False)\n",
    "c, κ, p, z_vals, Q  = model\n",
    "n_z = len(z_vals)\n",
    "v_init = np.zeros((K + 1, n_z), dtype=float)"
   ]
  },
  {
   "cell_type": "code",
   "execution_count": 25,
   "id": "2b56c84e",
   "metadata": {},
   "outputs": [
    {
     "name": "stdout",
     "output_type": "stream",
     "text": [
      "Completed iteration 25 with error 0.5613828428334706.\n"
     ]
    },
    {
     "name": "stdout",
     "output_type": "stream",
     "text": [
      "Completed iteration 50 with error 0.37764643476879556.\n"
     ]
    },
    {
     "name": "stdout",
     "output_type": "stream",
     "text": [
      "Completed iteration 75 with error 0.22727062359689398.\n"
     ]
    },
    {
     "name": "stdout",
     "output_type": "stream",
     "text": [
      "Completed iteration 100 with error 0.12872204940708798.\n"
     ]
    },
    {
     "name": "stdout",
     "output_type": "stream",
     "text": [
      "Completed iteration 125 with error 0.06744149371262864.\n"
     ]
    },
    {
     "name": "stdout",
     "output_type": "stream",
     "text": [
      "Completed iteration 150 with error 0.030374639547666504.\n"
     ]
    },
    {
     "name": "stdout",
     "output_type": "stream",
     "text": [
      "Completed iteration 175 with error 0.01423099032948727.\n"
     ]
    },
    {
     "name": "stdout",
     "output_type": "stream",
     "text": [
      "Completed iteration 200 with error 0.007396776219316337.\n"
     ]
    },
    {
     "name": "stdout",
     "output_type": "stream",
     "text": [
      "Completed iteration 225 with error 0.003912238304593529.\n"
     ]
    },
    {
     "name": "stdout",
     "output_type": "stream",
     "text": [
      "Completed iteration 250 with error 0.002068091416653317.\n"
     ]
    },
    {
     "name": "stdout",
     "output_type": "stream",
     "text": [
      "Completed iteration 275 with error 0.0010923075333622023.\n"
     ]
    },
    {
     "name": "stdout",
     "output_type": "stream",
     "text": [
      "Completed iteration 300 with error 0.0005766427105911021.\n"
     ]
    },
    {
     "name": "stdout",
     "output_type": "stream",
     "text": [
      "Completed iteration 325 with error 0.0003043321707281166.\n"
     ]
    },
    {
     "name": "stdout",
     "output_type": "stream",
     "text": [
      "Completed iteration 350 with error 0.00016059073676188973.\n"
     ]
    },
    {
     "name": "stdout",
     "output_type": "stream",
     "text": [
      "Completed iteration 375 with error 8.473334525405107e-05.\n"
     ]
    },
    {
     "name": "stdout",
     "output_type": "stream",
     "text": [
      "Completed iteration 400 with error 4.470604518047594e-05.\n"
     ]
    },
    {
     "name": "stdout",
     "output_type": "stream",
     "text": [
      "Completed iteration 425 with error 2.3586619960269672e-05.\n"
     ]
    },
    {
     "name": "stdout",
     "output_type": "stream",
     "text": [
      "Completed iteration 450 with error 1.2443945934137446e-05.\n"
     ]
    },
    {
     "name": "stdout",
     "output_type": "stream",
     "text": [
      "Completed iteration 475 with error 6.565178331641164e-06.\n"
     ]
    },
    {
     "name": "stdout",
     "output_type": "stream",
     "text": [
      "Completed iteration 500 with error 3.4636394445897167e-06.\n"
     ]
    },
    {
     "name": "stdout",
     "output_type": "stream",
     "text": [
      "Completed iteration 525 with error 1.827332347659194e-06.\n"
     ]
    },
    {
     "name": "stdout",
     "output_type": "stream",
     "text": [
      "Terminated successfully in 550 iterations.\n"
     ]
    }
   ],
   "source": [
    "in_time = time.time()\n",
    "v_star_numba, σ_star_numba = solve_inventory_model_numba(v_init, model)\n",
    "nb_time = time.time() - in_time"
   ]
  },
  {
   "cell_type": "markdown",
   "id": "5ec13385",
   "metadata": {},
   "source": [
    "Let's verify that the Numba and JAX implementations converge to the same solution."
   ]
  },
  {
   "cell_type": "code",
   "execution_count": 26,
   "id": "a047a209",
   "metadata": {},
   "outputs": [
    {
     "data": {
      "text/plain": [
       "True"
      ]
     },
     "execution_count": 26,
     "metadata": {},
     "output_type": "execute_result"
    }
   ],
   "source": [
    "np.allclose(v_star_numba, v_star)"
   ]
  },
  {
   "cell_type": "markdown",
   "id": "abe9a8bf",
   "metadata": {},
   "source": [
    "Here's the speed comparison."
   ]
  },
  {
   "cell_type": "code",
   "execution_count": 27,
   "id": "24764c8d",
   "metadata": {},
   "outputs": [
    {
     "name": "stdout",
     "output_type": "stream",
     "text": [
      "JAX vectorized implementation is 922.4554440313626 faster than Numba's parallel implementation\n"
     ]
    }
   ],
   "source": [
    "print(f\"JAX vectorized implementation is {nb_time/jax_time} faster \"\n",
    "       \"than Numba's parallel implementation\")"
   ]
  }
 ],
 "metadata": {
  "jupytext": {
   "text_representation": {
    "extension": ".md",
    "format_name": "myst",
    "format_version": 0.13,
    "jupytext_version": "1.14.5"
   }
  },
  "kernelspec": {
   "display_name": "Python 3 (ipykernel)",
   "language": "python",
   "name": "python3"
  },
  "language_info": {
   "codemirror_mode": {
    "name": "ipython",
    "version": 3
   },
   "file_extension": ".py",
   "mimetype": "text/x-python",
   "name": "python",
   "nbconvert_exporter": "python",
   "pygments_lexer": "ipython3",
   "version": "3.11.7"
  },
  "source_map": [
   12,
   24,
   28,
   169,
   178,
   182,
   184,
   188,
   190,
   194,
   197,
   201,
   225,
   231,
   234,
   238,
   248,
   252,
   267,
   274,
   278,
   290,
   293,
   297,
   306,
   310,
   319,
   323,
   329,
   333,
   340,
   346,
   350,
   363,
   388,
   390,
   397,
   453,
   460,
   464,
   468,
   470,
   474
  ]
 },
 "nbformat": 4,
 "nbformat_minor": 5
}