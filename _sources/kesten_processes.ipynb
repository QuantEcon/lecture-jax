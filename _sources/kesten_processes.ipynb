{
 "cells": [
  {
   "cell_type": "markdown",
   "id": "eae1c66a",
   "metadata": {},
   "source": [
    "```{raw} html\n",
    "<div id=\"qe-notebook-header\" align=\"right\" style=\"text-align:right;\">\n",
    "        <a href=\"https://quantecon.org/\" title=\"quantecon.org\">\n",
    "                <img style=\"width:250px;display:inline;\" width=\"250px\" src=\"https://assets.quantecon.org/img/qe-menubar-logo.svg\" alt=\"QuantEcon\">\n",
    "        </a>\n",
    "</div>\n",
    "```\n",
    "\n",
    "# Kesten Processes and Firm Dynamics\n",
    "\n",
    "```{index} single: Linear State Space Models\n",
    "```\n",
    "\n",
    "```{include} _admonition/gpu.md\n",
    "```\n",
    "\n",
    "In addition to what's in Anaconda, this lecture will need the following libraries:"
   ]
  },
  {
   "cell_type": "code",
   "execution_count": 1,
   "id": "070ff97c",
   "metadata": {
    "tags": [
     "hide-output"
    ]
   },
   "outputs": [
    {
     "name": "stdout",
     "output_type": "stream",
     "text": [
      "Requirement already satisfied: quantecon in /opt/conda/envs/quantecon/lib/python3.11/site-packages (0.7.1)\r\n",
      "Requirement already satisfied: numba>=0.49.0 in /opt/conda/envs/quantecon/lib/python3.11/site-packages (from quantecon) (0.59.0)\r\n",
      "Requirement already satisfied: numpy>=1.17.0 in /opt/conda/envs/quantecon/lib/python3.11/site-packages (from quantecon) (1.26.4)\r\n",
      "Requirement already satisfied: requests in /opt/conda/envs/quantecon/lib/python3.11/site-packages (from quantecon) (2.31.0)\r\n",
      "Requirement already satisfied: scipy>=1.5.0 in /opt/conda/envs/quantecon/lib/python3.11/site-packages (from quantecon) (1.11.4)\r\n",
      "Requirement already satisfied: sympy in /opt/conda/envs/quantecon/lib/python3.11/site-packages (from quantecon) (1.12)\r\n",
      "Requirement already satisfied: llvmlite<0.43,>=0.42.0dev0 in /opt/conda/envs/quantecon/lib/python3.11/site-packages (from numba>=0.49.0->quantecon) (0.42.0)\r\n"
     ]
    },
    {
     "name": "stdout",
     "output_type": "stream",
     "text": [
      "Requirement already satisfied: charset-normalizer<4,>=2 in /opt/conda/envs/quantecon/lib/python3.11/site-packages (from requests->quantecon) (2.0.4)\r\n",
      "Requirement already satisfied: idna<4,>=2.5 in /opt/conda/envs/quantecon/lib/python3.11/site-packages (from requests->quantecon) (3.4)\r\n",
      "Requirement already satisfied: urllib3<3,>=1.21.1 in /opt/conda/envs/quantecon/lib/python3.11/site-packages (from requests->quantecon) (2.0.7)\r\n",
      "Requirement already satisfied: certifi>=2017.4.17 in /opt/conda/envs/quantecon/lib/python3.11/site-packages (from requests->quantecon) (2024.2.2)\r\n",
      "Requirement already satisfied: mpmath>=0.19 in /opt/conda/envs/quantecon/lib/python3.11/site-packages (from sympy->quantecon) (1.3.0)\r\n"
     ]
    },
    {
     "name": "stdout",
     "output_type": "stream",
     "text": [
      "\u001b[33mWARNING: Running pip as the 'root' user can result in broken permissions and conflicting behaviour with the system package manager. It is recommended to use a virtual environment instead: https://pip.pypa.io/warnings/venv\u001b[0m\u001b[33m\r\n",
      "\u001b[0m"
     ]
    }
   ],
   "source": [
    "!pip install quantecon"
   ]
  },
  {
   "cell_type": "markdown",
   "id": "8a8e4fa2",
   "metadata": {},
   "source": [
    "## Overview\n",
    "\n",
    "This lecture describes Kesten processes, which are an important class of\n",
    "stochastic processes, and an application of firm dynamics.\n",
    "\n",
    "The lecture draws on [an earlier QuantEcon\n",
    "lecture](https://python.quantecon.org/kesten_processes.html), which uses Numba\n",
    "to accelerate the computations.\n",
    "\n",
    "In that earlier lecture you can find a more detailed discussion of the concepts involved.\n",
    "\n",
    "This lecture focuses on implementing the same computations in JAX.\n",
    "\n",
    "Let's start with some imports:"
   ]
  },
  {
   "cell_type": "code",
   "execution_count": 2,
   "id": "153df2cb",
   "metadata": {},
   "outputs": [],
   "source": [
    "import matplotlib.pyplot as plt\n",
    "import quantecon as qe\n",
    "import jax\n",
    "import jax.numpy as jnp\n",
    "from jax import random\n",
    "from jax import lax"
   ]
  },
  {
   "cell_type": "markdown",
   "id": "4da34730",
   "metadata": {},
   "source": [
    "Let's check the GPU we are running"
   ]
  },
  {
   "cell_type": "code",
   "execution_count": 3,
   "id": "b1c39555",
   "metadata": {},
   "outputs": [
    {
     "name": "stderr",
     "output_type": "stream",
     "text": [
      "/opt/conda/envs/quantecon/lib/python3.11/pty.py:89: RuntimeWarning: os.fork() was called. os.fork() is incompatible with multithreaded code, and JAX is multithreaded, so this will likely lead to a deadlock.\n",
      "  pid, fd = os.forkpty()\n"
     ]
    },
    {
     "name": "stdout",
     "output_type": "stream",
     "text": [
      "Thu Mar  7 01:56:26 2024       \r\n",
      "+-----------------------------------------------------------------------------+\r\n",
      "| NVIDIA-SMI 470.182.03   Driver Version: 470.182.03   CUDA Version: 12.3     |\r\n",
      "|-------------------------------+----------------------+----------------------+\r\n",
      "| GPU  Name        Persistence-M| Bus-Id        Disp.A | Volatile Uncorr. ECC |\r\n",
      "| Fan  Temp  Perf  Pwr:Usage/Cap|         Memory-Usage | GPU-Util  Compute M. |\r\n",
      "|                               |                      |               MIG M. |\r\n",
      "|===============================+======================+======================|\r\n"
     ]
    },
    {
     "name": "stdout",
     "output_type": "stream",
     "text": [
      "|   0  Tesla V100-SXM2...  Off  | 00000000:00:1E.0 Off |                    0 |\r\n",
      "| N/A   31C    P0    37W / 300W |      0MiB / 16160MiB |      2%      Default |\r\n",
      "|                               |                      |                  N/A |\r\n",
      "+-------------------------------+----------------------+----------------------+\r\n",
      "                                                                               \r\n",
      "+-----------------------------------------------------------------------------+\r\n",
      "| Processes:                                                                  |\r\n",
      "|  GPU   GI   CI        PID   Type   Process name                  GPU Memory |\r\n",
      "|        ID   ID                                                   Usage      |\r\n",
      "|=============================================================================|\r\n",
      "|  No running processes found                                                 |\r\n",
      "+-----------------------------------------------------------------------------+\r\n"
     ]
    }
   ],
   "source": [
    "!nvidia-smi"
   ]
  },
  {
   "cell_type": "markdown",
   "id": "b8aaf226",
   "metadata": {},
   "source": [
    "## Kesten processes\n",
    "\n",
    "```{index} single: Kesten processes; heavy tails\n",
    "```\n",
    "\n",
    "A **Kesten process** is a stochastic process of the form\n",
    "\n",
    "```{math}\n",
    ":label: kesproc\n",
    "\n",
    "X_{t+1} = a_{t+1} X_t + \\eta_{t+1}\n",
    "```\n",
    "\n",
    "where $\\{a_t\\}_{t \\geq 1}$ and $\\{\\eta_t\\}_{t \\geq 1}$ are IID\n",
    "sequences.\n",
    "\n",
    "We are interested in the dynamics of $\\{X_t\\}_{t \\geq 0}$ when $X_0$ is given.\n",
    "\n",
    "We will focus on the nonnegative scalar case, where $X_t$ takes values in $\\mathbb R_+$.\n",
    "\n",
    "In particular, we will assume that\n",
    "\n",
    "* the initial condition $X_0$ is nonnegative,\n",
    "* $\\{a_t\\}_{t \\geq 1}$ is a nonnegative IID stochastic process and\n",
    "* $\\{\\eta_t\\}_{t \\geq 1}$ is another nonnegative IID stochastic process, independent of the first.\n",
    "\n",
    "\n",
    "### Application: firm dynamics\n",
    "\n",
    "In this section we apply Kesten process theory to the study of firm dynamics.\n",
    "\n",
    "\n",
    "#### Gibrat's law\n",
    "\n",
    "It was postulated many years ago by Robert Gibrat that firm size evolves\n",
    "according to a simple rule whereby size next period is proportional to current\n",
    "size.\n",
    "\n",
    "This is now known as [Gibrat's law of proportional growth](https://en.wikipedia.org/wiki/Gibrat%27s_law).\n",
    "\n",
    "We can express this idea by stating that a suitably defined measure\n",
    "$s_t$ of firm size obeys\n",
    "\n",
    "```{math}\n",
    ":label: firm_dynam_gb\n",
    "\n",
    "\\frac{s_{t+1}}{s_t} = a_{t+1}\n",
    "```\n",
    "\n",
    "for some positive IID sequence $\\{a_t\\}$.\n",
    "\n",
    "Subsequent empirical research has shown that this specification is not accurate,\n",
    "particularly for small firms.\n",
    "\n",
    "However, we can get close to the data by modifying {eq}`firm_dynam_gb` to\n",
    "\n",
    "```{math}\n",
    ":label: firm_dynam\n",
    "\n",
    "s_{t+1} = a_{t+1} s_t + b_{t+1}\n",
    "```\n",
    "\n",
    "where $\\{a_t\\}$ and $\\{b_t\\}$ are both IID and independent of each\n",
    "other.\n",
    "\n",
    "We now study the implications of this specification.\n",
    "\n",
    "#### Heavy tails\n",
    "\n",
    "If the conditions of the [Kesten--Goldie\n",
    "Theorem](https://python.quantecon.org/kesten_processes.html#the-kestengoldie-theorem)\n",
    "are satisfied, then {eq}`firm_dynam` implies that the firm size distribution\n",
    "will have Pareto tails.\n",
    "\n",
    "This matches empirical findings across many data sets.\n",
    "\n",
    "But there is another unrealistic aspect of the firm dynamics specified in {eq}`firm_dynam` that we need to address: it ignores entry and exit.\n",
    "\n",
    "In any given period and in any given market, we observe significant numbers of\n",
    "firms entering and exiting the market.\n",
    "\n",
    "In this setting, firm dynamics can be expressed as\n",
    "\n",
    "```{math}\n",
    ":label: firm_dynam_ee\n",
    "    s_{t+1} = e_{t+1} \\mathbb{1}\\{s_t < \\bar s\\} +\n",
    "    (a_{t+1} s_t + b_{t+1}) \\mathbb{1}\\{s_t \\geq \\bar s\\}\n",
    "```\n",
    "\n",
    "The motivation behind and interpretation of [](firm_dynam_ee) can be found in \n",
    "[our earlier Kesten process lecture](https://python.quantecon.org/kesten_processes.html).\n",
    "\n",
    "What can we say about dynamics?\n",
    "\n",
    "Although {eq}`firm_dynam_ee` is not a Kesten process, it does update in the\n",
    "same way as a Kesten process when $s_t$ is large.\n",
    "\n",
    "So perhaps its stationary distribution still has Pareto tails?\n",
    "\n",
    "We can investigate this question via simulation and rank-size plots.\n",
    "\n",
    "The approach will be to\n",
    "\n",
    "1. generate $M$ draws of $s_T$ when $M$ and $T$ are\n",
    "   large and\n",
    "1. plot the largest 1,000 of the resulting draws in a rank-size plot.\n",
    "\n",
    "(The distribution of $s_T$ will be close to the stationary distribution\n",
    "when $T$ is large.)\n",
    "\n",
    "In the simulation, we assume that each of $a_t, b_t$ and $e_t$ is lognormal.\n",
    "\n",
    "Here's code to update a cross-section of firms according to the dynamics in\n",
    "[](firm_dynam_ee)."
   ]
  },
  {
   "cell_type": "code",
   "execution_count": 4,
   "id": "c427654a",
   "metadata": {},
   "outputs": [],
   "source": [
    "@jax.jit\n",
    "def update_s(s, s_bar, a_random, b_random, e_random):\n",
    "    exp_a = jnp.exp(a_random)\n",
    "    exp_b = jnp.exp(b_random)\n",
    "    exp_e = jnp.exp(e_random)\n",
    "\n",
    "    s = jnp.where(s < s_bar,\n",
    "                  exp_e,\n",
    "                  exp_a * s + exp_b)\n",
    "\n",
    "    return s"
   ]
  },
  {
   "cell_type": "markdown",
   "id": "06e2cb3a",
   "metadata": {},
   "source": [
    "Now we write a for loop that repeatedly calls this function, to push a\n",
    "cross-section of firms forward in time.\n",
    "\n",
    "For sufficiently large `T`, the cross-section it returns (the cross-section at\n",
    "time `T`) corresponds to firm size distribution in (approximate) equilibrium."
   ]
  },
  {
   "cell_type": "code",
   "execution_count": 5,
   "id": "5ee0615b",
   "metadata": {},
   "outputs": [
    {
     "name": "stdout",
     "output_type": "stream",
     "text": [
      "CPU times: user 4.45 s, sys: 2.06 s, total: 6.51 s\n",
      "Wall time: 3.88 s\n"
     ]
    }
   ],
   "source": [
    "def generate_draws(M=1_000_000,\n",
    "                   μ_a=-0.5,\n",
    "                   σ_a=0.1,\n",
    "                   μ_b=0.0,\n",
    "                   σ_b=0.5,\n",
    "                   μ_e=0.0,\n",
    "                   σ_e=0.5,\n",
    "                   s_bar=1.0,\n",
    "                   T=500,\n",
    "                   s_init=1.0,\n",
    "                   seed=123):\n",
    "\n",
    "    key = random.PRNGKey(seed)\n",
    "\n",
    "    # Initialize the array of s values with the initial value\n",
    "    s = jnp.full((M, ), s_init)\n",
    "\n",
    "    # Perform updates on s for time t\n",
    "    for t in range(T):\n",
    "        keys = random.split(key, 3)\n",
    "        a_random = μ_a + σ_a * random.normal(keys[0], (M, ))\n",
    "        b_random = μ_b + σ_b * random.normal(keys[1], (M, ))\n",
    "        e_random = μ_e + σ_e * random.normal(keys[2], (M, ))\n",
    "\n",
    "        s = update_s(s, s_bar, a_random, b_random, e_random)\n",
    "        \n",
    "        # Generate new key for the next iteration\n",
    "        key = random.fold_in(key, t)\n",
    "\n",
    "    return s\n",
    "\n",
    "%time data = generate_draws().block_until_ready()"
   ]
  },
  {
   "cell_type": "markdown",
   "id": "21fcda0b",
   "metadata": {},
   "source": [
    "Running the above function again so we can see the speed with and without compile time."
   ]
  },
  {
   "cell_type": "code",
   "execution_count": 6,
   "id": "868f87bf",
   "metadata": {},
   "outputs": [
    {
     "name": "stdout",
     "output_type": "stream",
     "text": [
      "CPU times: user 3.94 s, sys: 804 ms, total: 4.74 s\n",
      "Wall time: 1.98 s\n"
     ]
    }
   ],
   "source": [
    "%time data = generate_draws().block_until_ready()"
   ]
  },
  {
   "cell_type": "markdown",
   "id": "591bd97d",
   "metadata": {},
   "source": [
    "Notice that we do not JIT-compile the `for` loops, since\n",
    "\n",
    "1. acceleration of the outer loop makes little difference terms of compute\n",
    "   time and\n",
    "2. compiling the outer loop is often very slow.\n",
    "\n",
    "Let's produce the rank-size plot and check the distribution:"
   ]
  },
  {
   "cell_type": "code",
   "execution_count": 7,
   "id": "8be8c802",
   "metadata": {},
   "outputs": [
    {
     "data": {
      "image/png": "[encoded data removed]",
      "text/plain": [
       "<Figure size 640x480 with 1 Axes>"
      ]
     },
     "metadata": {},
     "output_type": "display_data"
    }
   ],
   "source": [
    "fig, ax = plt.subplots()\n",
    "\n",
    "rank_data, size_data = qe.rank_size(data, c=0.01)\n",
    "ax.loglog(rank_data, size_data, 'o', markersize=3.0, alpha=0.5)\n",
    "ax.set_xlabel(\"log rank\")\n",
    "ax.set_ylabel(\"log size\")\n",
    "\n",
    "plt.show()"
   ]
  },
  {
   "cell_type": "markdown",
   "id": "c0b2d5d9",
   "metadata": {},
   "source": [
    "The plot produces a straight line, consistent with a Pareto tail.\n",
    "\n",
    "\n",
    "#### Alternative implementation with `lax.fori_loop`\n",
    "\n",
    "If the time horizon is not too large, we can try to further accelerate our code\n",
    "by replacing the `for` loop with\n",
    "[`lax.fori_loop`](https://jax.readthedocs.io/en/latest/_autosummary/jax.lax.fori_loop.html).\n",
    "\n",
    "Note, however, that\n",
    "\n",
    "1. as mentioned above, there is not much speed gain in accelerating outer loops,\n",
    "2. `lax.fori_loop` has a more complicated syntax, and, most importantly,\n",
    "3. the `lax.fori_loop` implementation consumes far more memory, as we need to have to\n",
    "   store large matrices of random draws\n",
    "\n",
    "Hence the code below will fail due to out-of-memory errors when `T` and `M` are large.\n",
    "\n",
    "Here is the `lax.fori_loop` version:"
   ]
  },
  {
   "cell_type": "code",
   "execution_count": 8,
   "id": "01df1a60",
   "metadata": {},
   "outputs": [
    {
     "name": "stdout",
     "output_type": "stream",
     "text": [
      "CPU times: user 409 ms, sys: 0 ns, total: 409 ms\n",
      "Wall time: 404 ms\n"
     ]
    }
   ],
   "source": [
    "@jax.jit\n",
    "def generate_draws_lax(μ_a=-0.5,\n",
    "                       σ_a=0.1,\n",
    "                       μ_b=0.0,\n",
    "                       σ_b=0.5,\n",
    "                       μ_e=0.0,\n",
    "                       σ_e=0.5,\n",
    "                       s_bar=1.0,\n",
    "                       T=500,\n",
    "                       M=500_000,\n",
    "                       s_init=1.0,\n",
    "                       seed=123):\n",
    "\n",
    "    key = random.PRNGKey(seed)\n",
    "    keys = random.split(key, 3)\n",
    "    \n",
    "    # Generate random draws and initial values\n",
    "    a_random = μ_a + σ_a * random.normal(keys[0], (T, M))\n",
    "    b_random = μ_b + σ_b * random.normal(keys[1], (T, M))\n",
    "    e_random = μ_e + σ_e * random.normal(keys[2], (T, M))\n",
    "    s = jnp.full((M, ), s_init)\n",
    "\n",
    "    # Define the function for each update\n",
    "    def update_s(i, s):\n",
    "        a, b, e = a_random[i], b_random[i], e_random[i]\n",
    "        s = jnp.where(s < s_bar,\n",
    "                      jnp.exp(e),\n",
    "                      jnp.exp(a) * s + jnp.exp(b))\n",
    "        return s\n",
    "\n",
    "    # Use lax.scan to perform the calculations on all states\n",
    "    s_final = lax.fori_loop(0, T, update_s, s)\n",
    "    return s_final\n",
    "\n",
    "%time data = generate_draws_lax().block_until_ready()"
   ]
  },
  {
   "cell_type": "markdown",
   "id": "6c55d30b",
   "metadata": {},
   "source": [
    "In this case, `M` is small enough for the code to run and\n",
    "we see some speed gain over the for loop implementation:"
   ]
  },
  {
   "cell_type": "code",
   "execution_count": 9,
   "id": "d68ab684",
   "metadata": {},
   "outputs": [
    {
     "name": "stdout",
     "output_type": "stream",
     "text": [
      "CPU times: user 3.87 ms, sys: 0 ns, total: 3.87 ms\n",
      "Wall time: 34.6 ms\n"
     ]
    }
   ],
   "source": [
    "%time data = generate_draws_lax().block_until_ready()"
   ]
  },
  {
   "cell_type": "markdown",
   "id": "61162a80",
   "metadata": {},
   "source": [
    "Here we produce the same rank-size plot:"
   ]
  },
  {
   "cell_type": "code",
   "execution_count": 10,
   "id": "5676e930",
   "metadata": {},
   "outputs": [
    {
     "data": {
      "image/png": "[encoded data removed]",
      "text/plain": [
       "<Figure size 640x480 with 1 Axes>"
      ]
     },
     "metadata": {},
     "output_type": "display_data"
    }
   ],
   "source": [
    "fig, ax = plt.subplots()\n",
    "\n",
    "rank_data, size_data = qe.rank_size(data, c=0.01)\n",
    "ax.loglog(rank_data, size_data, 'o', markersize=3.0, alpha=0.5)\n",
    "ax.set_xlabel(\"log rank\")\n",
    "ax.set_ylabel(\"log size\")\n",
    "\n",
    "plt.show()"
   ]
  },
  {
   "cell_type": "markdown",
   "id": "d824d250",
   "metadata": {},
   "source": [
    "Let's rerun the `for` loop version on smaller `M` to compare the speed"
   ]
  },
  {
   "cell_type": "code",
   "execution_count": 11,
   "id": "c4634617",
   "metadata": {},
   "outputs": [
    {
     "name": "stdout",
     "output_type": "stream",
     "text": [
      "CPU times: user 4.34 s, sys: 590 ms, total: 4.93 s\n",
      "Wall time: 2.25 s\n"
     ]
    },
    {
     "data": {
      "text/plain": [
       "Array([2.389801 , 2.2558599, 3.3113828, ..., 2.7102313, 2.5520844,\n",
       "       3.4196172], dtype=float32)"
      ]
     },
     "execution_count": 11,
     "metadata": {},
     "output_type": "execute_result"
    }
   ],
   "source": [
    "%time generate_draws(M=500_000).block_until_ready()"
   ]
  },
  {
   "cell_type": "markdown",
   "id": "6132239d",
   "metadata": {},
   "source": [
    "We see that the `lax.fori_loop` version is faster than the `for` loop version \n",
    "when memory is not an issue."
   ]
  }
 ],
 "metadata": {
  "jupytext": {
   "text_representation": {
    "extension": ".md",
    "format_name": "myst",
    "format_version": 0.13,
    "jupytext_version": "1.15.2"
   }
  },
  "kernelspec": {
   "display_name": "Python 3 (ipykernel)",
   "language": "python",
   "name": "python3"
  },
  "language_info": {
   "codemirror_mode": {
    "name": "ipython",
    "version": 3
   },
   "file_extension": ".py",
   "mimetype": "text/x-python",
   "name": "python",
   "nbconvert_exporter": "python",
   "pygments_lexer": "ipython3",
   "version": "3.11.7"
  },
  "source_map": [
   12,
   32,
   36,
   53,
   60,
   64,
   66,
   183,
   195,
   203,
   236,
   240,
   242,
   252,
   261,
   283,
   319,
   324,
   326,
   330,
   339,
   343,
   345
  ]
 },
 "nbformat": 4,
 "nbformat_minor": 5
}