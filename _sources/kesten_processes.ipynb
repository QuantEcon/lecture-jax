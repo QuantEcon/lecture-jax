{
 "cells": [
  {
   "cell_type": "markdown",
   "id": "9604765a",
   "metadata": {},
   "source": [
    "```{raw} html\n",
    "<div id=\"qe-notebook-header\" align=\"right\" style=\"text-align:right;\">\n",
    "        <a href=\"https://quantecon.org/\" title=\"quantecon.org\">\n",
    "                <img style=\"width:250px;display:inline;\" width=\"250px\" src=\"https://assets.quantecon.org/img/qe-menubar-logo.svg\" alt=\"QuantEcon\">\n",
    "        </a>\n",
    "</div>\n",
    "```\n",
    "\n",
    "# Kesten Processes and Firm Dynamics\n",
    "\n",
    "```{index} single: Linear State Space Models\n",
    "```\n",
    "\n",
    "```{include} _admonition/gpu.md\n",
    "```\n",
    "\n",
    "In addition to JAX and Anaconda, this lecture will need the following libraries:"
   ]
  },
  {
   "cell_type": "code",
   "execution_count": null,
   "id": "eb837b67",
   "metadata": {
    "tags": [
     "hide-output"
    ]
   },
   "outputs": [],
   "source": [
    "!pip install quantecon"
   ]
  },
  {
   "cell_type": "markdown",
   "id": "9c9ab55a",
   "metadata": {},
   "source": [
    "## Overview\n",
    "\n",
    "This lecture describes Kesten processes, which are an important class of\n",
    "stochastic processes, and an application of firm dynamics.\n",
    "\n",
    "The lecture draws on [an earlier QuantEcon lecture](https://python.quantecon.org/kesten_processes.html), \n",
    "which uses Numba to accelerate the computations.\n",
    "\n",
    "In that earlier lecture you can find a more detailed discussion of the concepts involved.\n",
    "\n",
    "This lecture focuses on implementing the same computations in JAX.\n",
    "\n",
    "Let's start with some imports:"
   ]
  },
  {
   "cell_type": "code",
   "execution_count": null,
   "id": "0e589185",
   "metadata": {},
   "outputs": [],
   "source": [
    "import matplotlib.pyplot as plt\n",
    "import quantecon as qe\n",
    "import jax\n",
    "import jax.numpy as jnp\n",
    "from jax import random\n",
    "from jax import lax\n",
    "from quantecon import tic, toc\n",
    "from typing import NamedTuple\n",
    "from functools import partial"
   ]
  },
  {
   "cell_type": "markdown",
   "id": "9bf8c5bb",
   "metadata": {},
   "source": [
    "Let's check the GPU we are running"
   ]
  },
  {
   "cell_type": "code",
   "execution_count": null,
   "id": "e88e7b6e",
   "metadata": {},
   "outputs": [],
   "source": [
    "!nvidia-smi"
   ]
  },
  {
   "cell_type": "markdown",
   "id": "acb85d01",
   "metadata": {},
   "source": [
    "## Kesten processes\n",
    "\n",
    "```{index} single: Kesten processes; heavy tails\n",
    "```\n",
    "\n",
    "A **Kesten process** is a stochastic process of the form\n",
    "\n",
    "```{math}\n",
    ":label: kesproc\n",
    "\n",
    "X_{t+1} = a_{t+1} X_t + \\eta_{t+1}\n",
    "```\n",
    "\n",
    "where $\\{a_t\\}_{t \\geq 1}$ and $\\{\\eta_t\\}_{t \\geq 1}$ are IID\n",
    "sequences.\n",
    "\n",
    "We are interested in the dynamics of $\\{X_t\\}_{t \\geq 0}$ when $X_0$ is given.\n",
    "\n",
    "We will focus on the nonnegative scalar case, where $X_t$ takes values in $\\mathbb R_+$.\n",
    "\n",
    "In particular, we will assume that\n",
    "\n",
    "* the initial condition $X_0$ is nonnegative,\n",
    "* $\\{a_t\\}_{t \\geq 1}$ is a nonnegative IID stochastic process and\n",
    "* $\\{\\eta_t\\}_{t \\geq 1}$ is another nonnegative IID stochastic process, independent of the first.\n",
    "\n",
    "\n",
    "### Application: firm dynamics\n",
    "\n",
    "In this section we apply Kesten process theory to the study of firm dynamics.\n",
    "\n",
    "\n",
    "#### Gibrat's law\n",
    "\n",
    "It was postulated many years ago by Robert Gibrat that firm size evolves\n",
    "according to a simple rule whereby size next period is proportional to current\n",
    "size.\n",
    "\n",
    "This is now known as [Gibrat's law of proportional growth](https://en.wikipedia.org/wiki/Gibrat%27s_law).\n",
    "\n",
    "We can express this idea by stating that a suitably defined measure\n",
    "$s_t$ of firm size obeys\n",
    "\n",
    "```{math}\n",
    ":label: firm_dynam_gb\n",
    "\n",
    "\\frac{s_{t+1}}{s_t} = a_{t+1}\n",
    "```\n",
    "\n",
    "for some positive IID sequence $\\{a_t\\}$.\n",
    "\n",
    "Subsequent empirical research has shown that this specification is not accurate,\n",
    "particularly for small firms.\n",
    "\n",
    "However, we can get close to the data by modifying {eq}`firm_dynam_gb` to\n",
    "\n",
    "```{math}\n",
    ":label: firm_dynam\n",
    "\n",
    "s_{t+1} = a_{t+1} s_t + b_{t+1}\n",
    "```\n",
    "\n",
    "where $\\{a_t\\}$ and $\\{b_t\\}$ are both IID and independent of each\n",
    "other.\n",
    "\n",
    "We now study the implications of this specification.\n",
    "\n",
    "#### Heavy tails\n",
    "\n",
    "If the conditions of the [Kesten--Goldie Theorem](https://python.quantecon.org/kesten_processes.html#the-kestengoldie-theorem)\n",
    "are satisfied, then {eq}`firm_dynam` implies that the firm size distribution will have Pareto tails.\n",
    "\n",
    "This matches empirical findings across many data sets.\n",
    "\n",
    "But there is another unrealistic aspect of the firm dynamics specified in {eq}`firm_dynam` that we need to address: it ignores entry and exit.\n",
    "\n",
    "In any given period and in any given market, we observe significant numbers of\n",
    "firms entering and exiting the market.\n",
    "\n",
    "In this setting, firm dynamics can be expressed as\n",
    "\n",
    "```{math}\n",
    ":label: firm_dynam_ee\n",
    "    s_{t+1} = e_{t+1} \\mathbb{1}\\{s_t < \\bar s\\} +\n",
    "    (a_{t+1} s_t + b_{t+1}) \\mathbb{1}\\{s_t \\geq \\bar s\\}\n",
    "```\n",
    "\n",
    "The motivation behind and interpretation of [](firm_dynam_ee) can be found in \n",
    "[our earlier Kesten process lecture](https://python.quantecon.org/kesten_processes.html).\n",
    "\n",
    "What can we say about dynamics?\n",
    "\n",
    "Although {eq}`firm_dynam_ee` is not a Kesten process, it does update in the\n",
    "same way as a Kesten process when $s_t$ is large.\n",
    "\n",
    "So perhaps its stationary distribution still has Pareto tails?\n",
    "\n",
    "We can investigate this question via simulation and rank-size plots.\n",
    "\n",
    "The approach will be to\n",
    "\n",
    "1. generate $M$ draws of $s_T$ when $M$ and $T$ are large and\n",
    "1. plot the largest 1,000 of the resulting draws in a rank-size plot.\n",
    "\n",
    "(The distribution of $s_T$ will be close to the stationary distribution\n",
    "when $T$ is large.)\n",
    "\n",
    "In the simulation, we assume that each of $a_t, b_t$ and $e_t$ is lognormal.\n",
    "\n",
    "Here's a class to store parameters:"
   ]
  },
  {
   "cell_type": "code",
   "execution_count": null,
   "id": "9d66277b",
   "metadata": {},
   "outputs": [],
   "source": [
    "class Firm(NamedTuple):\n",
    "    μ_a:   float = -0.5\n",
    "    σ_a:   float = 0.1\n",
    "    μ_b:   float = 0.0\n",
    "    σ_b:   float = 0.5\n",
    "    μ_e:   float = 0.0\n",
    "    σ_e:   float = 0.5\n",
    "    s_bar: float = 1.0"
   ]
  },
  {
   "cell_type": "markdown",
   "id": "204b55c9",
   "metadata": {},
   "source": [
    "Here's code to update a cross-section of firms according to the dynamics in\n",
    "[](firm_dynam_ee)."
   ]
  },
  {
   "cell_type": "code",
   "execution_count": null,
   "id": "d367d0c2",
   "metadata": {},
   "outputs": [],
   "source": [
    "@jax.jit\n",
    "def update_cross_section(s, a, b, e, firm):\n",
    "    μ_a, σ_a, μ_b, σ_b, μ_e, σ_e, s_bar = firm\n",
    "    s = jnp.where(s < s_bar, e, a * s + b)\n",
    "    return s"
   ]
  },
  {
   "cell_type": "markdown",
   "id": "e369736f",
   "metadata": {},
   "source": [
    "Now we write a for loop that repeatedly calls this function, to push a\n",
    "cross-section of firms forward in time.\n",
    "\n",
    "For sufficiently large `T`, the cross-section it returns (the cross-section at\n",
    "time `T`) corresponds to firm size distribution in (approximate) equilibrium."
   ]
  },
  {
   "cell_type": "code",
   "execution_count": null,
   "id": "1f786daf",
   "metadata": {},
   "outputs": [],
   "source": [
    "def generate_cross_section(\n",
    "        firm, M=1_000_000, T=500, s_init=1.0, seed=123\n",
    "    ):\n",
    "\n",
    "    μ_a, σ_a, μ_b, σ_b, μ_e, σ_e, s_bar = firm\n",
    "    key = random.PRNGKey(seed)\n",
    "\n",
    "    # Initialize the cross-section to a common value\n",
    "    s = jnp.full((M, ), s_init)\n",
    "\n",
    "    # Perform updates on s for time t\n",
    "    for t in range(T):\n",
    "        key, *subkeys = random.split(key, 4)\n",
    "        a = μ_a + σ_a * random.normal(subkeys[0], (M,))\n",
    "        b = μ_b + σ_b * random.normal(subkeys[1], (M,))\n",
    "        e = μ_e + σ_e * random.normal(subkeys[2], (M,))\n",
    "        # Exponentiate shocks\n",
    "        a, b, e = jax.tree.map(jnp.exp, (a, b, e))\n",
    "        # Update the cross-section of firms\n",
    "        s = update_cross_section(s, a, b, e, firm)\n",
    "\n",
    "    return s"
   ]
  },
  {
   "cell_type": "code",
   "execution_count": null,
   "id": "d8163c69",
   "metadata": {},
   "outputs": [],
   "source": [
    "firm = Firm()\n",
    "tic()\n",
    "data = generate_cross_section(firm).block_until_ready()\n",
    "toc()"
   ]
  },
  {
   "cell_type": "markdown",
   "id": "7b46d128",
   "metadata": {},
   "source": [
    "Running the above function again so we can see the speed with and without compile time."
   ]
  },
  {
   "cell_type": "code",
   "execution_count": null,
   "id": "0ed6ae9c",
   "metadata": {},
   "outputs": [],
   "source": [
    "tic()\n",
    "data = generate_cross_section(firm).block_until_ready()\n",
    "toc()"
   ]
  },
  {
   "cell_type": "markdown",
   "id": "b3c9868b",
   "metadata": {},
   "source": [
    "Let's produce the rank-size plot and check the distribution:"
   ]
  },
  {
   "cell_type": "code",
   "execution_count": null,
   "id": "fbbd82da",
   "metadata": {},
   "outputs": [],
   "source": [
    "fig, ax = plt.subplots()\n",
    "\n",
    "rank_data, size_data = qe.rank_size(data, c=0.01)\n",
    "ax.loglog(rank_data, size_data, 'o', markersize=3.0, alpha=0.5)\n",
    "ax.set_xlabel(\"log rank\")\n",
    "ax.set_ylabel(\"log size\")\n",
    "\n",
    "plt.show()"
   ]
  },
  {
   "cell_type": "markdown",
   "id": "2ee02d0f",
   "metadata": {},
   "source": [
    "The plot produces a straight line, consistent with a Pareto tail.\n",
    "\n",
    "\n",
    "#### Alternative implementation with `lax.fori_loop`\n",
    "\n",
    "We did not JIT-compile the `for` loop above because\n",
    "acceleration of outer loops makes relatively little difference terms of\n",
    "compute time.\n",
    "\n",
    "However, to maximize performance, let's try squeezing out a bit more speed\n",
    "by replacing the `for` loop with\n",
    "[`lax.fori_loop`](https://jax.readthedocs.io/en/latest/_autosummary/jax.lax.fori_loop.html).\n",
    "\n",
    "Here a the `lax.fori_loop` version:"
   ]
  },
  {
   "cell_type": "code",
   "execution_count": null,
   "id": "97ecd96a",
   "metadata": {},
   "outputs": [],
   "source": [
    "@jax.jit\n",
    "def generate_cross_section_lax(\n",
    "        firm, T=500, M=500_000, s_init=1.0, seed=123\n",
    "    ):\n",
    "\n",
    "    μ_a, σ_a, μ_b, σ_b, μ_e, σ_e, s_bar = firm\n",
    "    key = random.PRNGKey(seed)\n",
    "    \n",
    "    # Initial cross section\n",
    "    s = jnp.full((M, ), s_init)\n",
    "\n",
    "    def update_cross_section(t, state):\n",
    "        s, key = state\n",
    "        key, *subkeys = jax.random.split(key, 4)\n",
    "        # Generate current random draws \n",
    "        a = μ_a + σ_a * random.normal(subkeys[0], (M,))\n",
    "        b = μ_b + σ_b * random.normal(subkeys[1], (M,))\n",
    "        e = μ_e + σ_e * random.normal(subkeys[2], (M,))\n",
    "        # Exponentiate them\n",
    "        a, b, e = jax.tree.map(jnp.exp, (a, b, e))\n",
    "        # Pull out the t-th cross-section of shocks\n",
    "        s = jnp.where(s < s_bar, e, a * s + b)\n",
    "        new_state = s, key\n",
    "        return new_state\n",
    "\n",
    "    # Use fori_loop \n",
    "    initial_state = s, key\n",
    "    final_s, final_key = lax.fori_loop(\n",
    "        0, T, update_cross_section, initial_state\n",
    "    )\n",
    "    return final_s"
   ]
  },
  {
   "cell_type": "markdown",
   "id": "0c0f62f3",
   "metadata": {},
   "source": [
    "Let's see if we get any speed gain"
   ]
  },
  {
   "cell_type": "code",
   "execution_count": null,
   "id": "ff808774",
   "metadata": {},
   "outputs": [],
   "source": [
    "tic()\n",
    "data = generate_cross_section_lax(firm).block_until_ready()\n",
    "toc()"
   ]
  },
  {
   "cell_type": "code",
   "execution_count": null,
   "id": "f5a588dd",
   "metadata": {},
   "outputs": [],
   "source": [
    "tic()\n",
    "data = generate_cross_section_lax(firm).block_until_ready()\n",
    "toc()"
   ]
  },
  {
   "cell_type": "markdown",
   "id": "346c49ae",
   "metadata": {},
   "source": [
    "Here we produce the same rank-size plot:"
   ]
  },
  {
   "cell_type": "code",
   "execution_count": null,
   "id": "a14fd6c5",
   "metadata": {},
   "outputs": [],
   "source": [
    "fig, ax = plt.subplots()\n",
    "\n",
    "rank_data, size_data = qe.rank_size(data, c=0.01)\n",
    "ax.loglog(rank_data, size_data, 'o', markersize=3.0, alpha=0.5)\n",
    "ax.set_xlabel(\"log rank\")\n",
    "ax.set_ylabel(\"log size\")\n",
    "\n",
    "plt.show()\n"
   ]
  },
  {
   "cell_type": "markdown",
   "id": "93f8b68e",
   "metadata": {},
   "source": [
    "## Exercises\n",
    "\n",
    "```{exercise-start}\n",
    ":label: kp_ex1\n",
    "```\n",
    "\n",
    "Try writing an alternative version of `generate_cross_section_lax()` where the entire sequence of random draws is generated at once, so that all of `a`, `b`, and `e` are of shape `(T, M)`.\n",
    "\n",
    "(The `update_cross_section()` function should not generate any random numbers.)\n",
    "\n",
    "Does it improve the runtime?\n",
    "\n",
    "What are the pros and cons of this approach.\n",
    "\n",
    "```{exercise-end}\n",
    "```\n",
    "\n",
    "```{solution-start} kp_ex1\n",
    ":class: dropdown\n",
    "```"
   ]
  },
  {
   "cell_type": "code",
   "execution_count": null,
   "id": "e8d6b9ac",
   "metadata": {},
   "outputs": [],
   "source": [
    "@jax.jit\n",
    "def generate_cross_section_lax(\n",
    "        firm, T=500, M=500_000, s_init=1.0, seed=123\n",
    "    ):\n",
    "\n",
    "    μ_a, σ_a, μ_b, σ_b, μ_e, σ_e, s_bar = firm\n",
    "    key = random.PRNGKey(seed)\n",
    "    subkey_1, subkey_2, subkey_3 = random.split(key, 3)\n",
    "    \n",
    "    # Generate entire sequence of random draws \n",
    "    a = μ_a + σ_a * random.normal(subkey_1, (T, M))\n",
    "    b = μ_b + σ_b * random.normal(subkey_2, (T, M))\n",
    "    e = μ_e + σ_e * random.normal(subkey_3, (T, M))\n",
    "    # Exponentiate them\n",
    "    a, b, e = jax.tree.map(jnp.exp, (a, b, e))\n",
    "    # Initial cross section\n",
    "    s = jnp.full((M, ), s_init)\n",
    "\n",
    "    def update_cross_section(t, s):\n",
    "        # Pull out the t-th cross-section of shocks\n",
    "        a_t, b_t, e_t = a[t], b[t], e[t]\n",
    "        s = jnp.where(s < s_bar, e_t, a_t * s + b_t)\n",
    "        return s\n",
    "\n",
    "    # Use lax.scan to perform the calculations on all states\n",
    "    s_final = lax.fori_loop(0, T, update_cross_section, s)\n",
    "    return s_final"
   ]
  },
  {
   "cell_type": "markdown",
   "id": "a673e842",
   "metadata": {},
   "source": [
    "Here are the run times."
   ]
  },
  {
   "cell_type": "code",
   "execution_count": null,
   "id": "adb7a559",
   "metadata": {},
   "outputs": [],
   "source": [
    "tic()\n",
    "data = generate_cross_section_lax(firm).block_until_ready()\n",
    "toc()"
   ]
  },
  {
   "cell_type": "code",
   "execution_count": null,
   "id": "4343253a",
   "metadata": {},
   "outputs": [],
   "source": [
    "tic()\n",
    "data = generate_cross_section_lax(firm).block_until_ready()\n",
    "toc()"
   ]
  },
  {
   "cell_type": "markdown",
   "id": "d23f30e7",
   "metadata": {},
   "source": [
    "This method might be faster in some cases but in general the\n",
    "relative speed will depend on the size of the cross-section and the length of\n",
    "the simulation paths.\n",
    "\n",
    "Also, this method is far more memory intensive.\n",
    "\n",
    "```{solution-end}\n",
    "```"
   ]
  }
 ],
 "metadata": {
  "jupytext": {
   "text_representation": {
    "extension": ".md",
    "format_name": "myst",
    "format_version": 0.13,
    "jupytext_version": "1.17.2"
   }
  },
  "kernelspec": {
   "display_name": "Python 3 (ipykernel)",
   "language": "python",
   "name": "python3"
  },
  "source_map": [
   12,
   32,
   36,
   52,
   62,
   66,
   68,
   181,
   190,
   195,
   201,
   209,
   234,
   239,
   243,
   247,
   251,
   260,
   277,
   309,
   313,
   319,
   323,
   327,
   337,
   360,
   388,
   392,
   398,
   402
  ]
 },
 "nbformat": 4,
 "nbformat_minor": 5
}