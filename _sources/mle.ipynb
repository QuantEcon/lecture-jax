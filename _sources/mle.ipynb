{
 "cells": [
  {
   "cell_type": "markdown",
   "id": "4b3e955e",
   "metadata": {},
   "source": [
    "# Maximum Likelihood Estimation\n",
    "\n",
    "```{include} _admonition/gpu.md\n",
    "```\n",
    "\n",
    "## Overview\n",
    "\n",
    "This lecture is the extended JAX implementation of [this section](https://python.quantecon.org/mle.html#mle-with-numerical-methods) of [this lecture](https://python.quantecon.org/mle.html).\n",
    "\n",
    "Please refer that lecture for all background and notation.\n",
    "\n",
    "Here we will exploit the automatic differentiation capabilities of JAX rather than calculating derivatives by hand.\n",
    "\n",
    "We'll require the following imports:"
   ]
  },
  {
   "cell_type": "code",
   "execution_count": 1,
   "id": "fb90cb67",
   "metadata": {},
   "outputs": [],
   "source": [
    "import matplotlib.pyplot as plt\n",
    "from collections import namedtuple\n",
    "import jax.numpy as jnp\n",
    "import jax\n",
    "from statsmodels.api import Poisson"
   ]
  },
  {
   "cell_type": "markdown",
   "id": "dd25dd35",
   "metadata": {},
   "source": [
    "Let's check the GPU we are running"
   ]
  },
  {
   "cell_type": "code",
   "execution_count": 2,
   "id": "0d89c2a6",
   "metadata": {},
   "outputs": [
    {
     "name": "stdout",
     "output_type": "stream",
     "text": [
      "Fri Mar  1 22:30:05 2024       \r\n",
      "+-----------------------------------------------------------------------------+\r\n",
      "| NVIDIA-SMI 470.182.03   Driver Version: 470.182.03   CUDA Version: 12.1     |\r\n",
      "|-------------------------------+----------------------+----------------------+\r\n",
      "| GPU  Name        Persistence-M| Bus-Id        Disp.A | Volatile Uncorr. ECC |\r\n",
      "| Fan  Temp  Perf  Pwr:Usage/Cap|         Memory-Usage | GPU-Util  Compute M. |\r\n",
      "|                               |                      |               MIG M. |\r\n",
      "|===============================+======================+======================|\r\n"
     ]
    },
    {
     "name": "stdout",
     "output_type": "stream",
     "text": [
      "|   0  Tesla V100-SXM2...  Off  | 00000000:00:1E.0 Off |                    0 |\r\n",
      "| N/A   28C    P0    37W / 300W |      0MiB / 16160MiB |      2%      Default |\r\n",
      "|                               |                      |                  N/A |\r\n",
      "+-------------------------------+----------------------+----------------------+\r\n",
      "                                                                               \r\n",
      "+-----------------------------------------------------------------------------+\r\n",
      "| Processes:                                                                  |\r\n",
      "|  GPU   GI   CI        PID   Type   Process name                  GPU Memory |\r\n",
      "|        ID   ID                                                   Usage      |\r\n",
      "|=============================================================================|\r\n",
      "|  No running processes found                                                 |\r\n",
      "+-----------------------------------------------------------------------------+\r\n"
     ]
    }
   ],
   "source": [
    "!nvidia-smi"
   ]
  },
  {
   "cell_type": "markdown",
   "id": "976ac36a",
   "metadata": {},
   "source": [
    "We will use 64 bit floats with JAX in order to increase the precision."
   ]
  },
  {
   "cell_type": "code",
   "execution_count": 3,
   "id": "4da4e7b0",
   "metadata": {},
   "outputs": [],
   "source": [
    "jax.config.update(\"jax_enable_x64\", True)"
   ]
  },
  {
   "cell_type": "markdown",
   "id": "1de84bb4",
   "metadata": {},
   "source": [
    "## MLE with numerical methods (JAX)\n",
    "\n",
    "Many distributions do not have nice, analytical solutions and therefore require\n",
    "numerical methods to solve for parameter estimates.\n",
    "\n",
    "One such numerical method is the Newton-Raphson algorithm.\n",
    "\n",
    "Let's start with a simple example to illustrate the algorithm.\n",
    "\n",
    "### A toy model\n",
    "\n",
    "Our goal is to find the maximum likelihood estimate $\\hat{\\boldsymbol{\\beta}}$.\n",
    "\n",
    "At $\\hat{\\boldsymbol{\\beta}}$, the first derivative of the log-likelihood\n",
    "function will be equal to 0.\n",
    "\n",
    "Let's illustrate this by supposing\n",
    "\n",
    "$$\n",
    "\\log \\mathcal{L(\\beta)} = - (\\beta - 10) ^2 - 10\n",
    "$$\n",
    "\n",
    "Define the function `logL`."
   ]
  },
  {
   "cell_type": "code",
   "execution_count": 4,
   "id": "e0cc2d8e",
   "metadata": {},
   "outputs": [],
   "source": [
    "@jax.jit\n",
    "def logL(β):\n",
    "    return -(β - 10) ** 2 - 10"
   ]
  },
  {
   "cell_type": "markdown",
   "id": "ca115467",
   "metadata": {},
   "source": [
    "To find the value of $\\frac{d \\log \\mathcal{L(\\boldsymbol{\\beta})}}{d \\boldsymbol{\\beta}}$, we can use [jax.grad](https://jax.readthedocs.io/en/latest/_autosummary/jax.grad.html) which auto-differentiates the given function.\n",
    "\n",
    "We further use [jax.vmap](https://jax.readthedocs.io/en/latest/_autosummary/jax.vmap.html) which vectorizes the given function i.e. the function acting upon scalar inputs can now be used with vector inputs."
   ]
  },
  {
   "cell_type": "code",
   "execution_count": 5,
   "id": "e8ab1a75",
   "metadata": {},
   "outputs": [],
   "source": [
    "dlogL = jax.vmap(jax.grad(logL))"
   ]
  },
  {
   "cell_type": "code",
   "execution_count": 6,
   "id": "cd038362",
   "metadata": {},
   "outputs": [
    {
     "data": {
      "image/png": "[encoded data removed]",
      "text/plain": [
       "<Figure size 1200x800 with 2 Axes>"
      ]
     },
     "metadata": {},
     "output_type": "display_data"
    }
   ],
   "source": [
    "β = jnp.linspace(1, 20)\n",
    "\n",
    "fig, (ax1, ax2) = plt.subplots(2, sharex=True, figsize=(12, 8))\n",
    "\n",
    "ax1.plot(β, logL(β), lw=2)\n",
    "ax2.plot(β, dlogL(β), lw=2)\n",
    "\n",
    "ax1.set_ylabel(r'$log \\mathcal{L(\\beta)}$',\n",
    "               rotation=0,\n",
    "               labelpad=35,\n",
    "               fontsize=15)\n",
    "ax2.set_ylabel(r'$\\frac{dlog \\mathcal{L(\\beta)}}{d \\beta}$ ',\n",
    "               rotation=0,\n",
    "               labelpad=35,\n",
    "               fontsize=19)\n",
    "\n",
    "ax2.set_xlabel(r'$\\beta$', fontsize=15)\n",
    "ax1.grid(), ax2.grid()\n",
    "plt.axhline(c='black')\n",
    "plt.show()"
   ]
  },
  {
   "cell_type": "markdown",
   "id": "ce256a83",
   "metadata": {},
   "source": [
    "The plot shows that the maximum likelihood value (the top plot) occurs\n",
    "when $\\frac{d \\log \\mathcal{L(\\boldsymbol{\\beta})}}{d \\boldsymbol{\\beta}} = 0$ (the bottom\n",
    "plot).\n",
    "\n",
    "Therefore, the likelihood is maximized when $\\beta = 10$.\n",
    "\n",
    "We can also ensure that this value is a *maximum* (as opposed to a\n",
    "minimum) by checking that the second derivative (slope of the bottom\n",
    "plot) is negative.\n",
    "\n",
    "The Newton-Raphson algorithm finds a point where the first derivative is\n",
    "0.\n",
    "\n",
    "To use the algorithm, we take an initial guess at the maximum value,\n",
    "$\\beta_0$ (the OLS parameter estimates might be a reasonable\n",
    "guess).\n",
    "\n",
    "Then we use the updating rule involving gradient information to iterate the algorithm until the error is sufficiently small or the algorithm reaches the maximum number of iterations.\n",
    "\n",
    "Please refer to [this section](https://python.quantecon.org/mle.html#mle-with-numerical-methods) for the detailed algorithm.\n",
    "\n",
    "### A Poisson model\n",
    "\n",
    "Let's have a go at implementing the Newton-Raphson algorithm to calculate the maximum likelihood estimations of a Poisson  regression.\n",
    "\n",
    "The Poisson regression has a joint pmf:\n",
    "\n",
    "$$\n",
    "f(y_1, y_2, \\ldots, y_n \\mid \\mathbf{x}_1, \\mathbf{x}_2, \\ldots, \\mathbf{x}_n; \\boldsymbol{\\beta})\n",
    "    = \\prod_{i=1}^{n} \\frac{\\mu_i^{y_i}}{y_i!} e^{-\\mu_i}\n",
    "\n",
    "$$\n",
    "\n",
    "$$\n",
    "\\text{where}\\ \\mu_i\n",
    "     = \\exp(\\mathbf{x}_i' \\boldsymbol{\\beta})\n",
    "     = \\exp(\\beta_0 + \\beta_1 x_{i1} + \\ldots + \\beta_k x_{ik})\n",
    "$$\n",
    "\n",
    "We create a `namedtuple` to store the observed values"
   ]
  },
  {
   "cell_type": "code",
   "execution_count": 7,
   "id": "04db89ff",
   "metadata": {},
   "outputs": [],
   "source": [
    "RegressionModel = namedtuple('RegressionModel', ['X', 'y'])\n",
    "\n",
    "def create_regression_model(X, y):\n",
    "    n, k = X.shape\n",
    "    # Reshape y as a n_by_1 column vector\n",
    "    y = y.reshape(n, 1)\n",
    "    X, y = jax.device_put((X, y))\n",
    "    return RegressionModel(X=X, y=y)"
   ]
  },
  {
   "cell_type": "markdown",
   "id": "caac83bf",
   "metadata": {},
   "source": [
    "The log likelihood function of the Poisson regression is\n",
    "\n",
    "$$\n",
    "\\underset{\\beta}{\\max} \\Big(\n",
    "\\sum_{i=1}^{n} y_i \\log{\\mu_i} -\n",
    "\\sum_{i=1}^{n} \\mu_i -\n",
    "\\sum_{i=1}^{n} \\log y! \\Big)\n",
    "$$\n",
    "\n",
    "The full derivation can be found [here](https://python.quantecon.org/mle.html#id2).\n",
    "\n",
    "The log likelihood function involves factorial, but JAX doesn't have a readily available implementation to compute factorial directly.\n",
    "\n",
    "In order to compute the factorial efficiently such that we can JIT it, we use\n",
    "\n",
    "$$\n",
    "    n! = e^{\\log(\\Gamma(n+1))}\n",
    "$$\n",
    "\n",
    "since [jax.lax.lgamma](https://jax.readthedocs.io/en/latest/_autosummary/jax.lax.lgamma.html) and [jax.lax.exp](https://jax.readthedocs.io/en/latest/_autosummary/jax.lax.exp.html) are available.\n",
    "\n",
    "The following function `jax_factorial` computes the factorial using this idea.\n",
    "\n",
    "Let's define this function in Python"
   ]
  },
  {
   "cell_type": "code",
   "execution_count": 8,
   "id": "52f1c712",
   "metadata": {},
   "outputs": [],
   "source": [
    "@jax.jit\n",
    "def _factorial(n):\n",
    "    return jax.lax.exp(jax.lax.lgamma(n + 1.0)).astype(int)\n",
    "\n",
    "jax_factorial = jax.vmap(_factorial)"
   ]
  },
  {
   "cell_type": "markdown",
   "id": "8db9db00",
   "metadata": {},
   "source": [
    "Now we can define the log likelihood function in Python"
   ]
  },
  {
   "cell_type": "code",
   "execution_count": 9,
   "id": "f228c367",
   "metadata": {},
   "outputs": [],
   "source": [
    "@jax.jit\n",
    "def poisson_logL(β, model):\n",
    "    y = model.y\n",
    "    μ = jnp.exp(model.X @ β)\n",
    "    return jnp.sum(model.y * jnp.log(μ) - μ - jnp.log(jax_factorial(y)))"
   ]
  },
  {
   "cell_type": "markdown",
   "id": "a53b8f80",
   "metadata": {},
   "source": [
    "To find the gradient of the `poisson_logL`, we again use [jax.grad](https://jax.readthedocs.io/en/latest/_autosummary/jax.grad.html).\n",
    "\n",
    "According to [the documentation](https://jax.readthedocs.io/en/latest/notebooks/autodiff_cookbook.html#jacobians-and-hessians-using-jacfwd-and-jacrev),\n",
    "\n",
    "* `jax.jacfwd` uses forward-mode automatic differentiation, which is more efficient for “tall” Jacobian matrices, while\n",
    "* `jax.jacrev` uses reverse-mode, which is more efficient for “wide” Jacobian matrices.\n",
    "\n",
    "(The documentation also states that when matrices that are near-square, `jax.jacfwd` probably has an edge over `jax.jacrev`.)\n",
    "\n",
    "Therefore, to find the Hessian, we can directly use `jax.jacfwd`."
   ]
  },
  {
   "cell_type": "code",
   "execution_count": 10,
   "id": "28c71753",
   "metadata": {},
   "outputs": [],
   "source": [
    "G_poisson_logL = jax.grad(poisson_logL)\n",
    "H_poisson_logL = jax.jacfwd(G_poisson_logL)"
   ]
  },
  {
   "cell_type": "markdown",
   "id": "e39210c9",
   "metadata": {},
   "source": [
    "Our function `newton_raphson` will take a `RegressionModel` object\n",
    "that has an initial guess of the parameter vector $\\boldsymbol{\\beta}_0$.\n",
    "\n",
    "The algorithm will update the parameter vector according to the updating\n",
    "rule, and recalculate the gradient and Hessian matrices at the new\n",
    "parameter estimates."
   ]
  },
  {
   "cell_type": "code",
   "execution_count": 11,
   "id": "38eb1a3d",
   "metadata": {},
   "outputs": [],
   "source": [
    "def newton_raphson(model, β, tol=1e-3, max_iter=100, display=True):\n",
    "\n",
    "    i = 0\n",
    "    error = 100  # Initial error value\n",
    "\n",
    "    # Print header of output\n",
    "    if display:\n",
    "        header = f'{\"Iteration_k\":<13}{\"Log-likelihood\":<16}{\"θ\":<60}'\n",
    "        print(header)\n",
    "        print(\"-\" * len(header))\n",
    "\n",
    "    # While loop runs while any value in error is greater\n",
    "    # than the tolerance until max iterations are reached\n",
    "    while jnp.any(error > tol) and i < max_iter:\n",
    "        H, G = jnp.squeeze(H_poisson_logL(β, model)), G_poisson_logL(β, model)\n",
    "        β_new = β - (jnp.dot(jnp.linalg.inv(H), G))\n",
    "        error = jnp.abs(β_new - β)\n",
    "        β = β_new\n",
    "\n",
    "        if display:\n",
    "            β_list = [f'{t:.3}' for t in list(β.flatten())]\n",
    "            update = f'{i:<13}{poisson_logL(β, model):<16.8}{β_list}'\n",
    "            print(update)\n",
    "\n",
    "        i += 1\n",
    "\n",
    "    print(f'Number of iterations: {i}')\n",
    "    print(f'β_hat = {β.flatten()}')\n",
    "\n",
    "    return β"
   ]
  },
  {
   "cell_type": "markdown",
   "id": "76b2a6af",
   "metadata": {},
   "source": [
    "Let's try out our algorithm with a small dataset of 5 observations and 3\n",
    "variables in $\\mathbf{X}$."
   ]
  },
  {
   "cell_type": "code",
   "execution_count": 12,
   "id": "99fb7fe6",
   "metadata": {},
   "outputs": [
    {
     "name": "stdout",
     "output_type": "stream",
     "text": [
      "Iteration_k  Log-likelihood  θ                                                           \n",
      "-----------------------------------------------------------------------------------------\n"
     ]
    },
    {
     "name": "stdout",
     "output_type": "stream",
     "text": [
      "0            -4.3447622      ['-1.49', '0.265', '0.244']\n",
      "1            -3.5742413      ['-3.38', '0.528', '0.474']\n",
      "2            -3.3999526      ['-5.06', '0.782', '0.702']\n",
      "3            -3.3788646      ['-5.92', '0.909', '0.82']\n",
      "4            -3.3783559      ['-6.07', '0.933', '0.843']\n",
      "5            -3.3783555      ['-6.08', '0.933', '0.843']\n"
     ]
    },
    {
     "name": "stdout",
     "output_type": "stream",
     "text": [
      "6            -3.3783555      ['-6.08', '0.933', '0.843']\n",
      "Number of iterations: 7\n",
      "β_hat = [-6.07848573  0.9334028   0.84329677]\n"
     ]
    }
   ],
   "source": [
    "X = jnp.array([[1, 2, 5],\n",
    "               [1, 1, 3],\n",
    "               [1, 4, 2],\n",
    "               [1, 5, 2],\n",
    "               [1, 3, 1]])\n",
    "\n",
    "y = jnp.array([1, 0, 1, 1, 0])\n",
    "\n",
    "# Take a guess at initial βs\n",
    "init_β = jnp.array([0.1, 0.1, 0.1]).reshape(X.shape[1], 1)\n",
    "\n",
    "# Create an object with Poisson model values\n",
    "poi = create_regression_model(X, y)\n",
    "\n",
    "# Use newton_raphson to find the MLE\n",
    "β_hat = newton_raphson(poi, init_β, display=True)"
   ]
  },
  {
   "cell_type": "markdown",
   "id": "b089407d",
   "metadata": {},
   "source": [
    "As this was a simple model with few observations, the algorithm achieved\n",
    "convergence in only 7 iterations.\n",
    "\n",
    "The gradient vector should be close to 0 at $\\hat{\\boldsymbol{\\beta}}$"
   ]
  },
  {
   "cell_type": "code",
   "execution_count": 13,
   "id": "bef9678c",
   "metadata": {},
   "outputs": [
    {
     "data": {
      "text/plain": [
       "Array([[-2.56406008e-13],\n",
       "       [-6.50202114e-13],\n",
       "       [-5.05540054e-13]], dtype=float64)"
      ]
     },
     "execution_count": 13,
     "metadata": {},
     "output_type": "execute_result"
    }
   ],
   "source": [
    "G_poisson_logL(β_hat, poi)"
   ]
  },
  {
   "cell_type": "markdown",
   "id": "68cbba80",
   "metadata": {},
   "source": [
    "## MLE with `statsmodels`\n",
    "\n",
    "We’ll use the Poisson regression model in `statsmodels` to verify the results\n",
    "obtained using JAX.\n",
    "\n",
    "`statsmodels` uses the same algorithm as above to find the maximum\n",
    "likelihood estimates.\n",
    "\n",
    "Now, as `statsmodels` accepts only NumPy arrays, we can use the `__array__` method\n",
    "of JAX arrays to convert it to NumPy arrays."
   ]
  },
  {
   "cell_type": "code",
   "execution_count": 14,
   "id": "0f0dda86",
   "metadata": {},
   "outputs": [],
   "source": [
    "X_numpy = X.__array__()\n",
    "y_numpy = y.__array__()"
   ]
  },
  {
   "cell_type": "code",
   "execution_count": 15,
   "id": "8feeabb4",
   "metadata": {},
   "outputs": [
    {
     "name": "stdout",
     "output_type": "stream",
     "text": [
      "Optimization terminated successfully.\n",
      "         Current function value: 0.675671\n",
      "         Iterations 7\n",
      "                          Poisson Regression Results                          \n",
      "==============================================================================\n",
      "Dep. Variable:                      y   No. Observations:                    5\n",
      "Model:                        Poisson   Df Residuals:                        2\n",
      "Method:                           MLE   Df Model:                            2\n",
      "Date:                Fri, 01 Mar 2024   Pseudo R-squ.:                  0.2546\n",
      "Time:                        22:30:13   Log-Likelihood:                -3.3784\n",
      "converged:                       True   LL-Null:                       -4.5325\n",
      "Covariance Type:            nonrobust   LLR p-value:                    0.3153\n",
      "==============================================================================\n",
      "                 coef    std err          z      P>|z|      [0.025      0.975]\n",
      "------------------------------------------------------------------------------\n",
      "const         -6.0785      5.279     -1.151      0.250     -16.425       4.268\n",
      "x1             0.9334      0.829      1.126      0.260      -0.691       2.558\n",
      "x2             0.8433      0.798      1.057      0.291      -0.720       2.407\n",
      "==============================================================================\n"
     ]
    }
   ],
   "source": [
    "stats_poisson = Poisson(y_numpy, X_numpy).fit()\n",
    "print(stats_poisson.summary())"
   ]
  },
  {
   "cell_type": "markdown",
   "id": "dd356b52",
   "metadata": {},
   "source": [
    "The benefit of writing our own procedure, relative to statsmodels is that\n",
    "\n",
    "* we can exploit the power of the GPU and\n",
    "* we learn the underlying methodology, which can be extended to complex situations where no existing routines are available.\n",
    "\n",
    "```{exercise-start}\n",
    ":label: newton_mle1\n",
    "```\n",
    "\n",
    "We define a quadratic model for a single explanatory variable by\n",
    "\n",
    "$$\n",
    "    \\log(\\lambda_t) = \\beta_0 + \\beta_1 x_t + \\beta_2 x_{t}^2\n",
    "$$\n",
    "\n",
    "We calculate the mean on the original scale instead of the log scale by exponentiating both sides of the above equation, which gives\n",
    "\n",
    "```{math}\n",
    ":label: lambda_mle\n",
    "    \\lambda_t = \\exp(\\beta_0 + \\beta_1 x_t + \\beta_2 x_{t}^2)\n",
    "```\n",
    "\n",
    "Simulate the values of $x_t$ by sampling from a normal distribution and $\\lambda_t$ by using {eq}`lambda_mle` and the following constants:\n",
    "\n",
    "$$\n",
    "    \\beta_0 = -2.5,\n",
    "    \\quad\n",
    "    \\beta_1 = 0.25,\n",
    "    \\quad\n",
    "    \\beta_2 = 0.5\n",
    "$$\n",
    "\n",
    "Try to obtain the approximate values of $\\beta_0,\\beta_1,\\beta_2$, by simulating a Poisson Regression Model such that\n",
    "\n",
    "$$\n",
    "      y_t \\sim {\\rm Poisson}(\\lambda_t)\n",
    "      \\quad \\text{for all } t.\n",
    "$$\n",
    "\n",
    "Using our `newton_raphson` function on the data set $X = [1, x_t, x_t^{2}]$ and\n",
    "$y$, obtain the maximum likelihood estimates of $\\beta_0,\\beta_1,\\beta_2$.\n",
    "\n",
    "With a sufficient large sample size, you should approximately\n",
    "recover the true values of of these parameters.\n",
    "\n",
    "\n",
    "```{exercise-end}\n",
    "```\n",
    "\n",
    "```{solution-start} newton_mle1\n",
    ":class: dropdown\n",
    "```\n",
    "\n",
    "Let's start by defining \"true\" parameter values."
   ]
  },
  {
   "cell_type": "code",
   "execution_count": 16,
   "id": "427bc9d3",
   "metadata": {},
   "outputs": [],
   "source": [
    "β_0 = -2.5\n",
    "β_1 = 0.25\n",
    "β_2 = 0.5"
   ]
  },
  {
   "cell_type": "markdown",
   "id": "7ff73227",
   "metadata": {},
   "source": [
    "To simulate the model, we sample 500,000 values of $x_t$ from the standard normal distribution."
   ]
  },
  {
   "cell_type": "code",
   "execution_count": 17,
   "id": "ee1ba31c",
   "metadata": {},
   "outputs": [],
   "source": [
    "seed = 32\n",
    "shape = (500_000, 1)\n",
    "key = jax.random.PRNGKey(seed)\n",
    "x = jax.random.normal(key, shape)"
   ]
  },
  {
   "cell_type": "markdown",
   "id": "26931b48",
   "metadata": {},
   "source": [
    "We compute $\\lambda$ using {eq}`lambda_mle`"
   ]
  },
  {
   "cell_type": "code",
   "execution_count": 18,
   "id": "d504005c",
   "metadata": {},
   "outputs": [],
   "source": [
    "λ = jnp.exp(β_0 + β_1 * x + β_2 * x**2)"
   ]
  },
  {
   "cell_type": "markdown",
   "id": "58b926d1",
   "metadata": {},
   "source": [
    "Let's define $y_t$ by sampling from a Poisson distribution with mean as $\\lambda_t$."
   ]
  },
  {
   "cell_type": "code",
   "execution_count": 19,
   "id": "2941629d",
   "metadata": {},
   "outputs": [],
   "source": [
    "y = jax.random.poisson(key, λ, shape)"
   ]
  },
  {
   "cell_type": "markdown",
   "id": "d6b0309f",
   "metadata": {},
   "source": [
    "Now let's try to recover the true parameter values using the Newton-Raphson\n",
    "method described above."
   ]
  },
  {
   "cell_type": "code",
   "execution_count": 20,
   "id": "0679c767",
   "metadata": {},
   "outputs": [
    {
     "name": "stdout",
     "output_type": "stream",
     "text": [
      "Iteration_k  Log-likelihood  θ                                                           \n",
      "-----------------------------------------------------------------------------------------\n"
     ]
    },
    {
     "name": "stdout",
     "output_type": "stream",
     "text": [
      "0            -4.5444745e+07  ['-1.49', '0.312', '0.794']\n",
      "1            -1.6303734e+07  ['-2.42', '0.311', '0.79']\n",
      "2            -5689832.6      ['-3.22', '0.31', '0.78']\n",
      "3            -1869457.7      ['-3.73', '0.306', '0.756']\n",
      "4            -510284.64      ['-3.71', '0.297', '0.705']\n",
      "5            -28066.381      ['-3.2', '0.283', '0.63']\n",
      "6            127470.33       ['-2.77', '0.268', '0.563']\n",
      "7            163044.64       ['-2.57', '0.257', '0.52']\n",
      "8            166608.12       ['-2.51', '0.252', '0.503']\n",
      "9            166666.4        ['-2.5', '0.251', '0.5']\n",
      "10           166666.42       ['-2.5', '0.251', '0.5']\n",
      "11           166666.42       ['-2.5', '0.251', '0.5']\n",
      "Number of iterations: 12\n",
      "β_hat = [-2.50016027  0.25079345  0.50008394]\n"
     ]
    }
   ],
   "source": [
    "X = jnp.hstack((jnp.ones(shape), x, x**2))\n",
    "\n",
    "# Take a guess at initial βs\n",
    "init_β = jnp.array([0.1, 0.1, 0.1]).reshape(X.shape[1], 1)\n",
    "\n",
    "# Create an object with Poisson model values\n",
    "poi = create_regression_model(X, y)\n",
    "\n",
    "# Use newton_raphson to find the MLE\n",
    "β_hat = newton_raphson(poi, init_β, tol=1e-5, display=True)"
   ]
  },
  {
   "cell_type": "markdown",
   "id": "44455280",
   "metadata": {},
   "source": [
    "The maximum likelihood estimates are similar to the true parameter values.\n",
    "\n",
    "```{solution-end}\n",
    "```"
   ]
  }
 ],
 "metadata": {
  "jupytext": {
   "text_representation": {
    "extension": ".md",
    "format_name": "myst",
    "format_version": 0.13,
    "jupytext_version": "1.14.5"
   }
  },
  "kernelspec": {
   "display_name": "Python 3 (ipykernel)",
   "language": "python",
   "name": "python3"
  },
  "language_info": {
   "codemirror_mode": {
    "name": "ipython",
    "version": 3
   },
   "file_extension": ".py",
   "mimetype": "text/x-python",
   "name": "python",
   "nbconvert_exporter": "python",
   "pygments_lexer": "ipython3",
   "version": "3.11.5"
  },
  "source_map": [
   12,
   29,
   35,
   39,
   41,
   45,
   47,
   73,
   77,
   83,
   87,
   108,
   151,
   160,
   187,
   193,
   198,
   204,
   217,
   220,
   229,
   260,
   265,
   282,
   289,
   291,
   304,
   309,
   312,
   369,
   373,
   377,
   382,
   386,
   388,
   392,
   394,
   400,
   411
  ]
 },
 "nbformat": 4,
 "nbformat_minor": 5
}