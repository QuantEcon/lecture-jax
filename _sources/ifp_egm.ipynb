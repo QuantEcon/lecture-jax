{
 "cells": [
  {
   "cell_type": "markdown",
   "id": "162ee442",
   "metadata": {},
   "source": [
    "# Endogenous Grid Method\n",
    "\n",
    "\n",
    "```{include} _admonition/gpu.md\n",
    "```\n",
    "\n",
    "## Overview\n",
    "\n",
    "In this lecture we use the endogenous grid method (EGM) to solve a basic income\n",
    "fluctuation (optimal savings) problem.\n",
    "\n",
    "Background on the endogenous grid method can be found in [an earlier\n",
    "QuantEcon lecture](https://python.quantecon.org/egm_policy_iter.html).\n",
    "\n",
    "Here we focus on providing an efficient JAX implementation.\n",
    "\n",
    "We will use the following libraries and imports."
   ]
  },
  {
   "cell_type": "code",
   "execution_count": 1,
   "id": "157ad890",
   "metadata": {
    "tags": [
     "hide-output"
    ]
   },
   "outputs": [
    {
     "name": "stdout",
     "output_type": "stream",
     "text": [
      "Requirement already satisfied: quantecon in /opt/conda/envs/quantecon/lib/python3.11/site-packages (0.7.1)\r\n"
     ]
    },
    {
     "name": "stdout",
     "output_type": "stream",
     "text": [
      "Requirement already satisfied: numba>=0.49.0 in /opt/conda/envs/quantecon/lib/python3.11/site-packages (from quantecon) (0.59.0)\r\n",
      "Requirement already satisfied: numpy>=1.17.0 in /opt/conda/envs/quantecon/lib/python3.11/site-packages (from quantecon) (1.26.4)\r\n",
      "Requirement already satisfied: requests in /opt/conda/envs/quantecon/lib/python3.11/site-packages (from quantecon) (2.31.0)\r\n",
      "Requirement already satisfied: scipy>=1.5.0 in /opt/conda/envs/quantecon/lib/python3.11/site-packages (from quantecon) (1.11.4)\r\n",
      "Requirement already satisfied: sympy in /opt/conda/envs/quantecon/lib/python3.11/site-packages (from quantecon) (1.12)\r\n",
      "Requirement already satisfied: llvmlite<0.43,>=0.42.0dev0 in /opt/conda/envs/quantecon/lib/python3.11/site-packages (from numba>=0.49.0->quantecon) (0.42.0)\r\n"
     ]
    },
    {
     "name": "stdout",
     "output_type": "stream",
     "text": [
      "Requirement already satisfied: charset-normalizer<4,>=2 in /opt/conda/envs/quantecon/lib/python3.11/site-packages (from requests->quantecon) (2.0.4)\r\n",
      "Requirement already satisfied: idna<4,>=2.5 in /opt/conda/envs/quantecon/lib/python3.11/site-packages (from requests->quantecon) (3.4)\r\n",
      "Requirement already satisfied: urllib3<3,>=1.21.1 in /opt/conda/envs/quantecon/lib/python3.11/site-packages (from requests->quantecon) (2.0.7)\r\n",
      "Requirement already satisfied: certifi>=2017.4.17 in /opt/conda/envs/quantecon/lib/python3.11/site-packages (from requests->quantecon) (2024.2.2)\r\n",
      "Requirement already satisfied: mpmath>=0.19 in /opt/conda/envs/quantecon/lib/python3.11/site-packages (from sympy->quantecon) (1.3.0)\r\n"
     ]
    },
    {
     "name": "stdout",
     "output_type": "stream",
     "text": [
      "\u001b[33mWARNING: Running pip as the 'root' user can result in broken permissions and conflicting behaviour with the system package manager. It is recommended to use a virtual environment instead: https://pip.pypa.io/warnings/venv\u001b[0m\u001b[33m\r\n",
      "\u001b[0m"
     ]
    }
   ],
   "source": [
    "!pip install --upgrade quantecon"
   ]
  },
  {
   "cell_type": "code",
   "execution_count": 2,
   "id": "4846a16a",
   "metadata": {},
   "outputs": [],
   "source": [
    "import quantecon as qe\n",
    "import matplotlib.pyplot as plt\n",
    "import numpy as np\n",
    "import jax\n",
    "import jax.numpy as jnp\n",
    "import numba"
   ]
  },
  {
   "cell_type": "markdown",
   "id": "599e5ad4",
   "metadata": {},
   "source": [
    "Let's check the GPU we are running"
   ]
  },
  {
   "cell_type": "code",
   "execution_count": 3,
   "id": "611de469",
   "metadata": {},
   "outputs": [
    {
     "name": "stderr",
     "output_type": "stream",
     "text": [
      "/opt/conda/envs/quantecon/lib/python3.11/pty.py:89: RuntimeWarning: os.fork() was called. os.fork() is incompatible with multithreaded code, and JAX is multithreaded, so this will likely lead to a deadlock.\n",
      "  pid, fd = os.forkpty()\n"
     ]
    },
    {
     "name": "stdout",
     "output_type": "stream",
     "text": [
      "Thu Mar 14 01:42:01 2024       \r\n",
      "+-----------------------------------------------------------------------------+\r\n",
      "| NVIDIA-SMI 470.182.03   Driver Version: 470.182.03   CUDA Version: 12.3     |\r\n",
      "|-------------------------------+----------------------+----------------------+\r\n",
      "| GPU  Name        Persistence-M| Bus-Id        Disp.A | Volatile Uncorr. ECC |\r\n",
      "| Fan  Temp  Perf  Pwr:Usage/Cap|         Memory-Usage | GPU-Util  Compute M. |\r\n",
      "|                               |                      |               MIG M. |\r\n",
      "|===============================+======================+======================|\r\n"
     ]
    },
    {
     "name": "stdout",
     "output_type": "stream",
     "text": [
      "|   0  Tesla V100-SXM2...  Off  | 00000000:00:1E.0 Off |                    0 |\r\n",
      "| N/A   30C    P0    37W / 300W |      0MiB / 16160MiB |      2%      Default |\r\n",
      "|                               |                      |                  N/A |\r\n",
      "+-------------------------------+----------------------+----------------------+\r\n",
      "                                                                               \r\n",
      "+-----------------------------------------------------------------------------+\r\n",
      "| Processes:                                                                  |\r\n",
      "|  GPU   GI   CI        PID   Type   Process name                  GPU Memory |\r\n",
      "|        ID   ID                                                   Usage      |\r\n",
      "|=============================================================================|\r\n",
      "|  No running processes found                                                 |\r\n",
      "+-----------------------------------------------------------------------------+\r\n"
     ]
    }
   ],
   "source": [
    "!nvidia-smi"
   ]
  },
  {
   "cell_type": "markdown",
   "id": "99ece60f",
   "metadata": {},
   "source": [
    "We use 64 bit floating point numbers for extra precision."
   ]
  },
  {
   "cell_type": "code",
   "execution_count": 4,
   "id": "64740f7b",
   "metadata": {},
   "outputs": [],
   "source": [
    "jax.config.update(\"jax_enable_x64\", True)"
   ]
  },
  {
   "cell_type": "markdown",
   "id": "049721a6",
   "metadata": {},
   "source": [
    "## Setup \n",
    "\n",
    "We consider a household that chooses a state-contingent consumption plan $\\{c_t\\}_{t \\geq 0}$ to maximize\n",
    "\n",
    "$$\n",
    "\\mathbb{E} \\, \\sum_{t=0}^{\\infty} \\beta^t u(c_t)\n",
    "$$\n",
    "\n",
    "subject to\n",
    "\n",
    "$$\n",
    "    a_{t+1} \\leq  R(a_t - c_t)  + Y_{t+1},\n",
    "    \\quad c_t \\geq 0,\n",
    "    \\quad a_t \\geq 0\n",
    "    \\quad t = 0, 1, \\ldots\n",
    "$$\n",
    "\n",
    "Here $R = 1 + r$ where $r$ is the interest rate.\n",
    "\n",
    "The income process $\\{Y_t\\}$ is a [Markov chain](https://python.quantecon.org/finite_markov.html) generated by stochastic matrix $P$.\n",
    "\n",
    "The matrix $P$ and the grid of values taken by $Y_t$ are obtained by\n",
    "discretizing the AR(1) process\n",
    "\n",
    "$$\n",
    "    Y_{t+1} = \\rho Y_t + \\nu \\epsilon_{t+1}\n",
    "$$\n",
    "\n",
    "where $\\{\\epsilon_t\\}$ is IID and standard normal.\n",
    "\n",
    "Utility has the CRRA specification\n",
    "\n",
    "$$\n",
    "    u(c) = \\frac{c^{1 - \\gamma}} {1 - \\gamma}\n",
    "$$\n",
    "\n",
    "\n",
    "The following function stores default parameter values for the income\n",
    "fluctuation problem and creates suitable arrays."
   ]
  },
  {
   "cell_type": "code",
   "execution_count": 5,
   "id": "dcd40e9d",
   "metadata": {},
   "outputs": [],
   "source": [
    "def ifp(R=1.01,             # gross interest rate\n",
    "        β=0.99,             # discount factor\n",
    "        γ=1.5,              # CRRA preference parameter\n",
    "        s_max=16,           # savings grid max\n",
    "        s_size=200,         # savings grid size\n",
    "        ρ=0.99,             # income persistence\n",
    "        ν=0.02,             # income volatility\n",
    "        y_size=25):         # income grid size\n",
    "  \n",
    "    # require R β < 1 for convergence\n",
    "    assert R * β < 1, \"Stability condition failed.\"\n",
    "    # Create income Markov chain\n",
    "    mc = qe.tauchen(y_size, ρ, ν)\n",
    "    y_grid, P = jnp.exp(mc.state_values), mc.P\n",
    "    # Shift to JAX arrays\n",
    "    P, y_grid = jax.device_put((P, y_grid))\n",
    "    s_grid = jnp.linspace(0, s_max, s_size)\n",
    "    # Pack and return\n",
    "    constants = β, R, γ\n",
    "    sizes = s_size, y_size\n",
    "    arrays = s_grid, y_grid, P\n",
    "    return constants, sizes, arrays"
   ]
  },
  {
   "cell_type": "markdown",
   "id": "c49ef5bd",
   "metadata": {},
   "source": [
    "## Solution method\n",
    "\n",
    "Let $S = \\mathbb R_+ \\times \\mathsf Y$ be the set of possible values for the\n",
    "state $(a_t, Y_t)$.\n",
    "\n",
    "We aim to compute an optimal consumption policy $\\sigma^* \\colon S \\to \\mathbb\n",
    "R$, under which dynamics are given by\n",
    "\n",
    "$$\n",
    "    c_t = \\sigma^*(a_t, Y_t)\n",
    "    \\quad \\text{and} \\quad\n",
    "    a_{t+1} = R (a_t - c_t) + Y_{t+1}\n",
    "$$\n",
    "\n",
    "\n",
    "In this section we discuss how we intend to solve for this policy.\n",
    "\n",
    "\n",
    "### Euler equation\n",
    "\n",
    "The Euler equation for the optimization problem is\n",
    "\n",
    "$$\n",
    "    u' (c_t)\n",
    "    = \\max \\left\\{\n",
    "        \\beta R \\,  \\mathbb{E}_t  u'(c_{t+1})  \\,,\\;  u'(a_t)\n",
    "    \\right\\}\n",
    "$$\n",
    "\n",
    "An explanation for this expression can be found [here](https://python.quantecon.org/ifp.html#value-function-and-euler-equation).\n",
    "\n",
    "We rewrite the Euler equation in functional form\n",
    "\n",
    "$$\n",
    "    (u' \\circ \\sigma)  (a, y)\n",
    "    = \\max \\left\\{\n",
    "    \\beta R \\, \\mathbb E_y (u' \\circ \\sigma)\n",
    "        [R (a - \\sigma(a, y)) + \\hat Y, \\, \\hat Y]\n",
    "    \\, , \\;\n",
    "         u'(a)\n",
    "         \\right\\}\n",
    "$$\n",
    "\n",
    "\n",
    "where $(u' \\circ \\sigma)(a, y) := u'(\\sigma(a, y))$ and $\\sigma$ is a consumption\n",
    "policy.\n",
    "\n",
    "For given consumption policy $\\sigma$, we define $(K \\sigma) (a,y)$ as the unique $c \\in [0, a]$ that solves\n",
    "\n",
    "$$\n",
    "u'(c)\n",
    "= \\max \\left\\{\n",
    "           \\beta R \\, \\mathbb E_y (u' \\circ \\sigma) \\,\n",
    "           [R (a - c) + \\hat Y, \\, \\hat Y]\n",
    "           \\, , \\;\n",
    "           u'(a)\n",
    "     \\right\\}\n",
    "$$ (eq:kaper)\n",
    "\n",
    "It [can be shown that](https://python.quantecon.org/ifp.html)\n",
    "\n",
    "1. iterating with $K$ computes an optimal policy and\n",
    "2. if $\\sigma$ is increasing in its first argument, then so is $K\\sigma$\n",
    "\n",
    "Hence below we always assume that $\\sigma$ is increasing in its first argument.\n",
    "\n",
    "The EGM is a technique for computing the update $K\\sigma$ given $\\sigma$ along a grid of asset values.\n",
    "\n",
    "Notice that, since $u'(a) \\to \\infty$ as $a \\downarrow 0$, the second term in\n",
    "the max in [](eq:kaper) dominates for sufficiently small $a$.\n",
    "\n",
    "Also, again using [](eq:kaper), we have $c=a$ for all such $a$.\n",
    "\n",
    "Hence, for sufficiently small $a$,\n",
    "\n",
    "$$\n",
    "   u'(a) \\geq\n",
    "   \\beta R \\, \\mathbb E_y (u' \\circ \\sigma) \\,\n",
    "           [\\hat Y, \\, \\hat Y]\n",
    "$$\n",
    "\n",
    "Equality holds at $\\bar a(y)$ given by \n",
    "\n",
    "$$\n",
    "   \\bar a (y) =\n",
    "   (u')^{-1}\n",
    "   \\left\\{\n",
    "       \\beta R \\, \\mathbb E_y (u' \\circ \\sigma) \\,\n",
    "               [\\hat Y, \\, \\hat Y]\n",
    "   \\right\\}\n",
    "$$\n",
    "\n",
    "We can now write\n",
    "\n",
    "$$\n",
    "u'(c)\n",
    "    = \\begin{cases}\n",
    "        \\beta R \\, \\mathbb E_y (u' \\circ \\sigma) \\,\n",
    "               [R (a - c) + \\hat Y, \\, \\hat Y]\n",
    "               & \\text{if } a > \\bar a (y) \\\\\n",
    "        u'(a)  & \\text{if } a \\leq \\bar a (y)\n",
    "    \\end{cases}\n",
    "$$\n",
    "\n",
    "Equivalently, we can state that the $c$ satisfying $c = (K\\sigma)(a, y)$ obeys\n",
    "\n",
    "$$\n",
    "c = \\begin{cases}\n",
    "        (u')^{-1}\n",
    "        \\left\\{\n",
    "            \\beta R \\, \\mathbb E_y (u' \\circ \\sigma) \\,\n",
    "               [R (a - c) + \\hat Y, \\, \\hat Y]\n",
    "        \\right\\}\n",
    "               & \\text{if } a > \\bar a (y) \\\\\n",
    "            a  & \\text{if } a \\leq \\bar a (y)\n",
    "    \\end{cases}\n",
    "$$ (eq:oro)\n",
    "\n",
    "We begin with an *exogenous* grid of saving values $0 = s_0 < \\ldots < s_{N-1}$\n",
    "\n",
    "Using the exogenous savings grid, and a fixed value of $y$, we create an *endogenous* asset grid\n",
    "$a_0, \\ldots, a_{N-1}$ and a consumption grid $c_0, \\ldots, c_{N-1}$ as follows.\n",
    "\n",
    "First we set $a_0 = c_0 = 0$, since zero consumption is an optimal (in fact the only) choice when $a=0$.\n",
    "\n",
    "Then, for $i > 0$, we compute \n",
    "\n",
    "$$\n",
    "    c_i\n",
    "    = (u')^{-1}\n",
    "    \\left\\{ \n",
    "        \\beta R \\, \\mathbb E_y (u' \\circ \\sigma) \\,\n",
    "               [R s_i + \\hat Y, \\, \\hat Y]\n",
    "     \\right\\}\n",
    "     \\quad \\text{for all } i\n",
    "$$ (eq:kaperc)\n",
    "\n",
    "and we set \n",
    "\n",
    "$$\n",
    "    a_i = s_i + c_i \n",
    "$$ \n",
    "\n",
    "We claim that each pair $a_i, c_i$ obeys [](eq:oro).\n",
    "\n",
    "Indeed, since $s_i > 0$, choosing $c_i$ according to [](eq:kaperc) gives\n",
    "\n",
    "$$\n",
    "    c_i\n",
    "    = (u')^{-1}\n",
    "    \\left\\{ \n",
    "        \\beta R \\, \\mathbb E_y (u' \\circ \\sigma) \\,\n",
    "               [R s_i + \\hat Y, \\, \\hat Y]\n",
    "     \\right\\}\n",
    "     \\geq \\bar a(y)\n",
    "$$\n",
    "\n",
    "where the inequality uses the fact that $\\sigma$ is increasing in its first argument.\n",
    "\n",
    "If we now take $a_i = s_i + c_i$ we get $a_i > \\bar a(y)$, so the pair $(a_i, c_i)$ satisfies\n",
    "\n",
    "$$\n",
    "    c_i\n",
    "    = (u')^{-1}\n",
    "    \\left\\{ \n",
    "        \\beta R \\, \\mathbb E_y (u' \\circ \\sigma) \\,\n",
    "               [R (a_i - c_i) + \\hat Y, \\, \\hat Y]\n",
    "     \\right\\}\n",
    "     \\quad \\text{and} \\quad a_i > \\bar a(y)\n",
    "$$\n",
    "\n",
    "\n",
    "Hence [](eq:oro) holds.\n",
    "\n",
    "\n",
    "We are now ready to iterate with $K$.\n",
    "\n",
    "### JAX version \n",
    "\n",
    "First we define a vectorized operator $K$ based on the EGM.\n",
    "\n",
    "Notice in the code below that \n",
    "\n",
    "* we avoid all loops and any mutation of arrays\n",
    "* the function is pure (no globals, no mutation of inputs)"
   ]
  },
  {
   "cell_type": "code",
   "execution_count": 6,
   "id": "2dc19dd5",
   "metadata": {},
   "outputs": [],
   "source": [
    "def K_egm(a_in, σ_in, constants, sizes, arrays):\n",
    "    \"\"\"\n",
    "    The vectorized operator K using EGM.\n",
    "\n",
    "    \"\"\"\n",
    "    \n",
    "    # Unpack\n",
    "    β, R, γ = constants\n",
    "    s_size, y_size = sizes\n",
    "    s_grid, y_grid, P = arrays\n",
    "    \n",
    "    def u_prime(c):\n",
    "        return c**(-γ)\n",
    "\n",
    "    def u_prime_inv(u):\n",
    "            return u**(-1/γ)\n",
    "\n",
    "    # Linearly interpolate σ(a, y)\n",
    "    def σ(a, y):\n",
    "        return jnp.interp(a, a_in[:, y], σ_in[:, y])\n",
    "    σ_vec = jnp.vectorize(σ)\n",
    "\n",
    "    # Broadcast and vectorize\n",
    "    y_hat = jnp.reshape(y_grid, (1, 1, y_size))\n",
    "    y_hat_idx = jnp.reshape(jnp.arange(y_size), (1, 1, y_size))\n",
    "    s = jnp.reshape(s_grid, (s_size, 1, 1))\n",
    "    P = jnp.reshape(P, (1, y_size, y_size))\n",
    "    \n",
    "    # Evaluate consumption choice\n",
    "    a_next = R * s + y_hat\n",
    "    σ_next = σ_vec(a_next, y_hat_idx)\n",
    "    up = u_prime(σ_next)\n",
    "    E = jnp.sum(up * P, axis=-1)\n",
    "    c = u_prime_inv(β * R * E)\n",
    "\n",
    "    # Set up a column vector with zero in the first row and ones elsewhere\n",
    "    e_0 = jnp.ones(s_size) - jnp.identity(s_size)[:, 0]\n",
    "    e_0 = jnp.reshape(e_0, (s_size, 1))\n",
    "\n",
    "    # The policy is computed consumption with the first row set to zero\n",
    "    σ_out = c * e_0\n",
    "\n",
    "    # Compute a_out by a = s + c\n",
    "    a_out = np.reshape(s_grid, (s_size, 1)) + σ_out\n",
    "    \n",
    "    return a_out, σ_out"
   ]
  },
  {
   "cell_type": "markdown",
   "id": "3b38d289",
   "metadata": {},
   "source": [
    "Then we use `jax.jit` to compile $K$.\n",
    "\n",
    "We use `static_argnums` to allow a recompile whenever `sizes` changes, since the compiler likes to specialize on shapes."
   ]
  },
  {
   "cell_type": "code",
   "execution_count": 7,
   "id": "0b89b57b",
   "metadata": {},
   "outputs": [],
   "source": [
    "K_egm_jax = jax.jit(K_egm, static_argnums=(3,))"
   ]
  },
  {
   "cell_type": "markdown",
   "id": "0a85980a",
   "metadata": {},
   "source": [
    "Next we define a successive approximator that repeatedly applies $K$."
   ]
  },
  {
   "cell_type": "code",
   "execution_count": 8,
   "id": "e1d14aec",
   "metadata": {},
   "outputs": [],
   "source": [
    "def successive_approx_jax(model,        \n",
    "            tol=1e-5,\n",
    "            max_iter=100_000,\n",
    "            verbose=True,\n",
    "            print_skip=25):\n",
    "\n",
    "    # Unpack\n",
    "    constants, sizes, arrays = model\n",
    "    β, R, γ = constants\n",
    "    s_size, y_size = sizes\n",
    "    s_grid, y_grid, P = arrays\n",
    "    \n",
    "    # Initial condition is to consume all in every state\n",
    "    σ_init = jnp.repeat(s_grid, y_size)\n",
    "    σ_init = jnp.reshape(σ_init, (s_size, y_size))\n",
    "    a_init = jnp.copy(σ_init)\n",
    "    a_vec, σ_vec = a_init, σ_init\n",
    "    \n",
    "    i = 0\n",
    "    error = tol + 1\n",
    "\n",
    "    while i < max_iter and error > tol:\n",
    "        a_new, σ_new = K_egm_jax(a_vec, σ_vec, constants, sizes, arrays)    \n",
    "        error = jnp.max(jnp.abs(σ_vec - σ_new))\n",
    "        i += 1\n",
    "        if verbose and i % print_skip == 0:\n",
    "            print(f\"Error at iteration {i} is {error}.\")\n",
    "        a_vec, σ_vec = jnp.copy(a_new), jnp.copy(σ_new)\n",
    "\n",
    "    if error > tol:\n",
    "        print(\"Failed to converge!\")\n",
    "    else:\n",
    "        print(f\"\\nConverged in {i} iterations.\")\n",
    "\n",
    "    return a_new, σ_new"
   ]
  },
  {
   "cell_type": "markdown",
   "id": "ced8f10e",
   "metadata": {},
   "source": [
    "### Numba version \n",
    "\n",
    "Below we provide a second set of code, which solves the same model with Numba.\n",
    "\n",
    "The purpose of this code is to cross-check our results from the JAX version, as\n",
    "well as to do a runtime comparison.\n",
    "\n",
    "Most readers will want to skip ahead to the next section, where we solve the\n",
    "model and run the cross-check."
   ]
  },
  {
   "cell_type": "code",
   "execution_count": 9,
   "id": "87b463c1",
   "metadata": {},
   "outputs": [],
   "source": [
    "@numba.jit\n",
    "def K_egm_nb(a_in, σ_in, constants, sizes, arrays):\n",
    "    \"\"\"\n",
    "    The operator K using Numba.\n",
    "\n",
    "    \"\"\"\n",
    "    \n",
    "    # Simplify names\n",
    "    β, R, γ = constants\n",
    "    s_size, y_size = sizes\n",
    "    s_grid, y_grid, P = arrays\n",
    "\n",
    "    def u_prime(c):\n",
    "        return c**(-γ)\n",
    "\n",
    "    def u_prime_inv(u):\n",
    "        return u**(-1/γ)\n",
    "\n",
    "    # Linear interpolation of policy using endogenous grid\n",
    "    def σ(a, z):\n",
    "        return np.interp(a, a_in[:, z], σ_in[:, z])\n",
    "    \n",
    "    # Allocate memory for new consumption array\n",
    "    σ_out = np.zeros_like(σ_in)\n",
    "    a_out = np.zeros_like(σ_out)\n",
    "    \n",
    "    for i, s in enumerate(s_grid[1:]):\n",
    "        i += 1\n",
    "        for z in range(y_size):\n",
    "            expect = 0.0\n",
    "            for z_hat in range(y_size):\n",
    "                expect += u_prime(σ(R * s + y_grid[z_hat], z_hat)) * \\\n",
    "                            P[z, z_hat]\n",
    "            c = u_prime_inv(β * R * expect)\n",
    "            σ_out[i, z] = c\n",
    "            a_out[i, z] = s + c\n",
    "    \n",
    "    return a_out, σ_out"
   ]
  },
  {
   "cell_type": "code",
   "execution_count": 10,
   "id": "838e1133",
   "metadata": {},
   "outputs": [],
   "source": [
    "def successive_approx_numba(model,        # Class with model information\n",
    "                              tol=1e-5,\n",
    "                              max_iter=100_000,\n",
    "                              verbose=True,\n",
    "                              print_skip=25):\n",
    "\n",
    "    # Unpack\n",
    "    constants, sizes, arrays = model\n",
    "    s_size, y_size = sizes\n",
    "    # make NumPy versions of arrays\n",
    "    arrays = tuple(map(np.array, arrays))\n",
    "    s_grid, y_grid, P = arrays\n",
    "    \n",
    "    σ_init = np.repeat(s_grid, y_size)\n",
    "    σ_init = np.reshape(σ_init, (s_size, y_size))\n",
    "    a_init = np.copy(σ_init)\n",
    "    a_vec, σ_vec = a_init, σ_init\n",
    "    \n",
    "    # Set up loop\n",
    "    i = 0\n",
    "    error = tol + 1\n",
    "\n",
    "    while i < max_iter and error > tol:\n",
    "        a_new, σ_new = K_egm_nb(a_vec, σ_vec, constants, sizes, arrays)\n",
    "        error = np.max(np.abs(σ_vec - σ_new))\n",
    "        i += 1\n",
    "        if verbose and i % print_skip == 0:\n",
    "            print(f\"Error at iteration {i} is {error}.\")\n",
    "        a_vec, σ_vec = np.copy(a_new), np.copy(σ_new)\n",
    "\n",
    "    if error > tol:\n",
    "        print(\"Failed to converge!\")\n",
    "    else:\n",
    "        print(f\"\\nConverged in {i} iterations.\")\n",
    "\n",
    "    return a_new, σ_new"
   ]
  },
  {
   "cell_type": "markdown",
   "id": "83005abd",
   "metadata": {},
   "source": [
    "## Solutions\n",
    "\n",
    "Here we solve the IFP with JAX and Numba.\n",
    "\n",
    "We will compare both the outputs and the execution time.\n",
    "\n",
    "### Outputs"
   ]
  },
  {
   "cell_type": "code",
   "execution_count": 11,
   "id": "b19046d4",
   "metadata": {},
   "outputs": [],
   "source": [
    "model = ifp()"
   ]
  },
  {
   "cell_type": "markdown",
   "id": "2968a5f6",
   "metadata": {},
   "source": [
    "Here's a first run of the JAX code."
   ]
  },
  {
   "cell_type": "code",
   "execution_count": 12,
   "id": "c4df4b6c",
   "metadata": {},
   "outputs": [
    {
     "name": "stdout",
     "output_type": "stream",
     "text": [
      "Error at iteration 100 is 0.003274240577000098.\n",
      "Error at iteration 200 is 0.0013133107388259013.\n"
     ]
    },
    {
     "name": "stdout",
     "output_type": "stream",
     "text": [
      "Error at iteration 300 is 0.0006550972250753961.\n",
      "Error at iteration 400 is 0.00038003859326907197.\n"
     ]
    },
    {
     "name": "stdout",
     "output_type": "stream",
     "text": [
      "Error at iteration 500 is 0.00024736616926013255.\n",
      "Error at iteration 600 is 0.00017446354504913053.\n"
     ]
    },
    {
     "name": "stdout",
     "output_type": "stream",
     "text": [
      "Error at iteration 700 is 0.000129892015863442.\n",
      "Error at iteration 800 is 0.00010058769447773841.\n"
     ]
    },
    {
     "name": "stdout",
     "output_type": "stream",
     "text": [
      "Error at iteration 900 is 7.993256952376626e-05.\n",
      "Error at iteration 1000 is 6.472028596182788e-05.\n"
     ]
    },
    {
     "name": "stdout",
     "output_type": "stream",
     "text": [
      "Error at iteration 1100 is 5.316228631624398e-05.\n",
      "Error at iteration 1200 is 4.425450893941196e-05.\n"
     ]
    },
    {
     "name": "stdout",
     "output_type": "stream",
     "text": [
      "Error at iteration 1300 is 3.7260418253914906e-05.\n",
      "Error at iteration 1400 is 3.1614060126861077e-05.\n"
     ]
    },
    {
     "name": "stdout",
     "output_type": "stream",
     "text": [
      "Error at iteration 1500 is 2.6984975752375462e-05.\n",
      "Error at iteration 1600 is 2.3148392509719784e-05.\n"
     ]
    },
    {
     "name": "stdout",
     "output_type": "stream",
     "text": [
      "Error at iteration 1700 is 1.9940474091262317e-05.\n",
      "Error at iteration 1800 is 1.723818132703947e-05.\n"
     ]
    },
    {
     "name": "stdout",
     "output_type": "stream",
     "text": [
      "Error at iteration 1900 is 1.4947303633494613e-05.\n",
      "Error at iteration 2000 is 1.2994575430580468e-05.\n"
     ]
    },
    {
     "name": "stdout",
     "output_type": "stream",
     "text": [
      "Error at iteration 2100 is 1.132223596411741e-05.\n",
      "\n",
      "Converged in 2192 iterations.\n"
     ]
    }
   ],
   "source": [
    "a_star_egm_jax, σ_star_egm_jax = successive_approx_jax(model,\n",
    "                                                       print_skip=100)"
   ]
  },
  {
   "cell_type": "markdown",
   "id": "6c9df6e7",
   "metadata": {},
   "source": [
    "Next let's solve the same IFP with Numba."
   ]
  },
  {
   "cell_type": "code",
   "execution_count": 13,
   "id": "93448778",
   "metadata": {},
   "outputs": [
    {
     "name": "stdout",
     "output_type": "stream",
     "text": [
      "Error at iteration 100 is 0.0032742405770003202.\n"
     ]
    },
    {
     "name": "stdout",
     "output_type": "stream",
     "text": [
      "Error at iteration 200 is 0.0013133107388259013.\n"
     ]
    },
    {
     "name": "stdout",
     "output_type": "stream",
     "text": [
      "Error at iteration 300 is 0.0006550972250753961.\n"
     ]
    },
    {
     "name": "stdout",
     "output_type": "stream",
     "text": [
      "Error at iteration 400 is 0.0003800385932688499.\n"
     ]
    },
    {
     "name": "stdout",
     "output_type": "stream",
     "text": [
      "Error at iteration 500 is 0.00024736616926013255.\n"
     ]
    },
    {
     "name": "stdout",
     "output_type": "stream",
     "text": [
      "Error at iteration 600 is 0.00017446354504935258.\n"
     ]
    },
    {
     "name": "stdout",
     "output_type": "stream",
     "text": [
      "Error at iteration 700 is 0.000129892015863442.\n"
     ]
    },
    {
     "name": "stdout",
     "output_type": "stream",
     "text": [
      "Error at iteration 800 is 0.00010058769447773841.\n"
     ]
    },
    {
     "name": "stdout",
     "output_type": "stream",
     "text": [
      "Error at iteration 900 is 7.993256952354422e-05.\n"
     ]
    },
    {
     "name": "stdout",
     "output_type": "stream",
     "text": [
      "Error at iteration 1000 is 6.472028596182788e-05.\n"
     ]
    },
    {
     "name": "stdout",
     "output_type": "stream",
     "text": [
      "Error at iteration 1100 is 5.316228631624398e-05.\n"
     ]
    },
    {
     "name": "stdout",
     "output_type": "stream",
     "text": [
      "Error at iteration 1200 is 4.425450893941196e-05.\n"
     ]
    },
    {
     "name": "stdout",
     "output_type": "stream",
     "text": [
      "Error at iteration 1300 is 3.7260418253914906e-05.\n"
     ]
    },
    {
     "name": "stdout",
     "output_type": "stream",
     "text": [
      "Error at iteration 1400 is 3.1614060126861077e-05.\n"
     ]
    },
    {
     "name": "stdout",
     "output_type": "stream",
     "text": [
      "Error at iteration 1500 is 2.6984975752597506e-05.\n"
     ]
    },
    {
     "name": "stdout",
     "output_type": "stream",
     "text": [
      "Error at iteration 1600 is 2.3148392509719784e-05.\n"
     ]
    },
    {
     "name": "stdout",
     "output_type": "stream",
     "text": [
      "Error at iteration 1700 is 1.9940474091262317e-05.\n"
     ]
    },
    {
     "name": "stdout",
     "output_type": "stream",
     "text": [
      "Error at iteration 1800 is 1.7238181326817426e-05.\n"
     ]
    },
    {
     "name": "stdout",
     "output_type": "stream",
     "text": [
      "Error at iteration 1900 is 1.4947303633494613e-05.\n"
     ]
    },
    {
     "name": "stdout",
     "output_type": "stream",
     "text": [
      "Error at iteration 2000 is 1.2994575430802513e-05.\n"
     ]
    },
    {
     "name": "stdout",
     "output_type": "stream",
     "text": [
      "Error at iteration 2100 is 1.132223596411741e-05.\n"
     ]
    },
    {
     "name": "stdout",
     "output_type": "stream",
     "text": [
      "\n",
      "Converged in 2192 iterations.\n",
      "TOC: Elapsed: 0:01:21.59\n"
     ]
    },
    {
     "data": {
      "text/plain": [
       "81.59839582443237"
      ]
     },
     "execution_count": 13,
     "metadata": {},
     "output_type": "execute_result"
    }
   ],
   "source": [
    "qe.tic()\n",
    "a_star_egm_nb, σ_star_egm_nb = successive_approx_numba(model,\n",
    "                                                        print_skip=100)\n",
    "qe.toc()"
   ]
  },
  {
   "cell_type": "markdown",
   "id": "8111d634",
   "metadata": {},
   "source": [
    "Now let's check the outputs in a plot to make sure they are the same."
   ]
  },
  {
   "cell_type": "code",
   "execution_count": 14,
   "id": "5e06e3d0",
   "metadata": {},
   "outputs": [
    {
     "data": {
      "image/png": "[encoded data removed]",
      "text/plain": [
       "<Figure size 640x480 with 1 Axes>"
      ]
     },
     "metadata": {},
     "output_type": "display_data"
    }
   ],
   "source": [
    "constants, sizes, arrays = model\n",
    "β, R, γ = constants\n",
    "s_size, y_size = sizes\n",
    "s_grid, y_grid, P = arrays\n",
    "\n",
    "\n",
    "fig, ax = plt.subplots()\n",
    "\n",
    "for z in (0, y_size-1):\n",
    "    ax.plot(a_star_egm_nb[:, z], \n",
    "            σ_star_egm_nb[:, z], \n",
    "            '--', lw=2,\n",
    "            label=f\"Numba EGM: consumption when $z={z}$\")\n",
    "    ax.plot(a_star_egm_jax[:, z], \n",
    "            σ_star_egm_jax[:, z], \n",
    "            label=f\"JAX EGM: consumption when $z={z}$\")\n",
    "\n",
    "ax.set_xlabel('asset')\n",
    "plt.legend()\n",
    "plt.show()"
   ]
  },
  {
   "cell_type": "markdown",
   "id": "b74829ff",
   "metadata": {},
   "source": [
    "### Timing\n",
    "\n",
    "Now let's compare execution time of the two methods"
   ]
  },
  {
   "cell_type": "code",
   "execution_count": 15,
   "id": "987da5f4",
   "metadata": {},
   "outputs": [
    {
     "name": "stdout",
     "output_type": "stream",
     "text": [
      "Error at iteration 1000 is 6.472028596182788e-05.\n"
     ]
    },
    {
     "name": "stdout",
     "output_type": "stream",
     "text": [
      "Error at iteration 2000 is 1.2994575430580468e-05.\n"
     ]
    },
    {
     "name": "stdout",
     "output_type": "stream",
     "text": [
      "\n",
      "Converged in 2192 iterations.\n",
      "TOC: Elapsed: 0:00:3.34\n"
     ]
    }
   ],
   "source": [
    "qe.tic()\n",
    "a_star_egm_jax, σ_star_egm_jax = successive_approx_jax(model,\n",
    "                                         print_skip=1000)\n",
    "jax_time = qe.toc()"
   ]
  },
  {
   "cell_type": "code",
   "execution_count": 16,
   "id": "b8a2c029",
   "metadata": {},
   "outputs": [
    {
     "name": "stdout",
     "output_type": "stream",
     "text": [
      "Error at iteration 1000 is 6.472028596182788e-05.\n"
     ]
    },
    {
     "name": "stdout",
     "output_type": "stream",
     "text": [
      "Error at iteration 2000 is 1.2994575430802513e-05.\n"
     ]
    },
    {
     "name": "stdout",
     "output_type": "stream",
     "text": [
      "\n",
      "Converged in 2192 iterations.\n",
      "TOC: Elapsed: 0:01:18.29\n"
     ]
    }
   ],
   "source": [
    "qe.tic()\n",
    "a_star_egm_nb, σ_star_egm_nb = successive_approx_numba(model,\n",
    "                                         print_skip=1000)\n",
    "numba_time = qe.toc()"
   ]
  },
  {
   "cell_type": "code",
   "execution_count": 17,
   "id": "c1c686f6",
   "metadata": {},
   "outputs": [
    {
     "data": {
      "text/plain": [
       "0.0426930809223618"
      ]
     },
     "execution_count": 17,
     "metadata": {},
     "output_type": "execute_result"
    }
   ],
   "source": [
    "jax_time / numba_time"
   ]
  },
  {
   "cell_type": "markdown",
   "id": "8342237a",
   "metadata": {},
   "source": [
    "The JAX code is significantly faster, as expected.\n",
    "\n",
    "This difference will increase when more features (and state variables) are added\n",
    "to the model."
   ]
  }
 ],
 "metadata": {
  "jupytext": {
   "text_representation": {
    "extension": ".md",
    "format_name": "myst",
    "format_version": 0.13,
    "jupytext_version": "1.16.1"
   }
  },
  "kernelspec": {
   "display_name": "Python 3 (ipykernel)",
   "language": "python",
   "name": "python3"
  },
  "language_info": {
   "codemirror_mode": {
    "name": "ipython",
    "version": 3
   },
   "file_extension": ".py",
   "mimetype": "text/x-python",
   "name": "python",
   "nbconvert_exporter": "python",
   "pygments_lexer": "ipython3",
   "version": "3.11.7"
  },
  "source_map": [
   12,
   32,
   38,
   45,
   49,
   51,
   55,
   57,
   99,
   122,
   310,
   357,
   363,
   365,
   369,
   405,
   417,
   458,
   495,
   505,
   507,
   511,
   514,
   518,
   523,
   527,
   548,
   554,
   561,
   568,
   570
  ]
 },
 "nbformat": 4,
 "nbformat_minor": 5
}