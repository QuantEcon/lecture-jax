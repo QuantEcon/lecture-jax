{
 "cells": [
  {
   "cell_type": "markdown",
   "id": "5f8e309e",
   "metadata": {},
   "source": [
    "# Wealth Distribution Dynamics\n",
    "\n",
    "```{include} _admonition/gpu.md\n",
    "```\n",
    "\n",
    "This lecture is the extended JAX implementation of [this lecture](https://python.quantecon.org/wealth_dynamics.html). \n",
    "\n",
    "Please refer that lecture for all background and notation.\n",
    "\n",
    "We will use the following imports."
   ]
  },
  {
   "cell_type": "code",
   "execution_count": null,
   "id": "77f4bd64",
   "metadata": {},
   "outputs": [],
   "source": [
    "import matplotlib.pyplot as plt\n",
    "import jax\n",
    "import jax.numpy as jnp\n",
    "from collections import namedtuple"
   ]
  },
  {
   "cell_type": "markdown",
   "id": "0dfbe124",
   "metadata": {},
   "source": [
    "Let's check the GPU we are running"
   ]
  },
  {
   "cell_type": "code",
   "execution_count": null,
   "id": "df838847",
   "metadata": {},
   "outputs": [],
   "source": [
    "!nvidia-smi"
   ]
  },
  {
   "cell_type": "markdown",
   "id": "c17751cb",
   "metadata": {},
   "source": [
    "## Lorenz Curves and the Gini Coefficient\n",
    "\n",
    "Before we investigate wealth dynamics, we briefly review some measures of\n",
    "inequality.\n",
    "\n",
    "### Lorenz Curves\n",
    "\n",
    "One popular graphical measure of inequality is the [Lorenz curve](https://en.wikipedia.org/wiki/Lorenz_curve).\n",
    "\n",
    "To illustrate, let us define a function `lorenz_curve_jax` that returns the cumulative share of people and the cumulative share of income earned."
   ]
  },
  {
   "cell_type": "code",
   "execution_count": null,
   "id": "45bd2ec2",
   "metadata": {},
   "outputs": [],
   "source": [
    "@jax.jit\n",
    "def lorenz_curve_jax(y):\n",
    "    n = y.shape[0]\n",
    "    y = jnp.sort(y)\n",
    "    s = jnp.concatenate((jnp.zeros(1), jnp.cumsum(y)))\n",
    "    _cum_p = jnp.arange(1, n + 1) / n\n",
    "    cum_income = s / s[n]\n",
    "    cum_people = jnp.concatenate((jnp.zeros(1), _cum_p))\n",
    "    return cum_people, cum_income"
   ]
  },
  {
   "cell_type": "markdown",
   "id": "9fc938b8",
   "metadata": {},
   "source": [
    "Let's suppose that"
   ]
  },
  {
   "cell_type": "code",
   "execution_count": null,
   "id": "e98210f1",
   "metadata": {},
   "outputs": [],
   "source": [
    "n = 10_000                                              # Size of sample\n",
    "rand_key = jax.random.PRNGKey(101)                      # Set random key\n",
    "w = jnp.exp(jax.random.normal(rand_key, shape=(n,)))    # Lognormal draws"
   ]
  },
  {
   "cell_type": "markdown",
   "id": "3747a7cc",
   "metadata": {},
   "source": [
    "is data representing the wealth of 10,000 households.\n",
    "\n",
    "We can compute and plot the Lorenz curve as follows:"
   ]
  },
  {
   "cell_type": "code",
   "execution_count": null,
   "id": "0a55f8c4",
   "metadata": {},
   "outputs": [],
   "source": [
    "%%time\n",
    "\n",
    "f_vals, l_vals = lorenz_curve_jax(w)"
   ]
  },
  {
   "cell_type": "code",
   "execution_count": null,
   "id": "fce898e7",
   "metadata": {},
   "outputs": [],
   "source": [
    "%%time\n",
    "\n",
    "# This will be much faster as it will use the jitted function\n",
    "f_vals, l_vals = lorenz_curve_jax(w)"
   ]
  },
  {
   "cell_type": "code",
   "execution_count": null,
   "id": "9ac12fc3",
   "metadata": {},
   "outputs": [],
   "source": [
    "fig, ax = plt.subplots()\n",
    "ax.plot(f_vals, l_vals, label='Lorenz curve, lognormal sample')\n",
    "ax.plot(f_vals, f_vals, label='Lorenz curve, equality')\n",
    "ax.legend()\n",
    "plt.show()"
   ]
  },
  {
   "cell_type": "markdown",
   "id": "aac54391",
   "metadata": {},
   "source": [
    "Here is another example, which shows how the Lorenz curve shifts as the\n",
    "underlying distribution changes.\n",
    "\n",
    "We generate 10,000 observations using the Pareto distribution with a range of\n",
    "parameters, and then compute the Lorenz curve corresponding to each set of\n",
    "observations."
   ]
  },
  {
   "cell_type": "code",
   "execution_count": null,
   "id": "0306a427",
   "metadata": {},
   "outputs": [],
   "source": [
    "a_vals = (1, 2, 5)              # Pareto tail index\n",
    "n = 10_000                      # size of each sample"
   ]
  },
  {
   "cell_type": "code",
   "execution_count": null,
   "id": "89e8489b",
   "metadata": {},
   "outputs": [],
   "source": [
    "fig, ax = plt.subplots()\n",
    "for a in a_vals:\n",
    "    rand_key = jax.random.PRNGKey(a*100)\n",
    "    u = jax.random.uniform(rand_key, shape=(n,))\n",
    "    y = u**(-1/a)                    # distributed as Pareto with tail index a\n",
    "    f_vals, l_vals = lorenz_curve_jax(y)\n",
    "    ax.plot(f_vals, l_vals, label=f'$a = {a}$')\n",
    "\n",
    "ax.plot(f_vals, f_vals, label='equality')\n",
    "ax.legend()\n",
    "plt.show()"
   ]
  },
  {
   "cell_type": "markdown",
   "id": "7b603f34",
   "metadata": {},
   "source": [
    "You can see that, as the tail parameter of the Pareto distribution increases, inequality decreases.\n",
    "\n",
    "This is to be expected, because a higher tail index implies less weight in the tail of the Pareto distribution.\n",
    "\n",
    "### The Gini Coefficient\n",
    "\n",
    "The definition and interpretation of the Gini coefficient can be found on the corresponding [Wikipedia page](https://en.wikipedia.org/wiki/Gini_coefficient).\n",
    "\n",
    "We can test it on the Weibull distribution with parameter $a$, where the Gini coefficient is known to be\n",
    "\n",
    "$$\n",
    "G = 1 - 2^{-1/a}\n",
    "$$\n",
    "\n",
    "Let's define a function to compute the Gini coefficient."
   ]
  },
  {
   "cell_type": "code",
   "execution_count": null,
   "id": "c2e79c88",
   "metadata": {},
   "outputs": [],
   "source": [
    "@jax.jit\n",
    "def gini_jax(y):\n",
    "    n = y.shape[0]\n",
    "    g_sum = 0\n",
    "\n",
    "    # Define the function for each update\n",
    "    def sum_y_gini(g_sum, i):\n",
    "        g_sum += jnp.sum(jnp.abs(y[i] - y))\n",
    "        return g_sum, g_sum\n",
    "\n",
    "    g_sum, _ = jax.lax.scan(sum_y_gini, 0, jnp.arange(n))\n",
    "    return g_sum / (2 * n * jnp.sum(y))"
   ]
  },
  {
   "cell_type": "markdown",
   "id": "cca9d48a",
   "metadata": {},
   "source": [
    "Let's see if the Gini coefficient computed from a simulated sample matches\n",
    "this at each fixed value of $a$."
   ]
  },
  {
   "cell_type": "code",
   "execution_count": null,
   "id": "04c8de20",
   "metadata": {},
   "outputs": [],
   "source": [
    "a_vals = range(1, 20)\n",
    "ginis = []\n",
    "ginis_theoretical = []\n",
    "n = 100\n",
    "\n",
    "for a in a_vals:\n",
    "    rand_key = jax.random.PRNGKey(a)\n",
    "    y = jax.random.weibull_min(rand_key, 1, a, shape=(n,))\n",
    "    ginis.append(gini_jax(y))\n",
    "    ginis_theoretical.append(1 - 2**(-1/a))"
   ]
  },
  {
   "cell_type": "code",
   "execution_count": null,
   "id": "013414d0",
   "metadata": {},
   "outputs": [],
   "source": [
    "fig, ax = plt.subplots()\n",
    "ax.plot(a_vals, ginis, label='estimated gini coefficient')\n",
    "ax.plot(a_vals, ginis_theoretical, label='theoretical gini coefficient')\n",
    "ax.legend()\n",
    "ax.set_xlabel(\"Weibull parameter $a$\")\n",
    "ax.set_ylabel(\"Gini coefficient\")\n",
    "plt.show()"
   ]
  },
  {
   "cell_type": "markdown",
   "id": "9911ef04",
   "metadata": {},
   "source": [
    "The simulation shows that the fit is good.\n",
    "\n",
    "## A Model of Wealth Dynamics\n",
    "\n",
    "Having discussed inequality measures, let us now turn to wealth dynamics.\n",
    "\n",
    "The model we will study is\n",
    "\n",
    "```{math}\n",
    ":label: wealth_dynam_ah\n",
    "\n",
    "w_{t+1} = (1 + r_{t+1}) s(w_t) + y_{t+1}\n",
    "```\n",
    "\n",
    "where\n",
    "\n",
    "- $w_t$ is wealth at time $t$ for a given household,\n",
    "- $r_t$ is the rate of return of financial assets,\n",
    "- $y_t$ is current non-financial (e.g., labor) income and\n",
    "- $s(w_t)$ is current wealth net of consumption\n",
    "\n",
    "## Implementation using JAX\n",
    "\n",
    "Let's define a model to represent the wealth dynamics."
   ]
  },
  {
   "cell_type": "code",
   "execution_count": null,
   "id": "8d86491f",
   "metadata": {},
   "outputs": [],
   "source": [
    "# NamedTuple Model\n",
    "\n",
    "Model = namedtuple(\"Model\", (\"w_hat\", \"s_0\", \"c_y\", \"μ_y\",\n",
    "                             \"σ_y\", \"c_r\", \"μ_r\", \"σ_r\", \"a\",\n",
    "                             \"b\", \"σ_z\", \"z_mean\", \"z_var\", \"y_mean\"))"
   ]
  },
  {
   "cell_type": "markdown",
   "id": "bbc96d6e",
   "metadata": {},
   "source": [
    "Here's a function to create the Model with the given parameters"
   ]
  },
  {
   "cell_type": "code",
   "execution_count": null,
   "id": "a98aa2e8",
   "metadata": {},
   "outputs": [],
   "source": [
    "def create_wealth_model(w_hat=1.0,\n",
    "                        s_0=0.75,\n",
    "                        c_y=1.0,\n",
    "                        μ_y=1.0,\n",
    "                        σ_y=0.2,\n",
    "                        c_r=0.05,\n",
    "                        μ_r=0.1,\n",
    "                        σ_r=0.5,\n",
    "                        a=0.5,\n",
    "                        b=0.0,\n",
    "                        σ_z=0.1):\n",
    "    \"\"\"\n",
    "    Create a wealth model with given parameters and return\n",
    "    and instance of NamedTuple Model.\n",
    "    \"\"\"\n",
    "    z_mean = b / (1 - a)\n",
    "    z_var = σ_z**2 / (1 - a**2)\n",
    "    exp_z_mean = jnp.exp(z_mean + z_var / 2)\n",
    "    R_mean = c_r * exp_z_mean + jnp.exp(μ_r + σ_r**2 / 2)\n",
    "    y_mean = c_y * exp_z_mean + jnp.exp(μ_y + σ_y**2 / 2)\n",
    "    # Test a stability condition that ensures wealth does not diverge\n",
    "    # to infinity.\n",
    "    α = R_mean * s_0\n",
    "    if α >= 1:\n",
    "        raise ValueError(\"Stability condition failed.\")\n",
    "    return Model(w_hat=w_hat, s_0=s_0, c_y=c_y, μ_y=μ_y,\n",
    "                 σ_y=σ_y, c_r=c_r, μ_r=μ_r, σ_r=σ_r, a=a,\n",
    "                 b=b, σ_z=σ_z, z_mean=z_mean, z_var=z_var, y_mean=y_mean)"
   ]
  },
  {
   "cell_type": "markdown",
   "id": "e39830f4",
   "metadata": {},
   "source": [
    "The following function updates one period with the given current wealth and persistent state."
   ]
  },
  {
   "cell_type": "code",
   "execution_count": null,
   "id": "b3cba905",
   "metadata": {},
   "outputs": [],
   "source": [
    "def update_states_jax(arrays, wdy, size, rand_key):\n",
    "    \"\"\"\n",
    "    Update one period, given current wealth w and persistent\n",
    "    state z. They are stored in the form of tuples under the arrays argument\n",
    "    \"\"\"\n",
    "    # Unpack w and z\n",
    "    w, z = arrays\n",
    "\n",
    "    rand_key, *subkey = jax.random.split(rand_key, 3)\n",
    "    zp = wdy.a * z + wdy.b + wdy.σ_z * jax.random.normal(rand_key, shape=size)\n",
    "\n",
    "    # Update wealth\n",
    "    y = wdy.c_y * jnp.exp(zp) + jnp.exp(\n",
    "                        wdy.μ_y + wdy.σ_y * jax.random.normal(subkey[0], shape=size))\n",
    "    wp = y\n",
    "\n",
    "    R = wdy.c_r * jnp.exp(zp) + jnp.exp(\n",
    "                        wdy.μ_r + wdy.σ_r * jax.random.normal(subkey[1], shape=size))\n",
    "    wp += (w >= wdy.w_hat) * R * wdy.s_0 * w\n",
    "    return wp, zp"
   ]
  },
  {
   "cell_type": "markdown",
   "id": "a99f10a8",
   "metadata": {},
   "source": [
    "Here’s function to simulate the time series of wealth for individual households using a `for` loop and JAX."
   ]
  },
  {
   "cell_type": "code",
   "execution_count": null,
   "id": "3a951c7c",
   "metadata": {},
   "outputs": [],
   "source": [
    "# Using JAX and for loop\n",
    "\n",
    "def wealth_time_series_for_loop_jax(w_0, n, wdy, size, rand_seed=1):\n",
    "    \"\"\"\n",
    "    Generate a single time series of length n for wealth given\n",
    "    initial value w_0.\n",
    "\n",
    "    * This implementation uses a `for` loop.\n",
    "\n",
    "    The initial persistent state z_0 for each household is drawn from\n",
    "    the stationary distribution of the AR(1) process.\n",
    "\n",
    "        * wdy: NamedTuple Model\n",
    "        * w_0: scalar/vector\n",
    "        * n: int\n",
    "        * size: size/shape of the w_0\n",
    "        * rand_seed: int (Used to generate PRNG key)\n",
    "    \"\"\"\n",
    "    rand_key = jax.random.PRNGKey(rand_seed)\n",
    "    rand_key, *subkey = jax.random.split(rand_key, n)\n",
    "\n",
    "    w_0 = jax.device_put(w_0).reshape(size)\n",
    "\n",
    "    z = wdy.z_mean + jnp.sqrt(wdy.z_var) * jax.random.normal(rand_key, shape=size)\n",
    "    w = [w_0]\n",
    "    for t in range(n-1):\n",
    "        w_, z = update_states_jax((w[t], z), wdy, size, subkey[t])\n",
    "        w.append(w_)\n",
    "    return jnp.array(w)"
   ]
  },
  {
   "cell_type": "markdown",
   "id": "37341526",
   "metadata": {},
   "source": [
    "Let's try simulating the model at different parameter values and investigate the implications for the wealth distribution using the above function."
   ]
  },
  {
   "cell_type": "code",
   "execution_count": null,
   "id": "90a75f69",
   "metadata": {},
   "outputs": [],
   "source": [
    "wdy = create_wealth_model() # default model\n",
    "ts_length = 200\n",
    "size = (1,)"
   ]
  },
  {
   "cell_type": "code",
   "execution_count": null,
   "id": "5af6d66d",
   "metadata": {},
   "outputs": [],
   "source": [
    "%%time\n",
    "\n",
    "w_jax_result = wealth_time_series_for_loop_jax(wdy.y_mean,\n",
    "                                               ts_length, wdy, size).block_until_ready()"
   ]
  },
  {
   "cell_type": "code",
   "execution_count": null,
   "id": "d7afc898",
   "metadata": {},
   "outputs": [],
   "source": [
    "fig, ax = plt.subplots()\n",
    "ax.plot(w_jax_result)\n",
    "plt.show()"
   ]
  },
  {
   "cell_type": "markdown",
   "id": "aa29cbca",
   "metadata": {},
   "source": [
    "We can further try to optimize and speed up the compile time of the above function by replacing `for` loop with [`jax.lax.scan`](https://jax.readthedocs.io/en/latest/_autosummary/jax.lax.scan.html)."
   ]
  },
  {
   "cell_type": "code",
   "execution_count": null,
   "id": "60b012be",
   "metadata": {},
   "outputs": [],
   "source": [
    "def wealth_time_series_jax(w_0, n, wdy, size, rand_seed=1):\n",
    "    \"\"\"\n",
    "    Generate a single time series of length n for wealth given\n",
    "    initial value w_0.\n",
    "\n",
    "    * This implementation uses `jax.lax.scan`.\n",
    "\n",
    "    The initial persistent state z_0 for each household is drawn from\n",
    "    the stationary distribution of the AR(1) process.\n",
    "\n",
    "        * wdy: NamedTuple Model\n",
    "        * w_0: scalar/vector\n",
    "        * n: int\n",
    "        * size: size/shape of the w_0\n",
    "        * rand_seed: int (Used to generate PRNG key)\n",
    "    \"\"\"\n",
    "    rand_key = jax.random.PRNGKey(rand_seed)\n",
    "    rand_key, *subkey = jax.random.split(rand_key, n)\n",
    "\n",
    "    w_0 = jax.device_put(w_0).reshape(size)\n",
    "    z_init = wdy.z_mean + jnp.sqrt(wdy.z_var) * jax.random.normal(rand_key, shape=size)\n",
    "    arrays = w_0, z_init\n",
    "    rand_sub_keys = jnp.array(subkey)\n",
    "\n",
    "    w_final = jnp.array([w_0])\n",
    "\n",
    "    # Define the function for each update\n",
    "    def update_w_z(arrays, rand_sub_key):\n",
    "        wp, zp = update_states_jax(arrays, wdy, size, rand_sub_key)\n",
    "        return (wp, zp), wp\n",
    "\n",
    "    arrays_last, w_values = jax.lax.scan(update_w_z, arrays, rand_sub_keys)\n",
    "    return jnp.concatenate((w_final, w_values))\n",
    "\n",
    "# Create the jit function\n",
    "wealth_time_series_jax = jax.jit(wealth_time_series_jax, static_argnums=(1,3,))"
   ]
  },
  {
   "cell_type": "markdown",
   "id": "ddb3c864",
   "metadata": {},
   "source": [
    "Let's try simulating the model at different parameter values and investigate the implications for the wealth distribution and also observe the difference in time between `wealth_time_series_jax` and `wealth_time_series_for_loop_jax`."
   ]
  },
  {
   "cell_type": "code",
   "execution_count": null,
   "id": "98f58083",
   "metadata": {},
   "outputs": [],
   "source": [
    "wdy = create_wealth_model() # default model\n",
    "ts_length = 200\n",
    "size = (1,)"
   ]
  },
  {
   "cell_type": "code",
   "execution_count": null,
   "id": "aa101791",
   "metadata": {},
   "outputs": [],
   "source": [
    "%%time\n",
    "\n",
    "w_jax_result = wealth_time_series_jax(wdy.y_mean, ts_length, wdy, size).block_until_ready()"
   ]
  },
  {
   "cell_type": "markdown",
   "id": "ce37b7cb",
   "metadata": {},
   "source": [
    "Running the above function again will be even faster because of JAX's JIT."
   ]
  },
  {
   "cell_type": "code",
   "execution_count": null,
   "id": "05d03744",
   "metadata": {},
   "outputs": [],
   "source": [
    "%%time\n",
    "\n",
    "# 2nd time is expected to be very fast because of JIT\n",
    "w_jax_result = wealth_time_series_jax(wdy.y_mean, ts_length, wdy, size).block_until_ready()"
   ]
  },
  {
   "cell_type": "code",
   "execution_count": null,
   "id": "f08bf787",
   "metadata": {},
   "outputs": [],
   "source": [
    "fig, ax = plt.subplots()\n",
    "ax.plot(w_jax_result)\n",
    "plt.show()"
   ]
  },
  {
   "cell_type": "markdown",
   "id": "beab80ab",
   "metadata": {},
   "source": [
    "Now here’s function to simulate a cross section of households forward in time."
   ]
  },
  {
   "cell_type": "code",
   "execution_count": null,
   "id": "fe6a0986",
   "metadata": {},
   "outputs": [],
   "source": [
    "def update_cross_section_jax(w_distribution, shift_length, wdy, size, rand_seed=2):\n",
    "    \"\"\"\n",
    "    Shifts a cross-section of household forward in time\n",
    "\n",
    "    * wdy: NamedTuple Model\n",
    "    * w_distribution: array_like, represents current cross-section\n",
    "\n",
    "    Takes a current distribution of wealth values as w_distribution\n",
    "    and updates each w_t in w_distribution to w_{t+j}, where\n",
    "    j = shift_length.\n",
    "\n",
    "    Returns the new distribution.\n",
    "    \"\"\"\n",
    "    new_dist = wealth_time_series_jax(w_distribution, shift_length, wdy, size, rand_seed)\n",
    "    new_distribution = new_dist[-1, :]\n",
    "    return new_distribution\n",
    "\n",
    "\n",
    "# Create the jit function\n",
    "update_cross_section_jax = jax.jit(update_cross_section_jax, static_argnums=(1,3,))"
   ]
  },
  {
   "cell_type": "markdown",
   "id": "806a4d44",
   "metadata": {},
   "source": [
    "## Applications\n",
    "\n",
    "Let's try simulating the model at different parameter values and investigate\n",
    "the implications for the wealth distribution.\n",
    "\n",
    "\n",
    "### Inequality Measures\n",
    "\n",
    "Let's look at how inequality varies with returns on financial assets.\n",
    "\n",
    "The next function generates a cross section and then computes the Lorenz\n",
    "curve and Gini coefficient."
   ]
  },
  {
   "cell_type": "code",
   "execution_count": null,
   "id": "4f0b8c94",
   "metadata": {},
   "outputs": [],
   "source": [
    "def generate_lorenz_and_gini_jax(wdy, num_households=100_000, T=500):\n",
    "    \"\"\"\n",
    "    Generate the Lorenz curve data and gini coefficient corresponding to a\n",
    "    WealthDynamics mode by simulating num_households forward to time T.\n",
    "    \"\"\"\n",
    "    size = (num_households, )\n",
    "    ψ_0 = jnp.full(size, wdy.y_mean)\n",
    "    ψ_star = update_cross_section_jax(ψ_0, T, wdy, size)\n",
    "    return gini_jax(ψ_star), lorenz_curve_jax(ψ_star)\n",
    "\n",
    "# Create the jit function\n",
    "generate_lorenz_and_gini_jax = jax.jit(generate_lorenz_and_gini_jax,\n",
    "                                       static_argnums=(1,2,))"
   ]
  },
  {
   "cell_type": "markdown",
   "id": "e58ad348",
   "metadata": {},
   "source": [
    "Now we investigate how the Lorenz curves associated with the wealth distribution change as return to savings varies.\n",
    "\n",
    "The code below plots Lorenz curves for three different values of $\\mu_r$."
   ]
  },
  {
   "cell_type": "code",
   "execution_count": null,
   "id": "3a87eed4",
   "metadata": {},
   "outputs": [],
   "source": [
    "%%time\n",
    "\n",
    "fig, ax = plt.subplots()\n",
    "μ_r_vals = (0.0, 0.025, 0.05)\n",
    "gini_vals = []\n",
    "\n",
    "for μ_r in μ_r_vals:\n",
    "    wdy = create_wealth_model(μ_r=μ_r)\n",
    "    gv, (f_vals, l_vals) = generate_lorenz_and_gini_jax(wdy)\n",
    "    ax.plot(f_vals, l_vals, label=f'$\\psi^*$ at $\\mu_r = {μ_r:0.2}$')\n",
    "    gini_vals.append(gv)\n",
    "\n",
    "ax.plot(f_vals, f_vals, label='equality')\n",
    "ax.legend(loc=\"upper left\")\n",
    "plt.show()"
   ]
  },
  {
   "cell_type": "markdown",
   "id": "b7547b19",
   "metadata": {},
   "source": [
    "The Lorenz curve shifts downwards as returns on financial income rise, indicating a rise in inequality.\n",
    "\n",
    "Now let's check the Gini coefficient."
   ]
  },
  {
   "cell_type": "code",
   "execution_count": null,
   "id": "dea0ad4c",
   "metadata": {},
   "outputs": [],
   "source": [
    "fig, ax = plt.subplots()\n",
    "ax.plot(μ_r_vals, gini_vals, label='gini coefficient')\n",
    "ax.set_xlabel(\"$\\mu_r$\")\n",
    "ax.legend()\n",
    "plt.show()"
   ]
  },
  {
   "cell_type": "markdown",
   "id": "8a2d6c32",
   "metadata": {},
   "source": [
    "Once again, we see that inequality increases as returns on financial income\n",
    "rise.\n",
    "\n",
    "Let's finish this section by investigating what happens when we change the\n",
    "volatility term $\\sigma_r$ in financial returns."
   ]
  },
  {
   "cell_type": "code",
   "execution_count": null,
   "id": "d923ae8f",
   "metadata": {},
   "outputs": [],
   "source": [
    "%%time\n",
    "\n",
    "fig, ax = plt.subplots()\n",
    "σ_r_vals = (0.35, 0.45, 0.52)\n",
    "gini_vals = []\n",
    "\n",
    "for σ_r in σ_r_vals:\n",
    "    wdy = create_wealth_model(σ_r=σ_r)\n",
    "    gv, (f_vals, l_vals) = generate_lorenz_and_gini_jax(wdy)\n",
    "    ax.plot(f_vals, l_vals, label=f'$\\psi^*$ at $\\sigma_r = {σ_r:0.2}$')\n",
    "    gini_vals.append(gv)\n",
    "\n",
    "ax.plot(f_vals, f_vals, label='equality')\n",
    "ax.legend(loc=\"upper left\")\n",
    "plt.show()"
   ]
  },
  {
   "cell_type": "markdown",
   "id": "63a66e26",
   "metadata": {},
   "source": [
    "We see that greater volatility has the effect of increasing inequality in this model.\n",
    "\n",
    "## Exercises\n",
    "\n",
    "```{exercise}\n",
    ":label: wd_ex1\n",
    "\n",
    "For a wealth or income distribution with Pareto tail, a higher tail index suggests lower inequality.\n",
    "\n",
    "Indeed, it is possible to prove that the Gini coefficient of the Pareto\n",
    "distribution with tail index $a$ is $1/(2a - 1)$.\n",
    "\n",
    "To the extent that you can, confirm this by simulation.\n",
    "\n",
    "In particular, generate a plot of the Gini coefficient against the tail index\n",
    "using both the theoretical value just given and the value computed from a sample via `gini_jax`.\n",
    "\n",
    "For the values of the tail index, use `a_vals = jnp.linspace(1, 10, 25)`.\n",
    "\n",
    "Use sample of size 1,000 for each $a$ and the sampling method for generating Pareto draws employed in the discussion of Lorenz curves for the Pareto distribution.\n",
    "\n",
    "To the extent that you can, interpret the monotone relationship between the\n",
    "Gini index and $a$.\n",
    "```\n",
    "\n",
    "```{solution-start} wd_ex1\n",
    ":class: dropdown\n",
    "```\n",
    "\n",
    "Here is one solution, which produces a good match between theory and\n",
    "simulation."
   ]
  },
  {
   "cell_type": "code",
   "execution_count": null,
   "id": "adeaad5e",
   "metadata": {},
   "outputs": [],
   "source": [
    "a_vals = jnp.linspace(1, 10, 25)  # Pareto tail index\n",
    "ginis = []\n",
    "\n",
    "n = 1000                         # size of each sample\n",
    "fig, ax = plt.subplots()\n",
    "for i, a in enumerate(a_vals):\n",
    "    rand_key = jax.random.PRNGKey(i*10)\n",
    "    u = jax.random.uniform(rand_key, shape=(n,))\n",
    "    y = u**(-1/a)\n",
    "    ginis.append(gini_jax(y))\n",
    "ax.plot(a_vals, ginis, label='sampled')\n",
    "ax.plot(a_vals, 1/(2*a_vals - 1), label='theoretical')\n",
    "ax.legend()\n",
    "plt.show()"
   ]
  },
  {
   "cell_type": "markdown",
   "id": "79d78c50",
   "metadata": {},
   "source": [
    "In general, for a Pareto distribution, a higher tail index implies less weight\n",
    "in the right hand tail.\n",
    "\n",
    "This means less extreme values for wealth and hence more equality.\n",
    "\n",
    "More equality translates to a lower Gini index.\n",
    "\n",
    "```{solution-end}\n",
    "```\n",
    "\n",
    "```{exercise-start}\n",
    ":label: wd_ex2\n",
    "```\n",
    "\n",
    "When savings is constant, the wealth process has the same quasi-linear\n",
    "structure as a Kesten process, with multiplicative and additive shocks.\n",
    "\n",
    "The Kesten--Goldie theorem tells us that Kesten processes have Pareto tails under a range of parameterizations.\n",
    "\n",
    "The theorem does not directly apply here, since savings is not always constant and since the multiplicative and additive terms in {eq}`wealth_dynam_ah` are not IID.\n",
    "\n",
    "At the same time, given the similarities, perhaps Pareto tails will arise.\n",
    "\n",
    "To test this, run a simulation that generates a cross-section of wealth and\n",
    "generate a rank-size plot.\n",
    "\n",
    "In viewing the plot, remember that Pareto tails generate a straight line.  Is\n",
    "this what you see?\n",
    "\n",
    "For sample size and initial conditions, use"
   ]
  },
  {
   "cell_type": "code",
   "execution_count": null,
   "id": "a179d21d",
   "metadata": {},
   "outputs": [],
   "source": [
    "num_households = 250_000\n",
    "T = 500 # Shift forward T periods\n",
    "ψ_0 = jnp.full((num_households, ), wdy.y_mean) # Initial distribution"
   ]
  },
  {
   "cell_type": "markdown",
   "id": "23054ee8",
   "metadata": {},
   "source": [
    "```{exercise-end}\n",
    "```\n",
    "\n",
    "```{solution-start} wd_ex2\n",
    ":class: dropdown\n",
    "```\n",
    "\n",
    "First let's generate the distribution:"
   ]
  },
  {
   "cell_type": "code",
   "execution_count": null,
   "id": "258dbae9",
   "metadata": {},
   "outputs": [],
   "source": [
    "num_households = 250_000\n",
    "T = 500  # how far to shift forward in time\n",
    "size = (num_households, )\n",
    "\n",
    "wdy = create_wealth_model()\n",
    "ψ_0 = jnp.full(size, wdy.y_mean)\n",
    "ψ_star = update_cross_section_jax(ψ_0, T, wdy, size)"
   ]
  },
  {
   "cell_type": "markdown",
   "id": "d7f7f1e1",
   "metadata": {},
   "source": [
    "Let's define a function to get the rank data"
   ]
  },
  {
   "cell_type": "code",
   "execution_count": null,
   "id": "38b6f67b",
   "metadata": {},
   "outputs": [],
   "source": [
    "def rank_size(data, c=1):\n",
    "    w = -jnp.sort(-data)                  # Reverse sort\n",
    "    w = w[:int(len(w) * c)]               # extract top (c * 100)%\n",
    "    rank_data = jnp.arange(len(w)) + 1\n",
    "    size_data = w\n",
    "    return rank_data, size_data"
   ]
  },
  {
   "cell_type": "markdown",
   "id": "067456bc",
   "metadata": {},
   "source": [
    "Now let's see the rank-size plot:"
   ]
  },
  {
   "cell_type": "code",
   "execution_count": null,
   "id": "c28775b7",
   "metadata": {},
   "outputs": [],
   "source": [
    "fig, ax = plt.subplots()\n",
    "\n",
    "rank_data, size_data = rank_size(ψ_star, c=0.001)\n",
    "ax.loglog(rank_data, size_data, 'o', markersize=3.0, alpha=0.5)\n",
    "ax.set_xlabel(\"log rank\")\n",
    "ax.set_ylabel(\"log size\")\n",
    "\n",
    "plt.show()"
   ]
  },
  {
   "cell_type": "markdown",
   "id": "3a108bf9",
   "metadata": {},
   "source": [
    "```{solution-end}\n",
    "```"
   ]
  }
 ],
 "metadata": {
  "jupytext": {
   "text_representation": {
    "extension": ".md",
    "format_name": "myst",
    "format_version": 0.13,
    "jupytext_version": "1.14.5"
   }
  },
  "kernelspec": {
   "display_name": "Python 3 (ipykernel)",
   "language": "python",
   "name": "python3"
  },
  "source_map": [
   12,
   25,
   30,
   34,
   36,
   49,
   59,
   63,
   67,
   73,
   79,
   86,
   92,
   101,
   106,
   118,
   136,
   149,
   154,
   167,
   175,
   202,
   208,
   212,
   241,
   245,
   266,
   270,
   300,
   304,
   310,
   317,
   321,
   325,
   362,
   366,
   372,
   376,
   380,
   387,
   391,
   395,
   416,
   431,
   445,
   451,
   467,
   473,
   479,
   487,
   503,
   537,
   552,
   585,
   589,
   600,
   608,
   612,
   619,
   623,
   632
  ]
 },
 "nbformat": 4,
 "nbformat_minor": 5
}