{
 "cells": [
  {
   "cell_type": "markdown",
   "id": "26287f45",
   "metadata": {},
   "source": [
    "# An Asset Pricing Problem\n",
    "\n",
    "## Overview\n",
    "\n",
    "In this lecture we consider a some asset pricing problems and use them to\n",
    "illustrate some foundations of JAX programming.\n",
    "\n",
    "Most of the heavy lifting will be done through routines from linear algebra.\n",
    "\n",
    "Along the way, we will show how to solve some memory-intensive problems with large state spaces.\n",
    "\n",
    "We do this using elegant techniques made available by JAX, involving the use of linear operators to avoid instantiating large matrices.\n",
    "\n",
    "If you wish to skip all motivation and move straight to the first equation we plan to\n",
    "solve, you can jump to [](eq:ntecx2).\n",
    "\n",
    "In addition to what's in Anaconda, this lecture will need the following libraries:"
   ]
  },
  {
   "cell_type": "code",
   "execution_count": 1,
   "id": "0d463dcb",
   "metadata": {
    "tags": [
     "hide-output"
    ]
   },
   "outputs": [
    {
     "name": "stdout",
     "output_type": "stream",
     "text": [
      "Requirement already satisfied: quantecon in /opt/conda/envs/quantecon/lib/python3.10/site-packages (0.7.0)\r\n",
      "Requirement already satisfied: scipy>=1.5.0 in /opt/conda/envs/quantecon/lib/python3.10/site-packages (from quantecon) (1.10.0)\r\n",
      "Requirement already satisfied: numba>=0.49.0 in /opt/conda/envs/quantecon/lib/python3.10/site-packages (from quantecon) (0.56.4)\r\n",
      "Requirement already satisfied: sympy in /opt/conda/envs/quantecon/lib/python3.10/site-packages (from quantecon) (1.11.1)\r\n",
      "Requirement already satisfied: numpy>=1.17.0 in /opt/conda/envs/quantecon/lib/python3.10/site-packages (from quantecon) (1.23.5)\r\n",
      "Requirement already satisfied: requests in /opt/conda/envs/quantecon/lib/python3.10/site-packages (from quantecon) (2.28.1)\r\n",
      "Requirement already satisfied: llvmlite<0.40,>=0.39.0dev0 in /opt/conda/envs/quantecon/lib/python3.10/site-packages (from numba>=0.49.0->quantecon) (0.39.1)\r\n",
      "Requirement already satisfied: setuptools in /opt/conda/envs/quantecon/lib/python3.10/site-packages (from numba>=0.49.0->quantecon) (65.6.3)\r\n"
     ]
    },
    {
     "name": "stdout",
     "output_type": "stream",
     "text": [
      "Requirement already satisfied: charset-normalizer<3,>=2 in /opt/conda/envs/quantecon/lib/python3.10/site-packages (from requests->quantecon) (2.0.4)\r\n",
      "Requirement already satisfied: idna<4,>=2.5 in /opt/conda/envs/quantecon/lib/python3.10/site-packages (from requests->quantecon) (3.4)\r\n",
      "Requirement already satisfied: certifi>=2017.4.17 in /opt/conda/envs/quantecon/lib/python3.10/site-packages (from requests->quantecon) (2022.12.7)\r\n",
      "Requirement already satisfied: urllib3<1.27,>=1.21.1 in /opt/conda/envs/quantecon/lib/python3.10/site-packages (from requests->quantecon) (1.26.14)\r\n",
      "Requirement already satisfied: mpmath>=0.19 in /opt/conda/envs/quantecon/lib/python3.10/site-packages/mpmath-1.2.1-py3.10.egg (from sympy->quantecon) (1.2.1)\r\n"
     ]
    },
    {
     "name": "stdout",
     "output_type": "stream",
     "text": [
      "\u001b[33mWARNING: Running pip as the 'root' user can result in broken permissions and conflicting behaviour with the system package manager. It is recommended to use a virtual environment instead: https://pip.pypa.io/warnings/venv\u001b[0m\u001b[33m\r\n",
      "\u001b[0m"
     ]
    }
   ],
   "source": [
    "!pip install quantecon"
   ]
  },
  {
   "cell_type": "markdown",
   "id": "81594605",
   "metadata": {},
   "source": [
    "Below we use the following imports"
   ]
  },
  {
   "cell_type": "code",
   "execution_count": 2,
   "id": "12a88615",
   "metadata": {},
   "outputs": [],
   "source": [
    "import scipy\n",
    "import quantecon as qe\n",
    "import matplotlib.pyplot as plt\n",
    "import numpy as np\n",
    "import jax\n",
    "import jax.numpy as jnp\n",
    "from collections import namedtuple"
   ]
  },
  {
   "cell_type": "markdown",
   "id": "d7829e04",
   "metadata": {},
   "source": [
    "We will use 64 bit floats with JAX in order to increase precision."
   ]
  },
  {
   "cell_type": "code",
   "execution_count": 3,
   "id": "a49b5fda",
   "metadata": {},
   "outputs": [],
   "source": [
    "jax.config.update(\"jax_enable_x64\", True)"
   ]
  },
  {
   "cell_type": "markdown",
   "id": "ed9f3214",
   "metadata": {},
   "source": [
    "## Pricing a single payoff\n",
    "\n",
    "Suppose, at time $t$, we have an asset that pays a random amount $D_{t+1}$ at\n",
    "time $t+1$ and nothing after that.\n",
    "\n",
    "The simplest way to price this asset is to use \"risk-neutral\" asset pricing, which\n",
    "asserts that the price of the asset at time $t$ should be\n",
    "\n",
    "$$\n",
    "    P_t = \\beta \\, \\mathbb E_t D_{t+1}\n",
    "$$ (eq:rnp)\n",
    "\n",
    "Here $\\beta$ is a constant discount factor and $\\mathbb E_t D_{t+1}$ is the expectation\n",
    "of $D_{t+1}$ at time $t$.\n",
    "\n",
    "Roughly speaking, [](eq:rnp) says that the cost (i.e., price) equals expected benefit.\n",
    "\n",
    "The discount factor is introduced because most people prefer payments now to\n",
    "payments in the future.\n",
    "\n",
    "One problem with this very simple model is that it does not take into account\n",
    "attitudes to risk.\n",
    "\n",
    "For example, investors often demand higher rates of return for holding risky\n",
    "assets.\n",
    "\n",
    "This feature of asset prices cannot be captured by risk neutral pricing.\n",
    "\n",
    "Hence we modify [](eq:rnp) to\n",
    "\n",
    "$$\n",
    "    P_t = \\mathbb E_t M_{t+1} D_{t+1}\n",
    "$$ (eq:nrnp)\n",
    "\n",
    "In this expression, $M_{t+1}$ replaces $\\beta$ and is called the **stochastic discount factor**.\n",
    "\n",
    "In essence, allowing discounting to become a random variable gives us the\n",
    "flexibility to combine temporal discounting and attitudes to risk.\n",
    "\n",
    "We leave further discussion to [other lectures](https://python.quantecon.org/markov_asset.html)\n",
    "because our aim is to move to the computational problem.\n",
    "\n",
    "\n",
    "\n",
    "## Pricing a cash flow\n",
    "\n",
    "Now let's try to price an asset like a share, which delivers a cash flow $D_t,\n",
    "D_{t+1}, \\ldots$.\n",
    "\n",
    "We will call these payoffs \"dividends\".\n",
    "\n",
    "If we buy the share, hold it for one period and sell it again, we receive one\n",
    "dividend and our payoff is $D_{t+1} + P_{t+1}$.\n",
    "\n",
    "Therefore, by [](eq:nrnp), the price should be\n",
    "\n",
    "$$\n",
    "    P_t = \\mathbb E_t M_{t+1} [ D_{t+1} + P_{t+1} ]\n",
    "$$ (lteeqs0)\n",
    "\n",
    "Because prices generally grow over time, which complicates analysis, it will be\n",
    "easier for us to solve for the **price-dividend ratio** $V_t := P_t / D_t$.\n",
    "\n",
    "Let's write down an expression that this ratio should satisfy.\n",
    "\n",
    "We can divide both sides of {eq}`lteeqs0` by $D_t$ to get\n",
    "\n",
    "```{math}\n",
    ":label: pdex\n",
    "\n",
    "V_t = {\\mathbb E}_t \\left[ M_{t+1} \\frac{D_{t+1}}{D_t} (1 + V_{t+1}) \\right]\n",
    "```\n",
    "\n",
    "We can also write this as\n",
    "\n",
    "```{math}\n",
    ":label: pdex2\n",
    "\n",
    "V_t = {\\mathbb E}_t \\left[ M_{t+1} \\exp(G^d_{t+1}) (1 + V_{t+1}) \\right]\n",
    "```\n",
    "\n",
    "$$\n",
    "    G^d_{t+1} = \\ln \\frac{D_{t+1}}{D_t}\n",
    "$$\n",
    "\n",
    "is the growth rate of dividends.\n",
    "\n",
    "Our aim is to solve [](pdex2) but before that we need to specify\n",
    "\n",
    "1. the stochastic discount factor $M_{t+1}$ and\n",
    "1. the growth rate of dividends $G^d_{t+1}$\n",
    "\n",
    "\n",
    "\n",
    "## Choosing the stochastic discount factor\n",
    "\n",
    "We will adopt the stochastic discount factor described in {cite}`Lucas1978`, which has the form\n",
    "\n",
    "```{math}\n",
    ":label: lucsdf\n",
    "    M_{t+1} = \\beta \\frac{u'(C_{t+1})}{u'(C_t)}\n",
    "```\n",
    "\n",
    "where $u$ is a utility function and $C_t$ is time $t$ consumption of a representative consumer.\n",
    "\n",
    "(An explanation of the ideas behind this expression is given in [a later lecture](https://python-advanced.quantecon.org/lucas_model.html) and we omit further details and motivation.)\n",
    "\n",
    "For utility, we'll assume the **constant relative risk aversion** (CRRA) specification\n",
    "\n",
    "```{math}\n",
    ":label: eqCRRA\n",
    "    u(c) = \\frac{c^{1-\\gamma}}{1 - \\gamma}\n",
    "```\n",
    "\n",
    "Inserting the CRRA specification into {eq}`lucsdf` and letting\n",
    "\n",
    "$$\n",
    "    G^c_{t+1} = \\ln \\left( \\frac{C_{t+1}}{C_t} \\right)\n",
    "$$\n",
    "\n",
    "the growth rate rate of consumption, we obtain\n",
    "\n",
    "```{math}\n",
    ":label: lucsdf2\n",
    "    M_{t+1}\n",
    "    = \\beta \\left(\\frac{C_{t+1}}{C_t}\\right)^{-\\gamma}\n",
    "    = \\beta \\exp( G^c_{t+1} )^{-\\gamma}\n",
    "    = \\beta \\exp(-\\gamma G^c_{t+1})\n",
    "```\n",
    "\n",
    "\n",
    "\n",
    "## Solving for the price-dividend ratio\n",
    "\n",
    "Substituting [](lucsdf2) into {eq}`pdex2` gives the price-dividend ratio\n",
    "formula\n",
    "\n",
    "$$\n",
    "    V_t = \\beta {\\mathbb E}_t\n",
    "    \\left[ \\exp(G^d_{t+1} - \\gamma G^c_{t+1}) (1 + V_{t+1}) \\right]\n",
    "$$ (pdex3)\n",
    "\n",
    "We assume there is a Markov chain $\\{X_t\\}$, which we call\n",
    "the **state process**,  such that\n",
    "\n",
    "$$\n",
    "\\begin{aligned}\n",
    "    & G^c_{t+1} = \\mu_c + X_t + \\sigma_c \\epsilon_{c, t+1} \\\\\n",
    "    & G^d_{t+1} = \\mu_d + X_t + \\sigma_d \\epsilon_{d, t+1}\n",
    "\\end{aligned}\n",
    "$$\n",
    "\n",
    "Here $\\{\\epsilon_{c, t}\\}$ and $\\{\\epsilon_{d, t}\\}$ are IID and standard\n",
    "normal, and independent of eachother.\n",
    "\n",
    "We can think of $\\{X_t\\}$ as an aggregate shock that affects both consumption\n",
    "growth and firm profits (and hence dividends).\n",
    "\n",
    "We let $P$ be the [stochastic matrix that governs $\\{X_t\\}$](https://python.quantecon.org/finite_markov.html) and assume $\\{X_t\\}$ takes values in some finite set $S$.\n",
    "\n",
    "We guess that $V_t$ is a fixed function of this state process (and this guess turns\n",
    "out to be correct).\n",
    "\n",
    "This means that $V_t = v(X_t)$ for some unknown function $v$.\n",
    "\n",
    "By [](pdex3), the unknown function $v$ satisfies the equation\n",
    "\n",
    "$$\n",
    "    v(X_t) = \\beta {\\mathbb E}_t\n",
    "    \\left\\{\n",
    "        \\exp[\n",
    "            a + (1-\\gamma) X_t +\n",
    "                \\sigma_d \\epsilon_{d, t+1} -\n",
    "                \\gamma  \\sigma_c \\epsilon_{c, t+1}\n",
    "            ]\n",
    "        (1 + v(X_{t+1}))\n",
    "    \\right\\}\n",
    "$$ (eq:neweqn101)\n",
    "\n",
    "where $a := \\mu_d - \\gamma \\mu_c$\n",
    "\n",
    "Since the shocks $\\epsilon_{c, t+1}$ and $\\epsilon_{d, t+1}$ are independent of\n",
    "$\\{X_t\\}$, we can integrate them out.\n",
    "\n",
    "We use the following property of lognormal distributions: if $Y = \\exp(c\n",
    "\\epsilon)$ for constant $c$ and $\\epsilon \\sim N(0,1)$, then $\\mathbb E Y =\n",
    "\\exp(c^2/2)$.\n",
    "\n",
    "This yields\n",
    "\n",
    "$$\n",
    "    v(X_t) = \\beta {\\mathbb E}_t\n",
    "    \\left\\{\n",
    "        \\exp \\left[\n",
    "            a + (1-\\gamma) X_t +\n",
    "                \\frac{\\sigma_d^2 + \\gamma^2  \\sigma_c^2}{2}\n",
    "            \\right]\n",
    "        (1 + v(X_{t+1}))\n",
    "    \\right\\}\n",
    "$$ (eq:ntev)\n",
    "\n",
    "Conditioning on $X_t = x$, we can write this as\n",
    "\n",
    "$$\n",
    "    v(x) = \\beta \\sum_{y \\in S}\n",
    "    \\left\\{\n",
    "        \\exp \\left[\n",
    "            a + (1-\\gamma) x +\n",
    "                \\frac{\\sigma_d^2 + \\gamma^2  \\sigma_c^2}{2}\n",
    "            \\right]\n",
    "        (1 + v(y))\n",
    "    \\right\\}\n",
    "    P(x, y)\n",
    "$$ (eq:ntecx)\n",
    "\n",
    "for all $x \\in S$.\n",
    "\n",
    "\n",
    "\n",
    "Suppose $S = \\{x_1, \\ldots, x_N\\}$.\n",
    "\n",
    "Then we can think of $v$ as an $N$-vector and, using square brackets for indices on arrays, write\n",
    "\n",
    "$$\n",
    "    v[i] = \\beta \\sum_{j=1}^N\n",
    "    \\left\\{\n",
    "        \\exp \\left[\n",
    "            a + (1-\\gamma) x[i] +\n",
    "                \\frac{\\sigma_d^2 + \\gamma^2  \\sigma_c^2}{2}\n",
    "            \\right]\n",
    "        (1 + v[j])\n",
    "    \\right\\}\n",
    "    P[i, j]\n",
    "$$ (eq:ntecx2)\n",
    "\n",
    "for $i = 1, \\ldots, N$.\n",
    "\n",
    "We can write [](eq:ntecx2) in vector form as\n",
    "\n",
    "$$\n",
    "    v = K (\\mathbb 1 + v)\n",
    "$$ (eq:ntecxv)\n",
    "\n",
    "where $K$ is the matrix defined by\n",
    "\n",
    "$$\n",
    "    K[i, j]\n",
    "    = \\beta \\left\\{\n",
    "        \\exp \\left[\n",
    "            a + (1-\\gamma) x[i] +\n",
    "                \\frac{\\sigma_d^2 + \\gamma^2  \\sigma_c^2}{2}\n",
    "            \\right]\n",
    "    \\right\\} P[i,j]\n",
    "$$\n",
    "\n",
    "\n",
    "Notice that [](eq:ntecxv) can be written as $(I - K)v = K \\mathbb 1$.\n",
    "\n",
    "The Neumann series lemma tells us that $(I - K)$ is invertible and the solution\n",
    "is\n",
    "\n",
    "$$\n",
    "    v = (I - K)^{-1} K \\mathbb 1\n",
    "$$ (eq:ntecxvv)\n",
    "\n",
    "whenever $r(K)$, the spectral radius of $K$, is strictly less than one.\n",
    "\n",
    "Once we specify $P$ and all the parameters, we can obtain $K$ and\n",
    "then compute the solution [](eq:ntecxvv).\n",
    "\n",
    "\n",
    "## Code\n",
    "\n",
    "\n",
    "We will use the [power iteration algorithm](https://en.wikipedia.org/wiki/Power_iteration) to check the spectral radius condition."
   ]
  },
  {
   "cell_type": "code",
   "execution_count": 4,
   "id": "4d18f44a",
   "metadata": {},
   "outputs": [],
   "source": [
    "def power_iteration_sr(A, num_iterations=15, seed=1234):\n",
    "    \"\"\"\n",
    "    Power iteration method to find the spectral radius\n",
    "    \"\"\"\n",
    "    key = jax.random.PRNGKey(seed)\n",
    "    b_k = jax.random.normal(key, (A.shape[1],))\n",
    "    sr = 0\n",
    "    for _ in range(num_iterations):\n",
    "        # calculate the matrix-by-vector product Ab\n",
    "        b_k1 = jnp.dot(A, b_k)\n",
    "\n",
    "        # calculate the norm\n",
    "        b_k1_norm = jnp.linalg.norm(b_k1)\n",
    "\n",
    "        sr = jnp.sum(b_k1*b_k)/jnp.sum(b_k*b_k)\n",
    "\n",
    "        # re normalize the vector\n",
    "        b_k = b_k1 / b_k1_norm\n",
    "\n",
    "    return sr\n",
    "\n",
    "power_iteration_sr = jax.jit(power_iteration_sr, static_argnums=(1,2))"
   ]
  },
  {
   "cell_type": "code",
   "execution_count": 5,
   "id": "d7fc0491",
   "metadata": {},
   "outputs": [],
   "source": [
    "def test_stability(Q):\n",
    "    \"\"\"\n",
    "    Assert that the spectral radius of matrix Q is < 1.\n",
    "    \"\"\"\n",
    "    sr = power_iteration_sr(Q)\n",
    "    assert sr < 1, f\"Spectral radius condition failed with radius = {sr}\""
   ]
  },
  {
   "cell_type": "markdown",
   "id": "32a58e73",
   "metadata": {},
   "source": [
    "In what follows we assume that $\\{X_t\\}$, the state process, is a discretization of the AR(1) process\n",
    "\n",
    "$$\n",
    "    X_{t+1} = \\rho X_t + \\sigma \\eta_{t+1}\n",
    "$$\n",
    "\n",
    "where $\\rho, \\sigma$ are parameters and $\\{\\eta_t\\}$ is IID and standard normal.\n",
    "\n",
    "To discretize this process we use QuantEcon.py's `tauchen` function.\n",
    "\n",
    "Below we write a function called `create_model()` that returns a namedtuple storing the relevant parameters and arrays."
   ]
  },
  {
   "cell_type": "code",
   "execution_count": 6,
   "id": "7da17d73",
   "metadata": {},
   "outputs": [],
   "source": [
    "Model = namedtuple('Model',\n",
    "                   ('P', 'S', 'β', 'γ', 'μ_c', 'μ_d', 'σ_c', 'σ_d'))\n",
    "\n",
    "def create_model(N=100,         # size of state space for Markov chain\n",
    "                 ρ=0.9,         # persistence parameter for Markov chain\n",
    "                 σ=0.01,        # persistence parameter for Markov chain\n",
    "                 β=0.98,        # discount factor\n",
    "                 γ=2.5,         # coefficient of risk aversion\n",
    "                 μ_c=0.01,      # mean growth of consumtion\n",
    "                 μ_d=0.01,      # mean growth of dividends\n",
    "                 σ_c=0.02,      # consumption volatility\n",
    "                 σ_d=0.04):     # dividend volatility\n",
    "    # Create the state process\n",
    "    mc = qe.tauchen(N, ρ, σ)\n",
    "    S = mc.state_values\n",
    "    P = mc.P\n",
    "    # Shift arrays to the device\n",
    "    S, P = map(jax.device_put, (S, P))\n",
    "    # Return the namedtuple\n",
    "    return Model(P=P, S=S, β=β, γ=γ, μ_c=μ_c, μ_d=μ_d, σ_c=σ_c, σ_d=σ_d)"
   ]
  },
  {
   "cell_type": "markdown",
   "id": "8f120604",
   "metadata": {},
   "source": [
    "Our first step is to construct the matrix $K$.\n",
    "\n",
    "To exploit the parallelization capabilities of JAX, we use a vectorized (i.e., loop-free) implementation."
   ]
  },
  {
   "cell_type": "code",
   "execution_count": 7,
   "id": "38d83b15",
   "metadata": {},
   "outputs": [],
   "source": [
    "def compute_K(model):\n",
    "    # Setp up\n",
    "    P, S, β, γ, μ_c, μ_d, σ_c, σ_d = model\n",
    "    N = len(S)\n",
    "    # Reshape and multiply pointwise using broadcasting\n",
    "    x = jnp.reshape(S, (N, 1))\n",
    "    a = μ_d - γ * μ_c\n",
    "    e = jnp.exp(a + (1 - γ) * x + (σ_d**2 + γ**2 * σ_c**2) / 2)\n",
    "    K = β * e * P\n",
    "    return K"
   ]
  },
  {
   "cell_type": "markdown",
   "id": "4e4afb65",
   "metadata": {},
   "source": [
    "Just to double check, let's write a loop version and check we get the same matrix."
   ]
  },
  {
   "cell_type": "code",
   "execution_count": 8,
   "id": "2df81235",
   "metadata": {},
   "outputs": [],
   "source": [
    "def compute_K_loop(model):\n",
    "    # Setp up\n",
    "    P, S, β, γ, μ_c, μ_d, σ_c, σ_d = model\n",
    "    N = len(S)\n",
    "    K = np.empty((N, N))\n",
    "    a = μ_d - γ * μ_c\n",
    "    for i, x in enumerate(S):\n",
    "        for j, y in enumerate(S):\n",
    "            e = jnp.exp(a + (1 - γ) * x + (σ_d**2 + γ**2 * σ_c**2) / 2)\n",
    "            K[i, j] = β * e * P[i, j]\n",
    "    return K"
   ]
  },
  {
   "cell_type": "code",
   "execution_count": 9,
   "id": "eac76b1d",
   "metadata": {},
   "outputs": [
    {
     "data": {
      "text/plain": [
       "Array(True, dtype=bool)"
      ]
     },
     "execution_count": 9,
     "metadata": {},
     "output_type": "execute_result"
    }
   ],
   "source": [
    "model = create_model(N=10)\n",
    "K1 = compute_K(model)\n",
    "K2 = compute_K_loop(model)\n",
    "jnp.allclose(K1, K2)"
   ]
  },
  {
   "cell_type": "markdown",
   "id": "9c11db1a",
   "metadata": {},
   "source": [
    "Now we can compute the price-dividend ratio:"
   ]
  },
  {
   "cell_type": "code",
   "execution_count": 10,
   "id": "77c2f609",
   "metadata": {},
   "outputs": [],
   "source": [
    "def price_dividend_ratio(model, test_stable=True):\n",
    "    \"\"\"\n",
    "    Computes the price-dividend ratio of the asset.\n",
    "\n",
    "    Parameters\n",
    "    ----------\n",
    "    model: an instance of Model\n",
    "        contains primitives\n",
    "\n",
    "    Returns\n",
    "    -------\n",
    "    v : array_like\n",
    "        price-dividend ratio\n",
    "\n",
    "    \"\"\"\n",
    "    K = compute_K(model)\n",
    "    N = len(model.S)\n",
    "\n",
    "    if test_stable:\n",
    "        test_stability(K)\n",
    "\n",
    "    # Compute v\n",
    "    I = jnp.identity(N)\n",
    "    ones_vec = np.ones(N)\n",
    "    v = jnp.linalg.solve(I - K, K @ ones_vec)\n",
    "\n",
    "    return v"
   ]
  },
  {
   "cell_type": "markdown",
   "id": "54412dcb",
   "metadata": {},
   "source": [
    "Here's a plot of $v$ as a function of the state for several values of $\\gamma$."
   ]
  },
  {
   "cell_type": "code",
   "execution_count": 11,
   "id": "edceea74",
   "metadata": {},
   "outputs": [
    {
     "data": {
      "image/png": "[encoded data removed]",
      "text/plain": [
       "<Figure size 640x480 with 1 Axes>"
      ]
     },
     "metadata": {},
     "output_type": "display_data"
    }
   ],
   "source": [
    "model = create_model()\n",
    "S = model.S\n",
    "γs = jnp.linspace(2.0, 3.0, 5)\n",
    "\n",
    "fig, ax = plt.subplots()\n",
    "\n",
    "for γ in γs:\n",
    "    model = create_model(γ=γ)\n",
    "    v = price_dividend_ratio(model)\n",
    "    ax.plot(S, v, lw=2, alpha=0.6, label=rf\"$\\gamma = {γ}$\")\n",
    "\n",
    "ax.set_ylabel(\"price-dividend ratio\")\n",
    "ax.set_xlabel(\"state\")\n",
    "ax.legend(loc='upper right')\n",
    "plt.show()"
   ]
  },
  {
   "cell_type": "markdown",
   "id": "f28926b7",
   "metadata": {},
   "source": [
    "Notice that $v$ is decreasing in each case.\n",
    "\n",
    "This is because, with a positively correlated state process, higher states indicate higher future consumption growth.\n",
    "\n",
    "With the stochastic discount factor {eq}`lucsdf2`, higher growth decreases the\n",
    "discount factor, lowering the weight placed on future dividends.\n",
    "\n",
    "\n",
    "\n",
    "## An Extended Example\n",
    "\n",
    "One problem with the last set is that volatility is constant through time (i.e.,\n",
    "$\\sigma_c$ and $\\sigma_d$ are constants).\n",
    "\n",
    "In reality, financial markets and growth rates of macroeconomic variables\n",
    "exhibit bursts of volatility.\n",
    "\n",
    "To accommodate this, we now develop a *stochastic volatility* model.\n",
    "\n",
    "To begin, suppose that\n",
    "\n",
    "$$\n",
    "\\begin{aligned}\n",
    "    & G^c_{t+1} = \\mu_c + Z_t + \\bar \\sigma \\exp(H^c_t) \\epsilon_{c, t+1} \\\\\n",
    "    & G^d_{t+1} = \\mu_d + Z_t + \\bar \\sigma \\exp(H^d_t) \\epsilon_{d, t+1}\n",
    "\\end{aligned}\n",
    "$$\n",
    "\n",
    "where $\\{Z_t\\}$ is a finite Markov chain and $\\{H^c_t\\}$ and $\\{H^d_t\\}$ are AR(1) processes of the form\n",
    "\n",
    "$$\n",
    "\\begin{aligned}\n",
    "    H^c_{t+1} & = \\rho_c H^c_t + \\sigma_c \\eta_{c, t+1}  \\\\\n",
    "    H^d_{t+1} & = \\rho_d H^d_t + \\sigma_d \\eta_{d, t+1}\n",
    "\\end{aligned}\n",
    "$$\n",
    "\n",
    "Here $\\{\\eta^c_t\\}$ and $\\{\\eta^d_t\\}$ are IID and standard normal.\n",
    "\n",
    "Let $X_t = (H^c_t, H^d_t, Z_t)$.\n",
    "\n",
    "We call $\\{X_t\\}$ the state process and guess that $V_t$ is a function of\n",
    "this state process, so that $V_t = v(X_t)$ for some unknown function $v$.\n",
    "\n",
    "Modifying [](eq:neweqn101) to accommodate the new growth specifications,\n",
    "we find that $v$ satisfies\n",
    "\n",
    "$$\n",
    "    v(X_t) = \\beta {\\mathbb E}_t\n",
    "    \\left\\{\n",
    "        \\exp[\n",
    "            a + (1-\\gamma) Z_t +\n",
    "                \\bar \\sigma \\exp(H^d_t) \\epsilon_{d, t+1} -\n",
    "                \\gamma \\bar \\sigma \\exp(H^c_t) \\epsilon_{c, t+1}\n",
    "            ]\n",
    "        (1 + v(X_{t+1}))\n",
    "    \\right\\}\n",
    "$$ (eq:neweqn102)\n",
    "\n",
    "where, as before, $a := \\mu_d - \\gamma \\mu_c$\n",
    "\n",
    "\n",
    "\n",
    "Conditioning on state $x = (h_c, h_d, z)$, this becomes\n",
    "\n",
    "```{math}\n",
    ":label: neweqn103_old\n",
    "    v(x) = \\beta  {\\mathbb E}_t\n",
    "        \\exp[\n",
    "            a + (1-\\gamma) z +\n",
    "                \\bar \\sigma \\exp(h_d) \\epsilon_{d, t+1} -\n",
    "                \\gamma \\bar \\sigma \\exp(h_c) \\epsilon_{c, t+1}\n",
    "            ]\n",
    "        (1 + v(X_{t+1}))\n",
    "```\n",
    "\n",
    "As before, we integrate out the independent shocks and use the rules for\n",
    "expectations of lognormals to obtain\n",
    "\n",
    "```{math}\n",
    ":label: neweqn103_new\n",
    "    v(x) = \\beta  {\\mathbb E}_t\n",
    "        \\exp \\left[\n",
    "            a + (1-\\gamma) z +\n",
    "                \\bar \\sigma^2 \\frac{\\exp(2 h_d) + \\gamma^2 \\exp(2 h_c)}{2}\n",
    "            \\right]\n",
    "        (1 + v(X_{t+1}))\n",
    "```\n",
    "\n",
    "Using the definition of the state and setting\n",
    "\n",
    "$$\n",
    "    \\kappa(h_c, h_z, z) :=\n",
    "        \\exp \\left[\n",
    "            a + (1-\\gamma) z +\n",
    "                \\bar \\sigma^2 \\frac{\\exp(2 h_d) + \\gamma^2 \\exp(2 h_c)}{2}\n",
    "            \\right]\n",
    "$$\n",
    "\n",
    "we can write this more explicitly\n",
    "\n",
    "```{math}\n",
    ":label: neweqn104_old\n",
    "    v(h_c, h_d, z) =\n",
    "    \\beta \\sum_{h_c', h_d', z'}\n",
    "        \\kappa(h_c, h_z, z)\n",
    "        (1 + v(h_c', h_d', z')) P(h_c, h_c')Q(h_d, h_d')R(z, z')\n",
    "```\n",
    "\n",
    "Here $P, Q, R$ are the stochastic matrices for, respectively, discretized\n",
    "$\\{H^c_t\\}$, discretized $\\{H^d_t\\}$ and $\\{Z_t\\}$.\n",
    "\n",
    "Let's now write the state using indices, with $(i, j, k)$ being the\n",
    "indices for $(h_c, h_z, z)$.\n",
    "\n",
    "The last expression becomes\n",
    "\n",
    "```{math}\n",
    ":label: neweqn104_new\n",
    "\n",
    "    v[i, j, k] =\n",
    "    \\beta \\sum_{i', j', k'}\n",
    "        \\kappa[i, j, k]\n",
    "        (1 + v[i', j', k']) P[i, i']Q[j, j']R[k, k']\n",
    "```\n",
    "\n",
    "We define the multi-index array $H$ by\n",
    "\n",
    "$$\n",
    "    H[i, j, k, i', j', k']\n",
    "    =\n",
    "    \\beta \\sum_{i', j', k'}\n",
    "        \\kappa[i, j, k] P[i, i']Q[j, j']R[k, k']\n",
    "$$\n",
    "\n",
    "then {eq}`neweqn104_new` becomes\n",
    "\n",
    "$$\n",
    "    v[i, j, k] =\n",
    "    \\beta \\sum_{i', j', k'}\n",
    "        H[i, j, k, i', j', k'] (1 + v[i', j', k'])\n",
    "$$ (eq:neweqn105)\n",
    "\n",
    "One way to understand this is to reshape $v$ into an $N$-vector, where $N = I \\times J \\times K$,\n",
    "and $H$ into an $N \\times N$ matrix.\n",
    "\n",
    "Then we can write [](eq:neweqn105) as\n",
    "\n",
    "$$\n",
    "    v = H(\\mathbb 1 + v)\n",
    "$$\n",
    "\n",
    "Provided that $H$ is invertible, the solution is given by\n",
    "\n",
    "$$\n",
    "    v = (I - H)^{-1} H \\mathbb 1\n",
    "$$\n",
    "\n",
    "\n",
    "\n",
    "## Numpy Version\n",
    "\n",
    "\n",
    "Our first implementation will be in NumPy.\n",
    "\n",
    "Once we have a NumPy version working, we will convert it to JAX and check the difference in the run times.\n",
    "\n",
    "The code block below provides a function called `create_sv_model()` that returns a namedtuple containing arrays and other data that form the primitives of the problem.\n",
    "\n",
    "It assumes that $\\{Z_t\\}$ is a discretization of\n",
    "\n",
    "$$\n",
    "    Z_{t+1} = \\rho_z Z_t + \\sigma_z \\xi_{t+1}\n",
    "$$"
   ]
  },
  {
   "cell_type": "code",
   "execution_count": 12,
   "id": "a0d3112d",
   "metadata": {},
   "outputs": [],
   "source": [
    "SVModel = namedtuple('SVModel',\n",
    "                        ('P', 'hc_grid',\n",
    "                         'Q', 'hd_grid',\n",
    "                         'R', 'z_grid',\n",
    "                         'β', 'γ', 'bar_σ', 'μ_c', 'μ_d'))\n",
    "\n",
    "def create_sv_model(β=0.98,        # discount factor\n",
    "                    γ=2.5,         # coefficient of risk aversion\n",
    "                    I=14,          # size of state space for h_c\n",
    "                    ρ_c=0.9,       # persistence parameter for h_c\n",
    "                    σ_c=0.01,      # volatility parameter for h_c\n",
    "                    J=14,          # size of state space for h_d\n",
    "                    ρ_d=0.9,       # persistence parameter for h_d\n",
    "                    σ_d=0.01,      # volatility parameter for h_d\n",
    "                    K=14,          # size of state space for z\n",
    "                    bar_σ=0.01,    # volatility scaling parameter\n",
    "                    ρ_z=0.9,       # persistence parameter for z\n",
    "                    σ_z=0.01,      # persistence parameter for z\n",
    "                    μ_c=0.001,     # mean growth of consumtion\n",
    "                    μ_d=0.005):    # mean growth of dividends\n",
    "\n",
    "    mc = qe.tauchen(I, ρ_c, σ_c)\n",
    "    hc_grid = mc.state_values\n",
    "    P = mc.P\n",
    "    mc = qe.tauchen(J, ρ_d, σ_d)\n",
    "    hd_grid = mc.state_values\n",
    "    Q = mc.P\n",
    "    mc = qe.tauchen(K, ρ_z, σ_z)\n",
    "    z_grid = mc.state_values\n",
    "    R = mc.P\n",
    "\n",
    "    return SVModel(P=P, hc_grid=hc_grid,\n",
    "                   Q=Q, hd_grid=hd_grid,\n",
    "                   R=R, z_grid=z_grid,\n",
    "                   β=β, γ=γ, bar_σ=bar_σ, μ_c=μ_c, μ_d=μ_d)"
   ]
  },
  {
   "cell_type": "markdown",
   "id": "f8877b57",
   "metadata": {},
   "source": [
    "Now we provide a function to compute the matrix $H$."
   ]
  },
  {
   "cell_type": "code",
   "execution_count": 13,
   "id": "1de0a157",
   "metadata": {},
   "outputs": [],
   "source": [
    "def compute_H(sv_model):\n",
    "    # Set up\n",
    "    P, hc_grid, Q, hd_grid, R, z_grid, β, γ, bar_σ, μ_c, μ_d = sv_model\n",
    "    I, J, K = len(hc_grid), len(hd_grid), len(z_grid)\n",
    "    N = I * J * K\n",
    "    # Reshape and multiply pointwise using broadcasting\n",
    "    hc = np.reshape(hc_grid, (I, 1, 1))\n",
    "    hd = np.reshape(hd_grid, (1, J, 1))\n",
    "    z = np.reshape(z_grid,   (1, 1, K))\n",
    "    P = np.reshape(P, (I, 1, 1, I, 1, 1))\n",
    "    Q = np.reshape(Q, (1, J, 1, 1, J, 1))\n",
    "    R = np.reshape(R, (1, 1, K, 1, 1, K))\n",
    "    # Compute H and then reshape to create a matrix\n",
    "    a = μ_d - γ * μ_c\n",
    "    b = bar_σ**2 * (np.exp(2 * hd) + γ**2 * np.exp(2 * hc)) / 2\n",
    "    κ = np.exp(a + (1 - γ) * z + b)\n",
    "    H = β * κ * P * Q * R\n",
    "    H = np.reshape(H, (N, N))\n",
    "    return H"
   ]
  },
  {
   "cell_type": "markdown",
   "id": "34739e2a",
   "metadata": {},
   "source": [
    "Here's our function to compute the price-dividend ratio for the stochastic volatility model."
   ]
  },
  {
   "cell_type": "code",
   "execution_count": 14,
   "id": "af639c32",
   "metadata": {},
   "outputs": [],
   "source": [
    "def sv_pd_ratio(sv_model, test_stable=True):\n",
    "    \"\"\"\n",
    "    Computes the price-dividend ratio of the asset for the stochastic volatility\n",
    "    model.\n",
    "\n",
    "    Parameters\n",
    "    ----------\n",
    "    sv_model: an instance of Model\n",
    "        contains primitives\n",
    "\n",
    "    Returns\n",
    "    -------\n",
    "    v : array_like\n",
    "        price-dividend ratio\n",
    "\n",
    "    \"\"\"\n",
    "    # Setp up\n",
    "    P, hc_grid, Q, hd_grid, R, z_grid, β, γ, bar_σ, μ_c, μ_d = sv_model\n",
    "    I, J, K = len(hc_grid), len(hd_grid), len(z_grid)\n",
    "    N = I * J * K\n",
    "\n",
    "    H = compute_H(sv_model)\n",
    "    # Make sure that a unique solution exists\n",
    "    if test_stable:\n",
    "        test_stability(H)\n",
    "\n",
    "    # Compute v\n",
    "    ones_array = np.ones(N)\n",
    "    Id = np.identity(N)\n",
    "    v = scipy.linalg.solve(Id - H, H @ ones_array)\n",
    "    # Reshape into an array of the form v[i, j, k]\n",
    "    v = np.reshape(v, (I, J, K))\n",
    "    return v"
   ]
  },
  {
   "cell_type": "markdown",
   "id": "092ec258",
   "metadata": {},
   "source": [
    "Let's create an instance of the model and solve it."
   ]
  },
  {
   "cell_type": "code",
   "execution_count": 15,
   "id": "9c520ad6",
   "metadata": {},
   "outputs": [],
   "source": [
    "sv_model = create_sv_model()\n",
    "P, hc_grid, Q, hd_grid, R, z_grid, β, γ, bar_σ, μ_c, μ_d = sv_model"
   ]
  },
  {
   "cell_type": "code",
   "execution_count": 16,
   "id": "431d495f",
   "metadata": {},
   "outputs": [
    {
     "name": "stdout",
     "output_type": "stream",
     "text": [
      "TOC: Elapsed: 0:00:1.17\n"
     ]
    }
   ],
   "source": [
    "qe.tic()\n",
    "v = sv_pd_ratio(sv_model)\n",
    "np_time = qe.toc()"
   ]
  },
  {
   "cell_type": "markdown",
   "id": "599cead3",
   "metadata": {},
   "source": [
    "Here are some plots of the solution $v$ along the three dimensions."
   ]
  },
  {
   "cell_type": "code",
   "execution_count": 17,
   "id": "e706dbb0",
   "metadata": {},
   "outputs": [
    {
     "data": {
      "image/png": "[encoded data removed]",
      "text/plain": [
       "<Figure size 640x480 with 1 Axes>"
      ]
     },
     "metadata": {},
     "output_type": "display_data"
    }
   ],
   "source": [
    "fig, ax = plt.subplots()\n",
    "ax.plot(hc_grid, v[:, 0, 0], lw=2, alpha=0.6, label=\"$v$ as a function of $H^c$\")\n",
    "ax.set_ylabel(\"price-dividend ratio\")\n",
    "ax.set_xlabel(\"state\")\n",
    "ax.legend()\n",
    "plt.show()"
   ]
  },
  {
   "cell_type": "code",
   "execution_count": 18,
   "id": "764197ab",
   "metadata": {},
   "outputs": [
    {
     "data": {
      "image/png": "[encoded data removed]",
      "text/plain": [
       "<Figure size 640x480 with 1 Axes>"
      ]
     },
     "metadata": {},
     "output_type": "display_data"
    }
   ],
   "source": [
    "fig, ax = plt.subplots()\n",
    "ax.plot(hd_grid, v[0, :, 0], lw=2, alpha=0.6, label=\"$v$ as a function of $H^d$\")\n",
    "ax.set_ylabel(\"price-dividend ratio\")\n",
    "ax.set_xlabel(\"state\")\n",
    "ax.legend()\n",
    "plt.show()"
   ]
  },
  {
   "cell_type": "code",
   "execution_count": 19,
   "id": "7f2c1372",
   "metadata": {},
   "outputs": [
    {
     "data": {
      "image/png": "[encoded data removed]",
      "text/plain": [
       "<Figure size 640x480 with 1 Axes>"
      ]
     },
     "metadata": {},
     "output_type": "display_data"
    }
   ],
   "source": [
    "fig, ax = plt.subplots()\n",
    "ax.plot(z_grid, v[0, 0, :], lw=2, alpha=0.6, label=\"$v$ as a function of $Z$\")\n",
    "ax.set_ylabel(\"price-dividend ratio\")\n",
    "ax.set_xlabel(\"state\")\n",
    "ax.legend()\n",
    "plt.show()"
   ]
  },
  {
   "cell_type": "markdown",
   "id": "4e5d9cbb",
   "metadata": {},
   "source": [
    "## JAX Version\n",
    "\n",
    "\n",
    "\n",
    "Now let's write a JAX version that is a simple transformation of the NumPy version.\n",
    "\n",
    "(Below we will write a more efficient version using JAX's ability to work with linear operators.)"
   ]
  },
  {
   "cell_type": "code",
   "execution_count": 20,
   "id": "8078c0ef",
   "metadata": {},
   "outputs": [],
   "source": [
    "def create_sv_model_jax(sv_model):    # mean growth of dividends\n",
    "\n",
    "    # Take the contents of a NumPy sv_model instance\n",
    "    P, hc_grid, Q, hd_grid, R, z_grid, β, γ, bar_σ, μ_c, μ_d = sv_model\n",
    "\n",
    "    # Shift the arrays to the device (GPU if available)\n",
    "    hc_grid, hd_grid, z_grid = map(jax.device_put, (hc_grid, hd_grid, z_grid))\n",
    "    P, Q, R = map(jax.device_put, (P, Q, R))\n",
    "\n",
    "    # Create a new instance and return it\n",
    "    return SVModel(P=P, hc_grid=hc_grid,\n",
    "                   Q=Q, hd_grid=hd_grid,\n",
    "                   R=R, z_grid=z_grid,\n",
    "                   β=β, γ=γ, bar_σ=bar_σ, μ_c=μ_c, μ_d=μ_d)"
   ]
  },
  {
   "cell_type": "markdown",
   "id": "22b3f9e8",
   "metadata": {},
   "source": [
    "Here's a function to compute $H$.\n",
    "\n",
    "We include the extra argument `shapes` to help the compiler understand the size of the arrays.\n",
    "\n",
    "This is important when we JIT-compile the function below."
   ]
  },
  {
   "cell_type": "code",
   "execution_count": 21,
   "id": "269d0ff4",
   "metadata": {},
   "outputs": [],
   "source": [
    "def compute_H_jax(sv_model, shapes):\n",
    "    # Set up\n",
    "    P, hc_grid, Q, hd_grid, R, z_grid, β, γ, bar_σ, μ_c, μ_d = sv_model\n",
    "    I, J, K = shapes\n",
    "    N = I * J * K\n",
    "    # Reshape and multiply pointwise using broadcasting\n",
    "    hc = jnp.reshape(hc_grid, (I, 1, 1))\n",
    "    hd = jnp.reshape(hd_grid, (1, J, 1))\n",
    "    z = jnp.reshape(z_grid, (1, 1, K))\n",
    "    P = jnp.reshape(P, (I, 1, 1, I, 1, 1))\n",
    "    Q = jnp.reshape(Q, (1, J, 1, 1, J, 1))\n",
    "    R = jnp.reshape(R, (1, 1, K, 1, 1, K))\n",
    "    # Compute H and then reshape to create a matrix\n",
    "    a = μ_d - γ * μ_c\n",
    "    b = bar_σ**2 * (jnp.exp(2 * hd) + γ**2 * jnp.exp(2 * hc)) / 2\n",
    "    κ = jnp.exp(a + (1 - γ) * z + b)\n",
    "    H = β * κ * P * Q * R\n",
    "    H = jnp.reshape(H, (N, N))\n",
    "    return H"
   ]
  },
  {
   "cell_type": "markdown",
   "id": "98f6b16b",
   "metadata": {},
   "source": [
    "Here's the function that computes the solution."
   ]
  },
  {
   "cell_type": "code",
   "execution_count": 22,
   "id": "d6adf75d",
   "metadata": {},
   "outputs": [],
   "source": [
    "def sv_pd_ratio_jax(sv_model, shapes):\n",
    "    \"\"\"\n",
    "    Computes the price-dividend ratio of the asset for the stochastic volatility\n",
    "    model.\n",
    "\n",
    "    Parameters\n",
    "    ----------\n",
    "    sv_model: an instance of Model\n",
    "        contains primitives\n",
    "\n",
    "    Returns\n",
    "    -------\n",
    "    v : array_like\n",
    "        price-dividend ratio\n",
    "\n",
    "    \"\"\"\n",
    "    # Setp up\n",
    "    P, hc_grid, Q, hd_grid, R, z_grid, β, γ, bar_σ, μ_c, μ_d = sv_model\n",
    "    I, J, K = len(hc_grid), len(hd_grid), len(z_grid)\n",
    "    shapes = I, J, K\n",
    "    N = I * J * K\n",
    "\n",
    "    H = compute_H_jax(sv_model, shapes)\n",
    "\n",
    "    # Compute v, reshape and return\n",
    "    ones_array = jnp.ones(N)\n",
    "    Id = jnp.identity(N)\n",
    "    v = jax.scipy.linalg.solve(Id - H, H @ ones_array)\n",
    "    return jnp.reshape(v, (I, J, K))"
   ]
  },
  {
   "cell_type": "markdown",
   "id": "3e9a1d4e",
   "metadata": {},
   "source": [
    "Now let's target these functions for JIT-compilation, while using `static_argnums` to indicate that the function will need to be recompiled when `shapes` changes."
   ]
  },
  {
   "cell_type": "code",
   "execution_count": 23,
   "id": "c67d1784",
   "metadata": {},
   "outputs": [],
   "source": [
    "compute_H_jax = jax.jit(compute_H_jax, static_argnums=(1,))\n",
    "sv_pd_ratio_jax = jax.jit(sv_pd_ratio_jax, static_argnums=(1,))"
   ]
  },
  {
   "cell_type": "code",
   "execution_count": 24,
   "id": "dd0b0ca2",
   "metadata": {},
   "outputs": [],
   "source": [
    "sv_model = create_sv_model()\n",
    "sv_model_jax = create_sv_model_jax(sv_model)\n",
    "P, hc_grid, Q, hd_grid, R, z_grid, β, γ, bar_σ, μ_c, μ_d = sv_model_jax\n",
    "shapes = len(hc_grid), len(hd_grid), len(z_grid)"
   ]
  },
  {
   "cell_type": "markdown",
   "id": "688fcc85",
   "metadata": {},
   "source": [
    "Let's see how long it takes to run with compile time included."
   ]
  },
  {
   "cell_type": "code",
   "execution_count": 25,
   "id": "9be65bfd",
   "metadata": {},
   "outputs": [
    {
     "name": "stdout",
     "output_type": "stream",
     "text": [
      "TOC: Elapsed: 0:00:0.36\n"
     ]
    }
   ],
   "source": [
    "qe.tic()\n",
    "v_jax = sv_pd_ratio_jax(sv_model_jax, shapes).block_until_ready()\n",
    "jnp_time_0 = qe.toc()"
   ]
  },
  {
   "cell_type": "markdown",
   "id": "2bfe28d3",
   "metadata": {},
   "source": [
    "And now let's see without compile time."
   ]
  },
  {
   "cell_type": "code",
   "execution_count": 26,
   "id": "cd5049fb",
   "metadata": {},
   "outputs": [
    {
     "name": "stdout",
     "output_type": "stream",
     "text": [
      "TOC: Elapsed: 0:00:0.01\n"
     ]
    }
   ],
   "source": [
    "qe.tic()\n",
    "v_jax = sv_pd_ratio_jax(sv_model_jax, shapes).block_until_ready()\n",
    "jnp_time_1 = qe.toc()"
   ]
  },
  {
   "cell_type": "markdown",
   "id": "55d54283",
   "metadata": {},
   "source": [
    "Here's the ratio of times:"
   ]
  },
  {
   "cell_type": "code",
   "execution_count": 27,
   "id": "bdd1e06f",
   "metadata": {},
   "outputs": [
    {
     "data": {
      "text/plain": [
       "0.013523181069663189"
      ]
     },
     "execution_count": 27,
     "metadata": {},
     "output_type": "execute_result"
    }
   ],
   "source": [
    "jnp_time_1 / np_time"
   ]
  },
  {
   "cell_type": "markdown",
   "id": "1f77768f",
   "metadata": {},
   "source": [
    "Let's check that the NumPy and JAX versions realize the same solution."
   ]
  },
  {
   "cell_type": "code",
   "execution_count": 28,
   "id": "3ac48922",
   "metadata": {},
   "outputs": [
    {
     "name": "stdout",
     "output_type": "stream",
     "text": [
      "True\n"
     ]
    }
   ],
   "source": [
    "v = jax.device_put(v)\n",
    "\n",
    "print(jnp.allclose(v, v_jax))"
   ]
  },
  {
   "cell_type": "markdown",
   "id": "c3ee0f47",
   "metadata": {},
   "source": [
    "## Efficient JAX Version\n",
    "\n",
    "\n",
    "\n",
    "One problem with the code above is that we instantiate a matrix of size $N = I \\times J \\times K$.\n",
    "\n",
    "This quickly becomes impossible as $I, J, K$ increase.\n",
    "\n",
    "Fortunately, JAX makes it possible to solve for the price-dividend ratio without instantiating this large matrix.\n",
    "\n",
    "The first step is to think of $H$ not as a matrix, but rather as the linear operator that transforms $g$ into $Hg$ via\n",
    "\n",
    "$$\n",
    "    (Hg)[i, j, k] =\n",
    "    \\beta \\sum_{i', j', k'}\n",
    "        \\kappa[i, j, k] g[i', j', k'] P[i, i']Q[j, j']R[k, k']\n",
    "$$"
   ]
  },
  {
   "cell_type": "code",
   "execution_count": 29,
   "id": "21f404f8",
   "metadata": {},
   "outputs": [],
   "source": [
    "def H_operator(g, sv_model, shapes):\n",
    "    # Set up\n",
    "    P, hc_grid, Q, hd_grid, R, z_grid, β, γ, bar_σ, μ_c, μ_d = sv_model\n",
    "    I, J, K = shapes\n",
    "    # Reshape and multiply pointwise using broadcasting\n",
    "    hc = jnp.reshape(hc_grid, (I, 1, 1))\n",
    "    hd = jnp.reshape(hd_grid, (1, J, 1))\n",
    "    z = jnp.reshape(z_grid, (1, 1, K))\n",
    "    P = jnp.reshape(P, (I, 1, 1, I, 1, 1))\n",
    "    Q = jnp.reshape(Q, (1, J, 1, 1, J, 1))\n",
    "    R = jnp.reshape(R, (1, 1, K, 1, 1, K))\n",
    "    a = μ_d - γ * μ_c\n",
    "    b = bar_σ**2 * (jnp.exp(2 * hd) + γ**2 * jnp.exp(2 * hc)) / 2\n",
    "    κ = jnp.exp(a + (1 - γ) * z + b)\n",
    "    H = β * κ * P * Q * R\n",
    "    Hg = jnp.sum(H * g, axis=(3, 4, 5))\n",
    "    return Hg"
   ]
  },
  {
   "cell_type": "markdown",
   "id": "4d68f481",
   "metadata": {},
   "source": [
    "Now we write a version of the solution function that acts directly on this linear operator."
   ]
  },
  {
   "cell_type": "code",
   "execution_count": 30,
   "id": "0e2a6d54",
   "metadata": {},
   "outputs": [],
   "source": [
    "def sv_pd_ratio_jax_multi(sv_model, shapes):\n",
    "\n",
    "    # Setp up\n",
    "    P, hc_grid, Q, hd_grid, R, z_grid, β, γ, bar_σ, μ_c, μ_d = sv_model\n",
    "    I, J, K = shapes\n",
    "\n",
    "    # Compute v\n",
    "    ones_array = np.ones((I, J, K))\n",
    "    # Set up the operator g -> g\n",
    "    H = lambda g: H_operator(g, sv_model, shapes)\n",
    "    # Set up the operator g -> (I - H) g\n",
    "    J = lambda g: g - H(g)\n",
    "    # Solve v = (I - H)^{-1} H 1\n",
    "    H1 = H_operator(ones_array, sv_model, shapes)\n",
    "    v = jax.scipy.sparse.linalg.bicgstab(J, H1)[0]\n",
    "    return v"
   ]
  },
  {
   "cell_type": "markdown",
   "id": "ac72af35",
   "metadata": {},
   "source": [
    "Let's target these functions for JIT compilation."
   ]
  },
  {
   "cell_type": "code",
   "execution_count": 31,
   "id": "8bac3e50",
   "metadata": {},
   "outputs": [],
   "source": [
    "H_operator = jax.jit(H_operator, static_argnums=(2,))\n",
    "sv_pd_ratio_jax_multi = jax.jit(sv_pd_ratio_jax_multi, static_argnums=(1,))"
   ]
  },
  {
   "cell_type": "markdown",
   "id": "127d0462",
   "metadata": {},
   "source": [
    "Let's time the solution with compile time included."
   ]
  },
  {
   "cell_type": "code",
   "execution_count": 32,
   "id": "93f69aa7",
   "metadata": {},
   "outputs": [
    {
     "name": "stdout",
     "output_type": "stream",
     "text": [
      "TOC: Elapsed: 0:00:0.01\n"
     ]
    }
   ],
   "source": [
    "qe.tic()\n",
    "v_jax_multi = sv_pd_ratio_jax(sv_model, shapes).block_until_ready()\n",
    "jnp_time_multi_0 = qe.toc()"
   ]
  },
  {
   "cell_type": "code",
   "execution_count": 33,
   "id": "c08abc4f",
   "metadata": {},
   "outputs": [
    {
     "name": "stdout",
     "output_type": "stream",
     "text": [
      "True\n"
     ]
    }
   ],
   "source": [
    "print(jnp.allclose(v, v_jax_multi))"
   ]
  },
  {
   "cell_type": "markdown",
   "id": "e0b916c5",
   "metadata": {},
   "source": [
    "Now let's run again without compile time."
   ]
  },
  {
   "cell_type": "code",
   "execution_count": 34,
   "id": "a3809425",
   "metadata": {},
   "outputs": [
    {
     "name": "stdout",
     "output_type": "stream",
     "text": [
      "TOC: Elapsed: 0:00:0.01\n"
     ]
    }
   ],
   "source": [
    "qe.tic()\n",
    "v_jax_multi = sv_pd_ratio_jax(sv_model, shapes).block_until_ready()\n",
    "jnp_time_multi_1 = qe.toc()"
   ]
  },
  {
   "cell_type": "markdown",
   "id": "ed36d080",
   "metadata": {},
   "source": [
    "Here's the ratio of times (Efficient JAX / JAX):"
   ]
  },
  {
   "cell_type": "code",
   "execution_count": 35,
   "id": "5a48c69c",
   "metadata": {},
   "outputs": [
    {
     "data": {
      "text/plain": [
       "1.024968394437421"
      ]
     },
     "execution_count": 35,
     "metadata": {},
     "output_type": "execute_result"
    }
   ],
   "source": [
    "jnp_time_multi_1 / jnp_time_1  "
   ]
  },
  {
   "cell_type": "markdown",
   "id": "07daf1c7",
   "metadata": {},
   "source": [
    "The speed is about the same but now we can work with much larger grids.\n",
    "\n",
    "Here's a moderately large example, where the state space has 15,625 elements."
   ]
  },
  {
   "cell_type": "code",
   "execution_count": 36,
   "id": "63c79fae",
   "metadata": {},
   "outputs": [],
   "source": [
    "sv_model = create_sv_model(I=25, J=25, K=25)\n",
    "sv_model_jax = create_sv_model_jax(sv_model)\n",
    "P, hc_grid, Q, hd_grid, R, z_grid, β, γ, bar_σ, μ_c, μ_d = sv_model_jax\n",
    "shapes = len(hc_grid), len(hd_grid), len(z_grid)"
   ]
  },
  {
   "cell_type": "code",
   "execution_count": 37,
   "id": "e51223ef",
   "metadata": {},
   "outputs": [
    {
     "name": "stdout",
     "output_type": "stream",
     "text": [
      "TOC: Elapsed: 0:00:0.94\n"
     ]
    }
   ],
   "source": [
    "qe.tic()\n",
    "v_jax_multi = sv_pd_ratio_jax(sv_model, shapes).block_until_ready()\n",
    "jnp_time_multi_1 = qe.toc()"
   ]
  },
  {
   "cell_type": "code",
   "execution_count": 38,
   "id": "8c076b1a",
   "metadata": {},
   "outputs": [
    {
     "name": "stdout",
     "output_type": "stream",
     "text": [
      "TOC: Elapsed: 0:00:0.48\n"
     ]
    }
   ],
   "source": [
    "qe.tic()\n",
    "v_jax_multi = sv_pd_ratio_jax(sv_model, shapes).block_until_ready()\n",
    "jnp_time_multi_1 = qe.toc()"
   ]
  }
 ],
 "metadata": {
  "jupytext": {
   "text_representation": {
    "extension": ".md",
    "format_name": "myst",
    "format_version": 0.13,
    "jupytext_version": "1.14.5"
   }
  },
  "kernelspec": {
   "display_name": "Python 3 (ipykernel)",
   "language": "python",
   "name": "python3"
  },
  "language_info": {
   "codemirror_mode": {
    "name": "ipython",
    "version": 3
   },
   "file_extension": ".py",
   "mimetype": "text/x-python",
   "name": "python",
   "nbconvert_exporter": "python",
   "pygments_lexer": "ipython3",
   "version": "3.10.9"
  },
  "source_map": [
   12,
   33,
   37,
   41,
   49,
   54,
   56,
   335,
   360,
   367,
   382,
   403,
   410,
   421,
   426,
   440,
   445,
   450,
   478,
   483,
   499,
   677,
   713,
   718,
   738,
   743,
   777,
   782,
   787,
   791,
   796,
   805,
   814,
   821,
   832,
   847,
   856,
   876,
   881,
   911,
   915,
   920,
   925,
   930,
   934,
   939,
   943,
   948,
   950,
   955,
   959,
   980,
   998,
   1003,
   1020,
   1025,
   1028,
   1033,
   1039,
   1041,
   1045,
   1049,
   1053,
   1055,
   1061,
   1068,
   1074
  ]
 },
 "nbformat": 4,
 "nbformat_minor": 5
}