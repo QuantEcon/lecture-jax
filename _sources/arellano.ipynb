{
 "cells": [
  {
   "cell_type": "markdown",
   "id": "41b4b128",
   "metadata": {},
   "source": [
    "# Default Risk and Income Fluctuations\n",
    "\n",
    "```{include} _admonition/gpu.md\n",
    "```\n",
    "\n",
    "In addition to what's in Anaconda, this lecture will need the following libraries:"
   ]
  },
  {
   "cell_type": "code",
   "execution_count": 1,
   "id": "f8f137cf",
   "metadata": {
    "tags": [
     "hide-output"
    ]
   },
   "outputs": [
    {
     "name": "stdout",
     "output_type": "stream",
     "text": [
      "Collecting quantecon\r\n"
     ]
    },
    {
     "name": "stdout",
     "output_type": "stream",
     "text": [
      "  Downloading quantecon-0.7.0-py3-none-any.whl (214 kB)\r\n",
      "\u001b[?25l     \u001b[90m━━━━━━━━━━━━━━━━━━━━━━━━━━━━━━━━━━━━━━━━\u001b[0m \u001b[32m0.0/214.8 kB\u001b[0m \u001b[31m?\u001b[0m eta \u001b[36m-:--:--\u001b[0m"
     ]
    },
    {
     "name": "stdout",
     "output_type": "stream",
     "text": [
      "\r",
      "\u001b[2K     \u001b[90m━━━━━━━━━━━━━━━━━━━━━━━━━━━━━━━━━━━━━━━\u001b[0m \u001b[32m214.8/214.8 kB\u001b[0m \u001b[31m8.4 MB/s\u001b[0m eta \u001b[36m0:00:00\u001b[0m\r\n",
      "\u001b[?25hRequirement already satisfied: requests in /opt/conda/envs/quantecon/lib/python3.10/site-packages (from quantecon) (2.28.1)\r\n",
      "Requirement already satisfied: numpy>=1.17.0 in /opt/conda/envs/quantecon/lib/python3.10/site-packages (from quantecon) (1.23.5)\r\n",
      "Requirement already satisfied: sympy in /opt/conda/envs/quantecon/lib/python3.10/site-packages (from quantecon) (1.11.1)\r\n",
      "Requirement already satisfied: numba>=0.49.0 in /opt/conda/envs/quantecon/lib/python3.10/site-packages (from quantecon) (0.56.4)\r\n",
      "Requirement already satisfied: scipy>=1.5.0 in /opt/conda/envs/quantecon/lib/python3.10/site-packages (from quantecon) (1.10.0)\r\n",
      "Requirement already satisfied: llvmlite<0.40,>=0.39.0dev0 in /opt/conda/envs/quantecon/lib/python3.10/site-packages (from numba>=0.49.0->quantecon) (0.39.1)\r\n",
      "Requirement already satisfied: setuptools in /opt/conda/envs/quantecon/lib/python3.10/site-packages (from numba>=0.49.0->quantecon) (65.6.3)\r\n"
     ]
    },
    {
     "name": "stdout",
     "output_type": "stream",
     "text": [
      "Requirement already satisfied: certifi>=2017.4.17 in /opt/conda/envs/quantecon/lib/python3.10/site-packages (from requests->quantecon) (2022.12.7)\r\n",
      "Requirement already satisfied: charset-normalizer<3,>=2 in /opt/conda/envs/quantecon/lib/python3.10/site-packages (from requests->quantecon) (2.0.4)\r\n",
      "Requirement already satisfied: urllib3<1.27,>=1.21.1 in /opt/conda/envs/quantecon/lib/python3.10/site-packages (from requests->quantecon) (1.26.14)\r\n",
      "Requirement already satisfied: idna<4,>=2.5 in /opt/conda/envs/quantecon/lib/python3.10/site-packages (from requests->quantecon) (3.4)\r\n",
      "Requirement already satisfied: mpmath>=0.19 in /opt/conda/envs/quantecon/lib/python3.10/site-packages/mpmath-1.2.1-py3.10.egg (from sympy->quantecon) (1.2.1)\r\n"
     ]
    },
    {
     "name": "stdout",
     "output_type": "stream",
     "text": [
      "Installing collected packages: quantecon\r\n"
     ]
    },
    {
     "name": "stdout",
     "output_type": "stream",
     "text": [
      "Successfully installed quantecon-0.7.0\r\n",
      "\u001b[33mWARNING: Running pip as the 'root' user can result in broken permissions and conflicting behaviour with the system package manager. It is recommended to use a virtual environment instead: https://pip.pypa.io/warnings/venv\u001b[0m\u001b[33m\r\n",
      "\u001b[0m"
     ]
    }
   ],
   "source": [
    "!pip install quantecon"
   ]
  },
  {
   "cell_type": "markdown",
   "id": "b4949ba7",
   "metadata": {},
   "source": [
    "## Overview\n",
    "\n",
    "This lecture computes versions of Arellano’s {cite}`Are08` model of sovereign default.\n",
    "\n",
    "The model describes interactions among default risk, output, and an\n",
    "equilibrium interest rate that includes a premium for endogenous default risk.\n",
    "\n",
    "The decision maker is a government of a small open economy that borrows from\n",
    "risk-neutral foreign creditors.\n",
    "\n",
    "The foreign lenders must be compensated for default risk.\n",
    "\n",
    "The government borrows and lends abroad in order to smooth the consumption of\n",
    "its citizens.\n",
    "\n",
    "The government repays its debt only if it wants to, but declining to pay has\n",
    "adverse consequences.\n",
    "\n",
    "The interest rate on government debt adjusts in response to the\n",
    "state-dependent default probability chosen by government.\n",
    "\n",
    "The model yields outcomes that help interpret sovereign default experiences,\n",
    "including\n",
    "\n",
    "- countercyclical interest rates on sovereign debt\n",
    "- countercyclical trade balances\n",
    "- high volatility of consumption relative to output\n",
    "\n",
    "\n",
    "Notably, long recessions caused by bad draws in the income process increase the government’s\n",
    "incentive to default.\n",
    "\n",
    "This can lead to\n",
    "\n",
    "- spikes in interest rates\n",
    "- temporary losses of access to international credit markets\n",
    "- large drops in output, consumption, and welfare\n",
    "- large capital outflows during recessions\n",
    "\n",
    "\n",
    "Such dynamics are consistent with experiences of many countries.\n",
    "\n",
    "Let’s start with some imports:"
   ]
  },
  {
   "cell_type": "code",
   "execution_count": 2,
   "id": "e5f7993d",
   "metadata": {
    "tags": [
     "hide-output"
    ]
   },
   "outputs": [],
   "source": [
    "import matplotlib.pyplot as plt\n",
    "import quantecon as qe\n",
    "import random\n",
    "\n",
    "import jax\n",
    "import jax.numpy as jnp"
   ]
  },
  {
   "cell_type": "markdown",
   "id": "7b537177",
   "metadata": {},
   "source": [
    "Let's check the GPU we are running"
   ]
  },
  {
   "cell_type": "code",
   "execution_count": 3,
   "id": "d45c7d6a",
   "metadata": {},
   "outputs": [
    {
     "name": "stdout",
     "output_type": "stream",
     "text": [
      "Thu May 18 10:03:48 2023       \r\n",
      "+-----------------------------------------------------------------------------+\r\n",
      "| NVIDIA-SMI 470.182.03   Driver Version: 470.182.03   CUDA Version: 12.1     |\r\n",
      "|-------------------------------+----------------------+----------------------+\r\n",
      "| GPU  Name        Persistence-M| Bus-Id        Disp.A | Volatile Uncorr. ECC |\r\n",
      "| Fan  Temp  Perf  Pwr:Usage/Cap|         Memory-Usage | GPU-Util  Compute M. |\r\n",
      "|                               |                      |               MIG M. |\r\n",
      "|===============================+======================+======================|\r\n"
     ]
    },
    {
     "name": "stdout",
     "output_type": "stream",
     "text": [
      "|   0  Tesla V100-SXM2...  Off  | 00000000:00:1E.0 Off |                    0 |\r\n",
      "| N/A   46C    P0    43W / 300W |      0MiB / 16160MiB |      2%      Default |\r\n",
      "|                               |                      |                  N/A |\r\n",
      "+-------------------------------+----------------------+----------------------+\r\n",
      "                                                                               \r\n",
      "+-----------------------------------------------------------------------------+\r\n",
      "| Processes:                                                                  |\r\n",
      "|  GPU   GI   CI        PID   Type   Process name                  GPU Memory |\r\n",
      "|        ID   ID                                                   Usage      |\r\n",
      "|=============================================================================|\r\n",
      "|  No running processes found                                                 |\r\n",
      "+-----------------------------------------------------------------------------+\r\n"
     ]
    }
   ],
   "source": [
    "!nvidia-smi"
   ]
  },
  {
   "cell_type": "markdown",
   "id": "d3ed9cdd",
   "metadata": {},
   "source": [
    "We will use 64 bit floats with JAX in order to increase the precision."
   ]
  },
  {
   "cell_type": "code",
   "execution_count": 4,
   "id": "6a98c216",
   "metadata": {},
   "outputs": [],
   "source": [
    "jax.config.update(\"jax_enable_x64\", True)"
   ]
  },
  {
   "cell_type": "markdown",
   "id": "bf0aa591",
   "metadata": {},
   "source": [
    "## Structure\n",
    "\n",
    "In this section we describe the main features of the model."
   ]
  },
  {
   "cell_type": "markdown",
   "id": "dd94b173",
   "metadata": {},
   "source": [
    "### Output, Consumption and Debt\n",
    "\n",
    "A small open economy is endowed with an exogenous stochastically fluctuating potential output\n",
    "stream $ \\{y_t\\} $.\n",
    "\n",
    "Potential output is realized only in periods in which the government honors its sovereign debt.\n",
    "\n",
    "The output good can be traded or consumed.\n",
    "\n",
    "The sequence $ \\{y_t\\} $ is described by a Markov process with stochastic density kernel\n",
    "$ p(y, y') $.\n",
    "\n",
    "Households within the country are identical and rank stochastic consumption streams according to\n",
    "\n",
    "$$\n",
    " \\mathbb E \\sum_{t=0}^{\\infty} \\beta^t u(c_t)\n",
    " $$ (equation13_1)\n",
    "\n",
    "Here\n",
    "\n",
    "- $ 0 < \\beta < 1 $ is a time discount factor\n",
    "- $ u $ is an increasing and strictly concave utility function\n",
    "\n",
    "\n",
    "Consumption sequences enjoyed by households are affected by the government’s decision to borrow or\n",
    "lend internationally.\n",
    "\n",
    "The government is benevolent in the sense that its aim is to maximize {eq}`equation13_1`.\n",
    "\n",
    "The government is the only domestic actor with access to foreign credit.\n",
    "\n",
    "Because households are averse to consumption fluctuations, the government will try to smooth\n",
    "consumption by borrowing from (and lending to) foreign creditors."
   ]
  },
  {
   "cell_type": "markdown",
   "id": "ab8dc098",
   "metadata": {},
   "source": [
    "### Asset Markets\n",
    "\n",
    "The only credit instrument available to the government is a one-period bond traded in international credit markets.\n",
    "\n",
    "The bond market has the following features\n",
    "\n",
    "- The bond matures in one period and is not state contingent.\n",
    "- A purchase of a bond with face value $ B' $ is a claim to $ B' $ units of the\n",
    "  consumption good next period.\n",
    "- To purchase $ B' $  next period costs $ q B' $ now, or, what is equivalent.\n",
    "- For selling $ -B' $ units of next period goods the seller earns $ - q B' $ of today’s\n",
    "  goods.\n",
    "  - If $ B' < 0 $, then $ -q B' $ units of the good are received in the current period,\n",
    "    for a promise to repay $ -B' $ units next period.\n",
    "  - There is an equilibrium  price function $ q(B', y) $ that makes $ q $ depend on both\n",
    "    $ B' $ and $ y $.\n",
    "\n",
    "\n",
    "Earnings on the government portfolio are distributed (or, if negative, taxed) lump sum to\n",
    "households.\n",
    "\n",
    "When the government is not excluded from financial markets, the one-period national budget\n",
    "constraint is\n",
    "\n",
    "$$\n",
    "c = y + B - q(B', y) B'\n",
    "$$ (equation13_2)\n",
    "\n",
    "Here and below, a prime denotes a next period value or a claim maturing next period.\n",
    "\n",
    "To rule out Ponzi schemes, we also require that $ B \\geq -Z $ in every period.\n",
    "\n",
    "- $ Z $ is chosen to be sufficiently large that the constraint never binds in equilibrium."
   ]
  },
  {
   "cell_type": "markdown",
   "id": "3c49adfd",
   "metadata": {},
   "source": [
    "### Financial Markets\n",
    "\n",
    "Foreign creditors\n",
    "\n",
    "- are risk neutral\n",
    "- know the domestic output stochastic process $ \\{y_t\\} $ and observe\n",
    "  $ y_t, y_{t-1}, \\ldots, $ at time $ t $\n",
    "- can borrow or lend without limit in an international credit market at a constant international\n",
    "  interest rate $ r $\n",
    "- receive full payment if the government chooses to pay\n",
    "- receive zero if the government defaults on its one-period debt due\n",
    "\n",
    "\n",
    "When a government is expected to default next period with probability $ \\delta $, the expected\n",
    "value of a promise to pay one unit of consumption next period is $ 1 - \\delta $.\n",
    "\n",
    "Therefore, the discounted expected value of a promise to pay $ B $ next period is\n",
    "\n",
    "$$\n",
    "q = \\frac{1 - \\delta}{1 + r}\n",
    "$$ (equation13_3)\n",
    "\n",
    "Next we turn to how the government in effect chooses the default probability $ \\delta $."
   ]
  },
  {
   "cell_type": "markdown",
   "id": "6f8f3fd6",
   "metadata": {},
   "source": [
    "### Government’s Decisions\n",
    "\n",
    "At each point in time $ t $, the government chooses between\n",
    "\n",
    "1. defaulting\n",
    "1. meeting its current obligations and purchasing or selling an optimal quantity of  one-period\n",
    "  sovereign debt\n",
    "\n",
    "\n",
    "Defaulting means declining to repay all of its current obligations.\n",
    "\n",
    "If the government defaults in the current period, then consumption equals current output.\n",
    "\n",
    "But a sovereign default has two consequences:\n",
    "\n",
    "1. Output immediately falls from $ y $ to $ h(y) $, where $ 0 \\leq h(y) \\leq y $.\n",
    "  - It returns to $ y $ only after the country regains access to international credit\n",
    "    markets.\n",
    "1. The country loses access to foreign credit markets."
   ]
  },
  {
   "cell_type": "markdown",
   "id": "4a57d065",
   "metadata": {},
   "source": [
    "### Reentering International Credit Market\n",
    "\n",
    "While in a state of default, the economy regains access to foreign credit in each subsequent\n",
    "period with probability $ \\theta $."
   ]
  },
  {
   "cell_type": "markdown",
   "id": "ad50fdc9",
   "metadata": {},
   "source": [
    "## Equilibrium\n",
    "\n",
    "Informally, an equilibrium is a sequence of interest rates on its sovereign debt, a stochastic\n",
    "sequence of government default decisions and an implied flow of household consumption such that\n",
    "\n",
    "1. Consumption and assets satisfy the national budget constraint.\n",
    "1. The government maximizes household utility taking into account\n",
    "  - the resource constraint\n",
    "  - the effect of its choices on the price of bonds\n",
    "  - consequences of defaulting now for future net output and future borrowing and lending\n",
    "    opportunities\n",
    "1. The interest rate on the government’s debt includes a risk-premium sufficient to make foreign\n",
    "  creditors expect on average to earn the constant risk-free international interest rate.\n",
    "\n",
    "\n",
    "To express these ideas more precisely, consider first the choices of the government, which\n",
    "\n",
    "1. enters a period with initial assets $ B $, or what is the same thing, initial debt to be\n",
    "  repaid now of $ -B $\n",
    "1. observes current output $ y $, and\n",
    "1. chooses either\n",
    "  1. to default, or\n",
    "  1. to pay $ -B $ and set next period’s debt due to $ -B' $\n",
    "\n",
    "\n",
    "In a recursive formulation,\n",
    "\n",
    "- state variables for the government comprise the pair $ (B, y) $\n",
    "- $ v(B, y) $ is the optimum value of the government’s problem when at the beginning of a\n",
    "  period it faces the choice of whether to honor or default\n",
    "- $ v_c(B, y) $ is the value of choosing to pay obligations falling due\n",
    "- $ v_d(y) $ is the value of choosing to default\n",
    "\n",
    "\n",
    "$ v_d(y) $ does not depend on $ B $ because, when access to credit is eventually regained,\n",
    "net foreign assets equal $ 0 $.\n",
    "\n",
    "Expressed recursively, the value of defaulting is\n",
    "\n",
    "$$\n",
    "v_d(y) = u(h(y)) +\n",
    "            \\beta \\int \\left\\{\n",
    "            \\theta v(0, y') + (1 - \\theta) v_d(y')\n",
    "            \\right\\}\n",
    "            p(y, y') dy'\n",
    "$$\n",
    "\n",
    "The value of paying is\n",
    "\n",
    "$$\n",
    "v_c(B, y) = \\max_{B' \\geq -Z}\n",
    "       \\left\\{\n",
    "            u(y - q(B', y) B' + B) +\n",
    "            \\beta \\int v(B', y') p(y, y') dy'\n",
    "      \\right\\}\n",
    "$$\n",
    "\n",
    "The three value functions are linked by\n",
    "\n",
    "$$\n",
    "v(B, y) = \\max\\{ v_c(B, y), v_d(y) \\}\n",
    "$$\n",
    "\n",
    "The government chooses to default when\n",
    "\n",
    "$$\n",
    "v_c(B, y) < v_d(y)\n",
    "$$\n",
    "\n",
    "and hence given $ B' $ the probability of default next period is\n",
    "\n",
    "$$\n",
    "\\delta(B', y) := \\int \\mathbb 1\\{v_c(B', y') < v_d(y') \\} p(y, y') dy'\n",
    "$$ (equation13_4)\n",
    "\n",
    "Given zero profits for foreign creditors in equilibrium, we can combine {eq}`equation13_3` and {eq}`equation13_4`\n",
    "to pin down the bond price function:\n",
    "\n",
    "$$\n",
    "q(B', y) = \\frac{1 - \\delta(B', y)}{1 + r}\n",
    "$$ (equation13_5)"
   ]
  },
  {
   "cell_type": "markdown",
   "id": "e74461ff",
   "metadata": {},
   "source": [
    "### Definition of Equilibrium\n",
    "\n",
    "An *equilibrium* is\n",
    "\n",
    "- a pricing function $ q(B',y) $,\n",
    "- a triple of value functions $ (v_c(B, y), v_d(y), v(B,y)) $,\n",
    "- a decision rule telling the government when to default and when to pay as a function of the state\n",
    "  $ (B, y) $, and\n",
    "- an asset accumulation rule that, conditional on choosing not to default, maps $ (B,y) $ into\n",
    "  $ B' $\n",
    "\n",
    "\n",
    "such that\n",
    "\n",
    "- The three Bellman equations for $ (v_c(B, y), v_d(y), v(B,y)) $ are satisfied\n",
    "- Given the price function $ q(B',y) $, the default decision rule and the asset accumulation\n",
    "  decision rule attain the optimal value function  $ v(B,y) $, and\n",
    "- The price function $ q(B',y) $ satisfies equation {eq}`equation13_5`"
   ]
  },
  {
   "cell_type": "markdown",
   "id": "d2f8459f",
   "metadata": {},
   "source": [
    "## Computation\n",
    "\n",
    "Let’s now compute an equilibrium of Arellano’s model.\n",
    "\n",
    "The equilibrium objects are the value function $ v(B, y) $, the associated\n",
    "default decision rule, and the pricing function $ q(B', y) $.\n",
    "\n",
    "We’ll use our code to replicate Arellano’s results.\n",
    "\n",
    "After that we’ll perform some additional simulations.\n",
    "\n",
    "We use a slightly modified version of the algorithm recommended by Arellano.\n",
    "\n",
    "- The appendix to {cite}`Are08` recommends value function iteration until\n",
    "  convergence, updating the price, and then repeating.\n",
    "- Instead, we update the bond price at every value function iteration step.\n",
    "\n",
    "\n",
    "The second approach is faster and the two different procedures deliver very similar results.\n",
    "\n",
    "Here is a more detailed description of our algorithm:\n",
    "\n",
    "1. Guess a pair of non-default and default value functions $ v_c $ and $ v_d $.\n",
    "1. Using these functions, calculate the value function $ v $, the corresponding default probabilities and the price function $ q $.\n",
    "1. At each pair $ (B, y) $,\n",
    "  1. update the value of defaulting $ v_d(y) $.\n",
    "  1. update the value of remaining $ v_c(B, y) $.\n",
    "1. Check for convergence. If converged, stop – if not, go to step 2.\n",
    "\n",
    "\n",
    "We use simple discretization on a grid of asset holdings and income levels.\n",
    "\n",
    "The output process is discretized using a [quadrature method due to Tauchen](https://github.com/QuantEcon/QuantEcon.py/blob/master/quantecon/markov/approximation.py).\n",
    "\n",
    "As we have in other places, we accelerate our code using Numba.\n",
    "\n",
    "We define a class that will store parameters, grids and transition\n",
    "probabilities."
   ]
  },
  {
   "cell_type": "code",
   "execution_count": 5,
   "id": "30d124d9",
   "metadata": {
    "hide-output": false
   },
   "outputs": [],
   "source": [
    "class Arellano_Economy:\n",
    "    \" Stores data and creates primitives for the Arellano economy. \"\n",
    "\n",
    "    def __init__(self,\n",
    "            B_grid_size=251,   # Grid size for bonds\n",
    "            B_grid_min=-0.45,   # Smallest B value\n",
    "            B_grid_max=0.45,    # Largest B value\n",
    "            y_grid_size=51,     # Grid size for income\n",
    "            β=0.953,            # Time discount parameter\n",
    "            γ=2.0,              # Utility parameter\n",
    "            r=0.017,            # Lending rate\n",
    "            ρ=0.945,            # Persistence in the income process\n",
    "            η=0.025,            # Standard deviation of the income process\n",
    "            θ=0.282,            # Prob of re-entering financial markets\n",
    "            def_y_param=0.969): # Parameter governing income in default\n",
    "\n",
    "        # Save parameters\n",
    "        self.β, self.γ, self.r, = β, γ, r\n",
    "        self.ρ, self.η, self.θ = ρ, η, θ\n",
    "\n",
    "        # Set up grids\n",
    "        self.y_grid_size = y_grid_size\n",
    "        self.B_grid_size = B_grid_size\n",
    "        B_grid = jnp.linspace(B_grid_min, B_grid_max, B_grid_size)\n",
    "        mc = qe.markov.tauchen(y_grid_size, ρ, η)\n",
    "        y_grid, P = jnp.exp(mc.state_values), mc.P\n",
    "\n",
    "        # Put grids on the device\n",
    "        self.B_grid = jax.device_put(B_grid)\n",
    "        self.y_grid = jax.device_put(y_grid)\n",
    "        self.P = jax.device_put(P)\n",
    "\n",
    "        # Output recieved while in default, with same shape as y_grid\n",
    "        self.def_y = jnp.minimum(def_y_param * jnp.mean(self.y_grid), self.y_grid)\n",
    "\n",
    "    def params(self):\n",
    "        return self.β, self.γ, self.r, self.ρ, self.η, self.θ\n",
    "\n",
    "    def sizes(self):\n",
    "        return self.B_grid_size, self.y_grid_size\n",
    "\n",
    "    def arrays(self):\n",
    "        return self.P, self.B_grid, self.y_grid, self.def_y"
   ]
  },
  {
   "cell_type": "markdown",
   "id": "ec8af2e9",
   "metadata": {},
   "source": [
    "Here is the utility function."
   ]
  },
  {
   "cell_type": "code",
   "execution_count": 6,
   "id": "4dca217b",
   "metadata": {
    "hide-output": false
   },
   "outputs": [],
   "source": [
    "@jax.jit\n",
    "def u(c, γ):\n",
    "    return c**(1-γ)/(1-γ)"
   ]
  },
  {
   "cell_type": "markdown",
   "id": "aadcd320",
   "metadata": {},
   "source": [
    "Here is a function to compute the bond price at each state, given $ v_c $ and\n",
    "$ v_d $."
   ]
  },
  {
   "cell_type": "code",
   "execution_count": 7,
   "id": "45a5d406",
   "metadata": {
    "hide-output": false
   },
   "outputs": [],
   "source": [
    "def compute_q(v_c, v_d, params, sizes, arrays):\n",
    "    \"\"\"\n",
    "    Compute the bond price function q(B, y) at each (B, y) pair.  The first\n",
    "    step is to calculate the default probabilities\n",
    "\n",
    "        δ(B, y) := Σ_{y'} 1{v_c(B, y') < v_d(y')} P(y, y') dy'\n",
    "\n",
    "    \"\"\"\n",
    "\n",
    "    # Unpack\n",
    "    β, γ, r, ρ, η, θ = params\n",
    "    B_size, y_size = sizes\n",
    "    P, B_grid, y_grid, def_y = arrays\n",
    "\n",
    "    # Set up arrays with indices [i_B, i_y, i_yp]\n",
    "    v_d = jnp.reshape(v_d, (1, 1, y_size))\n",
    "    v_c = jnp.reshape(v_c, (B_size, 1, y_size))\n",
    "    P = jnp.reshape(P, (1, y_size, y_size))\n",
    "\n",
    "    # Compute δ[i_B, i_y]\n",
    "    default_states = v_c < v_d\n",
    "    delta = jnp.sum(default_states * P, axis=(2,))\n",
    "\n",
    "    q = (1 - delta ) / (1 + r)\n",
    "    return q"
   ]
  },
  {
   "cell_type": "markdown",
   "id": "18a37729",
   "metadata": {},
   "source": [
    "Next we introduce Bellman operators that updated $ v_d $ and $ v_c $."
   ]
  },
  {
   "cell_type": "code",
   "execution_count": 8,
   "id": "d30198c2",
   "metadata": {
    "hide-output": false
   },
   "outputs": [],
   "source": [
    "def T_d(v_c, v_d, params, sizes, arrays):\n",
    "    \"\"\"\n",
    "    The RHS of the Bellman equation when income is at index y_idx and\n",
    "    the country has chosen to default.  Returns an update of v_d.\n",
    "    \"\"\"\n",
    "    # Unpack\n",
    "    β, γ, r, ρ, η, θ = params\n",
    "    B_size, y_size = sizes\n",
    "    P, B_grid, y_grid, def_y = arrays\n",
    "    B0_idx = jnp.searchsorted(B_grid, 1e-10)  # Index at which B is near zero\n",
    "\n",
    "    current_utility = u(def_y, γ)\n",
    "    v = jnp.maximum(v_c[B0_idx, :], v_d)\n",
    "    w = θ * v + (1 - θ) * v_d\n",
    "    A = jnp.reshape(w, (1, y_size))\n",
    "    cont_value = jnp.sum(A * P, axis=(1,))\n",
    "\n",
    "    return current_utility + β * cont_value"
   ]
  },
  {
   "cell_type": "code",
   "execution_count": 9,
   "id": "a5453997",
   "metadata": {
    "hide-output": false
   },
   "outputs": [],
   "source": [
    "def bellman(v_c, v_d, q, params, sizes, arrays):\n",
    "    \"\"\"\n",
    "    The RHS of the Bellman equation when the country is not in a\n",
    "    defaulted state on their debt.  That is,\n",
    "\n",
    "        bellman(B, y) =\n",
    "            u(y - q(B', y) B' + B) + β Σ_{y'} v(B', y') P(y, y')\n",
    "\n",
    "    If consumption is not positive then returns -np.inf\n",
    "    \"\"\"\n",
    "    # Unpack\n",
    "    β, γ, r, ρ, η, θ = params\n",
    "    B_size, y_size = sizes\n",
    "    P, B_grid, y_grid, def_y = arrays\n",
    "\n",
    "    # Set up c[i_B, i_y, i_Bp]\n",
    "    y_idx = jnp.reshape(jnp.arange(y_size), (1, y_size, 1))\n",
    "    B_idx = jnp.reshape(jnp.arange(B_size), (B_size, 1, 1))\n",
    "    Bp_idx = jnp.reshape(jnp.arange(B_size), (1, 1, B_size))\n",
    "    c = y_grid[y_idx] - q[Bp_idx, y_idx] * B_grid[Bp_idx] + B_grid[B_idx]\n",
    "\n",
    "    # Set up v[i_B, i_y, i_Bp, i_yp] and P[i_B, i_y, i_Bp, i_yp]\n",
    "    v_d = jnp.reshape(v_d, (1, 1, 1, y_size))\n",
    "    v_c = jnp.reshape(v_c, (1, 1, B_size, y_size))\n",
    "    v = jnp.maximum(v_c, v_d)\n",
    "    P = jnp.reshape(P, (1, y_size, 1, y_size))\n",
    "    # Sum over i_yp\n",
    "    continuation_value = jnp.sum(v * P, axis=(3,))\n",
    "\n",
    "    # Return new_v_c[i_B, i_y, i_Bp]\n",
    "    val = jnp.where(c > 0, u(c, γ) + β * continuation_value, -jnp.inf)\n",
    "    return val"
   ]
  },
  {
   "cell_type": "code",
   "execution_count": 10,
   "id": "69dbbe93",
   "metadata": {},
   "outputs": [],
   "source": [
    "def T_c(v_c, v_d, q, params, sizes, arrays):\n",
    "    vals = bellman(v_c, v_d, q, params, sizes, arrays)\n",
    "    return jnp.max(vals, axis=2)"
   ]
  },
  {
   "cell_type": "code",
   "execution_count": 11,
   "id": "99d11bd8",
   "metadata": {},
   "outputs": [],
   "source": [
    "def get_greedy(v_c, v_d, q, params, sizes, arrays):\n",
    "    vals = bellman(v_c, v_d, q, params, sizes, arrays)\n",
    "    return jnp.argmax(vals, axis=2)"
   ]
  },
  {
   "cell_type": "markdown",
   "id": "afb0e8d4",
   "metadata": {},
   "source": [
    "Let's make JIT-compiled versions of these functions, with the sizes of the arrays declared as static (compile-time constants) in order to help the compiler."
   ]
  },
  {
   "cell_type": "code",
   "execution_count": 12,
   "id": "18f11cc0",
   "metadata": {},
   "outputs": [],
   "source": [
    "compute_q = jax.jit(compute_q, static_argnums=(3,))\n",
    "T_d = jax.jit(T_d, static_argnums=(3,))\n",
    "bellman = jax.jit(bellman, static_argnums=(4,))\n",
    "T_c = jax.jit(T_c, static_argnums=(4,))\n",
    "get_greedy = jax.jit(get_greedy, static_argnums=(4,))"
   ]
  },
  {
   "cell_type": "markdown",
   "id": "98cc5269",
   "metadata": {},
   "source": [
    "Here is a function that calls these operators in the right sequence."
   ]
  },
  {
   "cell_type": "code",
   "execution_count": 13,
   "id": "55c28622",
   "metadata": {
    "hide-output": false
   },
   "outputs": [],
   "source": [
    "def update_values_and_prices(v_c, v_d, params, sizes, arrays):\n",
    "\n",
    "    q = compute_q(v_c, v_d, params, sizes, arrays)\n",
    "    new_v_d = T_d(v_c, v_d, params, sizes, arrays)\n",
    "    new_v_c = T_c(v_c, v_d, q, params, sizes, arrays)\n",
    "\n",
    "    return new_v_c, new_v_d"
   ]
  },
  {
   "cell_type": "markdown",
   "id": "391aa78c",
   "metadata": {},
   "source": [
    "We can now write a function that will use the `Arellano_Economy` class and the\n",
    "functions defined above to compute the solution to our model.\n",
    "\n",
    "One of the jobs of this function is to take an instance of\n",
    "`Arellano_Economy`, which is hard for the JIT compiler to handle, and strip it\n",
    "down to more basic objects, which are then passed out to jitted functions."
   ]
  },
  {
   "cell_type": "code",
   "execution_count": 14,
   "id": "c563e66f",
   "metadata": {
    "hide-output": false
   },
   "outputs": [],
   "source": [
    "def solve(model, tol=1e-8, max_iter=10_000):\n",
    "    \"\"\"\n",
    "    Given an instance of Arellano_Economy, this function computes the optimal\n",
    "    policy and value functions.\n",
    "    \"\"\"\n",
    "    # Unpack\n",
    "    params = model.params()\n",
    "    sizes = model.sizes()\n",
    "    arrays = model.arrays()\n",
    "    B_size, y_size = sizes\n",
    "\n",
    "    # Initial conditions for v_c and v_d\n",
    "    v_c = jnp.zeros((B_size, y_size))\n",
    "    v_d = jnp.zeros((y_size,))\n",
    "\n",
    "    current_iter = 0\n",
    "    error = tol + 1\n",
    "    while (current_iter < max_iter) and (error > tol):\n",
    "        if current_iter % 100 == 0:\n",
    "            print(f\"Entering iteration {current_iter} with error {error}.\")\n",
    "        new_v_c, new_v_d = update_values_and_prices(v_c, v_d, params, sizes, arrays)\n",
    "        error = jnp.max(jnp.abs(new_v_c - v_c)) + jnp.max(jnp.abs(new_v_d - v_d))\n",
    "        v_c, v_d = new_v_c, new_v_d\n",
    "        current_iter += 1\n",
    "\n",
    "    print(f\"Terminating at iteration {current_iter}.\")\n",
    "\n",
    "    q = compute_q(v_c, v_d, params, sizes, arrays)\n",
    "    B_star = get_greedy(v_c, v_d, q, params, sizes, arrays)\n",
    "    return v_c, v_d, q, B_star"
   ]
  },
  {
   "cell_type": "markdown",
   "id": "0eaf765d",
   "metadata": {},
   "source": [
    "Let's try solving the model."
   ]
  },
  {
   "cell_type": "code",
   "execution_count": 15,
   "id": "66d51a0b",
   "metadata": {
    "hide-output": false
   },
   "outputs": [],
   "source": [
    "ae = Arellano_Economy()"
   ]
  },
  {
   "cell_type": "code",
   "execution_count": 16,
   "id": "d1cdcfb9",
   "metadata": {
    "hide-output": false
   },
   "outputs": [
    {
     "name": "stdout",
     "output_type": "stream",
     "text": [
      "Entering iteration 0 with error 1.00000001.\n"
     ]
    },
    {
     "name": "stdout",
     "output_type": "stream",
     "text": [
      "Entering iteration 100 with error 0.017499341639204857.\n",
      "Entering iteration 200 with error 0.00014189363558969603.\n"
     ]
    },
    {
     "name": "stdout",
     "output_type": "stream",
     "text": [
      "Entering iteration 300 with error 1.151467966309383e-06.\n",
      "Terminating at iteration 399.\n"
     ]
    }
   ],
   "source": [
    "v_c, v_d, q, B_star = solve(ae)"
   ]
  },
  {
   "cell_type": "code",
   "execution_count": 17,
   "id": "caf2ffb9",
   "metadata": {
    "hide-output": false
   },
   "outputs": [
    {
     "name": "stdout",
     "output_type": "stream",
     "text": [
      "Entering iteration 0 with error 1.00000001.\n",
      "Entering iteration 100 with error 0.017499341639204857.\n"
     ]
    },
    {
     "name": "stdout",
     "output_type": "stream",
     "text": [
      "Entering iteration 200 with error 0.00014189363558969603.\n",
      "Entering iteration 300 with error 1.151467966309383e-06.\n"
     ]
    },
    {
     "name": "stdout",
     "output_type": "stream",
     "text": [
      "Terminating at iteration 399.\n",
      "CPU times: user 1.27 s, sys: 278 ms, total: 1.55 s\n",
      "Wall time: 632 ms\n"
     ]
    }
   ],
   "source": [
    "%%time\n",
    "v_c, v_d, q, B_star = solve(ae)"
   ]
  },
  {
   "cell_type": "markdown",
   "id": "4bc1ba49",
   "metadata": {},
   "source": [
    "Finally, we write a function that will allow us to simulate the economy once\n",
    "we have the policy functions"
   ]
  },
  {
   "cell_type": "code",
   "execution_count": 18,
   "id": "ea8b0a73",
   "metadata": {
    "hide-output": false
   },
   "outputs": [],
   "source": [
    "def simulate(model, T, v_c, v_d, q, B_star, key):\n",
    "    \"\"\"\n",
    "    Simulates the Arellano 2008 model of sovereign debt\n",
    "\n",
    "    Here `model` is an instance of `Arellano_Economy` and `T` is the length of\n",
    "    the simulation.  Endogenous objects `v_c`, `v_d`, `q` and `B_star` are\n",
    "    assumed to come from a solution to `model`.\n",
    "\n",
    "    \"\"\"\n",
    "    # Unpack elements of the model\n",
    "    B_size, y_size = model.sizes()\n",
    "    B_grid, y_grid, P = model.B_grid, model.y_grid, model.P\n",
    "    B0_idx = jnp.searchsorted(B_grid, 1e-10)  # Index at which B is near zero\n",
    "\n",
    "    # Set initial conditions\n",
    "    y_idx = y_size // 2\n",
    "    B_idx = B0_idx\n",
    "    in_default = False\n",
    "\n",
    "    # Create Markov chain and simulate income process\n",
    "    mc = qe.MarkovChain(P, y_grid)\n",
    "    y_sim_indices = mc.simulate_indices(T+1, init=y_idx)\n",
    "\n",
    "    # Allocate memory for outputs\n",
    "    y_sim = jnp.empty(T)\n",
    "    y_a_sim = jnp.empty(T)\n",
    "    B_sim = jnp.empty(T)\n",
    "    q_sim = jnp.empty(T)\n",
    "    d_sim = jnp.empty(T, dtype=int)\n",
    "\n",
    "    # Perform simulation\n",
    "    t = 0\n",
    "    while t < T:\n",
    "\n",
    "        # Update y_sim and B_sim\n",
    "        y_sim = y_sim.at[t].set(y_grid[y_idx])\n",
    "        B_sim = B_sim.at[t].set(B_grid[B_idx])\n",
    "\n",
    "        # if in default:\n",
    "        if v_c[B_idx, y_idx] < v_d[y_idx] or in_default:\n",
    "            # Update y_a_sim\n",
    "            y_a_sim = y_a_sim.at[t].set(model.def_y[y_idx])\n",
    "            d_sim = d_sim.at[t].set(1)\n",
    "            Bp_idx = B0_idx\n",
    "            # Re-enter financial markets next period with prob θ\n",
    "            # in_default = False if jnp.random.rand() < model.θ else True\n",
    "            in_default = False if random.uniform(key) < model.θ else True\n",
    "            key, _ = random.split(key)  # Update the random key\n",
    "        else:\n",
    "            # Update y_a_sim\n",
    "            y_a_sim = y_a_sim.at[t].set(y_sim[t])\n",
    "            d_sim = d_sim.at[t].set(0)\n",
    "            Bp_idx = B_star[B_idx, y_idx]\n",
    "\n",
    "        q_sim = q_sim.at[t].set(q[Bp_idx, y_idx])\n",
    "\n",
    "        # Update time and indices\n",
    "        t += 1\n",
    "        y_idx = y_sim_indices[t]\n",
    "        B_idx = Bp_idx\n",
    "\n",
    "    return y_sim, y_a_sim, B_sim, q_sim, d_sim"
   ]
  },
  {
   "cell_type": "markdown",
   "id": "d51cde64",
   "metadata": {},
   "source": [
    "## Results\n",
    "\n",
    "Let’s start by trying to replicate the results obtained in {cite}`Are08`.\n",
    "\n",
    "In what follows, all results are computed using Arellano’s parameter values.\n",
    "\n",
    "The values can be seen in the `__init__` method of the `Arellano_Economy`\n",
    "shown above.\n",
    "\n",
    "For example, `r=0.017` matches the average quarterly rate on a 5 year US treasury over the period 1983–2001.\n",
    "\n",
    "Details on how to compute the figures are reported as solutions to the\n",
    "exercises.\n",
    "\n",
    "The first figure shows the bond price schedule and replicates Figure 3 of\n",
    "Arellano, where $ y_L $ and $ Y_H $ are particular below average and above average\n",
    "values of output $ y $.\n",
    "\n",
    "![https://python-advanced.quantecon.org/_static/lecture_specific/arellano/arellano_bond_prices.png](https://python-advanced.quantecon.org/_static/lecture_specific/arellano/arellano_bond_prices.png)\n",
    "\n",
    "\n",
    "- $ y_L $ is 5% below the mean of the $ y $ grid values\n",
    "- $ y_H $ is 5% above  the mean of the $ y $ grid values\n",
    "\n",
    "\n",
    "The grid used to compute this figure was relatively fine (`y_grid_size, B_grid_size = 51, 251`), which explains the minor differences between this and\n",
    "Arrelano’s figure.\n",
    "\n",
    "The figure shows that\n",
    "\n",
    "- Higher levels of debt (larger $ -B' $) induce larger discounts on the face value, which\n",
    "  correspond to higher interest rates.\n",
    "- Lower income also causes more discounting, as foreign creditors anticipate greater likelihood\n",
    "  of default.\n",
    "\n",
    "\n",
    "The next figure plots value functions and replicates the right hand panel of Figure 4 of {cite}`Are08`.\n",
    "\n",
    "![https://python-advanced.quantecon.org/_static/lecture_specific/arellano/arellano_value_funcs.png](https://python-advanced.quantecon.org/_static/lecture_specific/arellano/arellano_value_funcs.png)\n",
    "\n",
    "\n",
    "We can use the results of the computation to study the default probability $ \\delta(B', y) $\n",
    "defined in {eq}`equation13_4`.\n",
    "\n",
    "The next plot shows these default probabilities over $ (B', y) $ as a heat map.\n",
    "\n",
    "![https://python-advanced.quantecon.org/_static/lecture_specific/arellano/arellano_default_probs.png](https://python-advanced.quantecon.org/_static/lecture_specific/arellano/arellano_default_probs.png)\n",
    "\n",
    "\n",
    "As anticipated, the probability that the government chooses to default in the following period\n",
    "increases with indebtedness and falls with income.\n",
    "\n",
    "Next let’s run a time series simulation of $ \\{y_t\\} $, $ \\{B_t\\} $ and $ q(B_{t+1}, y_t) $.\n",
    "\n",
    "The grey vertical bars correspond to periods when the economy is excluded from financial markets because of a past default.\n",
    "\n",
    "![https://python-advanced.quantecon.org/_static/lecture_specific/arellano/arellano_time_series.png](https://python-advanced.quantecon.org/_static/lecture_specific/arellano/arellano_time_series.png)\n",
    "\n",
    "\n",
    "One notable feature of the simulated data is the nonlinear response of interest rates.\n",
    "\n",
    "Periods of relative stability are followed by sharp spikes in the discount rate on government debt."
   ]
  },
  {
   "cell_type": "markdown",
   "id": "ae698097",
   "metadata": {},
   "source": [
    "## Exercises"
   ]
  },
  {
   "cell_type": "markdown",
   "id": "3aeb6665",
   "metadata": {},
   "source": [
    "```{exercise-start}\n",
    ":label: arellano_ex1\n",
    "```\n",
    "\n",
    "To the extent that you can, replicate the figures shown above\n",
    "\n",
    "- Use the parameter values listed as defaults in `Arellano_Economy`.\n",
    "- The time series will of course vary depending on the shock draws.\n",
    "\n",
    "```{exercise-end}\n",
    "```"
   ]
  },
  {
   "cell_type": "markdown",
   "id": "37b66389",
   "metadata": {},
   "source": [
    "```{solution-start} arellano_ex1\n",
    ":class: dropdown\n",
    "```\n",
    "\n",
    "Solution to this [exercise](https://python-advanced.quantecon.org/arellano.html#arella_ex1).\n",
    "\n",
    "Compute the value function, policy and equilibrium prices"
   ]
  },
  {
   "cell_type": "code",
   "execution_count": 19,
   "id": "4f1e23dd",
   "metadata": {
    "hide-output": false
   },
   "outputs": [
    {
     "name": "stdout",
     "output_type": "stream",
     "text": [
      "Entering iteration 0 with error 1.00000001.\n",
      "Entering iteration 100 with error 0.017499341639204857.\n"
     ]
    },
    {
     "name": "stdout",
     "output_type": "stream",
     "text": [
      "Entering iteration 200 with error 0.00014189363558969603.\n",
      "Entering iteration 300 with error 1.151467966309383e-06.\n"
     ]
    },
    {
     "name": "stdout",
     "output_type": "stream",
     "text": [
      "Terminating at iteration 399.\n"
     ]
    }
   ],
   "source": [
    "ae = Arellano_Economy()\n",
    "v_c, v_d, q, B_star = solve(ae)"
   ]
  },
  {
   "cell_type": "markdown",
   "id": "d1f3503c",
   "metadata": {},
   "source": [
    "Compute the bond price schedule as seen in figure 3 of Arellano (2008)"
   ]
  },
  {
   "cell_type": "code",
   "execution_count": 20,
   "id": "6f80a21d",
   "metadata": {
    "hide-output": false
   },
   "outputs": [
    {
     "data": {
      "image/png": "[encoded data removed]",
      "text/plain": [
       "<Figure size 1000x650 with 1 Axes>"
      ]
     },
     "metadata": {},
     "output_type": "display_data"
    }
   ],
   "source": [
    "# Unpack some useful names\n",
    "B_grid, y_grid, P = ae.B_grid, ae.y_grid, ae.P\n",
    "B_size, y_size = ae.sizes()\n",
    "r = ae.r\n",
    "\n",
    "# Create \"Y High\" and \"Y Low\" values as 5% devs from mean\n",
    "high, low = jnp.mean(y_grid) * 1.05, jnp.mean(y_grid) * .95\n",
    "iy_high, iy_low = (jnp.searchsorted(y_grid, x) for x in (high, low))\n",
    "\n",
    "fig, ax = plt.subplots(figsize=(10, 6.5))\n",
    "ax.set_title(\"Bond price schedule $q(y, B')$\")\n",
    "\n",
    "# Extract a suitable plot grid\n",
    "x = []\n",
    "q_low = []\n",
    "q_high = []\n",
    "for i, B in enumerate(B_grid):\n",
    "    if -0.35 <= B <= 0:  # To match fig 3 of Arellano\n",
    "        x.append(B)\n",
    "        q_low.append(q[i, iy_low])\n",
    "        q_high.append(q[i, iy_high])\n",
    "ax.plot(x, q_high, label=\"$y_H$\", lw=2, alpha=0.7)\n",
    "ax.plot(x, q_low, label=\"$y_L$\", lw=2, alpha=0.7)\n",
    "ax.set_xlabel(\"$B'$\")\n",
    "ax.legend(loc='upper left', frameon=False)\n",
    "plt.show()"
   ]
  },
  {
   "cell_type": "markdown",
   "id": "198b4858",
   "metadata": {},
   "source": [
    "Draw a plot of the value functions"
   ]
  },
  {
   "cell_type": "code",
   "execution_count": 21,
   "id": "5518d05c",
   "metadata": {
    "hide-output": false
   },
   "outputs": [
    {
     "data": {
      "image/png": "[encoded data removed]",
      "text/plain": [
       "<Figure size 1000x650 with 1 Axes>"
      ]
     },
     "metadata": {},
     "output_type": "display_data"
    }
   ],
   "source": [
    "v = jnp.maximum(v_c, jnp.reshape(v_d, (1, y_size)))\n",
    "\n",
    "fig, ax = plt.subplots(figsize=(10, 6.5))\n",
    "ax.set_title(\"Value Functions\")\n",
    "ax.plot(B_grid, v[:, iy_high], label=\"$y_H$\", lw=2, alpha=0.7)\n",
    "ax.plot(B_grid, v[:, iy_low], label=\"$y_L$\", lw=2, alpha=0.7)\n",
    "ax.legend(loc='upper left')\n",
    "ax.set(xlabel=\"$B$\", ylabel=\"$v(y, B)$\")\n",
    "ax.set_xlim(min(B_grid), max(B_grid))\n",
    "plt.show()"
   ]
  },
  {
   "cell_type": "markdown",
   "id": "057d5364",
   "metadata": {},
   "source": [
    "Draw a heat map for default probability"
   ]
  },
  {
   "cell_type": "code",
   "execution_count": 22,
   "id": "cfbcb6d0",
   "metadata": {
    "hide-output": false
   },
   "outputs": [
    {
     "data": {
      "image/png": "[encoded data removed]",
      "text/plain": [
       "<Figure size 1000x650 with 2 Axes>"
      ]
     },
     "metadata": {},
     "output_type": "display_data"
    }
   ],
   "source": [
    "# Set up arrays with indices [i_B, i_y, i_yp]\n",
    "shaped_v_d = jnp.reshape(v_d, (1, 1, y_size))\n",
    "shaped_v_c = jnp.reshape(v_c, (B_size, 1, y_size))\n",
    "shaped_P = jnp.reshape(P, (1, y_size, y_size))\n",
    "\n",
    "# Compute delta[i_B, i_y]\n",
    "default_states = 1.0 * (shaped_v_c < shaped_v_d)\n",
    "delta = jnp.sum(default_states * shaped_P, axis=(2,))\n",
    "\n",
    "# Create figure\n",
    "fig, ax = plt.subplots(figsize=(10, 6.5))\n",
    "hm = ax.pcolormesh(B_grid, y_grid, delta.T)\n",
    "cax = fig.add_axes([.92, .1, .02, .8])\n",
    "fig.colorbar(hm, cax=cax)\n",
    "ax.axis([B_grid.min(), 0.05, y_grid.min(), y_grid.max()])\n",
    "ax.set(xlabel=\"$B'$\", ylabel=\"$y$\", title=\"Probability of Default\")\n",
    "plt.show()"
   ]
  },
  {
   "cell_type": "markdown",
   "id": "0c8af0a8",
   "metadata": {},
   "source": [
    "Plot a time series of major variables simulated from the model"
   ]
  },
  {
   "cell_type": "code",
   "execution_count": 23,
   "id": "4d1288c7",
   "metadata": {
    "hide-output": false
   },
   "outputs": [],
   "source": [
    "import jax.random as random\n",
    "T = 250\n",
    "key = random.PRNGKey(42)\n",
    "y_sim, y_a_sim, B_sim, q_sim, d_sim = simulate(ae, T, v_c, v_d, q, B_star, key)\n",
    "\n",
    "# T = 250\n",
    "# jnp.random.seed(42)\n",
    "# y_sim, y_a_sim, B_sim, q_sim, d_sim = simulate(ae, T, v_c, v_d, q, B_star)"
   ]
  },
  {
   "cell_type": "code",
   "execution_count": 24,
   "id": "8e76dba1",
   "metadata": {
    "hide-output": false
   },
   "outputs": [
    {
     "data": {
      "image/png": "[encoded data removed]",
      "text/plain": [
       "<Figure size 1000x1200 with 3 Axes>"
      ]
     },
     "metadata": {},
     "output_type": "display_data"
    }
   ],
   "source": [
    "# Pick up default start and end dates\n",
    "start_end_pairs = []\n",
    "i = 0\n",
    "while i < len(d_sim):\n",
    "    if d_sim[i] == 0:\n",
    "        i += 1\n",
    "    else:\n",
    "        # If we get to here we're in default\n",
    "        start_default = i\n",
    "        while i < len(d_sim) and d_sim[i] == 1:\n",
    "            i += 1\n",
    "        end_default = i - 1\n",
    "        start_end_pairs.append((start_default, end_default))\n",
    "\n",
    "plot_series = (y_sim, B_sim, q_sim)\n",
    "titles = 'output', 'foreign assets', 'bond price'\n",
    "\n",
    "fig, axes = plt.subplots(len(plot_series), 1, figsize=(10, 12))\n",
    "fig.subplots_adjust(hspace=0.3)\n",
    "\n",
    "for ax, series, title in zip(axes, plot_series, titles):\n",
    "    # Determine suitable y limits\n",
    "    s_max, s_min = max(series), min(series)\n",
    "    s_range = s_max - s_min\n",
    "    y_max = s_max + s_range * 0.1\n",
    "    y_min = s_min - s_range * 0.1\n",
    "    ax.set_ylim(y_min, y_max)\n",
    "    for pair in start_end_pairs:\n",
    "        ax.fill_between(pair, (y_min, y_min), (y_max, y_max),\n",
    "                        color='k', alpha=0.3)\n",
    "    ax.grid()\n",
    "    ax.plot(range(T), series, lw=2, alpha=0.7)\n",
    "    ax.set(title=title, xlabel=\"time\")\n",
    "\n",
    "plt.show()"
   ]
  },
  {
   "cell_type": "markdown",
   "id": "cfa0699b",
   "metadata": {},
   "source": [
    "```{solution-end}\n",
    "```"
   ]
  }
 ],
 "metadata": {
  "jupytext": {
   "text_representation": {
    "extension": ".md",
    "format_name": "myst",
    "format_version": 0.13,
    "jupytext_version": "1.14.5"
   }
  },
  "kernelspec": {
   "display_name": "Python 3 (ipykernel)",
   "language": "python",
   "name": "python3"
  },
  "language_info": {
   "codemirror_mode": {
    "name": "ipython",
    "version": 3
   },
   "file_extension": ".py",
   "mimetype": "text/x-python",
   "name": "python",
   "nbconvert_exporter": "python",
   "pygments_lexer": "ipython3",
   "version": "3.10.9"
  },
  "source_map": [
   12,
   21,
   25,
   71,
   80,
   84,
   86,
   90,
   92,
   98,
   134,
   170,
   196,
   218,
   225,
   309,
   330,
   371,
   417,
   421,
   427,
   432,
   460,
   464,
   487,
   525,
   531,
   535,
   539,
   545,
   549,
   559,
   568,
   601,
   605,
   611,
   617,
   622,
   627,
   692,
   757,
   761,
   775,
   785,
   790,
   794,
   823,
   827,
   840,
   844,
   864,
   868,
   881,
   919
  ]
 },
 "nbformat": 4,
 "nbformat_minor": 5
}