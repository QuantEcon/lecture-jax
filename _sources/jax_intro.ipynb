{
 "cells": [
  {
   "cell_type": "markdown",
   "id": "8fbb9319",
   "metadata": {},
   "source": [
    "# An Introduction to JAX\n",
    "\n",
    "\n",
    "```{include} _admonition/gpu.md\n",
    "```\n",
    "\n",
    "This lecture provides a short introduction to [Google JAX](https://github.com/google/jax).\n",
    "\n",
    "As mentioned above, the lecture was built using a GPU:"
   ]
  },
  {
   "cell_type": "code",
   "execution_count": null,
   "id": "d70ee754",
   "metadata": {},
   "outputs": [],
   "source": [
    "!nvidia-smi"
   ]
  },
  {
   "cell_type": "markdown",
   "id": "bfb9f5b5",
   "metadata": {},
   "source": [
    "## JAX as a NumPy Replacement\n",
    "\n",
    "\n",
    "One way to use JAX is as a plug-in NumPy replacement. Let's look at the\n",
    "similarities and differences.\n",
    "\n",
    "### Similarities\n",
    "\n",
    "\n",
    "The following import is standard, replacing `import numpy as np`:"
   ]
  },
  {
   "cell_type": "code",
   "execution_count": null,
   "id": "711440bd",
   "metadata": {},
   "outputs": [],
   "source": [
    "import jax\n",
    "import jax.numpy as jnp"
   ]
  },
  {
   "cell_type": "markdown",
   "id": "42b27cd4",
   "metadata": {},
   "source": [
    "Now we can use `jnp` in place of `np` for the usual array operations:"
   ]
  },
  {
   "cell_type": "code",
   "execution_count": null,
   "id": "0a7e32dd",
   "metadata": {},
   "outputs": [],
   "source": [
    "a = jnp.asarray((1.0, 3.2, -1.5))"
   ]
  },
  {
   "cell_type": "code",
   "execution_count": null,
   "id": "3ad9d0e6",
   "metadata": {},
   "outputs": [],
   "source": [
    "print(a)"
   ]
  },
  {
   "cell_type": "code",
   "execution_count": null,
   "id": "fdc2665c",
   "metadata": {},
   "outputs": [],
   "source": [
    "print(jnp.sum(a))"
   ]
  },
  {
   "cell_type": "code",
   "execution_count": null,
   "id": "a1e7e399",
   "metadata": {},
   "outputs": [],
   "source": [
    "print(jnp.mean(a))"
   ]
  },
  {
   "cell_type": "code",
   "execution_count": null,
   "id": "453c70fc",
   "metadata": {},
   "outputs": [],
   "source": [
    "print(jnp.dot(a, a))"
   ]
  },
  {
   "cell_type": "markdown",
   "id": "6eb08a52",
   "metadata": {},
   "source": [
    "However, the array object `a` is not a NumPy array:"
   ]
  },
  {
   "cell_type": "code",
   "execution_count": null,
   "id": "715fd5ab",
   "metadata": {},
   "outputs": [],
   "source": [
    "a"
   ]
  },
  {
   "cell_type": "code",
   "execution_count": null,
   "id": "734291f4",
   "metadata": {},
   "outputs": [],
   "source": [
    "type(a)"
   ]
  },
  {
   "cell_type": "markdown",
   "id": "c7de109a",
   "metadata": {},
   "source": [
    "Even scalar-valued maps on arrays return JAX arrays."
   ]
  },
  {
   "cell_type": "code",
   "execution_count": null,
   "id": "e04baf4a",
   "metadata": {},
   "outputs": [],
   "source": [
    "jnp.sum(a)"
   ]
  },
  {
   "cell_type": "markdown",
   "id": "9c2166fe",
   "metadata": {},
   "source": [
    "JAX arrays are also called \"device arrays,\" where term \"device\" refers to a\n",
    "hardware accelerator (GPU or TPU).\n",
    "\n",
    "(In the terminology of GPUs, the \"host\" is the machine that launches GPU operations, while the \"device\" is the GPU itself.)\n",
    "\n",
    "\n",
    "\n",
    "Operations on higher dimensional arrays are also similar to NumPy:"
   ]
  },
  {
   "cell_type": "code",
   "execution_count": null,
   "id": "44be9e1c",
   "metadata": {},
   "outputs": [],
   "source": [
    "A = jnp.ones((2, 2))\n",
    "B = jnp.identity(2)\n",
    "A @ B"
   ]
  },
  {
   "cell_type": "code",
   "execution_count": null,
   "id": "9ee6fc1e",
   "metadata": {},
   "outputs": [],
   "source": [
    "from jax.numpy import linalg"
   ]
  },
  {
   "cell_type": "code",
   "execution_count": null,
   "id": "5c4256e4",
   "metadata": {},
   "outputs": [],
   "source": [
    "linalg.inv(B)   # Inverse of identity is identity"
   ]
  },
  {
   "cell_type": "code",
   "execution_count": null,
   "id": "e367a3a3",
   "metadata": {},
   "outputs": [],
   "source": [
    "linalg.eigh(B)  # Computes eigenvalues and eigenvectors"
   ]
  },
  {
   "cell_type": "markdown",
   "id": "1808493c",
   "metadata": {},
   "source": [
    "### Differences\n",
    "\n",
    "\n",
    "One difference between NumPy and JAX is that JAX currently uses 32 bit floats by default.  \n",
    "\n",
    "This is standard for GPU computing and can lead to significant speed gains with small loss of precision.\n",
    "\n",
    "However, for some calculations precision matters.  In these cases 64 bit floats can be enforced via the command"
   ]
  },
  {
   "cell_type": "code",
   "execution_count": null,
   "id": "1af180fa",
   "metadata": {},
   "outputs": [],
   "source": [
    "jax.config.update(\"jax_enable_x64\", True)"
   ]
  },
  {
   "cell_type": "markdown",
   "id": "a5aa9714",
   "metadata": {},
   "source": [
    "Let's check this works:"
   ]
  },
  {
   "cell_type": "code",
   "execution_count": null,
   "id": "a3cb9d32",
   "metadata": {},
   "outputs": [],
   "source": [
    "jnp.ones(3)"
   ]
  },
  {
   "cell_type": "markdown",
   "id": "ba747ba9",
   "metadata": {},
   "source": [
    "As a NumPy replacement, a more significant difference is that arrays are treated as **immutable**.  \n",
    "\n",
    "For example, with NumPy we can write"
   ]
  },
  {
   "cell_type": "code",
   "execution_count": null,
   "id": "46be4422",
   "metadata": {},
   "outputs": [],
   "source": [
    "import numpy as np\n",
    "a = np.linspace(0, 1, 3)\n",
    "a"
   ]
  },
  {
   "cell_type": "markdown",
   "id": "3544b95a",
   "metadata": {},
   "source": [
    "and then mutate the data in memory:"
   ]
  },
  {
   "cell_type": "code",
   "execution_count": null,
   "id": "a4135994",
   "metadata": {},
   "outputs": [],
   "source": [
    "a[0] = 1\n",
    "a"
   ]
  },
  {
   "cell_type": "markdown",
   "id": "fb81d564",
   "metadata": {},
   "source": [
    "In JAX this fails:"
   ]
  },
  {
   "cell_type": "code",
   "execution_count": null,
   "id": "9648a5b6",
   "metadata": {},
   "outputs": [],
   "source": [
    "a = jnp.linspace(0, 1, 3)\n",
    "a"
   ]
  },
  {
   "cell_type": "code",
   "execution_count": null,
   "id": "8db2c74f",
   "metadata": {
    "tags": [
     "raises-exception"
    ]
   },
   "outputs": [],
   "source": [
    "a[0] = 1"
   ]
  },
  {
   "cell_type": "markdown",
   "id": "3849e9eb",
   "metadata": {},
   "source": [
    "In line with immutability, JAX does not support inplace operations:"
   ]
  },
  {
   "cell_type": "code",
   "execution_count": null,
   "id": "4ee2eed6",
   "metadata": {},
   "outputs": [],
   "source": [
    "a = np.array((2, 1))\n",
    "a.sort()\n",
    "a"
   ]
  },
  {
   "cell_type": "code",
   "execution_count": null,
   "id": "76b49248",
   "metadata": {},
   "outputs": [],
   "source": [
    "a = jnp.array((2, 1))\n",
    "a_new = a.sort()\n",
    "a, a_new"
   ]
  },
  {
   "cell_type": "markdown",
   "id": "8c96ddc7",
   "metadata": {},
   "source": [
    "The designers of JAX chose to make arrays immutable because JAX uses a\n",
    "functional programming style.  More on this below.  \n",
    "\n",
    "Note that, while mutation is discouraged, it is in fact possible with `at`, as in"
   ]
  },
  {
   "cell_type": "code",
   "execution_count": null,
   "id": "03e67bc1",
   "metadata": {},
   "outputs": [],
   "source": [
    "a = jnp.linspace(0, 1, 3)\n",
    "id(a)"
   ]
  },
  {
   "cell_type": "code",
   "execution_count": null,
   "id": "6fec5b6b",
   "metadata": {},
   "outputs": [],
   "source": [
    "a"
   ]
  },
  {
   "cell_type": "code",
   "execution_count": null,
   "id": "1bfdf9ba",
   "metadata": {},
   "outputs": [],
   "source": [
    "a.at[0].set(1)"
   ]
  },
  {
   "cell_type": "markdown",
   "id": "38f2981a",
   "metadata": {},
   "source": [
    "We can check that the array is mutated by verifying its identity is unchanged:"
   ]
  },
  {
   "cell_type": "code",
   "execution_count": null,
   "id": "074d9649",
   "metadata": {},
   "outputs": [],
   "source": [
    "id(a)"
   ]
  },
  {
   "cell_type": "markdown",
   "id": "65fb66f7",
   "metadata": {},
   "source": [
    "## Random Numbers\n",
    "\n",
    "Random numbers are also a bit different in JAX, relative to NumPy.  Typically, in JAX, the state of the random number generator needs to be controlled explicitly."
   ]
  },
  {
   "cell_type": "code",
   "execution_count": null,
   "id": "f9f18285",
   "metadata": {},
   "outputs": [],
   "source": [
    "import jax.random as random"
   ]
  },
  {
   "cell_type": "markdown",
   "id": "20e02b0b",
   "metadata": {},
   "source": [
    "First we produce a key, which seeds the random number generator."
   ]
  },
  {
   "cell_type": "code",
   "execution_count": null,
   "id": "a81cf781",
   "metadata": {},
   "outputs": [],
   "source": [
    "key = random.PRNGKey(1)"
   ]
  },
  {
   "cell_type": "code",
   "execution_count": null,
   "id": "63577662",
   "metadata": {},
   "outputs": [],
   "source": [
    "type(key)"
   ]
  },
  {
   "cell_type": "code",
   "execution_count": null,
   "id": "5c91668d",
   "metadata": {},
   "outputs": [],
   "source": [
    "print(key)"
   ]
  },
  {
   "cell_type": "markdown",
   "id": "e9fd8142",
   "metadata": {},
   "source": [
    "Now we can use the key to generate some random numbers:"
   ]
  },
  {
   "cell_type": "code",
   "execution_count": null,
   "id": "43fa1201",
   "metadata": {},
   "outputs": [],
   "source": [
    "x = random.normal(key, (3, 3))\n",
    "x"
   ]
  },
  {
   "cell_type": "markdown",
   "id": "ddadc88e",
   "metadata": {},
   "source": [
    "If we use the same key again, we initialize at the same seed, so the random numbers are the same:"
   ]
  },
  {
   "cell_type": "code",
   "execution_count": null,
   "id": "439bb954",
   "metadata": {},
   "outputs": [],
   "source": [
    "random.normal(key, (3, 3))"
   ]
  },
  {
   "cell_type": "markdown",
   "id": "60a82405",
   "metadata": {},
   "source": [
    "To produce a (quasi-) independent draw, best practice is to \"split\" the existing key:"
   ]
  },
  {
   "cell_type": "code",
   "execution_count": null,
   "id": "fb28f6f2",
   "metadata": {},
   "outputs": [],
   "source": [
    "key, subkey = random.split(key)"
   ]
  },
  {
   "cell_type": "code",
   "execution_count": null,
   "id": "8c19aa2c",
   "metadata": {},
   "outputs": [],
   "source": [
    "random.normal(key, (3, 3))"
   ]
  },
  {
   "cell_type": "code",
   "execution_count": null,
   "id": "3bafed89",
   "metadata": {},
   "outputs": [],
   "source": [
    "random.normal(subkey, (3, 3))"
   ]
  },
  {
   "cell_type": "markdown",
   "id": "7de3f47e",
   "metadata": {},
   "source": [
    "The function below produces `k` (quasi-) independent random `n x n` matrices using this procedure."
   ]
  },
  {
   "cell_type": "code",
   "execution_count": null,
   "id": "975ca18d",
   "metadata": {},
   "outputs": [],
   "source": [
    "def gen_random_matrices(key, n, k):\n",
    "    matrices = []\n",
    "    for _ in range(k):\n",
    "        key, subkey = random.split(key)\n",
    "        matrices.append(random.uniform(subkey, (n, n)))\n",
    "    return matrices"
   ]
  },
  {
   "cell_type": "code",
   "execution_count": null,
   "id": "9de5571b",
   "metadata": {},
   "outputs": [],
   "source": [
    "matrices = gen_random_matrices(key, 2, 2)\n",
    "for A in matrices:\n",
    "    print(A)"
   ]
  },
  {
   "cell_type": "markdown",
   "id": "162ac186",
   "metadata": {},
   "source": [
    "One point to remember is that JAX expects tuples to describe array shapes, even for flat arrays.  Hence, to get a one-dimensional array of normal random draws we use `(len, )` for the shape, as in"
   ]
  },
  {
   "cell_type": "code",
   "execution_count": null,
   "id": "10c5f2a7",
   "metadata": {},
   "outputs": [],
   "source": [
    "random.normal(key, (5, ))"
   ]
  },
  {
   "cell_type": "markdown",
   "id": "5768923f",
   "metadata": {},
   "source": [
    "## JIT compilation\n",
    "\n",
    "The JAX just-in-time (JIT) compiler accelerates logic within functions by fusing linear\n",
    "algebra operations into a single optimized kernel that the host can\n",
    "launch on the GPU / TPU (or CPU if no accelerator is detected).\n",
    "\n",
    "### A first example\n",
    "\n",
    "To see the JIT compiler in action, consider the following function."
   ]
  },
  {
   "cell_type": "code",
   "execution_count": null,
   "id": "f193dba4",
   "metadata": {},
   "outputs": [],
   "source": [
    "def f(x):\n",
    "    a = 3*x + jnp.sin(x) + jnp.cos(x**2) - jnp.cos(2*x) - x**2 * 0.4 * x**1.5\n",
    "    return jnp.sum(a)"
   ]
  },
  {
   "cell_type": "markdown",
   "id": "f7e20a4f",
   "metadata": {},
   "source": [
    "Let's build an array to call the function on."
   ]
  },
  {
   "cell_type": "code",
   "execution_count": null,
   "id": "127b7cb0",
   "metadata": {},
   "outputs": [],
   "source": [
    "n = 50_000_000\n",
    "x = jnp.ones(n)"
   ]
  },
  {
   "cell_type": "markdown",
   "id": "6e70a649",
   "metadata": {},
   "source": [
    "How long does the function take to execute?"
   ]
  },
  {
   "cell_type": "code",
   "execution_count": null,
   "id": "756aff2d",
   "metadata": {},
   "outputs": [],
   "source": [
    "%time f(x).block_until_ready()"
   ]
  },
  {
   "cell_type": "markdown",
   "id": "e5458930",
   "metadata": {},
   "source": [
    "```{note}\n",
    "Here, in order to measure actual speed, we use the `block_until_ready()` method \n",
    "to hold the interpreter until the results of the computation are returned from\n",
    "the device. This is necessary because JAX uses asynchronous dispatch, which\n",
    "allows the Python interpreter to run ahead of GPU computations.\n",
    "\n",
    "```\n",
    "\n",
    "The code doesn't run as fast as we might hope, given that it's running on a GPU.\n",
    "\n",
    "But if we run it a second time it becomes much faster:"
   ]
  },
  {
   "cell_type": "code",
   "execution_count": null,
   "id": "045509f2",
   "metadata": {},
   "outputs": [],
   "source": [
    "%time f(x).block_until_ready()"
   ]
  },
  {
   "cell_type": "markdown",
   "id": "ef325745",
   "metadata": {},
   "source": [
    "This is because the built in functions like `jnp.cos` are JIT compiled and the\n",
    "first run includes compile time.\n",
    "\n",
    "Why would JAX want to JIT-compile built in functions like `jnp.cos` instead of\n",
    "just providing pre-compiled versions, like NumPy?\n",
    "\n",
    "The reason is that the JIT compiler can specialize on the *size* of the array\n",
    "being used, which is helpful for parallelization.\n",
    "\n",
    "For example, in running the code above, the JIT compiler produced a version of `jnp.cos` that is\n",
    "specialized to floating point arrays of size `n = 50_000_000`.\n",
    "\n",
    "We can check this by calling `f` with a new array of different size."
   ]
  },
  {
   "cell_type": "code",
   "execution_count": null,
   "id": "cb538328",
   "metadata": {},
   "outputs": [],
   "source": [
    "m = 50_000_001\n",
    "y = jnp.ones(m)"
   ]
  },
  {
   "cell_type": "code",
   "execution_count": null,
   "id": "540d0a1c",
   "metadata": {},
   "outputs": [],
   "source": [
    "%time f(y).block_until_ready()"
   ]
  },
  {
   "cell_type": "markdown",
   "id": "44d3872b",
   "metadata": {},
   "source": [
    "Notice that the execution time increases, because now new versions of \n",
    "the built-ins like `jnp.cos` are being compiled, specialized to the new array\n",
    "size.\n",
    "\n",
    "If we run again, the code is dispatched to the correct compiled version and we\n",
    "get faster execution."
   ]
  },
  {
   "cell_type": "code",
   "execution_count": null,
   "id": "859929c6",
   "metadata": {},
   "outputs": [],
   "source": [
    "%time f(y).block_until_ready()"
   ]
  },
  {
   "cell_type": "markdown",
   "id": "18c6ba47",
   "metadata": {},
   "source": [
    "The compiled versions for the previous array size are still available in memory\n",
    "too, and the following call is dispatched to the correct compiled code."
   ]
  },
  {
   "cell_type": "code",
   "execution_count": null,
   "id": "62bca49c",
   "metadata": {},
   "outputs": [],
   "source": [
    "%time f(x).block_until_ready()"
   ]
  },
  {
   "cell_type": "markdown",
   "id": "2c610bb2",
   "metadata": {},
   "source": [
    "### Compiling the outer function\n",
    "\n",
    "We can do even better if we manually JIT-compile the outer function."
   ]
  },
  {
   "cell_type": "code",
   "execution_count": null,
   "id": "2d4d66f2",
   "metadata": {},
   "outputs": [],
   "source": [
    "f_jit = jax.jit(f)   # target for JIT compilation"
   ]
  },
  {
   "cell_type": "markdown",
   "id": "689f24b3",
   "metadata": {},
   "source": [
    "Let's run once to compile it:"
   ]
  },
  {
   "cell_type": "code",
   "execution_count": null,
   "id": "e6d391bb",
   "metadata": {},
   "outputs": [],
   "source": [
    "f_jit(x)"
   ]
  },
  {
   "cell_type": "markdown",
   "id": "8efa9e9f",
   "metadata": {},
   "source": [
    "And now let's time it."
   ]
  },
  {
   "cell_type": "code",
   "execution_count": null,
   "id": "9e9073d3",
   "metadata": {},
   "outputs": [],
   "source": [
    "%time f_jit(x).block_until_ready()"
   ]
  },
  {
   "cell_type": "markdown",
   "id": "77274078",
   "metadata": {},
   "source": [
    "Note the speed gain.\n",
    "\n",
    "This is because the array operations are fused and no intermediate arrays are created.\n",
    "\n",
    "\n",
    "Incidentally, a more common syntax when targetting a function for the JIT\n",
    "compiler is"
   ]
  },
  {
   "cell_type": "code",
   "execution_count": null,
   "id": "f9fce1b3",
   "metadata": {},
   "outputs": [],
   "source": [
    "@jax.jit\n",
    "def f(x):\n",
    "    a = 3*x + jnp.sin(x) + jnp.cos(x**2) - jnp.cos(2*x) - x**2 * 0.4 * x**1.5\n",
    "    return jnp.sum(a)"
   ]
  },
  {
   "cell_type": "markdown",
   "id": "1650dcf3",
   "metadata": {},
   "source": [
    "## Functional Programming\n",
    "\n",
    "From JAX's documentation:\n",
    "\n",
    "*When walking about the countryside of Italy, the people will not hesitate to tell you that JAX has “una anima di pura programmazione funzionale”.*\n",
    "\n",
    "\n",
    "In other words, JAX assumes a functional programming style.\n",
    "\n",
    "The major implication is that JAX functions should be pure.\n",
    "    \n",
    "A pure function will always return the same result if invoked with the same inputs.\n",
    "\n",
    "In particular, a pure function has\n",
    "\n",
    "* no dependence on global variables and\n",
    "* no side effects\n",
    "\n",
    "\n",
    "JAX will not usually throw errors when compiling impure functions but execution becomes unpredictable.\n",
    "\n",
    "Here's an illustration of this fact, using global variables:"
   ]
  },
  {
   "cell_type": "code",
   "execution_count": null,
   "id": "927eab64",
   "metadata": {},
   "outputs": [],
   "source": [
    "a = 1  # global\n",
    "\n",
    "@jax.jit\n",
    "def f(x):\n",
    "    return a + x"
   ]
  },
  {
   "cell_type": "code",
   "execution_count": null,
   "id": "b3bab922",
   "metadata": {},
   "outputs": [],
   "source": [
    "x = jnp.ones(2)"
   ]
  },
  {
   "cell_type": "code",
   "execution_count": null,
   "id": "ea1a2d7f",
   "metadata": {},
   "outputs": [],
   "source": [
    "f(x)"
   ]
  },
  {
   "cell_type": "markdown",
   "id": "427c6481",
   "metadata": {},
   "source": [
    "In the code above, the global value `a=1` is fused into the jitted function.\n",
    "\n",
    "Even if we change `a`, the output of `f` will not be affected --- as long as the same compiled version is called."
   ]
  },
  {
   "cell_type": "code",
   "execution_count": null,
   "id": "8c5a8db9",
   "metadata": {},
   "outputs": [],
   "source": [
    "a = 42"
   ]
  },
  {
   "cell_type": "code",
   "execution_count": null,
   "id": "7a73f3d2",
   "metadata": {},
   "outputs": [],
   "source": [
    "f(x)"
   ]
  },
  {
   "cell_type": "markdown",
   "id": "2a5c48ad",
   "metadata": {},
   "source": [
    "Changing the dimension of the input triggers a fresh compilation of the function, at which time the change in the value of `a` takes effect:"
   ]
  },
  {
   "cell_type": "code",
   "execution_count": null,
   "id": "981ab789",
   "metadata": {},
   "outputs": [],
   "source": [
    "x = jnp.ones(3)"
   ]
  },
  {
   "cell_type": "code",
   "execution_count": null,
   "id": "633cf659",
   "metadata": {},
   "outputs": [],
   "source": [
    "f(x)"
   ]
  },
  {
   "cell_type": "markdown",
   "id": "f2b99333",
   "metadata": {},
   "source": [
    "Moral of the story: write pure functions when using JAX!\n",
    "\n",
    "\n",
    "## Gradients\n",
    "\n",
    "JAX can use automatic differentiation to compute gradients.\n",
    "\n",
    "This can be extremely useful for optimization and solving nonlinear systems.\n",
    "\n",
    "We will see significant applications later in this lecture series.\n",
    "\n",
    "For now, here's a very simple illustration involving the function"
   ]
  },
  {
   "cell_type": "code",
   "execution_count": null,
   "id": "302abd01",
   "metadata": {},
   "outputs": [],
   "source": [
    "def f(x):\n",
    "    return (x**2) / 2"
   ]
  },
  {
   "cell_type": "markdown",
   "id": "4cd1d2db",
   "metadata": {},
   "source": [
    "Let's take the derivative:"
   ]
  },
  {
   "cell_type": "code",
   "execution_count": null,
   "id": "4806fb6a",
   "metadata": {},
   "outputs": [],
   "source": [
    "f_prime = jax.grad(f)"
   ]
  },
  {
   "cell_type": "code",
   "execution_count": null,
   "id": "93fe9d89",
   "metadata": {},
   "outputs": [],
   "source": [
    "f_prime(10.0)"
   ]
  },
  {
   "cell_type": "markdown",
   "id": "a3ba6db0",
   "metadata": {},
   "source": [
    "Let's plot the function and derivative, noting that $f'(x) = x$."
   ]
  },
  {
   "cell_type": "code",
   "execution_count": null,
   "id": "5767c8fa",
   "metadata": {},
   "outputs": [],
   "source": [
    "import matplotlib.pyplot as plt\n",
    "\n",
    "fig, ax = plt.subplots()\n",
    "x_grid = jnp.linspace(-4, 4, 200)\n",
    "ax.plot(x_grid, f(x_grid), label=\"$f$\")\n",
    "ax.plot(x_grid, [f_prime(x) for x in x_grid], label=\"$f'$\")\n",
    "ax.legend(loc='upper center')\n",
    "plt.show()"
   ]
  },
  {
   "cell_type": "markdown",
   "id": "461fecca",
   "metadata": {},
   "source": [
    "## Writing vectorized code\n",
    "\n",
    "Writing fast JAX code requires shifting repetitive tasks from loops to array processing operations, so that the JAX compiler can easily understand the whole operation and generate more efficient machine code.\n",
    "\n",
    "This procedure is called **vectorization** or **array programming**, and will be familiar to anyone who has used NumPy or MATLAB.\n",
    "\n",
    "In most ways, vectorization is the same in JAX as it is in NumPy.\n",
    "\n",
    "But there are also some differences, which we highlight here.\n",
    "\n",
    "As a running example, consider the function\n",
    "\n",
    "$$\n",
    "    f(x,y) = \\frac{\\cos(x^2 + y^2)}{1 + x^2 + y^2}\n",
    "$$\n",
    "\n",
    "Suppose that we want to evaluate this function on a square grid of $x$ and $y$ points and then plot it.\n",
    "\n",
    "To clarify, here is the slow `for` loop version."
   ]
  },
  {
   "cell_type": "code",
   "execution_count": null,
   "id": "66aff3dd",
   "metadata": {},
   "outputs": [],
   "source": [
    "@jax.jit\n",
    "def f(x, y):\n",
    "    return jnp.cos(x**2 + y**2) / (1 + x**2 + y**2)\n",
    "\n",
    "n = 80\n",
    "x = jnp.linspace(-2, 2, n)\n",
    "y = x\n",
    "\n",
    "z_loops = np.empty((n, n))"
   ]
  },
  {
   "cell_type": "code",
   "execution_count": null,
   "id": "59aa3422",
   "metadata": {},
   "outputs": [],
   "source": [
    "%%time\n",
    "for i in range(n):\n",
    "    for j in range(n):\n",
    "        z_loops[i, j] = f(x[i], y[j])"
   ]
  },
  {
   "cell_type": "markdown",
   "id": "0a52a057",
   "metadata": {},
   "source": [
    "Even for this very small grid, the run time is extremely slow.\n",
    "\n",
    "(Notice that we used a NumPy array for `z_loops` because we wanted to write to it.)"
   ]
  },
  {
   "cell_type": "markdown",
   "id": "31ad121f",
   "metadata": {},
   "source": [
    "OK, so how can we do the same operation in vectorized form?\n",
    "\n",
    "If you are new to vectorization, you might guess that we can simply write"
   ]
  },
  {
   "cell_type": "code",
   "execution_count": null,
   "id": "f241aec0",
   "metadata": {},
   "outputs": [],
   "source": [
    "z_bad = f(x, y)"
   ]
  },
  {
   "cell_type": "markdown",
   "id": "1dcc500b",
   "metadata": {},
   "source": [
    "But this gives us the wrong result because JAX doesn't understand the nested for loop."
   ]
  },
  {
   "cell_type": "code",
   "execution_count": null,
   "id": "194a385b",
   "metadata": {},
   "outputs": [],
   "source": [
    "z_bad.shape"
   ]
  },
  {
   "cell_type": "markdown",
   "id": "8d021247",
   "metadata": {},
   "source": [
    "Here is what we actually wanted:"
   ]
  },
  {
   "cell_type": "code",
   "execution_count": null,
   "id": "ec6e87ce",
   "metadata": {},
   "outputs": [],
   "source": [
    "z_loops.shape"
   ]
  },
  {
   "cell_type": "markdown",
   "id": "639c3728",
   "metadata": {},
   "source": [
    "To get the right shape and the correct nested for loop calculation, we can use a `meshgrid` operation designed for this purpose:"
   ]
  },
  {
   "cell_type": "code",
   "execution_count": null,
   "id": "e86ff1a3",
   "metadata": {},
   "outputs": [],
   "source": [
    "x_mesh, y_mesh = jnp.meshgrid(x, y)"
   ]
  },
  {
   "cell_type": "markdown",
   "id": "d3970db9",
   "metadata": {},
   "source": [
    "Now we get what we want and the execution time is very fast."
   ]
  },
  {
   "cell_type": "code",
   "execution_count": null,
   "id": "7b6f9526",
   "metadata": {},
   "outputs": [],
   "source": [
    "%%time\n",
    "z_mesh = f(x_mesh, y_mesh).block_until_ready()"
   ]
  },
  {
   "cell_type": "markdown",
   "id": "4d162357",
   "metadata": {},
   "source": [
    "Let's run again to eliminate compile time."
   ]
  },
  {
   "cell_type": "code",
   "execution_count": null,
   "id": "cd78005e",
   "metadata": {},
   "outputs": [],
   "source": [
    "%%time\n",
    "z_mesh = f(x_mesh, y_mesh).block_until_ready()"
   ]
  },
  {
   "cell_type": "markdown",
   "id": "8c876c03",
   "metadata": {},
   "source": [
    "Let's confirm that we got the right answer."
   ]
  },
  {
   "cell_type": "code",
   "execution_count": null,
   "id": "7afe8239",
   "metadata": {},
   "outputs": [],
   "source": [
    "jnp.allclose(z_mesh, z_loops)"
   ]
  },
  {
   "cell_type": "markdown",
   "id": "3e0b9567",
   "metadata": {},
   "source": [
    "Now we can set up a serious grid and run the same calculation (on the larger grid) in a short amount of time."
   ]
  },
  {
   "cell_type": "code",
   "execution_count": null,
   "id": "ea05f01d",
   "metadata": {},
   "outputs": [],
   "source": [
    "n = 6000\n",
    "x = jnp.linspace(-2, 2, n)\n",
    "y = x\n",
    "x_mesh, y_mesh = jnp.meshgrid(x, y)"
   ]
  },
  {
   "cell_type": "code",
   "execution_count": null,
   "id": "d2041c37",
   "metadata": {},
   "outputs": [],
   "source": [
    "%%time\n",
    "z_mesh = f(x_mesh, y_mesh).block_until_ready()"
   ]
  },
  {
   "cell_type": "markdown",
   "id": "d38f4a67",
   "metadata": {},
   "source": [
    "Let's run again to get rid of compile time."
   ]
  },
  {
   "cell_type": "code",
   "execution_count": null,
   "id": "7d6f96e3",
   "metadata": {},
   "outputs": [],
   "source": [
    "%%time\n",
    "z_mesh = f(x_mesh, y_mesh).block_until_ready()"
   ]
  },
  {
   "cell_type": "markdown",
   "id": "2538b489",
   "metadata": {},
   "source": [
    "But there is one problem here: the mesh grids use a lot of memory."
   ]
  },
  {
   "cell_type": "code",
   "execution_count": null,
   "id": "7fecd273",
   "metadata": {},
   "outputs": [],
   "source": [
    "x_mesh.nbytes + y_mesh.nbytes"
   ]
  },
  {
   "cell_type": "markdown",
   "id": "7b87cfc7",
   "metadata": {},
   "source": [
    "By comparison, the flat array `x` is just"
   ]
  },
  {
   "cell_type": "code",
   "execution_count": null,
   "id": "7f145b10",
   "metadata": {},
   "outputs": [],
   "source": [
    "x.nbytes  # and y is just a pointer to x"
   ]
  },
  {
   "cell_type": "markdown",
   "id": "a38a483d",
   "metadata": {},
   "source": [
    "This extra memory usage can be a big problem in actual research calculations.\n",
    "\n",
    "So let's try a different approach using [jax.vmap](https://jax.readthedocs.io/en/latest/_autosummary/jax.vmap.html)"
   ]
  },
  {
   "cell_type": "markdown",
   "id": "8964e91c",
   "metadata": {},
   "source": [
    "First we vectorize `f` in `y`."
   ]
  },
  {
   "cell_type": "code",
   "execution_count": null,
   "id": "a2425790",
   "metadata": {},
   "outputs": [],
   "source": [
    "f_vec_y = jax.vmap(f, in_axes=(None, 0))  "
   ]
  },
  {
   "cell_type": "markdown",
   "id": "84cff990",
   "metadata": {},
   "source": [
    "In the line above, `(None, 0)` indicates that we are vectorizing in the second argument, which is `y`.\n",
    "\n",
    "Next, we vectorize in the first argument, which is `x`."
   ]
  },
  {
   "cell_type": "code",
   "execution_count": null,
   "id": "a13b7c9d",
   "metadata": {},
   "outputs": [],
   "source": [
    "f_vec = jax.vmap(f_vec_y, in_axes=(0, None))"
   ]
  },
  {
   "cell_type": "markdown",
   "id": "dbcabeb2",
   "metadata": {},
   "source": [
    "With this construction, we can now call the function $f$ on flat (low memory) arrays."
   ]
  },
  {
   "cell_type": "code",
   "execution_count": null,
   "id": "004986ca",
   "metadata": {},
   "outputs": [],
   "source": [
    "%%time\n",
    "z_vmap = f_vec(x, y).block_until_ready()"
   ]
  },
  {
   "cell_type": "markdown",
   "id": "c2c92891",
   "metadata": {},
   "source": [
    "We run it again to eliminate compile time."
   ]
  },
  {
   "cell_type": "code",
   "execution_count": null,
   "id": "86b38aaf",
   "metadata": {},
   "outputs": [],
   "source": [
    "%%time\n",
    "z_vmap = f_vec(x, y).block_until_ready()"
   ]
  },
  {
   "cell_type": "markdown",
   "id": "157f6efa",
   "metadata": {},
   "source": [
    "The execution time is essentially the same as the mesh operation but we are using much less memory.\n",
    "\n",
    "And we produce the correct answer:"
   ]
  },
  {
   "cell_type": "code",
   "execution_count": null,
   "id": "583d0994",
   "metadata": {},
   "outputs": [],
   "source": [
    "jnp.allclose(z_vmap, z_mesh)"
   ]
  },
  {
   "cell_type": "markdown",
   "id": "60c21c45",
   "metadata": {},
   "source": [
    "## Exercises\n",
    "\n",
    "\n",
    "```{exercise-start}\n",
    ":label: jax_intro_ex2\n",
    "```\n",
    "\n",
    "In the Exercise section of [a lecture on Numba and parallelization](https://python-programming.quantecon.org/parallelization.html), we used Monte Carlo to price a European call option.\n",
    "\n",
    "The code was accelerated by Numba-based multithreading.\n",
    "\n",
    "Try writing a version of this operation for JAX, using all the same\n",
    "parameters.\n",
    "\n",
    "If you are running your code on a GPU, you should be able to achieve\n",
    "significantly faster execution.\n",
    "\n",
    "\n",
    "```{exercise-end}\n",
    "```\n",
    "\n",
    "\n",
    "```{solution-start} jax_intro_ex2\n",
    ":class: dropdown\n",
    "```\n",
    "Here is one solution:"
   ]
  },
  {
   "cell_type": "code",
   "execution_count": null,
   "id": "c2304ba4",
   "metadata": {},
   "outputs": [],
   "source": [
    "M = 10_000_000\n",
    "\n",
    "n, β, K = 20, 0.99, 100\n",
    "μ, ρ, ν, S0, h0 = 0.0001, 0.1, 0.001, 10, 0\n",
    "\n",
    "@jax.jit\n",
    "def compute_call_price_jax(β=β,\n",
    "                           μ=μ,\n",
    "                           S0=S0,\n",
    "                           h0=h0,\n",
    "                           K=K,\n",
    "                           n=n,\n",
    "                           ρ=ρ,\n",
    "                           ν=ν,\n",
    "                           M=M,\n",
    "                           key=jax.random.PRNGKey(1)):\n",
    "\n",
    "    s = jnp.full(M, np.log(S0))\n",
    "    h = jnp.full(M, h0)\n",
    "    for t in range(n):\n",
    "        key, subkey = jax.random.split(key)\n",
    "        Z = jax.random.normal(subkey, (2, M))\n",
    "        s = s + μ + jnp.exp(h) * Z[0, :]\n",
    "        h = ρ * h + ν * Z[1, :]\n",
    "    expectation = jnp.mean(jnp.maximum(jnp.exp(s) - K, 0))\n",
    "        \n",
    "    return β**n * expectation"
   ]
  },
  {
   "cell_type": "markdown",
   "id": "a6a6e513",
   "metadata": {},
   "source": [
    "Let's run it once to compile it:"
   ]
  },
  {
   "cell_type": "code",
   "execution_count": null,
   "id": "336637fb",
   "metadata": {},
   "outputs": [],
   "source": [
    "%%time \n",
    "compute_call_price_jax().block_until_ready()"
   ]
  },
  {
   "cell_type": "markdown",
   "id": "17ca92e2",
   "metadata": {},
   "source": [
    "And now let's time it:"
   ]
  },
  {
   "cell_type": "code",
   "execution_count": null,
   "id": "85de1bb9",
   "metadata": {},
   "outputs": [],
   "source": [
    "%%time \n",
    "compute_call_price_jax().block_until_ready()"
   ]
  },
  {
   "cell_type": "markdown",
   "id": "fc84ef4d",
   "metadata": {},
   "source": [
    "```{solution-end}\n",
    "```"
   ]
  }
 ],
 "metadata": {
  "jupytext": {
   "text_representation": {
    "extension": ".md",
    "format_name": "myst",
    "format_version": 0.13,
    "jupytext_version": "1.16.1"
   }
  },
  "kernelspec": {
   "display_name": "Python 3 (ipykernel)",
   "language": "python",
   "name": "python3"
  },
  "source_map": [
   12,
   24,
   26,
   39,
   42,
   46,
   50,
   54,
   58,
   62,
   64,
   68,
   72,
   74,
   78,
   80,
   91,
   97,
   101,
   105,
   107,
   118,
   120,
   124,
   126,
   132,
   136,
   140,
   143,
   147,
   152,
   156,
   160,
   166,
   170,
   177,
   182,
   186,
   188,
   192,
   194,
   200,
   202,
   206,
   210,
   214,
   216,
   220,
   223,
   227,
   229,
   233,
   237,
   241,
   243,
   247,
   256,
   260,
   264,
   266,
   278,
   282,
   286,
   289,
   293,
   295,
   309,
   311,
   327,
   332,
   334,
   343,
   345,
   350,
   352,
   358,
   360,
   364,
   366,
   370,
   372,
   382,
   387,
   412,
   420,
   424,
   426,
   432,
   436,
   438,
   442,
   446,
   448,
   463,
   466,
   470,
   474,
   476,
   480,
   489,
   511,
   523,
   528,
   534,
   540,
   542,
   546,
   548,
   552,
   554,
   558,
   560,
   564,
   567,
   571,
   574,
   578,
   580,
   584,
   591,
   594,
   598,
   601,
   605,
   607,
   611,
   613,
   619,
   623,
   625,
   631,
   633,
   637,
   640,
   644,
   647,
   653,
   655,
   684,
   712,
   716,
   719,
   723,
   726
  ]
 },
 "nbformat": 4,
 "nbformat_minor": 5
}