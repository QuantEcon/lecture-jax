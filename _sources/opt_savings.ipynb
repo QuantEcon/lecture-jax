{
 "cells": [
  {
   "cell_type": "markdown",
   "id": "3b612ca0",
   "metadata": {},
   "source": [
    "# Optimal Savings\n",
    "\n",
    "```{include} _admonition/gpu.md\n",
    "```\n",
    "\n",
    "In addition to what’s in Anaconda, this lecture will need the following libraries:"
   ]
  },
  {
   "cell_type": "code",
   "execution_count": null,
   "id": "3172c200",
   "metadata": {
    "tags": [
     "hide-output"
    ]
   },
   "outputs": [],
   "source": [
    "!pip install quantecon"
   ]
  },
  {
   "cell_type": "markdown",
   "id": "91675434",
   "metadata": {},
   "source": [
    "We will use the following imports:"
   ]
  },
  {
   "cell_type": "code",
   "execution_count": null,
   "id": "18e1b3ff",
   "metadata": {},
   "outputs": [],
   "source": [
    "import quantecon as qe\n",
    "import jax\n",
    "import jax.numpy as jnp\n",
    "from collections import namedtuple\n",
    "import matplotlib.pyplot as plt\n",
    "import time"
   ]
  },
  {
   "cell_type": "markdown",
   "id": "d23d5371",
   "metadata": {},
   "source": [
    "Let's check the GPU we are running"
   ]
  },
  {
   "cell_type": "code",
   "execution_count": null,
   "id": "b2ae90bf",
   "metadata": {},
   "outputs": [],
   "source": [
    "!nvidia-smi"
   ]
  },
  {
   "cell_type": "markdown",
   "id": "4765ca1c",
   "metadata": {},
   "source": [
    "Use 64 bit floats with JAX in order to match NumPy code\n",
    "- By default, JAX uses 32-bit datatypes.\n",
    "- By default, NumPy uses 64-bit datatypes."
   ]
  },
  {
   "cell_type": "code",
   "execution_count": null,
   "id": "d674216b",
   "metadata": {},
   "outputs": [],
   "source": [
    "jax.config.update(\"jax_enable_x64\", True)"
   ]
  },
  {
   "cell_type": "markdown",
   "id": "e7ea6d01",
   "metadata": {},
   "source": [
    "## Overview\n",
    "\n",
    "We consider an optimal savings problem with CRRA utility and budget constraint\n",
    "\n",
    "$$ W_{t+1} + C_t \\leq R W_t + Y_t $$\n",
    "\n",
    "We assume that labor income $(Y_t)$ is a discretized AR(1) process.\n",
    "\n",
    "The right-hand side of the Bellman equation is\n",
    "\n",
    "$$   B((w, y), w', v) = u(Rw + y - w') + β \\sum_{y'} v(w', y') Q(y, y'). $$\n",
    "\n",
    "where\n",
    "\n",
    "$$   u(c) = \\frac{c^{1-\\gamma}}{1-\\gamma} $$\n",
    "\n",
    "\n",
    "## Model primitives\n",
    "\n",
    "First we define a model that stores parameters and grids"
   ]
  },
  {
   "cell_type": "code",
   "execution_count": null,
   "id": "00c55e2d",
   "metadata": {},
   "outputs": [],
   "source": [
    "def create_consumption_model(R=1.01,                    # Gross interest rate\n",
    "                             β=0.98,                    # Discount factor\n",
    "                             γ=2,                       # CRRA parameter\n",
    "                             w_min=0.01,                # Min wealth\n",
    "                             w_max=5.0,                 # Max wealth\n",
    "                             w_size=150,                # Grid side\n",
    "                             ρ=0.9, ν=0.1, y_size=100): # Income parameters\n",
    "    \"\"\"\n",
    "    A function that takes in parameters and returns parameters and grids \n",
    "    for the optimal savings problem.\n",
    "    \"\"\"\n",
    "    w_grid = jnp.linspace(w_min, w_max, w_size)\n",
    "    mc = qe.tauchen(n=y_size, rho=ρ, sigma=ν)\n",
    "    y_grid, Q = jnp.exp(mc.state_values), mc.P\n",
    "    β, R, γ = jax.device_put([β, R, γ])\n",
    "    w_grid, y_grid, Q = tuple(map(jax.device_put, [w_grid, y_grid, Q]))\n",
    "    sizes = w_size, y_size\n",
    "    return (β, R, γ), sizes, (w_grid, y_grid, Q)"
   ]
  },
  {
   "cell_type": "markdown",
   "id": "32554d81",
   "metadata": {},
   "source": [
    "Here's the right hand side of the Bellman equation:"
   ]
  },
  {
   "cell_type": "code",
   "execution_count": null,
   "id": "cd701aec",
   "metadata": {},
   "outputs": [],
   "source": [
    "def B(v, constants, sizes, arrays):\n",
    "    \"\"\"\n",
    "    A vectorized version of the right-hand side of the Bellman equation\n",
    "    (before maximization), which is a 3D array representing\n",
    "\n",
    "        B(w, y, w′) = u(Rw + y - w′) + β Σ_y′ v(w′, y′) Q(y, y′)\n",
    "\n",
    "    for all (w, y, w′).\n",
    "    \"\"\"\n",
    "\n",
    "    # Unpack\n",
    "    β, R, γ = constants\n",
    "    w_size, y_size = sizes\n",
    "    w_grid, y_grid, Q = arrays\n",
    "\n",
    "    # Compute current rewards r(w, y, wp) as array r[i, j, ip]\n",
    "    w  = jnp.reshape(w_grid, (w_size, 1, 1))    # w[i]   ->  w[i, j, ip]\n",
    "    y  = jnp.reshape(y_grid, (1, y_size, 1))    # z[j]   ->  z[i, j, ip]\n",
    "    wp = jnp.reshape(w_grid, (1, 1, w_size))    # wp[ip] -> wp[i, j, ip]\n",
    "    c = R * w + y - wp\n",
    "\n",
    "    # Calculate continuation rewards at all combinations of (w, y, wp)\n",
    "    v = jnp.reshape(v, (1, 1, w_size, y_size))  # v[ip, jp] -> v[i, j, ip, jp]\n",
    "    Q = jnp.reshape(Q, (1, y_size, 1, y_size))  # Q[j, jp]  -> Q[i, j, ip, jp]\n",
    "    EV = jnp.sum(v * Q, axis=3)                 # sum over last index jp\n",
    "\n",
    "    # Compute the right-hand side of the Bellman equation\n",
    "    return jnp.where(c > 0, c**(1-γ)/(1-γ) + β * EV, -jnp.inf)"
   ]
  },
  {
   "cell_type": "markdown",
   "id": "9b0fc15e",
   "metadata": {},
   "source": [
    "## Operators\n",
    "\n",
    "\n",
    "We define a function to compute the current rewards $r_\\sigma$ given policy $\\sigma$,\n",
    "which is defined as the vector\n",
    "\n",
    "\n",
    "$$ r_\\sigma(w, y) := r(w, y, \\sigma(w, y)) $$"
   ]
  },
  {
   "cell_type": "code",
   "execution_count": null,
   "id": "ae222552",
   "metadata": {},
   "outputs": [],
   "source": [
    "def compute_r_σ(σ, constants, sizes, arrays):\n",
    "    \"\"\"\n",
    "    Compute the array r_σ[i, j] = r[i, j, σ[i, j]], which gives current\n",
    "    rewards given policy σ.\n",
    "    \"\"\"\n",
    "\n",
    "    # Unpack model\n",
    "    β, R, γ = constants\n",
    "    w_size, y_size = sizes\n",
    "    w_grid, y_grid, Q = arrays\n",
    "\n",
    "    # Compute r_σ[i, j]\n",
    "    w = jnp.reshape(w_grid, (w_size, 1))\n",
    "    y = jnp.reshape(y_grid, (1, y_size))\n",
    "    wp = w_grid[σ]\n",
    "    c = R * w + y - wp\n",
    "    r_σ = c**(1-γ)/(1-γ)\n",
    "\n",
    "    return r_σ"
   ]
  },
  {
   "cell_type": "markdown",
   "id": "2f7d7beb",
   "metadata": {},
   "source": [
    "Now we define the policy operator $T_\\sigma$"
   ]
  },
  {
   "cell_type": "code",
   "execution_count": null,
   "id": "250cdb87",
   "metadata": {},
   "outputs": [],
   "source": [
    "def T_σ(v, σ, constants, sizes, arrays):\n",
    "    \"The σ-policy operator.\"\n",
    "\n",
    "    # Unpack model\n",
    "    β, R, γ = constants\n",
    "    w_size, y_size = sizes\n",
    "    w_grid, y_grid, Q = arrays\n",
    "\n",
    "    r_σ = compute_r_σ(σ, constants, sizes, arrays)\n",
    "\n",
    "    # Compute the array v[σ[i, j], jp]\n",
    "    yp_idx = jnp.arange(y_size)\n",
    "    yp_idx = jnp.reshape(yp_idx, (1, 1, y_size))\n",
    "    σ = jnp.reshape(σ, (w_size, y_size, 1))\n",
    "    V = v[σ, yp_idx]\n",
    "\n",
    "    # Convert Q[j, jp] to Q[i, j, jp]\n",
    "    Q = jnp.reshape(Q, (1, y_size, y_size))\n",
    "\n",
    "    # Calculate the expected sum Σ_jp v[σ[i, j], jp] * Q[i, j, jp]\n",
    "    EV = jnp.sum(V * Q, axis=2)\n",
    "\n",
    "    return r_σ + β * EV"
   ]
  },
  {
   "cell_type": "markdown",
   "id": "e546f752",
   "metadata": {},
   "source": [
    "and the Bellman operator $T$"
   ]
  },
  {
   "cell_type": "code",
   "execution_count": null,
   "id": "5ca486db",
   "metadata": {},
   "outputs": [],
   "source": [
    "def T(v, constants, sizes, arrays):\n",
    "    \"The Bellman operator.\"\n",
    "    return jnp.max(B(v, constants, sizes, arrays), axis=2)"
   ]
  },
  {
   "cell_type": "markdown",
   "id": "6f74d7b7",
   "metadata": {},
   "source": [
    "The next function computes a $v$-greedy policy given $v$"
   ]
  },
  {
   "cell_type": "code",
   "execution_count": null,
   "id": "c91f1d81",
   "metadata": {},
   "outputs": [],
   "source": [
    "def get_greedy(v, constants, sizes, arrays):\n",
    "    \"Computes a v-greedy policy, returned as a set of indices.\"\n",
    "    return jnp.argmax(B(v, constants, sizes, arrays), axis=2)"
   ]
  },
  {
   "cell_type": "markdown",
   "id": "bb3887d0",
   "metadata": {},
   "source": [
    "The function below computes the value $v_\\sigma$ of following policy $\\sigma$.\n",
    "\n",
    "This lifetime value is a function $v_\\sigma$ that satisfies\n",
    "\n",
    "$$ v_\\sigma(w, y) = r_\\sigma(w, y) + \\beta \\sum_{y'} v_\\sigma(\\sigma(w, y), y') Q(y, y') $$\n",
    "\n",
    "We wish to solve this equation for $v_\\sigma$.\n",
    "\n",
    "Suppose we define the linear operator $L_\\sigma$ by\n",
    "\n",
    "$$ (L_\\sigma v)(w, y) = v(w, y) - \\beta \\sum_{y'} v(\\sigma(w, y), y') Q(y, y') $$\n",
    "\n",
    "With this notation, the problem is to solve for $v$ via\n",
    "\n",
    "$$\n",
    "    (L_{\\sigma} v)(w, y) = r_\\sigma(w, y)\n",
    "$$\n",
    "\n",
    "In vector for this is $L_\\sigma v = r_\\sigma$, which tells us that the function\n",
    "we seek is\n",
    "\n",
    "$$ v_\\sigma = L_\\sigma^{-1} r_\\sigma $$\n",
    "\n",
    "JAX allows us to solve linear systems defined in terms of operators; the first\n",
    "step is to define the function $L_{\\sigma}$."
   ]
  },
  {
   "cell_type": "code",
   "execution_count": null,
   "id": "45e4bf58",
   "metadata": {},
   "outputs": [],
   "source": [
    "def L_σ(v, σ, constants, sizes, arrays):\n",
    "    \"\"\"\n",
    "    Here we set up the linear map v -> L_σ v, where \n",
    "\n",
    "        (L_σ v)(w, y) = v(w, y) - β Σ_y′ v(σ(w, y), y′) Q(y, y′)\n",
    "\n",
    "    \"\"\"\n",
    "\n",
    "    β, R, γ = constants\n",
    "    w_size, y_size = sizes\n",
    "    w_grid, y_grid, Q = arrays\n",
    "\n",
    "    # Set up the array v[σ[i, j], jp]\n",
    "    zp_idx = jnp.arange(y_size)\n",
    "    zp_idx = jnp.reshape(zp_idx, (1, 1, y_size))\n",
    "    σ = jnp.reshape(σ, (w_size, y_size, 1))\n",
    "    V = v[σ, zp_idx]\n",
    "\n",
    "    # Expand Q[j, jp] to Q[i, j, jp]\n",
    "    Q = jnp.reshape(Q, (1, y_size, y_size))\n",
    "\n",
    "    # Compute and return v[i, j] - β Σ_jp v[σ[i, j], jp] * Q[j, jp]\n",
    "    return v - β * jnp.sum(V * Q, axis=2)"
   ]
  },
  {
   "cell_type": "markdown",
   "id": "529ab814",
   "metadata": {},
   "source": [
    "Now we can define a function to compute $v_{\\sigma}$"
   ]
  },
  {
   "cell_type": "code",
   "execution_count": null,
   "id": "a51cb881",
   "metadata": {},
   "outputs": [],
   "source": [
    "def get_value(σ, constants, sizes, arrays):\n",
    "    \"Get the value v_σ of policy σ by inverting the linear map L_σ.\"\n",
    "\n",
    "    # Unpack\n",
    "    β, R, γ = constants\n",
    "    w_size, y_size = sizes\n",
    "    w_grid, y_grid, Q = arrays\n",
    "\n",
    "    r_σ = compute_r_σ(σ, constants, sizes, arrays)\n",
    "\n",
    "    # Reduce L_σ to a function in v\n",
    "    partial_L_σ = lambda v: L_σ(v, σ, constants, sizes, arrays)\n",
    "\n",
    "    return jax.scipy.sparse.linalg.bicgstab(partial_L_σ, r_σ)[0]"
   ]
  },
  {
   "cell_type": "markdown",
   "id": "592ed0f1",
   "metadata": {},
   "source": [
    "## JIT compiled versions"
   ]
  },
  {
   "cell_type": "code",
   "execution_count": null,
   "id": "fa12341d",
   "metadata": {},
   "outputs": [],
   "source": [
    "B = jax.jit(B, static_argnums=(2,))\n",
    "compute_r_σ = jax.jit(compute_r_σ, static_argnums=(2,))\n",
    "T = jax.jit(T, static_argnums=(2,))\n",
    "get_greedy = jax.jit(get_greedy, static_argnums=(2,))\n",
    "get_value = jax.jit(get_value, static_argnums=(2,))\n",
    "T_σ = jax.jit(T_σ, static_argnums=(3,))\n",
    "L_σ = jax.jit(L_σ, static_argnums=(3,))"
   ]
  },
  {
   "cell_type": "markdown",
   "id": "cbbaf172",
   "metadata": {},
   "source": [
    "We use successive approximation for VFI."
   ]
  },
  {
   "cell_type": "code",
   "execution_count": null,
   "id": "289d6aab",
   "metadata": {
    "load": "_static/lecture_specific/successive_approx.py"
   },
   "outputs": [],
   "source": [
    "def successive_approx_jax(x_0,                   # Initial condition\n",
    "                          constants,\n",
    "                          sizes,\n",
    "                          arrays,                 \n",
    "                          tolerance=1e-6,        # Error tolerance\n",
    "                          max_iter=10_000):      # Max iteration bound\n",
    "\n",
    "    def body_fun(k_x_err):\n",
    "        k, x, error = k_x_err\n",
    "        x_new = T(x, constants, sizes, arrays)\n",
    "        error = jnp.max(jnp.abs(x_new - x))\n",
    "        return k + 1, x_new, error\n",
    "\n",
    "    def cond_fun(k_x_err):\n",
    "        k, x, error = k_x_err\n",
    "        return jnp.logical_and(error > tolerance, k < max_iter)\n",
    "\n",
    "    k, x, error = jax.lax.while_loop(cond_fun, body_fun, (1, x_0, tolerance + 1))\n",
    "    return x\n",
    "\n",
    "successive_approx_jax = jax.jit(successive_approx_jax, static_argnums=(2,))\n"
   ]
  },
  {
   "cell_type": "markdown",
   "id": "3cfbbf20",
   "metadata": {},
   "source": [
    "## Solvers\n",
    "\n",
    "Now we define the solvers, which implement VFI, HPI and OPI."
   ]
  },
  {
   "cell_type": "code",
   "execution_count": null,
   "id": "6043889f",
   "metadata": {
    "load": "_static/lecture_specific/vfi.py"
   },
   "outputs": [],
   "source": [
    "# Implements VFI-Value Function iteration\n",
    "\n",
    "def value_iteration(model, tol=1e-5):\n",
    "    constants, sizes, arrays = model\n",
    "    vz = jnp.zeros(sizes)\n",
    "\n",
    "    v_star = successive_approx_jax(vz, constants, sizes, arrays, tolerance=tol)\n",
    "    return get_greedy(v_star, constants, sizes, arrays)\n"
   ]
  },
  {
   "cell_type": "code",
   "execution_count": null,
   "id": "c1fbea56",
   "metadata": {
    "load": "_static/lecture_specific/hpi.py"
   },
   "outputs": [],
   "source": [
    "# Implements HPI-Howard policy iteration routine\n",
    "\n",
    "def policy_iteration(model, maxiter=250):\n",
    "    constants, sizes, arrays = model\n",
    "    σ = jnp.zeros(sizes, dtype=int)\n",
    "    i, error = 0, 1.0\n",
    "    while error > 0 and i < maxiter:\n",
    "        v_σ = get_value(σ, constants, sizes, arrays)\n",
    "        σ_new = get_greedy(v_σ, constants, sizes, arrays)\n",
    "        error = jnp.max(jnp.abs(σ_new - σ))\n",
    "        σ = σ_new\n",
    "        i = i + 1\n",
    "        print(f\"Concluded loop {i} with error {error}.\")\n",
    "    return σ\n"
   ]
  },
  {
   "cell_type": "code",
   "execution_count": null,
   "id": "164d76eb",
   "metadata": {
    "load": "_static/lecture_specific/opi.py"
   },
   "outputs": [],
   "source": [
    "# Implements the OPI-Optimal policy Iteration routine\n",
    "\n",
    "def optimistic_policy_iteration(model, tol=1e-5, m=10):\n",
    "    constants, sizes, arrays = model\n",
    "    v = jnp.zeros(sizes)\n",
    "    error = tol + 1\n",
    "    while error > tol:\n",
    "        last_v = v\n",
    "        σ = get_greedy(v, constants, sizes, arrays)\n",
    "        for _ in range(m):\n",
    "            v = T_σ(v, σ, constants, sizes, arrays)\n",
    "        error = jnp.max(jnp.abs(v - last_v))\n",
    "    return get_greedy(v, constants, sizes, arrays)\n"
   ]
  },
  {
   "cell_type": "markdown",
   "id": "661555b8",
   "metadata": {},
   "source": [
    "## Plots\n",
    "\n",
    "Create a model for consumption, perform policy iteration, and plot the resulting optimal policy function."
   ]
  },
  {
   "cell_type": "code",
   "execution_count": null,
   "id": "d98b8674",
   "metadata": {},
   "outputs": [],
   "source": [
    "fontsize = 12\n",
    "model = create_consumption_model()\n",
    "# Unpack\n",
    "constants, sizes, arrays = model\n",
    "β, R, γ = constants\n",
    "w_size, y_size = sizes\n",
    "w_grid, y_grid, Q = arrays"
   ]
  },
  {
   "cell_type": "code",
   "execution_count": null,
   "id": "3601e09a",
   "metadata": {},
   "outputs": [],
   "source": [
    "σ_star = policy_iteration(model)\n",
    "\n",
    "fig, ax = plt.subplots(figsize=(9, 5.2))\n",
    "ax.plot(w_grid, w_grid, \"k--\", label=\"45\")\n",
    "ax.plot(w_grid, w_grid[σ_star[:, 1]], label=\"$\\\\sigma^*(\\cdot, y_1)$\")\n",
    "ax.plot(w_grid, w_grid[σ_star[:, -1]], label=\"$\\\\sigma^*(\\cdot, y_N)$\")\n",
    "ax.legend(fontsize=fontsize)\n",
    "plt.show()"
   ]
  },
  {
   "cell_type": "markdown",
   "id": "8d562de6",
   "metadata": {},
   "source": [
    "## Tests\n",
    "\n",
    "Here's a quick test of the timing of each solver."
   ]
  },
  {
   "cell_type": "code",
   "execution_count": null,
   "id": "104709ca",
   "metadata": {},
   "outputs": [],
   "source": [
    "model = create_consumption_model()"
   ]
  },
  {
   "cell_type": "code",
   "execution_count": null,
   "id": "a7909293",
   "metadata": {},
   "outputs": [],
   "source": [
    "print(\"Starting HPI.\")\n",
    "start_time = time.time()\n",
    "out = policy_iteration(model)\n",
    "elapsed = time.time() - start_time\n",
    "print(f\"HPI completed in {elapsed} seconds.\")"
   ]
  },
  {
   "cell_type": "code",
   "execution_count": null,
   "id": "86c8ea00",
   "metadata": {},
   "outputs": [],
   "source": [
    "print(\"Starting VFI.\")\n",
    "start_time = time.time()\n",
    "out = value_iteration(model)\n",
    "elapsed = time.time() - start_time\n",
    "print(f\"VFI completed in {elapsed} seconds.\")"
   ]
  },
  {
   "cell_type": "code",
   "execution_count": null,
   "id": "012ec350",
   "metadata": {},
   "outputs": [],
   "source": [
    "print(\"Starting OPI.\")\n",
    "start_time = time.time()\n",
    "out = optimistic_policy_iteration(model, m=100)\n",
    "elapsed = time.time() - start_time\n",
    "print(f\"OPI completed in {elapsed} seconds.\")"
   ]
  },
  {
   "cell_type": "code",
   "execution_count": null,
   "id": "dde9ee73",
   "metadata": {},
   "outputs": [],
   "source": [
    "def run_algorithm(algorithm, model, **kwargs):\n",
    "    start_time = time.time()\n",
    "    result = algorithm(model, **kwargs)\n",
    "    end_time = time.time()\n",
    "    elapsed_time = end_time - start_time\n",
    "    print(f\"{algorithm.__name__} completed in {elapsed_time:.2f} seconds.\")\n",
    "    return result, elapsed_time"
   ]
  },
  {
   "cell_type": "code",
   "execution_count": null,
   "id": "1341387b",
   "metadata": {},
   "outputs": [],
   "source": [
    "model = create_consumption_model()\n",
    "σ_pi, pi_time = run_algorithm(policy_iteration, model)\n",
    "σ_vfi, vfi_time = run_algorithm(value_iteration, model, tol=1e-5)\n",
    "\n",
    "m_vals = range(5, 600, 40)\n",
    "opi_times = []\n",
    "for m in m_vals:\n",
    "    σ_opi, opi_time = run_algorithm(optimistic_policy_iteration, model, m=m, tol=1e-5)\n",
    "    opi_times.append(opi_time)"
   ]
  },
  {
   "cell_type": "code",
   "execution_count": null,
   "id": "507f47ff",
   "metadata": {},
   "outputs": [],
   "source": [
    "fig, ax = plt.subplots(figsize=(9, 5.2))\n",
    "ax.plot(m_vals, jnp.full(len(m_vals), pi_time), lw=2, label=\"Howard policy iteration\")\n",
    "ax.plot(m_vals, jnp.full(len(m_vals), vfi_time), lw=2, label=\"value function iteration\")\n",
    "ax.plot(m_vals, opi_times, lw=2, label=\"optimistic policy iteration\")\n",
    "ax.legend(fontsize=fontsize, frameon=False)\n",
    "ax.set_xlabel(\"$m$\", fontsize=fontsize)\n",
    "ax.set_ylabel(\"time\", fontsize=fontsize)\n",
    "plt.show()"
   ]
  }
 ],
 "metadata": {
  "jupytext": {
   "text_representation": {
    "extension": ".md",
    "format_name": "myst",
    "format_version": 0.13,
    "jupytext_version": "1.16.1"
   }
  },
  "kernelspec": {
   "display_name": "Python 3 (ipykernel)",
   "language": "python",
   "name": "python3"
  },
  "source_map": [
   12,
   21,
   25,
   29,
   36,
   40,
   42,
   48,
   50,
   73,
   92,
   96,
   125,
   136,
   156,
   160,
   184,
   188,
   192,
   196,
   200,
   228,
   252,
   256,
   271,
   275,
   283,
   287,
   289,
   295,
   299,
   303,
   305,
   311,
   321,
   330,
   336,
   340,
   348,
   356,
   364,
   374,
   386
  ]
 },
 "nbformat": 4,
 "nbformat_minor": 5
}