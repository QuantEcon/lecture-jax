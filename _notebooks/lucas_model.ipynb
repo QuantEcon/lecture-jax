{
 "cells": [
  {
   "cell_type": "markdown",
   "id": "c5249b24",
   "metadata": {},
   "source": [
    "\n",
    "<a id='lucas-asset'></a>"
   ]
  },
  {
   "cell_type": "markdown",
   "id": "7b77ca41",
   "metadata": {},
   "source": [
    "# Asset Pricing: The Lucas Asset Pricing Model"
   ]
  },
  {
   "cell_type": "markdown",
   "id": "f1a2f8c8",
   "metadata": {},
   "source": [
    "# GPU\n",
    "\n",
    "This lecture was built using a machine with JAX installed and access to a GPU.\n",
    "\n",
    "To run this lecture on [Google Colab](https://colab.research.google.com/), click on the “play” icon top right, select Colab, and set the runtime environment to include a GPU.\n",
    "\n",
    "To run this lecture on your own machine, you need to install [Google JAX](https://github.com/google/jax).\n",
    "\n",
    "\n",
    "<a id='index-0'></a>"
   ]
  },
  {
   "cell_type": "markdown",
   "id": "debb5da2",
   "metadata": {},
   "source": [
    "## Overview\n",
    "\n",
    "An asset is a claim on a stream of prospective payments.\n",
    "\n",
    "What is the correct price to pay for such a claim?\n",
    "\n",
    "The asset pricing model of Lucas [[Lucas, 1978](https://jax.quantecon.org/zreferences.html#id184)] attempts to answer this\n",
    "question in an equilibrium setting with risk-averse agents.\n",
    "\n",
    "Lucas’ model provides a beautiful illustration of model building in general and\n",
    "equilibrium pricing in competitive models in particular.\n",
    "\n",
    "In this lecture we work through the Lucas model and show where the fundamental\n",
    "asset pricing equation comes from.\n",
    "\n",
    "We’ll write code in both Numba and JAX.\n",
    "\n",
    "Since the model is relatively small, the speed gain from using JAX is not as\n",
    "large as it is in some other lectures.\n",
    "\n",
    "Nonetheless, the gain is nontrivial.\n",
    "\n",
    "Let’s start with some imports:"
   ]
  },
  {
   "cell_type": "code",
   "execution_count": null,
   "id": "ec2d486e",
   "metadata": {
    "hide-output": false
   },
   "outputs": [],
   "source": [
    "import jax.numpy as jnp\n",
    "import jax\n",
    "import numpy as np\n",
    "import numba\n",
    "from scipy.stats import lognorm\n",
    "import matplotlib.pyplot as plt\n",
    "from time import time"
   ]
  },
  {
   "cell_type": "markdown",
   "id": "109b9b8d",
   "metadata": {},
   "source": [
    "## The Lucas Model\n",
    "\n",
    "\n",
    "<a id='index-1'></a>\n",
    "Lucas studied a pure exchange economy with a representative consumer (or household), where\n",
    "\n",
    "- *Pure exchange* means that all endowments are exogenous.  \n",
    "- *Representative* consumer means that either  \n",
    "  - there is a single consumer (sometimes also referred to as a household), or  \n",
    "  - all consumers have identical endowments and preferences  \n",
    "\n",
    "\n",
    "Either way, the assumption of a representative agent means that prices adjust to\n",
    "eradicate desires to trade.\n",
    "\n",
    "This makes it very easy to compute competitive equilibrium prices."
   ]
  },
  {
   "cell_type": "markdown",
   "id": "e577f4c5",
   "metadata": {},
   "source": [
    "### Basic Setup\n",
    "\n",
    "Let’s review the setup."
   ]
  },
  {
   "cell_type": "markdown",
   "id": "41d19151",
   "metadata": {},
   "source": [
    "#### Assets\n",
    "\n",
    "\n",
    "<a id='index-2'></a>\n",
    "There is a single “productive unit” that costlessly generates a sequence of consumption goods $ \\{y_t\\}_{t=0}^{\\infty} $.\n",
    "\n",
    "Another way to view $ \\{y_t\\}_{t=0}^{\\infty} $ is as a *consumption endowment* for this economy.\n",
    "\n",
    "We will assume that this endowment is Markovian, following the exogenous process\n",
    "\n",
    "$$\n",
    "y_{t+1} = G(y_t, \\xi_{t+1})\n",
    "$$\n",
    "\n",
    "Here $ \\{ \\xi_t \\} $ is an IID shock sequence with known distribution $ \\phi $ and $ y_t \\geq 0 $.\n",
    "\n",
    "An asset is a claim on all or part of this endowment stream.\n",
    "\n",
    "The consumption goods $ \\{y_t\\}_{t=0}^{\\infty} $ are nonstorable, so holding assets is the only way to transfer wealth into the future.\n",
    "\n",
    "For the purposes of intuition, it’s common to think of the productive unit as a “tree” that produces fruit.\n",
    "\n",
    "Based on this idea, a “Lucas tree” is a claim on the consumption endowment."
   ]
  },
  {
   "cell_type": "markdown",
   "id": "3233fceb",
   "metadata": {},
   "source": [
    "#### Consumers\n",
    "\n",
    "\n",
    "<a id='index-3'></a>\n",
    "A representative consumer ranks consumption streams $ \\{c_t\\} $ according to the time separable utility functional\n",
    "\n",
    "\n",
    "<a id='equation-lt-uf'></a>\n",
    "$$\n",
    "\\mathbb{E} \\sum_{t=0}^\\infty \\beta^t u(c_t) \\tag{8.1}\n",
    "$$\n",
    "\n",
    "Here\n",
    "\n",
    "- $ \\beta \\in (0,1) $ is a fixed discount factor.  \n",
    "- $ u $ is a strictly increasing, strictly concave, continuously differentiable period utility function.  \n",
    "- $ \\mathbb{E} $ is a mathematical expectation.  "
   ]
  },
  {
   "cell_type": "markdown",
   "id": "61d18711",
   "metadata": {},
   "source": [
    "### Pricing a Lucas Tree\n",
    "\n",
    "\n",
    "<a id='index-4'></a>\n",
    "What is an appropriate price for a claim on the consumption endowment?\n",
    "\n",
    "We’ll price an *ex-dividend* claim, meaning that\n",
    "\n",
    "- the seller retains this period’s dividend  \n",
    "- the buyer pays $ p_t $ today to purchase a claim on  \n",
    "  - $ y_{t+1} $ and  \n",
    "  - the right to sell the claim tomorrow at price $ p_{t+1} $  \n",
    "\n",
    "\n",
    "Since this is a competitive model, the first step is to pin down consumer\n",
    "behavior, taking prices as given.\n",
    "\n",
    "Next, we’ll impose equilibrium constraints and try to back out prices.\n",
    "\n",
    "In the consumer problem, the consumer’s control variable is the share $ \\pi_t $ of the claim held in each period.\n",
    "\n",
    "Thus, the consumer problem is to maximize [(8.1)](#equation-lt-uf) subject to\n",
    "\n",
    "$$\n",
    "c_t + \\pi_{t+1} p_t \\leq \\pi_t y_t + \\pi_t p_t\n",
    "$$\n",
    "\n",
    "along with $ c_t \\geq 0 $ and $ 0 \\leq \\pi_t \\leq 1 $ at each $ t $.\n",
    "\n",
    "The decision to hold share $ \\pi_t $ is actually made at time $ t-1 $.\n",
    "\n",
    "But this value is inherited as a state variable at time $ t $, which explains the choice of subscript."
   ]
  },
  {
   "cell_type": "markdown",
   "id": "390fe76e",
   "metadata": {},
   "source": [
    "#### The Dynamic Program\n",
    "\n",
    "\n",
    "<a id='index-5'></a>\n",
    "We can write the consumer problem as a dynamic programming problem.\n",
    "\n",
    "Our first observation is that prices depend on current information, and current information is really just the endowment process up until the current period.\n",
    "\n",
    "In fact, the endowment process is Markovian, so that the only relevant\n",
    "information is the current state $ y \\in \\mathbb R_+ $ (dropping the time subscript).\n",
    "\n",
    "This leads us to guess an equilibrium where price is a function $ p $ of $ y $.\n",
    "\n",
    "Remarks on the solution method\n",
    "\n",
    "- Since this is a competitive (read: price taking) model, the consumer will take this function $ p $ as given.  \n",
    "- In this way, we determine consumer behavior given $ p $ and then use equilibrium conditions to recover $ p $.  \n",
    "- This is the standard way to solve competitive equilibrium models.  \n",
    "\n",
    "\n",
    "Using the assumption that price is a given function $ p $ of $ y $, we write the value function and constraint as\n",
    "\n",
    "$$\n",
    "v(\\pi, y) = \\max_{c, \\pi'}\n",
    "    \\left\\{\n",
    "        u(c) + \\beta \\int v(\\pi', G(y, z)) \\phi(dz)\n",
    "    \\right\\}\n",
    "$$\n",
    "\n",
    "subject to\n",
    "\n",
    "\n",
    "<a id='equation-preltbe'></a>\n",
    "$$\n",
    "c + \\pi' p(y) \\leq \\pi y + \\pi p(y) \\tag{8.2}\n",
    "$$\n",
    "\n",
    "We can invoke the fact that utility is increasing to claim equality in [(8.2)](#equation-preltbe) and hence eliminate the constraint, obtaining\n",
    "\n",
    "\n",
    "<a id='equation-ltbe'></a>\n",
    "$$\n",
    "v(\\pi, y) = \\max_{\\pi'}\n",
    "    \\left\\{\n",
    "        u[\\pi (y + p(y)) - \\pi' p(y) ] + \\beta \\int v(\\pi', G(y, z)) \\phi(dz)\n",
    "    \\right\\} \\tag{8.3}\n",
    "$$\n",
    "\n",
    "The solution to this dynamic programming problem is an optimal policy expressing either $ \\pi' $ or $ c $ as a function of the state $ (\\pi, y) $.\n",
    "\n",
    "- Each one determines the other, since $ c(\\pi, y) = \\pi (y + p(y))- \\pi' (\\pi, y) p(y) $  "
   ]
  },
  {
   "cell_type": "markdown",
   "id": "9c4db356",
   "metadata": {},
   "source": [
    "#### Next Steps\n",
    "\n",
    "What we need to do now is determine equilibrium prices.\n",
    "\n",
    "It seems that to obtain these, we will have to\n",
    "\n",
    "1. Solve this two-dimensional dynamic programming problem for the optimal policy.  \n",
    "1. Impose equilibrium constraints.  \n",
    "1. Solve out for the price function $ p(y) $ directly.  \n",
    "\n",
    "\n",
    "However, as Lucas showed, there is a related but more straightforward way to do this."
   ]
  },
  {
   "cell_type": "markdown",
   "id": "35c53f51",
   "metadata": {},
   "source": [
    "#### Equilibrium Constraints\n",
    "\n",
    "\n",
    "<a id='index-6'></a>\n",
    "Since the consumption good is not storable, in equilibrium we must have $ c_t = y_t $ for all $ t $.\n",
    "\n",
    "In addition, since there is one representative consumer (alternatively, since\n",
    "all consumers are identical), there should be no trade in equilibrium.\n",
    "\n",
    "In particular, the representative consumer owns the whole tree in every period, so $ \\pi_t = 1 $ for all $ t $.\n",
    "\n",
    "Prices must adjust to satisfy these two constraints."
   ]
  },
  {
   "cell_type": "markdown",
   "id": "8c4c6b57",
   "metadata": {},
   "source": [
    "#### The Equilibrium Price Function\n",
    "\n",
    "\n",
    "<a id='index-7'></a>\n",
    "Now observe that the first-order condition for [(8.3)](#equation-ltbe) can be written as\n",
    "\n",
    "$$\n",
    "u'(c)  p(y) = \\beta \\int v_1'(\\pi', G(y, z)) \\phi(dz)\n",
    "$$\n",
    "\n",
    "where $ v'_1 $ is the derivative of $ v $ with respect to its first argument.\n",
    "\n",
    "To obtain $ v'_1 $ we can simply differentiate the right-hand side of\n",
    "[(8.3)](#equation-ltbe) with respect to $ \\pi $, yielding\n",
    "\n",
    "$$\n",
    "v'_1(\\pi, y) = u'(c) (y + p(y))\n",
    "$$\n",
    "\n",
    "Next, we impose the equilibrium constraints while combining the last two\n",
    "equations to get\n",
    "\n",
    "\n",
    "<a id='equation-lteeq'></a>\n",
    "$$\n",
    "p(y)  = \\beta \\int \\frac{u'[G(y, z)]}{u'(y)} [G(y, z) + p(G(y, z))]  \\phi(dz) \\tag{8.4}\n",
    "$$\n",
    "\n",
    "In sequential rather than functional notation, we can also write this as\n",
    "\n",
    "\n",
    "<a id='equation-lteeqs'></a>\n",
    "$$\n",
    "p_t = \\mathbb{E}_t \\left[ \\beta \\frac{u'(c_{t+1})}{u'(c_t)} ( y_{t+1} + p_{t+1} ) \\right] \\tag{8.5}\n",
    "$$\n",
    "\n",
    "This is the famous consumption-based asset pricing equation.\n",
    "\n",
    "Before discussing it further we want to solve out for prices."
   ]
  },
  {
   "cell_type": "markdown",
   "id": "cd3e0ece",
   "metadata": {},
   "source": [
    "### Solving the Model\n",
    "\n",
    "\n",
    "<a id='index-8'></a>\n",
    "Equation [(8.4)](#equation-lteeq) is a *functional equation* in the unknown function $ p $.\n",
    "\n",
    "The solution is an equilibrium price function $ p^* $.\n",
    "\n",
    "Let’s look at how to obtain it."
   ]
  },
  {
   "cell_type": "markdown",
   "id": "0e36dbf9",
   "metadata": {},
   "source": [
    "#### Setting up the Problem\n",
    "\n",
    "Instead of solving for it directly we’ll follow Lucas’ indirect approach, first setting\n",
    "\n",
    "\n",
    "<a id='equation-ltffp'></a>\n",
    "$$\n",
    "f(y) := u'(y) p(y) \\tag{8.6}\n",
    "$$\n",
    "\n",
    "so that [(8.4)](#equation-lteeq) becomes\n",
    "\n",
    "\n",
    "<a id='equation-lteeq2'></a>\n",
    "$$\n",
    "f(y) = h(y) + \\beta \\int f[G(y, z)] \\phi(dz) \\tag{8.7}\n",
    "$$\n",
    "\n",
    "Here $ h(y) := \\beta \\int u'[G(y, z)] G(y, z)  \\phi(dz) $ is a function that\n",
    "depends only on the primitives.\n",
    "\n",
    "Equation [(8.7)](#equation-lteeq2) is a functional equation in $ f $.\n",
    "\n",
    "The plan is to solve out for $ f $ and convert back to $ p $ via [(8.6)](#equation-ltffp).\n",
    "\n",
    "To solve [(8.7)](#equation-lteeq2) we’ll use a standard method: convert it to a fixed point problem.\n",
    "\n",
    "First, we introduce the operator $ T $ mapping $ f $ into $ Tf $ as defined by\n",
    "\n",
    "\n",
    "<a id='equation-lteeqt'></a>\n",
    "$$\n",
    "(Tf)(y) = h(y) + \\beta \\int f[G(y, z)] \\phi(dz) \\tag{8.8}\n",
    "$$\n",
    "\n",
    "In what follows, we refer to $ T $ as the Lucas operator.\n",
    "\n",
    "The reason we do this is that a solution to [(8.7)](#equation-lteeq2) now corresponds to a\n",
    "function $ f^* $ satisfying $ (Tf^*)(y) = f^*(y) $ for all $ y $.\n",
    "\n",
    "In other words, a solution is a *fixed point* of $ T $.\n",
    "\n",
    "This means that we can use fixed point theory to obtain and compute the solution."
   ]
  },
  {
   "cell_type": "markdown",
   "id": "358e9d3d",
   "metadata": {},
   "source": [
    "#### A Little Fixed Point Theory\n",
    "\n",
    "\n",
    "<a id='index-9'></a>\n",
    "Let $ cb\\mathbb{R}_+ $ be the set of continuous bounded functions $ f \\colon \\mathbb{R}_+ \\to \\mathbb{R}_+ $.\n",
    "\n",
    "We now show that\n",
    "\n",
    "1. $ T $ has exactly one fixed point $ f^* $ in $ cb\\mathbb{R}_+ $.  \n",
    "1. For any $ f \\in cb\\mathbb{R}_+ $, the sequence $ T^k f $ converges\n",
    "  uniformly to $ f^* $.  \n",
    "\n",
    "\n",
    ">**Note**\n",
    ">\n",
    ">If you find the mathematics heavy going you can take 1–2 as given and skip to the [next section](#lt-comp-eg)\n",
    "\n",
    "Recall the [Banach contraction mapping theorem](https://en.wikipedia.org/wiki/Banach_fixed-point_theorem).\n",
    "\n",
    "It tells us that the previous statements will be true if we can find an\n",
    "$ \\alpha < 1 $ such that\n",
    "\n",
    "\n",
    "<a id='equation-ltbc'></a>\n",
    "$$\n",
    "\\| Tf - Tg \\| \\leq \\alpha \\| f - g \\|,\n",
    "\\qquad \\forall \\, f, g \\in cb\\mathbb{R}_+ \\tag{8.9}\n",
    "$$\n",
    "\n",
    "Here $ \\|h\\| := \\sup_{x \\in \\mathbb{R}_+} |h(x)| $.\n",
    "\n",
    "To see that [(8.9)](#equation-ltbc) is valid, pick any $ f,g \\in cb\\mathbb{R}_+ $ and any $ y \\in \\mathbb{R}_+ $.\n",
    "\n",
    "Observe that, since integrals get larger when absolute values are moved to the\n",
    "inside,\n",
    "\n",
    "$$\n",
    "\\begin{aligned}\n",
    "    |Tf(y) - Tg(y)|\n",
    "    & = \\left| \\beta \\int f[G(y, z)] \\phi(dz)\n",
    "        -\\beta \\int g[G(y, z)] \\phi(dz) \\right|\n",
    "    \\\\\n",
    "    & \\leq \\beta \\int \\left| f[G(y, z)] -  g[G(y, z)] \\right| \\phi(dz)\n",
    "    \\\\\n",
    "    & \\leq \\beta \\int \\| f -  g \\| \\phi(dz)\n",
    "    \\\\\n",
    "    & = \\beta  \\| f -  g \\|\n",
    "\\end{aligned}\n",
    "$$\n",
    "\n",
    "Since the right-hand side is an upper bound, taking the sup over all $ y $\n",
    "on the left-hand side gives [(8.9)](#equation-ltbc) with $ \\alpha := \\beta $.\n",
    "\n",
    "\n",
    "<a id='lt-comp-eg'></a>"
   ]
  },
  {
   "cell_type": "markdown",
   "id": "2cb2c58e",
   "metadata": {},
   "source": [
    "## Computation\n",
    "\n",
    "\n",
    "<a id='index-10'></a>\n",
    "The preceding discussion tells that we can compute $ f^* $ by picking any arbitrary $ f \\in cb\\mathbb{R}_+ $ and then iterating with $ T $.\n",
    "\n",
    "The equilibrium price function $ p^* $ can then be recovered by $ p^*(y) = f^*(y) / u'(y) $.\n",
    "\n",
    "Let’s try this when $ \\ln y_{t+1} = \\alpha \\ln y_t + \\sigma \\epsilon_{t+1} $ where $ \\{\\epsilon_t\\} $ is IID and standard normal.\n",
    "\n",
    "Utility will take the isoelastic form $ u(c) = c^{1-\\gamma}/(1-\\gamma) $, where $ \\gamma > 0 $ is the coefficient of relative risk aversion.\n",
    "\n",
    "We’ll use Monte Carlo to compute the integral\n",
    "\n",
    "$$\n",
    "\\int f[G(y, z)] \\phi(dz)\n",
    "$$\n",
    "\n",
    "Monte Carlo is not always the fastest method for computing low-dimensional\n",
    "integrals, but it is extremely flexible (for example, it’s straightforward to\n",
    "change the underlying state process)."
   ]
  },
  {
   "cell_type": "markdown",
   "id": "bf0f0e9a",
   "metadata": {},
   "source": [
    "### Numba Code\n",
    "\n",
    "Let’s start with code using NumPy / Numba (and then compare it to code using\n",
    "JAX).\n",
    "\n",
    "We create a function that returns tuples containing parameters and arrays needed\n",
    "for computation."
   ]
  },
  {
   "cell_type": "code",
   "execution_count": null,
   "id": "df0e69bd",
   "metadata": {
    "hide-output": false
   },
   "outputs": [],
   "source": [
    "def create_lucas_tree_model(γ=2,            # CRRA utility parameter\n",
    "                            β=0.95,         # Discount factor\n",
    "                            α=0.90,         # Correlation coefficient\n",
    "                            σ=0.1,          # Volatility coefficient\n",
    "                            grid_size=500,\n",
    "                            draw_size=1_000,\n",
    "                            seed=11):\n",
    "        # Set the grid interval to contain most of the mass of the\n",
    "        # stationary distribution of the consumption endowment\n",
    "        ssd = σ / np.sqrt(1 - α**2)\n",
    "        grid_min, grid_max = np.exp(-4 * ssd), np.exp(4 * ssd)\n",
    "        grid = np.linspace(grid_min, grid_max, grid_size)\n",
    "        # Set up distribution for shocks\n",
    "        np.random.seed(seed)\n",
    "        ϕ = lognorm(σ)\n",
    "        draws = ϕ.rvs(500)\n",
    "        # And the vector h\n",
    "        h = np.empty(grid_size)\n",
    "        for i, y in enumerate(grid):\n",
    "            h[i] = β * np.mean((y**α * draws)**(1 - γ))\n",
    "        # Pack and return\n",
    "        params = γ, β, α, σ\n",
    "        arrays = grid, draws, h\n",
    "        return params, arrays"
   ]
  },
  {
   "cell_type": "markdown",
   "id": "42b3cf47",
   "metadata": {},
   "source": [
    "Here’s a Numba-jitted version of the Lucas operator"
   ]
  },
  {
   "cell_type": "code",
   "execution_count": null,
   "id": "2d1e6079",
   "metadata": {
    "hide-output": false
   },
   "outputs": [],
   "source": [
    "@numba.jit\n",
    "def T(params, arrays, f):\n",
    "    \"\"\"\n",
    "    The Lucas pricing operator.\n",
    "    \"\"\"\n",
    "    # Unpack\n",
    "    γ, β, α, σ = params\n",
    "    grid, draws, h = arrays\n",
    "    # Turn f into a function\n",
    "    Af = lambda x: np.interp(x, grid, f)\n",
    "    # Compute Tf and return\n",
    "    Tf = np.empty_like(f)\n",
    "    # Apply the T operator to f using Monte Carlo integration\n",
    "    for i in range(len(grid)):\n",
    "        y = grid[i]\n",
    "        Tf[i] = h[i] + β * np.mean(Af(y**α * draws))\n",
    "    return Tf"
   ]
  },
  {
   "cell_type": "markdown",
   "id": "50ddcef2",
   "metadata": {},
   "source": [
    "To solve the model, we write a function that iterates using the Lucas operator\n",
    "to find the fixed point."
   ]
  },
  {
   "cell_type": "code",
   "execution_count": null,
   "id": "3a27082e",
   "metadata": {
    "hide-output": false
   },
   "outputs": [],
   "source": [
    "def solve_model(params, arrays, tol=1e-6, max_iter=500):\n",
    "    \"\"\"\n",
    "    Compute the equilibrium price function.\n",
    "\n",
    "    \"\"\"\n",
    "    # Unpack\n",
    "    γ, β, α, σ = params\n",
    "    grid, draws, h = arrays\n",
    "    # Set up and loop\n",
    "    i = 0\n",
    "    f = np.ones_like(grid)  # Initial guess of f\n",
    "    error = tol + 1\n",
    "    while error > tol and i < max_iter:\n",
    "        Tf = T(params, arrays, f)\n",
    "        error = np.max(np.abs(Tf - f))\n",
    "        f = Tf\n",
    "        i += 1\n",
    "    price = f * grid**γ  # Back out price vector\n",
    "    return price"
   ]
  },
  {
   "cell_type": "markdown",
   "id": "baea6ae1",
   "metadata": {},
   "source": [
    "Let’s solve the model and plot the resulting price function"
   ]
  },
  {
   "cell_type": "code",
   "execution_count": null,
   "id": "57e8d5f3",
   "metadata": {
    "hide-output": false
   },
   "outputs": [],
   "source": [
    "params, arrays = create_lucas_tree_model()\n",
    "γ, β, α, σ = params\n",
    "grid, draws, h = arrays\n",
    "\n",
    "# Solve once to compile\n",
    "start = time()\n",
    "price_vals = solve_model(params, arrays)\n",
    "numba_with_compile_time = time() - start\n",
    "print(\"Numba compile plus execution time = \", numba_with_compile_time)"
   ]
  },
  {
   "cell_type": "code",
   "execution_count": null,
   "id": "81e71fa5",
   "metadata": {
    "hide-output": false
   },
   "outputs": [],
   "source": [
    "# Now time execution without compile time\n",
    "start = time()\n",
    "price_vals = solve_model(params, arrays)\n",
    "numba_without_compile_time = time() - start\n",
    "print(\"Numba execution time = \", numba_without_compile_time)"
   ]
  },
  {
   "cell_type": "code",
   "execution_count": null,
   "id": "b5f80b14",
   "metadata": {
    "hide-output": false
   },
   "outputs": [],
   "source": [
    "fig, ax = plt.subplots(figsize=(10, 6))\n",
    "ax.plot(grid, price_vals, label='$p*(y)$')\n",
    "ax.set_xlabel('$y$')\n",
    "ax.set_ylabel('price')\n",
    "ax.legend()\n",
    "plt.show()"
   ]
  },
  {
   "cell_type": "markdown",
   "id": "6f786ec4",
   "metadata": {},
   "source": [
    "We see that the price is increasing, even if we remove all serial correlation\n",
    "from the endowment process.\n",
    "\n",
    "The reason is that a larger current endowment reduces current marginal utility.\n",
    "\n",
    "The price must therefore rise to induce the household to consume the entire endowment (and hence satisfy the resource constraint)."
   ]
  },
  {
   "cell_type": "markdown",
   "id": "b2810248",
   "metadata": {},
   "source": [
    "### JAX Code\n",
    "\n",
    "Here’s a JAX version of the same problem."
   ]
  },
  {
   "cell_type": "code",
   "execution_count": null,
   "id": "b8b15570",
   "metadata": {
    "hide-output": false
   },
   "outputs": [],
   "source": [
    "def create_lucas_tree_model(γ=2,            # CRRA utility parameter\n",
    "                            β=0.95,         # Discount factor\n",
    "                            α=0.90,         # Correlation coefficient\n",
    "                            σ=0.1,          # Volatility coefficient\n",
    "                            grid_size=500,\n",
    "                            draw_size=1_000,\n",
    "                            seed=11):\n",
    "        # Set the grid interval to contain most of the mass of the\n",
    "        # stationary distribution of the consumption endowment\n",
    "        ssd = σ / jnp.sqrt(1 - α**2)\n",
    "        grid_min, grid_max = jnp.exp(-4 * ssd), jnp.exp(4 * ssd)\n",
    "        grid = jnp.linspace(grid_min, grid_max, grid_size)\n",
    "\n",
    "        # Set up distribution for shocks\n",
    "        key = jax.random.key(seed)\n",
    "        draws = jax.random.lognormal(key, σ, shape=(draw_size,))\n",
    "        grid_reshaped = grid.reshape((grid_size, 1))\n",
    "        draws_reshaped = draws.reshape((-1, draw_size))\n",
    "        h = β * jnp.mean((grid_reshaped**α * draws_reshaped) ** (1-γ), axis=1)\n",
    "        params = γ, β, α, σ\n",
    "        arrays = grid, draws, h\n",
    "        return params, arrays"
   ]
  },
  {
   "cell_type": "markdown",
   "id": "5c869eaa",
   "metadata": {},
   "source": [
    "We’ll use the following function to simultaneously compute the expectation\n",
    "\n",
    "$$\n",
    "\\int f[G(y, z)] \\phi(dz)\n",
    "$$\n",
    "\n",
    "over all $ y $ in the grid, under the current specifications."
   ]
  },
  {
   "cell_type": "code",
   "execution_count": null,
   "id": "cd36f41c",
   "metadata": {
    "hide-output": false
   },
   "outputs": [],
   "source": [
    "@jax.jit \n",
    "def compute_expectation(y, α, draws, grid, f):\n",
    "    return jnp.mean(jnp.interp(y**α * draws, grid, f))\n",
    "\n",
    "# Vectorize over y\n",
    "compute_expectation = jax.vmap(compute_expectation,\n",
    "                               in_axes=(0, None, None, None, None))"
   ]
  },
  {
   "cell_type": "markdown",
   "id": "274fa55d",
   "metadata": {},
   "source": [
    "Here’s the Lucas operator"
   ]
  },
  {
   "cell_type": "code",
   "execution_count": null,
   "id": "f309ca81",
   "metadata": {
    "hide-output": false
   },
   "outputs": [],
   "source": [
    "@jax.jit\n",
    "def T(params, arrays, f):\n",
    "    \"\"\"\n",
    "    The Lucas operator\n",
    "\n",
    "    \"\"\"\n",
    "    grid, draws, h = arrays\n",
    "    γ, β, α, σ = params\n",
    "    mci = compute_expectation(grid, α, draws, grid, f)\n",
    "    return h + β * mci"
   ]
  },
  {
   "cell_type": "markdown",
   "id": "b7cc737b",
   "metadata": {},
   "source": [
    "We’ll use successive approximation to compute the fixed point."
   ]
  },
  {
   "cell_type": "code",
   "execution_count": null,
   "id": "436cf7cb",
   "metadata": {
    "hide-output": false
   },
   "outputs": [],
   "source": [
    "def successive_approx_jax(T,                     # Operator (callable)\n",
    "                          x_0,                   # Initial condition                \n",
    "                          tol=1e-6      ,        # Error tolerance\n",
    "                          max_iter=10_000):      # Max iteration bound\n",
    "    def body_fun(k_x_err):\n",
    "        k, x, error = k_x_err\n",
    "        x_new = T(x)\n",
    "        error = jnp.max(jnp.abs(x_new - x))\n",
    "        return k + 1, x_new, error\n",
    "\n",
    "    def cond_fun(k_x_err):\n",
    "        k, x, error = k_x_err\n",
    "        return jnp.logical_and(error > tol, k < max_iter)\n",
    "\n",
    "    k, x, error = jax.lax.while_loop(cond_fun, body_fun, \n",
    "                                    (1, x_0, tol + 1))\n",
    "    return x\n",
    "\n",
    "successive_approx_jax = \\\n",
    "    jax.jit(successive_approx_jax, static_argnums=(0,))"
   ]
  },
  {
   "cell_type": "markdown",
   "id": "350cd684",
   "metadata": {},
   "source": [
    "Here’s a function that solves the model"
   ]
  },
  {
   "cell_type": "code",
   "execution_count": null,
   "id": "a5b38dba",
   "metadata": {
    "hide-output": false
   },
   "outputs": [],
   "source": [
    "def solve_model(params, arrays, tol=1e-6, max_iter=500):\n",
    "    \"\"\"\n",
    "    Compute the equilibrium price function.\n",
    "\n",
    "    \"\"\"\n",
    "    # Simplify notation\n",
    "    grid, draws, h = arrays\n",
    "    γ, β, α, σ = params\n",
    "    _T = lambda f: T(params, arrays, f)\n",
    "    f = jnp.ones_like(grid)  # Initial guess of f\n",
    "\n",
    "    f = successive_approx_jax(_T, f, tol=tol, max_iter=max_iter)\n",
    "\n",
    "    price = f * grid**γ  # Back out price vector\n",
    "\n",
    "    return price"
   ]
  },
  {
   "cell_type": "markdown",
   "id": "3aa9fe57",
   "metadata": {},
   "source": [
    "Now let’s solve the model again and compare timing"
   ]
  },
  {
   "cell_type": "code",
   "execution_count": null,
   "id": "33c88748",
   "metadata": {
    "hide-output": false
   },
   "outputs": [],
   "source": [
    "params, arrays = create_lucas_tree_model()\n",
    "grid, draws, h = arrays\n",
    "γ, β, α, σ = params\n",
    "\n",
    "# Solve once to compile\n",
    "start = time()\n",
    "price_vals = solve_model(params, arrays).block_until_ready()\n",
    "jax_with_compile_time = time() - start\n",
    "print(\"JAX compile plus execution time = \", jax_with_compile_time)"
   ]
  },
  {
   "cell_type": "code",
   "execution_count": null,
   "id": "48b79199",
   "metadata": {
    "hide-output": false
   },
   "outputs": [],
   "source": [
    "# Now time execution without compile time\n",
    "start = time()\n",
    "price_vals = solve_model(params, arrays).block_until_ready()\n",
    "jax_without_compile_time = time() - start\n",
    "print(\"JAX execution time = \", jax_without_compile_time)\n",
    "print(\"Speedup factor = \", numba_without_compile_time/jax_without_compile_time)"
   ]
  },
  {
   "cell_type": "markdown",
   "id": "778b78c4",
   "metadata": {},
   "source": [
    "Let’s check the solutions are similar"
   ]
  },
  {
   "cell_type": "code",
   "execution_count": null,
   "id": "4651d462",
   "metadata": {
    "hide-output": false
   },
   "outputs": [],
   "source": [
    "fig, ax = plt.subplots(figsize=(10, 6))\n",
    "ax.plot(grid, price_vals, label='$p*(y)$')\n",
    "ax.set_xlabel('$y$')\n",
    "ax.set_ylabel('price')\n",
    "ax.legend()\n",
    "plt.show()"
   ]
  },
  {
   "cell_type": "markdown",
   "id": "1e95a665",
   "metadata": {},
   "source": [
    "## Exercises\n",
    "\n",
    "\n",
    "<a id='lucas-asset-ex1'></a>"
   ]
  },
  {
   "cell_type": "markdown",
   "id": "6b727da5",
   "metadata": {},
   "source": [
    "## Exercise 8.1\n",
    "\n",
    "When consumers are more patient the asset becomes more valuable, and the price of the Lucas tree shifts up.\n",
    "\n",
    "Show this by plotting the price function for the Lucas tree when $ \\beta = 0.95 $ and $ 0.98 $."
   ]
  },
  {
   "cell_type": "markdown",
   "id": "504fb852",
   "metadata": {},
   "source": [
    "## Solution to[ Exercise 8.1](https://jax.quantecon.org/#lucas_ex1)"
   ]
  },
  {
   "cell_type": "code",
   "execution_count": null,
   "id": "7a478d2c",
   "metadata": {
    "hide-output": false
   },
   "outputs": [],
   "source": [
    "fig, ax = plt.subplots(figsize=(10, 6))\n",
    "\n",
    "for β in (.95, 0.98):\n",
    "    params, arrays = create_lucas_tree_model(β=β)\n",
    "    grid, draws, h = arrays\n",
    "    γ, beta, α, σ = params\n",
    "    price_vals = solve_model(params, arrays)\n",
    "    label = rf'$\\beta = {beta}$'\n",
    "    ax.plot(grid, price_vals, lw=2, alpha=0.7, label=label)\n",
    "\n",
    "ax.legend(loc='upper left')\n",
    "ax.set(xlabel='$y$', ylabel='price', xlim=(min(grid), max(grid)))\n",
    "plt.show()"
   ]
  }
 ],
 "metadata": {
  "date": 1741730300.3753002,
  "filename": "lucas_model.md",
  "kernelspec": {
   "display_name": "Python",
   "language": "python3",
   "name": "python3"
  },
  "title": "Asset Pricing: The Lucas Asset Pricing Model"
 },
 "nbformat": 4,
 "nbformat_minor": 5
}