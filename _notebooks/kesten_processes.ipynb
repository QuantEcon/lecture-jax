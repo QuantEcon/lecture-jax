{
 "cells": [
  {
   "cell_type": "markdown",
   "id": "55f4ab67",
   "metadata": {},
   "source": [
    "# Kesten Processes and Firm Dynamics\n",
    "\n",
    "\n",
    "<a id='index-0'></a>"
   ]
  },
  {
   "cell_type": "markdown",
   "id": "8ab2f6e9",
   "metadata": {},
   "source": [
    "# GPU\n",
    "\n",
    "This lecture was built using a machine with JAX installed and access to a GPU.\n",
    "\n",
    "To run this lecture on [Google Colab](https://colab.research.google.com/), click on the “play” icon top right, select Colab, and set the runtime environment to include a GPU.\n",
    "\n",
    "To run this lecture on your own machine, you need to install [Google JAX](https://github.com/google/jax).\n",
    "\n",
    "In addition to JAX and Anaconda, this lecture will need the following libraries:"
   ]
  },
  {
   "cell_type": "code",
   "execution_count": null,
   "id": "3d55d743",
   "metadata": {
    "hide-output": false
   },
   "outputs": [],
   "source": [
    "!pip install quantecon"
   ]
  },
  {
   "cell_type": "markdown",
   "id": "313adb3c",
   "metadata": {},
   "source": [
    "## Overview\n",
    "\n",
    "This lecture describes Kesten processes, which are an important class of\n",
    "stochastic processes, and an application of firm dynamics.\n",
    "\n",
    "The lecture draws on [an earlier QuantEcon lecture](https://python.quantecon.org/kesten_processes.html),\n",
    "which uses Numba to accelerate the computations.\n",
    "\n",
    "In that earlier lecture you can find a more detailed discussion of the concepts involved.\n",
    "\n",
    "This lecture focuses on implementing the same computations in JAX.\n",
    "\n",
    "Let’s start with some imports:"
   ]
  },
  {
   "cell_type": "code",
   "execution_count": null,
   "id": "c0f01bbe",
   "metadata": {
    "hide-output": false
   },
   "outputs": [],
   "source": [
    "import matplotlib.pyplot as plt\n",
    "import quantecon as qe\n",
    "import jax\n",
    "import jax.numpy as jnp\n",
    "from jax import random\n",
    "from jax import lax\n",
    "from quantecon import tic, toc\n",
    "from typing import NamedTuple\n",
    "from functools import partial"
   ]
  },
  {
   "cell_type": "markdown",
   "id": "794dbf7c",
   "metadata": {},
   "source": [
    "Let’s check the GPU we are running"
   ]
  },
  {
   "cell_type": "code",
   "execution_count": null,
   "id": "94601df8",
   "metadata": {
    "hide-output": false
   },
   "outputs": [],
   "source": [
    "!nvidia-smi"
   ]
  },
  {
   "cell_type": "markdown",
   "id": "5a0a6811",
   "metadata": {},
   "source": [
    "## Kesten processes\n",
    "\n",
    "\n",
    "<a id='index-1'></a>\n",
    "A **Kesten process** is a stochastic process of the form\n",
    "\n",
    "\n",
    "<a id='equation-kesproc'></a>\n",
    "$$\n",
    "X_{t+1} = a_{t+1} X_t + \\eta_{t+1} \\tag{6.1}\n",
    "$$\n",
    "\n",
    "where $ \\{a_t\\}_{t \\geq 1} $ and $ \\{\\eta_t\\}_{t \\geq 1} $ are IID\n",
    "sequences.\n",
    "\n",
    "We are interested in the dynamics of $ \\{X_t\\}_{t \\geq 0} $ when $ X_0 $ is given.\n",
    "\n",
    "We will focus on the nonnegative scalar case, where $ X_t $ takes values in $ \\mathbb R_+ $.\n",
    "\n",
    "In particular, we will assume that\n",
    "\n",
    "- the initial condition $ X_0 $ is nonnegative,  \n",
    "- $ \\{a_t\\}_{t \\geq 1} $ is a nonnegative IID stochastic process and  \n",
    "- $ \\{\\eta_t\\}_{t \\geq 1} $ is another nonnegative IID stochastic process, independent of the first.  "
   ]
  },
  {
   "cell_type": "markdown",
   "id": "a2825c02",
   "metadata": {},
   "source": [
    "### Application: firm dynamics\n",
    "\n",
    "In this section we apply Kesten process theory to the study of firm dynamics."
   ]
  },
  {
   "cell_type": "markdown",
   "id": "bacf4be5",
   "metadata": {},
   "source": [
    "#### Gibrat’s law\n",
    "\n",
    "It was postulated many years ago by Robert Gibrat that firm size evolves\n",
    "according to a simple rule whereby size next period is proportional to current\n",
    "size.\n",
    "\n",
    "This is now known as [Gibrat’s law of proportional growth](https://en.wikipedia.org/wiki/Gibrat%27s_law).\n",
    "\n",
    "We can express this idea by stating that a suitably defined measure\n",
    "$ s_t $ of firm size obeys\n",
    "\n",
    "\n",
    "<a id='equation-firm-dynam-gb'></a>\n",
    "$$\n",
    "\\frac{s_{t+1}}{s_t} = a_{t+1} \\tag{6.2}\n",
    "$$\n",
    "\n",
    "for some positive IID sequence $ \\{a_t\\} $.\n",
    "\n",
    "Subsequent empirical research has shown that this specification is not accurate,\n",
    "particularly for small firms.\n",
    "\n",
    "However, we can get close to the data by modifying [(6.2)](#equation-firm-dynam-gb) to\n",
    "\n",
    "\n",
    "<a id='equation-firm-dynam'></a>\n",
    "$$\n",
    "s_{t+1} = a_{t+1} s_t + b_{t+1} \\tag{6.3}\n",
    "$$\n",
    "\n",
    "where $ \\{a_t\\} $ and $ \\{b_t\\} $ are both IID and independent of each\n",
    "other.\n",
    "\n",
    "We now study the implications of this specification."
   ]
  },
  {
   "cell_type": "markdown",
   "id": "0852a8b1",
   "metadata": {},
   "source": [
    "#### Heavy tails\n",
    "\n",
    "If the conditions of the [Kesten–Goldie Theorem](https://python.quantecon.org/kesten_processes.html#the-kestengoldie-theorem)\n",
    "are satisfied, then [(6.3)](#equation-firm-dynam) implies that the firm size distribution will have Pareto tails.\n",
    "\n",
    "This matches empirical findings across many data sets.\n",
    "\n",
    "But there is another unrealistic aspect of the firm dynamics specified in [(6.3)](#equation-firm-dynam) that we need to address: it ignores entry and exit.\n",
    "\n",
    "In any given period and in any given market, we observe significant numbers of\n",
    "firms entering and exiting the market.\n",
    "\n",
    "In this setting, firm dynamics can be expressed as\n",
    "\n",
    "\n",
    "<a id='equation-firm-dynam-ee'></a>\n",
    "$$\n",
    "s_{t+1} = e_{t+1} \\mathbb{1}\\{s_t < \\bar s\\} +\n",
    "    (a_{t+1} s_t + b_{t+1}) \\mathbb{1}\\{s_t \\geq \\bar s\\} \\tag{6.4}\n",
    "$$\n",
    "\n",
    "The motivation behind and interpretation of [(6.4)](#equation-firm-dynam-ee) can be found in\n",
    "[our earlier Kesten process lecture](https://python.quantecon.org/kesten_processes.html).\n",
    "\n",
    "What can we say about dynamics?\n",
    "\n",
    "Although [(6.4)](#equation-firm-dynam-ee) is not a Kesten process, it does update in the\n",
    "same way as a Kesten process when $ s_t $ is large.\n",
    "\n",
    "So perhaps its stationary distribution still has Pareto tails?\n",
    "\n",
    "We can investigate this question via simulation and rank-size plots.\n",
    "\n",
    "The approach will be to\n",
    "\n",
    "1. generate $ M $ draws of $ s_T $ when $ M $ and $ T $ are large and  \n",
    "1. plot the largest 1,000 of the resulting draws in a rank-size plot.  \n",
    "\n",
    "\n",
    "(The distribution of $ s_T $ will be close to the stationary distribution\n",
    "when $ T $ is large.)\n",
    "\n",
    "In the simulation, we assume that each of $ a_t, b_t $ and $ e_t $ is lognormal.\n",
    "\n",
    "Here’s a class to store parameters:"
   ]
  },
  {
   "cell_type": "code",
   "execution_count": null,
   "id": "e85c7c30",
   "metadata": {
    "hide-output": false
   },
   "outputs": [],
   "source": [
    "class Firm(NamedTuple):\n",
    "    μ_a:   float = -0.5\n",
    "    σ_a:   float = 0.1\n",
    "    μ_b:   float = 0.0\n",
    "    σ_b:   float = 0.5\n",
    "    μ_e:   float = 0.0\n",
    "    σ_e:   float = 0.5\n",
    "    s_bar: float = 1.0"
   ]
  },
  {
   "cell_type": "markdown",
   "id": "96d09bb3",
   "metadata": {},
   "source": [
    "Here’s code to update a cross-section of firms according to the dynamics in\n",
    "[(6.4)](#equation-firm-dynam-ee)."
   ]
  },
  {
   "cell_type": "code",
   "execution_count": null,
   "id": "18ec86b9",
   "metadata": {
    "hide-output": false
   },
   "outputs": [],
   "source": [
    "@jax.jit\n",
    "def update_cross_section(s, a, b, e, firm):\n",
    "    μ_a, σ_a, μ_b, σ_b, μ_e, σ_e, s_bar = firm\n",
    "    s = jnp.where(s < s_bar, e, a * s + b)\n",
    "    return s"
   ]
  },
  {
   "cell_type": "markdown",
   "id": "ac1f0156",
   "metadata": {},
   "source": [
    "Now we write a for loop that repeatedly calls this function, to push a\n",
    "cross-section of firms forward in time.\n",
    "\n",
    "For sufficiently large `T`, the cross-section it returns (the cross-section at\n",
    "time `T`) corresponds to firm size distribution in (approximate) equilibrium."
   ]
  },
  {
   "cell_type": "code",
   "execution_count": null,
   "id": "35020830",
   "metadata": {
    "hide-output": false
   },
   "outputs": [],
   "source": [
    "def generate_cross_section(\n",
    "        firm, M=500_000, T=500, s_init=1.0, seed=123\n",
    "    ):\n",
    "\n",
    "    μ_a, σ_a, μ_b, σ_b, μ_e, σ_e, s_bar = firm\n",
    "    key = random.PRNGKey(seed)\n",
    "\n",
    "    # Initialize the cross-section to a common value\n",
    "    s = jnp.full((M, ), s_init)\n",
    "\n",
    "    # Perform updates on s for time t\n",
    "    for t in range(T):\n",
    "        key, *subkeys = random.split(key, 4)\n",
    "        a = μ_a + σ_a * random.normal(subkeys[0], (M,))\n",
    "        b = μ_b + σ_b * random.normal(subkeys[1], (M,))\n",
    "        e = μ_e + σ_e * random.normal(subkeys[2], (M,))\n",
    "        # Exponentiate shocks\n",
    "        a, b, e = jax.tree.map(jnp.exp, (a, b, e))\n",
    "        # Update the cross-section of firms\n",
    "        s = update_cross_section(s, a, b, e, firm)\n",
    "\n",
    "    return s"
   ]
  },
  {
   "cell_type": "markdown",
   "id": "64a20e97",
   "metadata": {},
   "source": [
    "Let’s try running the code and generating a cross-section."
   ]
  },
  {
   "cell_type": "code",
   "execution_count": null,
   "id": "7fa40b2f",
   "metadata": {
    "hide-output": false
   },
   "outputs": [],
   "source": [
    "firm = Firm()\n",
    "tic()\n",
    "data = generate_cross_section(firm).block_until_ready()\n",
    "toc()"
   ]
  },
  {
   "cell_type": "markdown",
   "id": "898e35a8",
   "metadata": {},
   "source": [
    "We run the function again so we can see the speed without compile time."
   ]
  },
  {
   "cell_type": "code",
   "execution_count": null,
   "id": "5e60e721",
   "metadata": {
    "hide-output": false
   },
   "outputs": [],
   "source": [
    "tic()\n",
    "data = generate_cross_section(firm).block_until_ready()\n",
    "toc()"
   ]
  },
  {
   "cell_type": "markdown",
   "id": "ce31bd08",
   "metadata": {},
   "source": [
    "Let’s produce the rank-size plot and check the distribution:"
   ]
  },
  {
   "cell_type": "code",
   "execution_count": null,
   "id": "0de1ea10",
   "metadata": {
    "hide-output": false
   },
   "outputs": [],
   "source": [
    "fig, ax = plt.subplots()\n",
    "\n",
    "rank_data, size_data = qe.rank_size(data, c=0.01)\n",
    "ax.loglog(rank_data, size_data, 'o', markersize=3.0, alpha=0.5)\n",
    "ax.set_xlabel(\"log rank\")\n",
    "ax.set_ylabel(\"log size\")\n",
    "\n",
    "plt.show()"
   ]
  },
  {
   "cell_type": "markdown",
   "id": "60f00611",
   "metadata": {},
   "source": [
    "The plot produces a straight line, consistent with a Pareto tail."
   ]
  },
  {
   "cell_type": "markdown",
   "id": "d110e62f",
   "metadata": {},
   "source": [
    "#### Alternative implementation with `lax.fori_loop`\n",
    "\n",
    "Although we JIT-compiled some of the code above,\n",
    "we did not JIT-compile the `for` loop.\n",
    "\n",
    "Let’s try squeezing out a bit more speed\n",
    "by\n",
    "\n",
    "- replacing the `for` loop with [`lax.fori_loop`](https://jax.readthedocs.io/en/latest/_autosummary/jax.lax.fori_loop.html) and  \n",
    "- JIT-compiling the whole function.  \n",
    "\n",
    "\n",
    "Here a the `lax.fori_loop` version:"
   ]
  },
  {
   "cell_type": "code",
   "execution_count": null,
   "id": "aab604cd",
   "metadata": {
    "hide-output": false
   },
   "outputs": [],
   "source": [
    "@jax.jit\n",
    "def generate_cross_section_lax(\n",
    "        firm, T=500, M=500_000, s_init=1.0, seed=123\n",
    "    ):\n",
    "\n",
    "    μ_a, σ_a, μ_b, σ_b, μ_e, σ_e, s_bar = firm\n",
    "    key = random.PRNGKey(seed)\n",
    "    \n",
    "    # Initial cross section\n",
    "    s = jnp.full((M, ), s_init)\n",
    "\n",
    "    def update_cross_section(t, state):\n",
    "        s, key = state\n",
    "        key, *subkeys = jax.random.split(key, 4)\n",
    "        # Generate current random draws \n",
    "        a = μ_a + σ_a * random.normal(subkeys[0], (M,))\n",
    "        b = μ_b + σ_b * random.normal(subkeys[1], (M,))\n",
    "        e = μ_e + σ_e * random.normal(subkeys[2], (M,))\n",
    "        # Exponentiate them\n",
    "        a, b, e = jax.tree.map(jnp.exp, (a, b, e))\n",
    "        # Pull out the t-th cross-section of shocks\n",
    "        s = jnp.where(s < s_bar, e, a * s + b)\n",
    "        new_state = s, key\n",
    "        return new_state\n",
    "\n",
    "    # Use fori_loop \n",
    "    initial_state = s, key\n",
    "    final_s, final_key = lax.fori_loop(\n",
    "        0, T, update_cross_section, initial_state\n",
    "    )\n",
    "    return final_s"
   ]
  },
  {
   "cell_type": "markdown",
   "id": "1d8cd7b7",
   "metadata": {},
   "source": [
    "Let’s see if we get any speed gain"
   ]
  },
  {
   "cell_type": "code",
   "execution_count": null,
   "id": "d752342d",
   "metadata": {
    "hide-output": false
   },
   "outputs": [],
   "source": [
    "tic()\n",
    "data = generate_cross_section_lax(firm).block_until_ready()\n",
    "toc()"
   ]
  },
  {
   "cell_type": "code",
   "execution_count": null,
   "id": "b42c2758",
   "metadata": {
    "hide-output": false
   },
   "outputs": [],
   "source": [
    "tic()\n",
    "data = generate_cross_section_lax(firm).block_until_ready()\n",
    "toc()"
   ]
  },
  {
   "cell_type": "markdown",
   "id": "6f6c8b43",
   "metadata": {},
   "source": [
    "Here we produce the same rank-size plot:"
   ]
  },
  {
   "cell_type": "code",
   "execution_count": null,
   "id": "b63862d1",
   "metadata": {
    "hide-output": false
   },
   "outputs": [],
   "source": [
    "fig, ax = plt.subplots()\n",
    "\n",
    "rank_data, size_data = qe.rank_size(data, c=0.01)\n",
    "ax.loglog(rank_data, size_data, 'o', markersize=3.0, alpha=0.5)\n",
    "ax.set_xlabel(\"log rank\")\n",
    "ax.set_ylabel(\"log size\")\n",
    "\n",
    "plt.show()"
   ]
  },
  {
   "cell_type": "markdown",
   "id": "806abefd",
   "metadata": {},
   "source": [
    "## Exercises"
   ]
  },
  {
   "cell_type": "markdown",
   "id": "0630b14e",
   "metadata": {},
   "source": [
    "## Exercise 6.1\n",
    "\n",
    "Try writing an alternative version of `generate_cross_section_lax()` where the entire sequence of random draws is generated at once, so that all of `a`, `b`, and `e` are of shape `(T, M)`.\n",
    "\n",
    "(The `update_cross_section()` function should not generate any random numbers.)\n",
    "\n",
    "Does it improve the runtime?\n",
    "\n",
    "What are the pros and cons of this approach?"
   ]
  },
  {
   "cell_type": "markdown",
   "id": "53efb547",
   "metadata": {},
   "source": [
    "## Solution to[ Exercise 6.1](https://jax.quantecon.org/#kp_ex1)"
   ]
  },
  {
   "cell_type": "code",
   "execution_count": null,
   "id": "54f2b3fa",
   "metadata": {
    "hide-output": false
   },
   "outputs": [],
   "source": [
    "@jax.jit\n",
    "def generate_cross_section_lax(\n",
    "        firm, T=500, M=500_000, s_init=1.0, seed=123\n",
    "    ):\n",
    "\n",
    "    μ_a, σ_a, μ_b, σ_b, μ_e, σ_e, s_bar = firm\n",
    "    key = random.PRNGKey(seed)\n",
    "    subkey_1, subkey_2, subkey_3 = random.split(key, 3)\n",
    "    \n",
    "    # Generate entire sequence of random draws \n",
    "    a = μ_a + σ_a * random.normal(subkey_1, (T, M))\n",
    "    b = μ_b + σ_b * random.normal(subkey_2, (T, M))\n",
    "    e = μ_e + σ_e * random.normal(subkey_3, (T, M))\n",
    "    # Exponentiate them\n",
    "    a, b, e = jax.tree.map(jnp.exp, (a, b, e))\n",
    "    # Initial cross section\n",
    "    s = jnp.full((M, ), s_init)\n",
    "\n",
    "    def update_cross_section(t, s):\n",
    "        # Pull out the t-th cross-section of shocks\n",
    "        a_t, b_t, e_t = a[t], b[t], e[t]\n",
    "        s = jnp.where(s < s_bar, e_t, a_t * s + b_t)\n",
    "        return s\n",
    "\n",
    "    # Use lax.scan to perform the calculations on all states\n",
    "    s_final = lax.fori_loop(0, T, update_cross_section, s)\n",
    "    return s_final"
   ]
  },
  {
   "cell_type": "markdown",
   "id": "86972646",
   "metadata": {},
   "source": [
    "Here are the run times."
   ]
  },
  {
   "cell_type": "code",
   "execution_count": null,
   "id": "70f9f18c",
   "metadata": {
    "hide-output": false
   },
   "outputs": [],
   "source": [
    "tic()\n",
    "data = generate_cross_section_lax(firm).block_until_ready()\n",
    "toc()"
   ]
  },
  {
   "cell_type": "code",
   "execution_count": null,
   "id": "5fbd0be4",
   "metadata": {
    "hide-output": false
   },
   "outputs": [],
   "source": [
    "tic()\n",
    "data = generate_cross_section_lax(firm).block_until_ready()\n",
    "toc()"
   ]
  },
  {
   "cell_type": "markdown",
   "id": "158129d1",
   "metadata": {},
   "source": [
    "This method might or might not be faster.\n",
    "\n",
    "In general, the relative speed will depend on the size of the cross-section and the length of\n",
    "the simulation paths.\n",
    "\n",
    "However, this method is far more memory intensive.\n",
    "\n",
    "It will fail when $ T $ and $ M $ become sufficiently large."
   ]
  }
 ],
 "metadata": {
  "date": 1754288152.009413,
  "filename": "kesten_processes.md",
  "kernelspec": {
   "display_name": "Python",
   "language": "python3",
   "name": "python3"
  },
  "title": "Kesten Processes and Firm Dynamics"
 },
 "nbformat": 4,
 "nbformat_minor": 5
}