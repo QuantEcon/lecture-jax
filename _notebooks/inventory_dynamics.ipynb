{
 "cells": [
  {
   "cell_type": "markdown",
   "id": "844af601",
   "metadata": {},
   "source": [
    "# Inventory Dynamics"
   ]
  },
  {
   "cell_type": "markdown",
   "id": "ece7418e",
   "metadata": {},
   "source": [
    "# GPU\n",
    "\n",
    "This lecture was built using [hardware](https://jax.quantecon.org/status.html#status-machine-details) that has access to a GPU.\n",
    "\n",
    "To run this lecture on [Google Colab](https://colab.research.google.com/), click on the “play” icon top right, select Colab, and set the runtime environment to include a GPU.\n",
    "\n",
    "To run this lecture on your own machine, you need to install [Google JAX](https://github.com/google/jax).\n",
    "\n",
    "\n",
    "<a id='index-0'></a>"
   ]
  },
  {
   "cell_type": "markdown",
   "id": "5a4dd810",
   "metadata": {},
   "source": [
    "## Contents\n",
    "\n",
    "- [Inventory Dynamics](#Inventory-Dynamics)  \n",
    "  - [Overview](#Overview)  \n",
    "  - [Sample paths](#Sample-paths)  \n",
    "  - [Example 1: marginal distributions](#Example-1:-marginal-distributions)  \n",
    "  - [Example 2: restock frequency](#Example-2:-restock-frequency)  "
   ]
  },
  {
   "cell_type": "markdown",
   "id": "a5f33d40",
   "metadata": {},
   "source": [
    "## Overview\n",
    "\n",
    "This lecture explores JAX implementations of the exercises in the lecture on [inventory dynamics](https://python.quantecon.org/inventory_dynamics.html).\n",
    "\n",
    "We will use the following imports:"
   ]
  },
  {
   "cell_type": "code",
   "execution_count": null,
   "id": "a46e05c7",
   "metadata": {
    "hide-output": false
   },
   "outputs": [],
   "source": [
    "import matplotlib.pyplot as plt\n",
    "import numpy as np\n",
    "import jax\n",
    "import jax.numpy as jnp\n",
    "from jax import random, lax\n",
    "from collections import namedtuple"
   ]
  },
  {
   "cell_type": "markdown",
   "id": "6752c093",
   "metadata": {},
   "source": [
    "Let’s check the GPU we are running"
   ]
  },
  {
   "cell_type": "code",
   "execution_count": null,
   "id": "5183c968",
   "metadata": {
    "hide-output": false
   },
   "outputs": [],
   "source": [
    "!nvidia-smi"
   ]
  },
  {
   "cell_type": "markdown",
   "id": "5473e14c",
   "metadata": {},
   "source": [
    "## Sample paths\n",
    "\n",
    "Consider a firm with inventory $ X_t $.\n",
    "\n",
    "The firm waits until $ X_t \\leq s $ and then restocks up to $ S $ units.\n",
    "\n",
    "It faces stochastic demand $ \\{ D_t \\} $, which we assume is IID.\n",
    "\n",
    "With notation $ a^+ := \\max\\{a, 0\\} $, inventory dynamics can be written\n",
    "as\n",
    "\n",
    "$$\n",
    "X_{t+1} =\n",
    "    \\begin{cases}\n",
    "      ( S - D_{t+1})^+ & \\quad \\text{if } X_t \\leq s \\\\\n",
    "      ( X_t - D_{t+1} )^+ &  \\quad \\text{if } X_t > s\n",
    "    \\end{cases}\n",
    "$$\n",
    "\n",
    "(See our earlier [lecture on inventory dynamics](https://python.quantecon.org/inventory_dynamics.html) for background and motivation.)\n",
    "\n",
    "In what follows, we will assume that each $ D_t $ is lognormal, so that\n",
    "\n",
    "$$\n",
    "D_t = \\exp(\\mu + \\sigma Z_t)\n",
    "$$\n",
    "\n",
    "where $ \\mu $ and $ \\sigma $ are parameters and $ \\{Z_t\\} $ is IID\n",
    "and standard normal.\n",
    "\n",
    "Here’s a `namedtuple` that stores parameters."
   ]
  },
  {
   "cell_type": "code",
   "execution_count": null,
   "id": "5da111df",
   "metadata": {
    "hide-output": false
   },
   "outputs": [],
   "source": [
    "Firm = namedtuple('Firm', ['s', 'S', 'mu', 'sigma'])\n",
    "\n",
    "firm = Firm(s=10, S=100, mu=1.0, sigma=0.5)"
   ]
  },
  {
   "cell_type": "markdown",
   "id": "8d4078ee",
   "metadata": {},
   "source": [
    "## Example 1: marginal distributions\n",
    "\n",
    "Now let’s look at the marginal distribution $ \\psi_T $ of $ X_T $ for some fixed\n",
    "$ T $.\n",
    "\n",
    "We can approximate the distribution using a [kernel density estimator](https://en.wikipedia.org/wiki/Kernel_density_estimation).\n",
    "\n",
    "Kernel density estimators can be thought of as smoothed histograms.\n",
    "\n",
    "We will use a kernel density estimator from [scikit-learn](https://scikit-learn.org/stable/).\n",
    "\n",
    "Here is an example of using kernel density estimators and plotting the result"
   ]
  },
  {
   "cell_type": "code",
   "execution_count": null,
   "id": "15d1b81b",
   "metadata": {
    "hide-output": false
   },
   "outputs": [],
   "source": [
    "from sklearn.neighbors import KernelDensity\n",
    "\n",
    "def plot_kde(sample, ax, label=''):\n",
    "    xmin, xmax = 0.9 * min(sample), 1.1 * max(sample)\n",
    "    xgrid = np.linspace(xmin, xmax, 200)\n",
    "    kde = KernelDensity(kernel='gaussian').fit(sample[:, None])\n",
    "    log_dens = kde.score_samples(xgrid[:, None])\n",
    "\n",
    "    ax.plot(xgrid, np.exp(log_dens), label=label)\n",
    "\n",
    "# Generate simulated data\n",
    "np.random.seed(42)\n",
    "sample_1 = np.random.normal(0, 2, size=10_000)\n",
    "sample_2 = np.random.gamma(2, 2, size=10_000)\n",
    "\n",
    "# Create a plot\n",
    "fig, ax = plt.subplots()\n",
    "\n",
    "# Plot the samples\n",
    "ax.hist(sample_1, alpha=0.2, density=True, bins=50)\n",
    "ax.hist(sample_2, alpha=0.2, density=True, bins=50)\n",
    "\n",
    "# Plot the KDE for each sample\n",
    "plot_kde(sample_1, ax, label=r'KDE over $X \\sim N(0, 2)$')\n",
    "plot_kde(sample_2, ax, label=r'KDE over $X \\sim Gamma(0, 2)$')\n",
    "ax.set_xlabel('value')\n",
    "ax.set_ylabel('density')\n",
    "ax.set_xlim([-5, 10])\n",
    "ax.set_title('KDE of Simulated Normal and Gamma Data')\n",
    "ax.legend()\n",
    "plt.show()"
   ]
  },
  {
   "cell_type": "markdown",
   "id": "da8e83b8",
   "metadata": {},
   "source": [
    "This model for inventory dynamics is asymptotically stationary, with a unique\n",
    "stationary distribution.\n",
    "\n",
    "In particular, the sequence of marginal distributions $ \\{\\psi_t\\} $\n",
    "converges to a unique limiting distribution that does not depend on\n",
    "initial conditions.\n",
    "\n",
    "Although we will not prove this here, we can investigate it using simulation.\n",
    "\n",
    "We can generate and plot the sequence $ \\{\\psi_t\\} $ at times\n",
    "$ t = 10, 50, 250, 500, 750 $ based on the kernel density estimator.\n",
    "\n",
    "We will see convergence, in the sense that differences between successive\n",
    "distributions are getting smaller.\n",
    "\n",
    "Here is one realization of the process in JAX using `for` loop"
   ]
  },
  {
   "cell_type": "code",
   "execution_count": null,
   "id": "6a7072aa",
   "metadata": {
    "hide-output": false
   },
   "outputs": [],
   "source": [
    "# Define a jit-compiled function to update X and key\n",
    "@jax.jit\n",
    "def update_X(X, firm, D):\n",
    "    # Restock if the inventory is below the threshold\n",
    "    res = jnp.where(X <= firm.s,\n",
    "            jnp.maximum(firm.S - D, 0),\n",
    "            jnp.maximum(X - D, 0))\n",
    "    return res\n",
    "\n",
    "\n",
    "def shift_firms_forward(x_init, firm, sample_dates,\n",
    "                        key, num_firms=50_000, sim_length=750):\n",
    "\n",
    "    X = res = jnp.full((num_firms, ), x_init)\n",
    "\n",
    "    # Use for loop to update X and collect samples\n",
    "    for i in range(sim_length):\n",
    "        Z = random.normal(key, shape=(num_firms, ))\n",
    "        D = jnp.exp(firm.mu + firm.sigma * Z)\n",
    "\n",
    "        X = update_X(X, firm, D)\n",
    "        _, key = random.split(key)\n",
    "\n",
    "        # draw a sample at the sample dates\n",
    "        if (i+1 in sample_dates):\n",
    "          res = jnp.vstack((res, X))\n",
    "\n",
    "    return res[1:]"
   ]
  },
  {
   "cell_type": "code",
   "execution_count": null,
   "id": "e47ef184",
   "metadata": {
    "hide-output": false
   },
   "outputs": [],
   "source": [
    "x_init = 50\n",
    "num_firms = 50_000\n",
    "sample_dates = 10, 50, 250, 500, 750\n",
    "key = random.PRNGKey(10)\n",
    "\n",
    "fig, ax = plt.subplots()\n",
    "\n",
    "%time X = shift_firms_forward(x_init, firm, \\\n",
    "                              sample_dates, key).block_until_ready()\n",
    "\n",
    "for i, date in enumerate(sample_dates):\n",
    "    plot_kde(X[i, :], ax, label=f't = {date}')\n",
    "\n",
    "ax.set_xlabel('inventory')\n",
    "ax.set_ylabel('probability')\n",
    "ax.legend()\n",
    "plt.show()"
   ]
  },
  {
   "cell_type": "markdown",
   "id": "4513bb92",
   "metadata": {},
   "source": [
    "Note that we did not JIT-compile the outer loop, since\n",
    "\n",
    "1. `jit` compilation of the `for` loop can be very time consuming and  \n",
    "1. compiling outer loops only leads to minor speed gains.  "
   ]
  },
  {
   "cell_type": "markdown",
   "id": "983bdeae",
   "metadata": {},
   "source": [
    "### Alternative implementation with `lax.scan`\n",
    "\n",
    "An alternative to the `for` loop implementation is `lax.scan`.\n",
    "\n",
    "Here is an example of the same function in `lax.scan`"
   ]
  },
  {
   "cell_type": "code",
   "execution_count": null,
   "id": "3078b01a",
   "metadata": {
    "hide-output": false
   },
   "outputs": [],
   "source": [
    "@jax.jit\n",
    "def shift_firms_forward(x_init, firm, key,\n",
    "                        num_firms=50_000, sim_length=750):\n",
    "\n",
    "    s, S, mu, sigma = firm.s, firm.S, firm.mu, firm.sigma\n",
    "    X = jnp.full((num_firms, ), x_init)\n",
    "    Z = random.normal(key, shape=(sim_length, num_firms))\n",
    "    D = jnp.exp(mu + sigma * Z)\n",
    "\n",
    "    # Define the function for each update\n",
    "    def update_X(X, D):\n",
    "        res = jnp.where(X <= s,\n",
    "                  jnp.maximum(S - D, 0),\n",
    "                  jnp.maximum(X - D, 0))\n",
    "        return res, res\n",
    "\n",
    "    # Use lax.scan to perform the calculations on all states\n",
    "    _, X_final = lax.scan(update_X, X, D)\n",
    "\n",
    "    return X_final"
   ]
  },
  {
   "cell_type": "markdown",
   "id": "f3dee28b",
   "metadata": {},
   "source": [
    "The benefit of the `lax.scan` implementation is that we compile the whole\n",
    "operation.\n",
    "\n",
    "The disadvantages are that\n",
    "\n",
    "1. as mentioned above, there are only limited speed gains in accelerating outer loops,  \n",
    "1. `lax.scan` has a more complicated syntax, and, most importantly,  \n",
    "1. the `lax.scan` implementation consumes far more memory, as we need to have to\n",
    "  store large matrices of random draws  \n",
    "\n",
    "\n",
    "Let’s call the code to generate a cross-section that is in approximate\n",
    "equilibrium."
   ]
  },
  {
   "cell_type": "code",
   "execution_count": null,
   "id": "8be84fa5",
   "metadata": {
    "hide-output": false
   },
   "outputs": [],
   "source": [
    "fig, ax = plt.subplots()\n",
    "\n",
    "%time X = shift_firms_forward(x_init, firm, key).block_until_ready()\n",
    "\n",
    "for date in sample_dates:\n",
    "    plot_kde(X[date, :], ax, label=f't = {date}')\n",
    "\n",
    "ax.set_xlabel('inventory')\n",
    "ax.set_ylabel('probability')\n",
    "ax.legend()\n",
    "plt.show()"
   ]
  },
  {
   "cell_type": "markdown",
   "id": "5663f770",
   "metadata": {},
   "source": [
    "Notice that by $ t=500 $ or $ t=750 $ the densities are barely\n",
    "changing.\n",
    "\n",
    "We have reached a reasonable approximation of the stationary density.\n",
    "\n",
    "You can test a few more initial conditions to show that they do not affect\n",
    "long-run outcomes.\n",
    "\n",
    "For example, try rerunning the code above with all firms starting at\n",
    "$ X_0 = 20 $"
   ]
  },
  {
   "cell_type": "code",
   "execution_count": null,
   "id": "19463192",
   "metadata": {
    "hide-output": false
   },
   "outputs": [],
   "source": [
    "x_init = 20.0\n",
    "\n",
    "fig, ax = plt.subplots()\n",
    "\n",
    "%time X = shift_firms_forward(x_init, firm, key).block_until_ready()\n",
    "\n",
    "for date in sample_dates:\n",
    "    plot_kde(X[date, :], ax, label=f't = {date}')\n",
    "\n",
    "ax.set_xlabel('inventory')\n",
    "ax.set_ylabel('probability')\n",
    "ax.legend()\n",
    "plt.show()"
   ]
  },
  {
   "cell_type": "markdown",
   "id": "ef6b4fcb",
   "metadata": {},
   "source": [
    "## Example 2: restock frequency\n",
    "\n",
    "Let’s go through another example where we calculate the probability of firms\n",
    "having restocks.\n",
    "\n",
    "Specifically we set the starting stock level to 70 ($ X_0 = 70 $), as we calculate\n",
    "the proportion of firms that need to order twice or more in the first 50\n",
    "periods.\n",
    "\n",
    "You will need a large sample size to get an accurate reading.\n",
    "\n",
    "Again, we start with an easier `for` loop implementation"
   ]
  },
  {
   "cell_type": "code",
   "execution_count": null,
   "id": "0db98305",
   "metadata": {
    "hide-output": false
   },
   "outputs": [],
   "source": [
    "# Define a jitted function for each update\n",
    "@jax.jit\n",
    "def update_stock(n_restock, X, firm, D):\n",
    "    n_restock = jnp.where(X <= firm.s,\n",
    "                          n_restock + 1,\n",
    "                          n_restock)\n",
    "    X = jnp.where(X <= firm.s,\n",
    "                  jnp.maximum(firm.S - D, 0),\n",
    "                  jnp.maximum(X - D, 0))\n",
    "    return n_restock, X, key\n",
    "\n",
    "def compute_freq(firm, key,\n",
    "                 x_init=70,\n",
    "                 sim_length=50,\n",
    "                 num_firms=1_000_000):\n",
    "\n",
    "    # Prepare initial arrays\n",
    "    X = jnp.full((num_firms, ), x_init)\n",
    "\n",
    "    # Stack the restock counter on top of the inventory\n",
    "    n_restock = jnp.zeros((num_firms, ))\n",
    "\n",
    "    # Use a for loop to perform the calculations on all states\n",
    "    for i in range(sim_length):\n",
    "        Z = random.normal(key, shape=(num_firms, ))\n",
    "        D = jnp.exp(firm.mu + firm.sigma * Z)\n",
    "        n_restock, X, key = update_stock(\n",
    "            n_restock, X, firm, D)\n",
    "        key = random.fold_in(key, i)\n",
    "\n",
    "    return jnp.mean(n_restock > 1, axis=0)"
   ]
  },
  {
   "cell_type": "code",
   "execution_count": null,
   "id": "ec1f5fe8",
   "metadata": {
    "hide-output": false
   },
   "outputs": [],
   "source": [
    "key = random.PRNGKey(27)\n",
    "%time freq = compute_freq(firm, key).block_until_ready()\n",
    "print(f\"Frequency of at least two stock outs = {freq}\")"
   ]
  },
  {
   "cell_type": "markdown",
   "id": "5f144ba9",
   "metadata": {},
   "source": [
    "### Alternative implementation with `lax.fori_loop`\n",
    "\n",
    "Now let’s write a `lax.fori_loop` version that JIT compiles the whole function"
   ]
  },
  {
   "cell_type": "code",
   "execution_count": null,
   "id": "3f941919",
   "metadata": {
    "hide-output": false
   },
   "outputs": [],
   "source": [
    "@jax.jit\n",
    "def compute_freq(firm, key,\n",
    "                 x_init=70,\n",
    "                 sim_length=50,\n",
    "                 num_firms=1_000_000):\n",
    "\n",
    "    s, S, mu, sigma = firm.s, firm.S, firm.mu, firm.sigma\n",
    "    # Prepare initial arrays\n",
    "    X = jnp.full((num_firms, ), x_init)\n",
    "    Z = random.normal(key, shape=(sim_length, num_firms))\n",
    "    D = jnp.exp(mu + sigma * Z)\n",
    "\n",
    "    # Stack the restock counter on top of the inventory\n",
    "    restock_count = jnp.zeros((num_firms, ))\n",
    "    Xs = (X, restock_count)\n",
    "\n",
    "    # Define the function for each update\n",
    "    def update_X(i, Xs):\n",
    "        # Separate the inventory and restock counter\n",
    "        x, restock_count = Xs[0], Xs[1]\n",
    "        restock_count = jnp.where(x <= s,\n",
    "                                restock_count + 1,\n",
    "                                restock_count)\n",
    "        x = jnp.where(x <= s,\n",
    "                      jnp.maximum(S - D[i], 0),\n",
    "                      jnp.maximum(x - D[i], 0))\n",
    "\n",
    "        Xs = (x, restock_count)\n",
    "        return Xs\n",
    "\n",
    "    # Use lax.fori_loop to perform the calculations on all states\n",
    "    X_final = lax.fori_loop(0, sim_length, update_X, Xs)\n",
    "\n",
    "    return jnp.mean(X_final[1] > 1)"
   ]
  },
  {
   "cell_type": "markdown",
   "id": "eba306a4",
   "metadata": {},
   "source": [
    "Note the time the routine takes to run, as well as the output"
   ]
  },
  {
   "cell_type": "code",
   "execution_count": null,
   "id": "61003bdd",
   "metadata": {
    "hide-output": false
   },
   "outputs": [],
   "source": [
    "%time freq = compute_freq(firm, key).block_until_ready()\n",
    "print(f\"Frequency of at least two stock outs = {freq}\")"
   ]
  }
 ],
 "metadata": {
  "date": 1697074770.6473958,
  "filename": "inventory_dynamics.md",
  "kernelspec": {
   "display_name": "Python",
   "language": "python3",
   "name": "python3"
  },
  "title": "Inventory Dynamics"
 },
 "nbformat": 4,
 "nbformat_minor": 5
}