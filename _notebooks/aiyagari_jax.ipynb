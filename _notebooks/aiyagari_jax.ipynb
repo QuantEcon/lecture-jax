{
 "cells": [
  {
   "cell_type": "markdown",
   "id": "36d99d19",
   "metadata": {},
   "source": [
    "# The Aiyagari Model"
   ]
  },
  {
   "cell_type": "markdown",
   "id": "d50f5cc2",
   "metadata": {},
   "source": [
    "# GPU\n",
    "\n",
    "This lecture was built using [hardware](https://jax.quantecon.org/status.html#status-machine-details) that has access to a GPU.\n",
    "\n",
    "To run this lecture on [Google Colab](https://colab.research.google.com/), click on the “play” icon top right, select Colab, and set the runtime environment to include a GPU.\n",
    "\n",
    "To run this lecture on your own machine, you need to install [Google JAX](https://github.com/google/jax)."
   ]
  },
  {
   "cell_type": "markdown",
   "id": "2a67eca1",
   "metadata": {},
   "source": [
    "## Overview\n",
    "\n",
    "In this lecture, we describe the structure of a class of models that build on work by Truman Bewley [[Bew77](https://python.quantecon.org/zreferences.html#id173)].\n",
    "\n",
    "We begin by discussing an example of a Bewley model due to Rao Aiyagari [[Aiy94](https://python.quantecon.org/zreferences.html#id137)].\n",
    "\n",
    "The model features\n",
    "\n",
    "- Heterogeneous agents  \n",
    "- A single exogenous vehicle for borrowing and lending  \n",
    "- Limits on amounts individual agents may borrow  \n",
    "\n",
    "\n",
    "The Aiyagari model has been used to investigate many topics, including\n",
    "\n",
    "- precautionary savings and the effect of liquidity constraints [[Aiy94](https://python.quantecon.org/zreferences.html#id138)]  \n",
    "- risk sharing and asset pricing [[HL96](https://python.quantecon.org/zreferences.html#id130)]  \n",
    "- the shape of the wealth distribution [[BBZ15](https://python.quantecon.org/zreferences.html#id131)]  "
   ]
  },
  {
   "cell_type": "markdown",
   "id": "05ce428b",
   "metadata": {},
   "source": [
    "### References\n",
    "\n",
    "The primary reference for this lecture is [[Aiy94](https://python.quantecon.org/zreferences.html#id138)].\n",
    "\n",
    "A textbook treatment is available in chapter 18 of [[LS18](https://python.quantecon.org/zreferences.html#id183)].\n",
    "\n",
    "A less sophisticated version of this lecture (without JAX) can be found\n",
    "[here](https://python.quantecon.org/aiyagari.html)."
   ]
  },
  {
   "cell_type": "markdown",
   "id": "dac0b15d",
   "metadata": {},
   "source": [
    "### Preliminaries\n",
    "\n",
    "We use the following imports"
   ]
  },
  {
   "cell_type": "code",
   "execution_count": null,
   "id": "47d70bf0",
   "metadata": {
    "hide-output": false
   },
   "outputs": [],
   "source": [
    "import time\n",
    "import matplotlib.pyplot as plt\n",
    "import numpy as np\n",
    "import jax\n",
    "import jax.numpy as jnp\n",
    "from collections import namedtuple"
   ]
  },
  {
   "cell_type": "markdown",
   "id": "0c38282b",
   "metadata": {},
   "source": [
    "Let’s check the GPU we are running"
   ]
  },
  {
   "cell_type": "code",
   "execution_count": null,
   "id": "4f1e7efd",
   "metadata": {
    "hide-output": false
   },
   "outputs": [],
   "source": [
    "!nvidia-smi"
   ]
  },
  {
   "cell_type": "markdown",
   "id": "9f4ff447",
   "metadata": {},
   "source": [
    "We will use 64 bit floats with JAX in order to increase the precision."
   ]
  },
  {
   "cell_type": "code",
   "execution_count": null,
   "id": "0a5abaa9",
   "metadata": {
    "hide-output": false
   },
   "outputs": [],
   "source": [
    "jax.config.update(\"jax_enable_x64\", True)"
   ]
  },
  {
   "cell_type": "markdown",
   "id": "d7740177",
   "metadata": {},
   "source": [
    "We will use the following function to compute stationary distributions of stochastic matrices.  (For a reference to the algorithm, see p. 88 of [Economic Dynamics](https://johnstachurski.net/edtc).)"
   ]
  },
  {
   "cell_type": "code",
   "execution_count": null,
   "id": "d4425e6f",
   "metadata": {
    "hide-output": false
   },
   "outputs": [],
   "source": [
    "# Compute the stationary distribution of P by matrix inversion.\n",
    "\n",
    "@jax.jit\n",
    "def compute_stationary(P):\n",
    "    n = P.shape[0]\n",
    "    I = jnp.identity(n)\n",
    "    O = jnp.ones((n, n))\n",
    "    A = I - jnp.transpose(P) + O\n",
    "    return jnp.linalg.solve(A, jnp.ones(n))"
   ]
  },
  {
   "cell_type": "markdown",
   "id": "ac6b8d00",
   "metadata": {},
   "source": [
    "## Firms\n",
    "\n",
    "Firms produce output by hiring capital and labor.\n",
    "\n",
    "Firms act competitively and face constant returns to scale.\n",
    "\n",
    "Since returns to scale are constant the number of firms does not matter.\n",
    "\n",
    "Hence we can consider a single (but nonetheless competitive) representative firm.\n",
    "\n",
    "The firm’s output is\n",
    "\n",
    "$$\n",
    "Y_t = A K_t^{\\alpha} N^{1 - \\alpha}\n",
    "$$\n",
    "\n",
    "where\n",
    "\n",
    "- $ A $ and $ \\alpha $ are parameters with $ A > 0 $ and $ \\alpha \\in (0, 1) $  \n",
    "- $ K_t $ is aggregate capital  \n",
    "- $ N $ is total labor supply (which is constant in this simple version of the model)  \n",
    "\n",
    "\n",
    "The firm’s problem is\n",
    "\n",
    "$$\n",
    "\\max_{K, N} \\left\\{ A K_t^{\\alpha} N^{1 - \\alpha} - (r + \\delta) K - w N \\right\\}\n",
    "$$\n",
    "\n",
    "The parameter $ \\delta $ is the depreciation rate.\n",
    "\n",
    "These parameters are stored in the following namedtuple."
   ]
  },
  {
   "cell_type": "code",
   "execution_count": null,
   "id": "a9f8bf15",
   "metadata": {
    "hide-output": false
   },
   "outputs": [],
   "source": [
    "Firm = namedtuple('Firm', ('A', 'N', 'α', 'β', 'δ'))\n",
    "\n",
    "def create_firm(A=1.0,\n",
    "                N=1.0,\n",
    "                α=0.33,\n",
    "                β=0.96,\n",
    "                δ=0.05):\n",
    "\n",
    "    return Firm(A=A, N=N, α=α, β=β, δ=δ)"
   ]
  },
  {
   "cell_type": "markdown",
   "id": "781b5062",
   "metadata": {},
   "source": [
    "From the first-order condition with respect to capital,\n",
    "\n",
    "the firm’s inverse demand for capital is\n",
    "\n",
    "\n",
    "<a id='equation-equation-aiy-rgk'></a>\n",
    "$$\n",
    "r = A \\alpha  \\left( \\frac{N}{K} \\right)^{1 - \\alpha} - \\delta \\tag{16.1}\n",
    "$$"
   ]
  },
  {
   "cell_type": "code",
   "execution_count": null,
   "id": "c12dff2c",
   "metadata": {
    "hide-output": false
   },
   "outputs": [],
   "source": [
    "def r_given_k(K, firm):\n",
    "    \"\"\"\n",
    "    Inverse demand curve for capital.  The interest rate associated with a\n",
    "    given demand for capital K.\n",
    "    \"\"\"\n",
    "    A, N, α, β, δ = firm\n",
    "    return A * α * (N / K)**(1 - α) - δ"
   ]
  },
  {
   "cell_type": "markdown",
   "id": "f106a640",
   "metadata": {},
   "source": [
    "Using [(16.1)](#equation-equation-aiy-rgk) and the firm’s first-order condition for labor,\n",
    "\n",
    "we can pin down the equilibrium wage rate as a function of $ r $ as\n",
    "\n",
    "\n",
    "<a id='equation-equation-aiy-wgr'></a>\n",
    "$$\n",
    "w(r) = A  (1 - \\alpha)  (A \\alpha / (r + \\delta))^{\\alpha / (1 - \\alpha)} \\tag{16.2}\n",
    "$$"
   ]
  },
  {
   "cell_type": "code",
   "execution_count": null,
   "id": "fecb8048",
   "metadata": {
    "hide-output": false
   },
   "outputs": [],
   "source": [
    "def r_to_w(r, f):\n",
    "    \"\"\"\n",
    "    Equilibrium wages associated with a given interest rate r.\n",
    "    \"\"\"\n",
    "    A, N, α, β, δ = f\n",
    "    return A * (1 - α) * (A * α / (r + δ))**(α / (1 - α))"
   ]
  },
  {
   "cell_type": "markdown",
   "id": "4009ff4c",
   "metadata": {},
   "source": [
    "## Households\n",
    "\n",
    "Infinitely lived households / consumers face idiosyncratic income shocks.\n",
    "\n",
    "A unit interval of  *ex-ante* identical households face a common borrowing constraint.\n",
    "\n",
    "The savings problem faced by a typical  household is\n",
    "\n",
    "$$\n",
    "\\max \\mathbb E \\sum_{t=0}^{\\infty} \\beta^t u(c_t)\n",
    "$$\n",
    "\n",
    "subject to\n",
    "\n",
    "$$\n",
    "a_{t+1} + c_t \\leq w z_t + (1 + r) a_t\n",
    "\\quad\n",
    "c_t \\geq 0,\n",
    "\\quad \\text{and} \\quad\n",
    "a_t \\geq -B\n",
    "$$\n",
    "\n",
    "where\n",
    "\n",
    "- $ c_t $ is current consumption  \n",
    "- $ a_t $ is assets  \n",
    "- $ z_t $ is an exogenous component of labor income capturing stochastic unemployment risk, etc.  \n",
    "- $ w $ is a wage rate  \n",
    "- $ r $ is a net interest rate  \n",
    "- $ B $ is the maximum amount that the agent is allowed to borrow  \n",
    "\n",
    "\n",
    "The exogenous process $ \\{z_t\\} $ follows a finite state Markov chain with given stochastic matrix $ P $.\n",
    "\n",
    "In this simple version of the model, households supply labor  inelastically because they do not value leisure.\n",
    "\n",
    "Below we provide code to solve the household problem, taking $ r $ and $ w $ as fixed.\n",
    "\n",
    "For now we assume that $ u(c) = \\log(c) $.\n",
    "\n",
    "(CRRA utility is treated in the exercises.)"
   ]
  },
  {
   "cell_type": "markdown",
   "id": "9f796c76",
   "metadata": {},
   "source": [
    "### Primitives and Operators\n",
    "\n",
    "This namedtuple stores the parameters that define a household asset\n",
    "accumulation problem and the grids used to solve it."
   ]
  },
  {
   "cell_type": "code",
   "execution_count": null,
   "id": "7fc6a3d2",
   "metadata": {
    "hide-output": false
   },
   "outputs": [],
   "source": [
    "Household = namedtuple('Household', ('r', 'w', 'β', 'a_size', 'z_size', \\\n",
    "                                     'a_grid', 'z_grid', 'Π'))\n",
    "\n",
    "def create_household(r=0.01,                      # Interest rate\n",
    "                     w=1.0,                       # Wages\n",
    "                     β=0.96,                      # Discount factor\n",
    "                     Π=[[0.9, 0.1], [0.1, 0.9]],  # Markov chain\n",
    "                     z_grid=[0.1, 1.0],           # Exogenous states\n",
    "                     a_min=1e-10, a_max=20,       # Asset grid\n",
    "                     a_size=200):\n",
    "    \n",
    "    a_grid = jnp.linspace(a_min, a_max, a_size)\n",
    "    z_grid, Π = map(jnp.array, (z_grid, Π))\n",
    "    Π = jax.device_put(Π)\n",
    "    z_grid = jax.device_put(z_grid)\n",
    "    z_size = len(z_grid)\n",
    "    a_grid, z_grid, Π = jax.device_put((a_grid, z_grid, Π))\n",
    "        \n",
    "    return Household(r=r, w=w, β=β, a_size=a_size, z_size=z_size, \\\n",
    "                     a_grid=a_grid, z_grid=z_grid, Π=Π)"
   ]
  },
  {
   "cell_type": "code",
   "execution_count": null,
   "id": "9c5cf5c7",
   "metadata": {
    "hide-output": false
   },
   "outputs": [],
   "source": [
    "def u(c):\n",
    "    return jnp.log(c)"
   ]
  },
  {
   "cell_type": "markdown",
   "id": "d1cb4962",
   "metadata": {},
   "source": [
    "This is the vectorized version of the right-hand side of the Bellman equation\n",
    "(before maximization), which is a 3D array representing\n",
    "\n",
    "$$\n",
    "B(a, z, a') = u(wz + (1+r)a - a') + \\beta \\sum_{z'} v(a', z') Π(z, z')\n",
    "$$\n",
    "\n",
    "for all $ (a, z, a') $."
   ]
  },
  {
   "cell_type": "code",
   "execution_count": null,
   "id": "6c8ede82",
   "metadata": {
    "hide-output": false
   },
   "outputs": [],
   "source": [
    "def B(v, constants, sizes, arrays):\n",
    "    # Unpack\n",
    "    r, w, β = constants\n",
    "    a_size, z_size = sizes\n",
    "    a_grid, z_grid, Π = arrays\n",
    "\n",
    "    # Compute current consumption as array c[i, j, ip]\n",
    "    a  = jnp.reshape(a_grid, (a_size, 1, 1))    # a[i]   ->  a[i, j, ip]\n",
    "    z  = jnp.reshape(z_grid, (1, z_size, 1))    # z[j]   ->  z[i, j, ip]\n",
    "    ap = jnp.reshape(a_grid, (1, 1, a_size))    # ap[ip] -> ap[i, j, ip]\n",
    "    c = w*z + (1 + r)*a - ap\n",
    "\n",
    "    # Calculate continuation rewards at all combinations of (a, z, ap)\n",
    "    v = jnp.reshape(v, (1, 1, a_size, z_size))  # v[ip, jp] -> v[i, j, ip, jp]\n",
    "    Π = jnp.reshape(Π, (1, z_size, 1, z_size))  # Π[j, jp]  -> Π[i, j, ip, jp]\n",
    "    EV = jnp.sum(v * Π, axis=3)                 # sum over last index jp\n",
    "\n",
    "    # Compute the right-hand side of the Bellman equation\n",
    "    return jnp.where(c > 0, u(c) + β * EV, -jnp.inf)\n",
    "\n",
    "B = jax.jit(B, static_argnums=(2,))"
   ]
  },
  {
   "cell_type": "markdown",
   "id": "d8e5cbbd",
   "metadata": {},
   "source": [
    "The next function computes greedy policies."
   ]
  },
  {
   "cell_type": "code",
   "execution_count": null,
   "id": "25527089",
   "metadata": {
    "hide-output": false
   },
   "outputs": [],
   "source": [
    "# Computes a v-greedy policy, returned as a set of indices\n",
    "def get_greedy(v, constants, sizes, arrays):\n",
    "    return jnp.argmax(B(v, constants, sizes, arrays), axis=2)\n",
    "\n",
    "get_greedy = jax.jit(get_greedy, static_argnums=(2,))"
   ]
  },
  {
   "cell_type": "markdown",
   "id": "8fbcb855",
   "metadata": {},
   "source": [
    "We need to know rewards at a given policy for policy iteration.\n",
    "\n",
    "The following functions computes the array $ r_{\\sigma} $ which gives current\n",
    "rewards given policy $ \\sigma $.\n",
    "\n",
    "That is,\n",
    "\n",
    "$$\n",
    "r_{\\sigma}[i, j] = r[i, j, \\sigma[i, j]]\n",
    "$$"
   ]
  },
  {
   "cell_type": "code",
   "execution_count": null,
   "id": "d8c1870f",
   "metadata": {
    "hide-output": false
   },
   "outputs": [],
   "source": [
    "def compute_r_σ(σ, constants, sizes, arrays):\n",
    "    # Unpack\n",
    "    r, w, β = constants\n",
    "    a_size, z_size = sizes\n",
    "    a_grid, z_grid, Π = arrays\n",
    "\n",
    "    # Compute r_σ[i, j]\n",
    "    a = jnp.reshape(a_grid, (a_size, 1))\n",
    "    z = jnp.reshape(z_grid, (1, z_size))\n",
    "    ap = a_grid[σ]\n",
    "    c = (1 + r)*a + w*z - ap\n",
    "    r_σ = u(c)\n",
    "\n",
    "    return r_σ\n",
    "\n",
    "compute_r_σ = jax.jit(compute_r_σ, static_argnums=(2,))"
   ]
  },
  {
   "cell_type": "markdown",
   "id": "5b42b5b9",
   "metadata": {},
   "source": [
    "The value $ v_{\\sigma} $ of a policy $ \\sigma $ is defined as\n",
    "\n",
    "$$\n",
    "v_{\\sigma} = (I - \\beta P_{\\sigma})^{-1} r_{\\sigma}\n",
    "$$\n",
    "\n",
    "Here we set up the linear map $ v \\rightarrow R_{\\sigma} v $, where $ R_{\\sigma} := I - \\beta P_{\\sigma} $.\n",
    "\n",
    "In the consumption problem, this map can be expressed as\n",
    "\n",
    "$$\n",
    "(R_{\\sigma} v)(a, z) = v(a, z) - \\beta \\sum_{z'} v(\\sigma(a, z), z') Π(z, z')\n",
    "$$\n",
    "\n",
    "Defining the map as above works in a more intuitive multi-index setting\n",
    "\n",
    "(e.g. working with $ v[i, j] $ rather than flattening $ v $ to a one-dimensional array)\n",
    "\n",
    "and avoids instantiating the large matrix $ P_{\\sigma} $."
   ]
  },
  {
   "cell_type": "code",
   "execution_count": null,
   "id": "874759ae",
   "metadata": {
    "hide-output": false
   },
   "outputs": [],
   "source": [
    "def R_σ(v, σ, constants, sizes, arrays):\n",
    "    # Unpack\n",
    "    r, w, β = constants\n",
    "    a_size, z_size = sizes\n",
    "    a_grid, z_grid, Π = arrays\n",
    "\n",
    "    # Set up the array v[σ[i, j], jp]\n",
    "    zp_idx = jnp.arange(z_size)\n",
    "    zp_idx = jnp.reshape(zp_idx, (1, 1, z_size))\n",
    "    σ = jnp.reshape(σ, (a_size, z_size, 1))\n",
    "    V = v[σ, zp_idx]\n",
    "\n",
    "    # Expand Π[j, jp] to Π[i, j, jp]\n",
    "    Π = jnp.reshape(Π, (1, z_size, z_size))\n",
    "\n",
    "    # Compute and return v[i, j] - β Σ_jp v[σ[i, j], jp] * Π[j, jp]\n",
    "    return v - β * jnp.sum(V * Π, axis=2)\n",
    "\n",
    "R_σ = jax.jit(R_σ, static_argnums=(3,))"
   ]
  },
  {
   "cell_type": "markdown",
   "id": "ddf9b931",
   "metadata": {},
   "source": [
    "The next function computes the lifetime value of a given policy."
   ]
  },
  {
   "cell_type": "code",
   "execution_count": null,
   "id": "f6620665",
   "metadata": {
    "hide-output": false
   },
   "outputs": [],
   "source": [
    "# Get the value v_σ of policy σ by inverting the linear map R_σ\n",
    "\n",
    "def get_value(σ, constants, sizes, arrays):\n",
    "\n",
    "    r_σ = compute_r_σ(σ, constants, sizes, arrays)\n",
    "    # Reduce R_σ to a function in v\n",
    "    partial_R_σ = lambda v: R_σ(v, σ, constants, sizes, arrays)\n",
    "    # Compute inverse v_σ = (I - β P_σ)^{-1} r_σ\n",
    "    return jax.scipy.sparse.linalg.bicgstab(partial_R_σ, r_σ)[0]\n",
    "\n",
    "get_value = jax.jit(get_value, static_argnums=(2,))"
   ]
  },
  {
   "cell_type": "markdown",
   "id": "f1bdbd02",
   "metadata": {},
   "source": [
    "## Solvers\n",
    "\n",
    "We will solve the household problem using Howard policy iteration."
   ]
  },
  {
   "cell_type": "code",
   "execution_count": null,
   "id": "6b3aabf4",
   "metadata": {
    "hide-output": false
   },
   "outputs": [],
   "source": [
    "def policy_iteration(household, tol=1e-4, max_iter=10_000, verbose=False):\n",
    "    \"\"\"Howard policy iteration routine.\"\"\"\n",
    "    \n",
    "    γ, w, β, a_size, z_size, a_grid, z_grid, Π = household\n",
    "    \n",
    "    constants = γ, w, β\n",
    "    sizes = a_size, z_size\n",
    "    arrays = a_grid, z_grid, Π\n",
    "\n",
    "    σ = jnp.zeros(sizes, dtype=int)\n",
    "    v_σ = get_value(σ, constants, sizes, arrays)\n",
    "    i = 0\n",
    "    error = tol + 1\n",
    "    while error > tol and i < max_iter:\n",
    "        σ_new = get_greedy(v_σ, constants, sizes, arrays)\n",
    "        v_σ_new = get_value(σ_new, constants, sizes, arrays)\n",
    "        error = jnp.max(jnp.abs(v_σ_new - v_σ))\n",
    "        σ = σ_new\n",
    "        v_σ = v_σ_new\n",
    "        i = i + 1\n",
    "        if verbose:\n",
    "            print(f\"Concluded loop {i} with error {error}.\")\n",
    "    return σ"
   ]
  },
  {
   "cell_type": "markdown",
   "id": "5089485e",
   "metadata": {},
   "source": [
    "As a first example of what we can do, let’s compute and plot an optimal accumulation policy at fixed prices."
   ]
  },
  {
   "cell_type": "code",
   "execution_count": null,
   "id": "a1d8b2bf",
   "metadata": {
    "hide-output": false
   },
   "outputs": [],
   "source": [
    "# Create an instance of Housbehold\n",
    "household = create_household()"
   ]
  },
  {
   "cell_type": "code",
   "execution_count": null,
   "id": "1cac4d46",
   "metadata": {
    "hide-output": false
   },
   "outputs": [],
   "source": [
    "%%time\n",
    "\n",
    "σ_star = policy_iteration(household, verbose=True)\n",
    "\n",
    "\n",
    "# The next plot shows asset accumulation policies at different values of the exogenous state."
   ]
  },
  {
   "cell_type": "code",
   "execution_count": null,
   "id": "1452cc92",
   "metadata": {
    "hide-output": false
   },
   "outputs": [],
   "source": [
    "γ, w, β, a_size, z_size, a_grid, z_grid, Π = household\n",
    "\n",
    "fig, ax = plt.subplots()\n",
    "ax.plot(a_grid, a_grid, 'k--', label=\"45 degrees\")  \n",
    "for j, z in enumerate(z_grid):\n",
    "    lb = f'$z = {z:.2}$'\n",
    "    policy_vals = a_grid[σ_star[:, j]]\n",
    "    ax.plot(a_grid, policy_vals, lw=2, alpha=0.6, label=lb)\n",
    "    ax.set_xlabel('current assets')\n",
    "    ax.set_ylabel('next period assets')\n",
    "ax.legend(loc='upper left')\n",
    "plt.show()"
   ]
  },
  {
   "cell_type": "markdown",
   "id": "a9c6df50",
   "metadata": {},
   "source": [
    "### Capital Supply\n",
    "\n",
    "To start thinking about equilibrium, we need to know how much capital households supply at a given interest rate $ r $.\n",
    "\n",
    "This quantity can be calculated by taking the stationary distribution of assets under the optimal policy and computing the mean.\n",
    "\n",
    "The next function implements this calculation for a given policy $ \\sigma $.\n",
    "\n",
    "First we compute the stationary distribution of $ P_{\\sigma} $, which is for the\n",
    "bivariate Markov chain of the state $ (a_t, z_t) $.  Then we sum out\n",
    "$ z_t $ to get the marginal distribution for $ a_t $."
   ]
  },
  {
   "cell_type": "code",
   "execution_count": null,
   "id": "08d082b0",
   "metadata": {
    "hide-output": false
   },
   "outputs": [],
   "source": [
    "def compute_asset_stationary(σ, constants, sizes, arrays):\n",
    "\n",
    "    # Unpack\n",
    "    r, w, β = constants\n",
    "    a_size, z_size = sizes\n",
    "    a_grid, z_grid, Π = arrays\n",
    "\n",
    "    # Construct P_σ as an array of the form P_σ[i, j, ip, jp]\n",
    "    ap_idx = jnp.arange(a_size)\n",
    "    ap_idx = jnp.reshape(ap_idx, (1, 1, a_size, 1))\n",
    "    σ = jnp.reshape(σ, (a_size, z_size, 1, 1))\n",
    "    A = jnp.where(σ == ap_idx, 1, 0)\n",
    "    Π = jnp.reshape(Π, (1, z_size, 1, z_size))\n",
    "    P_σ = A * Π\n",
    "\n",
    "    # Reshape P_σ into a matrix\n",
    "    n = a_size * z_size\n",
    "    P_σ = jnp.reshape(P_σ, (n, n))\n",
    "\n",
    "    # Get stationary distribution and reshape onto [i, j] grid\n",
    "    ψ = compute_stationary(P_σ)\n",
    "    ψ = jnp.reshape(ψ, (a_size, z_size))\n",
    "\n",
    "    # Sum along the rows to get the marginal distribution of assets\n",
    "    ψ_a = jnp.sum(ψ, axis=1)\n",
    "    return ψ_a\n",
    "\n",
    "compute_asset_stationary = jax.jit(compute_asset_stationary,\n",
    "                                   static_argnums=(2,))"
   ]
  },
  {
   "cell_type": "markdown",
   "id": "b0e77030",
   "metadata": {},
   "source": [
    "Let’s give this a test run."
   ]
  },
  {
   "cell_type": "code",
   "execution_count": null,
   "id": "a299921a",
   "metadata": {
    "hide-output": false
   },
   "outputs": [],
   "source": [
    "γ, w, β, a_size, z_size, a_grid, z_grid, Π = household\n",
    "constants = γ, w, β\n",
    "sizes = a_size, z_size\n",
    "arrays = a_grid, z_grid, Π\n",
    "ψ = compute_asset_stationary(σ_star, constants, sizes, arrays)"
   ]
  },
  {
   "cell_type": "markdown",
   "id": "3db8b6fa",
   "metadata": {},
   "source": [
    "The distribution should sum to one:"
   ]
  },
  {
   "cell_type": "code",
   "execution_count": null,
   "id": "92bb3a0e",
   "metadata": {
    "hide-output": false
   },
   "outputs": [],
   "source": [
    "ψ.sum()"
   ]
  },
  {
   "cell_type": "markdown",
   "id": "a77f6ee4",
   "metadata": {},
   "source": [
    "Now we are ready to compute capital supply by households given wages and interest rates."
   ]
  },
  {
   "cell_type": "code",
   "execution_count": null,
   "id": "863a7edd",
   "metadata": {
    "hide-output": false
   },
   "outputs": [],
   "source": [
    "def capital_supply(household):\n",
    "    \"\"\"\n",
    "    Map household decisions to the induced level of capital stock.\n",
    "    \"\"\"\n",
    "\n",
    "    # Unpack\n",
    "    γ, w, β, a_size, z_size, a_grid, z_grid, Π = household\n",
    "    \n",
    "    constants = γ, w, β\n",
    "    sizes = a_size, z_size\n",
    "    arrays = a_grid, z_grid, Π\n",
    "\n",
    "    # Compute the optimal policy\n",
    "    σ_star = policy_iteration(household)\n",
    "    # Compute the stationary distribution\n",
    "    ψ_a = compute_asset_stationary(σ_star, constants, sizes, arrays)\n",
    "\n",
    "    # Return K\n",
    "    return float(jnp.sum(ψ_a * a_grid))"
   ]
  },
  {
   "cell_type": "markdown",
   "id": "95e7c94d",
   "metadata": {},
   "source": [
    "## Equilibrium\n",
    "\n",
    "We construct  a *stationary rational expectations equilibrium* (SREE).\n",
    "\n",
    "In such an equilibrium\n",
    "\n",
    "- prices induce behavior that generates aggregate quantities consistent with the prices  \n",
    "- aggregate quantities and prices are constant over time  \n",
    "\n",
    "\n",
    "In more detail, an SREE lists a set of prices, savings and production policies such that\n",
    "\n",
    "- households want to choose the specified savings policies taking the prices as given  \n",
    "- firms maximize profits taking the same prices as given  \n",
    "- the resulting aggregate quantities are consistent with the prices; in particular, the demand for capital equals the supply  \n",
    "- aggregate quantities (defined as cross-sectional averages) are constant  \n",
    "\n",
    "\n",
    "In practice, once parameter values are set, we can check for an SREE by the following steps\n",
    "\n",
    "1. pick a proposed quantity $ K $ for aggregate capital  \n",
    "1. determine corresponding prices, with interest rate $ r $ determined by [(16.1)](#equation-equation-aiy-rgk) and a wage rate $ w(r) $ as given in [(16.2)](#equation-equation-aiy-wgr).  \n",
    "1. determine the common optimal savings policy of the households given these prices  \n",
    "1. compute aggregate capital as the mean of steady state capital given this savings policy  \n",
    "\n",
    "\n",
    "If this final quantity agrees with $ K $ then we have a SREE.  Otherwise we adjust $ K $.\n",
    "\n",
    "These steps describe a fixed point problem which we solve below."
   ]
  },
  {
   "cell_type": "markdown",
   "id": "a4bef732",
   "metadata": {},
   "source": [
    "### Visual inspection\n",
    "\n",
    "Let’s inspect visually as a first pass.\n",
    "\n",
    "The following code draws aggregate supply and demand curves for capital.\n",
    "\n",
    "The intersection gives equilibrium interest rates and capital."
   ]
  },
  {
   "cell_type": "code",
   "execution_count": null,
   "id": "754b8805",
   "metadata": {
    "hide-output": false
   },
   "outputs": [],
   "source": [
    "# Create default instances\n",
    "household = create_household()\n",
    "firm = create_firm()\n",
    "\n",
    "# Create a grid of r values at which to compute demand and supply of capital\n",
    "num_points = 50\n",
    "r_vals = np.linspace(0.005, 0.04, num_points)"
   ]
  },
  {
   "cell_type": "code",
   "execution_count": null,
   "id": "f3d8f154",
   "metadata": {
    "hide-output": false
   },
   "outputs": [],
   "source": [
    "%%time\n",
    "\n",
    "# Compute supply of capital\n",
    "k_vals = np.empty(num_points)\n",
    "for i, r in enumerate(r_vals):\n",
    "    # _replace create a new nametuple with the updated parameters\n",
    "    household = household._replace(r=r, w=r_to_w(r, firm)) \n",
    "    k_vals[i] = capital_supply(household)"
   ]
  },
  {
   "cell_type": "code",
   "execution_count": null,
   "id": "15d23dee",
   "metadata": {
    "hide-output": false
   },
   "outputs": [],
   "source": [
    "# Plot against demand for capital by firms\n",
    "\n",
    "fig, ax = plt.subplots()\n",
    "ax.plot(k_vals, r_vals, lw=2, alpha=0.6, label='supply of capital')\n",
    "ax.plot(k_vals, r_given_k(k_vals, firm), lw=2, alpha=0.6, label='demand for capital')\n",
    "ax.set_xlabel('capital')\n",
    "ax.set_ylabel('interest rate')\n",
    "ax.legend(loc='upper right')\n",
    "\n",
    "plt.show()"
   ]
  },
  {
   "cell_type": "markdown",
   "id": "06a5a686",
   "metadata": {},
   "source": [
    "Here’s a plot of the excess demand function.\n",
    "\n",
    "The equilibrium is the zero (root) of this function."
   ]
  },
  {
   "cell_type": "code",
   "execution_count": null,
   "id": "19b348c8",
   "metadata": {
    "hide-output": false
   },
   "outputs": [],
   "source": [
    "def excess_demand(K, firm, household):\n",
    "    r = r_given_k(K, firm)\n",
    "    w = r_to_w(r, firm)\n",
    "    household = household._replace(r=r, w=w)\n",
    "    return K - capital_supply(household)"
   ]
  },
  {
   "cell_type": "code",
   "execution_count": null,
   "id": "f9c72782",
   "metadata": {
    "hide-output": false
   },
   "outputs": [],
   "source": [
    "%%time\n",
    "\n",
    "num_points = 50\n",
    "k_vals = np.linspace(4, 12, num_points)\n",
    "out = [excess_demand(k, firm, household) for k in k_vals]"
   ]
  },
  {
   "cell_type": "code",
   "execution_count": null,
   "id": "5cedff54",
   "metadata": {
    "hide-output": false
   },
   "outputs": [],
   "source": [
    "fig, ax = plt.subplots()\n",
    "ax.plot(k_vals, out, lw=2, alpha=0.6, label='excess demand')\n",
    "ax.plot(k_vals, np.zeros_like(k_vals), 'k--', label=\"45\")\n",
    "ax.set_xlabel('capital')\n",
    "ax.legend()\n",
    "plt.show()"
   ]
  },
  {
   "cell_type": "markdown",
   "id": "ad471f13",
   "metadata": {},
   "source": [
    "### Computing the equilibrium\n",
    "\n",
    "Now let’s compute the equilibrium\n",
    "\n",
    "To do so, we use the bisection method, which is implemented\n",
    "in the next function."
   ]
  },
  {
   "cell_type": "code",
   "execution_count": null,
   "id": "641c9f81",
   "metadata": {
    "hide-output": false
   },
   "outputs": [],
   "source": [
    "def bisect(f, a, b, *args, tol=10e-2):\n",
    "    \"\"\"\n",
    "    Implements the bisection root finding algorithm, assuming that f is a\n",
    "    real-valued function on [a, b] satisfying f(a) < 0 < f(b).\n",
    "    \"\"\"\n",
    "    lower, upper = a, b\n",
    "    count = 0\n",
    "    while upper - lower > tol and count < 10000:\n",
    "        middle = 0.5 * (upper + lower)\n",
    "        if f(middle, *args) > 0:   # root is between lower and middle\n",
    "            lower, upper = lower, middle\n",
    "        else:                      # root is between middle and upper\n",
    "            lower, upper = middle, upper\n",
    "        count += 1\n",
    "    if count == 10000:\n",
    "        print(\"Root might not be accurate\")\n",
    "    return 0.5 * (upper + lower), count"
   ]
  },
  {
   "cell_type": "markdown",
   "id": "f65be49e",
   "metadata": {},
   "source": [
    "Now we call the bisection function on excess demand."
   ]
  },
  {
   "cell_type": "code",
   "execution_count": null,
   "id": "bdd435ae",
   "metadata": {
    "hide-output": false
   },
   "outputs": [],
   "source": [
    "def compute_equilibrium(firm, household):\n",
    "    print(\"\\nComputing equilibrium capital stock\")\n",
    "    start = time.time()\n",
    "    solution, count = bisect(excess_demand, 6.0, 10.0, firm, household)\n",
    "    elapsed = time.time() - start\n",
    "    print(f\"Computed equilibrium in {count} iterations and {elapsed} seconds\")\n",
    "    return solution"
   ]
  },
  {
   "cell_type": "code",
   "execution_count": null,
   "id": "f436f47d",
   "metadata": {
    "hide-output": false
   },
   "outputs": [],
   "source": [
    "%%time\n",
    "\n",
    "household = create_household()\n",
    "firm = create_firm()\n",
    "compute_equilibrium(firm, household)"
   ]
  },
  {
   "cell_type": "markdown",
   "id": "231e52a0",
   "metadata": {},
   "source": [
    "Notice how quickly we can compute the equilibrium capital stock using a simple\n",
    "method such as bisection."
   ]
  },
  {
   "cell_type": "markdown",
   "id": "cd015026",
   "metadata": {},
   "source": [
    "## Exercises"
   ]
  },
  {
   "cell_type": "markdown",
   "id": "a6b31ee2",
   "metadata": {},
   "source": [
    "## Exercise 16.1\n",
    "\n",
    "Using the default household and firm model, produce a graph\n",
    "showing the behaviour of equilibrium capital stock with the increase in $ \\beta $."
   ]
  },
  {
   "cell_type": "markdown",
   "id": "3fbfc089",
   "metadata": {},
   "source": [
    "## Solution to[ Exercise 16.1](https://jax.quantecon.org/#aygr_ex1)"
   ]
  },
  {
   "cell_type": "code",
   "execution_count": null,
   "id": "0a0f6cbf",
   "metadata": {
    "hide-output": false
   },
   "outputs": [],
   "source": [
    "β_vals = np.linspace(0.9, 0.99, 40)\n",
    "eq_vals = np.empty_like(β_vals)\n",
    "\n",
    "for i, β in enumerate(β_vals):\n",
    "    household = create_household(β=β)\n",
    "    firm = create_firm(β=β)\n",
    "    eq_vals[i] = compute_equilibrium(firm, household)"
   ]
  },
  {
   "cell_type": "code",
   "execution_count": null,
   "id": "c1e7871d",
   "metadata": {
    "hide-output": false
   },
   "outputs": [],
   "source": [
    "fig, ax = plt.subplots()\n",
    "ax.plot(β_vals, eq_vals, ms=2)\n",
    "ax.set_xlabel(r'$\\beta$')\n",
    "ax.set_ylabel('equilibrium')\n",
    "plt.show()"
   ]
  },
  {
   "cell_type": "markdown",
   "id": "de36c841",
   "metadata": {},
   "source": [
    "## Exercise 16.2\n",
    "\n",
    "Switch to the CRRA utility function\n",
    "\n",
    "$$\n",
    "u(c) =\\frac{c^{1-\\gamma}}{1-\\gamma}\n",
    "$$\n",
    "\n",
    "and re-do the plot of demand for capital by firms against the\n",
    "supply of captial.\n",
    "\n",
    "Also, recompute the equilibrium.\n",
    "\n",
    "Use the default parameters for households and firms.\n",
    "\n",
    "Set $ \\gamma=2 $."
   ]
  },
  {
   "cell_type": "markdown",
   "id": "4bc1d4e7",
   "metadata": {},
   "source": [
    "## Solution to[ Exercise 16.2](https://jax.quantecon.org/#aygr_ex2)\n",
    "\n",
    "Let’s define the utility function"
   ]
  },
  {
   "cell_type": "code",
   "execution_count": null,
   "id": "e5cb8601",
   "metadata": {
    "hide-output": false
   },
   "outputs": [],
   "source": [
    "def u(c, γ=2):\n",
    "    return c**(1 - γ) / (1 - γ)"
   ]
  },
  {
   "cell_type": "markdown",
   "id": "399dbb94",
   "metadata": {},
   "source": [
    "We need to re-compile all the jitted functions in order notice the change\n",
    "in the utility function."
   ]
  },
  {
   "cell_type": "code",
   "execution_count": null,
   "id": "579aa96a",
   "metadata": {
    "hide-output": false
   },
   "outputs": [],
   "source": [
    "B = jax.jit(B, static_argnums=(2,))\n",
    "get_greedy = jax.jit(get_greedy, static_argnums=(2,))\n",
    "compute_r_σ = jax.jit(compute_r_σ, static_argnums=(2,))\n",
    "R_σ = jax.jit(R_σ, static_argnums=(3,))\n",
    "get_value = jax.jit(get_value, static_argnums=(2,))\n",
    "compute_asset_stationary = jax.jit(compute_asset_stationary,\n",
    "                                   static_argnums=(2,))"
   ]
  },
  {
   "cell_type": "markdown",
   "id": "37147159",
   "metadata": {},
   "source": [
    "Now, let’s plot the the demand for capital by firms"
   ]
  },
  {
   "cell_type": "code",
   "execution_count": null,
   "id": "f7b8ebfd",
   "metadata": {
    "hide-output": false
   },
   "outputs": [],
   "source": [
    "# Create default instances\n",
    "household = create_household()\n",
    "firm = create_firm()\n",
    "\n",
    "# Create a grid of r values at which to compute demand and supply of capital\n",
    "num_points = 50\n",
    "r_vals = np.linspace(0.005, 0.04, num_points)\n",
    "\n",
    "\n",
    "# Compute supply of capital\n",
    "k_vals = np.empty(num_points)\n",
    "for i, r in enumerate(r_vals):\n",
    "    household = household._replace(r=r, w=r_to_w(r, firm))\n",
    "    k_vals[i] = capital_supply(household)"
   ]
  },
  {
   "cell_type": "code",
   "execution_count": null,
   "id": "3a6116e6",
   "metadata": {
    "hide-output": false
   },
   "outputs": [],
   "source": [
    "# Plot against demand for capital by firms\n",
    "\n",
    "fig, ax = plt.subplots()\n",
    "ax.plot(k_vals, r_vals, lw=2, alpha=0.6, label='supply of capital')\n",
    "ax.plot(k_vals, r_given_k(k_vals, firm), lw=2, alpha=0.6, label='demand for capital')\n",
    "ax.set_xlabel('capital')\n",
    "ax.set_ylabel('interest rate')\n",
    "ax.legend()\n",
    "\n",
    "plt.show()"
   ]
  },
  {
   "cell_type": "markdown",
   "id": "bc2badfc",
   "metadata": {},
   "source": [
    "Compute the equilibrium"
   ]
  },
  {
   "cell_type": "code",
   "execution_count": null,
   "id": "50cc978e",
   "metadata": {
    "hide-output": false
   },
   "outputs": [],
   "source": [
    "%%time\n",
    "\n",
    "household = create_household()\n",
    "firm = create_firm()\n",
    "compute_equilibrium(firm, household)"
   ]
  }
 ],
 "metadata": {
  "date": 1710383115.4835608,
  "filename": "aiyagari_jax.md",
  "kernelspec": {
   "display_name": "Python",
   "language": "python3",
   "name": "python3"
  },
  "title": "The Aiyagari Model"
 },
 "nbformat": 4,
 "nbformat_minor": 5
}