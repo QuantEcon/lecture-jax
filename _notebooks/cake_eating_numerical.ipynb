{
 "cells": [
  {
   "cell_type": "markdown",
   "id": "688ae268",
   "metadata": {},
   "source": [
    "# Cake Eating: Numerical Methods"
   ]
  },
  {
   "cell_type": "markdown",
   "id": "663b3dfe",
   "metadata": {},
   "source": [
    "# GPU\n",
    "\n",
    "This lecture was built using [hardware](https://jax.quantecon.org/status.html#status-machine-details) that has access to a GPU.\n",
    "\n",
    "To run this lecture on [Google Colab](https://colab.research.google.com/), click on the “play” icon top right, select Colab, and set the runtime environment to include a GPU.\n",
    "\n",
    "To run this lecture on your own machine, you need to install [Google JAX](https://github.com/google/jax).\n",
    "\n",
    "This lecture is the extended JAX implementation of [this lecture](https://python.quantecon.org/cake_eating_numerical.html).\n",
    "\n",
    "Please refer that lecture for all background and notation.\n",
    "\n",
    "In addition to what’s in Anaconda, this lecture will need the following libraries:"
   ]
  },
  {
   "cell_type": "code",
   "execution_count": null,
   "id": "12a54c5b",
   "metadata": {
    "hide-output": false
   },
   "outputs": [],
   "source": [
    "!pip install interpolation quantecon"
   ]
  },
  {
   "cell_type": "markdown",
   "id": "bc7866ec",
   "metadata": {},
   "source": [
    "We will use the following imports."
   ]
  },
  {
   "cell_type": "code",
   "execution_count": null,
   "id": "50e8c9fe",
   "metadata": {
    "hide-output": false
   },
   "outputs": [],
   "source": [
    "import jax\n",
    "import jax.numpy as jnp\n",
    "import matplotlib.pyplot as plt\n",
    "from collections import namedtuple\n",
    "import time"
   ]
  },
  {
   "cell_type": "markdown",
   "id": "af76144c",
   "metadata": {},
   "source": [
    "Let’s check the GPU we are running"
   ]
  },
  {
   "cell_type": "code",
   "execution_count": null,
   "id": "d1d7a293",
   "metadata": {
    "hide-output": false
   },
   "outputs": [],
   "source": [
    "!nvidia-smi"
   ]
  },
  {
   "cell_type": "markdown",
   "id": "f4842c28",
   "metadata": {},
   "source": [
    "## Reviewing the Model\n",
    "\n",
    "Recall in particular that the Bellman equation is\n",
    "\n",
    "\n",
    "<a id='equation-bellman-cen'></a>\n",
    "$$\n",
    "v(x) = \\max_{0\\leq c \\leq x} \\{u(c) + \\beta v(x-c)\\}\n",
    "\\quad \\text{for all } x \\geq 0. \\tag{15.1}\n",
    "$$\n",
    "\n",
    "where $ u $ is the CRRA utility function."
   ]
  },
  {
   "cell_type": "markdown",
   "id": "c61ff00b",
   "metadata": {},
   "source": [
    "## Implementation using JAX\n",
    "\n",
    "The analytical solutions for the value function and optimal policy were found\n",
    "to be as follows."
   ]
  },
  {
   "cell_type": "code",
   "execution_count": null,
   "id": "a50c857c",
   "metadata": {
    "hide-output": false
   },
   "outputs": [],
   "source": [
    "@jax.jit\n",
    "def c_star(x, β, γ):\n",
    "    return (1 - β ** (1/γ)) * x\n",
    "\n",
    "@jax.jit\n",
    "def v_star(x, β, γ):\n",
    "    return (1 - β**(1 / γ))**(-γ) * (x**(1-γ) / (1-γ))"
   ]
  },
  {
   "cell_type": "markdown",
   "id": "469ebdd3",
   "metadata": {},
   "source": [
    "Let’s define a model to represent the Cake Eating Problem."
   ]
  },
  {
   "cell_type": "code",
   "execution_count": null,
   "id": "526dda4e",
   "metadata": {
    "hide-output": false
   },
   "outputs": [],
   "source": [
    "CEM = namedtuple('CakeEatingModel',\n",
    "                    ('β', 'γ', 'x_grid', 'c_grid'))"
   ]
  },
  {
   "cell_type": "code",
   "execution_count": null,
   "id": "ccfcf274",
   "metadata": {
    "hide-output": false
   },
   "outputs": [],
   "source": [
    "def create_cake_eating_model(β=0.96,           # discount factor\n",
    "                             γ=1.5,            # degree of relative risk aversion\n",
    "                             x_grid_min=1e-3,  # exclude zero for numerical stability\n",
    "                             x_grid_max=2.5,   # size of cake\n",
    "                             x_grid_size=200):\n",
    "    x_grid = jnp.linspace(x_grid_min, x_grid_max, x_grid_size)\n",
    "\n",
    "    # c_grid used for finding maximize function values using brute force\n",
    "    c_grid = jnp.linspace(x_grid_min, x_grid_max, 100*x_grid_size)\n",
    "    return CEM(β=β, γ=γ, x_grid=x_grid, c_grid=c_grid)"
   ]
  },
  {
   "cell_type": "markdown",
   "id": "dca5f6e1",
   "metadata": {},
   "source": [
    "Now let’s define the CRRA utility function."
   ]
  },
  {
   "cell_type": "code",
   "execution_count": null,
   "id": "a1eeef99",
   "metadata": {
    "hide-output": false
   },
   "outputs": [],
   "source": [
    "# Utility function\n",
    "@jax.jit\n",
    "def u(c, cem):\n",
    "    return (c ** (1 - cem.γ)) / (1 - cem.γ)"
   ]
  },
  {
   "cell_type": "markdown",
   "id": "963b26ca",
   "metadata": {},
   "source": [
    "### The Bellman Operator\n",
    "\n",
    "We introduce the **Bellman operator** $ T $ that takes a function v as an\n",
    "argument and returns a new function $ Tv $ defined by\n",
    "\n",
    "$$\n",
    "Tv(x) = \\max_{0 \\leq c \\leq x} \\{u(c) + \\beta v(x - c)\\}\n",
    "$$\n",
    "\n",
    "From $ v $ we get $ Tv $, and applying $ T $ to this yields\n",
    "$ T^2 v := T (Tv) $ and so on.\n",
    "\n",
    "This is called **iterating with the Bellman operator** from initial guess\n",
    "$ v $."
   ]
  },
  {
   "cell_type": "code",
   "execution_count": null,
   "id": "dcb427ac",
   "metadata": {
    "hide-output": false
   },
   "outputs": [],
   "source": [
    "@jax.jit\n",
    "def state_action_value(x, c, v_array, ce):\n",
    "    \"\"\"\n",
    "    Right hand side of the Bellman equation given x and c.\n",
    "    * x: scalar element `x`\n",
    "    * c: c_grid, 1-D array\n",
    "    * v_array: value function array guess, 1-D array\n",
    "    * ce: Cake Eating Model instance\n",
    "    \"\"\"\n",
    "\n",
    "    return jnp.where(c <= x,\n",
    "                     u(c, ce) + ce.β * jnp.interp(x - c, ce.x_grid, v_array),\n",
    "                     -jnp.inf)"
   ]
  },
  {
   "cell_type": "markdown",
   "id": "e85d0eaf",
   "metadata": {},
   "source": [
    "In order to create a vectorized function using `state_action_value`, we use [jax.vmap](https://jax.readthedocs.io/en/latest/_autosummary/jax.vmap.html).\n",
    "This function returns a new vectorized version of the above function which is vectorized on the argument `x`."
   ]
  },
  {
   "cell_type": "code",
   "execution_count": null,
   "id": "945bf67a",
   "metadata": {
    "hide-output": false
   },
   "outputs": [],
   "source": [
    "state_action_value_vec = jax.vmap(state_action_value, (0, None, None, None))"
   ]
  },
  {
   "cell_type": "code",
   "execution_count": null,
   "id": "ec4d9c05",
   "metadata": {
    "hide-output": false
   },
   "outputs": [],
   "source": [
    "@jax.jit\n",
    "def T(v, ce):\n",
    "    \"\"\"\n",
    "    The Bellman operator. Updates the guess of the value function.\n",
    "\n",
    "    * ce: Cake Eating Model instance\n",
    "    * v: value function array guess, 1-D array\n",
    "\n",
    "    \"\"\"\n",
    "    return jnp.max(state_action_value_vec(ce.x_grid, ce.c_grid, v, ce), axis=1)"
   ]
  },
  {
   "cell_type": "markdown",
   "id": "6202cfcc",
   "metadata": {},
   "source": [
    "Let’s start by creating a Cake Eating Model instance using the default parameterization."
   ]
  },
  {
   "cell_type": "code",
   "execution_count": null,
   "id": "44b9dd28",
   "metadata": {
    "hide-output": false
   },
   "outputs": [],
   "source": [
    "ce = create_cake_eating_model()"
   ]
  },
  {
   "cell_type": "markdown",
   "id": "484e41cb",
   "metadata": {},
   "source": [
    "Now let’s see the iteration of the value function in action.\n",
    "\n",
    "We start from guess $ v $ given by $ v(x) = u(x) $ for every\n",
    "$ x $ grid point."
   ]
  },
  {
   "cell_type": "code",
   "execution_count": null,
   "id": "fe825b3f",
   "metadata": {
    "hide-output": false
   },
   "outputs": [],
   "source": [
    "x_grid = ce.x_grid\n",
    "v = u(x_grid, ce)       # Initial guess\n",
    "n = 12                 # Number of iterations\n",
    "\n",
    "fig, ax = plt.subplots()\n",
    "\n",
    "ax.plot(x_grid, v, color=plt.cm.jet(0),\n",
    "        lw=2, alpha=0.6, label='Initial guess')\n",
    "\n",
    "for i in range(n):\n",
    "    v = T(v, ce)  # Apply the Bellman operator\n",
    "    ax.plot(x_grid, v, color=plt.cm.jet(i / n), lw=2, alpha=0.6)\n",
    "\n",
    "ax.legend()\n",
    "ax.set_ylabel('value', fontsize=12)\n",
    "ax.set_xlabel('cake size $x$', fontsize=12)\n",
    "ax.set_title('Value function iterations')\n",
    "\n",
    "plt.show()"
   ]
  },
  {
   "cell_type": "markdown",
   "id": "5379c7c2",
   "metadata": {},
   "source": [
    "Let’s introduce a wrapper function called `compute_value_function`\n",
    "that iterates until some convergence conditions are satisfied."
   ]
  },
  {
   "cell_type": "code",
   "execution_count": null,
   "id": "2e04ca28",
   "metadata": {
    "hide-output": false
   },
   "outputs": [],
   "source": [
    "def compute_value_function(ce,\n",
    "                           tol=1e-4,\n",
    "                           max_iter=1000,\n",
    "                           verbose=True,\n",
    "                           print_skip=25):\n",
    "\n",
    "    # Set up loop\n",
    "    v = jnp.zeros(len(ce.x_grid)) # Initial guess\n",
    "    i = 0\n",
    "    error = tol + 1\n",
    "\n",
    "    while i < max_iter and error > tol:\n",
    "        v_new = T(v, ce)\n",
    "\n",
    "        error = jnp.max(jnp.abs(v - v_new))\n",
    "        i += 1\n",
    "\n",
    "        if verbose and i % print_skip == 0:\n",
    "            print(f\"Error at iteration {i} is {error}.\")\n",
    "\n",
    "        v = v_new\n",
    "\n",
    "    if error > tol:\n",
    "        print(\"Failed to converge!\")\n",
    "    elif verbose:\n",
    "        print(f\"\\nConverged in {i} iterations.\")\n",
    "\n",
    "    return v_new"
   ]
  },
  {
   "cell_type": "code",
   "execution_count": null,
   "id": "7e2fef26",
   "metadata": {
    "hide-output": false
   },
   "outputs": [],
   "source": [
    "in_time = time.time()\n",
    "v_jax = compute_value_function(ce)\n",
    "jax_time = time.time() - in_time"
   ]
  },
  {
   "cell_type": "code",
   "execution_count": null,
   "id": "4ca85fed",
   "metadata": {
    "hide-output": false
   },
   "outputs": [],
   "source": [
    "fig, ax = plt.subplots()\n",
    "\n",
    "ax.plot(x_grid, v_jax, label='Approximate value function')\n",
    "ax.set_ylabel('$V(x)$', fontsize=12)\n",
    "ax.set_xlabel('$x$', fontsize=12)\n",
    "ax.set_title('Value function')\n",
    "ax.legend()\n",
    "plt.show()"
   ]
  },
  {
   "cell_type": "markdown",
   "id": "baf863e8",
   "metadata": {},
   "source": [
    "Next let’s compare it to the analytical solution."
   ]
  },
  {
   "cell_type": "code",
   "execution_count": null,
   "id": "abb98873",
   "metadata": {
    "hide-output": false
   },
   "outputs": [],
   "source": [
    "v_analytical = v_star(ce.x_grid, ce.β, ce.γ)"
   ]
  },
  {
   "cell_type": "code",
   "execution_count": null,
   "id": "4693a2ca",
   "metadata": {
    "hide-output": false
   },
   "outputs": [],
   "source": [
    "fig, ax = plt.subplots()\n",
    "\n",
    "ax.plot(x_grid, v_analytical, label='analytical solution')\n",
    "ax.plot(x_grid, v_jax, label='numerical solution')\n",
    "ax.set_ylabel('$V(x)$', fontsize=12)\n",
    "ax.set_xlabel('$x$', fontsize=12)\n",
    "ax.legend()\n",
    "ax.set_title('Comparison between analytical and numerical value functions')\n",
    "plt.show()"
   ]
  },
  {
   "cell_type": "markdown",
   "id": "951ce35c",
   "metadata": {},
   "source": [
    "### Policy Function\n",
    "\n",
    "Recall that the optimal consumption policy was shown to be\n",
    "\n",
    "$$\n",
    "\\sigma^*(x) = \\left(1-\\beta^{1/\\gamma} \\right) x\n",
    "$$\n",
    "\n",
    "Let’s see if our numerical results lead to something similar.\n",
    "\n",
    "Our numerical strategy will be to compute\n",
    "\n",
    "$$\n",
    "\\sigma(x) = \\arg \\max_{0 \\leq c \\leq x} \\{u(c) + \\beta v(x - c)\\}\n",
    "$$\n",
    "\n",
    "on a grid of $ x $ points and then interpolate.\n",
    "\n",
    "For $ v $ we will use the approximation of the value function we obtained\n",
    "above.\n",
    "\n",
    "Here’s the function:"
   ]
  },
  {
   "cell_type": "code",
   "execution_count": null,
   "id": "a05c1f0a",
   "metadata": {
    "hide-output": false
   },
   "outputs": [],
   "source": [
    "@jax.jit\n",
    "def σ(ce, v):\n",
    "    \"\"\"\n",
    "    The optimal policy function. Given the value function,\n",
    "    it finds optimal consumption in each state.\n",
    "\n",
    "    * ce: Cake Eating Model instance\n",
    "    * v: value function array guess, 1-D array\n",
    "\n",
    "    \"\"\"\n",
    "    i_cs =  jnp.argmax(state_action_value_vec(ce.x_grid, ce.c_grid, v, ce), axis=1)\n",
    "    return ce.c_grid[i_cs]"
   ]
  },
  {
   "cell_type": "markdown",
   "id": "49ee724b",
   "metadata": {},
   "source": [
    "Now let’s pass the approximate value function and compute optimal consumption:"
   ]
  },
  {
   "cell_type": "code",
   "execution_count": null,
   "id": "1fcaf01b",
   "metadata": {
    "hide-output": false
   },
   "outputs": [],
   "source": [
    "c = σ(ce, v_jax)"
   ]
  },
  {
   "cell_type": "markdown",
   "id": "2b72e18e",
   "metadata": {},
   "source": [
    "Let’s plot this next to the true analytical solution"
   ]
  },
  {
   "cell_type": "code",
   "execution_count": null,
   "id": "a1e6b793",
   "metadata": {
    "hide-output": false
   },
   "outputs": [],
   "source": [
    "c_analytical = c_star(ce.x_grid, ce.β, ce.γ)\n",
    "\n",
    "fig, ax = plt.subplots()\n",
    "\n",
    "ax.plot(ce.x_grid, c_analytical, label='analytical')\n",
    "ax.plot(ce.x_grid, c, label='numerical')\n",
    "ax.set_ylabel(r'$\\sigma(x)$')\n",
    "ax.set_xlabel('$x$')\n",
    "ax.legend()\n",
    "\n",
    "plt.show()"
   ]
  },
  {
   "cell_type": "markdown",
   "id": "f292fcc0",
   "metadata": {},
   "source": [
    "## Numba implementation\n",
    "\n",
    "This section of the lecture is directly adapted from [this lecture](https://python.quantecon.org/cake_eating_numerical.html)\n",
    "for the purpose of comparing the results of JAX implementation."
   ]
  },
  {
   "cell_type": "code",
   "execution_count": null,
   "id": "0ec68d3d",
   "metadata": {
    "hide-output": false
   },
   "outputs": [],
   "source": [
    "import numpy as np\n",
    "from numba import prange, njit\n",
    "from interpolation import interp\n",
    "from quantecon.optimize import brent_max"
   ]
  },
  {
   "cell_type": "code",
   "execution_count": null,
   "id": "e1742c8f",
   "metadata": {
    "hide-output": false
   },
   "outputs": [],
   "source": [
    "CEMN = namedtuple('CakeEatingModelNumba',\n",
    "                    ('β', 'γ', 'x_grid'))"
   ]
  },
  {
   "cell_type": "code",
   "execution_count": null,
   "id": "36ed3c82",
   "metadata": {
    "hide-output": false
   },
   "outputs": [],
   "source": [
    "def create_cake_eating_model_numba(β=0.96,           # discount factor\n",
    "                                   γ=1.5,            # degree of relative risk aversion\n",
    "                                   x_grid_min=1e-3,  # exclude zero for numerical stability\n",
    "                                   x_grid_max=2.5,   # size of cake\n",
    "                                   x_grid_size=200):\n",
    "    x_grid = np.linspace(x_grid_min, x_grid_max, x_grid_size)\n",
    "    return CEMN(β=β, γ=γ, x_grid=x_grid)"
   ]
  },
  {
   "cell_type": "code",
   "execution_count": null,
   "id": "190e0533",
   "metadata": {
    "hide-output": false
   },
   "outputs": [],
   "source": [
    "# Utility function\n",
    "@njit\n",
    "def u_numba(c, cem):\n",
    "    return (c ** (1 - cem.γ)) / (1 - cem.γ)"
   ]
  },
  {
   "cell_type": "code",
   "execution_count": null,
   "id": "be9e1ec6",
   "metadata": {
    "hide-output": false
   },
   "outputs": [],
   "source": [
    "@njit\n",
    "def state_action_value_numba(c, x, v_array, cem):\n",
    "    \"\"\"\n",
    "    Right hand side of the Bellman equation given x and c.\n",
    "    * x: scalar element `x`\n",
    "    * c: consumption\n",
    "    * v_array: value function array guess, 1-D array\n",
    "    * cem: Cake Eating Numba Model instance\n",
    "    \"\"\"\n",
    "    return u_numba(c, cem) + cem.β * interp(cem.x_grid, v_array, x - c)"
   ]
  },
  {
   "cell_type": "code",
   "execution_count": null,
   "id": "38086d28",
   "metadata": {
    "hide-output": false
   },
   "outputs": [],
   "source": [
    "@njit\n",
    "def T_numba(v, ce):\n",
    "    \"\"\"\n",
    "    The Bellman operator.  Updates the guess of the value function.\n",
    "\n",
    "    * ce is an instance of CakeEatingNumba Model\n",
    "    * v is an array representing a guess of the value function\n",
    "\n",
    "    \"\"\"\n",
    "    v_new = np.empty_like(v)\n",
    "\n",
    "    for i in prange(len(ce.x_grid)):\n",
    "        # Maximize RHS of Bellman equation at state x\n",
    "        v_new[i] = brent_max(state_action_value_numba, 1e-10, ce.x_grid[i],\n",
    "                             args=(ce.x_grid[i], v, ce))[1]\n",
    "    return v_new"
   ]
  },
  {
   "cell_type": "code",
   "execution_count": null,
   "id": "37fc824c",
   "metadata": {
    "hide-output": false
   },
   "outputs": [],
   "source": [
    "def compute_value_function_numba(ce,\n",
    "                           tol=1e-4,\n",
    "                           max_iter=1000,\n",
    "                           verbose=True,\n",
    "                           print_skip=25):\n",
    "\n",
    "    # Set up loop\n",
    "    v = np.zeros(len(ce.x_grid)) # Initial guess\n",
    "    i = 0\n",
    "    error = tol + 1\n",
    "\n",
    "    while i < max_iter and error > tol:\n",
    "        v_new = T_numba(v, ce)\n",
    "\n",
    "        error = np.max(np.abs(v - v_new))\n",
    "        i += 1\n",
    "\n",
    "        if verbose and i % print_skip == 0:\n",
    "            print(f\"Error at iteration {i} is {error}.\")\n",
    "\n",
    "        v = v_new\n",
    "\n",
    "    if error > tol:\n",
    "        print(\"Failed to converge!\")\n",
    "    elif verbose:\n",
    "        print(f\"\\nConverged in {i} iterations.\")\n",
    "\n",
    "    return v_new"
   ]
  },
  {
   "cell_type": "code",
   "execution_count": null,
   "id": "0c73e354",
   "metadata": {
    "hide-output": false
   },
   "outputs": [],
   "source": [
    "cen = create_cake_eating_model_numba()"
   ]
  },
  {
   "cell_type": "code",
   "execution_count": null,
   "id": "cf0b8524",
   "metadata": {
    "hide-output": false
   },
   "outputs": [],
   "source": [
    "in_time = time.time()\n",
    "v_np = compute_value_function_numba(cen)\n",
    "numba_time = time.time() - in_time"
   ]
  },
  {
   "cell_type": "code",
   "execution_count": null,
   "id": "7bfa332e",
   "metadata": {
    "hide-output": false
   },
   "outputs": [],
   "source": [
    "ratio = numba_time/jax_time\n",
    "print(f\"JAX implementation is {ratio} times faster than NumPy.\")\n",
    "print(f\"JAX time: {jax_time}\")\n",
    "print(f\"Numba time: {numba_time}\")"
   ]
  }
 ],
 "metadata": {
  "date": 1695173318.319926,
  "filename": "cake_eating_numerical.md",
  "kernelspec": {
   "display_name": "Python",
   "language": "python3",
   "name": "python3"
  },
  "title": "Cake Eating: Numerical Methods"
 },
 "nbformat": 4,
 "nbformat_minor": 5
}