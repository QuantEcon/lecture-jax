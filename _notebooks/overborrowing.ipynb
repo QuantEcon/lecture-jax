{
 "cells": [
  {
   "cell_type": "markdown",
   "id": "73dd2f9b",
   "metadata": {},
   "source": [
    "# Bianchi Overborrowing Model"
   ]
  },
  {
   "cell_type": "markdown",
   "id": "4d43cc52",
   "metadata": {},
   "source": [
    "# GPU\n",
    "\n",
    "This lecture was built using a machine with JAX installed and access to a GPU.\n",
    "\n",
    "To run this lecture on [Google Colab](https://colab.research.google.com/), click on the “play” icon top right, select Colab, and set the runtime environment to include a GPU.\n",
    "\n",
    "To run this lecture on your own machine, you need to install [Google JAX](https://github.com/google/jax).\n",
    "\n",
    "This lecture provides a JAX implementation of “Overborrowing and Systemic Externalities” [[Bianchi, 2011](https://jax.quantecon.org/zreferences.html#id256)] by [Javier Bianchi](http://www.javierbianchi.com/).\n",
    "\n",
    "In addition to what’s in Anaconda, this lecture will need the following libraries:"
   ]
  },
  {
   "cell_type": "code",
   "execution_count": null,
   "id": "26110155",
   "metadata": {
    "hide-output": false
   },
   "outputs": [],
   "source": [
    "!pip install quantecon"
   ]
  },
  {
   "cell_type": "markdown",
   "id": "3425ddcc",
   "metadata": {},
   "source": [
    "We use the following imports."
   ]
  },
  {
   "cell_type": "code",
   "execution_count": null,
   "id": "8483878d",
   "metadata": {
    "hide-output": false
   },
   "outputs": [],
   "source": [
    "import time\n",
    "import jax\n",
    "import numba\n",
    "import jax.numpy as jnp\n",
    "import matplotlib.pyplot as plt\n",
    "import numpy as np\n",
    "import quantecon as qe\n",
    "import scipy as sp\n",
    "import matplotlib.pyplot as plt\n",
    "from collections import namedtuple"
   ]
  },
  {
   "cell_type": "markdown",
   "id": "66f38b08",
   "metadata": {},
   "source": [
    "## Markov dynamics\n",
    "\n",
    "Before studying Bianchi (2011), we develop some functions for working with the bivariate VAR process\n",
    "\n",
    "$$\n",
    "\\ln y' = A \\ln y + u'\n",
    "$$\n",
    "\n",
    "where\n",
    "\n",
    "- prime indicates next period value  \n",
    "- $ y = (y_t, y_n) = $ output of (tradables, nontradables)  \n",
    "- $ u' \\sim N(0, \\Omega) $ and $ \\Omega $ is positive definite  \n",
    "- the log function is applied pointwise  \n",
    "\n",
    "\n",
    "We use the following estimated values, reported on p. 12 of [Yamada (2023)](https://jxiv.jst.go.jp/index.php/jxiv/preprint/view/514)."
   ]
  },
  {
   "cell_type": "code",
   "execution_count": null,
   "id": "55017351",
   "metadata": {
    "hide-output": false
   },
   "outputs": [],
   "source": [
    "A = [[0.2425,   0.3297],\n",
    "     [-0.1984,  0.7576]]\n",
    "\n",
    "Ω = [[0.0052, 0.002],\n",
    "     [0.002,  0.0059]]\n",
    "\n",
    "A, Ω = np.array(A), np.array(Ω)"
   ]
  },
  {
   "cell_type": "markdown",
   "id": "f40ceb2b",
   "metadata": {},
   "source": [
    "We’ll store the data in $ \\Omega $ using its square root:"
   ]
  },
  {
   "cell_type": "code",
   "execution_count": null,
   "id": "d6dcf8bd",
   "metadata": {
    "hide-output": false
   },
   "outputs": [],
   "source": [
    "C = sp.linalg.sqrtm(Ω)"
   ]
  },
  {
   "cell_type": "markdown",
   "id": "635e8a23",
   "metadata": {},
   "source": [
    "### Simulating the VAR\n",
    "\n",
    "Here’s code for generating the original VAR process, which can be used for\n",
    "testing."
   ]
  },
  {
   "cell_type": "code",
   "execution_count": null,
   "id": "eac6367f",
   "metadata": {
    "hide-output": false
   },
   "outputs": [],
   "source": [
    "@numba.jit\n",
    "def generate_var_process(A=A, C=C, ts_length=1_000_000):\n",
    "    \"\"\"\n",
    "    Generate the original VAR process.\n",
    "\n",
    "    \"\"\"\n",
    "    y_series = np.empty((ts_length, 2))\n",
    "    y_series[0, :] = np.zeros(2)\n",
    "    for t in range(ts_length-1):\n",
    "        y_series[t+1, :] = A @ y_series[t, :] + C @ np.random.randn(2)\n",
    "    y_t_series = np.exp(y_series[:, 0])\n",
    "    y_n_series = np.exp(y_series[:, 1])\n",
    "    return y_t_series, y_n_series"
   ]
  },
  {
   "cell_type": "markdown",
   "id": "5d38dcc5",
   "metadata": {},
   "source": [
    "### Discretizing the VAR\n",
    "\n",
    "Here’s a function to convert the VAR process to a Markov chain evolving on a\n",
    "rectilinear grid of points in $ \\mathbb R^2 $.\n",
    "\n",
    "The function returns arrays `y_t`, `y_n` and `Q`\n",
    "\n",
    "- `Q[i, j, i', j']` is the probability of moving from `(y_t[i], y_n[j])` to `(y_t[i'], y_n[j'])`.  \n",
    "\n",
    "\n",
    "Under the hood, this function uses the QuantEcon function `discrete_var`."
   ]
  },
  {
   "cell_type": "code",
   "execution_count": null,
   "id": "9c0d2ee5",
   "metadata": {
    "hide-output": false
   },
   "outputs": [],
   "source": [
    "def discretize_income_var(A=A, C=C, n=4, seed=1234):\n",
    "    \"\"\"\n",
    "    Discretize the VAR model, returning\n",
    "\n",
    "        y_t, an n-grid of y_t values\n",
    "        y_n, an n-grid of y_n values\n",
    "        Q, a Markov operator\n",
    "\n",
    "    The format is that Q is n x n x n x n, with\n",
    "\n",
    "        Q[i, j, i', j'] = one step transition prob from \n",
    "        (y_t[i], y_n[j]) to (y_t[i'], y_n[j'])\n",
    "\n",
    "    \"\"\" \n",
    "    rng = np.random.default_rng(seed)\n",
    "    mc = qe.markov.discrete_var(A, C, (n, n),\n",
    "                                sim_length=1_000_000,\n",
    "                                std_devs=np.sqrt(3),\n",
    "                                random_state=rng)\n",
    "    y, Q = np.exp(mc.state_values), mc.P\n",
    "    # The array y is currently an array listing all bivariate state pairs\n",
    "    # (y_t, y_n), so that y[i] is the i-th such pair, while Q[l, m] \n",
    "    # is the probability of transitioning from state l to state m in one step. \n",
    "    # We switch the representation to the one described in the docstring.\n",
    "    y_t = [y[n*i, 0] for i in range(n)]  \n",
    "    y_n = y[0:4, 1]                      \n",
    "    Q = np.reshape(Q, (n, n, n, n))\n",
    "    return y_t, y_n, Q"
   ]
  },
  {
   "cell_type": "markdown",
   "id": "28778d4c",
   "metadata": {},
   "source": [
    "Here’s code for sampling from the Markov chain."
   ]
  },
  {
   "cell_type": "code",
   "execution_count": null,
   "id": "4ad8aec8",
   "metadata": {
    "hide-output": false
   },
   "outputs": [],
   "source": [
    "def generate_discrete_var(A=A, C=C, n=4, seed=1234, \n",
    "                          ts_length=1_000_000,\n",
    "                          indices=False):\n",
    "    \"\"\"\n",
    "    Generate a time series from the discretized model, returning y_t_series and\n",
    "    y_n_series.  If `indices=True`, then these series are returned as grid\n",
    "    indices.\n",
    "    \"\"\"\n",
    "    \n",
    "    \n",
    "    rng = np.random.default_rng(seed)\n",
    "    mc = qe.markov.discrete_var(A, C, (n, n),\n",
    "                                sim_length=1_000_000,\n",
    "                                std_devs=np.sqrt(3),\n",
    "                                random_state=rng)\n",
    "    if indices:\n",
    "        y_series = mc.simulate_indices(ts_length=ts_length)\n",
    "        y_t_series, y_n_series = y_series % n, y_series // n\n",
    "    else:\n",
    "        y_series = np.exp(mc.simulate(ts_length=ts_length))\n",
    "        y_t_series, y_n_series = y_series[:, 0], y_series[:, 1]\n",
    "    return y_t_series, y_n_series"
   ]
  },
  {
   "cell_type": "markdown",
   "id": "ec3d2fec",
   "metadata": {},
   "source": [
    "### Testing the discretization\n",
    "\n",
    "Let’s check some statistics for both the original and the discretized processes, to see if they match up."
   ]
  },
  {
   "cell_type": "code",
   "execution_count": null,
   "id": "72be9d4d",
   "metadata": {
    "hide-output": false
   },
   "outputs": [],
   "source": [
    "def corr(x, y):\n",
    "    m_x, m_y = x.mean(), y.mean()\n",
    "    s_xy = np.sqrt(np.sum((x - m_x)**2) * np.sum((y - m_y)**2))\n",
    "    return np.sum((x - m_x) * (y - m_y)) / (s_xy)"
   ]
  },
  {
   "cell_type": "code",
   "execution_count": null,
   "id": "6b267da3",
   "metadata": {
    "hide-output": false
   },
   "outputs": [],
   "source": [
    "def print_stats(y_t_series, y_n_series):\n",
    "    print(f\"Std dev of y_t is {y_t_series.std():.3}\")\n",
    "    print(f\"Std dev of y_n is {y_n_series.std():.3}\")\n",
    "    print(f\"corr(y_t, y_n) is {corr(y_t_series, y_n_series):.3}\")\n",
    "    print(f\"auto_corr(y_t) is {corr(y_t_series[:-1], y_t_series[1:]):.3}\")\n",
    "    print(f\"auto_corr(y_n) is {corr(y_n_series[:-1], y_n_series[1:]):.3}\")\n",
    "    print(\"\\n\")"
   ]
  },
  {
   "cell_type": "code",
   "execution_count": null,
   "id": "465bab68",
   "metadata": {
    "hide-output": false
   },
   "outputs": [],
   "source": [
    "print(\"Statistics for original process.\\n\")\n",
    "print_stats(*generate_var_process())"
   ]
  },
  {
   "cell_type": "code",
   "execution_count": null,
   "id": "cef91d64",
   "metadata": {
    "hide-output": false
   },
   "outputs": [],
   "source": [
    "print(\"Statistics for discretized process.\\n\")\n",
    "print_stats(*generate_discrete_var())"
   ]
  },
  {
   "cell_type": "markdown",
   "id": "26222968",
   "metadata": {},
   "source": [
    "## Description of the model\n",
    "\n",
    "The Bianchi (2011) model seeks to explain sudden stops in emerging market economies.\n",
    "\n",
    "A representative household chooses how much to borrow on international markets and how much to consume.\n",
    "\n",
    "The household is credit constrained, with the constraint depending on both current income and the real exchange rate.\n",
    "\n",
    "Household “overborrow” (relative to a planner) because they do not internalize the\n",
    "effect of borrowing on the credit constraint.\n",
    "\n",
    "This overborrowing leaves them vulnerable to bad income shocks.\n",
    "\n",
    "In essence, the model works as follows\n",
    "\n",
    "1. During good times, households borrow more and consume more  \n",
    "1. Increased consumption pushes up the price of nontradables and hence the real exchange rate  \n",
    "1. A rising real exchange rate loosens the credit constraint and encourages more borrowing  \n",
    "1. This leads to excessive borrowing relative to a planner.  \n",
    "\n",
    "\n",
    "This overborrowing leads to vulnerability vis-a-vis bad shocks.\n",
    "\n",
    "1. When a bad shock hits, borrowing is restricted.  \n",
    "1. Consumption now falls, pushing down the real exchange rate.  \n",
    "1. This fall in the exchange rate further tightens the borrowing constraint, amplifying the shock  "
   ]
  },
  {
   "cell_type": "markdown",
   "id": "950203b8",
   "metadata": {},
   "source": [
    "### Decentralized equilibrium\n",
    "\n",
    "The model contains a representative household that seeks to maximize\n",
    "an expected sum of discounted utility with\n",
    "\n",
    "$$\n",
    "u(c) = \\frac{c^{1-\\sigma}}{1-\\sigma}\n",
    "\\quad \\text{where} \\quad\n",
    "c = (\\omega c_t^{-\\eta} + (1-\\omega) c_n^{-\\eta})^{-1/\\eta}\n",
    "$$\n",
    "\n",
    "Here $ c_t $ (resp., $ c_n $) is consumption of tradables (resp., nontradables).\n",
    "\n",
    "The household maximizes subject to the budget constraint\n",
    "\n",
    "$$\n",
    "b' + c_t + p_n c_n = b (1+r) + y_t + p_n y_n\n",
    "$$\n",
    "\n",
    "where\n",
    "\n",
    "- $ b $ is bond holdings (positive values denote assets!)  \n",
    "- primes denote next period values  \n",
    "- the interest rate $ r $ is exogenous  \n",
    "- $ p_n $ is the price of nontradables, while the price of tradables is normalized\n",
    "  to 1  \n",
    "- $ y_t $ and $ y_n $ are current tradable and nontradable income  \n",
    "\n",
    "\n",
    "The process for $ y := (y_t, y_n) $ is first-order Markov.\n",
    "\n",
    "The household also faces the credit constraint\n",
    "\n",
    "$$\n",
    "b' \\geq - \\kappa (y_t + p_n y_n)\n",
    "$$\n",
    "\n",
    "Market clearing implies\n",
    "\n",
    "$$\n",
    "c_n = y_n\n",
    "    \\quad \\text{and} \\quad\n",
    "    c_t = y_t + (1+r)b - b'\n",
    "$$\n",
    "\n",
    "The household takes the aggregate timepath for bonds as given by\n",
    "\n",
    "$$\n",
    "B' = H(B, y)\n",
    "$$\n",
    "\n",
    "and solves\n",
    "\n",
    "$$\n",
    "v(b, B, y)\n",
    "    = \\max_{c, b'} \n",
    "    \\left\\{\n",
    "        u(c) + \\beta \\, \\mathbb{E}_y \\, v(b', B', y')\n",
    "    \\right\\}\n",
    "$$\n",
    "\n",
    "subject to the budget and credit constraints.\n",
    "\n",
    "Let the solution to the dynamic program be the policy $ b' = h(b, B, y) = $ savings decision in state $ (b, B, y) $.\n",
    "\n",
    "A **decentralized equilibrium** is a map $ H $ such that\n",
    "\n",
    "$$\n",
    "h(B, B, y) = H(B, y)\n",
    "    \\quad \\text{for all } B, y\n",
    "$$"
   ]
  },
  {
   "cell_type": "markdown",
   "id": "6254e70c",
   "metadata": {},
   "source": [
    "### Notation\n",
    "\n",
    "Let\n",
    "\n",
    "$$\n",
    "w(c_t, y_n) = \\frac{c^{1 - σ}}{1 - σ}\n",
    "        \\quad \\text{where} \\quad\n",
    "        c = [ω c_t^{- η} + (1 - ω) y_n^{- η}]^{-1/η}\n",
    "$$\n",
    "\n",
    "Using the market clearing conditions, we can write the\n",
    "household problem as\n",
    "\n",
    "$$\n",
    "v(b, B, y)\n",
    "    = \\max_{b'} \n",
    "    \\left\\{\n",
    "        w((1 + r)  b + y_t - b', y_n) + \\beta \\, \\mathbb{E}_y \\, v(b', H(B, y), y')\n",
    "    \\right\\}\n",
    "$$\n",
    "\n",
    "subject to\n",
    "\n",
    "$$\n",
    "- κ (p_n y_n + y_t) \n",
    "    \\leq\n",
    "    b' \\leq (1 + r) b + y_t\n",
    "$$\n",
    "\n",
    "where $ p_n $ is given by\n",
    "\n",
    "$$\n",
    "p_n = \\frac{1 - ω}{ ω}  \\left(\\frac{C}{y_n} \\right)^{η + 1}\n",
    "    \\quad \\text{with} \\quad\n",
    "    C := (1 + r) B + y_t - H(B, y)\n",
    "$$\n",
    "\n",
    "We will make use of the policy operator that maps $ h $ into\n",
    "\n",
    "$$\n",
    "(T_h v)(b, B, y)\n",
    "    =\n",
    "    \\left\\{\n",
    "        w((1 + r)  b + y_t - h(b, B, y), y_n) + \\beta \\, \\mathbb{E}_y \\, v(h(b, B, y), H(B, y), y')\n",
    "    \\right\\}\n",
    "$$\n",
    "\n",
    "Our algorithm is\n",
    "\n",
    "1. initialize $ v $ and $ H $  \n",
    "1. get a greedy policy $ h $ given $ v $ and $ H $  \n",
    "1. update $ H $ via $ H = \\alpha h + (1 - \\alpha) H $  \n",
    "1. iterate $ m $ times with the policy operator $ T_h $ to get $ v = T^m_h v $  \n",
    "1. go to step 2  \n",
    "\n",
    "\n",
    "In other words, we use optimistic policy iteration, updating our guess of the aggregate law of motion every time we update the household policy function."
   ]
  },
  {
   "cell_type": "markdown",
   "id": "80f3b81f",
   "metadata": {},
   "source": [
    "## Overborrowing model in Python / JAX\n",
    "\n",
    "In what follows\n",
    "\n",
    "- `y` = `(y_t, y_n)` is the exogenous state process  \n",
    "\n",
    "\n",
    "Individual states and actions are\n",
    "\n",
    "- `c` = consumption of tradables (`c` rather than `c_t`)  \n",
    "- `b` = household savings (bond holdings)  \n",
    "- `bp` = household savings decision (next period bond holdings)  \n",
    "\n",
    "\n",
    "Aggregate quantities and prices are\n",
    "\n",
    "- `p` = price of nontradables (`p` rather than `p_n`)  \n",
    "- `B` = aggregate savings (bond holdings)  \n",
    "- `C` = aggregate consumption  \n",
    "- `H` = current guess of update rule as an array of the form $ H(B, y) $  \n",
    "\n",
    "\n",
    "Here’s code to create three tuples that store model data relevant for computation."
   ]
  },
  {
   "cell_type": "code",
   "execution_count": null,
   "id": "f564593e",
   "metadata": {
    "hide-output": false
   },
   "outputs": [],
   "source": [
    "Model = namedtuple('Model',\n",
    "    ('σ', 'η', 'β', 'ω', 'κ', 'r', 'b_grid', 'y_t_nodes', 'y_n_nodes', 'Q'))"
   ]
  },
  {
   "cell_type": "code",
   "execution_count": null,
   "id": "6ad84620",
   "metadata": {
    "hide-output": false
   },
   "outputs": [],
   "source": [
    "def create_overborrowing_model(\n",
    "        σ=2.0,               # CRRA utility parameter\n",
    "        η=(1 / 0.83) - 1,    # Elasticity = 0.83, η = 0.2048\n",
    "        β=0.91,              # Discount factor\n",
    "        ω=0.31,              # Aggregation constant\n",
    "        κ=0.3235,            # Constraint parameter\n",
    "        r=0.04,              # Interest rate\n",
    "        b_size=800,          # Bond grid size\n",
    "        b_grid_min=-1.02,    # Bond grid min\n",
    "        b_grid_max=-0.2      # Bond grid max (originally -0.6 to match fig)\n",
    "    ):    \n",
    "    \"\"\"\n",
    "    Creates an instance of the overborrowing model using \n",
    "\n",
    "        * default parameter values from Bianchi (2011)\n",
    "        * Markov dynamics from Yamada (2023)\n",
    "\n",
    "    The Markov kernel Q has the interpretation\n",
    "\n",
    "        Q[i, j, ip, jp] = one step prob of moving \n",
    "\n",
    "            (y_t[i], y_n[j]) -> (y_t[ip], y_n[jp])\n",
    "\n",
    "    \"\"\"\n",
    "    # Read in Markov data and shift to JAX arrays\n",
    "    data = discretize_income_var()\n",
    "    y_t_nodes, y_n_nodes, Q = [jnp.array(d) for d in data]\n",
    "    # Set up grid for bond holdings\n",
    "    b_grid = jnp.linspace(b_grid_min, b_grid_max, b_size)\n",
    "    # Pack and return\n",
    "    return Model(σ, η, β, ω, κ, r, b_grid, y_t_nodes, y_n_nodes, Q)"
   ]
  },
  {
   "cell_type": "markdown",
   "id": "8f3daa40",
   "metadata": {},
   "source": [
    "Default parameter values are from Bianchi.\n",
    "\n",
    "Notice that $ \\beta $ is quite small (too small?), so value function iteration will be relatively quick.\n",
    "\n",
    "Here’s flow utility."
   ]
  },
  {
   "cell_type": "code",
   "execution_count": null,
   "id": "27f4eda7",
   "metadata": {
    "hide-output": false
   },
   "outputs": [],
   "source": [
    "@jax.jit\n",
    "def w(model, c, y_n):\n",
    "    \"\"\" \n",
    "    Current utility when c_t = c and c_n = y_n.\n",
    "\n",
    "        a = [ω c^(- η) + (1 - ω) y_n^(- η)]^(-1/η)\n",
    "\n",
    "        w(c, y_n) := a^(1 - σ) / (1 - σ)\n",
    "\n",
    "    \"\"\"\n",
    "    σ, η, β, ω, κ, r, b_grid, y_t_nodes, y_n_nodes, Q = model\n",
    "    a = (ω * c**(-η) + (1 - ω) * y_n**(-η))**(-1/η)\n",
    "    return a**(1 - σ) / (1 - σ)"
   ]
  },
  {
   "cell_type": "markdown",
   "id": "0ade3063",
   "metadata": {},
   "source": [
    "We need code to generate an initial guess of $ H $."
   ]
  },
  {
   "cell_type": "code",
   "execution_count": null,
   "id": "2aee2327",
   "metadata": {
    "hide-output": false
   },
   "outputs": [],
   "source": [
    "@jax.jit\n",
    "def generate_initial_H(model, at_constraint=False):\n",
    "    \"\"\"\n",
    "    Compute an initial guess for H. Repeat the indices for b_grid over y_t and\n",
    "    y_n axes.\n",
    "\n",
    "    \"\"\"\n",
    "    σ, η, β, ω, κ, r, b_grid, y_t_nodes, y_n_nodes, Q = model\n",
    "    b_size, y_size = len(b_grid), len(y_t_nodes)\n",
    "    b_indices = jnp.arange(b_size)\n",
    "    O = jnp.ones((b_size, y_size, y_size), dtype=int)\n",
    "    return  O * jnp.reshape(b_indices, (b_size, 1, 1)) "
   ]
  },
  {
   "cell_type": "markdown",
   "id": "46d7802d",
   "metadata": {},
   "source": [
    "We need to construct the Bellman operator for the household.\n",
    "\n",
    "Our first function returns the (unmaximized) RHS of the Bellman equation."
   ]
  },
  {
   "cell_type": "code",
   "execution_count": null,
   "id": "b1cf893b",
   "metadata": {
    "hide-output": false
   },
   "outputs": [],
   "source": [
    "@jax.jit\n",
    "def BellmanRHS(model, v, H, i_b, i_B, i_y_t, i_y_n, i_bp):\n",
    "    \"\"\"\n",
    "    Given current state (b, B, y_t, y_n) with indices (i_b, i_B, i_y_t, i_y_n),\n",
    "    compute the unmaximized right hand side (RHS) of the Bellman equation as a\n",
    "    function of the next period choice bp = b', with index i_bp.  \n",
    "    \"\"\"\n",
    "    # Unpack\n",
    "    σ, η, β, ω, κ, r, b_grid, y_t_nodes, y_n_nodes, Q = model\n",
    "    # Compute next period aggregate bonds given H\n",
    "    i_Bp = H[i_B, i_y_t, i_y_n]\n",
    "    # Evaluate states and actions at indices\n",
    "    B, Bp, b, bp = b_grid[i_B], b_grid[i_Bp], b_grid[i_b], b_grid[i_bp]\n",
    "    y_t = y_t_nodes[i_y_t]\n",
    "    y_n = y_n_nodes[i_y_n]\n",
    "    # Compute price of nontradables using aggregates\n",
    "    C = (1 + r) * B + y_t - Bp\n",
    "    p = ((1 - ω) / ω) * (C / y_n)**(η + 1)\n",
    "    # Compute household flow utility\n",
    "    c = (1 + r) * b + y_t - bp\n",
    "    utility = w(model, c, y_n)\n",
    "    # Compute expected value Σ_{y'} v(b', B', y') Q(y, y')\n",
    "    EV = jnp.sum(v[i_bp, i_Bp, :, :] * Q[i_y_t, i_y_n, :, :])\n",
    "    # Set up constraints \n",
    "    credit_constraint_holds = - κ * (p * y_n + y_t) <= bp\n",
    "    budget_constraint_holds = bp <= (1 + r) * b + y_t\n",
    "    constraints_hold = jnp.logical_and(credit_constraint_holds, \n",
    "                                     budget_constraint_holds)\n",
    "    # Compute and return\n",
    "    return jnp.where(constraints_hold, utility + β * EV, -jnp.inf)"
   ]
  },
  {
   "cell_type": "markdown",
   "id": "625629b4",
   "metadata": {},
   "source": [
    "Let’s now vectorize and jit-compile this map."
   ]
  },
  {
   "cell_type": "code",
   "execution_count": null,
   "id": "0ef07514",
   "metadata": {
    "hide-output": false
   },
   "outputs": [],
   "source": [
    "# Vectorize over the control bp and all the current states\n",
    "BellmanRHS = jax.vmap(BellmanRHS,\n",
    "    in_axes=(None, None, None, None, None, None, None, 0))\n",
    "BellmanRHS = jax.vmap(BellmanRHS, \n",
    "    in_axes=(None, None, None, None, None, None, 0, None))\n",
    "BellmanRHS = jax.vmap(BellmanRHS, \n",
    "    in_axes=(None, None, None, None, None, 0, None, None))\n",
    "BellmanRHS = jax.vmap(BellmanRHS, \n",
    "    in_axes=(None, None, None, None, 0, None, None, None))\n",
    "BellmanRHS = jax.vmap(BellmanRHS, \n",
    "    in_axes=(None, None, None, 0, None, None, None, None))"
   ]
  },
  {
   "cell_type": "markdown",
   "id": "d0509ac4",
   "metadata": {},
   "source": [
    "Here’s a function that computes a greedy policy (best response to $ v $)."
   ]
  },
  {
   "cell_type": "code",
   "execution_count": null,
   "id": "a1ca8119",
   "metadata": {
    "hide-output": false
   },
   "outputs": [],
   "source": [
    "@jax.jit\n",
    "def get_greedy(model, v, H):\n",
    "    \"\"\"\n",
    "    Compute the greedy policy for the household, which maximizes the right hand\n",
    "    side of the Bellman equation given v and H.  The greedy policy is recorded\n",
    "    as an array giving the index i in b_grid such that b_grid[i] is the optimal\n",
    "    choice, for every state.\n",
    "\n",
    "    Return \n",
    "\n",
    "        * bp_policy as an array of shape (b_size, b_size, y_size, y_size).\n",
    "\n",
    "    \"\"\"\n",
    "    σ, η, β, ω, κ, r, b_grid, y_t_nodes, y_n_nodes, Q = model\n",
    "    b_size, y_size = len(b_grid), len(y_t_nodes)\n",
    "    b_indices, y_indices = jnp.arange(b_size), jnp.arange(y_size)\n",
    "    val = BellmanRHS(model, v, H, \n",
    "                     b_indices, b_indices, y_indices, y_indices, b_indices)\n",
    "    return jnp.argmax(val, axis=-1)"
   ]
  },
  {
   "cell_type": "markdown",
   "id": "d0ad92ee",
   "metadata": {},
   "source": [
    "Here’s the policy operator"
   ]
  },
  {
   "cell_type": "code",
   "execution_count": null,
   "id": "c10e243d",
   "metadata": {
    "hide-output": false
   },
   "outputs": [],
   "source": [
    "@jax.jit\n",
    "def _T_h(model, h, v, H, i_b, i_B, i_y_t, i_y_n):\n",
    "    \"\"\"\n",
    "    Evaluate the RHS of the policy operator associated with individual\n",
    "    policy h and aggregate policy H.\n",
    "\n",
    "\n",
    "    \"\"\"\n",
    "    # Unpack\n",
    "    σ, η, β, ω, κ, r, b_grid, y_t_nodes, y_n_nodes, Q = model\n",
    "    # Compute next period states\n",
    "    i_bp = h[i_b, i_B, i_y_t, i_y_n]\n",
    "    i_Bp = H[i_B, i_y_t, i_y_n]\n",
    "    # Convert indices into values\n",
    "    B, Bp, b, bp = b_grid[i_B], b_grid[i_Bp], b_grid[i_b], b_grid[i_bp]\n",
    "    y_t = y_t_nodes[i_y_t]\n",
    "    y_n = y_n_nodes[i_y_n]\n",
    "    # Compute household flow utility\n",
    "    c = (1 + r) * b + y_t - bp\n",
    "    utility = w(model, c, y_n)\n",
    "    # Compute expected value Σ_{y'} v(b', B', y') Q(y, y')\n",
    "    EV = jnp.sum(v[i_bp, i_Bp, :, :] * Q[i_y_t, i_y_n, :, :])\n",
    "    val = utility + β * EV\n",
    "    return val"
   ]
  },
  {
   "cell_type": "code",
   "execution_count": null,
   "id": "4ae88f8e",
   "metadata": {
    "hide-output": false
   },
   "outputs": [],
   "source": [
    "# Vectorize over the control bp and all the current states\n",
    "_T_h = jax.vmap(_T_h,\n",
    "    in_axes=(None, None, None, None, None, None, None, 0))\n",
    "_T_h = jax.vmap(_T_h, \n",
    "    in_axes=(None, None, None, None, None, None, 0, None))\n",
    "_T_h = jax.vmap(_T_h, \n",
    "    in_axes=(None, None, None, None, None, 0, None, None))\n",
    "_T_h = jax.vmap(_T_h, \n",
    "    in_axes=(None, None, None, None, 0, None, None, None))"
   ]
  },
  {
   "cell_type": "code",
   "execution_count": null,
   "id": "c99b0f54",
   "metadata": {
    "hide-output": false
   },
   "outputs": [],
   "source": [
    "@jax.jit\n",
    "def T_h(model, h, v, H):\n",
    "    \"\"\"\n",
    "    Vectorized version of the policy operator.\n",
    "\n",
    "    \"\"\"\n",
    "    σ, η, β, ω, κ, r, b_grid, y_t_nodes, y_n_nodes, Q = model\n",
    "    b_size, y_size = len(b_grid), len(y_t_nodes)\n",
    "    b_indices, y_indices = jnp.arange(b_size), jnp.arange(y_size)\n",
    "    val = _T_h(model, h, v, H, \n",
    "                     b_indices, b_indices, y_indices, y_indices)\n",
    "    return val"
   ]
  },
  {
   "cell_type": "code",
   "execution_count": null,
   "id": "c6a7d2b5",
   "metadata": {
    "hide-output": false
   },
   "outputs": [],
   "source": [
    "@jax.jit\n",
    "def iterate_policy_operator(model, h, v, H, m):\n",
    "\n",
    "    def update(i, v):\n",
    "        v = T_h(model, h, v, H)\n",
    "        return v\n",
    "    v = jax.lax.fori_loop(0, m, update, v)\n",
    "    return v"
   ]
  },
  {
   "cell_type": "markdown",
   "id": "bb827ef1",
   "metadata": {},
   "source": [
    "This is how we update our guess of $ H $, using the current policy $ b' $\n",
    "and a damped fixed point iteration scheme."
   ]
  },
  {
   "cell_type": "code",
   "execution_count": null,
   "id": "92fee6ac",
   "metadata": {
    "hide-output": false
   },
   "outputs": [],
   "source": [
    "@jax.jit\n",
    "def update_H(model, H, h, α):\n",
    "    \"\"\"\n",
    "    Update guess of the aggregate update rule.\n",
    "\n",
    "    \"\"\"\n",
    "    # Set up\n",
    "    σ, η, β, ω, κ, r, b_grid, y_t_nodes, y_n_nodes, Q = model\n",
    "    b_size, y_size = len(b_grid), len(y_t_nodes)\n",
    "    b_indices = jnp.arange(b_size)\n",
    "    # Switch policy arrays to values rather than indices\n",
    "    H_vals = b_grid[H]\n",
    "    bp_vals = b_grid[h]\n",
    "    # Update guess\n",
    "    new_H_vals = α * bp_vals[b_indices, b_indices, :, :] + (1 - α) * H_vals\n",
    "    # Switch back to indices\n",
    "    new_H = jnp.searchsorted(b_grid, new_H_vals)\n",
    "    return new_H"
   ]
  },
  {
   "cell_type": "markdown",
   "id": "5a0fbee6",
   "metadata": {},
   "source": [
    "Now we can write code to compute an equilibrium law of motion $ H $."
   ]
  },
  {
   "cell_type": "code",
   "execution_count": null,
   "id": "36ab1ffb",
   "metadata": {
    "hide-output": false
   },
   "outputs": [],
   "source": [
    "def compute_equilibrium(model, m=50,\n",
    "                          α=0.5, tol=0.005, max_iter=500):\n",
    "    \"\"\"\n",
    "    Compute the equilibrium law of motion.\n",
    "\n",
    "    \"\"\"\n",
    "    H = generate_initial_H(model)\n",
    "    v = jnp.ones((b_size, b_size, y_size, y_size))\n",
    "    h = get_greedy(model, v, H)\n",
    "    error = tol + 1\n",
    "    i = 0\n",
    "    while error > tol and i < max_iter:\n",
    "        new_H = update_H(model, H, h, α)\n",
    "        new_v = iterate_policy_operator(model, h, v, new_H, m)\n",
    "        new_h = get_greedy(model, new_v, new_H)\n",
    "        error = jnp.max(jnp.abs(b_grid[H] - b_grid[new_H]))\n",
    "        print(f\"Updated H at iteration {i} with error {error}.\")\n",
    "        H = new_H\n",
    "        v = new_v\n",
    "        h = new_h\n",
    "        i += 1\n",
    "    if i == max_iter:\n",
    "        print(\"Warning: Equilibrium search iteration hit upper bound.\")\n",
    "    return H"
   ]
  },
  {
   "cell_type": "markdown",
   "id": "18cf1a38",
   "metadata": {},
   "source": [
    "## Planner problem\n",
    "\n",
    "Now we switch to the planner problem.\n",
    "\n",
    "The constrained planner solves\n",
    "\n",
    "$$\n",
    "V(b, B, y)\n",
    "    = \\max_{c, b'} \n",
    "    \\left\\{\n",
    "        u(c) + \\beta \\mathbb{E}_y v(b', B', y')\n",
    "    \\right\\}\n",
    "$$\n",
    "\n",
    "subject to the market clearing conditions and\n",
    "the same constraint\n",
    "\n",
    "$$\n",
    "- \\kappa (y_t + p_n y_n) \\leq b' \\leq (1+r) b + y_t\n",
    "$$\n",
    "\n",
    "although the price of nontradable is now given by\n",
    "\n",
    "$$\n",
    "p_n = ((1 - ω) / ω) (c_t / y_n)^{η + 1}\n",
    "    \\quad \\text{with} \\quad\n",
    "    c_t := (1 + r) b + y_t - b'\n",
    "$$\n",
    "\n",
    "We see that the planner internalizes the impact of the savings choice $ b' $ on\n",
    "the price of nontradables and hence the credit constraint.\n",
    "\n",
    "Our first function returns the (unmaximized) RHS of the Bellman equation."
   ]
  },
  {
   "cell_type": "code",
   "execution_count": null,
   "id": "465c702f",
   "metadata": {
    "hide-output": false
   },
   "outputs": [],
   "source": [
    "@jax.jit\n",
    "def planner_T_generator(v, model, i_b, i_y_t, i_y_n, i_bp):\n",
    "    \"\"\"\n",
    "    Given current state (b, y_t, y_n) with indices (i_b, i_y_t, i_y_n),\n",
    "    compute the unmaximized right hand side (RHS) of the Bellman equation as a\n",
    "    function of the next period choice bp = b'.  \n",
    "    \"\"\"\n",
    "    σ, η, β, ω, κ, r, b_grid, y_t_nodes, y_n_nodes, Q = model\n",
    "    y_t = y_t_nodes[i_y_t]\n",
    "    y_n = y_n_nodes[i_y_n]\n",
    "    b, bp = b_grid[i_b], b_grid[i_bp]\n",
    "    # Compute price of nontradables using aggregates\n",
    "    c = (1 + r) * b + y_t - bp\n",
    "    p = ((1 - ω) / ω) * (c / y_n)**(η + 1)\n",
    "    # Compute household flow utility\n",
    "    utility = w(model, c, y_n)\n",
    "    # Compute expected value (continuation)\n",
    "    EV = jnp.sum(v[i_bp, :, :] * Q[i_y_t, i_y_n, :, :])\n",
    "    # Set up constraints and evaluate \n",
    "    credit_constraint_holds = - κ * (p * y_n + y_t) <= bp\n",
    "    budget_constraint_holds = bp <= (1 + r) * b + y_t\n",
    "    return jnp.where(jnp.logical_and(credit_constraint_holds, \n",
    "                                     budget_constraint_holds), \n",
    "                     utility + β * EV,\n",
    "                     -jnp.inf)"
   ]
  },
  {
   "cell_type": "code",
   "execution_count": null,
   "id": "c95fd56c",
   "metadata": {
    "hide-output": false
   },
   "outputs": [],
   "source": [
    "# Vectorize over the control bp and all the current states\n",
    "planner_T_generator = jax.vmap(planner_T_generator,\n",
    "        in_axes=(None, None, None, None, None, 0))\n",
    "planner_T_generator = jax.vmap(planner_T_generator, \n",
    "        in_axes=(None, None, None, None, 0, None))\n",
    "planner_T_generator = jax.vmap(planner_T_generator, \n",
    "        in_axes=(None, None, None, 0, None, None))\n",
    "planner_T_generator = jax.vmap(planner_T_generator, \n",
    "        in_axes=(None, None, 0, None, None, None))"
   ]
  },
  {
   "cell_type": "markdown",
   "id": "0bfa6b5c",
   "metadata": {},
   "source": [
    "Now we construct the Bellman operator."
   ]
  },
  {
   "cell_type": "code",
   "execution_count": null,
   "id": "55bee62a",
   "metadata": {
    "hide-output": false
   },
   "outputs": [],
   "source": [
    "@jax.jit\n",
    "def planner_T(model, v):\n",
    "    σ, η, β, ω, κ, r, b_grid, y_t_nodes, y_n_nodes, Q = model\n",
    "    b_size, y_size = len(b_grid), len(y_t_nodes)\n",
    "    b_indices, y_indices = jnp.arange(b_size), jnp.arange(y_size)\n",
    "    # Evaluate RHS of Bellman equation at all states and actions\n",
    "    val = planner_T_generator(v, model,\n",
    "                     b_indices, y_indices, y_indices, b_indices)\n",
    "    # Maximize over bp\n",
    "    return jnp.max(val, axis=-1)"
   ]
  },
  {
   "cell_type": "markdown",
   "id": "fe911be6",
   "metadata": {},
   "source": [
    "Here’s a function that computes a greedy policy (best response to $ v $)."
   ]
  },
  {
   "cell_type": "code",
   "execution_count": null,
   "id": "4e52b226",
   "metadata": {
    "hide-output": false
   },
   "outputs": [],
   "source": [
    "@jax.jit\n",
    "def planner_get_greedy(model, v):\n",
    "    σ, η, β, ω, κ, r, b_grid, y_t_nodes, y_n_nodes, Q = model\n",
    "    b_size, y_size = len(b_grid), len(y_t_nodes)\n",
    "    b_indices, y_indices = jnp.arange(b_size), jnp.arange(y_size)\n",
    "    # Evaluate RHS of Bellman equation at all states and actions\n",
    "    val = planner_T_generator(v, model,\n",
    "                     b_indices, y_indices, y_indices, b_indices)\n",
    "    # Maximize over bp\n",
    "    return jnp.argmax(val, axis=-1)"
   ]
  },
  {
   "cell_type": "code",
   "execution_count": null,
   "id": "47d4a1fc",
   "metadata": {
    "hide-output": false
   },
   "outputs": [],
   "source": [
    "def vfi(T, v_init, max_iter=10_000, tol=1e-5):\n",
    "    \"\"\"\n",
    "    Use successive approximation to compute the fixed point of T, starting from\n",
    "    v_init.\n",
    "\n",
    "    \"\"\"\n",
    "    v = v_init\n",
    "\n",
    "    def cond_fun(state):\n",
    "        error, i, v = state\n",
    "        return (error > tol) & (i < max_iter)\n",
    "    \n",
    "    def body_fun(state):\n",
    "        error, i, v = state\n",
    "        v_new = T(v)\n",
    "        error = jnp.max(jnp.abs(v_new - v))\n",
    "        return error, i+1, v_new\n",
    "\n",
    "    error, i, v_new = jax.lax.while_loop(cond_fun, body_fun,\n",
    "                                                    (tol+1, 0, v))\n",
    "    return v_new, i"
   ]
  },
  {
   "cell_type": "code",
   "execution_count": null,
   "id": "227b9fbc",
   "metadata": {
    "hide-output": false
   },
   "outputs": [],
   "source": [
    "vfi = jax.jit(vfi, static_argnums=(0,))"
   ]
  },
  {
   "cell_type": "markdown",
   "id": "dfdb3cfd",
   "metadata": {},
   "source": [
    "Computing the planner solution is straightforward value function iteration:"
   ]
  },
  {
   "cell_type": "code",
   "execution_count": null,
   "id": "0b487c21",
   "metadata": {
    "hide-output": false
   },
   "outputs": [],
   "source": [
    "def compute_planner_solution(model):\n",
    "    \"\"\"\n",
    "    Compute the constrained planner solution.\n",
    "\n",
    "    \"\"\"\n",
    "    σ, η, β, ω, κ, r, b_grid, y_t_nodes, y_n_nodes, Q = model\n",
    "    b_size, y_size = len(b_grid), len(y_t_nodes)\n",
    "    b_indices = jnp.arange(b_size)\n",
    "    v_init = jnp.ones((b_size, y_size, y_size))\n",
    "    _T = lambda v: planner_T(model, v)\n",
    "    # Compute household response to current guess H\n",
    "    v, vfi_num_iter = vfi(_T, v_init)\n",
    "    bp_policy = planner_get_greedy(model, v)\n",
    "    return v, bp_policy, vfi_num_iter"
   ]
  },
  {
   "cell_type": "markdown",
   "id": "f587a61c",
   "metadata": {},
   "source": [
    "## Numerical solution\n",
    "\n",
    "Let’s now solve the model and compare the decentralized and planner solutions"
   ]
  },
  {
   "cell_type": "markdown",
   "id": "f3f524b6",
   "metadata": {},
   "source": [
    "### Generating solutions\n",
    "\n",
    "Here we compute the two solutions."
   ]
  },
  {
   "cell_type": "code",
   "execution_count": null,
   "id": "6876f710",
   "metadata": {
    "hide-output": false
   },
   "outputs": [],
   "source": [
    "model = create_overborrowing_model()\n",
    "σ, η, β, ω, κ, r, b_grid, y_t_nodes, y_n_nodes, Q = model\n",
    "b_size, y_size = len(b_grid), len(y_t_nodes)"
   ]
  },
  {
   "cell_type": "code",
   "execution_count": null,
   "id": "b9eacc0a",
   "metadata": {
    "hide-output": false
   },
   "outputs": [],
   "source": [
    "print(\"Computing decentralized solution.\")\n",
    "in_time = time.time()\n",
    "H_eq = compute_equilibrium(model)\n",
    "out_time = time.time()\n",
    "diff = out_time - in_time\n",
    "print(f\"Computed decentralized equilibrium in {diff} seconds\")"
   ]
  },
  {
   "cell_type": "code",
   "execution_count": null,
   "id": "5c2ae2b8",
   "metadata": {
    "hide-output": false
   },
   "outputs": [],
   "source": [
    "print(\"Computing planner's solution.\")\n",
    "in_time = time.time()\n",
    "planner_v, H_plan, vfi_num_iter = compute_planner_solution(model)\n",
    "out_time = time.time()\n",
    "diff = out_time - in_time\n",
    "print(f\"Computed planner's solution in {diff} seconds\")"
   ]
  },
  {
   "cell_type": "markdown",
   "id": "f092f98b",
   "metadata": {},
   "source": [
    "### Policy plots\n",
    "\n",
    "We produce a policy plot that is similar to Figure 1 in Bianchi (2011)."
   ]
  },
  {
   "cell_type": "code",
   "execution_count": null,
   "id": "e52389a0",
   "metadata": {
    "hide-output": false
   },
   "outputs": [],
   "source": [
    "i, j = 1, 3\n",
    "y_t, y_n = y_t_nodes[i], y_n_nodes[j]\n",
    "fig, ax = plt.subplots()\n",
    "ax.plot(b_grid, b_grid[H_eq[:, i, j]], label='decentralized equilibrium')\n",
    "ax.plot(b_grid, b_grid[H_plan[:, i, j]], ls='--', label='social planner')\n",
    "ax.plot(b_grid, b_grid, color='black', lw=0.5)\n",
    "ax.set_ylim((-1.0, -0.6))\n",
    "ax.set_xlim((-1.0, -0.6))\n",
    "ax.set_xlabel(\"current bond holdings\")\n",
    "ax.set_ylabel(\"next period bond holdings\")\n",
    "ax.set_title(f\"policy when $y_t = {y_t:.2}$ and $y_n = {y_n:.2}$\")\n",
    "ax.legend()\n",
    "plt.show()"
   ]
  },
  {
   "cell_type": "markdown",
   "id": "7997c936",
   "metadata": {},
   "source": [
    "The match is not exact because we use a different estimate of the Markov\n",
    "dynamics for income.\n",
    "\n",
    "Nonetheless, it is qualitatively similar."
   ]
  },
  {
   "cell_type": "markdown",
   "id": "9da237e4",
   "metadata": {},
   "source": [
    "## Exercise"
   ]
  },
  {
   "cell_type": "markdown",
   "id": "f319fe68",
   "metadata": {},
   "source": [
    "## Exercise 20.1\n",
    "\n",
    "Your task is to examine the ergodic distribution of borrowing in the decentralized and\n",
    "planner equilibria.\n",
    "\n",
    "We recommend that you use simulation and a kernel density estimate.\n",
    "\n",
    "Here’s a function for generating the borrowing sequence.\n",
    "\n",
    "We use Numba because we want to compile a long for loop."
   ]
  },
  {
   "cell_type": "code",
   "execution_count": null,
   "id": "5e5210c7",
   "metadata": {
    "hide-output": false
   },
   "outputs": [],
   "source": [
    "@numba.jit\n",
    "def generate_borrowing_sequence(H, y_t_series, y_n_series):\n",
    "    \"\"\"\n",
    "    Generate the borrowing sequence B' = H(B, y_t, y_n).\n",
    "\n",
    "    * H is a policy array\n",
    "    * y_t_series and y_n_series are simulated time paths \n",
    "\n",
    "    Both y_t_series and y_n_series are stored as indices rather than values.\n",
    "\n",
    "    \"\"\"\n",
    "    B = np.empty_like(y_t_series)\n",
    "    B[0] = 0\n",
    "    for t in range(len(y_t_series)-1):\n",
    "        B[t+1] = H[B[t], y_t_series[t], y_n_series[t]]\n",
    "    return B"
   ]
  },
  {
   "cell_type": "markdown",
   "id": "c19de942",
   "metadata": {},
   "source": [
    "Note that you will have to convert JAX arrays into NumPy arrays if you want to use this function.\n",
    "\n",
    "From here you will need to\n",
    "\n",
    "- generate a time path for income $ y = (y_t, y_n) $ using one of the functions provided above.  \n",
    "- use the function `generate_borrowing_sequence` plus `H_eq` and `H_plan` to calculate bond holdings for the planner and the decentralized equilibrium  \n",
    "- produce a kernel density plot for each of these data sets  \n",
    "\n",
    "\n",
    "If you are successful, your plot should look something like Fig 2 of Bianchi (2011) — although not exactly the same, due to the alternative specification of the Markov process.\n",
    "\n",
    "To generate a kernel density plot, we recommend that you use `kdeplot` from the package `seaborn`, which is included in Anaconda."
   ]
  },
  {
   "cell_type": "markdown",
   "id": "64cb0bed",
   "metadata": {},
   "source": [
    "## Solution to[ Exercise 20.1](https://jax.quantecon.org/#overborrow_1)"
   ]
  },
  {
   "cell_type": "code",
   "execution_count": null,
   "id": "a2ac7a80",
   "metadata": {
    "hide-output": false
   },
   "outputs": [],
   "source": [
    "import seaborn  # For kernel density plots"
   ]
  },
  {
   "cell_type": "code",
   "execution_count": null,
   "id": "ef2ffd74",
   "metadata": {
    "hide-output": false
   },
   "outputs": [],
   "source": [
    "sim_length = 100_000\n",
    "y_t_series, y_n_series = generate_discrete_var(ts_length=sim_length,\n",
    "                                               indices=True)"
   ]
  },
  {
   "cell_type": "markdown",
   "id": "a3052c04",
   "metadata": {},
   "source": [
    "We convert JAX arrays to NumPy arrays in order to use Numba."
   ]
  },
  {
   "cell_type": "code",
   "execution_count": null,
   "id": "5d1044f7",
   "metadata": {
    "hide-output": false
   },
   "outputs": [],
   "source": [
    "y_t_series, y_n_series, H_eq, H_plan = \\\n",
    "        [np.array(v) for v in (y_t_series, y_n_series, H_eq, H_plan)]"
   ]
  },
  {
   "cell_type": "markdown",
   "id": "3527c97a",
   "metadata": {},
   "source": [
    "Now let’s compute borrowing for the decentralized equilibrium and the planner."
   ]
  },
  {
   "cell_type": "code",
   "execution_count": null,
   "id": "d59d2f64",
   "metadata": {
    "hide-output": false
   },
   "outputs": [],
   "source": [
    "B_eq = generate_borrowing_sequence(H_eq, y_t_series, y_n_series)\n",
    "eq_b_sequence = b_grid[B_eq]\n",
    "B_plan = generate_borrowing_sequence(H_plan, y_t_series, y_n_series)\n",
    "plan_b_sequence = b_grid[B_plan]"
   ]
  },
  {
   "cell_type": "markdown",
   "id": "4605c442",
   "metadata": {},
   "source": [
    "We suppress some annoying warnings produced by the current version of `seaborn`"
   ]
  },
  {
   "cell_type": "code",
   "execution_count": null,
   "id": "51d80c78",
   "metadata": {
    "hide-output": false
   },
   "outputs": [],
   "source": [
    "import warnings\n",
    "warnings.simplefilter(action='ignore', category=FutureWarning)"
   ]
  },
  {
   "cell_type": "markdown",
   "id": "cdf2238b",
   "metadata": {},
   "source": [
    "Now let’s plot the distributions using a kernel density estimator."
   ]
  },
  {
   "cell_type": "code",
   "execution_count": null,
   "id": "37c13bbd",
   "metadata": {
    "hide-output": false
   },
   "outputs": [],
   "source": [
    "fig, ax = plt.subplots()\n",
    "seaborn.kdeplot(eq_b_sequence, ax=ax, label='decentralized')\n",
    "seaborn.kdeplot(plan_b_sequence, ax=ax, label='planner')\n",
    "ax.legend()\n",
    "ax.set_xlim((-1, -0.5))\n",
    "ax.set_xlabel(\"bond holdings\")\n",
    "ax.set_ylabel(\"probability\")\n",
    "plt.show()"
   ]
  },
  {
   "cell_type": "markdown",
   "id": "48c6cc71",
   "metadata": {},
   "source": [
    "This corresponds to Figure 2 in Bianchi.\n",
    "\n",
    "Again, the match is not exact but it is qualitatively similar.\n",
    "\n",
    "Asset holding has a longer left hand tail under the decentralized equilibrium,\n",
    "leaving the economy more vulnerable to bad shocks."
   ]
  }
 ],
 "metadata": {
  "date": 1741730300.619753,
  "filename": "overborrowing.md",
  "kernelspec": {
   "display_name": "Python",
   "language": "python3",
   "name": "python3"
  },
  "title": "Bianchi Overborrowing Model"
 },
 "nbformat": 4,
 "nbformat_minor": 5
}