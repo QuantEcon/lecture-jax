{
 "cells": [
  {
   "cell_type": "markdown",
   "id": "e2396c70",
   "metadata": {},
   "source": [
    "# About these Lectures"
   ]
  },
  {
   "cell_type": "markdown",
   "id": "87f854e7",
   "metadata": {},
   "source": [
    "## About\n",
    "\n",
    "This lecture series introduces quantitative economics using Google JAX.\n",
    "\n",
    "We assume that readers have covered most of the QuantEcon lecture\n",
    "series [on Python programming](https://python-programming.quantecon.org/intro.html)."
   ]
  },
  {
   "cell_type": "markdown",
   "id": "0526881a",
   "metadata": {},
   "source": [
    "## Credits\n",
    "\n",
    "In building this lecture series, we had invaluable assistance from research\n",
    "assistants at QuantEcon and our QuantEcon colleagues.\n",
    "\n",
    "In particular, we thank and credit\n",
    "\n",
    "- [Shu Hu](https://github.com/shlff)  \n",
    "- [Smit Lunagariya](https://github.com/Smit-create)  \n",
    "- [Matthew McKay](https://github.com/mmcky)  \n",
    "- [Humphrey Yang](https://github.com/HumphreyYang)  \n",
    "- [Hengcheng Zhang](https://github.com/HengchengZhang)  \n",
    "- [Frank Wu](https://github.com/chappiewuzefan)  "
   ]
  }
 ],
 "metadata": {
  "date": 1683530831.0849867,
  "filename": "about.md",
  "kernelspec": {
   "display_name": "Python",
   "language": "python3",
   "name": "python3"
  },
  "title": "About these Lectures"
 },
 "nbformat": 4,
 "nbformat_minor": 5
}