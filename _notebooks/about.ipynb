{
 "cells": [
  {
   "cell_type": "markdown",
   "id": "245ed213",
   "metadata": {},
   "source": [
    "# About\n",
    "\n",
    "This lecture series provides an introduction to quantitative economics using [Google JAX](https://github.com/google/jax)."
   ]
  },
  {
   "cell_type": "markdown",
   "id": "2ecea7e7",
   "metadata": {},
   "source": [
    "## What is JAX?\n",
    "\n",
    "JAX is an open source Python library developed by Google Research to support\n",
    "in-house artificial intelligence and machine learning.\n",
    "\n",
    "JAX provides data types, functions and a compiler for fast linear\n",
    "algebra operations and automatic differentiation.\n",
    "\n",
    "Loosely speaking, JAX is like [NumPy](https://numpy.org/) with the addition of\n",
    "\n",
    "- automatic differentiation  \n",
    "- automated GPU/TPU support  \n",
    "- a just-in-time compiler  \n",
    "\n",
    "\n",
    "One of the great benefits of JAX is that exactly the same code can be run either\n",
    "on the CPU or on a hardware accelerator, such as a GPU or TPU.\n",
    "\n",
    "In short, JAX delivers\n",
    "\n",
    "1. high execution speeds on CPUs due to efficient parallelization and JIT\n",
    "  compilation,  \n",
    "1. a powerful and convenient environment for GPU programming, and  \n",
    "1. the ability to efficiently differentiate smooth functions for optimization\n",
    "  and estimation.  \n",
    "\n",
    "\n",
    "These features make JAX ideal for almost all quantitative economic modeling\n",
    "problems that require heavy-duty computing."
   ]
  },
  {
   "cell_type": "markdown",
   "id": "1a7f1071",
   "metadata": {},
   "source": [
    "## How to run these lectures\n",
    "\n",
    "The easiest way to run these lectures is via  [Google Colab](https://colab.research.google.com/).\n",
    "\n",
    "JAX is pre-installed with GPU support on Colab and Colab provides GPU access\n",
    "even on the free tier.\n",
    "\n",
    "Each lecture has a “play” button on the top right that you can use to launch the\n",
    "lecture on Colab.\n",
    "\n",
    "You might also like to try using JAX locally.\n",
    "\n",
    "If you do not own a GPU, you can still install JAX for the CPU by following the relevant [install instructions](https://github.com/google/jax).\n",
    "\n",
    "(We recommend that you install [Anaconda\n",
    "Python](https://www.anaconda.com/download) first.)\n",
    "\n",
    "If you do have a GPU, you can try installing JAX for the GPU by following the\n",
    "install instructions for GPUs.\n",
    "\n",
    "(This is not always trivial but is starting to get easier.)"
   ]
  },
  {
   "cell_type": "markdown",
   "id": "d23711ca",
   "metadata": {},
   "source": [
    "## Credits\n",
    "\n",
    "In building this lecture series, we had invaluable assistance from research\n",
    "assistants at QuantEcon and our QuantEcon colleagues.\n",
    "\n",
    "In particular, we thank and credit\n",
    "\n",
    "- [Shu Hu](https://github.com/shlff)  \n",
    "- [Smit Lunagariya](https://github.com/Smit-create)  \n",
    "- [Matthew McKay](https://github.com/mmcky)  \n",
    "- [Humphrey Yang](https://github.com/HumphreyYang)  \n",
    "- [Hengcheng Zhang](https://github.com/HengchengZhang)  \n",
    "- [Frank Wu](https://github.com/chappiewuzefan)  "
   ]
  },
  {
   "cell_type": "markdown",
   "id": "23d9f4d8",
   "metadata": {},
   "source": [
    "## Prerequisites\n",
    "\n",
    "We assume that readers have covered most of the QuantEcon lecture\n",
    "series [on Python programming](https://python-programming.quantecon.org/intro.html)."
   ]
  }
 ],
 "metadata": {
  "date": 1683608798.128505,
  "filename": "about.md",
  "kernelspec": {
   "display_name": "Python",
   "language": "python3",
   "name": "python3"
  },
  "title": "About"
 },
 "nbformat": 4,
 "nbformat_minor": 5
}