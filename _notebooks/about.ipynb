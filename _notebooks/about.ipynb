{
 "cells": [
  {
   "cell_type": "markdown",
   "id": "b716b59c",
   "metadata": {},
   "source": [
    "# About these Lectures"
   ]
  },
  {
   "cell_type": "markdown",
   "id": "a21a1bfb",
   "metadata": {},
   "source": [
    "## About\n",
    "\n",
    "This lecture series introduces quantitative economics using Google JAX.\n",
    "\n",
    "We assume that readers have covered most of the QuantEcon lecture\n",
    "series [on Python programming](https://python-programming.quantecon.org/intro.html)."
   ]
  },
  {
   "cell_type": "markdown",
   "id": "6bb6ae34",
   "metadata": {},
   "source": [
    "## Credits\n",
    "\n",
    "In building this lecture series, we had invaluable assistance from research\n",
    "assistants at QuantEcon and our QuantEcon colleagues.\n",
    "\n",
    "In particular, we thank and credit\n",
    "\n",
    "- [Shu Hu](https://github.com/shlff)  \n",
    "- [Smit Lunagariya](https://github.com/Smit-create)  \n",
    "- [Matthew McKay](https://github.com/mmcky)  \n",
    "- [Humphrey Yang](https://github.com/HumphreyYang)  \n",
    "- [Hengcheng Zhang](https://github.com/HengchengZhang)  \n",
    "- [Frank Wu](https://github.com/https://github.com/chappiewuzefan)  "
   ]
  }
 ],
 "metadata": {
  "date": 1683521946.72341,
  "filename": "about.md",
  "kernelspec": {
   "display_name": "Python",
   "language": "python3",
   "name": "python3"
  },
  "title": "About these Lectures"
 },
 "nbformat": 4,
 "nbformat_minor": 5
}