{
 "cells": [
  {
   "cell_type": "markdown",
   "id": "7123c64d",
   "metadata": {},
   "source": [
    "# Quantitative Economics with JAX\n",
    "\n",
    "This website presents a set of lectures on quantitative economic modeling\n",
    "using GPUs and [Google JAX](https://jax.readthedocs.io)."
   ]
  },
  {
   "cell_type": "markdown",
   "id": "371b443a",
   "metadata": {},
   "source": [
    "# Introduction\n",
    "\n",
    "- [About](https://jax.quantecon.org/about.html)\n",
    "- [An Introduction to JAX](https://jax.quantecon.org/jax_intro.html)\n",
    "- [Adventures with Autodiff](https://jax.quantecon.org/autodiff.html)\n",
    "- [Newton’s Method via JAX](https://jax.quantecon.org/newtons_method.html)"
   ]
  },
  {
   "cell_type": "markdown",
   "id": "ef2e6e28",
   "metadata": {},
   "source": [
    "# Simulation\n",
    "\n",
    "- [Inventory Dynamics](https://jax.quantecon.org/inventory_dynamics.html)\n",
    "- [Kesten Processes and Firm Dynamics](https://jax.quantecon.org/kesten_processes.html)\n",
    "- [Wealth Distribution Dynamics](https://jax.quantecon.org/wealth_dynamics.html)"
   ]
  },
  {
   "cell_type": "markdown",
   "id": "a75073e8",
   "metadata": {},
   "source": [
    "# Asset Pricing\n",
    "\n",
    "- [Asset Pricing: The Lucas Asset Pricing Model](https://jax.quantecon.org/lucas_model.html)\n",
    "- [An Asset Pricing Problem](https://jax.quantecon.org/markov_asset.html)"
   ]
  },
  {
   "cell_type": "markdown",
   "id": "0b7a3f66",
   "metadata": {},
   "source": [
    "# Dynamic Programming\n",
    "\n",
    "- [Job Search](https://jax.quantecon.org/job_search.html)\n",
    "- [Optimal Savings I: Value Function Iteration](https://jax.quantecon.org/opt_savings_1.html)\n",
    "- [Optimal Savings II: Alternative Algorithms](https://jax.quantecon.org/opt_savings_2.html)\n",
    "- [Shortest Paths](https://jax.quantecon.org/short_path.html)\n",
    "- [Optimal Investment](https://jax.quantecon.org/opt_invest.html)\n",
    "- [Inventory Management Model](https://jax.quantecon.org/inventory_ssd.html)\n",
    "- [Endogenous Grid Method](https://jax.quantecon.org/ifp_egm.html)"
   ]
  },
  {
   "cell_type": "markdown",
   "id": "5632df5d",
   "metadata": {},
   "source": [
    "# Macroeconomic Models\n",
    "\n",
    "- [Default Risk and Income Fluctuations](https://jax.quantecon.org/arellano.html)\n",
    "- [The Aiyagari Model](https://jax.quantecon.org/aiyagari_jax.html)\n",
    "- [The Hopenhayn Entry-Exit Model](https://jax.quantecon.org/hopenhayn.html)\n",
    "- [Bianchi Overborrowing Model](https://jax.quantecon.org/overborrowing.html)"
   ]
  },
  {
   "cell_type": "markdown",
   "id": "486c0e6e",
   "metadata": {},
   "source": [
    "# Data and Empirics\n",
    "\n",
    "- [Maximum Likelihood Estimation](https://jax.quantecon.org/mle.html)\n",
    "- [Simple Neural Network Regression with Keras and JAX](https://jax.quantecon.org/keras.html)\n",
    "- [Neural Network Regression with JAX and Optax](https://jax.quantecon.org/jax_nn.html)"
   ]
  },
  {
   "cell_type": "markdown",
   "id": "b322d445",
   "metadata": {},
   "source": [
    "# Other\n",
    "\n",
    "- [Troubleshooting](https://jax.quantecon.org/troubleshooting.html)\n",
    "- [References](https://jax.quantecon.org/zreferences.html)\n",
    "- [Execution Statistics](https://jax.quantecon.org/status.html)"
   ]
  }
 ],
 "metadata": {
  "date": 1747018760.8516622,
  "filename": "intro.md",
  "kernelspec": {
   "display_name": "Python",
   "language": "python3",
   "name": "python3"
  },
  "title": "Quantitative Economics with JAX"
 },
 "nbformat": 4,
 "nbformat_minor": 5
}