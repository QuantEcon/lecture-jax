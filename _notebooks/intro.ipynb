{
 "cells": [
  {
   "cell_type": "markdown",
   "id": "257f6b14",
   "metadata": {},
   "source": [
    "# Quantitative Economics with Python (JAX)\n",
    "\n",
    "This website presents a set of lectures on quantitative economic modeling, designed and written by\n",
    "[Thomas J. Sargent](http://www.tomsargent.com/) and [John Stachurski](https://johnstachurski.net/)\n",
    "specifically using [JAX](https://jax.readthedocs.io) and accelerating using the `GPU`.\n",
    "\n",
    "For an overview of the series, see [this page](https://quantecon.org/projects/#filter=lecture)"
   ]
  },
  {
   "cell_type": "markdown",
   "id": "a3193b9f",
   "metadata": {},
   "source": [
    "# Introduction\n",
    "\n",
    "- [About](https://jax.quantecon.org/about.html)\n",
    "- [An Introduction to JAX](https://jax.quantecon.org/jax_intro.html)\n",
    "- [Newton’s Method via JAX](https://jax.quantecon.org/newtons_method.html)"
   ]
  },
  {
   "cell_type": "markdown",
   "id": "c1b368c3",
   "metadata": {},
   "source": [
    "# Simulation\n",
    "\n",
    "- [Inventory Dynamics](https://jax.quantecon.org/inventory_dynamics.html)\n",
    "- [Kesten Processes and Firm Dynamics](https://jax.quantecon.org/kesten_processes.html)\n",
    "- [Wealth Distribution Dynamics](https://jax.quantecon.org/wealth_dynamics.html)"
   ]
  },
  {
   "cell_type": "markdown",
   "id": "38444c9c",
   "metadata": {},
   "source": [
    "# Dynamic Programming\n",
    "\n",
    "- [Shortest Paths](https://jax.quantecon.org/short_path.html)\n",
    "- [Optimal Investment](https://jax.quantecon.org/opt_invest.html)\n",
    "- [Optimal Savings](https://jax.quantecon.org/opt_savings.html)\n",
    "- [Default Risk and Income Fluctuations](https://jax.quantecon.org/arellano.html)\n",
    "- [The Aiyagari Model](https://jax.quantecon.org/aiyagari_jax.html)"
   ]
  },
  {
   "cell_type": "markdown",
   "id": "35bf1ad5",
   "metadata": {},
   "source": [
    "# Other\n",
    "\n",
    "- [Troubleshooting](https://jax.quantecon.org/troubleshooting.html)\n",
    "- [References](https://jax.quantecon.org/zreferences.html)\n",
    "- [Execution Statistics](https://jax.quantecon.org/status.html)"
   ]
  }
 ],
 "metadata": {
  "date": 1683608798.2610154,
  "filename": "intro.md",
  "kernelspec": {
   "display_name": "Python",
   "language": "python3",
   "name": "python3"
  },
  "title": "Quantitative Economics with Python (JAX)"
 },
 "nbformat": 4,
 "nbformat_minor": 5
}