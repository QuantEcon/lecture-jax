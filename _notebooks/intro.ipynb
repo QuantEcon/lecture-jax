{
 "cells": [
  {
   "cell_type": "markdown",
   "id": "abe8d03e",
   "metadata": {},
   "source": [
    "# Quantitative Economics with JAX\n",
    "\n",
    "This website presents a set of lectures on quantitative economic modeling\n",
    "using GPUs and [Google JAX](https://jax.readthedocs.io)."
   ]
  },
  {
   "cell_type": "markdown",
   "id": "f1d9b080",
   "metadata": {},
   "source": [
    "# Introduction\n",
    "\n",
    "- [About](https://jax.quantecon.org/about.html)\n",
    "- [An Introduction to JAX](https://jax.quantecon.org/jax_intro.html)\n",
    "- [Newton’s Method via JAX](https://jax.quantecon.org/newtons_method.html)"
   ]
  },
  {
   "cell_type": "markdown",
   "id": "706a6477",
   "metadata": {},
   "source": [
    "# Simulation\n",
    "\n",
    "- [Inventory Dynamics](https://jax.quantecon.org/inventory_dynamics.html)\n",
    "- [Kesten Processes and Firm Dynamics](https://jax.quantecon.org/kesten_processes.html)\n",
    "- [Wealth Distribution Dynamics](https://jax.quantecon.org/wealth_dynamics.html)"
   ]
  },
  {
   "cell_type": "markdown",
   "id": "6404eee1",
   "metadata": {},
   "source": [
    "# Asset Pricing\n",
    "\n",
    "- [Asset Pricing: The Lucas Asset Pricing Model](https://jax.quantecon.org/lucas_model.html)\n",
    "- [An Asset Pricing Problem](https://jax.quantecon.org/markov_asset.html)"
   ]
  },
  {
   "cell_type": "markdown",
   "id": "1fac053d",
   "metadata": {},
   "source": [
    "# Dynamic Programming\n",
    "\n",
    "- [Job Search](https://jax.quantecon.org/job_search.html)\n",
    "- [Optimal Savings I: Value Function Iteration](https://jax.quantecon.org/opt_savings_1.html)\n",
    "- [Optimal Savings II: Alternative Algorithms](https://jax.quantecon.org/opt_savings_2.html)\n",
    "- [Shortest Paths](https://jax.quantecon.org/short_path.html)\n",
    "- [Optimal Investment](https://jax.quantecon.org/opt_invest.html)\n",
    "- [Inventory Management Model](https://jax.quantecon.org/inventory_ssd.html)\n",
    "- [Endogenous Grid Method](https://jax.quantecon.org/ifp_egm.html)\n",
    "- [Cake Eating: Numerical Methods](https://jax.quantecon.org/cake_eating_numerical.html)"
   ]
  },
  {
   "cell_type": "markdown",
   "id": "84cd3dd1",
   "metadata": {},
   "source": [
    "# Macroeconomic Models\n",
    "\n",
    "- [Default Risk and Income Fluctuations](https://jax.quantecon.org/arellano.html)\n",
    "- [The Aiyagari Model](https://jax.quantecon.org/aiyagari_jax.html)\n",
    "- [The Hopenhayn Entry-Exit Model](https://jax.quantecon.org/hopenhayn.html)\n",
    "- [Bianchi Overborrowing Model](https://jax.quantecon.org/overborrowing.html)"
   ]
  },
  {
   "cell_type": "markdown",
   "id": "7d1b34aa",
   "metadata": {},
   "source": [
    "# Data and Empirics\n",
    "\n",
    "- [Maximum Likelihood Estimation](https://jax.quantecon.org/mle.html)"
   ]
  },
  {
   "cell_type": "markdown",
   "id": "cabf5c7b",
   "metadata": {},
   "source": [
    "# Other\n",
    "\n",
    "- [Troubleshooting](https://jax.quantecon.org/troubleshooting.html)\n",
    "- [References](https://jax.quantecon.org/zreferences.html)\n",
    "- [Execution Statistics](https://jax.quantecon.org/status.html)"
   ]
  }
 ],
 "metadata": {
  "date": 1715241420.2635472,
  "filename": "intro.md",
  "kernelspec": {
   "display_name": "Python",
   "language": "python3",
   "name": "python3"
  },
  "title": "Quantitative Economics with JAX"
 },
 "nbformat": 4,
 "nbformat_minor": 5
}