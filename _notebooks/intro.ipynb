{
 "cells": [
  {
   "cell_type": "markdown",
   "id": "51d2ad18",
   "metadata": {},
   "source": [
    "# Quantitative Economics with JAX\n",
    "\n",
    "This website presents a set of lectures on quantitative economic modeling\n",
    "using GPUs and [Google JAX](https://jax.readthedocs.io).   The lectures\n",
    "are designed and written by [Thomas J. Sargent](http://www.tomsargent.com/) and\n",
    "[John Stachurski](https://johnstachurski.net/)."
   ]
  },
  {
   "cell_type": "markdown",
   "id": "4532b6af",
   "metadata": {},
   "source": [
    "# Introduction\n",
    "\n",
    "- [About](https://jax.quantecon.org/about.html)\n",
    "- [An Introduction to JAX](https://jax.quantecon.org/jax_intro.html)\n",
    "- [Newton’s Method via JAX](https://jax.quantecon.org/newtons_method.html)\n",
    "- [An Asset Pricing Problem](https://jax.quantecon.org/markov_asset.html)"
   ]
  },
  {
   "cell_type": "markdown",
   "id": "f0e4c77f",
   "metadata": {},
   "source": [
    "# Simulation\n",
    "\n",
    "- [Inventory Dynamics](https://jax.quantecon.org/inventory_dynamics.html)\n",
    "- [Kesten Processes and Firm Dynamics](https://jax.quantecon.org/kesten_processes.html)\n",
    "- [Wealth Distribution Dynamics](https://jax.quantecon.org/wealth_dynamics.html)"
   ]
  },
  {
   "cell_type": "markdown",
   "id": "3787d8c2",
   "metadata": {},
   "source": [
    "# Data and Empirics\n",
    "\n",
    "- [Maximum Likelihood Estimation](https://jax.quantecon.org/mle.html)"
   ]
  },
  {
   "cell_type": "markdown",
   "id": "e81ca99d",
   "metadata": {},
   "source": [
    "# Dynamic Programming\n",
    "\n",
    "- [Shortest Paths](https://jax.quantecon.org/short_path.html)\n",
    "- [Optimal Investment](https://jax.quantecon.org/opt_invest.html)\n",
    "- [Optimal Savings](https://jax.quantecon.org/opt_savings.html)\n",
    "- [Endogenous Grid Method](https://jax.quantecon.org/ifp_egm.html)\n",
    "- [Default Risk and Income Fluctuations](https://jax.quantecon.org/arellano.html)\n",
    "- [The Aiyagari Model](https://jax.quantecon.org/aiyagari_jax.html)\n",
    "- [Cake Eating: Numerical Methods](https://jax.quantecon.org/cake_eating_numerical.html)"
   ]
  },
  {
   "cell_type": "markdown",
   "id": "fc7378ac",
   "metadata": {},
   "source": [
    "# Other\n",
    "\n",
    "- [Troubleshooting](https://jax.quantecon.org/troubleshooting.html)\n",
    "- [References](https://jax.quantecon.org/zreferences.html)\n",
    "- [Execution Statistics](https://jax.quantecon.org/status.html)"
   ]
  }
 ],
 "metadata": {
  "date": 1695019732.2234042,
  "filename": "intro.md",
  "kernelspec": {
   "display_name": "Python",
   "language": "python3",
   "name": "python3"
  },
  "title": "Quantitative Economics with JAX"
 },
 "nbformat": 4,
 "nbformat_minor": 5
}