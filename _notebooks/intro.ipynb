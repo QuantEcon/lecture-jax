{
 "cells": [
  {
   "cell_type": "markdown",
   "id": "7e6772e3",
   "metadata": {},
   "source": [
    "# Quantitative Economics with Python (JAX)\n",
    "\n",
    "This website presents a set of lectures on quantitative economic modeling, designed and written by\n",
    "[Thomas J. Sargent](http://www.tomsargent.com/) and [John Stachurski](https://johnstachurski.net/)\n",
    "specifically using [JAX](https://jax.readthedocs.io) and accelerating using the `GPU`.\n",
    "\n",
    "For an overview of the series, see [this page](https://quantecon.org/python-lectures/)"
   ]
  },
  {
   "cell_type": "markdown",
   "id": "eaedd8c4",
   "metadata": {},
   "source": [
    "# Introduction\n",
    "\n",
    "- [About these Lectures](https://python.quantecon.org/about.html)\n",
    "- [JAX](https://python.quantecon.org/jax_intro.html)\n",
    "- [Newton’s Method via JAX](https://python.quantecon.org/newtons_method.html)"
   ]
  },
  {
   "cell_type": "markdown",
   "id": "6b6bbbad",
   "metadata": {},
   "source": [
    "# Simulation\n",
    "\n",
    "- [Inventory Dynamics](https://python.quantecon.org/inventory_dynamics.html)\n",
    "- [Kesten Processes and Firm Dynamics](https://python.quantecon.org/kesten_processes.html)\n",
    "- [Wealth Distribution Dynamics](https://python.quantecon.org/wealth_dynamics.html)"
   ]
  },
  {
   "cell_type": "markdown",
   "id": "7fdd7ddb",
   "metadata": {},
   "source": [
    "# Dynamic Programming\n",
    "\n",
    "- [Shortest Paths](https://python.quantecon.org/short_path.html)\n",
    "- [Optimal Investment](https://python.quantecon.org/opt_invest.html)\n",
    "- [Optimal Savings](https://python.quantecon.org/opt_savings.html)\n",
    "- [Default Risk and Income Fluctuations](https://python.quantecon.org/arellano.html)\n",
    "- [The Aiyagari Model](https://python.quantecon.org/aiyagari_jax.html)"
   ]
  },
  {
   "cell_type": "markdown",
   "id": "29cb9791",
   "metadata": {},
   "source": [
    "# Other\n",
    "\n",
    "- [Troubleshooting](https://python.quantecon.org/troubleshooting.html)\n",
    "- [References](https://python.quantecon.org/zreferences.html)\n",
    "- [Execution Statistics](https://python.quantecon.org/status.html)"
   ]
  }
 ],
 "metadata": {
  "date": 1683530831.2172887,
  "filename": "intro.md",
  "kernelspec": {
   "display_name": "Python",
   "language": "python3",
   "name": "python3"
  },
  "title": "Quantitative Economics with Python (JAX)"
 },
 "nbformat": 4,
 "nbformat_minor": 5
}