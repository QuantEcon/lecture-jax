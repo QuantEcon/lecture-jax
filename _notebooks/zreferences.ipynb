{
 "cells": [
  {
   "cell_type": "markdown",
   "id": "c40292e7",
   "metadata": {},
   "source": [
    "\n",
    "<a id='references'></a>"
   ]
  },
  {
   "cell_type": "markdown",
   "id": "6e82abf6",
   "metadata": {},
   "source": [
    "# References"
   ]
  }
 ],
 "metadata": {
  "date": 1683521018.7753434,
  "filename": "zreferences.md",
  "kernelspec": {
   "display_name": "Python",
   "language": "python3",
   "name": "python3"
  },
  "title": "References"
 },
 "nbformat": 4,
 "nbformat_minor": 5
}