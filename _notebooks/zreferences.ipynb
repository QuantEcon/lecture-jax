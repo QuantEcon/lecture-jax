{
 "cells": [
  {
   "cell_type": "markdown",
   "id": "0123d561",
   "metadata": {},
   "source": [
    "\n",
    "<a id='references'></a>"
   ]
  },
  {
   "cell_type": "markdown",
   "id": "e79f7033",
   "metadata": {},
   "source": [
    "# References"
   ]
  }
 ],
 "metadata": {
  "date": 1683519100.7761953,
  "filename": "zreferences.md",
  "kernelspec": {
   "display_name": "Python",
   "language": "python3",
   "name": "python3"
  },
  "title": "References"
 },
 "nbformat": 4,
 "nbformat_minor": 5
}