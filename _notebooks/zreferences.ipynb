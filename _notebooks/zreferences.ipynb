{
 "cells": [
  {
   "cell_type": "markdown",
   "id": "85a22135",
   "metadata": {},
   "source": [
    "\n",
    "<a id='references'></a>"
   ]
  },
  {
   "cell_type": "markdown",
   "id": "d49c09ee",
   "metadata": {},
   "source": [
    "# References\n",
    "\n",
    "<a id='id255'></a>\n",
    "\\[Are08\\] Cristina Arellano. Default risk and income fluctuations in emerging economies. *The American Economic Review*, pages 690–712, 2008.\n",
    "\n",
    "<a id='id256'></a>\n",
    "\\[Bia11\\] Javier Bianchi. Overborrowing and systemic externalities in the business cycle. *American Economic Review*, 101(7):3400–3426, December 2011. URL: [https://www.aeaweb.org/articles?id=10.1257/aer.101.7.3400](https://www.aeaweb.org/articles?id=10.1257/aer.101.7.3400), [doi:10.1257/aer.101.7.3400](https://doi.org/10.1257/aer.101.7.3400).\n",
    "\n",
    "<a id='id184'></a>\n",
    "\\[Luc78\\] Robert E Lucas, Jr. Asset prices in an exchange economy. *Econometrica: Journal of the Econometric Society*, 46(6):1429–1445, 1978."
   ]
  }
 ],
 "metadata": {
  "date": 1713141905.619677,
  "filename": "zreferences.md",
  "kernelspec": {
   "display_name": "Python",
   "language": "python3",
   "name": "python3"
  },
  "title": "References"
 },
 "nbformat": 4,
 "nbformat_minor": 5
}