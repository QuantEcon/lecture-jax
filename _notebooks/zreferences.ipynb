{
 "cells": [
  {
   "cell_type": "markdown",
   "id": "8795870c",
   "metadata": {},
   "source": [
    "\n",
    "<a id='references'></a>"
   ]
  },
  {
   "cell_type": "markdown",
   "id": "da39270c",
   "metadata": {},
   "source": [
    "# References"
   ]
  }
 ],
 "metadata": {
  "date": 1683521947.0401146,
  "filename": "zreferences.md",
  "kernelspec": {
   "display_name": "Python",
   "language": "python3",
   "name": "python3"
  },
  "title": "References"
 },
 "nbformat": 4,
 "nbformat_minor": 5
}