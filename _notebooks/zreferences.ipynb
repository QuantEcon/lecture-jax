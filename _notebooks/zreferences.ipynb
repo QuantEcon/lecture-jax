{
 "cells": [
  {
   "cell_type": "markdown",
   "id": "a1079bf3",
   "metadata": {},
   "source": [
    "\n",
    "<a id='references'></a>"
   ]
  },
  {
   "cell_type": "markdown",
   "id": "f5c4c56d",
   "metadata": {},
   "source": [
    "# References\n",
    "\n",
    "<a id='id255'></a>\n",
    "\\[Are08\\] Cristina Arellano. Default risk and income fluctuations in emerging economies. *The American Economic Review*, pages 690–712, 2008.\n",
    "\n",
    "<a id='id184'></a>\n",
    "\\[Luc78\\] Robert E Lucas, Jr. Asset prices in an exchange economy. *Econometrica: Journal of the Econometric Society*, 46(6):1429–1445, 1978."
   ]
  }
 ],
 "metadata": {
  "date": 1703121773.0110471,
  "filename": "zreferences.md",
  "kernelspec": {
   "display_name": "Python",
   "language": "python3",
   "name": "python3"
  },
  "title": "References"
 },
 "nbformat": 4,
 "nbformat_minor": 5
}