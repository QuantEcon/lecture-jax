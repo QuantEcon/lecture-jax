{
 "cells": [
  {
   "cell_type": "markdown",
   "id": "a9c02540",
   "metadata": {},
   "source": [
    "# Execution Statistics\n",
    "\n",
    "This table contains the latest execution statistics.\n",
    "\n",
    "[](https://python.quantecon.org/aiyagari_jax.html)[](https://python.quantecon.org/intro.html)[](https://python.quantecon.org/inventory_dynamics.html)[](https://python.quantecon.org/kesten_processes.html)[](https://python.quantecon.org/newtons_method.html)[](https://python.quantecon.org/opt_invest.html)[](https://python.quantecon.org/opt_savings.html)[](https://python.quantecon.org/short_path.html)[](https://python.quantecon.org/.html)[](https://python.quantecon.org/troubleshooting.html)[](https://python.quantecon.org/wealth_dynamics.html)[](https://python.quantecon.org/zreferences.html)|Document|Modified|Method|Run Time (s)|Status|\n",
    "|:------------------:|:------------------:|:------------------:|:------------------:|:------------------:|\n",
    "|aiyagari_jax|2023-05-08 04:11|cache|56.8|✅|\n",
    "|intro|2023-05-08 04:11|cache|1.38|✅|\n",
    "|inventory_dynamics|2023-05-08 04:17|cache|354.14|✅|\n",
    "|kesten_processes|2023-05-08 04:18|cache|23.03|✅|\n",
    "|newtons_method|2023-05-08 04:20|cache|164.08|✅|\n",
    "|opt_invest|2023-05-08 04:23|cache|182.09|✅|\n",
    "|opt_savings|2023-05-08 04:24|cache|52.59|✅|\n",
    "|short_path|2023-05-08 04:24|cache|7.91|✅|\n",
    "|status|2023-05-08 04:11|cache|1.38|✅|\n",
    "|troubleshooting|2023-05-08 04:11|cache|1.38|✅|\n",
    "|wealth_dynamics|2023-05-08 04:26|cache|87.05|✅|\n",
    "|zreferences|2023-05-08 04:11|cache|1.38|✅|\n",
    "\n",
    "<a id='status-machine-details'></a>\n",
    "These lectures are built on `linux` instances through `github actions`  and `amazon web services (aws)` to\n",
    "enable access to a `gpu`. These lectures are built on a [p3.2xlarge](https://aws.amazon.com/ec2/instance-types/p3/)\n",
    "that has access to `8 vcpu's`, a `V100 NVIDIA Tesla GPU`, and `61 Gb` of memory."
   ]
  }
 ],
 "metadata": {
  "date": 1683521018.717737,
  "filename": "status.md",
  "kernelspec": {
   "display_name": "Python",
   "language": "python3",
   "name": "python3"
  },
  "title": "Execution Statistics"
 },
 "nbformat": 4,
 "nbformat_minor": 5
}