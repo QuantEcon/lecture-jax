{
 "cells": [
  {
   "cell_type": "markdown",
   "id": "cc8719a5",
   "metadata": {},
   "source": [
    "# Execution Statistics\n",
    "\n",
    "This table contains the latest execution statistics.\n",
    "\n",
    "[](https://jax.quantecon.org/aiyagari_jax.html)[](https://jax.quantecon.org/arellano.html)[](https://jax.quantecon.org/cake_eating_numerical.html)[](https://jax.quantecon.org/hopenhayn.html)[](https://jax.quantecon.org/ifp_egm.html)[](https://jax.quantecon.org/intro.html)[](https://jax.quantecon.org/inventory_dynamics.html)[](https://jax.quantecon.org/inventory_ssd.html)[](https://jax.quantecon.org/jax_intro.html)[](https://jax.quantecon.org/job_search.html)[](https://jax.quantecon.org/kesten_processes.html)[](https://jax.quantecon.org/lucas_model.html)[](https://jax.quantecon.org/markov_asset.html)[](https://jax.quantecon.org/mle.html)[](https://jax.quantecon.org/newtons_method.html)[](https://jax.quantecon.org/opt_invest.html)[](https://jax.quantecon.org/opt_savings_1.html)[](https://jax.quantecon.org/opt_savings_2.html)[](https://jax.quantecon.org/overborrowing.html)[](https://jax.quantecon.org/short_path.html)[](https://jax.quantecon.org/.html)[](https://jax.quantecon.org/troubleshooting.html)[](https://jax.quantecon.org/wealth_dynamics.html)[](https://jax.quantecon.org/zreferences.html)|Document|Modified|Method|Run Time (s)|Status|\n",
    "|:------------------:|:------------------:|:------------------:|:------------------:|:------------------:|\n",
    "|aiyagari_jax|2024-05-07 06:54|cache|70.8|✅|\n",
    "|arellano|2024-05-07 06:55|cache|27.74|✅|\n",
    "|cake_eating_numerical|2024-05-07 06:55|cache|20.02|✅|\n",
    "|hopenhayn|2024-05-07 06:59|cache|229.09|✅|\n",
    "|ifp_egm|2024-05-07 07:02|cache|179.51|✅|\n",
    "|intro|2024-05-07 07:02|cache|0.96|✅|\n",
    "|inventory_dynamics|2024-05-07 07:03|cache|70.89|✅|\n",
    "|inventory_ssd|2024-05-07 07:28|cache|1499.51|✅|\n",
    "|jax_intro|2024-05-07 07:29|cache|25.94|✅|\n",
    "|job_search|2024-05-07 07:29|cache|12.91|✅|\n",
    "|kesten_processes|2024-05-07 07:29|cache|20.26|✅|\n",
    "|lucas_model|2024-05-07 07:30|cache|21.02|✅|\n",
    "|markov_asset|2024-05-07 07:30|cache|18.02|✅|\n",
    "|mle|2024-05-07 07:30|cache|14.42|✅|\n",
    "|newtons_method|2024-05-07 07:33|cache|159.38|✅|\n",
    "|opt_invest|2024-05-07 07:33|cache|18.23|✅|\n",
    "|opt_savings_1|2024-05-07 07:34|cache|34.87|✅|\n",
    "|opt_savings_2|2024-05-07 07:34|cache|17.81|✅|\n",
    "|overborrowing|2024-05-07 07:35|cache|40.13|✅|\n",
    "|short_path|2024-05-07 07:35|cache|6.53|✅|\n",
    "|status|2024-05-07 07:35|cache|3.92|✅|\n",
    "|troubleshooting|2024-05-07 07:02|cache|0.96|✅|\n",
    "|wealth_dynamics|2024-05-07 07:37|cache|106.71|✅|\n",
    "|zreferences|2024-05-07 07:02|cache|0.96|✅|\n",
    "\n",
    "<a id='status-machine-details'></a>\n",
    "These lectures are built on `linux` instances through `github actions`  and `amazon web services (aws)` to\n",
    "enable access to a `gpu`. These lectures are built on a [p3.2xlarge](https://aws.amazon.com/ec2/instance-types/p3/)\n",
    "that has access to `8 vcpu's`, a `V100 NVIDIA Tesla GPU`, and `61 Gb` of memory.\n",
    "\n",
    "You can check the backend used by JAX using:"
   ]
  },
  {
   "cell_type": "code",
   "execution_count": null,
   "id": "31dc9f95",
   "metadata": {
    "hide-output": false
   },
   "outputs": [],
   "source": [
    "import jax\n",
    "# Check if JAX is using GPU\n",
    "print(f\"JAX backend: {jax.devices()[0].platform}\")"
   ]
  },
  {
   "cell_type": "markdown",
   "id": "4358def4",
   "metadata": {},
   "source": [
    "and the hardware we are running on:"
   ]
  },
  {
   "cell_type": "code",
   "execution_count": null,
   "id": "67069fcd",
   "metadata": {
    "hide-output": false
   },
   "outputs": [],
   "source": [
    "!nvidia-smi"
   ]
  }
 ],
 "metadata": {
  "date": 1715241421.1415825,
  "filename": "status.md",
  "kernelspec": {
   "display_name": "Python",
   "language": "python3",
   "name": "python3"
  },
  "title": "Execution Statistics"
 },
 "nbformat": 4,
 "nbformat_minor": 5
}