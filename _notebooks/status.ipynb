{
 "cells": [
  {
   "cell_type": "markdown",
   "id": "290f01b1",
   "metadata": {},
   "source": [
    "# Execution Statistics\n",
    "\n",
    "This table contains the latest execution statistics.\n",
    "\n",
    "[](https://jax.quantecon.org/aiyagari_jax.html)[](https://jax.quantecon.org/arellano.html)[](https://jax.quantecon.org/cake_eating_numerical.html)[](https://jax.quantecon.org/ifp_egm.html)[](https://jax.quantecon.org/intro.html)[](https://jax.quantecon.org/inventory_dynamics.html)[](https://jax.quantecon.org/inventory_ssd.html)[](https://jax.quantecon.org/jax_intro.html)[](https://jax.quantecon.org/kesten_processes.html)[](https://jax.quantecon.org/markov_asset.html)[](https://jax.quantecon.org/mle.html)[](https://jax.quantecon.org/newtons_method.html)[](https://jax.quantecon.org/opt_invest.html)[](https://jax.quantecon.org/opt_savings_1.html)[](https://jax.quantecon.org/opt_savings_2.html)[](https://jax.quantecon.org/short_path.html)[](https://jax.quantecon.org/.html)[](https://jax.quantecon.org/troubleshooting.html)[](https://jax.quantecon.org/wealth_dynamics.html)[](https://jax.quantecon.org/zreferences.html)|Document|Modified|Method|Run Time (s)|Status|\n",
    "|:------------------:|:------------------:|:------------------:|:------------------:|:------------------:|\n",
    "|aiyagari_jax|2024-03-14 20:17|cache|70.18|✅|\n",
    "|arellano|2024-03-14 20:17|cache|27.81|✅|\n",
    "|cake_eating_numerical|2024-03-14 20:18|cache|20.02|✅|\n",
    "|ifp_egm|2024-03-14 20:21|cache|179.63|✅|\n",
    "|intro|2024-03-14 20:21|cache|0.99|✅|\n",
    "|inventory_dynamics|2024-03-14 20:22|cache|70.78|✅|\n",
    "|inventory_ssd|2024-03-14 20:47|cache|1487.13|✅|\n",
    "|jax_intro|2024-03-14 20:47|cache|25.92|✅|\n",
    "|kesten_processes|2024-03-14 20:48|cache|20.88|✅|\n",
    "|markov_asset|2024-03-14 20:48|cache|17.94|✅|\n",
    "|mle|2024-03-14 20:48|cache|14.56|✅|\n",
    "|newtons_method|2024-03-14 20:51|cache|161.07|✅|\n",
    "|opt_invest|2024-03-15 01:02|cache|26.12|✅|\n",
    "|opt_savings_1|2024-03-15 01:03|cache|34.97|✅|\n",
    "|opt_savings_2|2024-03-15 01:03|cache|18.02|✅|\n",
    "|short_path|2024-03-14 20:53|cache|6.57|✅|\n",
    "|status|2024-03-14 20:53|cache|3.8|✅|\n",
    "|troubleshooting|2024-03-14 20:21|cache|0.99|✅|\n",
    "|wealth_dynamics|2024-03-14 20:53|cache|24.51|✅|\n",
    "|zreferences|2024-03-14 20:21|cache|0.99|✅|\n",
    "\n",
    "<a id='status-machine-details'></a>\n",
    "These lectures are built on `linux` instances through `github actions`  and `amazon web services (aws)` to\n",
    "enable access to a `gpu`. These lectures are built on a [p3.2xlarge](https://aws.amazon.com/ec2/instance-types/p3/)\n",
    "that has access to `8 vcpu's`, a `V100 NVIDIA Tesla GPU`, and `61 Gb` of memory.\n",
    "\n",
    "You can check the backend used by JAX using:"
   ]
  },
  {
   "cell_type": "code",
   "execution_count": null,
   "id": "794005b4",
   "metadata": {
    "hide-output": false
   },
   "outputs": [],
   "source": [
    "import jax\n",
    "# Check if JAX is using GPU\n",
    "print(f\"JAX backend: {jax.devices()[0].platform}\")"
   ]
  },
  {
   "cell_type": "markdown",
   "id": "a24a6083",
   "metadata": {},
   "source": [
    "and the hardware we are running on:"
   ]
  },
  {
   "cell_type": "code",
   "execution_count": null,
   "id": "2e1049f8",
   "metadata": {
    "hide-output": false
   },
   "outputs": [],
   "source": [
    "!nvidia-smi"
   ]
  }
 ],
 "metadata": {
  "date": 1710464659.0313885,
  "filename": "status.md",
  "kernelspec": {
   "display_name": "Python",
   "language": "python3",
   "name": "python3"
  },
  "title": "Execution Statistics"
 },
 "nbformat": 4,
 "nbformat_minor": 5
}