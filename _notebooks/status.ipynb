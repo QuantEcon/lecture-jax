{
 "cells": [
  {
   "cell_type": "markdown",
   "id": "2e07f065",
   "metadata": {},
   "source": [
    "# Execution Statistics\n",
    "\n",
    "This table contains the latest execution statistics.\n",
    "\n",
    "[](https://jax.quantecon.org/aiyagari_jax.html)[](https://jax.quantecon.org/arellano.html)[](https://jax.quantecon.org/cake_eating_numerical.html)[](https://jax.quantecon.org/ifp_egm.html)[](https://jax.quantecon.org/intro.html)[](https://jax.quantecon.org/inventory_dynamics.html)[](https://jax.quantecon.org/jax_intro.html)[](https://jax.quantecon.org/kesten_processes.html)[](https://jax.quantecon.org/markov_asset.html)[](https://jax.quantecon.org/mle.html)[](https://jax.quantecon.org/newtons_method.html)[](https://jax.quantecon.org/opt_invest.html)[](https://jax.quantecon.org/opt_savings.html)[](https://jax.quantecon.org/short_path.html)[](https://jax.quantecon.org/.html)[](https://jax.quantecon.org/troubleshooting.html)[](https://jax.quantecon.org/wealth_dynamics.html)[](https://jax.quantecon.org/zreferences.html)|Document|Modified|Method|Run Time (s)|Status|\n",
    "|:------------------:|:------------------:|:------------------:|:------------------:|:------------------:|\n",
    "|aiyagari_jax|2024-03-05 09:21|cache|72.34|✅|\n",
    "|arellano|2024-03-05 09:21|cache|28.64|✅|\n",
    "|cake_eating_numerical|2024-03-05 09:21|cache|19.75|✅|\n",
    "|ifp_egm|2024-03-05 09:24|cache|183.07|✅|\n",
    "|intro|2024-03-05 09:24|cache|1.28|✅|\n",
    "|inventory_dynamics|2024-03-05 09:32|cache|436.07|✅|\n",
    "|jax_intro|2024-03-05 09:32|cache|26.69|✅|\n",
    "|kesten_processes|2024-03-05 09:33|cache|22.03|✅|\n",
    "|markov_asset|2024-03-05 09:33|cache|18.4|✅|\n",
    "|mle|2024-03-05 09:33|cache|15.64|✅|\n",
    "|newtons_method|2024-03-05 09:36|cache|163.45|✅|\n",
    "|opt_invest|2024-03-05 09:37|cache|45.04|✅|\n",
    "|opt_savings|2024-03-05 09:37|cache|22.03|✅|\n",
    "|short_path|2024-03-05 09:37|cache|6.84|✅|\n",
    "|status|2024-03-05 09:37|cache|3.84|✅|\n",
    "|troubleshooting|2024-03-05 09:24|cache|1.28|✅|\n",
    "|wealth_dynamics|2024-03-05 09:38|cache|25.46|✅|\n",
    "|zreferences|2024-03-05 09:24|cache|1.28|✅|\n",
    "\n",
    "<a id='status-machine-details'></a>\n",
    "These lectures are built on `linux` instances through `github actions`  and `amazon web services (aws)` to\n",
    "enable access to a `gpu`. These lectures are built on a [p3.2xlarge](https://aws.amazon.com/ec2/instance-types/p3/)\n",
    "that has access to `8 vcpu's`, a `V100 NVIDIA Tesla GPU`, and `61 Gb` of memory.\n",
    "\n",
    "You can check the backend used by JAX using:"
   ]
  },
  {
   "cell_type": "code",
   "execution_count": null,
   "id": "3d472d2a",
   "metadata": {
    "hide-output": false
   },
   "outputs": [],
   "source": [
    "import jax\n",
    "# Check if JAX is using GPU\n",
    "print(f\"JAX backend: {jax.devices()[0].platform}\")"
   ]
  },
  {
   "cell_type": "markdown",
   "id": "d95c1c1b",
   "metadata": {},
   "source": [
    "and the hardware we are running on:"
   ]
  },
  {
   "cell_type": "code",
   "execution_count": null,
   "id": "2d22c52e",
   "metadata": {
    "hide-output": false
   },
   "outputs": [],
   "source": [
    "!nvidia-smi"
   ]
  }
 ],
 "metadata": {
  "date": 1709695940.5662794,
  "filename": "status.md",
  "kernelspec": {
   "display_name": "Python",
   "language": "python3",
   "name": "python3"
  },
  "title": "Execution Statistics"
 },
 "nbformat": 4,
 "nbformat_minor": 5
}