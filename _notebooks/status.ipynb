{
 "cells": [
  {
   "cell_type": "markdown",
   "id": "61c5c0b8",
   "metadata": {},
   "source": [
    "# Execution Statistics\n",
    "\n",
    "This table contains the latest execution statistics.\n",
    "\n",
    "[](https://jax.quantecon.org/aiyagari_jax.html)[](https://jax.quantecon.org/arellano.html)[](https://jax.quantecon.org/autodiff.html)[](https://jax.quantecon.org/hopenhayn.html)[](https://jax.quantecon.org/ifp_egm.html)[](https://jax.quantecon.org/intro.html)[](https://jax.quantecon.org/inventory_dynamics.html)[](https://jax.quantecon.org/inventory_ssd.html)[](https://jax.quantecon.org/jax_intro.html)[](https://jax.quantecon.org/job_search.html)[](https://jax.quantecon.org/kesten_processes.html)[](https://jax.quantecon.org/lucas_model.html)[](https://jax.quantecon.org/markov_asset.html)[](https://jax.quantecon.org/mle.html)[](https://jax.quantecon.org/newtons_method.html)[](https://jax.quantecon.org/opt_invest.html)[](https://jax.quantecon.org/opt_savings_1.html)[](https://jax.quantecon.org/opt_savings_2.html)[](https://jax.quantecon.org/overborrowing.html)[](https://jax.quantecon.org/short_path.html)[](https://jax.quantecon.org/.html)[](https://jax.quantecon.org/troubleshooting.html)[](https://jax.quantecon.org/wealth_dynamics.html)[](https://jax.quantecon.org/zreferences.html)|Document|Modified|Method|Run Time (s)|Status|\n",
    "|:------------------:|:------------------:|:------------------:|:------------------:|:------------------:|\n",
    "|aiyagari_jax|2024-11-13 00:09|cache|65.13|✅|\n",
    "|arellano|2024-11-13 00:09|cache|19.58|✅|\n",
    "|autodiff|2024-11-13 00:09|cache|10.49|✅|\n",
    "|hopenhayn|2024-11-13 00:10|cache|21.24|✅|\n",
    "|ifp_egm|2024-11-13 00:12|cache|119.83|✅|\n",
    "|intro|2024-11-13 00:12|cache|1.08|✅|\n",
    "|inventory_dynamics|2024-11-13 00:12|cache|7.91|✅|\n",
    "|inventory_ssd|2024-11-13 00:44|cache|1921.4|✅|\n",
    "|jax_intro|2024-11-13 00:44|cache|31.43|✅|\n",
    "|job_search|2024-11-13 00:45|cache|8.2|✅|\n",
    "|kesten_processes|2024-11-13 00:45|cache|12.48|✅|\n",
    "|lucas_model|2024-11-13 00:45|cache|16.18|✅|\n",
    "|markov_asset|2024-11-13 00:45|cache|9.86|✅|\n",
    "|mle|2024-11-13 00:46|cache|14.93|✅|\n",
    "|newtons_method|2024-11-13 00:48|cache|131.25|✅|\n",
    "|opt_invest|2024-11-13 00:48|cache|21.96|✅|\n",
    "|opt_savings_1|2024-11-13 00:49|cache|31.51|✅|\n",
    "|opt_savings_2|2024-11-13 00:49|cache|19.89|✅|\n",
    "|overborrowing|2024-11-13 00:49|cache|24.11|✅|\n",
    "|short_path|2024-11-13 00:49|cache|3.28|✅|\n",
    "|status|2024-11-13 00:49|cache|2.15|✅|\n",
    "|troubleshooting|2024-11-13 00:12|cache|1.08|✅|\n",
    "|wealth_dynamics|2024-11-13 00:53|cache|222.32|✅|\n",
    "|zreferences|2024-11-13 00:12|cache|1.08|✅|\n",
    "\n",
    "<a id='status-machine-details'></a>\n",
    "These lectures are built on `linux` instances through `github actions` that has\n",
    "access to a `gpu`. These lectures make use of the nvidia `T4` card.\n",
    "\n",
    "You can check the backend used by JAX using:"
   ]
  },
  {
   "cell_type": "code",
   "execution_count": null,
   "id": "3bf1906a",
   "metadata": {
    "hide-output": false
   },
   "outputs": [],
   "source": [
    "import jax\n",
    "# Check if JAX is using GPU\n",
    "print(f\"JAX backend: {jax.devices()[0].platform}\")"
   ]
  },
  {
   "cell_type": "markdown",
   "id": "93036cb3",
   "metadata": {},
   "source": [
    "and the hardware we are running on:"
   ]
  },
  {
   "cell_type": "code",
   "execution_count": null,
   "id": "5cb69beb",
   "metadata": {
    "hide-output": false
   },
   "outputs": [],
   "source": [
    "!nvidia-smi"
   ]
  }
 ],
 "metadata": {
  "date": 1731467714.0088913,
  "filename": "status.md",
  "kernelspec": {
   "display_name": "Python",
   "language": "python3",
   "name": "python3"
  },
  "title": "Execution Statistics"
 },
 "nbformat": 4,
 "nbformat_minor": 5
}