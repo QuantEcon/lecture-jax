{
 "cells": [
  {
   "cell_type": "markdown",
   "id": "e9999b27",
   "metadata": {},
   "source": [
    "# Execution Statistics\n",
    "\n",
    "This table contains the latest execution statistics.\n",
    "\n",
    "[](https://jax.quantecon.org/aiyagari_jax.html)[](https://jax.quantecon.org/arellano.html)[](https://jax.quantecon.org/cake_eating_numerical.html)[](https://jax.quantecon.org/ifp_egm.html)[](https://jax.quantecon.org/intro.html)[](https://jax.quantecon.org/inventory_dynamics.html)[](https://jax.quantecon.org/jax_intro.html)[](https://jax.quantecon.org/kesten_processes.html)[](https://jax.quantecon.org/markov_asset.html)[](https://jax.quantecon.org/mle.html)[](https://jax.quantecon.org/newtons_method.html)[](https://jax.quantecon.org/opt_invest.html)[](https://jax.quantecon.org/opt_savings.html)[](https://jax.quantecon.org/short_path.html)[](https://jax.quantecon.org/.html)[](https://jax.quantecon.org/troubleshooting.html)[](https://jax.quantecon.org/wealth_dynamics.html)[](https://jax.quantecon.org/zreferences.html)|Document|Modified|Method|Run Time (s)|Status|\n",
    "|:------------------:|:------------------:|:------------------:|:------------------:|:------------------:|\n",
    "|aiyagari_jax|2023-09-11 00:15|cache|59.13|✅|\n",
    "|arellano|2023-09-11 00:15|cache|35.57|✅|\n",
    "|cake_eating_numerical|2023-09-11 00:16|cache|22.58|✅|\n",
    "|ifp_egm|2023-09-11 00:17|cache|72.04|✅|\n",
    "|intro|2023-09-11 00:17|cache|1.24|✅|\n",
    "|inventory_dynamics|2023-09-11 00:23|cache|359.72|✅|\n",
    "|jax_intro|2023-09-11 00:24|cache|39.44|✅|\n",
    "|kesten_processes|2023-09-11 00:24|cache|27.96|✅|\n",
    "|markov_asset|2023-09-11 00:24|cache|23.03|✅|\n",
    "|mle|2023-09-11 00:25|cache|20.02|✅|\n",
    "|newtons_method|2023-09-11 00:28|cache|168.08|✅|\n",
    "|opt_invest|2023-09-11 00:31|cache|178.74|✅|\n",
    "|opt_savings|2023-09-11 00:32|cache|56.04|✅|\n",
    "|short_path|2023-09-11 00:32|cache|9.76|✅|\n",
    "|status|2023-09-11 00:32|cache|3.63|✅|\n",
    "|troubleshooting|2023-09-11 00:17|cache|1.24|✅|\n",
    "|wealth_dynamics|2023-09-11 00:32|cache|34.03|✅|\n",
    "|zreferences|2023-09-11 00:17|cache|1.24|✅|\n",
    "\n",
    "<a id='status-machine-details'></a>\n",
    "These lectures are built on `linux` instances through `github actions`  and `amazon web services (aws)` to\n",
    "enable access to a `gpu`. These lectures are built on a [p3.2xlarge](https://aws.amazon.com/ec2/instance-types/p3/)\n",
    "that has access to `8 vcpu's`, a `V100 NVIDIA Tesla GPU`, and `61 Gb` of memory.\n",
    "\n",
    "You can check the backend used by JAX using:"
   ]
  },
  {
   "cell_type": "code",
   "execution_count": null,
   "id": "c0c97ade",
   "metadata": {
    "hide-output": false
   },
   "outputs": [],
   "source": [
    "import jax\n",
    "# Check if JAX is using GPU\n",
    "print(f\"JAX backend: {jax.devices()[0].platform}\")"
   ]
  },
  {
   "cell_type": "markdown",
   "id": "cc337927",
   "metadata": {},
   "source": [
    "and the hardware we are running on:"
   ]
  },
  {
   "cell_type": "code",
   "execution_count": null,
   "id": "b5c546f0",
   "metadata": {
    "hide-output": false
   },
   "outputs": [],
   "source": [
    "!nvidia-smi"
   ]
  }
 ],
 "metadata": {
  "date": 1694393438.8512635,
  "filename": "status.md",
  "kernelspec": {
   "display_name": "Python",
   "language": "python3",
   "name": "python3"
  },
  "title": "Execution Statistics"
 },
 "nbformat": 4,
 "nbformat_minor": 5
}