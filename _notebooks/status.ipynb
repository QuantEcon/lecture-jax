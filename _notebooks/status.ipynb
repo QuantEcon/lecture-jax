{
 "cells": [
  {
   "cell_type": "markdown",
   "id": "78aa12f2",
   "metadata": {},
   "source": [
    "# Execution Statistics\n",
    "\n",
    "This table contains the latest execution statistics.\n",
    "\n",
    "[](https://jax.quantecon.org/aiyagari_jax.html)[](https://jax.quantecon.org/arellano.html)[](https://jax.quantecon.org/autodiff.html)[](https://jax.quantecon.org/hopenhayn.html)[](https://jax.quantecon.org/ifp_egm.html)[](https://jax.quantecon.org/intro.html)[](https://jax.quantecon.org/inventory_dynamics.html)[](https://jax.quantecon.org/inventory_ssd.html)[](https://jax.quantecon.org/jax_intro.html)[](https://jax.quantecon.org/job_search.html)[](https://jax.quantecon.org/keras.html)[](https://jax.quantecon.org/kesten_processes.html)[](https://jax.quantecon.org/lucas_model.html)[](https://jax.quantecon.org/markov_asset.html)[](https://jax.quantecon.org/mle.html)[](https://jax.quantecon.org/newtons_method.html)[](https://jax.quantecon.org/opt_invest.html)[](https://jax.quantecon.org/opt_savings_1.html)[](https://jax.quantecon.org/opt_savings_2.html)[](https://jax.quantecon.org/overborrowing.html)[](https://jax.quantecon.org/short_path.html)[](https://jax.quantecon.org/.html)[](https://jax.quantecon.org/troubleshooting.html)[](https://jax.quantecon.org/wealth_dynamics.html)[](https://jax.quantecon.org/zreferences.html)|Document|Modified|Method|Run Time (s)|Status|\n",
    "|:------------------:|:------------------:|:------------------:|:------------------:|:------------------:|\n",
    "|aiyagari_jax|2025-02-10 03:12|cache|66.47|✅|\n",
    "|arellano|2025-02-10 03:13|cache|20.08|✅|\n",
    "|autodiff|2025-02-10 03:13|cache|10.88|✅|\n",
    "|hopenhayn|2025-02-10 03:13|cache|21.22|✅|\n",
    "|ifp_egm|2025-02-10 03:15|cache|118.24|✅|\n",
    "|intro|2025-02-10 03:15|cache|1.04|✅|\n",
    "|inventory_dynamics|2025-02-10 03:15|cache|8.19|✅|\n",
    "|inventory_ssd|2025-02-10 03:48|cache|1933.22|✅|\n",
    "|jax_intro|2025-02-10 03:48|cache|31.26|✅|\n",
    "|job_search|2025-02-10 03:48|cache|8.45|✅|\n",
    "|keras|2025-02-10 03:49|cache|37.87|✅|\n",
    "|kesten_processes|2025-02-10 03:49|cache|13.47|✅|\n",
    "|lucas_model|2025-02-10 03:50|cache|15.8|✅|\n",
    "|markov_asset|2025-02-10 03:50|cache|10.33|✅|\n",
    "|mle|2025-02-10 03:50|cache|15.37|✅|\n",
    "|newtons_method|2025-02-10 03:52|cache|131.75|✅|\n",
    "|opt_invest|2025-02-10 03:53|cache|22.11|✅|\n",
    "|opt_savings_1|2025-02-10 03:53|cache|34.3|✅|\n",
    "|opt_savings_2|2025-02-10 03:53|cache|19.95|✅|\n",
    "|overborrowing|2025-02-10 03:54|cache|24.29|✅|\n",
    "|short_path|2025-02-10 03:54|cache|3.59|✅|\n",
    "|status|2025-02-10 03:54|cache|2.44|✅|\n",
    "|troubleshooting|2025-02-10 03:15|cache|1.04|✅|\n",
    "|wealth_dynamics|2025-02-10 03:58|cache|220.1|✅|\n",
    "|zreferences|2025-02-10 03:15|cache|1.04|✅|\n",
    "\n",
    "<a id='status-machine-details'></a>\n",
    "These lectures are built on `linux` instances through `github actions` that has\n",
    "access to a `gpu`. These lectures make use of the nvidia `T4` card.\n",
    "\n",
    "You can check the backend used by JAX using:"
   ]
  },
  {
   "cell_type": "code",
   "execution_count": null,
   "id": "c8acbf8c",
   "metadata": {
    "hide-output": false
   },
   "outputs": [],
   "source": [
    "import jax\n",
    "# Check if JAX is using GPU\n",
    "print(f\"JAX backend: {jax.devices()[0].platform}\")"
   ]
  },
  {
   "cell_type": "markdown",
   "id": "a531bc00",
   "metadata": {},
   "source": [
    "and the hardware we are running on:"
   ]
  },
  {
   "cell_type": "code",
   "execution_count": null,
   "id": "8cfaabda",
   "metadata": {
    "hide-output": false
   },
   "outputs": [],
   "source": [
    "!nvidia-smi"
   ]
  }
 ],
 "metadata": {
  "date": 1741661035.201505,
  "filename": "status.md",
  "kernelspec": {
   "display_name": "Python",
   "language": "python3",
   "name": "python3"
  },
  "title": "Execution Statistics"
 },
 "nbformat": 4,
 "nbformat_minor": 5
}