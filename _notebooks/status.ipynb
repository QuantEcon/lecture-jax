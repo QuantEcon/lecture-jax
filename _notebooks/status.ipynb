{
 "cells": [
  {
   "cell_type": "markdown",
   "id": "c1c895e6",
   "metadata": {},
   "source": [
    "# Execution Statistics\n",
    "\n",
    "This table contains the latest execution statistics.\n",
    "\n",
    "[](https://jax.quantecon.org/aiyagari_jax.html)[](https://jax.quantecon.org/arellano.html)[](https://jax.quantecon.org/autodiff.html)[](https://jax.quantecon.org/hopenhayn.html)[](https://jax.quantecon.org/ifp_egm.html)[](https://jax.quantecon.org/intro.html)[](https://jax.quantecon.org/inventory_dynamics.html)[](https://jax.quantecon.org/inventory_ssd.html)[](https://jax.quantecon.org/jax_intro.html)[](https://jax.quantecon.org/job_search.html)[](https://jax.quantecon.org/kesten_processes.html)[](https://jax.quantecon.org/lucas_model.html)[](https://jax.quantecon.org/markov_asset.html)[](https://jax.quantecon.org/mle.html)[](https://jax.quantecon.org/newtons_method.html)[](https://jax.quantecon.org/opt_invest.html)[](https://jax.quantecon.org/opt_savings_1.html)[](https://jax.quantecon.org/opt_savings_2.html)[](https://jax.quantecon.org/overborrowing.html)[](https://jax.quantecon.org/short_path.html)[](https://jax.quantecon.org/.html)[](https://jax.quantecon.org/troubleshooting.html)[](https://jax.quantecon.org/wealth_dynamics.html)[](https://jax.quantecon.org/zreferences.html)|Document|Modified|Method|Run Time (s)|Status|\n",
    "|:------------------:|:------------------:|:------------------:|:------------------:|:------------------:|\n",
    "|aiyagari_jax|2024-10-21 10:29|cache|67.0|✅|\n",
    "|arellano|2024-10-21 10:29|cache|20.47|✅|\n",
    "|autodiff|2024-10-21 10:29|cache|9.86|✅|\n",
    "|hopenhayn|2024-10-21 10:31|cache|133.01|✅|\n",
    "|ifp_egm|2024-10-21 10:33|cache|119.34|✅|\n",
    "|intro|2024-10-21 10:33|cache|0.96|✅|\n",
    "|inventory_dynamics|2024-10-21 10:34|cache|40.37|✅|\n",
    "|inventory_ssd|2024-10-21 11:06|cache|1892.2|✅|\n",
    "|jax_intro|2024-10-21 11:06|cache|27.54|✅|\n",
    "|job_search|2024-10-21 11:06|cache|9.66|✅|\n",
    "|kesten_processes|2024-10-21 11:06|cache|14.36|✅|\n",
    "|lucas_model|2024-10-21 11:07|cache|15.27|✅|\n",
    "|markov_asset|2024-10-21 11:07|cache|11.43|✅|\n",
    "|mle|2024-10-21 11:07|cache|14.12|✅|\n",
    "|newtons_method|2024-10-21 11:09|cache|128.91|✅|\n",
    "|opt_invest|2024-10-21 11:10|cache|23.55|✅|\n",
    "|opt_savings_1|2024-10-21 11:10|cache|31.16|✅|\n",
    "|opt_savings_2|2024-10-21 11:11|cache|21.33|✅|\n",
    "|overborrowing|2024-10-21 11:11|cache|25.83|✅|\n",
    "|short_path|2024-10-21 11:11|cache|3.0|✅|\n",
    "|status|2024-10-21 11:11|cache|2.03|✅|\n",
    "|troubleshooting|2024-10-21 10:33|cache|0.96|✅|\n",
    "|wealth_dynamics|2024-10-21 11:15|cache|223.42|✅|\n",
    "|zreferences|2024-10-21 10:33|cache|0.96|✅|\n",
    "\n",
    "<a id='status-machine-details'></a>\n",
    "These lectures are built on `linux` instances through `github actions` that has\n",
    "access to a `gpu`. These lectures make use of the nvidia `T4` card.\n",
    "\n",
    "You can check the backend used by JAX using:"
   ]
  },
  {
   "cell_type": "code",
   "execution_count": null,
   "id": "0a678de1",
   "metadata": {
    "hide-output": false
   },
   "outputs": [],
   "source": [
    "import jax\n",
    "# Check if JAX is using GPU\n",
    "print(f\"JAX backend: {jax.devices()[0].platform}\")"
   ]
  },
  {
   "cell_type": "markdown",
   "id": "268f6e09",
   "metadata": {},
   "source": [
    "and the hardware we are running on:"
   ]
  },
  {
   "cell_type": "code",
   "execution_count": null,
   "id": "96a618fc",
   "metadata": {
    "hide-output": false
   },
   "outputs": [],
   "source": [
    "!nvidia-smi"
   ]
  }
 ],
 "metadata": {
  "date": 1729509369.3818448,
  "filename": "status.md",
  "kernelspec": {
   "display_name": "Python",
   "language": "python3",
   "name": "python3"
  },
  "title": "Execution Statistics"
 },
 "nbformat": 4,
 "nbformat_minor": 5
}