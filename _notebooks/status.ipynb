{
 "cells": [
  {
   "cell_type": "markdown",
   "id": "50ee2e73",
   "metadata": {},
   "source": [
    "# Execution Statistics\n",
    "\n",
    "This table contains the latest execution statistics.\n",
    "\n",
    "[](https://jax.quantecon.org/aiyagari_jax.html)[](https://jax.quantecon.org/arellano.html)[](https://jax.quantecon.org/cake_eating_numerical.html)[](https://jax.quantecon.org/hopenhayn.html)[](https://jax.quantecon.org/ifp_egm.html)[](https://jax.quantecon.org/intro.html)[](https://jax.quantecon.org/inventory_dynamics.html)[](https://jax.quantecon.org/inventory_ssd.html)[](https://jax.quantecon.org/jax_intro.html)[](https://jax.quantecon.org/job_search.html)[](https://jax.quantecon.org/kesten_processes.html)[](https://jax.quantecon.org/lucas_model.html)[](https://jax.quantecon.org/markov_asset.html)[](https://jax.quantecon.org/mle.html)[](https://jax.quantecon.org/newtons_method.html)[](https://jax.quantecon.org/opt_invest.html)[](https://jax.quantecon.org/opt_savings_1.html)[](https://jax.quantecon.org/opt_savings_2.html)[](https://jax.quantecon.org/short_path.html)[](https://jax.quantecon.org/.html)[](https://jax.quantecon.org/troubleshooting.html)[](https://jax.quantecon.org/wealth_dynamics.html)[](https://jax.quantecon.org/zreferences.html)|Document|Modified|Method|Run Time (s)|Status|\n",
    "|:------------------:|:------------------:|:------------------:|:------------------:|:------------------:|\n",
    "|aiyagari_jax|2024-04-03 02:38|cache|69.45|✅|\n",
    "|arellano|2024-04-03 02:38|cache|28.73|✅|\n",
    "|cake_eating_numerical|2024-04-03 02:39|cache|19.59|✅|\n",
    "|hopenhayn|2024-04-04 18:29|cache|238.01|✅|\n",
    "|ifp_egm|2024-04-03 02:42|cache|179.58|✅|\n",
    "|intro|2024-04-03 02:42|cache|1.2|✅|\n",
    "|inventory_dynamics|2024-04-03 02:43|cache|71.38|✅|\n",
    "|inventory_ssd|2024-04-03 03:08|cache|1509.59|✅|\n",
    "|jax_intro|2024-04-03 03:09|cache|26.77|✅|\n",
    "|job_search|2024-04-03 03:09|cache|13.43|✅|\n",
    "|kesten_processes|2024-04-03 03:09|cache|20.97|✅|\n",
    "|lucas_model|2024-04-03 03:09|cache|20.32|✅|\n",
    "|markov_asset|2024-04-03 03:10|cache|18.25|✅|\n",
    "|mle|2024-04-03 03:10|cache|14.64|✅|\n",
    "|newtons_method|2024-04-03 03:13|cache|158.43|✅|\n",
    "|opt_invest|2024-04-03 03:13|cache|18.38|✅|\n",
    "|opt_savings_1|2024-04-03 03:14|cache|35.49|✅|\n",
    "|opt_savings_2|2024-04-03 03:14|cache|19.02|✅|\n",
    "|short_path|2024-04-03 03:14|cache|6.65|✅|\n",
    "|status|2024-04-03 03:14|cache|4.0|✅|\n",
    "|troubleshooting|2024-04-03 02:42|cache|1.2|✅|\n",
    "|wealth_dynamics|2024-04-03 03:14|cache|24.93|✅|\n",
    "|zreferences|2024-04-03 02:42|cache|1.2|✅|\n",
    "\n",
    "<a id='status-machine-details'></a>\n",
    "These lectures are built on `linux` instances through `github actions`  and `amazon web services (aws)` to\n",
    "enable access to a `gpu`. These lectures are built on a [p3.2xlarge](https://aws.amazon.com/ec2/instance-types/p3/)\n",
    "that has access to `8 vcpu's`, a `V100 NVIDIA Tesla GPU`, and `61 Gb` of memory.\n",
    "\n",
    "You can check the backend used by JAX using:"
   ]
  },
  {
   "cell_type": "code",
   "execution_count": null,
   "id": "8f27fa3c",
   "metadata": {
    "hide-output": false
   },
   "outputs": [],
   "source": [
    "import jax\n",
    "# Check if JAX is using GPU\n",
    "print(f\"JAX backend: {jax.devices()[0].platform}\")"
   ]
  },
  {
   "cell_type": "markdown",
   "id": "4dff7d0e",
   "metadata": {},
   "source": [
    "and the hardware we are running on:"
   ]
  },
  {
   "cell_type": "code",
   "execution_count": null,
   "id": "ae097e76",
   "metadata": {
    "hide-output": false
   },
   "outputs": [],
   "source": [
    "!nvidia-smi"
   ]
  }
 ],
 "metadata": {
  "date": 1712255421.4673617,
  "filename": "status.md",
  "kernelspec": {
   "display_name": "Python",
   "language": "python3",
   "name": "python3"
  },
  "title": "Execution Statistics"
 },
 "nbformat": 4,
 "nbformat_minor": 5
}