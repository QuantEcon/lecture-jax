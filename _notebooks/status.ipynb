{
 "cells": [
  {
   "cell_type": "markdown",
   "id": "4e4410c1",
   "metadata": {},
   "source": [
    "# Execution Statistics\n",
    "\n",
    "This table contains the latest execution statistics.\n",
    "\n",
    "[](https://python.quantecon.org/aiyagari_jax.html)[](https://python.quantecon.org/intro.html)[](https://python.quantecon.org/inventory_dynamics.html)[](https://python.quantecon.org/kesten_processes.html)[](https://python.quantecon.org/newtons_method.html)[](https://python.quantecon.org/opt_invest.html)[](https://python.quantecon.org/opt_savings.html)[](https://python.quantecon.org/short_path.html)[](https://python.quantecon.org/.html)[](https://python.quantecon.org/troubleshooting.html)[](https://python.quantecon.org/wealth_dynamics.html)[](https://python.quantecon.org/zreferences.html)|Document|Modified|Method|Run Time (s)|Status|\n",
    "|:------------------:|:------------------:|:------------------:|:------------------:|:------------------:|\n",
    "|aiyagari_jax|2023-05-08 03:42|cache|56.72|✅|\n",
    "|intro|2023-05-08 03:42|cache|1.38|✅|\n",
    "|inventory_dynamics|2023-05-08 03:48|cache|354.08|✅|\n",
    "|kesten_processes|2023-05-08 03:49|cache|23.03|✅|\n",
    "|newtons_method|2023-05-08 03:51|cache|161.91|✅|\n",
    "|opt_invest|2023-05-08 03:54|cache|175.75|✅|\n",
    "|opt_savings|2023-05-08 03:55|cache|58.04|✅|\n",
    "|short_path|2023-05-08 03:55|cache|7.91|✅|\n",
    "|status|2023-05-08 03:42|cache|1.38|✅|\n",
    "|troubleshooting|2023-05-08 03:42|cache|1.38|✅|\n",
    "|wealth_dynamics|2023-05-08 03:57|cache|84.72|✅|\n",
    "|zreferences|2023-05-08 03:42|cache|1.38|✅|\n",
    "\n",
    "<a id='status-machine-details'></a>\n",
    "These lectures are built on `linux` instances through `github actions`  and `amazon web services (aws)` to\n",
    "enable access to a `gpu`. These lectures are built on a [p3.2xlarge](https://aws.amazon.com/ec2/instance-types/p3/)\n",
    "that has access to `8 vcpu's`, a `V100 NVIDIA Tesla GPU`, and `61 Gb` of memory."
   ]
  }
 ],
 "metadata": {
  "date": 1683519100.719432,
  "filename": "status.md",
  "kernelspec": {
   "display_name": "Python",
   "language": "python3",
   "name": "python3"
  },
  "title": "Execution Statistics"
 },
 "nbformat": 4,
 "nbformat_minor": 5
}