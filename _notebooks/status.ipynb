{
 "cells": [
  {
   "cell_type": "markdown",
   "id": "5e1688c1",
   "metadata": {},
   "source": [
    "# Execution Statistics\n",
    "\n",
    "This table contains the latest execution statistics.\n",
    "\n",
    "[](https://jax.quantecon.org/aiyagari_jax.html)[](https://jax.quantecon.org/arellano.html)[](https://jax.quantecon.org/cake_eating_numerical.html)[](https://jax.quantecon.org/ifp_egm.html)[](https://jax.quantecon.org/intro.html)[](https://jax.quantecon.org/inventory_dynamics.html)[](https://jax.quantecon.org/jax_intro.html)[](https://jax.quantecon.org/kesten_processes.html)[](https://jax.quantecon.org/markov_asset.html)[](https://jax.quantecon.org/mle.html)[](https://jax.quantecon.org/newtons_method.html)[](https://jax.quantecon.org/opt_invest.html)[](https://jax.quantecon.org/opt_savings.html)[](https://jax.quantecon.org/short_path.html)[](https://jax.quantecon.org/.html)[](https://jax.quantecon.org/troubleshooting.html)[](https://jax.quantecon.org/wealth_dynamics.html)[](https://jax.quantecon.org/zreferences.html)|Document|Modified|Method|Run Time (s)|Status|\n",
    "|:------------------:|:------------------:|:------------------:|:------------------:|:------------------:|\n",
    "|aiyagari_jax|2023-09-08 06:00|cache|58.59|✅|\n",
    "|arellano|2023-09-08 06:01|cache|35.0|✅|\n",
    "|cake_eating_numerical|2023-09-08 06:01|cache|22.74|✅|\n",
    "|ifp_egm|2023-09-08 06:03|cache|71.76|✅|\n",
    "|intro|2023-09-08 06:03|cache|1.09|✅|\n",
    "|inventory_dynamics|2023-09-08 06:09|cache|360.14|✅|\n",
    "|jax_intro|2023-09-08 06:09|cache|46.6|✅|\n",
    "|kesten_processes|2023-09-08 06:10|cache|28.65|✅|\n",
    "|markov_asset|2023-09-08 06:10|cache|23.58|✅|\n",
    "|mle|2023-09-08 06:11|cache|20.02|✅|\n",
    "|newtons_method|2023-09-08 06:13|cache|168.06|✅|\n",
    "|opt_invest|2023-09-08 06:16|cache|175.04|✅|\n",
    "|opt_savings|2023-09-08 06:17|cache|58.65|✅|\n",
    "|short_path|2023-09-08 06:18|cache|9.78|✅|\n",
    "|status|2023-09-08 06:18|cache|3.96|✅|\n",
    "|troubleshooting|2023-09-08 06:03|cache|1.09|✅|\n",
    "|wealth_dynamics|2023-09-08 06:18|cache|33.69|✅|\n",
    "|zreferences|2023-09-08 06:03|cache|1.09|✅|\n",
    "\n",
    "<a id='status-machine-details'></a>\n",
    "These lectures are built on `linux` instances through `github actions`  and `amazon web services (aws)` to\n",
    "enable access to a `gpu`. These lectures are built on a [p3.2xlarge](https://aws.amazon.com/ec2/instance-types/p3/)\n",
    "that has access to `8 vcpu's`, a `V100 NVIDIA Tesla GPU`, and `61 Gb` of memory.\n",
    "\n",
    "You can check the backend used by JAX using:"
   ]
  },
  {
   "cell_type": "code",
   "execution_count": null,
   "id": "883d0fe2",
   "metadata": {
    "hide-output": false
   },
   "outputs": [],
   "source": [
    "import jax\n",
    "# Check if JAX is using GPU\n",
    "print(f\"JAX backend: {jax.devices()[0].platform}\")"
   ]
  },
  {
   "cell_type": "markdown",
   "id": "cb091aa4",
   "metadata": {},
   "source": [
    "and the hardware we are running on:"
   ]
  },
  {
   "cell_type": "code",
   "execution_count": null,
   "id": "fd2e389a",
   "metadata": {
    "hide-output": false
   },
   "outputs": [],
   "source": [
    "!nvidia-smi"
   ]
  }
 ],
 "metadata": {
  "date": 1694155319.8134658,
  "filename": "status.md",
  "kernelspec": {
   "display_name": "Python",
   "language": "python3",
   "name": "python3"
  },
  "title": "Execution Statistics"
 },
 "nbformat": 4,
 "nbformat_minor": 5
}