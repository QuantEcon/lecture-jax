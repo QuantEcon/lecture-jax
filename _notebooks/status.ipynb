{
 "cells": [
  {
   "cell_type": "markdown",
   "id": "87f7e111",
   "metadata": {},
   "source": [
    "# Execution Statistics\n",
    "\n",
    "This table contains the latest execution statistics.\n",
    "\n",
    "[](https://jax.quantecon.org/aiyagari_jax.html)[](https://jax.quantecon.org/arellano.html)[](https://jax.quantecon.org/autodiff.html)[](https://jax.quantecon.org/hopenhayn.html)[](https://jax.quantecon.org/ifp_egm.html)[](https://jax.quantecon.org/intro.html)[](https://jax.quantecon.org/inventory_dynamics.html)[](https://jax.quantecon.org/inventory_ssd.html)[](https://jax.quantecon.org/jax_intro.html)[](https://jax.quantecon.org/job_search.html)[](https://jax.quantecon.org/keras.html)[](https://jax.quantecon.org/kesten_processes.html)[](https://jax.quantecon.org/lucas_model.html)[](https://jax.quantecon.org/markov_asset.html)[](https://jax.quantecon.org/mle.html)[](https://jax.quantecon.org/newtons_method.html)[](https://jax.quantecon.org/opt_invest.html)[](https://jax.quantecon.org/opt_savings_1.html)[](https://jax.quantecon.org/opt_savings_2.html)[](https://jax.quantecon.org/overborrowing.html)[](https://jax.quantecon.org/short_path.html)[](https://jax.quantecon.org/.html)[](https://jax.quantecon.org/troubleshooting.html)[](https://jax.quantecon.org/wealth_dynamics.html)[](https://jax.quantecon.org/zreferences.html)|Document|Modified|Method|Run Time (s)|Status|\n",
    "|:------------------:|:------------------:|:------------------:|:------------------:|:------------------:|\n",
    "|aiyagari_jax|2024-11-19 07:04|cache|64.73|✅|\n",
    "|arellano|2024-11-19 07:04|cache|18.6|✅|\n",
    "|autodiff|2024-11-19 07:04|cache|9.77|✅|\n",
    "|hopenhayn|2024-11-19 07:05|cache|20.29|✅|\n",
    "|ifp_egm|2024-11-19 07:07|cache|118.85|✅|\n",
    "|intro|2024-11-19 07:07|cache|1.09|✅|\n",
    "|inventory_dynamics|2024-11-19 07:07|cache|7.03|✅|\n",
    "|inventory_ssd|2024-11-19 07:39|cache|1940.22|✅|\n",
    "|jax_intro|2024-11-19 07:40|cache|29.76|✅|\n",
    "|job_search|2024-11-19 07:40|cache|7.48|✅|\n",
    "|keras|2024-11-19 10:18|cache|36.29|✅|\n",
    "|kesten_processes|2024-11-19 07:41|cache|12.14|✅|\n",
    "|lucas_model|2024-11-19 07:41|cache|15.49|✅|\n",
    "|markov_asset|2024-11-19 07:41|cache|9.26|✅|\n",
    "|mle|2024-11-19 07:41|cache|14.28|✅|\n",
    "|newtons_method|2024-11-19 07:43|cache|130.24|✅|\n",
    "|opt_invest|2024-11-19 07:44|cache|21.35|✅|\n",
    "|opt_savings_1|2024-11-19 07:44|cache|30.78|✅|\n",
    "|opt_savings_2|2024-11-19 07:45|cache|19.29|✅|\n",
    "|overborrowing|2024-11-19 07:45|cache|24.56|✅|\n",
    "|short_path|2024-11-19 07:45|cache|3.16|✅|\n",
    "|status|2024-11-19 07:45|cache|2.05|✅|\n",
    "|troubleshooting|2024-11-19 07:07|cache|1.09|✅|\n",
    "|wealth_dynamics|2024-11-19 07:49|cache|222.38|✅|\n",
    "|zreferences|2024-11-19 07:07|cache|1.09|✅|\n",
    "\n",
    "<a id='status-machine-details'></a>\n",
    "These lectures are built on `linux` instances through `github actions` that has\n",
    "access to a `gpu`. These lectures make use of the nvidia `T4` card.\n",
    "\n",
    "You can check the backend used by JAX using:"
   ]
  },
  {
   "cell_type": "code",
   "execution_count": null,
   "id": "1e84747a",
   "metadata": {
    "hide-output": false
   },
   "outputs": [],
   "source": [
    "import jax\n",
    "# Check if JAX is using GPU\n",
    "print(f\"JAX backend: {jax.devices()[0].platform}\")"
   ]
  },
  {
   "cell_type": "markdown",
   "id": "dcb34db0",
   "metadata": {},
   "source": [
    "and the hardware we are running on:"
   ]
  },
  {
   "cell_type": "code",
   "execution_count": null,
   "id": "40d38d7b",
   "metadata": {
    "hide-output": false
   },
   "outputs": [],
   "source": [
    "!nvidia-smi"
   ]
  }
 ],
 "metadata": {
  "date": 1732011573.7601893,
  "filename": "status.md",
  "kernelspec": {
   "display_name": "Python",
   "language": "python3",
   "name": "python3"
  },
  "title": "Execution Statistics"
 },
 "nbformat": 4,
 "nbformat_minor": 5
}