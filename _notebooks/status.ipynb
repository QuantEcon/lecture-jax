{
 "cells": [
  {
   "cell_type": "markdown",
   "id": "b517fca7",
   "metadata": {},
   "source": [
    "# Execution Statistics\n",
    "\n",
    "This table contains the latest execution statistics.\n",
    "\n",
    "[](https://jax.quantecon.org/aiyagari_jax.html)[](https://jax.quantecon.org/arellano.html)[](https://jax.quantecon.org/intro.html)[](https://jax.quantecon.org/inventory_dynamics.html)[](https://jax.quantecon.org/jax_intro.html)[](https://jax.quantecon.org/kesten_processes.html)[](https://jax.quantecon.org/newtons_method.html)[](https://jax.quantecon.org/opt_invest.html)[](https://jax.quantecon.org/opt_savings.html)[](https://jax.quantecon.org/short_path.html)[](https://jax.quantecon.org/.html)[](https://jax.quantecon.org/troubleshooting.html)[](https://jax.quantecon.org/wealth_dynamics.html)[](https://jax.quantecon.org/zreferences.html)|Document|Modified|Method|Run Time (s)|Status|\n",
    "|:------------------:|:------------------:|:------------------:|:------------------:|:------------------:|\n",
    "|aiyagari_jax|2023-05-09 03:24|cache|54.42|✅|\n",
    "|arellano|2023-05-09 03:24|cache|32.92|✅|\n",
    "|intro|2023-05-09 03:24|cache|1.4|✅|\n",
    "|inventory_dynamics|2023-05-09 03:30|cache|322.62|✅|\n",
    "|jax_intro|2023-05-09 03:30|cache|36.53|✅|\n",
    "|kesten_processes|2023-05-09 03:31|cache|22.6|✅|\n",
    "|newtons_method|2023-05-09 03:33|cache|159.64|✅|\n",
    "|opt_invest|2023-05-09 03:36|cache|170.57|✅|\n",
    "|opt_savings|2023-05-09 03:37|cache|54.6|✅|\n",
    "|short_path|2023-05-09 03:37|cache|7.92|✅|\n",
    "|status|2023-05-09 03:37|cache|2.92|✅|\n",
    "|troubleshooting|2023-05-09 03:24|cache|1.4|✅|\n",
    "|wealth_dynamics|2023-05-09 03:39|cache|83.85|✅|\n",
    "|zreferences|2023-05-09 03:24|cache|1.4|✅|\n",
    "\n",
    "<a id='status-machine-details'></a>\n",
    "These lectures are built on `linux` instances through `github actions`  and `amazon web services (aws)` to\n",
    "enable access to a `gpu`. These lectures are built on a [p3.2xlarge](https://aws.amazon.com/ec2/instance-types/p3/)\n",
    "that has access to `8 vcpu's`, a `V100 NVIDIA Tesla GPU`, and `61 Gb` of memory.\n",
    "\n",
    "You can check the backend used by JAX using:"
   ]
  },
  {
   "cell_type": "code",
   "execution_count": null,
   "id": "eb1d2a50",
   "metadata": {
    "hide-output": false
   },
   "outputs": [],
   "source": [
    "import jax\n",
    "# Check if JAX is using GPU\n",
    "print(f\"JAX backend: {jax.devices()[0].platform}\")"
   ]
  }
 ],
 "metadata": {
  "date": 1683608798.662311,
  "filename": "status.md",
  "kernelspec": {
   "display_name": "Python",
   "language": "python3",
   "name": "python3"
  },
  "title": "Execution Statistics"
 },
 "nbformat": 4,
 "nbformat_minor": 5
}