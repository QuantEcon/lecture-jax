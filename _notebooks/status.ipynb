{
 "cells": [
  {
   "cell_type": "markdown",
   "id": "129ff573",
   "metadata": {},
   "source": [
    "# Execution Statistics\n",
    "\n",
    "This table contains the latest execution statistics.\n",
    "\n",
    "[](https://jax.quantecon.org/aiyagari_jax.html)[](https://jax.quantecon.org/arellano.html)[](https://jax.quantecon.org/cake_eating_numerical.html)[](https://jax.quantecon.org/ifp_egm.html)[](https://jax.quantecon.org/intro.html)[](https://jax.quantecon.org/inventory_dynamics.html)[](https://jax.quantecon.org/jax_intro.html)[](https://jax.quantecon.org/kesten_processes.html)[](https://jax.quantecon.org/markov_asset.html)[](https://jax.quantecon.org/mle.html)[](https://jax.quantecon.org/newtons_method.html)[](https://jax.quantecon.org/opt_invest.html)[](https://jax.quantecon.org/opt_savings.html)[](https://jax.quantecon.org/short_path.html)[](https://jax.quantecon.org/.html)[](https://jax.quantecon.org/troubleshooting.html)[](https://jax.quantecon.org/wealth_dynamics.html)[](https://jax.quantecon.org/zreferences.html)|Document|Modified|Method|Run Time (s)|Status|\n",
    "|:------------------:|:------------------:|:------------------:|:------------------:|:------------------:|\n",
    "|aiyagari_jax|2024-03-07 01:44|cache|70.1|✅|\n",
    "|arellano|2024-03-07 01:45|cache|29.03|✅|\n",
    "|cake_eating_numerical|2024-03-07 01:45|cache|19.0|✅|\n",
    "|ifp_egm|2024-03-07 01:48|cache|178.53|✅|\n",
    "|intro|2024-03-07 01:48|cache|1.16|✅|\n",
    "|inventory_dynamics|2024-03-07 01:55|cache|441.15|✅|\n",
    "|jax_intro|2024-03-07 01:56|cache|25.57|✅|\n",
    "|kesten_processes|2024-03-07 01:56|cache|20.6|✅|\n",
    "|markov_asset|2024-03-07 01:56|cache|19.02|✅|\n",
    "|mle|2024-03-07 01:57|cache|14.54|✅|\n",
    "|newtons_method|2024-03-07 01:59|cache|161.07|✅|\n",
    "|opt_invest|2024-03-07 02:00|cache|44.03|✅|\n",
    "|opt_savings|2024-03-07 02:00|cache|20.02|✅|\n",
    "|short_path|2024-03-07 02:01|cache|6.64|✅|\n",
    "|status|2024-03-07 02:01|cache|3.95|✅|\n",
    "|troubleshooting|2024-03-07 01:48|cache|1.16|✅|\n",
    "|wealth_dynamics|2024-03-07 02:01|cache|24.42|✅|\n",
    "|zreferences|2024-03-07 01:48|cache|1.16|✅|\n",
    "\n",
    "<a id='status-machine-details'></a>\n",
    "These lectures are built on `linux` instances through `github actions`  and `amazon web services (aws)` to\n",
    "enable access to a `gpu`. These lectures are built on a [p3.2xlarge](https://aws.amazon.com/ec2/instance-types/p3/)\n",
    "that has access to `8 vcpu's`, a `V100 NVIDIA Tesla GPU`, and `61 Gb` of memory.\n",
    "\n",
    "You can check the backend used by JAX using:"
   ]
  },
  {
   "cell_type": "code",
   "execution_count": null,
   "id": "85e33504",
   "metadata": {
    "hide-output": false
   },
   "outputs": [],
   "source": [
    "import jax\n",
    "# Check if JAX is using GPU\n",
    "print(f\"JAX backend: {jax.devices()[0].platform}\")"
   ]
  },
  {
   "cell_type": "markdown",
   "id": "a57933b6",
   "metadata": {},
   "source": [
    "and the hardware we are running on:"
   ]
  },
  {
   "cell_type": "code",
   "execution_count": null,
   "id": "1bed6257",
   "metadata": {
    "hide-output": false
   },
   "outputs": [],
   "source": [
    "!nvidia-smi"
   ]
  }
 ],
 "metadata": {
  "date": 1709777244.213311,
  "filename": "status.md",
  "kernelspec": {
   "display_name": "Python",
   "language": "python3",
   "name": "python3"
  },
  "title": "Execution Statistics"
 },
 "nbformat": 4,
 "nbformat_minor": 5
}