{
 "cells": [
  {
   "cell_type": "markdown",
   "id": "a96c821c",
   "metadata": {},
   "source": [
    "# Execution Statistics\n",
    "\n",
    "This table contains the latest execution statistics.\n",
    "\n",
    "[](https://jax.quantecon.org/aiyagari_jax.html)[](https://jax.quantecon.org/arellano.html)[](https://jax.quantecon.org/autodiff.html)[](https://jax.quantecon.org/hopenhayn.html)[](https://jax.quantecon.org/ifp_egm.html)[](https://jax.quantecon.org/intro.html)[](https://jax.quantecon.org/inventory_dynamics.html)[](https://jax.quantecon.org/inventory_ssd.html)[](https://jax.quantecon.org/jax_intro.html)[](https://jax.quantecon.org/jax_nn.html)[](https://jax.quantecon.org/job_search.html)[](https://jax.quantecon.org/keras.html)[](https://jax.quantecon.org/kesten_processes.html)[](https://jax.quantecon.org/lucas_model.html)[](https://jax.quantecon.org/markov_asset.html)[](https://jax.quantecon.org/mle.html)[](https://jax.quantecon.org/newtons_method.html)[](https://jax.quantecon.org/opt_invest.html)[](https://jax.quantecon.org/opt_savings_1.html)[](https://jax.quantecon.org/opt_savings_2.html)[](https://jax.quantecon.org/overborrowing.html)[](https://jax.quantecon.org/short_path.html)[](https://jax.quantecon.org/.html)[](https://jax.quantecon.org/troubleshooting.html)[](https://jax.quantecon.org/wealth_dynamics.html)[](https://jax.quantecon.org/zreferences.html)|Document|Modified|Method|Run Time (s)|Status|\n",
    "|:------------------:|:------------------:|:------------------:|:------------------:|:------------------:|\n",
    "|aiyagari_jax|2025-06-23 03:38|cache|71.15|✅|\n",
    "|arellano|2025-06-23 03:38|cache|21.98|✅|\n",
    "|autodiff|2025-06-23 03:38|cache|13.4|✅|\n",
    "|hopenhayn|2025-06-23 03:39|cache|24.45|✅|\n",
    "|ifp_egm|2025-06-23 03:41|cache|143.64|✅|\n",
    "|intro|2025-06-23 03:41|cache|1.0|✅|\n",
    "|inventory_dynamics|2025-06-23 03:41|cache|9.74|✅|\n",
    "|inventory_ssd|2025-06-23 04:17|cache|2152.07|✅|\n",
    "|jax_intro|2025-06-23 04:18|cache|36.13|✅|\n",
    "|jax_nn|2025-06-23 04:19|cache|89.14|✅|\n",
    "|job_search|2025-06-23 04:19|cache|9.85|✅|\n",
    "|keras|2025-06-23 04:20|cache|27.13|✅|\n",
    "|kesten_processes|2025-06-24 11:14|cache|19.81|✅|\n",
    "|lucas_model|2025-06-23 04:20|cache|19.54|✅|\n",
    "|markov_asset|2025-06-23 04:21|cache|11.31|✅|\n",
    "|mle|2025-06-23 04:21|cache|15.05|✅|\n",
    "|newtons_method|2025-06-23 04:24|cache|182.87|✅|\n",
    "|opt_invest|2025-06-23 04:24|cache|22.32|✅|\n",
    "|opt_savings_1|2025-06-23 04:25|cache|46.08|✅|\n",
    "|opt_savings_2|2025-06-23 04:25|cache|20.2|✅|\n",
    "|overborrowing|2025-06-23 04:26|cache|22.8|✅|\n",
    "|short_path|2025-06-23 04:26|cache|3.97|✅|\n",
    "|status|2025-06-23 04:26|cache|2.4|✅|\n",
    "|troubleshooting|2025-06-23 03:41|cache|1.0|✅|\n",
    "|wealth_dynamics|2025-06-23 04:29|cache|155.46|✅|\n",
    "|zreferences|2025-06-23 03:41|cache|1.0|✅|\n",
    "\n",
    "<a id='status-machine-details'></a>\n",
    "These lectures are built on `linux` instances through `github actions` that has\n",
    "access to a `gpu`. These lectures make use of the nvidia `T4` card.\n",
    "\n",
    "You can check the backend used by JAX using:"
   ]
  },
  {
   "cell_type": "code",
   "execution_count": null,
   "id": "99e4d603",
   "metadata": {
    "hide-output": false
   },
   "outputs": [],
   "source": [
    "import jax\n",
    "# Check if JAX is using GPU\n",
    "print(f\"JAX backend: {jax.devices()[0].platform}\")"
   ]
  },
  {
   "cell_type": "markdown",
   "id": "23f08bb5",
   "metadata": {},
   "source": [
    "and the hardware we are running on:"
   ]
  },
  {
   "cell_type": "code",
   "execution_count": null,
   "id": "c23ebd92",
   "metadata": {
    "hide-output": false
   },
   "outputs": [],
   "source": [
    "!nvidia-smi"
   ]
  }
 ],
 "metadata": {
  "date": 1750763757.9955933,
  "filename": "status.md",
  "kernelspec": {
   "display_name": "Python",
   "language": "python3",
   "name": "python3"
  },
  "title": "Execution Statistics"
 },
 "nbformat": 4,
 "nbformat_minor": 5
}