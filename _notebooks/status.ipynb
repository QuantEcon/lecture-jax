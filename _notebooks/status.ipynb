{
 "cells": [
  {
   "cell_type": "markdown",
   "id": "ddbfed82",
   "metadata": {},
   "source": [
    "# Execution Statistics\n",
    "\n",
    "This table contains the latest execution statistics.\n",
    "\n",
    "[](https://jax.quantecon.org/aiyagari_jax.html)[](https://jax.quantecon.org/arellano.html)[](https://jax.quantecon.org/autodiff.html)[](https://jax.quantecon.org/hopenhayn.html)[](https://jax.quantecon.org/ifp_egm.html)[](https://jax.quantecon.org/intro.html)[](https://jax.quantecon.org/inventory_dynamics.html)[](https://jax.quantecon.org/inventory_ssd.html)[](https://jax.quantecon.org/jax_intro.html)[](https://jax.quantecon.org/jax_nn.html)[](https://jax.quantecon.org/job_search.html)[](https://jax.quantecon.org/keras.html)[](https://jax.quantecon.org/kesten_processes.html)[](https://jax.quantecon.org/lucas_model.html)[](https://jax.quantecon.org/markov_asset.html)[](https://jax.quantecon.org/mle.html)[](https://jax.quantecon.org/newtons_method.html)[](https://jax.quantecon.org/opt_invest.html)[](https://jax.quantecon.org/opt_savings_1.html)[](https://jax.quantecon.org/opt_savings_2.html)[](https://jax.quantecon.org/overborrowing.html)[](https://jax.quantecon.org/short_path.html)[](https://jax.quantecon.org/.html)[](https://jax.quantecon.org/troubleshooting.html)[](https://jax.quantecon.org/wealth_dynamics.html)[](https://jax.quantecon.org/zreferences.html)|Document|Modified|Method|Run Time (s)|Status|\n",
    "|:------------------:|:------------------:|:------------------:|:------------------:|:------------------:|\n",
    "|aiyagari_jax|2025-05-05 03:29|cache|65.93|✅|\n",
    "|arellano|2025-05-05 03:29|cache|21.68|✅|\n",
    "|autodiff|2025-05-05 03:29|cache|12.59|✅|\n",
    "|hopenhayn|2025-05-05 03:30|cache|24.33|✅|\n",
    "|ifp_egm|2025-05-05 03:32|cache|143.7|✅|\n",
    "|intro|2025-05-05 03:32|cache|1.07|✅|\n",
    "|inventory_dynamics|2025-05-05 03:32|cache|9.38|✅|\n",
    "|inventory_ssd|2025-05-05 04:08|cache|2148.56|✅|\n",
    "|jax_intro|2025-05-05 04:09|cache|36.75|✅|\n",
    "|jax_nn|2025-05-05 04:10|cache|98.51|✅|\n",
    "|job_search|2025-05-05 04:11|cache|9.55|✅|\n",
    "|keras|2025-05-05 04:11|cache|27.01|✅|\n",
    "|kesten_processes|2025-05-05 04:11|cache|14.2|✅|\n",
    "|lucas_model|2025-05-05 04:12|cache|19.33|✅|\n",
    "|markov_asset|2025-05-05 04:12|cache|10.75|✅|\n",
    "|mle|2025-05-05 04:12|cache|14.66|✅|\n",
    "|newtons_method|2025-05-05 04:15|cache|181.95|✅|\n",
    "|opt_invest|2025-05-05 04:15|cache|21.68|✅|\n",
    "|opt_savings_1|2025-05-05 04:16|cache|43.48|✅|\n",
    "|opt_savings_2|2025-05-05 04:16|cache|19.71|✅|\n",
    "|overborrowing|2025-05-05 04:17|cache|22.18|✅|\n",
    "|short_path|2025-05-05 04:17|cache|3.57|✅|\n",
    "|status|2025-05-05 04:17|cache|1.87|✅|\n",
    "|troubleshooting|2025-05-05 03:32|cache|1.07|✅|\n",
    "|wealth_dynamics|2025-05-05 04:20|cache|156.67|✅|\n",
    "|zreferences|2025-05-05 03:32|cache|1.07|✅|\n",
    "\n",
    "<a id='status-machine-details'></a>\n",
    "These lectures are built on `linux` instances through `github actions` that has\n",
    "access to a `gpu`. These lectures make use of the nvidia `T4` card.\n",
    "\n",
    "You can check the backend used by JAX using:"
   ]
  },
  {
   "cell_type": "code",
   "execution_count": null,
   "id": "797882b3",
   "metadata": {
    "hide-output": false
   },
   "outputs": [],
   "source": [
    "import jax\n",
    "# Check if JAX is using GPU\n",
    "print(f\"JAX backend: {jax.devices()[0].platform}\")"
   ]
  },
  {
   "cell_type": "markdown",
   "id": "b4ec6022",
   "metadata": {},
   "source": [
    "and the hardware we are running on:"
   ]
  },
  {
   "cell_type": "code",
   "execution_count": null,
   "id": "991eb709",
   "metadata": {
    "hide-output": false
   },
   "outputs": [],
   "source": [
    "!nvidia-smi"
   ]
  }
 ],
 "metadata": {
  "date": 1747018761.5620058,
  "filename": "status.md",
  "kernelspec": {
   "display_name": "Python",
   "language": "python3",
   "name": "python3"
  },
  "title": "Execution Statistics"
 },
 "nbformat": 4,
 "nbformat_minor": 5
}