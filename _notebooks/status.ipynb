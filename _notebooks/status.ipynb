{
 "cells": [
  {
   "cell_type": "markdown",
   "id": "0b3b5ec9",
   "metadata": {},
   "source": [
    "# Execution Statistics\n",
    "\n",
    "This table contains the latest execution statistics.\n",
    "\n",
    "[](https://jax.quantecon.org/aiyagari_jax.html)[](https://jax.quantecon.org/arellano.html)[](https://jax.quantecon.org/autodiff.html)[](https://jax.quantecon.org/hopenhayn.html)[](https://jax.quantecon.org/ifp_egm.html)[](https://jax.quantecon.org/intro.html)[](https://jax.quantecon.org/inventory_dynamics.html)[](https://jax.quantecon.org/inventory_ssd.html)[](https://jax.quantecon.org/jax_intro.html)[](https://jax.quantecon.org/job_search.html)[](https://jax.quantecon.org/keras.html)[](https://jax.quantecon.org/kesten_processes.html)[](https://jax.quantecon.org/lucas_model.html)[](https://jax.quantecon.org/markov_asset.html)[](https://jax.quantecon.org/mle.html)[](https://jax.quantecon.org/newtons_method.html)[](https://jax.quantecon.org/opt_invest.html)[](https://jax.quantecon.org/opt_savings_1.html)[](https://jax.quantecon.org/opt_savings_2.html)[](https://jax.quantecon.org/overborrowing.html)[](https://jax.quantecon.org/short_path.html)[](https://jax.quantecon.org/.html)[](https://jax.quantecon.org/troubleshooting.html)[](https://jax.quantecon.org/wealth_dynamics.html)[](https://jax.quantecon.org/zreferences.html)|Document|Modified|Method|Run Time (s)|Status|\n",
    "|:------------------:|:------------------:|:------------------:|:------------------:|:------------------:|\n",
    "|aiyagari_jax|2024-11-19 23:54|cache|65.44|✅|\n",
    "|arellano|2024-11-19 23:55|cache|18.56|✅|\n",
    "|autodiff|2024-11-19 23:55|cache|9.77|✅|\n",
    "|hopenhayn|2024-11-19 23:55|cache|20.45|✅|\n",
    "|ifp_egm|2024-11-19 23:57|cache|117.06|✅|\n",
    "|intro|2024-11-19 23:57|cache|1.09|✅|\n",
    "|inventory_dynamics|2024-11-19 23:57|cache|7.06|✅|\n",
    "|inventory_ssd|2024-11-20 00:30|cache|1999.04|✅|\n",
    "|jax_intro|2024-11-20 00:31|cache|29.95|✅|\n",
    "|job_search|2024-11-20 00:31|cache|7.46|✅|\n",
    "|keras|2024-11-20 00:32|cache|34.33|✅|\n",
    "|kesten_processes|2024-11-20 00:32|cache|12.19|✅|\n",
    "|lucas_model|2024-11-20 00:32|cache|15.69|✅|\n",
    "|markov_asset|2024-11-20 00:32|cache|9.45|✅|\n",
    "|mle|2024-11-20 00:33|cache|14.19|✅|\n",
    "|newtons_method|2024-11-20 00:35|cache|129.18|✅|\n",
    "|opt_invest|2024-11-20 00:35|cache|21.43|✅|\n",
    "|opt_savings_1|2024-11-20 00:36|cache|29.44|✅|\n",
    "|opt_savings_2|2024-11-20 00:36|cache|19.25|✅|\n",
    "|overborrowing|2024-11-20 00:36|cache|24.44|✅|\n",
    "|short_path|2024-11-20 00:36|cache|3.06|✅|\n",
    "|status|2024-11-20 00:36|cache|2.13|✅|\n",
    "|troubleshooting|2024-11-19 23:57|cache|1.09|✅|\n",
    "|wealth_dynamics|2024-11-20 00:40|cache|220.72|✅|\n",
    "|zreferences|2024-11-19 23:57|cache|1.09|✅|\n",
    "\n",
    "<a id='status-machine-details'></a>\n",
    "These lectures are built on `linux` instances through `github actions` that has\n",
    "access to a `gpu`. These lectures make use of the nvidia `T4` card.\n",
    "\n",
    "You can check the backend used by JAX using:"
   ]
  },
  {
   "cell_type": "code",
   "execution_count": null,
   "id": "3dac4cd0",
   "metadata": {
    "hide-output": false
   },
   "outputs": [],
   "source": [
    "import jax\n",
    "# Check if JAX is using GPU\n",
    "print(f\"JAX backend: {jax.devices()[0].platform}\")"
   ]
  },
  {
   "cell_type": "markdown",
   "id": "55588972",
   "metadata": {},
   "source": [
    "and the hardware we are running on:"
   ]
  },
  {
   "cell_type": "code",
   "execution_count": null,
   "id": "cbee3da3",
   "metadata": {
    "hide-output": false
   },
   "outputs": [],
   "source": [
    "!nvidia-smi"
   ]
  }
 ],
 "metadata": {
  "date": 1732064318.341783,
  "filename": "status.md",
  "kernelspec": {
   "display_name": "Python",
   "language": "python3",
   "name": "python3"
  },
  "title": "Execution Statistics"
 },
 "nbformat": 4,
 "nbformat_minor": 5
}