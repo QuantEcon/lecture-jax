{
 "cells": [
  {
   "cell_type": "markdown",
   "id": "37fae3f8",
   "metadata": {},
   "source": [
    "# Execution Statistics\n",
    "\n",
    "This table contains the latest execution statistics.\n",
    "\n",
    "[](https://jax.quantecon.org/aiyagari_jax.html)[](https://jax.quantecon.org/arellano.html)[](https://jax.quantecon.org/autodiff.html)[](https://jax.quantecon.org/hopenhayn.html)[](https://jax.quantecon.org/ifp_egm.html)[](https://jax.quantecon.org/intro.html)[](https://jax.quantecon.org/inventory_dynamics.html)[](https://jax.quantecon.org/inventory_ssd.html)[](https://jax.quantecon.org/jax_intro.html)[](https://jax.quantecon.org/job_search.html)[](https://jax.quantecon.org/kesten_processes.html)[](https://jax.quantecon.org/lucas_model.html)[](https://jax.quantecon.org/markov_asset.html)[](https://jax.quantecon.org/mle.html)[](https://jax.quantecon.org/newtons_method.html)[](https://jax.quantecon.org/opt_invest.html)[](https://jax.quantecon.org/opt_savings_1.html)[](https://jax.quantecon.org/opt_savings_2.html)[](https://jax.quantecon.org/overborrowing.html)[](https://jax.quantecon.org/short_path.html)[](https://jax.quantecon.org/.html)[](https://jax.quantecon.org/troubleshooting.html)[](https://jax.quantecon.org/wealth_dynamics.html)[](https://jax.quantecon.org/zreferences.html)|Document|Modified|Method|Run Time (s)|Status|\n",
    "|:------------------:|:------------------:|:------------------:|:------------------:|:------------------:|\n",
    "|aiyagari_jax|2024-08-12 03:21|cache|68.16|✅|\n",
    "|arellano|2024-08-12 03:21|cache|20.5|✅|\n",
    "|autodiff|2024-08-12 03:21|cache|9.53|✅|\n",
    "|hopenhayn|2024-08-12 03:24|cache|130.79|✅|\n",
    "|ifp_egm|2024-08-12 03:26|cache|119.51|✅|\n",
    "|intro|2024-08-12 03:26|cache|1.09|✅|\n",
    "|inventory_dynamics|2024-08-12 03:26|cache|39.45|✅|\n",
    "|inventory_ssd|2024-08-12 03:58|cache|1920.47|✅|\n",
    "|jax_intro|2024-08-12 03:59|cache|27.78|✅|\n",
    "|job_search|2024-08-12 03:59|cache|9.53|✅|\n",
    "|kesten_processes|2024-08-12 03:59|cache|13.41|✅|\n",
    "|lucas_model|2024-08-12 03:59|cache|15.49|✅|\n",
    "|markov_asset|2024-08-12 04:00|cache|11.48|✅|\n",
    "|mle|2024-08-12 04:00|cache|14.49|✅|\n",
    "|newtons_method|2024-08-12 04:02|cache|125.57|✅|\n",
    "|opt_invest|2024-08-12 04:02|cache|22.94|✅|\n",
    "|opt_savings_1|2024-08-12 04:03|cache|31.92|✅|\n",
    "|opt_savings_2|2024-08-12 04:03|cache|20.99|✅|\n",
    "|overborrowing|2024-08-12 04:05|cache|123.48|✅|\n",
    "|short_path|2024-08-12 04:05|cache|3.02|✅|\n",
    "|status|2024-08-12 04:05|cache|2.11|✅|\n",
    "|troubleshooting|2024-08-12 03:26|cache|1.09|✅|\n",
    "|wealth_dynamics|2024-08-12 04:09|cache|216.57|✅|\n",
    "|zreferences|2024-08-12 03:26|cache|1.09|✅|\n",
    "\n",
    "<a id='status-machine-details'></a>\n",
    "These lectures are built on `linux` instances through `github actions` that has\n",
    "access to a `gpu`. These lectures make use of the nvidia `T4` card.\n",
    "\n",
    "You can check the backend used by JAX using:"
   ]
  },
  {
   "cell_type": "code",
   "execution_count": null,
   "id": "560a602e",
   "metadata": {
    "hide-output": false
   },
   "outputs": [],
   "source": [
    "import jax\n",
    "# Check if JAX is using GPU\n",
    "print(f\"JAX backend: {jax.devices()[0].platform}\")"
   ]
  },
  {
   "cell_type": "markdown",
   "id": "aeed102c",
   "metadata": {},
   "source": [
    "and the hardware we are running on:"
   ]
  },
  {
   "cell_type": "code",
   "execution_count": null,
   "id": "137aad9b",
   "metadata": {
    "hide-output": false
   },
   "outputs": [],
   "source": [
    "!nvidia-smi"
   ]
  }
 ],
 "metadata": {
  "date": 1723441295.7284136,
  "filename": "status.md",
  "kernelspec": {
   "display_name": "Python",
   "language": "python3",
   "name": "python3"
  },
  "title": "Execution Statistics"
 },
 "nbformat": 4,
 "nbformat_minor": 5
}