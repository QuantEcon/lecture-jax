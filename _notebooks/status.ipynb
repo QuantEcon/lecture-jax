{
 "cells": [
  {
   "cell_type": "markdown",
   "id": "7c1158f0",
   "metadata": {},
   "source": [
    "# Execution Statistics\n",
    "\n",
    "This table contains the latest execution statistics.\n",
    "\n",
    "[](https://jax.quantecon.org/aiyagari_jax.html)[](https://jax.quantecon.org/arellano.html)[](https://jax.quantecon.org/hopenhayn.html)[](https://jax.quantecon.org/ifp_egm.html)[](https://jax.quantecon.org/intro.html)[](https://jax.quantecon.org/inventory_dynamics.html)[](https://jax.quantecon.org/inventory_ssd.html)[](https://jax.quantecon.org/jax_intro.html)[](https://jax.quantecon.org/job_search.html)[](https://jax.quantecon.org/kesten_processes.html)[](https://jax.quantecon.org/lucas_model.html)[](https://jax.quantecon.org/markov_asset.html)[](https://jax.quantecon.org/mle.html)[](https://jax.quantecon.org/newtons_method.html)[](https://jax.quantecon.org/opt_invest.html)[](https://jax.quantecon.org/opt_savings_1.html)[](https://jax.quantecon.org/opt_savings_2.html)[](https://jax.quantecon.org/overborrowing.html)[](https://jax.quantecon.org/short_path.html)[](https://jax.quantecon.org/.html)[](https://jax.quantecon.org/troubleshooting.html)[](https://jax.quantecon.org/wealth_dynamics.html)[](https://jax.quantecon.org/zreferences.html)|Document|Modified|Method|Run Time (s)|Status|\n",
    "|:------------------:|:------------------:|:------------------:|:------------------:|:------------------:|\n",
    "|aiyagari_jax|2024-06-13 03:47|cache|107.59|✅|\n",
    "|arellano|2024-06-13 03:47|cache|20.33|✅|\n",
    "|hopenhayn|2024-06-13 03:49|cache|120.93|✅|\n",
    "|ifp_egm|2024-06-13 03:51|cache|118.92|✅|\n",
    "|intro|2024-06-13 03:51|cache|0.95|✅|\n",
    "|inventory_dynamics|2024-06-13 03:52|cache|36.66|✅|\n",
    "|inventory_ssd|2024-06-13 04:24|cache|1911.61|✅|\n",
    "|jax_intro|2024-06-13 04:24|cache|35.49|✅|\n",
    "|job_search|2024-06-13 04:25|cache|8.24|✅|\n",
    "|kesten_processes|2024-06-13 04:25|cache|12.9|✅|\n",
    "|lucas_model|2024-06-13 04:25|cache|15.11|✅|\n",
    "|markov_asset|2024-06-13 04:25|cache|11.45|✅|\n",
    "|mle|2024-06-13 04:25|cache|14.01|✅|\n",
    "|newtons_method|2024-06-13 04:28|cache|124.47|✅|\n",
    "|opt_invest|2024-06-13 04:28|cache|22.96|✅|\n",
    "|opt_savings_1|2024-06-13 04:29|cache|32.63|✅|\n",
    "|opt_savings_2|2024-06-13 04:29|cache|21.03|✅|\n",
    "|overborrowing|2024-06-13 04:31|cache|106.22|✅|\n",
    "|short_path|2024-06-13 04:31|cache|3.04|✅|\n",
    "|status|2024-06-13 04:31|cache|2.02|✅|\n",
    "|troubleshooting|2024-06-13 03:51|cache|0.95|✅|\n",
    "|wealth_dynamics|2024-06-13 04:34|cache|218.77|✅|\n",
    "|zreferences|2024-06-13 03:51|cache|0.95|✅|\n",
    "\n",
    "<a id='status-machine-details'></a>\n",
    "These lectures are built on `linux` instances through `github actions` that has\n",
    "access to a `gpu`. These lectures make use of the nvidia `T4` card.\n",
    "\n",
    "You can check the backend used by JAX using:"
   ]
  },
  {
   "cell_type": "code",
   "execution_count": null,
   "id": "073f14e4",
   "metadata": {
    "hide-output": false
   },
   "outputs": [],
   "source": [
    "import jax\n",
    "# Check if JAX is using GPU\n",
    "print(f\"JAX backend: {jax.devices()[0].platform}\")"
   ]
  },
  {
   "cell_type": "markdown",
   "id": "f903cb97",
   "metadata": {},
   "source": [
    "and the hardware we are running on:"
   ]
  },
  {
   "cell_type": "code",
   "execution_count": null,
   "id": "ede9b052",
   "metadata": {
    "hide-output": false
   },
   "outputs": [],
   "source": [
    "!nvidia-smi"
   ]
  }
 ],
 "metadata": {
  "date": 1718254771.639212,
  "filename": "status.md",
  "kernelspec": {
   "display_name": "Python",
   "language": "python3",
   "name": "python3"
  },
  "title": "Execution Statistics"
 },
 "nbformat": 4,
 "nbformat_minor": 5
}