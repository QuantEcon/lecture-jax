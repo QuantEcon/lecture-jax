{
 "cells": [
  {
   "cell_type": "markdown",
   "id": "a96c8fc7",
   "metadata": {},
   "source": [
    "# Execution Statistics\n",
    "\n",
    "This table contains the latest execution statistics.\n",
    "\n",
    "[](https://jax.quantecon.org/aiyagari_jax.html)[](https://jax.quantecon.org/arellano.html)[](https://jax.quantecon.org/autodiff.html)[](https://jax.quantecon.org/hopenhayn.html)[](https://jax.quantecon.org/ifp_egm.html)[](https://jax.quantecon.org/intro.html)[](https://jax.quantecon.org/inventory_dynamics.html)[](https://jax.quantecon.org/inventory_ssd.html)[](https://jax.quantecon.org/jax_intro.html)[](https://jax.quantecon.org/jax_nn.html)[](https://jax.quantecon.org/job_search.html)[](https://jax.quantecon.org/keras.html)[](https://jax.quantecon.org/kesten_processes.html)[](https://jax.quantecon.org/lucas_model.html)[](https://jax.quantecon.org/markov_asset.html)[](https://jax.quantecon.org/mle.html)[](https://jax.quantecon.org/newtons_method.html)[](https://jax.quantecon.org/opt_invest.html)[](https://jax.quantecon.org/opt_savings_1.html)[](https://jax.quantecon.org/opt_savings_2.html)[](https://jax.quantecon.org/overborrowing.html)[](https://jax.quantecon.org/short_path.html)[](https://jax.quantecon.org/.html)[](https://jax.quantecon.org/troubleshooting.html)[](https://jax.quantecon.org/wealth_dynamics.html)[](https://jax.quantecon.org/zreferences.html)|Document|Modified|Method|Run Time (s)|Status|\n",
    "|:------------------:|:------------------:|:------------------:|:------------------:|:------------------:|\n",
    "|aiyagari_jax|2025-04-29 04:38|cache|64.3|✅|\n",
    "|arellano|2025-04-29 04:38|cache|21.29|✅|\n",
    "|autodiff|2025-04-29 04:38|cache|13.06|✅|\n",
    "|hopenhayn|2025-04-29 04:39|cache|24.54|✅|\n",
    "|ifp_egm|2025-04-29 04:41|cache|143.29|✅|\n",
    "|intro|2025-04-29 04:41|cache|1.19|✅|\n",
    "|inventory_dynamics|2025-04-29 04:41|cache|9.46|✅|\n",
    "|inventory_ssd|2025-04-29 05:17|cache|2161.41|✅|\n",
    "|jax_intro|2025-04-29 05:18|cache|39.1|✅|\n",
    "|jax_nn|2025-04-29 05:19|cache|97.23|✅|\n",
    "|job_search|2025-04-29 05:20|cache|9.69|✅|\n",
    "|keras|2025-04-29 05:20|cache|27.04|✅|\n",
    "|kesten_processes|2025-04-29 05:20|cache|14.46|✅|\n",
    "|lucas_model|2025-04-29 05:21|cache|19.92|✅|\n",
    "|markov_asset|2025-04-29 05:21|cache|11.21|✅|\n",
    "|mle|2025-04-29 05:21|cache|15.02|✅|\n",
    "|newtons_method|2025-04-29 05:24|cache|182.59|✅|\n",
    "|opt_invest|2025-04-29 05:25|cache|21.99|✅|\n",
    "|opt_savings_1|2025-04-29 05:25|cache|48.33|✅|\n",
    "|opt_savings_2|2025-04-29 05:26|cache|19.87|✅|\n",
    "|overborrowing|2025-04-29 05:26|cache|23.15|✅|\n",
    "|short_path|2025-04-29 05:26|cache|4.01|✅|\n",
    "|status|2025-04-29 05:26|cache|2.1|✅|\n",
    "|troubleshooting|2025-04-29 04:41|cache|1.19|✅|\n",
    "|wealth_dynamics|2025-04-29 05:29|cache|158.03|✅|\n",
    "|zreferences|2025-04-29 04:41|cache|1.19|✅|\n",
    "\n",
    "<a id='status-machine-details'></a>\n",
    "These lectures are built on `linux` instances through `github actions` that has\n",
    "access to a `gpu`. These lectures make use of the nvidia `T4` card.\n",
    "\n",
    "You can check the backend used by JAX using:"
   ]
  },
  {
   "cell_type": "code",
   "execution_count": null,
   "id": "20711b83",
   "metadata": {
    "hide-output": false
   },
   "outputs": [],
   "source": [
    "import jax\n",
    "# Check if JAX is using GPU\n",
    "print(f\"JAX backend: {jax.devices()[0].platform}\")"
   ]
  },
  {
   "cell_type": "markdown",
   "id": "4d079405",
   "metadata": {},
   "source": [
    "and the hardware we are running on:"
   ]
  },
  {
   "cell_type": "code",
   "execution_count": null,
   "id": "f14ada2d",
   "metadata": {
    "hide-output": false
   },
   "outputs": [],
   "source": [
    "!nvidia-smi"
   ]
  }
 ],
 "metadata": {
  "date": 1745973983.909077,
  "filename": "status.md",
  "kernelspec": {
   "display_name": "Python",
   "language": "python3",
   "name": "python3"
  },
  "title": "Execution Statistics"
 },
 "nbformat": 4,
 "nbformat_minor": 5
}