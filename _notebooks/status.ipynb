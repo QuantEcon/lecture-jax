{
 "cells": [
  {
   "cell_type": "markdown",
   "id": "40adc2e2",
   "metadata": {},
   "source": [
    "# Execution Statistics\n",
    "\n",
    "This table contains the latest execution statistics.\n",
    "\n",
    "[](https://jax.quantecon.org/aiyagari_jax.html)[](https://jax.quantecon.org/arellano.html)[](https://jax.quantecon.org/cake_eating_numerical.html)[](https://jax.quantecon.org/ifp_egm.html)[](https://jax.quantecon.org/intro.html)[](https://jax.quantecon.org/inventory_dynamics.html)[](https://jax.quantecon.org/jax_intro.html)[](https://jax.quantecon.org/kesten_processes.html)[](https://jax.quantecon.org/markov_asset.html)[](https://jax.quantecon.org/mle.html)[](https://jax.quantecon.org/newtons_method.html)[](https://jax.quantecon.org/opt_invest.html)[](https://jax.quantecon.org/opt_savings.html)[](https://jax.quantecon.org/short_path.html)[](https://jax.quantecon.org/.html)[](https://jax.quantecon.org/troubleshooting.html)[](https://jax.quantecon.org/wealth_dynamics.html)[](https://jax.quantecon.org/zreferences.html)|Document|Modified|Method|Run Time (s)|Status|\n",
    "|:------------------:|:------------------:|:------------------:|:------------------:|:------------------:|\n",
    "|aiyagari_jax|2024-03-04 04:41|cache|59.71|✅|\n",
    "|arellano|2024-03-04 04:42|cache|37.03|✅|\n",
    "|cake_eating_numerical|2024-03-04 04:42|cache|23.93|✅|\n",
    "|ifp_egm|2024-03-04 04:45|cache|182.94|✅|\n",
    "|intro|2024-03-04 04:45|cache|1.35|✅|\n",
    "|inventory_dynamics|2024-03-04 04:53|cache|456.19|✅|\n",
    "|jax_intro|2024-03-04 04:53|cache|35.03|✅|\n",
    "|kesten_processes|2024-03-04 04:54|cache|26.03|✅|\n",
    "|markov_asset|2024-03-04 04:54|cache|24.03|✅|\n",
    "|mle|2024-03-04 04:55|cache|19.03|✅|\n",
    "|newtons_method|2024-03-04 04:57|cache|168.09|✅|\n",
    "|opt_invest|2024-03-04 04:58|cache|40.03|✅|\n",
    "|opt_savings|2024-03-04 04:58|cache|25.96|✅|\n",
    "|short_path|2024-03-04 04:59|cache|9.4|✅|\n",
    "|status|2024-03-04 04:59|cache|4.2|✅|\n",
    "|troubleshooting|2024-03-04 04:45|cache|1.35|✅|\n",
    "|wealth_dynamics|2024-03-04 04:59|cache|33.03|✅|\n",
    "|zreferences|2024-03-04 04:45|cache|1.35|✅|\n",
    "\n",
    "<a id='status-machine-details'></a>\n",
    "These lectures are built on `linux` instances through `github actions`  and `amazon web services (aws)` to\n",
    "enable access to a `gpu`. These lectures are built on a [p3.2xlarge](https://aws.amazon.com/ec2/instance-types/p3/)\n",
    "that has access to `8 vcpu's`, a `V100 NVIDIA Tesla GPU`, and `61 Gb` of memory.\n",
    "\n",
    "You can check the backend used by JAX using:"
   ]
  },
  {
   "cell_type": "code",
   "execution_count": null,
   "id": "56f04a9f",
   "metadata": {
    "hide-output": false
   },
   "outputs": [],
   "source": [
    "import jax\n",
    "# Check if JAX is using GPU\n",
    "print(f\"JAX backend: {jax.devices()[0].platform}\")"
   ]
  },
  {
   "cell_type": "markdown",
   "id": "0f4d5fa5",
   "metadata": {},
   "source": [
    "and the hardware we are running on:"
   ]
  },
  {
   "cell_type": "code",
   "execution_count": null,
   "id": "3be4729d",
   "metadata": {
    "hide-output": false
   },
   "outputs": [],
   "source": [
    "!nvidia-smi"
   ]
  }
 ],
 "metadata": {
  "date": 1709542797.5425265,
  "filename": "status.md",
  "kernelspec": {
   "display_name": "Python",
   "language": "python3",
   "name": "python3"
  },
  "title": "Execution Statistics"
 },
 "nbformat": 4,
 "nbformat_minor": 5
}