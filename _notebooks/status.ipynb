{
 "cells": [
  {
   "cell_type": "markdown",
   "id": "7bed07a8",
   "metadata": {},
   "source": [
    "# Execution Statistics\n",
    "\n",
    "This table contains the latest execution statistics.\n",
    "\n",
    "[](https://jax.quantecon.org/aiyagari_jax.html)[](https://jax.quantecon.org/arellano.html)[](https://jax.quantecon.org/autodiff.html)[](https://jax.quantecon.org/hopenhayn.html)[](https://jax.quantecon.org/ifp_egm.html)[](https://jax.quantecon.org/intro.html)[](https://jax.quantecon.org/inventory_dynamics.html)[](https://jax.quantecon.org/inventory_ssd.html)[](https://jax.quantecon.org/jax_intro.html)[](https://jax.quantecon.org/jax_nn.html)[](https://jax.quantecon.org/job_search.html)[](https://jax.quantecon.org/keras.html)[](https://jax.quantecon.org/kesten_processes.html)[](https://jax.quantecon.org/lucas_model.html)[](https://jax.quantecon.org/markov_asset.html)[](https://jax.quantecon.org/mle.html)[](https://jax.quantecon.org/newtons_method.html)[](https://jax.quantecon.org/opt_invest.html)[](https://jax.quantecon.org/opt_savings_1.html)[](https://jax.quantecon.org/opt_savings_2.html)[](https://jax.quantecon.org/overborrowing.html)[](https://jax.quantecon.org/short_path.html)[](https://jax.quantecon.org/.html)[](https://jax.quantecon.org/troubleshooting.html)[](https://jax.quantecon.org/wealth_dynamics.html)[](https://jax.quantecon.org/zreferences.html)|Document|Modified|Method|Run Time (s)|Status|\n",
    "|:------------------:|:------------------:|:------------------:|:------------------:|:------------------:|\n",
    "|aiyagari_jax|2025-08-04 03:47|cache|74.95|✅|\n",
    "|arellano|2025-08-04 03:47|cache|22.09|✅|\n",
    "|autodiff|2025-08-04 03:48|cache|12.89|✅|\n",
    "|hopenhayn|2025-08-04 03:48|cache|24.43|✅|\n",
    "|ifp_egm|2025-08-04 03:51|cache|146.32|✅|\n",
    "|intro|2025-08-04 03:51|cache|1.17|✅|\n",
    "|inventory_dynamics|2025-08-04 03:51|cache|8.64|✅|\n",
    "|inventory_ssd|2025-08-04 04:29|cache|2270.06|✅|\n",
    "|jax_intro|2025-08-04 04:29|cache|37.25|✅|\n",
    "|jax_nn|2025-08-04 04:31|cache|91.88|✅|\n",
    "|job_search|2025-08-04 04:31|cache|9.79|✅|\n",
    "|keras|2025-08-04 04:31|cache|27.06|✅|\n",
    "|kesten_processes|2025-08-04 04:32|cache|11.06|✅|\n",
    "|lucas_model|2025-08-04 04:32|cache|19.69|✅|\n",
    "|markov_asset|2025-08-04 04:32|cache|11.22|✅|\n",
    "|mle|2025-08-04 04:32|cache|15.04|✅|\n",
    "|newtons_method|2025-08-04 04:35|cache|182.84|✅|\n",
    "|opt_invest|2025-08-04 04:36|cache|22.42|✅|\n",
    "|opt_savings_1|2025-08-04 04:36|cache|45.65|✅|\n",
    "|opt_savings_2|2025-08-04 04:37|cache|20.28|✅|\n",
    "|overborrowing|2025-08-04 04:37|cache|22.93|✅|\n",
    "|short_path|2025-08-04 04:37|cache|4.1|✅|\n",
    "|status|2025-08-04 06:14|cache|6.87|✅|\n",
    "|troubleshooting|2025-08-04 03:51|cache|1.17|✅|\n",
    "|wealth_dynamics|2025-08-04 04:40|cache|154.77|✅|\n",
    "|zreferences|2025-08-04 03:51|cache|1.17|✅|\n",
    "\n",
    "<a id='status-machine-details'></a>\n",
    "These lectures are built on `linux` instances through `github actions` that has\n",
    "access to a `gpu`. These lectures make use of the nvidia `T4` card.\n",
    "\n",
    "These lectures are using the following python version"
   ]
  },
  {
   "cell_type": "code",
   "execution_count": null,
   "id": "4dac29f4",
   "metadata": {
    "hide-output": false
   },
   "outputs": [],
   "source": [
    "!python --version"
   ]
  },
  {
   "cell_type": "markdown",
   "id": "eb818d22",
   "metadata": {},
   "source": [
    "and the following package versions"
   ]
  },
  {
   "cell_type": "code",
   "execution_count": null,
   "id": "b1f1fc49",
   "metadata": {
    "hide-output": false
   },
   "outputs": [],
   "source": [
    "!conda list"
   ]
  },
  {
   "cell_type": "markdown",
   "id": "7eb7bb33",
   "metadata": {},
   "source": [
    "You can check the backend used by JAX using:"
   ]
  },
  {
   "cell_type": "code",
   "execution_count": null,
   "id": "43fe5edc",
   "metadata": {
    "hide-output": false
   },
   "outputs": [],
   "source": [
    "import jax\n",
    "# Check if JAX is using GPU\n",
    "print(f\"JAX backend: {jax.devices()[0].platform}\")"
   ]
  },
  {
   "cell_type": "markdown",
   "id": "5ccf89c6",
   "metadata": {},
   "source": [
    "and the hardware we are running on:"
   ]
  },
  {
   "cell_type": "code",
   "execution_count": null,
   "id": "860627ce",
   "metadata": {
    "hide-output": false
   },
   "outputs": [],
   "source": [
    "!nvidia-smi"
   ]
  }
 ],
 "metadata": {
  "date": 1754288152.3534105,
  "filename": "status.md",
  "kernelspec": {
   "display_name": "Python",
   "language": "python3",
   "name": "python3"
  },
  "title": "Execution Statistics"
 },
 "nbformat": 4,
 "nbformat_minor": 5
}