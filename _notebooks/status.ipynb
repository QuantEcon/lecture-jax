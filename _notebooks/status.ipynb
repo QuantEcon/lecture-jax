{
 "cells": [
  {
   "cell_type": "markdown",
   "id": "544f92d1",
   "metadata": {},
   "source": [
    "# Execution Statistics\n",
    "\n",
    "This table contains the latest execution statistics.\n",
    "\n",
    "[](https://jax.quantecon.org/aiyagari_jax.html)[](https://jax.quantecon.org/arellano.html)[](https://jax.quantecon.org/intro.html)[](https://jax.quantecon.org/inventory_dynamics.html)[](https://jax.quantecon.org/jax_intro.html)[](https://jax.quantecon.org/kesten_processes.html)[](https://jax.quantecon.org/newtons_method.html)[](https://jax.quantecon.org/opt_invest.html)[](https://jax.quantecon.org/opt_savings.html)[](https://jax.quantecon.org/short_path.html)[](https://jax.quantecon.org/.html)[](https://jax.quantecon.org/troubleshooting.html)[](https://jax.quantecon.org/wealth_dynamics.html)[](https://jax.quantecon.org/zreferences.html)|Document|Modified|Method|Run Time (s)|Status|\n",
    "|:------------------:|:------------------:|:------------------:|:------------------:|:------------------:|\n",
    "|aiyagari_jax|2023-05-08 07:06|cache|59.14|✅|\n",
    "|arellano|2023-05-08 07:07|cache|35.02|✅|\n",
    "|intro|2023-05-08 07:07|cache|1.43|✅|\n",
    "|inventory_dynamics|2023-05-08 07:13|cache|356.68|✅|\n",
    "|jax_intro|2023-05-08 07:13|cache|41.04|✅|\n",
    "|kesten_processes|2023-05-08 07:14|cache|23.99|✅|\n",
    "|newtons_method|2023-05-08 07:17|cache|164.91|✅|\n",
    "|opt_invest|2023-05-08 07:20|cache|188.94|✅|\n",
    "|opt_savings|2023-05-08 07:21|cache|55.91|✅|\n",
    "|short_path|2023-05-08 07:21|cache|9.02|✅|\n",
    "|status|2023-05-08 07:07|cache|1.43|✅|\n",
    "|troubleshooting|2023-05-08 07:07|cache|1.43|✅|\n",
    "|wealth_dynamics|2023-05-08 07:22|cache|96.0|✅|\n",
    "|zreferences|2023-05-08 07:07|cache|1.43|✅|\n",
    "\n",
    "<a id='status-machine-details'></a>\n",
    "These lectures are built on `linux` instances through `github actions`  and `amazon web services (aws)` to\n",
    "enable access to a `gpu`. These lectures are built on a [p3.2xlarge](https://aws.amazon.com/ec2/instance-types/p3/)\n",
    "that has access to `8 vcpu's`, a `V100 NVIDIA Tesla GPU`, and `61 Gb` of memory."
   ]
  }
 ],
 "metadata": {
  "date": 1683534859.4004157,
  "filename": "status.md",
  "kernelspec": {
   "display_name": "Python",
   "language": "python3",
   "name": "python3"
  },
  "title": "Execution Statistics"
 },
 "nbformat": 4,
 "nbformat_minor": 5
}