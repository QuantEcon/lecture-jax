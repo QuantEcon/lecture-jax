{
 "cells": [
  {
   "cell_type": "markdown",
   "id": "f159314e",
   "metadata": {},
   "source": [
    "# Execution Statistics\n",
    "\n",
    "This table contains the latest execution statistics.\n",
    "\n",
    "[](https://jax.quantecon.org/aiyagari_jax.html)[](https://jax.quantecon.org/arellano.html)[](https://jax.quantecon.org/cake_eating_numerical.html)[](https://jax.quantecon.org/ifp_egm.html)[](https://jax.quantecon.org/intro.html)[](https://jax.quantecon.org/inventory_dynamics.html)[](https://jax.quantecon.org/jax_intro.html)[](https://jax.quantecon.org/kesten_processes.html)[](https://jax.quantecon.org/markov_asset.html)[](https://jax.quantecon.org/mle.html)[](https://jax.quantecon.org/newtons_method.html)[](https://jax.quantecon.org/opt_invest.html)[](https://jax.quantecon.org/opt_savings.html)[](https://jax.quantecon.org/short_path.html)[](https://jax.quantecon.org/.html)[](https://jax.quantecon.org/troubleshooting.html)[](https://jax.quantecon.org/wealth_dynamics.html)[](https://jax.quantecon.org/zreferences.html)|Document|Modified|Method|Run Time (s)|Status|\n",
    "|:------------------:|:------------------:|:------------------:|:------------------:|:------------------:|\n",
    "|aiyagari_jax|2024-03-01 22:17|cache|58.7|✅|\n",
    "|arellano|2024-03-01 22:18|cache|35.63|✅|\n",
    "|cake_eating_numerical|2024-03-01 22:18|cache|23.77|✅|\n",
    "|ifp_egm|2024-03-01 22:20|cache|117.0|✅|\n",
    "|intro|2024-03-01 22:21|cache|4.02|✅|\n",
    "|inventory_dynamics|2024-03-01 22:28|cache|455.15|✅|\n",
    "|jax_intro|2024-03-01 22:29|cache|33.7|✅|\n",
    "|kesten_processes|2024-03-01 22:29|cache|26.03|✅|\n",
    "|markov_asset|2024-03-01 22:29|cache|23.55|✅|\n",
    "|mle|2024-03-01 22:30|cache|21.03|✅|\n",
    "|newtons_method|2024-03-01 22:33|cache|167.85|✅|\n",
    "|opt_invest|2024-03-01 22:33|cache|41.03|✅|\n",
    "|opt_savings|2024-03-01 22:34|cache|27.03|✅|\n",
    "|short_path|2024-03-01 22:34|cache|9.38|✅|\n",
    "|status|2024-03-01 22:34|cache|4.07|✅|\n",
    "|troubleshooting|2024-03-01 22:21|cache|4.02|✅|\n",
    "|wealth_dynamics|2024-03-01 22:35|cache|31.77|✅|\n",
    "|zreferences|2024-03-01 22:21|cache|4.02|✅|\n",
    "\n",
    "<a id='status-machine-details'></a>\n",
    "These lectures are built on `linux` instances through `github actions`  and `amazon web services (aws)` to\n",
    "enable access to a `gpu`. These lectures are built on a [p3.2xlarge](https://aws.amazon.com/ec2/instance-types/p3/)\n",
    "that has access to `8 vcpu's`, a `V100 NVIDIA Tesla GPU`, and `61 Gb` of memory.\n",
    "\n",
    "You can check the backend used by JAX using:"
   ]
  },
  {
   "cell_type": "code",
   "execution_count": null,
   "id": "5d0f85de",
   "metadata": {
    "hide-output": false
   },
   "outputs": [],
   "source": [
    "import jax\n",
    "# Check if JAX is using GPU\n",
    "print(f\"JAX backend: {jax.devices()[0].platform}\")"
   ]
  },
  {
   "cell_type": "markdown",
   "id": "2255ca55",
   "metadata": {},
   "source": [
    "and the hardware we are running on:"
   ]
  },
  {
   "cell_type": "code",
   "execution_count": null,
   "id": "cb03dc63",
   "metadata": {
    "hide-output": false
   },
   "outputs": [],
   "source": [
    "!nvidia-smi"
   ]
  }
 ],
 "metadata": {
  "date": 1709332852.0422516,
  "filename": "status.md",
  "kernelspec": {
   "display_name": "Python",
   "language": "python3",
   "name": "python3"
  },
  "title": "Execution Statistics"
 },
 "nbformat": 4,
 "nbformat_minor": 5
}