{
 "cells": [
  {
   "cell_type": "markdown",
   "id": "13b12b7b",
   "metadata": {},
   "source": [
    "# Execution Statistics\n",
    "\n",
    "This table contains the latest execution statistics.\n",
    "\n",
    "[](https://jax.quantecon.org/aiyagari_jax.html)[](https://jax.quantecon.org/arellano.html)[](https://jax.quantecon.org/cake_eating_numerical.html)[](https://jax.quantecon.org/ifp_egm.html)[](https://jax.quantecon.org/intro.html)[](https://jax.quantecon.org/inventory_dynamics.html)[](https://jax.quantecon.org/jax_intro.html)[](https://jax.quantecon.org/kesten_processes.html)[](https://jax.quantecon.org/markov_asset.html)[](https://jax.quantecon.org/mle.html)[](https://jax.quantecon.org/newtons_method.html)[](https://jax.quantecon.org/opt_invest.html)[](https://jax.quantecon.org/opt_savings.html)[](https://jax.quantecon.org/short_path.html)[](https://jax.quantecon.org/.html)[](https://jax.quantecon.org/troubleshooting.html)[](https://jax.quantecon.org/wealth_dynamics.html)[](https://jax.quantecon.org/zreferences.html)|Document|Modified|Method|Run Time (s)|Status|\n",
    "|:------------------:|:------------------:|:------------------:|:------------------:|:------------------:|\n",
    "|aiyagari_jax|2023-09-19 23:49|cache|60.76|✅|\n",
    "|arellano|2023-09-19 23:49|cache|37.03|✅|\n",
    "|cake_eating_numerical|2023-09-19 23:50|cache|24.03|✅|\n",
    "|ifp_egm|2023-09-19 23:51|cache|74.04|✅|\n",
    "|intro|2023-09-19 23:51|cache|4.02|✅|\n",
    "|inventory_dynamics|2023-09-19 23:58|cache|420.93|✅|\n",
    "|jax_intro|2023-09-19 23:59|cache|37.8|✅|\n",
    "|kesten_processes|2023-09-19 23:59|cache|36.45|✅|\n",
    "|markov_asset|2023-09-20 00:00|cache|25.03|✅|\n",
    "|mle|2023-09-20 00:00|cache|21.03|✅|\n",
    "|newtons_method|2023-09-20 00:03|cache|168.77|✅|\n",
    "|opt_invest|2023-09-20 00:06|cache|180.09|✅|\n",
    "|opt_savings|2023-09-20 00:07|cache|61.66|✅|\n",
    "|short_path|2023-09-20 00:07|cache|11.02|✅|\n",
    "|status|2023-09-20 00:07|cache|3.99|✅|\n",
    "|troubleshooting|2023-09-19 23:51|cache|4.02|✅|\n",
    "|wealth_dynamics|2023-09-20 00:08|cache|36.03|✅|\n",
    "|zreferences|2023-09-19 23:51|cache|4.02|✅|\n",
    "\n",
    "<a id='status-machine-details'></a>\n",
    "These lectures are built on `linux` instances through `github actions`  and `amazon web services (aws)` to\n",
    "enable access to a `gpu`. These lectures are built on a [p3.2xlarge](https://aws.amazon.com/ec2/instance-types/p3/)\n",
    "that has access to `8 vcpu's`, a `V100 NVIDIA Tesla GPU`, and `61 Gb` of memory.\n",
    "\n",
    "You can check the backend used by JAX using:"
   ]
  },
  {
   "cell_type": "code",
   "execution_count": null,
   "id": "53f788c3",
   "metadata": {
    "hide-output": false
   },
   "outputs": [],
   "source": [
    "import jax\n",
    "# Check if JAX is using GPU\n",
    "print(f\"JAX backend: {jax.devices()[0].platform}\")"
   ]
  },
  {
   "cell_type": "markdown",
   "id": "05d95d22",
   "metadata": {},
   "source": [
    "and the hardware we are running on:"
   ]
  },
  {
   "cell_type": "code",
   "execution_count": null,
   "id": "f4eb5b6c",
   "metadata": {
    "hide-output": false
   },
   "outputs": [],
   "source": [
    "!nvidia-smi"
   ]
  }
 ],
 "metadata": {
  "date": 1695173318.977975,
  "filename": "status.md",
  "kernelspec": {
   "display_name": "Python",
   "language": "python3",
   "name": "python3"
  },
  "title": "Execution Statistics"
 },
 "nbformat": 4,
 "nbformat_minor": 5
}