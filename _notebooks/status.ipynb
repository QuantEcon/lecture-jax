{
 "cells": [
  {
   "cell_type": "markdown",
   "id": "4fd5aff7",
   "metadata": {},
   "source": [
    "# Execution Statistics\n",
    "\n",
    "This table contains the latest execution statistics.\n",
    "\n",
    "[](https://jax.quantecon.org/aiyagari_jax.html)[](https://jax.quantecon.org/arellano.html)[](https://jax.quantecon.org/cake_eating_numerical.html)[](https://jax.quantecon.org/ifp_egm.html)[](https://jax.quantecon.org/intro.html)[](https://jax.quantecon.org/inventory_dynamics.html)[](https://jax.quantecon.org/jax_intro.html)[](https://jax.quantecon.org/kesten_processes.html)[](https://jax.quantecon.org/markov_asset.html)[](https://jax.quantecon.org/mle.html)[](https://jax.quantecon.org/newtons_method.html)[](https://jax.quantecon.org/opt_invest.html)[](https://jax.quantecon.org/opt_savings.html)[](https://jax.quantecon.org/short_path.html)[](https://jax.quantecon.org/.html)[](https://jax.quantecon.org/troubleshooting.html)[](https://jax.quantecon.org/wealth_dynamics.html)[](https://jax.quantecon.org/zreferences.html)|Document|Modified|Method|Run Time (s)|Status|\n",
    "|:------------------:|:------------------:|:------------------:|:------------------:|:------------------:|\n",
    "|aiyagari_jax|2023-10-11 04:13|cache|60.13|✅|\n",
    "|arellano|2023-10-11 04:14|cache|37.83|✅|\n",
    "|cake_eating_numerical|2023-10-11 04:14|cache|25.03|✅|\n",
    "|ifp_egm|2023-10-11 04:17|cache|124.9|✅|\n",
    "|intro|2023-10-11 04:17|cache|1.31|✅|\n",
    "|inventory_dynamics|2023-10-11 04:24|cache|434.19|✅|\n",
    "|jax_intro|2023-10-11 04:24|cache|35.7|✅|\n",
    "|kesten_processes|2023-10-11 04:25|cache|26.78|✅|\n",
    "|markov_asset|2023-10-11 04:25|cache|25.99|✅|\n",
    "|mle|2023-10-11 04:26|cache|20.83|✅|\n",
    "|newtons_method|2023-10-11 04:29|cache|185.09|✅|\n",
    "|opt_invest|2023-10-11 04:29|cache|44.02|✅|\n",
    "|opt_savings|2023-10-11 04:30|cache|28.03|✅|\n",
    "|short_path|2023-10-11 04:30|cache|10.39|✅|\n",
    "|status|2023-10-11 04:30|cache|3.92|✅|\n",
    "|troubleshooting|2023-10-11 04:17|cache|1.31|✅|\n",
    "|wealth_dynamics|2023-10-11 04:31|cache|34.02|✅|\n",
    "|zreferences|2023-10-11 04:17|cache|1.31|✅|\n",
    "\n",
    "<a id='status-machine-details'></a>\n",
    "These lectures are built on `linux` instances through `github actions`  and `amazon web services (aws)` to\n",
    "enable access to a `gpu`. These lectures are built on a [p3.2xlarge](https://aws.amazon.com/ec2/instance-types/p3/)\n",
    "that has access to `8 vcpu's`, a `V100 NVIDIA Tesla GPU`, and `61 Gb` of memory.\n",
    "\n",
    "You can check the backend used by JAX using:"
   ]
  },
  {
   "cell_type": "code",
   "execution_count": null,
   "id": "03cb193d",
   "metadata": {
    "hide-output": false
   },
   "outputs": [],
   "source": [
    "import jax\n",
    "# Check if JAX is using GPU\n",
    "print(f\"JAX backend: {jax.devices()[0].platform}\")"
   ]
  },
  {
   "cell_type": "markdown",
   "id": "b998c4f5",
   "metadata": {},
   "source": [
    "and the hardware we are running on:"
   ]
  },
  {
   "cell_type": "code",
   "execution_count": null,
   "id": "33cc0b73",
   "metadata": {
    "hide-output": false
   },
   "outputs": [],
   "source": [
    "!nvidia-smi"
   ]
  }
 ],
 "metadata": {
  "date": 1697074771.1689546,
  "filename": "status.md",
  "kernelspec": {
   "display_name": "Python",
   "language": "python3",
   "name": "python3"
  },
  "title": "Execution Statistics"
 },
 "nbformat": 4,
 "nbformat_minor": 5
}