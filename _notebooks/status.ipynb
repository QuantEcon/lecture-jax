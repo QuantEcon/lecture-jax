{
 "cells": [
  {
   "cell_type": "markdown",
   "id": "7d6bfe4e",
   "metadata": {},
   "source": [
    "# Execution Statistics\n",
    "\n",
    "This table contains the latest execution statistics.\n",
    "\n",
    "[](https://jax.quantecon.org/aiyagari_jax.html)[](https://jax.quantecon.org/arellano.html)[](https://jax.quantecon.org/cake_eating_numerical.html)[](https://jax.quantecon.org/hopenhayn.html)[](https://jax.quantecon.org/ifp_egm.html)[](https://jax.quantecon.org/intro.html)[](https://jax.quantecon.org/inventory_dynamics.html)[](https://jax.quantecon.org/inventory_ssd.html)[](https://jax.quantecon.org/jax_intro.html)[](https://jax.quantecon.org/job_search.html)[](https://jax.quantecon.org/kesten_processes.html)[](https://jax.quantecon.org/lucas_model.html)[](https://jax.quantecon.org/markov_asset.html)[](https://jax.quantecon.org/mle.html)[](https://jax.quantecon.org/newtons_method.html)[](https://jax.quantecon.org/opt_invest.html)[](https://jax.quantecon.org/opt_savings_1.html)[](https://jax.quantecon.org/opt_savings_2.html)[](https://jax.quantecon.org/overborrowing.html)[](https://jax.quantecon.org/short_path.html)[](https://jax.quantecon.org/.html)[](https://jax.quantecon.org/troubleshooting.html)[](https://jax.quantecon.org/wealth_dynamics.html)[](https://jax.quantecon.org/zreferences.html)|Document|Modified|Method|Run Time (s)|Status|\n",
    "|:------------------:|:------------------:|:------------------:|:------------------:|:------------------:|\n",
    "|aiyagari_jax|2024-04-11 21:57|cache|67.88|✅|\n",
    "|arellano|2024-04-11 21:57|cache|28.02|✅|\n",
    "|cake_eating_numerical|2024-04-11 21:58|cache|18.82|✅|\n",
    "|hopenhayn|2024-04-11 22:01|cache|217.76|✅|\n",
    "|ifp_egm|2024-04-11 22:04|cache|179.8|✅|\n",
    "|intro|2024-04-11 22:04|cache|1.17|✅|\n",
    "|inventory_dynamics|2024-04-11 22:05|cache|69.69|✅|\n",
    "|inventory_ssd|2024-04-11 22:30|cache|1456.09|✅|\n",
    "|jax_intro|2024-04-11 22:30|cache|24.87|✅|\n",
    "|job_search|2024-04-11 22:30|cache|12.75|✅|\n",
    "|kesten_processes|2024-04-11 22:31|cache|19.92|✅|\n",
    "|lucas_model|2024-04-11 22:31|cache|19.94|✅|\n",
    "|markov_asset|2024-04-11 22:31|cache|17.45|✅|\n",
    "|mle|2024-04-11 22:32|cache|15.02|✅|\n",
    "|newtons_method|2024-04-11 22:34|cache|158.98|✅|\n",
    "|opt_invest|2024-04-11 22:34|cache|18.02|✅|\n",
    "|opt_savings_1|2024-04-11 22:35|cache|34.09|✅|\n",
    "|opt_savings_2|2024-04-11 22:35|cache|17.48|✅|\n",
    "|overborrowing|2024-04-11 22:36|cache|38.89|✅|\n",
    "|short_path|2024-04-11 22:36|cache|6.54|✅|\n",
    "|status|2024-04-11 22:36|cache|3.74|✅|\n",
    "|troubleshooting|2024-04-11 22:04|cache|1.17|✅|\n",
    "|wealth_dynamics|2024-04-11 22:37|cache|23.75|✅|\n",
    "|zreferences|2024-04-11 22:04|cache|1.17|✅|\n",
    "\n",
    "<a id='status-machine-details'></a>\n",
    "These lectures are built on `linux` instances through `github actions`  and `amazon web services (aws)` to\n",
    "enable access to a `gpu`. These lectures are built on a [p3.2xlarge](https://aws.amazon.com/ec2/instance-types/p3/)\n",
    "that has access to `8 vcpu's`, a `V100 NVIDIA Tesla GPU`, and `61 Gb` of memory.\n",
    "\n",
    "You can check the backend used by JAX using:"
   ]
  },
  {
   "cell_type": "code",
   "execution_count": null,
   "id": "218af1c9",
   "metadata": {
    "hide-output": false
   },
   "outputs": [],
   "source": [
    "import jax\n",
    "# Check if JAX is using GPU\n",
    "print(f\"JAX backend: {jax.devices()[0].platform}\")"
   ]
  },
  {
   "cell_type": "markdown",
   "id": "222389a7",
   "metadata": {},
   "source": [
    "and the hardware we are running on:"
   ]
  },
  {
   "cell_type": "code",
   "execution_count": null,
   "id": "3d8480f0",
   "metadata": {
    "hide-output": false
   },
   "outputs": [],
   "source": [
    "!nvidia-smi"
   ]
  }
 ],
 "metadata": {
  "date": 1713141905.560745,
  "filename": "status.md",
  "kernelspec": {
   "display_name": "Python",
   "language": "python3",
   "name": "python3"
  },
  "title": "Execution Statistics"
 },
 "nbformat": 4,
 "nbformat_minor": 5
}