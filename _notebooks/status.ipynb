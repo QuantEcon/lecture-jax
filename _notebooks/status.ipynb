{
 "cells": [
  {
   "cell_type": "markdown",
   "id": "1f15162f",
   "metadata": {},
   "source": [
    "# Execution Statistics\n",
    "\n",
    "This table contains the latest execution statistics.\n",
    "\n",
    "[](https://jax.quantecon.org/aiyagari_jax.html)[](https://jax.quantecon.org/arellano.html)[](https://jax.quantecon.org/cake_eating_numerical.html)[](https://jax.quantecon.org/ifp_egm.html)[](https://jax.quantecon.org/intro.html)[](https://jax.quantecon.org/inventory_dynamics.html)[](https://jax.quantecon.org/jax_intro.html)[](https://jax.quantecon.org/kesten_processes.html)[](https://jax.quantecon.org/markov_asset.html)[](https://jax.quantecon.org/mle.html)[](https://jax.quantecon.org/newtons_method.html)[](https://jax.quantecon.org/opt_invest.html)[](https://jax.quantecon.org/opt_savings.html)[](https://jax.quantecon.org/short_path.html)[](https://jax.quantecon.org/.html)[](https://jax.quantecon.org/troubleshooting.html)[](https://jax.quantecon.org/wealth_dynamics.html)[](https://jax.quantecon.org/zreferences.html)|Document|Modified|Method|Run Time (s)|Status|\n",
    "|:------------------:|:------------------:|:------------------:|:------------------:|:------------------:|\n",
    "|aiyagari_jax|2023-09-22 00:25|cache|58.99|✅|\n",
    "|arellano|2023-09-22 00:26|cache|34.68|✅|\n",
    "|cake_eating_numerical|2023-09-22 00:26|cache|22.54|✅|\n",
    "|ifp_egm|2023-09-22 00:27|cache|72.86|✅|\n",
    "|intro|2023-09-22 00:28|cache|1.43|✅|\n",
    "|inventory_dynamics|2023-09-22 00:34|cache|412.11|✅|\n",
    "|jax_intro|2023-09-22 00:35|cache|36.47|✅|\n",
    "|kesten_processes|2023-09-22 00:36|cache|35.71|✅|\n",
    "|markov_asset|2023-09-22 00:36|cache|23.84|✅|\n",
    "|mle|2023-09-22 00:36|cache|19.58|✅|\n",
    "|newtons_method|2023-09-22 00:39|cache|164.08|✅|\n",
    "|opt_invest|2023-09-22 00:40|cache|39.98|✅|\n",
    "|opt_savings|2023-09-22 00:40|cache|24.8|✅|\n",
    "|short_path|2023-09-22 00:40|cache|11.02|✅|\n",
    "|status|2023-09-22 00:40|cache|4.09|✅|\n",
    "|troubleshooting|2023-09-22 00:28|cache|1.43|✅|\n",
    "|wealth_dynamics|2023-09-22 00:41|cache|35.03|✅|\n",
    "|zreferences|2023-09-22 00:28|cache|1.43|✅|\n",
    "\n",
    "<a id='status-machine-details'></a>\n",
    "These lectures are built on `linux` instances through `github actions`  and `amazon web services (aws)` to\n",
    "enable access to a `gpu`. These lectures are built on a [p3.2xlarge](https://aws.amazon.com/ec2/instance-types/p3/)\n",
    "that has access to `8 vcpu's`, a `V100 NVIDIA Tesla GPU`, and `61 Gb` of memory.\n",
    "\n",
    "You can check the backend used by JAX using:"
   ]
  },
  {
   "cell_type": "code",
   "execution_count": null,
   "id": "600b3e38",
   "metadata": {
    "hide-output": false
   },
   "outputs": [],
   "source": [
    "import jax\n",
    "# Check if JAX is using GPU\n",
    "print(f\"JAX backend: {jax.devices()[0].platform}\")"
   ]
  },
  {
   "cell_type": "markdown",
   "id": "6f1c7b2e",
   "metadata": {},
   "source": [
    "and the hardware we are running on:"
   ]
  },
  {
   "cell_type": "code",
   "execution_count": null,
   "id": "5fc60411",
   "metadata": {
    "hide-output": false
   },
   "outputs": [],
   "source": [
    "!nvidia-smi"
   ]
  }
 ],
 "metadata": {
  "date": 1695354741.7065916,
  "filename": "status.md",
  "kernelspec": {
   "display_name": "Python",
   "language": "python3",
   "name": "python3"
  },
  "title": "Execution Statistics"
 },
 "nbformat": 4,
 "nbformat_minor": 5
}