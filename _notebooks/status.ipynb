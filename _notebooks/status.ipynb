{
 "cells": [
  {
   "cell_type": "markdown",
   "id": "cf09c07f",
   "metadata": {},
   "source": [
    "# Execution Statistics\n",
    "\n",
    "This table contains the latest execution statistics.\n",
    "\n",
    "[](https://jax.quantecon.org/aiyagari_jax.html)[](https://jax.quantecon.org/arellano.html)[](https://jax.quantecon.org/cake_eating_numerical.html)[](https://jax.quantecon.org/ifp_egm.html)[](https://jax.quantecon.org/intro.html)[](https://jax.quantecon.org/inventory_dynamics.html)[](https://jax.quantecon.org/inventory_ssd.html)[](https://jax.quantecon.org/jax_intro.html)[](https://jax.quantecon.org/kesten_processes.html)[](https://jax.quantecon.org/markov_asset.html)[](https://jax.quantecon.org/mle.html)[](https://jax.quantecon.org/newtons_method.html)[](https://jax.quantecon.org/opt_invest.html)[](https://jax.quantecon.org/opt_savings_1.html)[](https://jax.quantecon.org/opt_savings_2.html)[](https://jax.quantecon.org/short_path.html)[](https://jax.quantecon.org/.html)[](https://jax.quantecon.org/troubleshooting.html)[](https://jax.quantecon.org/wealth_dynamics.html)[](https://jax.quantecon.org/zreferences.html)|Document|Modified|Method|Run Time (s)|Status|\n",
    "|:------------------:|:------------------:|:------------------:|:------------------:|:------------------:|\n",
    "|aiyagari_jax|2024-03-14 01:41|cache|65.99|✅|\n",
    "|arellano|2024-03-14 01:41|cache|29.03|✅|\n",
    "|cake_eating_numerical|2024-03-14 01:41|cache|19.52|✅|\n",
    "|ifp_egm|2024-03-14 01:44|cache|180.77|✅|\n",
    "|intro|2024-03-14 01:44|cache|1.16|✅|\n",
    "|inventory_dynamics|2024-03-14 01:46|cache|69.93|✅|\n",
    "|inventory_ssd|2024-03-14 02:11|cache|1501.04|✅|\n",
    "|jax_intro|2024-03-14 02:11|cache|26.36|✅|\n",
    "|kesten_processes|2024-03-14 02:11|cache|20.82|✅|\n",
    "|markov_asset|2024-03-14 02:12|cache|19.02|✅|\n",
    "|mle|2024-03-14 02:12|cache|14.55|✅|\n",
    "|newtons_method|2024-03-14 02:15|cache|159.36|✅|\n",
    "|opt_invest|2024-03-14 02:15|cache|43.03|✅|\n",
    "|opt_savings_1|2024-03-14 02:16|cache|30.39|✅|\n",
    "|opt_savings_2|2024-03-14 02:16|cache|29.03|✅|\n",
    "|short_path|2024-03-14 02:16|cache|6.82|✅|\n",
    "|status|2024-03-14 02:17|cache|3.9|✅|\n",
    "|troubleshooting|2024-03-14 01:44|cache|1.16|✅|\n",
    "|wealth_dynamics|2024-03-14 02:17|cache|24.71|✅|\n",
    "|zreferences|2024-03-14 01:44|cache|1.16|✅|\n",
    "\n",
    "<a id='status-machine-details'></a>\n",
    "These lectures are built on `linux` instances through `github actions`  and `amazon web services (aws)` to\n",
    "enable access to a `gpu`. These lectures are built on a [p3.2xlarge](https://aws.amazon.com/ec2/instance-types/p3/)\n",
    "that has access to `8 vcpu's`, a `V100 NVIDIA Tesla GPU`, and `61 Gb` of memory.\n",
    "\n",
    "You can check the backend used by JAX using:"
   ]
  },
  {
   "cell_type": "code",
   "execution_count": null,
   "id": "9209c21e",
   "metadata": {
    "hide-output": false
   },
   "outputs": [],
   "source": [
    "import jax\n",
    "# Check if JAX is using GPU\n",
    "print(f\"JAX backend: {jax.devices()[0].platform}\")"
   ]
  },
  {
   "cell_type": "markdown",
   "id": "5ab5be89",
   "metadata": {},
   "source": [
    "and the hardware we are running on:"
   ]
  },
  {
   "cell_type": "code",
   "execution_count": null,
   "id": "38f9dd04",
   "metadata": {
    "hide-output": false
   },
   "outputs": [],
   "source": [
    "!nvidia-smi"
   ]
  }
 ],
 "metadata": {
  "date": 1710383116.2021837,
  "filename": "status.md",
  "kernelspec": {
   "display_name": "Python",
   "language": "python3",
   "name": "python3"
  },
  "title": "Execution Statistics"
 },
 "nbformat": 4,
 "nbformat_minor": 5
}