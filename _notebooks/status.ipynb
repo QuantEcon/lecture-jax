{
 "cells": [
  {
   "cell_type": "markdown",
   "id": "e3222441",
   "metadata": {},
   "source": [
    "# Execution Statistics\n",
    "\n",
    "This table contains the latest execution statistics.\n",
    "\n",
    "[](https://jax.quantecon.org/aiyagari_jax.html)[](https://jax.quantecon.org/arellano.html)[](https://jax.quantecon.org/autodiff.html)[](https://jax.quantecon.org/hopenhayn.html)[](https://jax.quantecon.org/ifp_egm.html)[](https://jax.quantecon.org/intro.html)[](https://jax.quantecon.org/inventory_dynamics.html)[](https://jax.quantecon.org/inventory_ssd.html)[](https://jax.quantecon.org/jax_intro.html)[](https://jax.quantecon.org/jax_nn.html)[](https://jax.quantecon.org/job_search.html)[](https://jax.quantecon.org/keras.html)[](https://jax.quantecon.org/kesten_processes.html)[](https://jax.quantecon.org/lucas_model.html)[](https://jax.quantecon.org/markov_asset.html)[](https://jax.quantecon.org/mle.html)[](https://jax.quantecon.org/newtons_method.html)[](https://jax.quantecon.org/opt_invest.html)[](https://jax.quantecon.org/opt_savings_1.html)[](https://jax.quantecon.org/opt_savings_2.html)[](https://jax.quantecon.org/overborrowing.html)[](https://jax.quantecon.org/short_path.html)[](https://jax.quantecon.org/.html)[](https://jax.quantecon.org/troubleshooting.html)[](https://jax.quantecon.org/wealth_dynamics.html)[](https://jax.quantecon.org/zreferences.html)|Document|Modified|Method|Run Time (s)|Status|\n",
    "|:------------------:|:------------------:|:------------------:|:------------------:|:------------------:|\n",
    "|aiyagari_jax|2025-05-19 03:32|cache|68.83|✅|\n",
    "|arellano|2025-05-19 03:33|cache|22.52|✅|\n",
    "|autodiff|2025-05-19 03:33|cache|13.19|✅|\n",
    "|hopenhayn|2025-05-19 03:33|cache|24.88|✅|\n",
    "|ifp_egm|2025-05-19 03:36|cache|143.13|✅|\n",
    "|intro|2025-05-19 03:36|cache|1.18|✅|\n",
    "|inventory_dynamics|2025-05-19 03:36|cache|9.7|✅|\n",
    "|inventory_ssd|2025-05-19 04:12|cache|2142.59|✅|\n",
    "|jax_intro|2025-05-19 04:12|cache|41.96|✅|\n",
    "|jax_nn|2025-05-19 04:14|cache|97.76|✅|\n",
    "|job_search|2025-05-19 04:14|cache|10.27|✅|\n",
    "|keras|2025-05-19 04:14|cache|28.08|✅|\n",
    "|kesten_processes|2025-05-19 04:15|cache|15.29|✅|\n",
    "|lucas_model|2025-05-19 04:15|cache|20.16|✅|\n",
    "|markov_asset|2025-05-19 04:15|cache|11.93|✅|\n",
    "|mle|2025-05-19 04:16|cache|15.67|✅|\n",
    "|newtons_method|2025-05-19 04:19|cache|186.86|✅|\n",
    "|opt_invest|2025-05-19 04:19|cache|22.82|✅|\n",
    "|opt_savings_1|2025-05-19 04:20|cache|50.87|✅|\n",
    "|opt_savings_2|2025-05-19 04:20|cache|21.02|✅|\n",
    "|overborrowing|2025-05-20 05:59|cache|34.54|✅|\n",
    "|short_path|2025-05-19 04:21|cache|4.46|✅|\n",
    "|status|2025-05-19 04:21|cache|2.47|✅|\n",
    "|troubleshooting|2025-05-19 03:36|cache|1.18|✅|\n",
    "|wealth_dynamics|2025-05-19 04:23|cache|158.44|✅|\n",
    "|zreferences|2025-05-19 03:36|cache|1.18|✅|\n",
    "\n",
    "<a id='status-machine-details'></a>\n",
    "These lectures are built on `linux` instances through `github actions` that has\n",
    "access to a `gpu`. These lectures make use of the nvidia `T4` card.\n",
    "\n",
    "You can check the backend used by JAX using:"
   ]
  },
  {
   "cell_type": "code",
   "execution_count": null,
   "id": "e95e97f8",
   "metadata": {
    "hide-output": false
   },
   "outputs": [],
   "source": [
    "import jax\n",
    "# Check if JAX is using GPU\n",
    "print(f\"JAX backend: {jax.devices()[0].platform}\")"
   ]
  },
  {
   "cell_type": "markdown",
   "id": "e58a5a3e",
   "metadata": {},
   "source": [
    "and the hardware we are running on:"
   ]
  },
  {
   "cell_type": "code",
   "execution_count": null,
   "id": "be83f340",
   "metadata": {
    "hide-output": false
   },
   "outputs": [],
   "source": [
    "!nvidia-smi"
   ]
  }
 ],
 "metadata": {
  "date": 1747720850.9826515,
  "filename": "status.md",
  "kernelspec": {
   "display_name": "Python",
   "language": "python3",
   "name": "python3"
  },
  "title": "Execution Statistics"
 },
 "nbformat": 4,
 "nbformat_minor": 5
}