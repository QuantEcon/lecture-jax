{
 "cells": [
  {
   "cell_type": "markdown",
   "id": "e8159e2c",
   "metadata": {},
   "source": [
    "# Execution Statistics\n",
    "\n",
    "This table contains the latest execution statistics.\n",
    "\n",
    "[](https://jax.quantecon.org/aiyagari_jax.html)[](https://jax.quantecon.org/arellano.html)[](https://jax.quantecon.org/cake_eating_numerical.html)[](https://jax.quantecon.org/hopenhayn.html)[](https://jax.quantecon.org/ifp_egm.html)[](https://jax.quantecon.org/intro.html)[](https://jax.quantecon.org/inventory_dynamics.html)[](https://jax.quantecon.org/inventory_ssd.html)[](https://jax.quantecon.org/jax_intro.html)[](https://jax.quantecon.org/job_search.html)[](https://jax.quantecon.org/kesten_processes.html)[](https://jax.quantecon.org/lucas_model.html)[](https://jax.quantecon.org/markov_asset.html)[](https://jax.quantecon.org/mle.html)[](https://jax.quantecon.org/newtons_method.html)[](https://jax.quantecon.org/opt_invest.html)[](https://jax.quantecon.org/opt_savings_1.html)[](https://jax.quantecon.org/opt_savings_2.html)[](https://jax.quantecon.org/overborrowing.html)[](https://jax.quantecon.org/short_path.html)[](https://jax.quantecon.org/.html)[](https://jax.quantecon.org/troubleshooting.html)[](https://jax.quantecon.org/wealth_dynamics.html)[](https://jax.quantecon.org/zreferences.html)|Document|Modified|Method|Run Time (s)|Status|\n",
    "|:------------------:|:------------------:|:------------------:|:------------------:|:------------------:|\n",
    "|aiyagari_jax|2024-05-02 01:51|cache|71.01|✅|\n",
    "|arellano|2024-05-02 01:52|cache|28.88|✅|\n",
    "|cake_eating_numerical|2024-05-02 01:52|cache|19.85|✅|\n",
    "|hopenhayn|2024-05-02 01:56|cache|232.7|✅|\n",
    "|ifp_egm|2024-05-02 01:59|cache|182.06|✅|\n",
    "|intro|2024-05-02 01:59|cache|1.16|✅|\n",
    "|inventory_dynamics|2024-05-02 02:00|cache|72.98|✅|\n",
    "|inventory_ssd|2024-05-02 02:25|cache|1512.47|✅|\n",
    "|jax_intro|2024-05-02 02:26|cache|27.25|✅|\n",
    "|job_search|2024-05-02 02:26|cache|13.39|✅|\n",
    "|kesten_processes|2024-05-02 02:26|cache|21.55|✅|\n",
    "|lucas_model|2024-05-02 02:27|cache|20.49|✅|\n",
    "|markov_asset|2024-05-02 02:27|cache|18.56|✅|\n",
    "|mle|2024-05-02 02:27|cache|14.91|✅|\n",
    "|newtons_method|2024-05-02 02:30|cache|159.73|✅|\n",
    "|opt_invest|2024-05-02 02:30|cache|18.54|✅|\n",
    "|opt_savings_1|2024-05-02 02:31|cache|35.2|✅|\n",
    "|opt_savings_2|2024-05-02 02:31|cache|18.39|✅|\n",
    "|overborrowing|2024-05-02 02:32|cache|41.16|✅|\n",
    "|short_path|2024-05-02 02:32|cache|6.8|✅|\n",
    "|status|2024-05-02 02:32|cache|3.85|✅|\n",
    "|troubleshooting|2024-05-02 01:59|cache|1.16|✅|\n",
    "|wealth_dynamics|2024-05-02 02:32|cache|26.03|✅|\n",
    "|zreferences|2024-05-02 01:59|cache|1.16|✅|\n",
    "\n",
    "<a id='status-machine-details'></a>\n",
    "These lectures are built on `linux` instances through `github actions`  and `amazon web services (aws)` to\n",
    "enable access to a `gpu`. These lectures are built on a [p3.2xlarge](https://aws.amazon.com/ec2/instance-types/p3/)\n",
    "that has access to `8 vcpu's`, a `V100 NVIDIA Tesla GPU`, and `61 Gb` of memory.\n",
    "\n",
    "You can check the backend used by JAX using:"
   ]
  },
  {
   "cell_type": "code",
   "execution_count": null,
   "id": "82c27714",
   "metadata": {
    "hide-output": false
   },
   "outputs": [],
   "source": [
    "import jax\n",
    "# Check if JAX is using GPU\n",
    "print(f\"JAX backend: {jax.devices()[0].platform}\")"
   ]
  },
  {
   "cell_type": "markdown",
   "id": "58c6e90b",
   "metadata": {},
   "source": [
    "and the hardware we are running on:"
   ]
  },
  {
   "cell_type": "code",
   "execution_count": null,
   "id": "9b0a734c",
   "metadata": {
    "hide-output": false
   },
   "outputs": [],
   "source": [
    "!nvidia-smi"
   ]
  }
 ],
 "metadata": {
  "date": 1714699246.637458,
  "filename": "status.md",
  "kernelspec": {
   "display_name": "Python",
   "language": "python3",
   "name": "python3"
  },
  "title": "Execution Statistics"
 },
 "nbformat": 4,
 "nbformat_minor": 5
}