{
 "cells": [
  {
   "cell_type": "markdown",
   "id": "24e4b7b1",
   "metadata": {},
   "source": [
    "# Execution Statistics\n",
    "\n",
    "This table contains the latest execution statistics.\n",
    "\n",
    "[](https://jax.quantecon.org/aiyagari_jax.html)[](https://jax.quantecon.org/arellano.html)[](https://jax.quantecon.org/cake_eating_numerical.html)[](https://jax.quantecon.org/ifp_egm.html)[](https://jax.quantecon.org/intro.html)[](https://jax.quantecon.org/inventory_dynamics.html)[](https://jax.quantecon.org/inventory_ssd.html)[](https://jax.quantecon.org/jax_intro.html)[](https://jax.quantecon.org/kesten_processes.html)[](https://jax.quantecon.org/lucas_model.html)[](https://jax.quantecon.org/markov_asset.html)[](https://jax.quantecon.org/mle.html)[](https://jax.quantecon.org/newtons_method.html)[](https://jax.quantecon.org/opt_invest.html)[](https://jax.quantecon.org/opt_savings_1.html)[](https://jax.quantecon.org/opt_savings_2.html)[](https://jax.quantecon.org/short_path.html)[](https://jax.quantecon.org/.html)[](https://jax.quantecon.org/troubleshooting.html)[](https://jax.quantecon.org/wealth_dynamics.html)[](https://jax.quantecon.org/zreferences.html)|Document|Modified|Method|Run Time (s)|Status|\n",
    "|:------------------:|:------------------:|:------------------:|:------------------:|:------------------:|\n",
    "|aiyagari_jax|2024-03-16 19:50|cache|69.98|✅|\n",
    "|arellano|2024-03-16 19:50|cache|27.84|✅|\n",
    "|cake_eating_numerical|2024-03-16 19:50|cache|19.31|✅|\n",
    "|ifp_egm|2024-03-16 19:53|cache|180.34|✅|\n",
    "|intro|2024-03-16 19:54|cache|1.15|✅|\n",
    "|inventory_dynamics|2024-03-16 19:55|cache|71.3|✅|\n",
    "|inventory_ssd|2024-03-16 20:20|cache|1509.06|✅|\n",
    "|jax_intro|2024-03-16 20:20|cache|25.84|✅|\n",
    "|kesten_processes|2024-03-16 20:21|cache|20.85|✅|\n",
    "|lucas_model|2024-03-16 20:21|cache|20.28|✅|\n",
    "|markov_asset|2024-03-16 20:21|cache|19.02|✅|\n",
    "|mle|2024-03-16 20:22|cache|14.51|✅|\n",
    "|newtons_method|2024-03-16 20:24|cache|160.73|✅|\n",
    "|opt_invest|2024-03-16 20:25|cache|17.9|✅|\n",
    "|opt_savings_1|2024-03-16 20:25|cache|34.68|✅|\n",
    "|opt_savings_2|2024-03-16 20:25|cache|17.56|✅|\n",
    "|short_path|2024-03-16 20:26|cache|6.74|✅|\n",
    "|status|2024-03-16 20:26|cache|3.75|✅|\n",
    "|troubleshooting|2024-03-16 19:54|cache|1.15|✅|\n",
    "|wealth_dynamics|2024-03-16 20:26|cache|24.69|✅|\n",
    "|zreferences|2024-03-16 19:54|cache|1.15|✅|\n",
    "\n",
    "<a id='status-machine-details'></a>\n",
    "These lectures are built on `linux` instances through `github actions`  and `amazon web services (aws)` to\n",
    "enable access to a `gpu`. These lectures are built on a [p3.2xlarge](https://aws.amazon.com/ec2/instance-types/p3/)\n",
    "that has access to `8 vcpu's`, a `V100 NVIDIA Tesla GPU`, and `61 Gb` of memory.\n",
    "\n",
    "You can check the backend used by JAX using:"
   ]
  },
  {
   "cell_type": "code",
   "execution_count": null,
   "id": "1dc453c3",
   "metadata": {
    "hide-output": false
   },
   "outputs": [],
   "source": [
    "import jax\n",
    "# Check if JAX is using GPU\n",
    "print(f\"JAX backend: {jax.devices()[0].platform}\")"
   ]
  },
  {
   "cell_type": "markdown",
   "id": "63a603f7",
   "metadata": {},
   "source": [
    "and the hardware we are running on:"
   ]
  },
  {
   "cell_type": "code",
   "execution_count": null,
   "id": "7afc2818",
   "metadata": {
    "hide-output": false
   },
   "outputs": [],
   "source": [
    "!nvidia-smi"
   ]
  }
 ],
 "metadata": {
  "date": 1710624843.8123891,
  "filename": "status.md",
  "kernelspec": {
   "display_name": "Python",
   "language": "python3",
   "name": "python3"
  },
  "title": "Execution Statistics"
 },
 "nbformat": 4,
 "nbformat_minor": 5
}