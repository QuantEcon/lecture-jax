{
 "cells": [
  {
   "cell_type": "markdown",
   "id": "5b0c4076",
   "metadata": {},
   "source": [
    "# Execution Statistics\n",
    "\n",
    "This table contains the latest execution statistics.\n",
    "\n",
    "[](https://jax.quantecon.org/aiyagari_jax.html)[](https://jax.quantecon.org/arellano.html)[](https://jax.quantecon.org/ifp_egm.html)[](https://jax.quantecon.org/intro.html)[](https://jax.quantecon.org/inventory_dynamics.html)[](https://jax.quantecon.org/jax_intro.html)[](https://jax.quantecon.org/kesten_processes.html)[](https://jax.quantecon.org/markov_asset.html)[](https://jax.quantecon.org/newtons_method.html)[](https://jax.quantecon.org/opt_invest.html)[](https://jax.quantecon.org/opt_savings.html)[](https://jax.quantecon.org/short_path.html)[](https://jax.quantecon.org/.html)[](https://jax.quantecon.org/troubleshooting.html)[](https://jax.quantecon.org/wealth_dynamics.html)[](https://jax.quantecon.org/zreferences.html)|Document|Modified|Method|Run Time (s)|Status|\n",
    "|:------------------:|:------------------:|:------------------:|:------------------:|:------------------:|\n",
    "|aiyagari_jax|2023-05-16 11:06|cache|58.96|✅|\n",
    "|arellano|2023-05-16 11:07|cache|36.03|✅|\n",
    "|ifp_egm|2023-05-16 11:08|cache|73.04|✅|\n",
    "|intro|2023-05-16 11:08|cache|4.02|✅|\n",
    "|inventory_dynamics|2023-05-16 11:14|cache|357.04|✅|\n",
    "|jax_intro|2023-05-16 11:15|cache|38.03|✅|\n",
    "|kesten_processes|2023-05-16 11:15|cache|29.03|✅|\n",
    "|markov_asset|2023-05-16 11:16|cache|21.99|✅|\n",
    "|newtons_method|2023-05-16 11:18|cache|164.84|✅|\n",
    "|opt_invest|2023-05-16 11:21|cache|181.61|✅|\n",
    "|opt_savings|2023-05-16 11:22|cache|55.84|✅|\n",
    "|short_path|2023-05-16 11:23|cache|9.73|✅|\n",
    "|status|2023-05-16 11:23|cache|3.94|✅|\n",
    "|troubleshooting|2023-05-16 11:08|cache|4.02|✅|\n",
    "|wealth_dynamics|2023-05-16 11:23|cache|36.03|✅|\n",
    "|zreferences|2023-05-16 11:08|cache|4.02|✅|\n",
    "\n",
    "<a id='status-machine-details'></a>\n",
    "These lectures are built on `linux` instances through `github actions`  and `amazon web services (aws)` to\n",
    "enable access to a `gpu`. These lectures are built on a [p3.2xlarge](https://aws.amazon.com/ec2/instance-types/p3/)\n",
    "that has access to `8 vcpu's`, a `V100 NVIDIA Tesla GPU`, and `61 Gb` of memory.\n",
    "\n",
    "You can check the backend used by JAX using:"
   ]
  },
  {
   "cell_type": "code",
   "execution_count": null,
   "id": "c95f598d",
   "metadata": {
    "hide-output": false
   },
   "outputs": [],
   "source": [
    "import jax\n",
    "# Check if JAX is using GPU\n",
    "print(f\"JAX backend: {jax.devices()[0].platform}\")"
   ]
  },
  {
   "cell_type": "markdown",
   "id": "90c04310",
   "metadata": {},
   "source": [
    "and the hardware we are running on:"
   ]
  },
  {
   "cell_type": "code",
   "execution_count": null,
   "id": "13c9812e",
   "metadata": {
    "hide-output": false
   },
   "outputs": [],
   "source": [
    "!nvidia-smi"
   ]
  }
 ],
 "metadata": {
  "date": 1684236579.1517284,
  "filename": "status.md",
  "kernelspec": {
   "display_name": "Python",
   "language": "python3",
   "name": "python3"
  },
  "title": "Execution Statistics"
 },
 "nbformat": 4,
 "nbformat_minor": 5
}