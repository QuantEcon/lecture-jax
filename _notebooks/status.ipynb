{
 "cells": [
  {
   "cell_type": "markdown",
   "id": "54f5e9c7",
   "metadata": {},
   "source": [
    "# Execution Statistics\n",
    "\n",
    "This table contains the latest execution statistics.\n",
    "\n",
    "[](https://jax.quantecon.org/aiyagari_jax.html)[](https://jax.quantecon.org/arellano.html)[](https://jax.quantecon.org/cake_eating_numerical.html)[](https://jax.quantecon.org/ifp_egm.html)[](https://jax.quantecon.org/intro.html)[](https://jax.quantecon.org/inventory_dynamics.html)[](https://jax.quantecon.org/inventory_ssd.html)[](https://jax.quantecon.org/jax_intro.html)[](https://jax.quantecon.org/kesten_processes.html)[](https://jax.quantecon.org/markov_asset.html)[](https://jax.quantecon.org/mle.html)[](https://jax.quantecon.org/newtons_method.html)[](https://jax.quantecon.org/opt_invest.html)[](https://jax.quantecon.org/opt_savings.html)[](https://jax.quantecon.org/short_path.html)[](https://jax.quantecon.org/.html)[](https://jax.quantecon.org/troubleshooting.html)[](https://jax.quantecon.org/wealth_dynamics.html)[](https://jax.quantecon.org/zreferences.html)|Document|Modified|Method|Run Time (s)|Status|\n",
    "|:------------------:|:------------------:|:------------------:|:------------------:|:------------------:|\n",
    "|aiyagari_jax|2023-08-14 03:58|cache|60.76|✅|\n",
    "|arellano|2023-08-14 03:59|cache|35.94|✅|\n",
    "|cake_eating_numerical|2023-08-14 03:59|cache|24.03|✅|\n",
    "|ifp_egm|2023-08-14 04:00|cache|75.06|✅|\n",
    "|intro|2023-08-14 04:00|cache|4.02|✅|\n",
    "|inventory_dynamics|2023-08-14 04:06|cache|369.16|✅|\n",
    "|inventory_ssd|2023-08-14 04:34|cache|1630.75|✅|\n",
    "|jax_intro|2023-08-14 04:34|cache|50.69|✅|\n",
    "|kesten_processes|2023-08-14 04:35|cache|30.03|✅|\n",
    "|markov_asset|2023-08-14 04:35|cache|25.03|✅|\n",
    "|mle|2023-08-14 04:36|cache|20.03|✅|\n",
    "|newtons_method|2023-08-14 04:39|cache|164.65|✅|\n",
    "|opt_invest|2023-08-14 04:42|cache|187.75|✅|\n",
    "|opt_savings|2023-08-14 04:43|cache|63.04|✅|\n",
    "|short_path|2023-08-14 04:43|cache|10.0|✅|\n",
    "|status|2023-08-14 04:43|cache|4.01|✅|\n",
    "|troubleshooting|2023-08-14 04:00|cache|4.02|✅|\n",
    "|wealth_dynamics|2023-08-14 04:44|cache|34.01|✅|\n",
    "|zreferences|2023-08-14 04:00|cache|4.02|✅|\n",
    "\n",
    "<a id='status-machine-details'></a>\n",
    "These lectures are built on `linux` instances through `github actions`  and `amazon web services (aws)` to\n",
    "enable access to a `gpu`. These lectures are built on a [p3.2xlarge](https://aws.amazon.com/ec2/instance-types/p3/)\n",
    "that has access to `8 vcpu's`, a `V100 NVIDIA Tesla GPU`, and `61 Gb` of memory.\n",
    "\n",
    "You can check the backend used by JAX using:"
   ]
  },
  {
   "cell_type": "code",
   "execution_count": null,
   "id": "06b2f5a1",
   "metadata": {
    "hide-output": false
   },
   "outputs": [],
   "source": [
    "import jax\n",
    "# Check if JAX is using GPU\n",
    "print(f\"JAX backend: {jax.devices()[0].platform}\")"
   ]
  },
  {
   "cell_type": "markdown",
   "id": "fa0017c5",
   "metadata": {},
   "source": [
    "and the hardware we are running on:"
   ]
  },
  {
   "cell_type": "code",
   "execution_count": null,
   "id": "be9808b4",
   "metadata": {
    "hide-output": false
   },
   "outputs": [],
   "source": [
    "!nvidia-smi"
   ]
  }
 ],
 "metadata": {
  "date": 1691989746.2400897,
  "filename": "status.md",
  "kernelspec": {
   "display_name": "Python",
   "language": "python3",
   "name": "python3"
  },
  "title": "Execution Statistics"
 },
 "nbformat": 4,
 "nbformat_minor": 5
}