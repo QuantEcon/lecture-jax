{
 "cells": [
  {
   "cell_type": "markdown",
   "id": "b5766585",
   "metadata": {},
   "source": [
    "# Optimal Savings II: Alternative Algorithms"
   ]
  },
  {
   "cell_type": "markdown",
   "id": "8b8a0ba0",
   "metadata": {},
   "source": [
    "# GPU\n",
    "\n",
    "This lecture was built using [hardware](https://jax.quantecon.org/status.html#status-machine-details) that has access to a GPU.\n",
    "\n",
    "To run this lecture on [Google Colab](https://colab.research.google.com/), click on the “play” icon top right, select Colab, and set the runtime environment to include a GPU.\n",
    "\n",
    "To run this lecture on your own machine, you need to install [Google JAX](https://github.com/google/jax).\n",
    "\n",
    "In [Optimal Savings I: Value Function Iteration](https://jax.quantecon.org/opt_savings_1.html) we solved a simple version of the household optimal\n",
    "savings problem via value function iteration (VFI) using JAX.\n",
    "\n",
    "In this lecture we tackle exactly the same problem while adding in two\n",
    "alternative algorithms:\n",
    "\n",
    "- optimistic policy iteration (OPI) and  \n",
    "- Howard policy iteration (HPI).  \n",
    "\n",
    "\n",
    "We will see that both of these algorithms outperform traditional VFI.\n",
    "\n",
    "One reason for this is that the algorithms have good convergence properties.\n",
    "\n",
    "Another is that one of them, HPI, is particularly well suited to pairing with\n",
    "JAX.\n",
    "\n",
    "The reason is that HPI uses a relatively small number of computationally expensive steps,\n",
    "whereas VFI uses a longer sequence of small steps.\n",
    "\n",
    "In other words, VFI is inherently more sequential than HPI, and sequential\n",
    "routines are hard to parallelize.\n",
    "\n",
    "By comparison, HPI is less sequential – the small number of computationally\n",
    "intensive steps can be effectively parallelized by JAX.\n",
    "\n",
    "This is particularly valuable when the underlying hardware includes a GPU.\n",
    "\n",
    "Details on VFI, HPI and OPI can be found in [this book](https://dp.quantecon.org), for which a PDF is freely available.\n",
    "\n",
    "Here we assume readers have some knowledge of the algorithms and focus on\n",
    "computation.\n",
    "\n",
    "For the details of the savings model, readers can refer to [Optimal Savings I: Value Function Iteration](https://jax.quantecon.org/opt_savings_1.html).\n",
    "\n",
    "In addition to what’s in Anaconda, this lecture will need the following libraries:"
   ]
  },
  {
   "cell_type": "code",
   "execution_count": null,
   "id": "cf1698aa",
   "metadata": {
    "hide-output": false
   },
   "outputs": [],
   "source": [
    "!pip install quantecon"
   ]
  },
  {
   "cell_type": "markdown",
   "id": "3447edb4",
   "metadata": {},
   "source": [
    "We will use the following imports:"
   ]
  },
  {
   "cell_type": "code",
   "execution_count": null,
   "id": "38fcf639",
   "metadata": {
    "hide-output": false
   },
   "outputs": [],
   "source": [
    "import quantecon as qe\n",
    "import jax\n",
    "import jax.numpy as jnp\n",
    "from collections import namedtuple\n",
    "import matplotlib.pyplot as plt\n",
    "import time"
   ]
  },
  {
   "cell_type": "markdown",
   "id": "cda4af9a",
   "metadata": {},
   "source": [
    "Let’s check the GPU we are running."
   ]
  },
  {
   "cell_type": "code",
   "execution_count": null,
   "id": "b57fb4d3",
   "metadata": {
    "hide-output": false
   },
   "outputs": [],
   "source": [
    "!nvidia-smi"
   ]
  },
  {
   "cell_type": "markdown",
   "id": "6fcbf402",
   "metadata": {},
   "source": [
    "We’ll use 64 bit floats to gain extra precision."
   ]
  },
  {
   "cell_type": "code",
   "execution_count": null,
   "id": "30d8246c",
   "metadata": {
    "hide-output": false
   },
   "outputs": [],
   "source": [
    "jax.config.update(\"jax_enable_x64\", True)"
   ]
  },
  {
   "cell_type": "markdown",
   "id": "9454da9c",
   "metadata": {},
   "source": [
    "## Model primitives\n",
    "\n",
    "First we define a model that stores parameters and grids.\n",
    "\n",
    "The [following code](https://jax.quantecon.org/opt_savings_1.html#prgm-create-consumption-model) is repeated from [Optimal Savings I: Value Function Iteration](https://jax.quantecon.org/opt_savings_1.html)."
   ]
  },
  {
   "cell_type": "code",
   "execution_count": null,
   "id": "95917289",
   "metadata": {
    "hide-output": false
   },
   "outputs": [],
   "source": [
    "def create_consumption_model(R=1.01,                    # Gross interest rate\n",
    "                             β=0.98,                    # Discount factor\n",
    "                             γ=2,                       # CRRA parameter\n",
    "                             w_min=0.01,                # Min wealth\n",
    "                             w_max=5.0,                 # Max wealth\n",
    "                             w_size=150,                # Grid side\n",
    "                             ρ=0.9, ν=0.1, y_size=100): # Income parameters\n",
    "    \"\"\"\n",
    "    A function that takes in parameters and returns parameters and grids \n",
    "    for the optimal savings problem.\n",
    "    \"\"\"\n",
    "    w_grid = jnp.linspace(w_min, w_max, w_size)\n",
    "    mc = qe.tauchen(n=y_size, rho=ρ, sigma=ν)\n",
    "    y_grid, Q = jnp.exp(mc.state_values), jax.device_put(mc.P)\n",
    "    sizes = w_size, y_size\n",
    "    return (β, R, γ), sizes, (w_grid, y_grid, Q)"
   ]
  },
  {
   "cell_type": "markdown",
   "id": "aaaa6390",
   "metadata": {},
   "source": [
    "Here’s the right hand side of the Bellman equation:"
   ]
  },
  {
   "cell_type": "code",
   "execution_count": null,
   "id": "24ec70d4",
   "metadata": {
    "hide-output": false
   },
   "outputs": [],
   "source": [
    "def B(v, constants, sizes, arrays):\n",
    "    \"\"\"\n",
    "    A vectorized version of the right-hand side of the Bellman equation\n",
    "    (before maximization), which is a 3D array representing\n",
    "\n",
    "        B(w, y, w′) = u(Rw + y - w′) + β Σ_y′ v(w′, y′) Q(y, y′)\n",
    "\n",
    "    for all (w, y, w′).\n",
    "    \"\"\"\n",
    "\n",
    "    # Unpack\n",
    "    β, R, γ = constants\n",
    "    w_size, y_size = sizes\n",
    "    w_grid, y_grid, Q = arrays\n",
    "\n",
    "    # Compute current rewards r(w, y, wp) as array r[i, j, ip]\n",
    "    w  = jnp.reshape(w_grid, (w_size, 1, 1))    # w[i]   ->  w[i, j, ip]\n",
    "    y  = jnp.reshape(y_grid, (1, y_size, 1))    # z[j]   ->  z[i, j, ip]\n",
    "    wp = jnp.reshape(w_grid, (1, 1, w_size))    # wp[ip] -> wp[i, j, ip]\n",
    "    c = R * w + y - wp\n",
    "\n",
    "    # Calculate continuation rewards at all combinations of (w, y, wp)\n",
    "    v = jnp.reshape(v, (1, 1, w_size, y_size))  # v[ip, jp] -> v[i, j, ip, jp]\n",
    "    Q = jnp.reshape(Q, (1, y_size, 1, y_size))  # Q[j, jp]  -> Q[i, j, ip, jp]\n",
    "    EV = jnp.sum(v * Q, axis=3)                 # sum over last index jp\n",
    "\n",
    "    # Compute the right-hand side of the Bellman equation\n",
    "    return jnp.where(c > 0, c**(1-γ)/(1-γ) + β * EV, -jnp.inf)"
   ]
  },
  {
   "cell_type": "markdown",
   "id": "40b775a1",
   "metadata": {},
   "source": [
    "## Operators\n",
    "\n",
    "We define a function to compute the current rewards $ r_\\sigma $ given policy $ \\sigma $,\n",
    "which is defined as the vector\n",
    "\n",
    "$$\n",
    "r_\\sigma(w, y) := r(w, y, \\sigma(w, y))\n",
    "$$"
   ]
  },
  {
   "cell_type": "code",
   "execution_count": null,
   "id": "75666b5c",
   "metadata": {
    "hide-output": false
   },
   "outputs": [],
   "source": [
    "def compute_r_σ(σ, constants, sizes, arrays):\n",
    "    \"\"\"\n",
    "    Compute the array r_σ[i, j] = r[i, j, σ[i, j]], which gives current\n",
    "    rewards given policy σ.\n",
    "    \"\"\"\n",
    "\n",
    "    # Unpack model\n",
    "    β, R, γ = constants\n",
    "    w_size, y_size = sizes\n",
    "    w_grid, y_grid, Q = arrays\n",
    "\n",
    "    # Compute r_σ[i, j]\n",
    "    w = jnp.reshape(w_grid, (w_size, 1))\n",
    "    y = jnp.reshape(y_grid, (1, y_size))\n",
    "    wp = w_grid[σ]\n",
    "    c = R * w + y - wp\n",
    "    r_σ = c**(1-γ)/(1-γ)\n",
    "\n",
    "    return r_σ"
   ]
  },
  {
   "cell_type": "markdown",
   "id": "1d00eabf",
   "metadata": {},
   "source": [
    "Now we define the policy operator $ T_\\sigma $"
   ]
  },
  {
   "cell_type": "code",
   "execution_count": null,
   "id": "1e11e61b",
   "metadata": {
    "hide-output": false
   },
   "outputs": [],
   "source": [
    "def T_σ(v, σ, constants, sizes, arrays):\n",
    "    \"The σ-policy operator.\"\n",
    "\n",
    "    # Unpack model\n",
    "    β, R, γ = constants\n",
    "    w_size, y_size = sizes\n",
    "    w_grid, y_grid, Q = arrays\n",
    "\n",
    "    r_σ = compute_r_σ(σ, constants, sizes, arrays)\n",
    "\n",
    "    # Compute the array v[σ[i, j], jp]\n",
    "    yp_idx = jnp.arange(y_size)\n",
    "    yp_idx = jnp.reshape(yp_idx, (1, 1, y_size))\n",
    "    σ = jnp.reshape(σ, (w_size, y_size, 1))\n",
    "    V = v[σ, yp_idx]\n",
    "\n",
    "    # Convert Q[j, jp] to Q[i, j, jp]\n",
    "    Q = jnp.reshape(Q, (1, y_size, y_size))\n",
    "\n",
    "    # Calculate the expected sum Σ_jp v[σ[i, j], jp] * Q[i, j, jp]\n",
    "    EV = jnp.sum(V * Q, axis=2)\n",
    "\n",
    "    return r_σ + β * EV"
   ]
  },
  {
   "cell_type": "markdown",
   "id": "b9d55c41",
   "metadata": {},
   "source": [
    "and the Bellman operator $ T $"
   ]
  },
  {
   "cell_type": "code",
   "execution_count": null,
   "id": "53fcc05b",
   "metadata": {
    "hide-output": false
   },
   "outputs": [],
   "source": [
    "def T(v, constants, sizes, arrays):\n",
    "    \"The Bellman operator.\"\n",
    "    return jnp.max(B(v, constants, sizes, arrays), axis=2)"
   ]
  },
  {
   "cell_type": "markdown",
   "id": "0332ecdf",
   "metadata": {},
   "source": [
    "The next function computes a $ v $-greedy policy given $ v $"
   ]
  },
  {
   "cell_type": "code",
   "execution_count": null,
   "id": "a5b8273a",
   "metadata": {
    "hide-output": false
   },
   "outputs": [],
   "source": [
    "def get_greedy(v, constants, sizes, arrays):\n",
    "    \"Computes a v-greedy policy, returned as a set of indices.\"\n",
    "    return jnp.argmax(B(v, constants, sizes, arrays), axis=2)"
   ]
  },
  {
   "cell_type": "markdown",
   "id": "a3fd7b08",
   "metadata": {},
   "source": [
    "The function below computes the value $ v_\\sigma $ of following policy $ \\sigma $.\n",
    "\n",
    "This lifetime value is a function $ v_\\sigma $ that satisfies\n",
    "\n",
    "$$\n",
    "v_\\sigma(w, y) = r_\\sigma(w, y) + \\beta \\sum_{y'} v_\\sigma(\\sigma(w, y), y') Q(y, y')\n",
    "$$\n",
    "\n",
    "We wish to solve this equation for $ v_\\sigma $.\n",
    "\n",
    "Suppose we define the linear operator $ L_\\sigma $ by\n",
    "\n",
    "$$\n",
    "(L_\\sigma v)(w, y) = v(w, y) - \\beta \\sum_{y'} v(\\sigma(w, y), y') Q(y, y')\n",
    "$$\n",
    "\n",
    "With this notation, the problem is to solve for $ v $ via\n",
    "\n",
    "$$\n",
    "(L_{\\sigma} v)(w, y) = r_\\sigma(w, y)\n",
    "$$\n",
    "\n",
    "In vector for this is $ L_\\sigma v = r_\\sigma $, which tells us that the function\n",
    "we seek is\n",
    "\n",
    "$$\n",
    "v_\\sigma = L_\\sigma^{-1} r_\\sigma\n",
    "$$\n",
    "\n",
    "JAX allows us to solve linear systems defined in terms of operators; the first\n",
    "step is to define the function $ L_{\\sigma} $."
   ]
  },
  {
   "cell_type": "code",
   "execution_count": null,
   "id": "8bc9a226",
   "metadata": {
    "hide-output": false
   },
   "outputs": [],
   "source": [
    "def L_σ(v, σ, constants, sizes, arrays):\n",
    "    \"\"\"\n",
    "    Here we set up the linear map v -> L_σ v, where \n",
    "\n",
    "        (L_σ v)(w, y) = v(w, y) - β Σ_y′ v(σ(w, y), y′) Q(y, y′)\n",
    "\n",
    "    \"\"\"\n",
    "\n",
    "    β, R, γ = constants\n",
    "    w_size, y_size = sizes\n",
    "    w_grid, y_grid, Q = arrays\n",
    "\n",
    "    # Set up the array v[σ[i, j], jp]\n",
    "    zp_idx = jnp.arange(y_size)\n",
    "    zp_idx = jnp.reshape(zp_idx, (1, 1, y_size))\n",
    "    σ = jnp.reshape(σ, (w_size, y_size, 1))\n",
    "    V = v[σ, zp_idx]\n",
    "\n",
    "    # Expand Q[j, jp] to Q[i, j, jp]\n",
    "    Q = jnp.reshape(Q, (1, y_size, y_size))\n",
    "\n",
    "    # Compute and return v[i, j] - β Σ_jp v[σ[i, j], jp] * Q[j, jp]\n",
    "    return v - β * jnp.sum(V * Q, axis=2)"
   ]
  },
  {
   "cell_type": "markdown",
   "id": "3e90581e",
   "metadata": {},
   "source": [
    "Now we can define a function to compute $ v_{\\sigma} $"
   ]
  },
  {
   "cell_type": "code",
   "execution_count": null,
   "id": "10e699cd",
   "metadata": {
    "hide-output": false
   },
   "outputs": [],
   "source": [
    "def get_value(σ, constants, sizes, arrays):\n",
    "    \"Get the value v_σ of policy σ by inverting the linear map L_σ.\"\n",
    "\n",
    "    # Unpack\n",
    "    β, R, γ = constants\n",
    "    w_size, y_size = sizes\n",
    "    w_grid, y_grid, Q = arrays\n",
    "\n",
    "    r_σ = compute_r_σ(σ, constants, sizes, arrays)\n",
    "\n",
    "    # Reduce L_σ to a function in v\n",
    "    partial_L_σ = lambda v: L_σ(v, σ, constants, sizes, arrays)\n",
    "\n",
    "    return jax.scipy.sparse.linalg.bicgstab(partial_L_σ, r_σ)[0]"
   ]
  },
  {
   "cell_type": "markdown",
   "id": "f7809d3b",
   "metadata": {},
   "source": [
    "## JIT compiled versions"
   ]
  },
  {
   "cell_type": "code",
   "execution_count": null,
   "id": "c20d7bab",
   "metadata": {
    "hide-output": false
   },
   "outputs": [],
   "source": [
    "B = jax.jit(B, static_argnums=(2,))\n",
    "compute_r_σ = jax.jit(compute_r_σ, static_argnums=(2,))\n",
    "T = jax.jit(T, static_argnums=(2,))\n",
    "get_greedy = jax.jit(get_greedy, static_argnums=(2,))\n",
    "get_value = jax.jit(get_value, static_argnums=(2,))\n",
    "T_σ = jax.jit(T_σ, static_argnums=(3,))\n",
    "L_σ = jax.jit(L_σ, static_argnums=(3,))"
   ]
  },
  {
   "cell_type": "markdown",
   "id": "c1d6d118",
   "metadata": {},
   "source": [
    "We use successive approximation for VFI."
   ]
  },
  {
   "cell_type": "code",
   "execution_count": null,
   "id": "40d09050",
   "metadata": {
    "hide-output": false
   },
   "outputs": [],
   "source": [
    "def successive_approx_jax(T,                     # Operator (callable)\n",
    "                          x_0,                   # Initial condition                \n",
    "                          tolerance=1e-6,        # Error tolerance\n",
    "                          max_iter=10_000):      # Max iteration bound\n",
    "    def body_fun(k_x_err):\n",
    "        k, x, error = k_x_err\n",
    "        x_new = T(x)\n",
    "        error = jnp.max(jnp.abs(x_new - x))\n",
    "        return k + 1, x_new, error\n",
    "\n",
    "    def cond_fun(k_x_err):\n",
    "        k, x, error = k_x_err\n",
    "        return jnp.logical_and(error > tolerance, k < max_iter)\n",
    "\n",
    "    k, x, error = jax.lax.while_loop(cond_fun, body_fun, (1, x_0, tolerance + 1))\n",
    "    return x\n",
    "\n",
    "successive_approx_jax = jax.jit(successive_approx_jax, static_argnums=(0,))"
   ]
  },
  {
   "cell_type": "markdown",
   "id": "d7cbe14d",
   "metadata": {},
   "source": [
    "## Solvers\n",
    "\n",
    "Now we define the solvers, which implement VFI, HPI and OPI."
   ]
  },
  {
   "cell_type": "code",
   "execution_count": null,
   "id": "5cd17d26",
   "metadata": {
    "hide-output": false
   },
   "outputs": [],
   "source": [
    "# Implements VFI-Value Function iteration\n",
    "\n",
    "def value_iteration(model, tol=1e-5):\n",
    "    constants, sizes, arrays = model\n",
    "    vz = jnp.zeros(sizes)\n",
    "    _T = lambda v: T(v, constants, sizes, arrays)\n",
    "    v_star = successive_approx_jax(_T, vz, tolerance=tol)\n",
    "    return get_greedy(v_star, constants, sizes, arrays)"
   ]
  },
  {
   "cell_type": "code",
   "execution_count": null,
   "id": "7384d5dc",
   "metadata": {
    "hide-output": false
   },
   "outputs": [],
   "source": [
    "# Implements HPI-Howard policy iteration routine\n",
    "\n",
    "def policy_iteration(model, maxiter=250):\n",
    "    constants, sizes, arrays = model\n",
    "    σ = jnp.zeros(sizes, dtype=int)\n",
    "    i, error = 0, 1.0\n",
    "    while error > 0 and i < maxiter:\n",
    "        v_σ = get_value(σ, constants, sizes, arrays)\n",
    "        σ_new = get_greedy(v_σ, constants, sizes, arrays)\n",
    "        error = jnp.max(jnp.abs(σ_new - σ))\n",
    "        σ = σ_new\n",
    "        i = i + 1\n",
    "        print(f\"Concluded loop {i} with error {error}.\")\n",
    "    return σ"
   ]
  },
  {
   "cell_type": "code",
   "execution_count": null,
   "id": "1d6b6081",
   "metadata": {
    "hide-output": false
   },
   "outputs": [],
   "source": [
    "# Implements the OPI-Optimal policy Iteration routine\n",
    "\n",
    "def optimistic_policy_iteration(model, tol=1e-5, m=10):\n",
    "    constants, sizes, arrays = model\n",
    "    v = jnp.zeros(sizes)\n",
    "    error = tol + 1\n",
    "    while error > tol:\n",
    "        last_v = v\n",
    "        σ = get_greedy(v, constants, sizes, arrays)\n",
    "        for _ in range(m):\n",
    "            v = T_σ(v, σ, constants, sizes, arrays)\n",
    "        error = jnp.max(jnp.abs(v - last_v))\n",
    "    return get_greedy(v, constants, sizes, arrays)"
   ]
  },
  {
   "cell_type": "markdown",
   "id": "b4792d60",
   "metadata": {},
   "source": [
    "## Plots\n",
    "\n",
    "Create a model for consumption, perform policy iteration, and plot the resulting optimal policy function."
   ]
  },
  {
   "cell_type": "code",
   "execution_count": null,
   "id": "62e8eef5",
   "metadata": {
    "hide-output": false
   },
   "outputs": [],
   "source": [
    "model = create_consumption_model()\n",
    "# Unpack\n",
    "constants, sizes, arrays = model\n",
    "β, R, γ = constants\n",
    "w_size, y_size = sizes\n",
    "w_grid, y_grid, Q = arrays"
   ]
  },
  {
   "cell_type": "code",
   "execution_count": null,
   "id": "27cd9eed",
   "metadata": {
    "hide-output": false
   },
   "outputs": [],
   "source": [
    "σ_star = policy_iteration(model)\n",
    "\n",
    "fig, ax = plt.subplots()\n",
    "ax.plot(w_grid, w_grid, \"k--\", label=\"45\")\n",
    "ax.plot(w_grid, w_grid[σ_star[:, 1]], label=\"$\\\\sigma^*(\\cdot, y_1)$\")\n",
    "ax.plot(w_grid, w_grid[σ_star[:, -1]], label=\"$\\\\sigma^*(\\cdot, y_N)$\")\n",
    "ax.legend()\n",
    "plt.show()"
   ]
  },
  {
   "cell_type": "markdown",
   "id": "3482cd25",
   "metadata": {},
   "source": [
    "## Tests\n",
    "\n",
    "Here’s a quick test of the timing of each solver."
   ]
  },
  {
   "cell_type": "code",
   "execution_count": null,
   "id": "08384051",
   "metadata": {
    "hide-output": false
   },
   "outputs": [],
   "source": [
    "model = create_consumption_model()"
   ]
  },
  {
   "cell_type": "code",
   "execution_count": null,
   "id": "c6734c4d",
   "metadata": {
    "hide-output": false
   },
   "outputs": [],
   "source": [
    "print(\"Starting HPI.\")\n",
    "start_time = time.time()\n",
    "out = policy_iteration(model)\n",
    "elapsed = time.time() - start_time\n",
    "print(f\"HPI completed in {elapsed} seconds.\")"
   ]
  },
  {
   "cell_type": "code",
   "execution_count": null,
   "id": "b933965d",
   "metadata": {
    "hide-output": false
   },
   "outputs": [],
   "source": [
    "print(\"Starting VFI.\")\n",
    "start_time = time.time()\n",
    "out = value_iteration(model)\n",
    "elapsed = time.time() - start_time\n",
    "print(f\"VFI completed in {elapsed} seconds.\")"
   ]
  },
  {
   "cell_type": "code",
   "execution_count": null,
   "id": "fdf0a2ab",
   "metadata": {
    "hide-output": false
   },
   "outputs": [],
   "source": [
    "print(\"Starting OPI.\")\n",
    "start_time = time.time()\n",
    "out = optimistic_policy_iteration(model, m=100)\n",
    "elapsed = time.time() - start_time\n",
    "print(f\"OPI completed in {elapsed} seconds.\")"
   ]
  },
  {
   "cell_type": "code",
   "execution_count": null,
   "id": "8b2b48a3",
   "metadata": {
    "hide-output": false
   },
   "outputs": [],
   "source": [
    "def run_algorithm(algorithm, model, **kwargs):\n",
    "    start_time = time.time()\n",
    "    result = algorithm(model, **kwargs)\n",
    "    end_time = time.time()\n",
    "    elapsed_time = end_time - start_time\n",
    "    print(f\"{algorithm.__name__} completed in {elapsed_time:.2f} seconds.\")\n",
    "    return result, elapsed_time"
   ]
  },
  {
   "cell_type": "code",
   "execution_count": null,
   "id": "d947521e",
   "metadata": {
    "hide-output": false
   },
   "outputs": [],
   "source": [
    "model = create_consumption_model()\n",
    "σ_pi, pi_time = run_algorithm(policy_iteration, model)\n",
    "σ_vfi, vfi_time = run_algorithm(value_iteration, model, tol=1e-5)\n",
    "\n",
    "m_vals = range(5, 600, 40)\n",
    "opi_times = []\n",
    "for m in m_vals:\n",
    "    σ_opi, opi_time = run_algorithm(optimistic_policy_iteration, model, m=m, tol=1e-5)\n",
    "    opi_times.append(opi_time)"
   ]
  },
  {
   "cell_type": "code",
   "execution_count": null,
   "id": "ef3002a6",
   "metadata": {
    "hide-output": false
   },
   "outputs": [],
   "source": [
    "fig, ax = plt.subplots()\n",
    "ax.plot(m_vals, jnp.full(len(m_vals), pi_time), lw=2, label=\"Howard policy iteration\")\n",
    "ax.plot(m_vals, jnp.full(len(m_vals), vfi_time), lw=2, label=\"value function iteration\")\n",
    "ax.plot(m_vals, opi_times, lw=2, label=\"optimistic policy iteration\")\n",
    "ax.legend(frameon=False)\n",
    "ax.set_xlabel(\"$m$\")\n",
    "ax.set_ylabel(\"time\")\n",
    "plt.show()"
   ]
  }
 ],
 "metadata": {
  "date": 1710383116.1570303,
  "filename": "opt_savings_2.md",
  "kernelspec": {
   "display_name": "Python",
   "language": "python3",
   "name": "python3"
  },
  "title": "Optimal Savings II: Alternative Algorithms"
 },
 "nbformat": 4,
 "nbformat_minor": 5
}