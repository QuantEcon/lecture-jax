{
 "cells": [
  {
   "cell_type": "markdown",
   "id": "86c1eb1c",
   "metadata": {},
   "source": [
    "# Optimal Investment"
   ]
  },
  {
   "cell_type": "markdown",
   "id": "1e8dbe9e",
   "metadata": {},
   "source": [
    "# GPU\n",
    "\n",
    "This lecture was built using [hardware](https://jax.quantecon.org/status.html#status-machine-details) that has access to a GPU.\n",
    "\n",
    "To run this lecture on [Google Colab](https://colab.research.google.com/), click on the “play” icon top right, select Colab, and set the runtime environment to include a GPU.\n",
    "\n",
    "To run this lecture on your own machine, you need to install [Google JAX](https://github.com/google/jax).\n",
    "\n",
    "We require the following library to be installed."
   ]
  },
  {
   "cell_type": "code",
   "execution_count": null,
   "id": "92e4afca",
   "metadata": {
    "hide-output": false
   },
   "outputs": [],
   "source": [
    "!pip install --upgrade quantecon"
   ]
  },
  {
   "cell_type": "markdown",
   "id": "83134d22",
   "metadata": {},
   "source": [
    "A monopolist faces inverse demand\n",
    "curve\n",
    "\n",
    "$$\n",
    "P_t = a_0 - a_1 Y_t + Z_t,\n",
    "$$\n",
    "\n",
    "where\n",
    "\n",
    "- $ P_t $ is price,  \n",
    "- $ Y_t $ is output and  \n",
    "- $ Z_t $ is a demand shock.  \n",
    "\n",
    "\n",
    "We assume that $ Z_t $ is a discretized AR(1) process.\n",
    "\n",
    "Current profits are\n",
    "\n",
    "$$\n",
    "P_t Y_t - c Y_t - \\gamma (Y_{t+1} - Y_t)^2\n",
    "$$\n",
    "\n",
    "Combining with the demand curve and writing $ y, y' $ for $ Y_t, Y_{t+1} $, this becomes\n",
    "\n",
    "$$\n",
    "r(y, z, y') := (a_0 - a_1  y + z - c) y - γ  (y' - y)^2\n",
    "$$\n",
    "\n",
    "The firm maximizes present value of expected discounted profits.  The Bellman equation is\n",
    "\n",
    "$$\n",
    "v(y, z) = \\max_{y'} \\left\\{ r(y, z, y') + β \\sum_{z'} v(y', z') Q(z, z') \\right\\}.\n",
    "$$\n",
    "\n",
    "We discretize $ y $ to a finite grid `y_grid`.\n",
    "\n",
    "In essence, the firm tries to choose output close to the monopolist profit maximizer, given $ Z_t $, but is constrained by adjustment costs.\n",
    "\n",
    "Let’s begin with the following imports"
   ]
  },
  {
   "cell_type": "code",
   "execution_count": null,
   "id": "62940abb",
   "metadata": {
    "hide-output": false
   },
   "outputs": [],
   "source": [
    "import quantecon as qe\n",
    "import jax\n",
    "import jax.numpy as jnp\n",
    "import matplotlib.pyplot as plt"
   ]
  },
  {
   "cell_type": "markdown",
   "id": "ae30799a",
   "metadata": {},
   "source": [
    "Let’s check the GPU we are running"
   ]
  },
  {
   "cell_type": "code",
   "execution_count": null,
   "id": "6dbc137c",
   "metadata": {
    "hide-output": false
   },
   "outputs": [],
   "source": [
    "!nvidia-smi"
   ]
  },
  {
   "cell_type": "markdown",
   "id": "1e18ad73",
   "metadata": {},
   "source": [
    "We will use 64 bit floats with JAX in order to increase the precision."
   ]
  },
  {
   "cell_type": "code",
   "execution_count": null,
   "id": "76b6f28b",
   "metadata": {
    "hide-output": false
   },
   "outputs": [],
   "source": [
    "jax.config.update(\"jax_enable_x64\", True)"
   ]
  },
  {
   "cell_type": "markdown",
   "id": "23817f6e",
   "metadata": {},
   "source": [
    "We need the following successive approximation function."
   ]
  },
  {
   "cell_type": "code",
   "execution_count": null,
   "id": "98c1997d",
   "metadata": {
    "hide-output": false
   },
   "outputs": [],
   "source": [
    "def successive_approx(T,                     # Operator (callable)\n",
    "                      x_0,                   # Initial condition\n",
    "                      tolerance=1e-6,        # Error tolerance\n",
    "                      max_iter=10_000,       # Max iteration bound\n",
    "                      print_step=25,         # Print at multiples\n",
    "                      verbose=False):\n",
    "    x = x_0\n",
    "    error = tolerance + 1\n",
    "    k = 1\n",
    "    while error > tolerance and k <= max_iter:\n",
    "        x_new = T(x)\n",
    "        error = jnp.max(jnp.abs(x_new - x))\n",
    "        if verbose and k % print_step == 0:\n",
    "            print(f\"Completed iteration {k} with error {error}.\")\n",
    "        x = x_new\n",
    "        k += 1\n",
    "    if error > tolerance:\n",
    "        print(f\"Warning: Iteration hit upper bound {max_iter}.\")\n",
    "    elif verbose:\n",
    "        print(f\"Terminated successfully in {k} iterations.\")\n",
    "    return x"
   ]
  },
  {
   "cell_type": "markdown",
   "id": "4a326872",
   "metadata": {},
   "source": [
    "Let’s define a function to create an investment model using the given parameters."
   ]
  },
  {
   "cell_type": "code",
   "execution_count": null,
   "id": "57d9eeb4",
   "metadata": {
    "hide-output": false
   },
   "outputs": [],
   "source": [
    "def create_investment_model(\n",
    "        r=0.01,                              # Interest rate\n",
    "        a_0=10.0, a_1=1.0,                   # Demand parameters\n",
    "        γ=25.0, c=1.0,                       # Adjustment and unit cost\n",
    "        y_min=0.0, y_max=20.0, y_size=100,   # Grid for output\n",
    "        ρ=0.9, ν=1.0,                        # AR(1) parameters\n",
    "        z_size=150):                         # Grid size for shock\n",
    "    \"\"\"\n",
    "    A function that takes in parameters and returns an instance of Model that\n",
    "    contains data for the investment problem.\n",
    "    \"\"\"\n",
    "    β = 1 / (1 + r)\n",
    "    y_grid = jnp.linspace(y_min, y_max, y_size)\n",
    "    mc = qe.tauchen(z_size, ρ, ν)\n",
    "    z_grid, Q = mc.state_values, mc.P\n",
    "\n",
    "    # Break up parameters into static and nonstatic components\n",
    "    constants = β, a_0, a_1, γ, c\n",
    "    sizes = y_size, z_size\n",
    "    arrays = y_grid, z_grid, Q\n",
    "\n",
    "    # Shift arrays to the device (e.g., GPU)\n",
    "    arrays = tuple(map(jax.device_put, arrays))\n",
    "    return constants, sizes, arrays"
   ]
  },
  {
   "cell_type": "markdown",
   "id": "38a1e304",
   "metadata": {},
   "source": [
    "Let’s re-write the vectorized version of the right-hand side of the\n",
    "Bellman equation (before maximization), which is a 3D array representing:\n",
    "\n",
    "$$\n",
    "B(y, z, y') = r(y, z, y') + \\beta \\sum_{z'} v(y', z') Q(z, z')\n",
    "$$\n",
    "\n",
    "for all $ (y, z, y') $."
   ]
  },
  {
   "cell_type": "code",
   "execution_count": null,
   "id": "67056b2a",
   "metadata": {
    "hide-output": false
   },
   "outputs": [],
   "source": [
    "def B(v, constants, sizes, arrays):\n",
    "    \"\"\"\n",
    "    A vectorized version of the right-hand side of the Bellman equation\n",
    "    (before maximization)\n",
    "    \"\"\"\n",
    "\n",
    "    # Unpack\n",
    "    β, a_0, a_1, γ, c = constants\n",
    "    y_size, z_size = sizes\n",
    "    y_grid, z_grid, Q = arrays\n",
    "\n",
    "    # Compute current rewards r(y, z, yp) as array r[i, j, ip]\n",
    "    y  = jnp.reshape(y_grid, (y_size, 1, 1))    # y[i]   ->  y[i, j, ip]\n",
    "    z  = jnp.reshape(z_grid, (1, z_size, 1))    # z[j]   ->  z[i, j, ip]\n",
    "    yp = jnp.reshape(y_grid, (1, 1, y_size))    # yp[ip] -> yp[i, j, ip]\n",
    "    r = (a_0 - a_1 * y + z - c) * y - γ * (yp - y)**2\n",
    "\n",
    "    # Calculate continuation rewards at all combinations of (y, z, yp)\n",
    "    v = jnp.reshape(v, (1, 1, y_size, z_size))  # v[ip, jp] -> v[i, j, ip, jp]\n",
    "    Q = jnp.reshape(Q, (1, z_size, 1, z_size))  # Q[j, jp]  -> Q[i, j, ip, jp]\n",
    "    EV = jnp.sum(v * Q, axis=3)                 # sum over last index jp\n",
    "\n",
    "    # Compute the right-hand side of the Bellman equation\n",
    "    return r + β * EV\n",
    "\n",
    "# Create a jitted function\n",
    "B = jax.jit(B, static_argnums=(2,))"
   ]
  },
  {
   "cell_type": "markdown",
   "id": "36b2a6bd",
   "metadata": {},
   "source": [
    "Define a function to compute the current rewards given policy $ \\sigma $."
   ]
  },
  {
   "cell_type": "code",
   "execution_count": null,
   "id": "5752e65a",
   "metadata": {
    "hide-output": false
   },
   "outputs": [],
   "source": [
    "def compute_r_σ(σ, constants, sizes, arrays):\n",
    "    \"\"\"\n",
    "    Compute the array r_σ[i, j] = r[i, j, σ[i, j]], which gives current\n",
    "    rewards given policy σ.\n",
    "    \"\"\"\n",
    "\n",
    "    # Unpack model\n",
    "    β, a_0, a_1, γ, c = constants\n",
    "    y_size, z_size = sizes\n",
    "    y_grid, z_grid, Q = arrays\n",
    "\n",
    "    # Compute r_σ[i, j]\n",
    "    y = jnp.reshape(y_grid, (y_size, 1))\n",
    "    z = jnp.reshape(z_grid, (1, z_size))\n",
    "    yp = y_grid[σ]\n",
    "    r_σ = (a_0 - a_1 * y + z - c) * y - γ * (yp - y)**2\n",
    "\n",
    "    return r_σ\n",
    "\n",
    "\n",
    "# Create the jitted function\n",
    "compute_r_σ = jax.jit(compute_r_σ, static_argnums=(2,))"
   ]
  },
  {
   "cell_type": "markdown",
   "id": "435ca8b1",
   "metadata": {},
   "source": [
    "Define the Bellman operator."
   ]
  },
  {
   "cell_type": "code",
   "execution_count": null,
   "id": "1ed1be70",
   "metadata": {
    "hide-output": false
   },
   "outputs": [],
   "source": [
    "def T(v, constants, sizes, arrays):\n",
    "    \"\"\"The Bellman operator.\"\"\"\n",
    "    return jnp.max(B(v, constants, sizes, arrays), axis=2)\n",
    "\n",
    "T = jax.jit(T, static_argnums=(2,))"
   ]
  },
  {
   "cell_type": "markdown",
   "id": "baf9fee5",
   "metadata": {},
   "source": [
    "The following function computes a v-greedy policy."
   ]
  },
  {
   "cell_type": "code",
   "execution_count": null,
   "id": "28f401e8",
   "metadata": {
    "hide-output": false
   },
   "outputs": [],
   "source": [
    "def get_greedy(v, constants, sizes, arrays):\n",
    "    \"Computes a v-greedy policy, returned as a set of indices.\"\n",
    "    return jnp.argmax(B(v, constants, sizes, arrays), axis=2)\n",
    "\n",
    "get_greedy = jax.jit(get_greedy, static_argnums=(2,))"
   ]
  },
  {
   "cell_type": "markdown",
   "id": "78a1c3b1",
   "metadata": {},
   "source": [
    "Define the $ \\sigma $-policy operator."
   ]
  },
  {
   "cell_type": "code",
   "execution_count": null,
   "id": "f48aee1b",
   "metadata": {
    "hide-output": false
   },
   "outputs": [],
   "source": [
    "def T_σ(v, σ, constants, sizes, arrays):\n",
    "    \"\"\"The σ-policy operator.\"\"\"\n",
    "\n",
    "    # Unpack model\n",
    "    β, a_0, a_1, γ, c = constants\n",
    "    y_size, z_size = sizes\n",
    "    y_grid, z_grid, Q = arrays\n",
    "\n",
    "    r_σ = compute_r_σ(σ, constants, sizes, arrays)\n",
    "\n",
    "    # Compute the array v[σ[i, j], jp]\n",
    "    zp_idx = jnp.arange(z_size)\n",
    "    zp_idx = jnp.reshape(zp_idx, (1, 1, z_size))\n",
    "    σ = jnp.reshape(σ, (y_size, z_size, 1))\n",
    "    V = v[σ, zp_idx]\n",
    "\n",
    "    # Convert Q[j, jp] to Q[i, j, jp]\n",
    "    Q = jnp.reshape(Q, (1, z_size, z_size))\n",
    "\n",
    "    # Calculate the expected sum Σ_jp v[σ[i, j], jp] * Q[i, j, jp]\n",
    "    Ev = jnp.sum(V * Q, axis=2)\n",
    "\n",
    "    return r_σ + β * Ev\n",
    "\n",
    "T_σ = jax.jit(T_σ, static_argnums=(3,))"
   ]
  },
  {
   "cell_type": "markdown",
   "id": "835ce504",
   "metadata": {},
   "source": [
    "Next, we want to computes the lifetime value of following policy $ \\sigma $.\n",
    "\n",
    "The basic problem is to solve the linear system\n",
    "\n",
    "$$\n",
    "v(y, z) = r(y, z, \\sigma(y, z)) + \\beta \\sum_{z'} v(\\sigma(y, z), z') Q(z, z)\n",
    "$$\n",
    "\n",
    "for $ v $.\n",
    "\n",
    "It turns out to be helpful to rewrite this as\n",
    "\n",
    "$$\n",
    "v(y, z) = r(y, z, \\sigma(y, z)) + \\beta \\sum_{y', z'} v(y', z') P_\\sigma(y, z, y', z')\n",
    "$$\n",
    "\n",
    "where $ P_\\sigma(y, z, y', z') = 1\\{y' = \\sigma(y, z)\\} Q(z, z') $.\n",
    "\n",
    "We want to write this as $ v = r_\\sigma + \\beta P_\\sigma v $ and then solve for $ v $\n",
    "\n",
    "Note, however, that $ v $ is a multi-index array, rather than a vector.\n",
    "\n",
    "The value $ v_{\\sigma} $ of a policy $ \\sigma $ is defined as\n",
    "\n",
    "$$\n",
    "v_{\\sigma} = (I - \\beta P_{\\sigma})^{-1} r_{\\sigma}\n",
    "$$\n",
    "\n",
    "Here we set up the linear map $ v \\mapsto R_{\\sigma} v $,\n",
    "\n",
    "where $ R_{\\sigma} := I - \\beta P_{\\sigma} $\n",
    "\n",
    "In the investment problem, this map can be expressed as\n",
    "\n",
    "$$\n",
    "(R_{\\sigma} v)(y, z) = v(y, z) - \\beta \\sum_{z'} v(\\sigma(y, z), z') Q(z, z')\n",
    "$$\n",
    "\n",
    "Defining the map as above works in a more intuitive multi-index setting\n",
    "(e.g. working with $ v[i, j] $ rather than flattening v to a one-dimensional\n",
    "array) and avoids instantiating the large matrix $ P_{\\sigma} $.\n",
    "\n",
    "Let’s define the function $ R_{\\sigma} $."
   ]
  },
  {
   "cell_type": "code",
   "execution_count": null,
   "id": "ff76a53e",
   "metadata": {
    "hide-output": false
   },
   "outputs": [],
   "source": [
    "def R_σ(v, σ, constants, sizes, arrays):\n",
    "\n",
    "    β, a_0, a_1, γ, c = constants\n",
    "    y_size, z_size = sizes\n",
    "    y_grid, z_grid, Q = arrays\n",
    "\n",
    "    # Set up the array v[σ[i, j], jp]\n",
    "    zp_idx = jnp.arange(z_size)\n",
    "    zp_idx = jnp.reshape(zp_idx, (1, 1, z_size))\n",
    "    σ = jnp.reshape(σ, (y_size, z_size, 1))\n",
    "    V = v[σ, zp_idx]\n",
    "\n",
    "    # Expand Q[j, jp] to Q[i, j, jp]\n",
    "    Q = jnp.reshape(Q, (1, z_size, z_size))\n",
    "\n",
    "    # Compute and return v[i, j] - β Σ_jp v[σ[i, j], jp] * Q[j, jp]\n",
    "    return v - β * jnp.sum(V * Q, axis=2)\n",
    "\n",
    "R_σ = jax.jit(R_σ, static_argnums=(3,))"
   ]
  },
  {
   "cell_type": "markdown",
   "id": "1556eef7",
   "metadata": {},
   "source": [
    "Define a function to get the value $ v_{\\sigma} $ of policy\n",
    "$ \\sigma $ by inverting the linear map $ R_{\\sigma} $."
   ]
  },
  {
   "cell_type": "code",
   "execution_count": null,
   "id": "2d34368a",
   "metadata": {
    "hide-output": false
   },
   "outputs": [],
   "source": [
    "def get_value(σ, constants, sizes, arrays):\n",
    "\n",
    "    # Unpack\n",
    "    β, a_0, a_1, γ, c = constants\n",
    "    y_size, z_size = sizes\n",
    "    y_grid, z_grid, Q = arrays\n",
    "\n",
    "    r_σ = compute_r_σ(σ, constants, sizes, arrays)\n",
    "\n",
    "    # Reduce R_σ to a function in v\n",
    "    partial_R_σ = lambda v: R_σ(v, σ, constants, sizes, arrays)\n",
    "\n",
    "    return jax.scipy.sparse.linalg.bicgstab(partial_R_σ, r_σ)[0]\n",
    "\n",
    "get_value = jax.jit(get_value, static_argnums=(2,))"
   ]
  },
  {
   "cell_type": "markdown",
   "id": "693c46e8",
   "metadata": {},
   "source": [
    "Now we define the solvers, which implement VFI, HPI and OPI."
   ]
  },
  {
   "cell_type": "code",
   "execution_count": null,
   "id": "608c77d1",
   "metadata": {
    "hide-output": false
   },
   "outputs": [],
   "source": [
    "# Implements VFI-Value Function iteration\n",
    "\n",
    "def value_iteration(model, tol=1e-5):\n",
    "    constants, sizes, arrays = model\n",
    "    _T = lambda v: T(v, constants, sizes, arrays)\n",
    "    vz = jnp.zeros(sizes)\n",
    "\n",
    "    v_star = successive_approx(_T, vz, tolerance=tol)\n",
    "    return get_greedy(v_star, constants, sizes, arrays)"
   ]
  },
  {
   "cell_type": "code",
   "execution_count": null,
   "id": "8772de89",
   "metadata": {
    "hide-output": false
   },
   "outputs": [],
   "source": [
    "# Implements HPI-Howard policy iteration routine\n",
    "\n",
    "def policy_iteration(model, maxiter=250):\n",
    "    constants, sizes, arrays = model\n",
    "    σ = jnp.zeros(sizes, dtype=int)\n",
    "    i, error = 0, 1.0\n",
    "    while error > 0 and i < maxiter:\n",
    "        v_σ = get_value(σ, constants, sizes, arrays)\n",
    "        σ_new = get_greedy(v_σ, constants, sizes, arrays)\n",
    "        error = jnp.max(jnp.abs(σ_new - σ))\n",
    "        σ = σ_new\n",
    "        i = i + 1\n",
    "        print(f\"Concluded loop {i} with error {error}.\")\n",
    "    return σ"
   ]
  },
  {
   "cell_type": "code",
   "execution_count": null,
   "id": "62dcd85c",
   "metadata": {
    "hide-output": false
   },
   "outputs": [],
   "source": [
    "# Implements the OPI-Optimal policy Iteration routine\n",
    "\n",
    "def optimistic_policy_iteration(model, tol=1e-5, m=10):\n",
    "    constants, sizes, arrays = model\n",
    "    v = jnp.zeros(sizes)\n",
    "    error = tol + 1\n",
    "    while error > tol:\n",
    "        last_v = v\n",
    "        σ = get_greedy(v, constants, sizes, arrays)\n",
    "        for _ in range(m):\n",
    "            v = T_σ(v, σ, constants, sizes, arrays)\n",
    "        error = jnp.max(jnp.abs(v - last_v))\n",
    "    return get_greedy(v, constants, sizes, arrays)"
   ]
  },
  {
   "cell_type": "code",
   "execution_count": null,
   "id": "2272c682",
   "metadata": {
    "hide-output": false
   },
   "outputs": [],
   "source": [
    "model = create_investment_model()\n",
    "print(\"Starting HPI.\")\n",
    "qe.tic()\n",
    "out = policy_iteration(model)\n",
    "elapsed = qe.toc()\n",
    "print(out)\n",
    "print(f\"HPI completed in {elapsed} seconds.\")"
   ]
  },
  {
   "cell_type": "code",
   "execution_count": null,
   "id": "ec22b1cc",
   "metadata": {
    "hide-output": false
   },
   "outputs": [],
   "source": [
    "print(\"Starting VFI.\")\n",
    "qe.tic()\n",
    "out = value_iteration(model)\n",
    "elapsed = qe.toc()\n",
    "print(out)\n",
    "print(f\"VFI completed in {elapsed} seconds.\")"
   ]
  },
  {
   "cell_type": "code",
   "execution_count": null,
   "id": "a8bb9b8c",
   "metadata": {
    "hide-output": false
   },
   "outputs": [],
   "source": [
    "print(\"Starting OPI.\")\n",
    "qe.tic()\n",
    "out = optimistic_policy_iteration(model, m=100)\n",
    "elapsed = qe.toc()\n",
    "print(out)\n",
    "print(f\"OPI completed in {elapsed} seconds.\")"
   ]
  },
  {
   "cell_type": "markdown",
   "id": "c4d8009c",
   "metadata": {},
   "source": [
    "Here’s the plot of the Howard policy, as a function of $ y $ at the highest and lowest values of $ z $."
   ]
  },
  {
   "cell_type": "code",
   "execution_count": null,
   "id": "8bf232da",
   "metadata": {
    "hide-output": false
   },
   "outputs": [],
   "source": [
    "model = create_investment_model()\n",
    "constants, sizes, arrays = model\n",
    "β, a_0, a_1, γ, c = constants\n",
    "y_size, z_size = sizes\n",
    "y_grid, z_grid, Q = arrays"
   ]
  },
  {
   "cell_type": "code",
   "execution_count": null,
   "id": "1a567f00",
   "metadata": {
    "hide-output": false
   },
   "outputs": [],
   "source": [
    "σ_star = policy_iteration(model)\n",
    "\n",
    "fig, ax = plt.subplots(figsize=(9, 5))\n",
    "ax.plot(y_grid, y_grid, \"k--\", label=\"45\")\n",
    "ax.plot(y_grid, y_grid[σ_star[:, 1]], label=\"$\\\\sigma^*(\\cdot, z_1)$\")\n",
    "ax.plot(y_grid, y_grid[σ_star[:, -1]], label=\"$\\\\sigma^*(\\cdot, z_N)$\")\n",
    "ax.legend(fontsize=12)\n",
    "plt.show()"
   ]
  },
  {
   "cell_type": "markdown",
   "id": "2dba2218",
   "metadata": {},
   "source": [
    "Let’s plot the time taken by each of the solvers and compare them."
   ]
  },
  {
   "cell_type": "code",
   "execution_count": null,
   "id": "df3fb73a",
   "metadata": {
    "hide-output": false
   },
   "outputs": [],
   "source": [
    "m_vals = range(5, 3000, 100)"
   ]
  },
  {
   "cell_type": "code",
   "execution_count": null,
   "id": "cff8f143",
   "metadata": {
    "hide-output": false
   },
   "outputs": [],
   "source": [
    "model = create_investment_model()\n",
    "print(\"Running Howard policy iteration.\")\n",
    "qe.tic()\n",
    "σ_pi = policy_iteration(model)\n",
    "pi_time = qe.toc()"
   ]
  },
  {
   "cell_type": "code",
   "execution_count": null,
   "id": "651e6210",
   "metadata": {
    "hide-output": false
   },
   "outputs": [],
   "source": [
    "print(f\"PI completed in {pi_time} seconds.\")\n",
    "print(\"Running value function iteration.\")\n",
    "qe.tic()\n",
    "σ_vfi = value_iteration(model, tol=1e-5)\n",
    "vfi_time = qe.toc()\n",
    "print(f\"VFI completed in {vfi_time} seconds.\")"
   ]
  },
  {
   "cell_type": "code",
   "execution_count": null,
   "id": "e9d90acc",
   "metadata": {
    "hide-output": false
   },
   "outputs": [],
   "source": [
    "opi_times = []\n",
    "for m in m_vals:\n",
    "    print(f\"Running optimistic policy iteration with m={m}.\")\n",
    "    qe.tic()\n",
    "    σ_opi = optimistic_policy_iteration(model, m=m, tol=1e-5)\n",
    "    opi_time = qe.toc()\n",
    "    print(f\"OPI with m={m} completed in {opi_time} seconds.\")\n",
    "    opi_times.append(opi_time)"
   ]
  },
  {
   "cell_type": "code",
   "execution_count": null,
   "id": "3a19b08b",
   "metadata": {
    "hide-output": false
   },
   "outputs": [],
   "source": [
    "fig, ax = plt.subplots(figsize=(9, 5))\n",
    "ax.plot(m_vals, jnp.full(len(m_vals), pi_time),\n",
    "        lw=2, label=\"Howard policy iteration\")\n",
    "ax.plot(m_vals, jnp.full(len(m_vals), vfi_time),\n",
    "        lw=2, label=\"value function iteration\")\n",
    "ax.plot(m_vals, opi_times, lw=2, label=\"optimistic policy iteration\")\n",
    "ax.legend(fontsize=12, frameon=False)\n",
    "ax.set_xlabel(\"$m$\", fontsize=12)\n",
    "ax.set_ylabel(\"time(s)\", fontsize=12)\n",
    "plt.show()"
   ]
  }
 ],
 "metadata": {
  "date": 1694314248.231062,
  "filename": "opt_invest.md",
  "kernelspec": {
   "display_name": "Python",
   "language": "python3",
   "name": "python3"
  },
  "title": "Optimal Investment"
 },
 "nbformat": 4,
 "nbformat_minor": 5
}